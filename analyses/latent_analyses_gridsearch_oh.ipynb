{
 "cells": [
  {
   "cell_type": "markdown",
   "id": "senior-neighbor",
   "metadata": {},
   "source": [
    "# Latent space analyses dummy beta-VAE"
   ]
  },
  {
   "cell_type": "code",
   "execution_count": 1,
   "id": "primary-burning",
   "metadata": {},
   "outputs": [],
   "source": [
    "import os\n",
    "import glob\n",
    "import sys\n",
    "\n",
    "p = os.path.abspath('../')\n",
    "if p not in sys.path:\n",
    "    sys.path.append(p)\n",
    "    \n",
    "q = os.path.abspath('../../')\n",
    "if q not in sys.path:\n",
    "    sys.path.append(q)\n",
    "\n",
    "import moving_averages as ma\n",
    "import colorado as cld\n",
    "import dico_toolbox as dtx\n",
    "from tqdm import tqdm\n",
    "import re\n",
    "import umap\n",
    "\n",
    "import pandas as pd\n",
    "import numpy as np\n",
    "from scipy.spatial import distance\n",
    "\n",
    "import plotly.graph_objects as go\n",
    "import pickle\n",
    "import matplotlib.pyplot as plt\n",
    "import json\n",
    "\n",
    "from soma import aims\n",
    "\n",
    "from preprocess import SkeletonDataset\n",
    "from load_data import create_subset\n",
    "import torch\n",
    "from vae import *\n",
    "\n",
    "from sklearn.cluster import KMeans, SpectralClustering, AffinityPropagation\n",
    "from sklearn import metrics\n",
    "from sklearn.neighbors import NearestNeighbors\n",
    "from sklearn.svm import OneClassSVM\n",
    "from sklearn.model_selection import StratifiedKFold\n",
    "from sklearn.linear_model import LogisticRegression\n",
    "from sklearn.svm import LinearSVC\n",
    "from sklearn.ensemble import GradientBoostingClassifier\n",
    "\n",
    "import matplotlib.cm as cm\n",
    "\n",
    "from config import Config"
   ]
  },
  {
   "cell_type": "code",
   "execution_count": 2,
   "id": "anticipated-abraham",
   "metadata": {},
   "outputs": [],
   "source": [
    "path = '/neurospin/dico/data/deep_folding/current/crops/SC/mask/sulcus_based/2mm/Rcrops/'"
   ]
  },
  {
   "cell_type": "code",
   "execution_count": 3,
   "id": "banner-transcript",
   "metadata": {},
   "outputs": [],
   "source": [
    "if torch.cuda.is_available():\n",
    "    device = \"cuda:0\""
   ]
  },
  {
   "cell_type": "markdown",
   "id": "expensive-collaboration",
   "metadata": {},
   "source": [
    "#### Gridsearch analysis"
   ]
  },
  {
   "cell_type": "code",
   "execution_count": 114,
   "id": "structured-favor",
   "metadata": {
    "scrolled": true
   },
   "outputs": [],
   "source": [
    "grid_dict = {}\n",
    "grid_dir = '/neurospin/dico/lguillon/miccai_22/gridsearch_oh/'\n",
    "for folder in os.listdir(grid_dir):\n",
    "    if 'n_' in folder:\n",
    "        if os.path.isfile(os.path.join(grid_dir, folder, 'results_test.json')):\n",
    "            n = re.search('n_([\\d]{1,3})', folder).group(1)\n",
    "            kl = re.search('kl_([\\d]{1,2})', folder).group(1)\n",
    "            with open(os.path.join(grid_dir, folder, 'results_test.json'), 'r') as f:\n",
    "                grid_dict[(int(n), int(kl))] = json.load(f)"
   ]
  },
  {
   "cell_type": "code",
   "execution_count": 115,
   "id": "brazilian-ottawa",
   "metadata": {},
   "outputs": [],
   "source": [
    "n_list = [list(grid_dict.keys())[k][0] for k in range(len(grid_dict))]\n",
    "kl_list = [list(grid_dict.keys())[k][1] for k in range(len(grid_dict))]\n",
    "gb_list = [[grid_dict[(n_list[k], kl_list[k])] for k in range(len(n_list))][i]['gb'] for i in range(len(grid_dict))]\n",
    "logreg_list = [[grid_dict[(n_list[k], kl_list[k])] for k in range(len(n_list))][i]['logreg'] for i in range(len(grid_dict))]\n",
    "svm_list = [[grid_dict[(n_list[k], kl_list[k])] for k in range(len(n_list))][i]['svm'] for i in range(len(grid_dict))]\n",
    "loss_list = [[grid_dict[(n_list[k], kl_list[k])] for k in range(len(n_list))][i]['final_loss_val'] for i in range(len(grid_dict))]"
   ]
  },
  {
   "cell_type": "code",
   "execution_count": 116,
   "id": "colonial-development",
   "metadata": {},
   "outputs": [],
   "source": [
    "grid_df = pd.DataFrame(list(zip(n_list, kl_list, gb_list, logreg_list, svm_list, loss_list)), columns=['n', 'kl', 'gb', 'logreg','svm', 'loss'])"
   ]
  },
  {
   "cell_type": "code",
   "execution_count": 224,
   "id": "bridal-outline",
   "metadata": {
    "scrolled": true
   },
   "outputs": [
    {
     "data": {
      "text/html": [
       "<div>\n",
       "<style scoped>\n",
       "    .dataframe tbody tr th:only-of-type {\n",
       "        vertical-align: middle;\n",
       "    }\n",
       "\n",
       "    .dataframe tbody tr th {\n",
       "        vertical-align: top;\n",
       "    }\n",
       "\n",
       "    .dataframe thead th {\n",
       "        text-align: right;\n",
       "    }\n",
       "</style>\n",
       "<table border=\"1\" class=\"dataframe\">\n",
       "  <thead>\n",
       "    <tr style=\"text-align: right;\">\n",
       "      <th></th>\n",
       "      <th>n</th>\n",
       "      <th>kl</th>\n",
       "      <th>gb</th>\n",
       "      <th>logreg</th>\n",
       "      <th>svm</th>\n",
       "      <th>loss</th>\n",
       "    </tr>\n",
       "  </thead>\n",
       "  <tbody>\n",
       "    <tr>\n",
       "      <th>8</th>\n",
       "      <td>75</td>\n",
       "      <td>8</td>\n",
       "      <td>0.581436</td>\n",
       "      <td>0.751890</td>\n",
       "      <td>0.667701</td>\n",
       "      <td>[31138.365641276043]</td>\n",
       "    </tr>\n",
       "    <tr>\n",
       "      <th>1</th>\n",
       "      <td>40</td>\n",
       "      <td>4</td>\n",
       "      <td>0.715771</td>\n",
       "      <td>0.682141</td>\n",
       "      <td>0.616057</td>\n",
       "      <td>[31557.959147135418]</td>\n",
       "    </tr>\n",
       "    <tr>\n",
       "      <th>5</th>\n",
       "      <td>40</td>\n",
       "      <td>2</td>\n",
       "      <td>0.672442</td>\n",
       "      <td>0.662563</td>\n",
       "      <td>0.621826</td>\n",
       "      <td>[30858.25656467014]</td>\n",
       "    </tr>\n",
       "    <tr>\n",
       "      <th>18</th>\n",
       "      <td>20</td>\n",
       "      <td>4</td>\n",
       "      <td>0.498734</td>\n",
       "      <td>0.650194</td>\n",
       "      <td>0.684381</td>\n",
       "      <td>[30812.286675347223]</td>\n",
       "    </tr>\n",
       "    <tr>\n",
       "      <th>3</th>\n",
       "      <td>20</td>\n",
       "      <td>2</td>\n",
       "      <td>0.603893</td>\n",
       "      <td>0.626918</td>\n",
       "      <td>0.542369</td>\n",
       "      <td>[30344.554985894098]</td>\n",
       "    </tr>\n",
       "    <tr>\n",
       "      <th>13</th>\n",
       "      <td>4</td>\n",
       "      <td>8</td>\n",
       "      <td>0.582510</td>\n",
       "      <td>0.617993</td>\n",
       "      <td>0.705250</td>\n",
       "      <td>[32281.12424045139]</td>\n",
       "    </tr>\n",
       "    <tr>\n",
       "      <th>2</th>\n",
       "      <td>10</td>\n",
       "      <td>4</td>\n",
       "      <td>0.656301</td>\n",
       "      <td>0.603211</td>\n",
       "      <td>0.606880</td>\n",
       "      <td>[31258.445909288195]</td>\n",
       "    </tr>\n",
       "    <tr>\n",
       "      <th>11</th>\n",
       "      <td>75</td>\n",
       "      <td>2</td>\n",
       "      <td>0.546605</td>\n",
       "      <td>0.589688</td>\n",
       "      <td>0.578133</td>\n",
       "      <td>[29704.260498046875]</td>\n",
       "    </tr>\n",
       "    <tr>\n",
       "      <th>4</th>\n",
       "      <td>75</td>\n",
       "      <td>4</td>\n",
       "      <td>0.640537</td>\n",
       "      <td>0.586992</td>\n",
       "      <td>0.626207</td>\n",
       "      <td>[30431.391411675348]</td>\n",
       "    </tr>\n",
       "    <tr>\n",
       "      <th>19</th>\n",
       "      <td>40</td>\n",
       "      <td>8</td>\n",
       "      <td>0.642155</td>\n",
       "      <td>0.576035</td>\n",
       "      <td>0.563958</td>\n",
       "      <td>[32236.98855251736]</td>\n",
       "    </tr>\n",
       "    <tr>\n",
       "      <th>0</th>\n",
       "      <td>2</td>\n",
       "      <td>8</td>\n",
       "      <td>0.743106</td>\n",
       "      <td>0.568099</td>\n",
       "      <td>0.615718</td>\n",
       "      <td>[32008.005913628473]</td>\n",
       "    </tr>\n",
       "    <tr>\n",
       "      <th>6</th>\n",
       "      <td>10</td>\n",
       "      <td>2</td>\n",
       "      <td>0.405607</td>\n",
       "      <td>0.566711</td>\n",
       "      <td>0.643824</td>\n",
       "      <td>[31243.05685763889]</td>\n",
       "    </tr>\n",
       "    <tr>\n",
       "      <th>17</th>\n",
       "      <td>2</td>\n",
       "      <td>4</td>\n",
       "      <td>0.474454</td>\n",
       "      <td>0.563958</td>\n",
       "      <td>0.550971</td>\n",
       "      <td>[31799.05126953125]</td>\n",
       "    </tr>\n",
       "    <tr>\n",
       "      <th>10</th>\n",
       "      <td>4</td>\n",
       "      <td>4</td>\n",
       "      <td>0.588930</td>\n",
       "      <td>0.563048</td>\n",
       "      <td>0.596703</td>\n",
       "      <td>[32187.090847439234]</td>\n",
       "    </tr>\n",
       "    <tr>\n",
       "      <th>16</th>\n",
       "      <td>4</td>\n",
       "      <td>2</td>\n",
       "      <td>0.503053</td>\n",
       "      <td>0.563048</td>\n",
       "      <td>0.593040</td>\n",
       "      <td>[32173.469807942707]</td>\n",
       "    </tr>\n",
       "    <tr>\n",
       "      <th>12</th>\n",
       "      <td>10</td>\n",
       "      <td>8</td>\n",
       "      <td>0.646498</td>\n",
       "      <td>0.563048</td>\n",
       "      <td>0.636585</td>\n",
       "      <td>[31655.13880750868]</td>\n",
       "    </tr>\n",
       "    <tr>\n",
       "      <th>20</th>\n",
       "      <td>2</td>\n",
       "      <td>2</td>\n",
       "      <td>0.450549</td>\n",
       "      <td>0.563048</td>\n",
       "      <td>0.606027</td>\n",
       "      <td>[31591.267523871527]</td>\n",
       "    </tr>\n",
       "    <tr>\n",
       "      <th>15</th>\n",
       "      <td>100</td>\n",
       "      <td>2</td>\n",
       "      <td>0.468093</td>\n",
       "      <td>0.555844</td>\n",
       "      <td>0.512403</td>\n",
       "      <td>[29828.399251302082]</td>\n",
       "    </tr>\n",
       "    <tr>\n",
       "      <th>14</th>\n",
       "      <td>20</td>\n",
       "      <td>8</td>\n",
       "      <td>0.614613</td>\n",
       "      <td>0.555112</td>\n",
       "      <td>0.682244</td>\n",
       "      <td>[31524.191297743055]</td>\n",
       "    </tr>\n",
       "    <tr>\n",
       "      <th>9</th>\n",
       "      <td>100</td>\n",
       "      <td>4</td>\n",
       "      <td>0.553896</td>\n",
       "      <td>0.549642</td>\n",
       "      <td>0.541558</td>\n",
       "      <td>[30391.21506076389]</td>\n",
       "    </tr>\n",
       "    <tr>\n",
       "      <th>7</th>\n",
       "      <td>100</td>\n",
       "      <td>8</td>\n",
       "      <td>0.535753</td>\n",
       "      <td>0.532973</td>\n",
       "      <td>0.578755</td>\n",
       "      <td>[31222.857476128473]</td>\n",
       "    </tr>\n",
       "  </tbody>\n",
       "</table>\n",
       "</div>"
      ],
      "text/plain": [
       "      n  kl        gb    logreg       svm                  loss\n",
       "8    75   8  0.581436  0.751890  0.667701  [31138.365641276043]\n",
       "1    40   4  0.715771  0.682141  0.616057  [31557.959147135418]\n",
       "5    40   2  0.672442  0.662563  0.621826   [30858.25656467014]\n",
       "18   20   4  0.498734  0.650194  0.684381  [30812.286675347223]\n",
       "3    20   2  0.603893  0.626918  0.542369  [30344.554985894098]\n",
       "13    4   8  0.582510  0.617993  0.705250   [32281.12424045139]\n",
       "2    10   4  0.656301  0.603211  0.606880  [31258.445909288195]\n",
       "11   75   2  0.546605  0.589688  0.578133  [29704.260498046875]\n",
       "4    75   4  0.640537  0.586992  0.626207  [30431.391411675348]\n",
       "19   40   8  0.642155  0.576035  0.563958   [32236.98855251736]\n",
       "0     2   8  0.743106  0.568099  0.615718  [32008.005913628473]\n",
       "6    10   2  0.405607  0.566711  0.643824   [31243.05685763889]\n",
       "17    2   4  0.474454  0.563958  0.550971   [31799.05126953125]\n",
       "10    4   4  0.588930  0.563048  0.596703  [32187.090847439234]\n",
       "16    4   2  0.503053  0.563048  0.593040  [32173.469807942707]\n",
       "12   10   8  0.646498  0.563048  0.636585   [31655.13880750868]\n",
       "20    2   2  0.450549  0.563048  0.606027  [31591.267523871527]\n",
       "15  100   2  0.468093  0.555844  0.512403  [29828.399251302082]\n",
       "14   20   8  0.614613  0.555112  0.682244  [31524.191297743055]\n",
       "9   100   4  0.553896  0.549642  0.541558   [30391.21506076389]\n",
       "7   100   8  0.535753  0.532973  0.578755  [31222.857476128473]"
      ]
     },
     "execution_count": 224,
     "metadata": {},
     "output_type": "execute_result"
    }
   ],
   "source": [
    "grid_df.sort_values(by=['logreg'], ascending=False)"
   ]
  },
  {
   "cell_type": "code",
   "execution_count": 225,
   "id": "further-elevation",
   "metadata": {},
   "outputs": [
    {
     "data": {
      "text/plain": [
       "0.6666666666666666"
      ]
     },
     "execution_count": 225,
     "metadata": {},
     "output_type": "execute_result"
    }
   ],
   "source": [
    "np.mean([0.58, 0.75, 0.67])"
   ]
  },
  {
   "cell_type": "code",
   "execution_count": 226,
   "id": "massive-spirituality",
   "metadata": {},
   "outputs": [
    {
     "data": {
      "text/plain": [
       "0.6733333333333333"
      ]
     },
     "execution_count": 226,
     "metadata": {},
     "output_type": "execute_result"
    }
   ],
   "source": [
    "np.mean([0.72, 0.68, 0.62])"
   ]
  },
  {
   "cell_type": "markdown",
   "id": "addressed-reviewer",
   "metadata": {},
   "source": [
    "75, 8 et 40, 4"
   ]
  },
  {
   "cell_type": "markdown",
   "id": "posted-ceramic",
   "metadata": {},
   "source": [
    "##### Model"
   ]
  },
  {
   "cell_type": "code",
   "execution_count": 56,
   "id": "dimensional-butterfly",
   "metadata": {},
   "outputs": [],
   "source": [
    "#model_dir = '/neurospin/dico/lguillon/miccai_22/gridsearch/n_2_kl_5/checkpoint.pt'\n",
    "#model_dir = '/neurospin/dico/lguillon/miccai_22/gridsearch_oh/n_40_kl_4/checkpoint.pt'\n",
    "model_dir = '/neurospin/dico/lguillon/miccai_22/analyses_gridsearch_clf/n_75_kl_8/checkpoint.pt'\n",
    "\n",
    "model = VAE((1, 40, 40, 56), 75, depth=3)\n",
    "model.load_state_dict(torch.load(model_dir))\n",
    "model = model.to(device)"
   ]
  },
  {
   "cell_type": "markdown",
   "id": "recreational-graphics",
   "metadata": {},
   "source": [
    "### Loading of subjects' distribution in the latent space"
   ]
  },
  {
   "cell_type": "markdown",
   "id": "focused-valuable",
   "metadata": {},
   "source": [
    "### Train set"
   ]
  },
  {
   "cell_type": "code",
   "execution_count": 119,
   "id": "every-reader",
   "metadata": {},
   "outputs": [],
   "source": [
    "subject_dir = \"/neurospin/dico/lguillon/miccai_22/data/\"\n",
    "data_dir = \"/neurospin/dico/data/deep_folding/current/crops/SC/mask/sulcus_based/2mm/\"\n",
    "\n",
    "test_list = pd.read_csv(os.path.join(subject_dir, \"train_list.csv\"))\n",
    "\n",
    "test_list['subjects'] = test_list['subjects'].astype('str')\n",
    "\n",
    "tmp = pd.read_pickle(os.path.join(data_dir, \"Rskeleton.pkl\")).T\n",
    "#tmp = tmp.rename(columns={0:'subjects'})\n",
    "tmp.index.astype('str')\n",
    "tmp = tmp.rename(columns={0: \"skeleton\"})\n",
    "\n",
    "tmp = tmp.merge(test_list, left_on = tmp.index, right_on='subjects', how='right')\n",
    "\n",
    "filenames_train = list(test_list['subjects'])\n",
    "\n",
    "subset_train = SkeletonDataset(dataframe=tmp, filenames=filenames_train,\n",
    "                        visu_check=False)\n",
    "\n",
    "dataloader_train = torch.utils.data.DataLoader(\n",
    "              subset_train,\n",
    "              batch_size=1,\n",
    "              num_workers=8,\n",
    "              shuffle=True) "
   ]
  },
  {
   "cell_type": "markdown",
   "id": "parliamentary-condition",
   "metadata": {},
   "source": [
    "### Val loader"
   ]
  },
  {
   "cell_type": "code",
   "execution_count": 11,
   "id": "intense-genome",
   "metadata": {},
   "outputs": [],
   "source": [
    "torch.manual_seed(0)\n",
    "train_set, val_set = torch.utils.data.random_split(subset_train,\n",
    "                    [round(0.8*len(subset_train)), round(0.2*len(subset_train))])\n",
    "trainloader = torch.utils.data.DataLoader(\n",
    "          train_set,\n",
    "          batch_size=8,\n",
    "          num_workers=8,\n",
    "          shuffle=True)\n",
    "valloader = torch.utils.data.DataLoader(\n",
    "        val_set,\n",
    "        batch_size=8,\n",
    "        num_workers=8,\n",
    "        shuffle=True)"
   ]
  },
  {
   "cell_type": "markdown",
   "id": "thorough-diamond",
   "metadata": {},
   "source": [
    "##### HCP test set"
   ]
  },
  {
   "cell_type": "code",
   "execution_count": 57,
   "id": "intensive-network",
   "metadata": {},
   "outputs": [],
   "source": [
    "subject_dir = \"/neurospin/dico/lguillon/miccai_22/data/\"\n",
    "data_dir = \"/neurospin/dico/data/deep_folding/current/crops/SC/mask/sulcus_based/2mm/\"\n",
    "\n",
    "test_list = pd.read_csv(os.path.join(subject_dir, \"test_list.csv\"))\n",
    "\n",
    "test_list['subjects'] = test_list['subjects'].astype('str')\n",
    "\n",
    "tmp = pd.read_pickle(os.path.join(data_dir, \"Rskeleton.pkl\")).T\n",
    "#tmp = tmp.rename(columns={0:'subjects'})\n",
    "tmp.index.astype('str')\n",
    "tmp = tmp.rename(columns={0: \"skeleton\"})\n",
    "\n",
    "tmp = tmp.merge(test_list, left_on = tmp.index, right_on='subjects', how='right')\n",
    "\n",
    "filenames_hcp = list(test_list['subjects'])\n",
    "\n",
    "subset = SkeletonDataset(dataframe=tmp, filenames=filenames_hcp,\n",
    "                        visu_check=False)\n",
    "\n",
    "dataloader = torch.utils.data.DataLoader(\n",
    "              subset,\n",
    "              batch_size=1,\n",
    "              num_workers=8,\n",
    "              shuffle=True) "
   ]
  },
  {
   "cell_type": "markdown",
   "id": "billion-payment",
   "metadata": {},
   "source": [
    "##### SC int\n",
    "[111009, 138231, 510225, 199251, 159946, 140319, 212419] "
   ]
  },
  {
   "cell_type": "code",
   "execution_count": 58,
   "id": "incorrect-lawyer",
   "metadata": {
    "scrolled": true
   },
   "outputs": [],
   "source": [
    "subject_dir = \"/neurospin/dico/lguillon/miccai_22/data/\"\n",
    "data_dir = \"/neurospin/dico/data/deep_folding/current/crops/SC/mask/sulcus_based/2mm/\"\n",
    "\n",
    "scint_list = ['111009', '138231', '510225', '199251', '159946', '140319', '212419']\n",
    "scint_df = pd.DataFrame(scint_list, columns=['subjects'])\n",
    "\n",
    "tmp_int = pd.read_pickle(os.path.join(data_dir, \"Rskeleton.pkl\")).T\n",
    "tmp_int = tmp_int.rename(columns={0:'skeleton'})\n",
    "tmp_int.index.astype('str')\n",
    "\n",
    "tmp_int = tmp_int.merge(scint_df, left_on = tmp_int.index, right_on='subjects', how='right')\n",
    "\n",
    "filenames = scint_list\n",
    "\n",
    "subset = SkeletonDataset(dataframe=tmp_int, filenames=filenames, visu_check=False)\n",
    "\n",
    "dataloader_int = torch.utils.data.DataLoader(\n",
    "              subset,\n",
    "              batch_size=1,\n",
    "              num_workers=8,\n",
    "              shuffle=True) "
   ]
  },
  {
   "cell_type": "markdown",
   "id": "frequent-jurisdiction",
   "metadata": {},
   "source": [
    "##### OH"
   ]
  },
  {
   "cell_type": "code",
   "execution_count": 122,
   "id": "romance-jackson",
   "metadata": {
    "scrolled": true
   },
   "outputs": [
    {
     "data": {
      "text/html": [
       "<div>\n",
       "<style scoped>\n",
       "    .dataframe tbody tr th:only-of-type {\n",
       "        vertical-align: middle;\n",
       "    }\n",
       "\n",
       "    .dataframe tbody tr th {\n",
       "        vertical-align: top;\n",
       "    }\n",
       "\n",
       "    .dataframe thead th {\n",
       "        text-align: right;\n",
       "    }\n",
       "</style>\n",
       "<table border=\"1\" class=\"dataframe\">\n",
       "  <thead>\n",
       "    <tr style=\"text-align: right;\">\n",
       "      <th></th>\n",
       "      <th>SubjID</th>\n",
       "      <th>Gender</th>\n",
       "      <th>Age at time of scan</th>\n",
       "      <th>Age at limb loss</th>\n",
       "      <th>Group</th>\n",
       "      <th>Amp. Side</th>\n",
       "      <th>Dominant hand</th>\n",
       "    </tr>\n",
       "  </thead>\n",
       "  <tbody>\n",
       "    <tr>\n",
       "      <th>0</th>\n",
       "      <td>PA01</td>\n",
       "      <td>M</td>\n",
       "      <td>57</td>\n",
       "      <td>20.0</td>\n",
       "      <td>AMP</td>\n",
       "      <td>L</td>\n",
       "      <td>NaN</td>\n",
       "    </tr>\n",
       "    <tr>\n",
       "      <th>1</th>\n",
       "      <td>PA02</td>\n",
       "      <td>F</td>\n",
       "      <td>49</td>\n",
       "      <td>0.0</td>\n",
       "      <td>CONG</td>\n",
       "      <td>L</td>\n",
       "      <td>NaN</td>\n",
       "    </tr>\n",
       "    <tr>\n",
       "      <th>2</th>\n",
       "      <td>PA03</td>\n",
       "      <td>M</td>\n",
       "      <td>59</td>\n",
       "      <td>40.0</td>\n",
       "      <td>AMP</td>\n",
       "      <td>L</td>\n",
       "      <td>NaN</td>\n",
       "    </tr>\n",
       "    <tr>\n",
       "      <th>3</th>\n",
       "      <td>PA04</td>\n",
       "      <td>F</td>\n",
       "      <td>52</td>\n",
       "      <td>0.0</td>\n",
       "      <td>CONG</td>\n",
       "      <td>R</td>\n",
       "      <td>NaN</td>\n",
       "    </tr>\n",
       "    <tr>\n",
       "      <th>4</th>\n",
       "      <td>PA05</td>\n",
       "      <td>M</td>\n",
       "      <td>58</td>\n",
       "      <td>27.0</td>\n",
       "      <td>AMP</td>\n",
       "      <td>L</td>\n",
       "      <td>NaN</td>\n",
       "    </tr>\n",
       "    <tr>\n",
       "      <th>5</th>\n",
       "      <td>PA06</td>\n",
       "      <td>M</td>\n",
       "      <td>53</td>\n",
       "      <td>28.0</td>\n",
       "      <td>AMP</td>\n",
       "      <td>L</td>\n",
       "      <td>NaN</td>\n",
       "    </tr>\n",
       "    <tr>\n",
       "      <th>6</th>\n",
       "      <td>PA07</td>\n",
       "      <td>M</td>\n",
       "      <td>52</td>\n",
       "      <td>0.0</td>\n",
       "      <td>CONG</td>\n",
       "      <td>L</td>\n",
       "      <td>NaN</td>\n",
       "    </tr>\n",
       "    <tr>\n",
       "      <th>7</th>\n",
       "      <td>PA08</td>\n",
       "      <td>M</td>\n",
       "      <td>41</td>\n",
       "      <td>27.0</td>\n",
       "      <td>AMP</td>\n",
       "      <td>R</td>\n",
       "      <td>NaN</td>\n",
       "    </tr>\n",
       "    <tr>\n",
       "      <th>8</th>\n",
       "      <td>PA09</td>\n",
       "      <td>M</td>\n",
       "      <td>48</td>\n",
       "      <td>17.0</td>\n",
       "      <td>AMP</td>\n",
       "      <td>L</td>\n",
       "      <td>NaN</td>\n",
       "    </tr>\n",
       "    <tr>\n",
       "      <th>9</th>\n",
       "      <td>PA10</td>\n",
       "      <td>F</td>\n",
       "      <td>25</td>\n",
       "      <td>0.0</td>\n",
       "      <td>CONG</td>\n",
       "      <td>R</td>\n",
       "      <td>NaN</td>\n",
       "    </tr>\n",
       "    <tr>\n",
       "      <th>10</th>\n",
       "      <td>PA11</td>\n",
       "      <td>M</td>\n",
       "      <td>49</td>\n",
       "      <td>0.0</td>\n",
       "      <td>CONG</td>\n",
       "      <td>L</td>\n",
       "      <td>NaN</td>\n",
       "    </tr>\n",
       "    <tr>\n",
       "      <th>11</th>\n",
       "      <td>PA12</td>\n",
       "      <td>M</td>\n",
       "      <td>37</td>\n",
       "      <td>27.0</td>\n",
       "      <td>AMP</td>\n",
       "      <td>L</td>\n",
       "      <td>NaN</td>\n",
       "    </tr>\n",
       "    <tr>\n",
       "      <th>12</th>\n",
       "      <td>PA13</td>\n",
       "      <td>F</td>\n",
       "      <td>46</td>\n",
       "      <td>38.0</td>\n",
       "      <td>AMP</td>\n",
       "      <td>L</td>\n",
       "      <td>NaN</td>\n",
       "    </tr>\n",
       "    <tr>\n",
       "      <th>13</th>\n",
       "      <td>PA14</td>\n",
       "      <td>F</td>\n",
       "      <td>28</td>\n",
       "      <td>0.0</td>\n",
       "      <td>CONG</td>\n",
       "      <td>L</td>\n",
       "      <td>NaN</td>\n",
       "    </tr>\n",
       "    <tr>\n",
       "      <th>14</th>\n",
       "      <td>PA15</td>\n",
       "      <td>M</td>\n",
       "      <td>64</td>\n",
       "      <td>33.0</td>\n",
       "      <td>AMP</td>\n",
       "      <td>R</td>\n",
       "      <td>NaN</td>\n",
       "    </tr>\n",
       "    <tr>\n",
       "      <th>15</th>\n",
       "      <td>PA16</td>\n",
       "      <td>M</td>\n",
       "      <td>38</td>\n",
       "      <td>0.0</td>\n",
       "      <td>CONG</td>\n",
       "      <td>L</td>\n",
       "      <td>NaN</td>\n",
       "    </tr>\n",
       "    <tr>\n",
       "      <th>16</th>\n",
       "      <td>PA17</td>\n",
       "      <td>F</td>\n",
       "      <td>24</td>\n",
       "      <td>18.0</td>\n",
       "      <td>AMP</td>\n",
       "      <td>R</td>\n",
       "      <td>NaN</td>\n",
       "    </tr>\n",
       "    <tr>\n",
       "      <th>17</th>\n",
       "      <td>PA18</td>\n",
       "      <td>F</td>\n",
       "      <td>27</td>\n",
       "      <td>0.0</td>\n",
       "      <td>CONG</td>\n",
       "      <td>L</td>\n",
       "      <td>NaN</td>\n",
       "    </tr>\n",
       "    <tr>\n",
       "      <th>18</th>\n",
       "      <td>PA19</td>\n",
       "      <td>M</td>\n",
       "      <td>49</td>\n",
       "      <td>37.0</td>\n",
       "      <td>AMP</td>\n",
       "      <td>L</td>\n",
       "      <td>NaN</td>\n",
       "    </tr>\n",
       "    <tr>\n",
       "      <th>19</th>\n",
       "      <td>PA20</td>\n",
       "      <td>M</td>\n",
       "      <td>60</td>\n",
       "      <td>0.0</td>\n",
       "      <td>CONG</td>\n",
       "      <td>L</td>\n",
       "      <td>NaN</td>\n",
       "    </tr>\n",
       "    <tr>\n",
       "      <th>20</th>\n",
       "      <td>PA21</td>\n",
       "      <td>F</td>\n",
       "      <td>34</td>\n",
       "      <td>0.0</td>\n",
       "      <td>CONG</td>\n",
       "      <td>R</td>\n",
       "      <td>NaN</td>\n",
       "    </tr>\n",
       "    <tr>\n",
       "      <th>21</th>\n",
       "      <td>PA22</td>\n",
       "      <td>F</td>\n",
       "      <td>36</td>\n",
       "      <td>0.0</td>\n",
       "      <td>CONG</td>\n",
       "      <td>R</td>\n",
       "      <td>NaN</td>\n",
       "    </tr>\n",
       "    <tr>\n",
       "      <th>22</th>\n",
       "      <td>PA23</td>\n",
       "      <td>F</td>\n",
       "      <td>50</td>\n",
       "      <td>45.0</td>\n",
       "      <td>AMP</td>\n",
       "      <td>L</td>\n",
       "      <td>NaN</td>\n",
       "    </tr>\n",
       "    <tr>\n",
       "      <th>23</th>\n",
       "      <td>PA24</td>\n",
       "      <td>F</td>\n",
       "      <td>41</td>\n",
       "      <td>0.0</td>\n",
       "      <td>CONG</td>\n",
       "      <td>L</td>\n",
       "      <td>NaN</td>\n",
       "    </tr>\n",
       "    <tr>\n",
       "      <th>24</th>\n",
       "      <td>PA25</td>\n",
       "      <td>M</td>\n",
       "      <td>29</td>\n",
       "      <td>24.0</td>\n",
       "      <td>AMP</td>\n",
       "      <td>L</td>\n",
       "      <td>NaN</td>\n",
       "    </tr>\n",
       "    <tr>\n",
       "      <th>25</th>\n",
       "      <td>PA27</td>\n",
       "      <td>M</td>\n",
       "      <td>25</td>\n",
       "      <td>0.0</td>\n",
       "      <td>CONG</td>\n",
       "      <td>L</td>\n",
       "      <td>NaN</td>\n",
       "    </tr>\n",
       "    <tr>\n",
       "      <th>26</th>\n",
       "      <td>PA28</td>\n",
       "      <td>M</td>\n",
       "      <td>34</td>\n",
       "      <td>0.0</td>\n",
       "      <td>CONG</td>\n",
       "      <td>L</td>\n",
       "      <td>NaN</td>\n",
       "    </tr>\n",
       "    <tr>\n",
       "      <th>27</th>\n",
       "      <td>PA29</td>\n",
       "      <td>M</td>\n",
       "      <td>25</td>\n",
       "      <td>18.0</td>\n",
       "      <td>AMP</td>\n",
       "      <td>L</td>\n",
       "      <td>NaN</td>\n",
       "    </tr>\n",
       "    <tr>\n",
       "      <th>28</th>\n",
       "      <td>PA30</td>\n",
       "      <td>M</td>\n",
       "      <td>38</td>\n",
       "      <td>0.0</td>\n",
       "      <td>CONG</td>\n",
       "      <td>L</td>\n",
       "      <td>NaN</td>\n",
       "    </tr>\n",
       "    <tr>\n",
       "      <th>29</th>\n",
       "      <td>PA31</td>\n",
       "      <td>F</td>\n",
       "      <td>49</td>\n",
       "      <td>0.0</td>\n",
       "      <td>CONG</td>\n",
       "      <td>L</td>\n",
       "      <td>NaN</td>\n",
       "    </tr>\n",
       "    <tr>\n",
       "      <th>30</th>\n",
       "      <td>PA32</td>\n",
       "      <td>M</td>\n",
       "      <td>45</td>\n",
       "      <td>20.0</td>\n",
       "      <td>AMP</td>\n",
       "      <td>R</td>\n",
       "      <td>NaN</td>\n",
       "    </tr>\n",
       "    <tr>\n",
       "      <th>31</th>\n",
       "      <td>PA33</td>\n",
       "      <td>M</td>\n",
       "      <td>32</td>\n",
       "      <td>31.0</td>\n",
       "      <td>AMP</td>\n",
       "      <td>L</td>\n",
       "      <td>NaN</td>\n",
       "    </tr>\n",
       "    <tr>\n",
       "      <th>32</th>\n",
       "      <td>PC01</td>\n",
       "      <td>F</td>\n",
       "      <td>70</td>\n",
       "      <td>NaN</td>\n",
       "      <td>CTR</td>\n",
       "      <td>NaN</td>\n",
       "      <td>R</td>\n",
       "    </tr>\n",
       "    <tr>\n",
       "      <th>33</th>\n",
       "      <td>PC02</td>\n",
       "      <td>F</td>\n",
       "      <td>49</td>\n",
       "      <td>NaN</td>\n",
       "      <td>CTR</td>\n",
       "      <td>NaN</td>\n",
       "      <td>R</td>\n",
       "    </tr>\n",
       "    <tr>\n",
       "      <th>34</th>\n",
       "      <td>PC03</td>\n",
       "      <td>M</td>\n",
       "      <td>27</td>\n",
       "      <td>NaN</td>\n",
       "      <td>CTR</td>\n",
       "      <td>NaN</td>\n",
       "      <td>R</td>\n",
       "    </tr>\n",
       "    <tr>\n",
       "      <th>35</th>\n",
       "      <td>PC04</td>\n",
       "      <td>F</td>\n",
       "      <td>36</td>\n",
       "      <td>NaN</td>\n",
       "      <td>CTR</td>\n",
       "      <td>NaN</td>\n",
       "      <td>R</td>\n",
       "    </tr>\n",
       "    <tr>\n",
       "      <th>36</th>\n",
       "      <td>PC05</td>\n",
       "      <td>F</td>\n",
       "      <td>24</td>\n",
       "      <td>NaN</td>\n",
       "      <td>CTR</td>\n",
       "      <td>NaN</td>\n",
       "      <td>R</td>\n",
       "    </tr>\n",
       "    <tr>\n",
       "      <th>37</th>\n",
       "      <td>PC06</td>\n",
       "      <td>M</td>\n",
       "      <td>25</td>\n",
       "      <td>NaN</td>\n",
       "      <td>CTR</td>\n",
       "      <td>NaN</td>\n",
       "      <td>L</td>\n",
       "    </tr>\n",
       "    <tr>\n",
       "      <th>38</th>\n",
       "      <td>PC07</td>\n",
       "      <td>F</td>\n",
       "      <td>52</td>\n",
       "      <td>NaN</td>\n",
       "      <td>CTR</td>\n",
       "      <td>NaN</td>\n",
       "      <td>R</td>\n",
       "    </tr>\n",
       "    <tr>\n",
       "      <th>39</th>\n",
       "      <td>PC08</td>\n",
       "      <td>F</td>\n",
       "      <td>43</td>\n",
       "      <td>NaN</td>\n",
       "      <td>CTR</td>\n",
       "      <td>NaN</td>\n",
       "      <td>R</td>\n",
       "    </tr>\n",
       "    <tr>\n",
       "      <th>40</th>\n",
       "      <td>PC09</td>\n",
       "      <td>M</td>\n",
       "      <td>27</td>\n",
       "      <td>NaN</td>\n",
       "      <td>CTR</td>\n",
       "      <td>NaN</td>\n",
       "      <td>R</td>\n",
       "    </tr>\n",
       "    <tr>\n",
       "      <th>41</th>\n",
       "      <td>PC10</td>\n",
       "      <td>F</td>\n",
       "      <td>38</td>\n",
       "      <td>NaN</td>\n",
       "      <td>CTR</td>\n",
       "      <td>NaN</td>\n",
       "      <td>R</td>\n",
       "    </tr>\n",
       "    <tr>\n",
       "      <th>42</th>\n",
       "      <td>PC11</td>\n",
       "      <td>M</td>\n",
       "      <td>52</td>\n",
       "      <td>NaN</td>\n",
       "      <td>CTR</td>\n",
       "      <td>NaN</td>\n",
       "      <td>L</td>\n",
       "    </tr>\n",
       "    <tr>\n",
       "      <th>43</th>\n",
       "      <td>PC12</td>\n",
       "      <td>M</td>\n",
       "      <td>47</td>\n",
       "      <td>NaN</td>\n",
       "      <td>CTR</td>\n",
       "      <td>NaN</td>\n",
       "      <td>R</td>\n",
       "    </tr>\n",
       "    <tr>\n",
       "      <th>44</th>\n",
       "      <td>PC13</td>\n",
       "      <td>M</td>\n",
       "      <td>41</td>\n",
       "      <td>NaN</td>\n",
       "      <td>CTR</td>\n",
       "      <td>NaN</td>\n",
       "      <td>L</td>\n",
       "    </tr>\n",
       "    <tr>\n",
       "      <th>45</th>\n",
       "      <td>PC14</td>\n",
       "      <td>M</td>\n",
       "      <td>49</td>\n",
       "      <td>NaN</td>\n",
       "      <td>CTR</td>\n",
       "      <td>NaN</td>\n",
       "      <td>R</td>\n",
       "    </tr>\n",
       "    <tr>\n",
       "      <th>46</th>\n",
       "      <td>PC15</td>\n",
       "      <td>M</td>\n",
       "      <td>28</td>\n",
       "      <td>NaN</td>\n",
       "      <td>CTR</td>\n",
       "      <td>NaN</td>\n",
       "      <td>L</td>\n",
       "    </tr>\n",
       "    <tr>\n",
       "      <th>47</th>\n",
       "      <td>PC16</td>\n",
       "      <td>F</td>\n",
       "      <td>32</td>\n",
       "      <td>NaN</td>\n",
       "      <td>CTR</td>\n",
       "      <td>NaN</td>\n",
       "      <td>R</td>\n",
       "    </tr>\n",
       "    <tr>\n",
       "      <th>48</th>\n",
       "      <td>PC17</td>\n",
       "      <td>F</td>\n",
       "      <td>42</td>\n",
       "      <td>NaN</td>\n",
       "      <td>CTR</td>\n",
       "      <td>NaN</td>\n",
       "      <td>L</td>\n",
       "    </tr>\n",
       "    <tr>\n",
       "      <th>49</th>\n",
       "      <td>PC18</td>\n",
       "      <td>M</td>\n",
       "      <td>31</td>\n",
       "      <td>NaN</td>\n",
       "      <td>CTR</td>\n",
       "      <td>NaN</td>\n",
       "      <td>R</td>\n",
       "    </tr>\n",
       "    <tr>\n",
       "      <th>50</th>\n",
       "      <td>PC19</td>\n",
       "      <td>M</td>\n",
       "      <td>44</td>\n",
       "      <td>NaN</td>\n",
       "      <td>CTR</td>\n",
       "      <td>NaN</td>\n",
       "      <td>L</td>\n",
       "    </tr>\n",
       "    <tr>\n",
       "      <th>51</th>\n",
       "      <td>PC20</td>\n",
       "      <td>F</td>\n",
       "      <td>40</td>\n",
       "      <td>NaN</td>\n",
       "      <td>CTR</td>\n",
       "      <td>NaN</td>\n",
       "      <td>R</td>\n",
       "    </tr>\n",
       "    <tr>\n",
       "      <th>52</th>\n",
       "      <td>PC21</td>\n",
       "      <td>M</td>\n",
       "      <td>52</td>\n",
       "      <td>NaN</td>\n",
       "      <td>CTR</td>\n",
       "      <td>NaN</td>\n",
       "      <td>L</td>\n",
       "    </tr>\n",
       "    <tr>\n",
       "      <th>53</th>\n",
       "      <td>PC22</td>\n",
       "      <td>F</td>\n",
       "      <td>62</td>\n",
       "      <td>NaN</td>\n",
       "      <td>CTR</td>\n",
       "      <td>NaN</td>\n",
       "      <td>R</td>\n",
       "    </tr>\n",
       "    <tr>\n",
       "      <th>54</th>\n",
       "      <td>PC23</td>\n",
       "      <td>F</td>\n",
       "      <td>25</td>\n",
       "      <td>NaN</td>\n",
       "      <td>CTR</td>\n",
       "      <td>NaN</td>\n",
       "      <td>R</td>\n",
       "    </tr>\n",
       "    <tr>\n",
       "      <th>55</th>\n",
       "      <td>PC24</td>\n",
       "      <td>M</td>\n",
       "      <td>64</td>\n",
       "      <td>NaN</td>\n",
       "      <td>CTR</td>\n",
       "      <td>NaN</td>\n",
       "      <td>L</td>\n",
       "    </tr>\n",
       "  </tbody>\n",
       "</table>\n",
       "</div>"
      ],
      "text/plain": [
       "   SubjID Gender  Age at time of scan  Age at limb loss Group Amp. Side  \\\n",
       "0    PA01      M                   57              20.0   AMP         L   \n",
       "1    PA02      F                   49               0.0  CONG         L   \n",
       "2    PA03      M                   59              40.0   AMP         L   \n",
       "3    PA04      F                   52               0.0  CONG         R   \n",
       "4    PA05      M                   58              27.0   AMP         L   \n",
       "5    PA06      M                   53              28.0   AMP         L   \n",
       "6    PA07      M                   52               0.0  CONG         L   \n",
       "7    PA08      M                   41              27.0   AMP         R   \n",
       "8    PA09      M                   48              17.0   AMP         L   \n",
       "9    PA10      F                   25               0.0  CONG         R   \n",
       "10   PA11      M                   49               0.0  CONG         L   \n",
       "11   PA12      M                   37              27.0   AMP         L   \n",
       "12   PA13      F                   46              38.0   AMP         L   \n",
       "13   PA14      F                   28               0.0  CONG         L   \n",
       "14   PA15      M                   64              33.0   AMP         R   \n",
       "15   PA16      M                   38               0.0  CONG         L   \n",
       "16   PA17      F                   24              18.0   AMP         R   \n",
       "17   PA18      F                   27               0.0  CONG         L   \n",
       "18   PA19      M                   49              37.0   AMP         L   \n",
       "19   PA20      M                   60               0.0  CONG         L   \n",
       "20   PA21      F                   34               0.0  CONG         R   \n",
       "21   PA22      F                   36               0.0  CONG         R   \n",
       "22   PA23      F                   50              45.0   AMP         L   \n",
       "23   PA24      F                   41               0.0  CONG         L   \n",
       "24   PA25      M                   29              24.0   AMP         L   \n",
       "25   PA27      M                   25               0.0  CONG         L   \n",
       "26   PA28      M                   34               0.0  CONG         L   \n",
       "27   PA29      M                   25              18.0   AMP         L   \n",
       "28   PA30      M                   38               0.0  CONG         L   \n",
       "29   PA31      F                   49               0.0  CONG         L   \n",
       "30   PA32      M                   45              20.0   AMP         R   \n",
       "31   PA33      M                   32              31.0   AMP         L   \n",
       "32   PC01      F                   70               NaN   CTR       NaN   \n",
       "33   PC02      F                   49               NaN   CTR       NaN   \n",
       "34   PC03      M                   27               NaN   CTR       NaN   \n",
       "35   PC04      F                   36               NaN   CTR       NaN   \n",
       "36   PC05      F                   24               NaN   CTR       NaN   \n",
       "37   PC06      M                   25               NaN   CTR       NaN   \n",
       "38   PC07      F                   52               NaN   CTR       NaN   \n",
       "39   PC08      F                   43               NaN   CTR       NaN   \n",
       "40   PC09      M                   27               NaN   CTR       NaN   \n",
       "41   PC10      F                   38               NaN   CTR       NaN   \n",
       "42   PC11      M                   52               NaN   CTR       NaN   \n",
       "43   PC12      M                   47               NaN   CTR       NaN   \n",
       "44   PC13      M                   41               NaN   CTR       NaN   \n",
       "45   PC14      M                   49               NaN   CTR       NaN   \n",
       "46   PC15      M                   28               NaN   CTR       NaN   \n",
       "47   PC16      F                   32               NaN   CTR       NaN   \n",
       "48   PC17      F                   42               NaN   CTR       NaN   \n",
       "49   PC18      M                   31               NaN   CTR       NaN   \n",
       "50   PC19      M                   44               NaN   CTR       NaN   \n",
       "51   PC20      F                   40               NaN   CTR       NaN   \n",
       "52   PC21      M                   52               NaN   CTR       NaN   \n",
       "53   PC22      F                   62               NaN   CTR       NaN   \n",
       "54   PC23      F                   25               NaN   CTR       NaN   \n",
       "55   PC24      M                   64               NaN   CTR       NaN   \n",
       "\n",
       "   Dominant hand  \n",
       "0            NaN  \n",
       "1            NaN  \n",
       "2            NaN  \n",
       "3            NaN  \n",
       "4            NaN  \n",
       "5            NaN  \n",
       "6            NaN  \n",
       "7            NaN  \n",
       "8            NaN  \n",
       "9            NaN  \n",
       "10           NaN  \n",
       "11           NaN  \n",
       "12           NaN  \n",
       "13           NaN  \n",
       "14           NaN  \n",
       "15           NaN  \n",
       "16           NaN  \n",
       "17           NaN  \n",
       "18           NaN  \n",
       "19           NaN  \n",
       "20           NaN  \n",
       "21           NaN  \n",
       "22           NaN  \n",
       "23           NaN  \n",
       "24           NaN  \n",
       "25           NaN  \n",
       "26           NaN  \n",
       "27           NaN  \n",
       "28           NaN  \n",
       "29           NaN  \n",
       "30           NaN  \n",
       "31           NaN  \n",
       "32             R  \n",
       "33             R  \n",
       "34             R  \n",
       "35             R  \n",
       "36             R  \n",
       "37             L  \n",
       "38             R  \n",
       "39             R  \n",
       "40             R  \n",
       "41             R  \n",
       "42             L  \n",
       "43             R  \n",
       "44             L  \n",
       "45             R  \n",
       "46             L  \n",
       "47             R  \n",
       "48             L  \n",
       "49             R  \n",
       "50             L  \n",
       "51             R  \n",
       "52             L  \n",
       "53             R  \n",
       "54             R  \n",
       "55             L  "
      ]
     },
     "execution_count": 122,
     "metadata": {},
     "output_type": "execute_result"
    }
   ],
   "source": [
    "labels = pd.read_csv('/neurospin/dico/lguillon/ohbm_22/one_handed_labels.csv')\n",
    "labels"
   ]
  },
  {
   "cell_type": "code",
   "execution_count": 123,
   "id": "surprising-detective",
   "metadata": {},
   "outputs": [],
   "source": [
    "ctrl = labels[labels['Dominant hand']=='R']\n",
    "one_handed = labels[labels['Group']!='CTR']\n",
    "one_handed = labels[labels['Amp. Side']=='L']\n",
    "\n",
    "amputee = one_handed[one_handed['Group']=='AMP']\n",
    "cong = one_handed[one_handed['Group']=='CONG']"
   ]
  },
  {
   "cell_type": "code",
   "execution_count": 16,
   "id": "about-karma",
   "metadata": {},
   "outputs": [
    {
     "data": {
      "text/plain": [
       "12"
      ]
     },
     "execution_count": 16,
     "metadata": {},
     "output_type": "execute_result"
    }
   ],
   "source": [
    "len(cong)"
   ]
  },
  {
   "cell_type": "code",
   "execution_count": 124,
   "id": "pretty-recommendation",
   "metadata": {},
   "outputs": [],
   "source": [
    "# One-handed dataset\n",
    "\n",
    "data_dir = \"/neurospin/dico/data/deep_folding/current/crops/SC/mask/sulcus_based/2mm/one_handed_dataset/\"\n",
    "\n",
    "tmp3 = pd.read_pickle(data_dir+'R_one_handed_skeleton.pkl')\n",
    "tmp3 = tmp3.T\n",
    "tmp3 = tmp3.rename(columns={0:'skeleton'})\n",
    "tmp3['subjects'] = [list(tmp3.index)[k][0:4] for k in range(len(tmp3))]\n",
    "\n",
    "controls = tmp3.merge(ctrl, left_on=tmp3.subjects, right_on='SubjID', how='inner')\n",
    "filenames = list(controls.SubjID)\n",
    "control_dataset = SkeletonDataset(dataframe=controls, filenames=filenames, visu_check=False)\n",
    "control_loader = torch.utils.data.DataLoader(control_dataset, batch_size=1,\n",
    "                                                    shuffle=True, num_workers=8)\n",
    "\n",
    "amputee = tmp3.merge(amputee, left_on=tmp3.subjects, right_on='SubjID', how='inner')\n",
    "filenames_amp = list(amputee.SubjID)\n",
    "amputee_dataset = SkeletonDataset(dataframe=amputee, filenames=filenames_amp,visu_check=False)\n",
    "amputee_loader = torch.utils.data.DataLoader(amputee_dataset, batch_size=1,\n",
    "                                                    shuffle=True, num_workers=8)\n",
    "\n",
    "congenital = tmp3.merge(cong, left_on=tmp3.subjects, right_on='SubjID', how='inner')\n",
    "filenames_cong = list(cong.SubjID)\n",
    "congenital_dataset = SkeletonDataset(dataframe=congenital, filenames=filenames_cong, visu_check=False)\n",
    "congenital_loader = torch.utils.data.DataLoader(congenital_dataset, batch_size=1,\n",
    "                                                    shuffle=True, num_workers=8)\n",
    "\n",
    "dico_set_loaders = {'ctrl': control_loader, 'amputee': amputee_loader, 'congenital': congenital_loader}"
   ]
  },
  {
   "cell_type": "code",
   "execution_count": 125,
   "id": "reflected-stadium",
   "metadata": {},
   "outputs": [
    {
     "name": "stdout",
     "output_type": "stream",
     "text": [
      "16 12 12\n"
     ]
    }
   ],
   "source": [
    "print(len(controls), len(amputee), len(congenital))"
   ]
  },
  {
   "cell_type": "code",
   "execution_count": 59,
   "id": "every-trouble",
   "metadata": {},
   "outputs": [],
   "source": [
    "#dico_set_loaders = {'hcp': dataloader, 'scint': dataloader_int, 'ctrl': control_loader, 'amputee': amputee_loader, 'congenital': congenital_loader}\n",
    "dico_set_loaders = {'hcp': dataloader, 'scint': dataloader_int}\n",
    "\n",
    "root_dir = '/neurospin/dico/lguillon/miccai_22/analyses_gridsearch/'\n",
    "\n",
    "weights = [1, 2]\n",
    "class_weights = torch.FloatTensor(weights).to(device)\n",
    "criterion = nn.CrossEntropyLoss(weight=class_weights, reduction='sum')\n",
    "tester = ModelTester(model=model, dico_set_loaders=dico_set_loaders,\n",
    "                     loss_func=criterion, kl_weight=8,\n",
    "                     n_latent=75, depth=3)"
   ]
  },
  {
   "cell_type": "code",
   "execution_count": 60,
   "id": "known-walker",
   "metadata": {
    "scrolled": true
   },
   "outputs": [],
   "source": [
    "results = tester.test()\n",
    "encoded = {loader_name:[results[loader_name][k][1] for k in results[loader_name].keys()] for loader_name in dico_set_loaders.keys()}\n",
    "losses = {loader_name:[int(results[loader_name][k][0].cpu().detach().numpy()) for k in results[loader_name].keys()] for loader_name in dico_set_loaders.keys()}\n",
    "\n",
    "df_encoded = pd.DataFrame()\n",
    "#df_encoded['latent'] = encoded['hcp'] + encoded['scint'] + encoded['ctrl'] + encoded['amputee'] + encoded['congenital']\n",
    "#df_encoded['Group'] = ['hcp' for k in range(len(tmp))] + ['scint' for k in range(len(tmp_int))]+ ['ctrl' for k in range(len(controls))] + ['amputee' for k in range(len(amputee))] +['congenital'for k in range(len(congenital))]\n",
    "df_encoded['latent'] = encoded['hcp'] + encoded['scint'] \n",
    "df_encoded['Group'] = ['hcp' for k in range(len(tmp))] + ['scint' for k in range(len(tmp_int))]\n"
   ]
  },
  {
   "cell_type": "code",
   "execution_count": 61,
   "id": "painted-excellence",
   "metadata": {},
   "outputs": [],
   "source": [
    "X = np.array(list(df_encoded['latent']))\n",
    "labels = np.array(df_encoded['Group'])"
   ]
  },
  {
   "cell_type": "code",
   "execution_count": 62,
   "id": "clear-wichita",
   "metadata": {},
   "outputs": [
    {
     "ename": "NameError",
     "evalue": "name 'controls' is not defined",
     "output_type": "error",
     "traceback": [
      "\u001b[0;31m---------------------------------------------------------------------------\u001b[0m",
      "\u001b[0;31mNameError\u001b[0m                                 Traceback (most recent call last)",
      "\u001b[0;32m<ipython-input-62-5df069da5062>\u001b[0m in \u001b[0;36m<module>\u001b[0;34m()\u001b[0m\n\u001b[0;32m----> 1\u001b[0;31m \u001b[0msubjects_name\u001b[0m \u001b[0;34m=\u001b[0m \u001b[0;34m[\u001b[0m\u001b[0;34m''\u001b[0m \u001b[0;32mfor\u001b[0m \u001b[0mk\u001b[0m \u001b[0;32min\u001b[0m \u001b[0mrange\u001b[0m\u001b[0;34m(\u001b[0m\u001b[0;36m200\u001b[0m\u001b[0;34m)\u001b[0m\u001b[0;34m]\u001b[0m \u001b[0;34m+\u001b[0m \u001b[0mscint_list\u001b[0m \u001b[0;34m+\u001b[0m \u001b[0;34m[\u001b[0m\u001b[0;34m''\u001b[0m \u001b[0;32mfor\u001b[0m \u001b[0mk\u001b[0m \u001b[0;32min\u001b[0m \u001b[0mrange\u001b[0m\u001b[0;34m(\u001b[0m\u001b[0mlen\u001b[0m\u001b[0;34m(\u001b[0m\u001b[0mcontrols\u001b[0m\u001b[0;34m)\u001b[0m\u001b[0;34m)\u001b[0m\u001b[0;34m]\u001b[0m \u001b[0;34m+\u001b[0m \u001b[0mfilenames_amp\u001b[0m \u001b[0;34m+\u001b[0m \u001b[0mfilenames_cong\u001b[0m\u001b[0;34m\u001b[0m\u001b[0;34m\u001b[0m\u001b[0m\n\u001b[0m",
      "\u001b[0;31mNameError\u001b[0m: name 'controls' is not defined"
     ]
    }
   ],
   "source": [
    "subjects_name = ['' for k in range(200)] + scint_list + ['' for k in range(len(controls))] + filenames_amp + filenames_cong"
   ]
  },
  {
   "cell_type": "code",
   "execution_count": 63,
   "id": "competitive-plasma",
   "metadata": {},
   "outputs": [
    {
     "data": {
      "image/png": "[encoded data removed]",
      "text/plain": [
       "<Figure size 864x864 with 1 Axes>"
      ]
     },
     "metadata": {
      "needs_background": "light"
     },
     "output_type": "display_data"
    }
   ],
   "source": [
    "from sklearn.manifold import TSNE\n",
    "X_embedded = TSNE(n_components=2, random_state=12, perplexity=50).fit_transform(X)\n",
    "arr = X_embedded\n",
    "color_dict = {'hcp':'mediumseagreen', 'scint': 'red', 'ctrl': 'blue', 'congenital':'magenta', 'amputee': 'navy'}\n",
    "\n",
    "fig = plt.figure(figsize=(12,12))\n",
    "ax = fig.subplots()\n",
    "\n",
    "for g in np.unique(labels):\n",
    "    ix = np.where(labels == g)\n",
    "    x = [arr[ix][k][0] for k in range(len(ix[0]))]\n",
    "    y = [arr[ix][k][1] for k in range(len(ix[0]))]\n",
    "    g_lab= f\"{g}\"\n",
    "    ax.scatter(x, y, c = color_dict[g], label = g_lab)\n",
    "    \n",
    "for i, txt in enumerate(subjects_name):\n",
    "    ax.annotate(txt, (arr[i][0], arr[i][1]))\n",
    "    \n",
    "plt.legend(bbox_to_anchor=(1.04,1), borderaxespad=0)\n",
    "\n",
    "plt.xlabel(f'tSNE dimension 1', fontsize=14)\n",
    "plt.ylabel(f'tSNE dimension 2', fontsize=14)\n",
    "plt.show()"
   ]
  },
  {
   "cell_type": "code",
   "execution_count": 64,
   "id": "ranking-constant",
   "metadata": {},
   "outputs": [
    {
     "data": {
      "image/png": "[encoded data removed]",
      "text/plain": [
       "<Figure size 864x864 with 1 Axes>"
      ]
     },
     "metadata": {
      "needs_background": "light"
     },
     "output_type": "display_data"
    }
   ],
   "source": [
    "reducer = umap.UMAP()\n",
    "embedding = reducer.fit_transform(X)\n",
    "arr = embedding\n",
    "color_dict = {'hcp':'mediumseagreen', 'scint': 'red', 'ctrl': 'blue', 'congenital':'magenta', 'amputee': 'navy'}\n",
    "\n",
    "fig = plt.figure(figsize=(12,12))\n",
    "ax = fig.subplots()\n",
    "\n",
    "for g in np.unique(labels):\n",
    "    ix = np.where(labels == g)\n",
    "    x = [arr[ix][k][0] for k in range(len(ix[0]))]\n",
    "    y = [arr[ix][k][1] for k in range(len(ix[0]))]\n",
    "    g_lab= f\"{g}\"\n",
    "    ax.scatter(x, y, c = color_dict[g], label = g_lab)\n",
    "    \n",
    "for i, txt in enumerate(subjects_name):\n",
    "    ax.annotate(txt, (arr[i][0], arr[i][1]))\n",
    "    \n",
    "plt.legend(bbox_to_anchor=(1.04,1), borderaxespad=0)\n",
    "\n",
    "plt.xlabel(f'UMAP dimension 1', fontsize=14)\n",
    "plt.ylabel(f'UMAP dimension 2', fontsize=14)\n",
    "plt.show()"
   ]
  },
  {
   "cell_type": "code",
   "execution_count": 65,
   "id": "blank-florist",
   "metadata": {},
   "outputs": [],
   "source": [
    "#subjects_name_tot = list(results['hcp'].keys()) + list(results['scint'].keys()) + list(results['ctrl'].keys()) + list(results['amputee'].keys()) + list(results['congenital'].keys())\n",
    "subjects_name_tot = list(results['hcp'].keys()) + list(results['scint'].keys())"
   ]
  },
  {
   "cell_type": "markdown",
   "id": "aware-convergence",
   "metadata": {},
   "source": [
    "##### Loss"
   ]
  },
  {
   "cell_type": "code",
   "execution_count": 66,
   "id": "divided-letters",
   "metadata": {},
   "outputs": [],
   "source": [
    "#Lbvae = losses['hcp'] + losses['scint'] + losses['ctrl'] + losses['amputee'] + losses['congenital']\n",
    "Lbvae = losses['hcp'] + losses['scint']"
   ]
  },
  {
   "cell_type": "code",
   "execution_count": 67,
   "id": "smooth-sector",
   "metadata": {},
   "outputs": [
    {
     "data": {
      "text/plain": [
       "(array([1., 0., 0., 1., 3., 0., 1., 0., 0., 1.]),\n",
       " array([3633. , 3729.6, 3826.2, 3922.8, 4019.4, 4116. , 4212.6, 4309.2,\n",
       "        4405.8, 4502.4, 4599. ]),\n",
       " <BarContainer object of 10 artists>)"
      ]
     },
     "execution_count": 67,
     "metadata": {},
     "output_type": "execute_result"
    },
    {
     "data": {
      "image/png": "[encoded data removed]",
      "text/plain": [
       "<Figure size 432x288 with 1 Axes>"
      ]
     },
     "metadata": {
      "needs_background": "light"
     },
     "output_type": "display_data"
    }
   ],
   "source": [
    "plt.hist(losses['scint'])"
   ]
  },
  {
   "cell_type": "code",
   "execution_count": 68,
   "id": "sealed-viking",
   "metadata": {},
   "outputs": [
    {
     "data": {
      "text/plain": [
       "(array([ 2.,  2., 17., 23., 42., 46., 35., 25.,  5.,  3.]),\n",
       " array([2993. , 3162.1, 3331.2, 3500.3, 3669.4, 3838.5, 4007.6, 4176.7,\n",
       "        4345.8, 4514.9, 4684. ]),\n",
       " <BarContainer object of 10 artists>)"
      ]
     },
     "execution_count": 68,
     "metadata": {},
     "output_type": "execute_result"
    },
    {
     "data": {
      "image/png": "[encoded data removed]",
      "text/plain": [
       "<Figure size 432x288 with 1 Axes>"
      ]
     },
     "metadata": {
      "needs_background": "light"
     },
     "output_type": "display_data"
    }
   ],
   "source": [
    "plt.hist(losses['hcp'])"
   ]
  },
  {
   "cell_type": "markdown",
   "id": "alternative-reasoning",
   "metadata": {},
   "source": [
    "##### OC-SVm"
   ]
  },
  {
   "cell_type": "code",
   "execution_count": 69,
   "id": "characteristic-upgrade",
   "metadata": {},
   "outputs": [],
   "source": [
    "subject_dir = \"/neurospin/dico/lguillon/miccai_22/data/\"\n",
    "data_dir = \"/neurospin/dico/data/deep_folding/current/crops/SC/mask/sulcus_based/2mm/\"\n",
    "\n",
    "test_list = pd.read_csv(os.path.join(subject_dir, \"train_list.csv\"))\n",
    "\n",
    "test_list['subjects'] = test_list['subjects'].astype('str')\n",
    "\n",
    "tmp = pd.read_pickle(os.path.join(data_dir, \"Rskeleton.pkl\")).T\n",
    "#tmp = tmp.rename(columns={0:'subjects'})\n",
    "tmp.index.astype('str')\n",
    "tmp = tmp.rename(columns={0: \"skeleton\"})\n",
    "\n",
    "tmp = tmp.merge(test_list, left_on = tmp.index, right_on='subjects', how='right')\n",
    "\n",
    "filenames_train = list(test_list['subjects'])\n",
    "\n",
    "subset_train = SkeletonDataset(dataframe=tmp, filenames=filenames_train,\n",
    "                        visu_check=False)\n",
    "\n",
    "dataloader_train = torch.utils.data.DataLoader(\n",
    "              subset_train,\n",
    "              batch_size=1,\n",
    "              num_workers=8,\n",
    "              shuffle=True) "
   ]
  },
  {
   "cell_type": "code",
   "execution_count": 70,
   "id": "ranging-incentive",
   "metadata": {
    "scrolled": true
   },
   "outputs": [],
   "source": [
    "dico_set_loaders = {'train': dataloader_train}\n",
    "\n",
    "root_dir = '/neurospin/dico/lguillon/miccai_22/analyses_gridsearch_oh/n_40_kl_4/'\n",
    "\n",
    "weights = [1, 2]\n",
    "class_weights = torch.FloatTensor(weights).to(device)\n",
    "criterion = nn.CrossEntropyLoss(weight=class_weights, reduction='sum')\n",
    "tester = ModelTester(model=model, dico_set_loaders=dico_set_loaders,\n",
    "                     loss_func=criterion, kl_weight=8,\n",
    "                     n_latent=75, depth=3)\n",
    "\n",
    "results = tester.test()\n",
    "encoded_train = {'train':[results['train'][k][1] for k in results['train'].keys()]}\n",
    "losses_train = {'train':[int(results['train'][k][0].cpu().detach().numpy()) for k in results['train'].keys()]}\n",
    "\n",
    "df_encoded_train = pd.DataFrame()\n",
    "df_encoded_train['latent'] = encoded_train['train']\n",
    "df_encoded_train['Group'] = ['train' for k in range(len(filenames_train))]\n",
    "\n",
    "X_train = np.array(list(df_encoded_train['latent']))\n",
    "labels_train = np.array(df_encoded_train['Group'])"
   ]
  },
  {
   "cell_type": "markdown",
   "id": "regional-florence",
   "metadata": {},
   "source": [
    "## Visualization train + test"
   ]
  },
  {
   "cell_type": "code",
   "execution_count": 71,
   "id": "conditional-shelf",
   "metadata": {},
   "outputs": [],
   "source": [
    "embedding_all = reducer = umap.UMAP()\n",
    "embedding_all = reducer.fit_transform(np.concatenate((X, X_train)))"
   ]
  },
  {
   "cell_type": "code",
   "execution_count": 72,
   "id": "metropolitan-snake",
   "metadata": {},
   "outputs": [],
   "source": [
    "#subjects_name = ['' for k in range(200)] + scint_list + ['' for k in range(len(controls))] + filenames_amp + filenames_cong + ['' for k in range(len(X_train))]\n",
    "subjects_name = ['' for k in range(200)] + scint_list "
   ]
  },
  {
   "cell_type": "code",
   "execution_count": 73,
   "id": "valuable-example",
   "metadata": {},
   "outputs": [
    {
     "data": {
      "image/png": "[encoded data removed]",
      "text/plain": [
       "<Figure size 864x864 with 1 Axes>"
      ]
     },
     "metadata": {
      "needs_background": "light"
     },
     "output_type": "display_data"
    }
   ],
   "source": [
    "arr = embedding_all\n",
    "#arr = np.concatenate((X, X_train))\n",
    "labels_all = np.concatenate((labels, np.array(['train' for k in range(len(X_train))])))\n",
    "color_dict = {'hcp':'mediumseagreen', 'scint': 'red', 'ctrl': 'blue', 'congenital':'magenta', 'amputee': 'navy', 'train':'lightsalmon'}\n",
    "\n",
    "fig = plt.figure(figsize=(12,12))\n",
    "ax = fig.subplots()\n",
    "\n",
    "for g in np.unique(labels_all):\n",
    "    ix = np.where(labels_all == g)\n",
    "    x = [arr[ix][k][0] for k in range(len(ix[0]))]\n",
    "    y = [arr[ix][k][1] for k in range(len(ix[0]))]\n",
    "    g_lab= f\"{g}\"\n",
    "    ax.scatter(x, y, c = color_dict[g], label = g_lab)\n",
    "    \n",
    "for i, txt in enumerate(subjects_name):\n",
    "    ax.annotate(txt, (arr[i][0], arr[i][1]))\n",
    "    \n",
    "plt.legend(bbox_to_anchor=(1.04,1), borderaxespad=0)\n",
    "\n",
    "plt.xlabel(f'UMAP dimension 1', fontsize=14)\n",
    "plt.ylabel(f'UMAP dimension 2', fontsize=14)\n",
    "plt.show()"
   ]
  },
  {
   "cell_type": "code",
   "execution_count": 74,
   "id": "ongoing-fiber",
   "metadata": {},
   "outputs": [
    {
     "data": {
      "image/png": "[encoded data removed]",
      "text/plain": [
       "<Figure size 864x864 with 1 Axes>"
      ]
     },
     "metadata": {
      "needs_background": "light"
     },
     "output_type": "display_data"
    }
   ],
   "source": [
    "X_embedded = TSNE(n_components=2, random_state=12, perplexity=50).fit_transform(np.concatenate((X, X_train)))\n",
    "arr = X_embedded\n",
    "labels_all = np.concatenate((labels, np.array(['train' for k in range(len(X_train))])))\n",
    "color_dict = {'hcp':'mediumseagreen', 'scint': 'red', 'ctrl': 'blue', 'congenital':'magenta', 'amputee': 'navy', 'train':'lightsalmon'}\n",
    "\n",
    "fig = plt.figure(figsize=(12,12))\n",
    "ax = fig.subplots()\n",
    "\n",
    "for g in np.unique(labels_all):\n",
    "    ix = np.where(labels_all == g)\n",
    "    x = [arr[ix][k][0] for k in range(len(ix[0]))]\n",
    "    y = [arr[ix][k][1] for k in range(len(ix[0]))]\n",
    "    \n",
    "    g_lab= f\"{g}\"\n",
    "    ax.scatter(x, y, c = color_dict[g], label = g_lab)\n",
    "    \n",
    "for i, txt in enumerate(subjects_name):\n",
    "    ax.annotate(txt, (arr[i][0], arr[i][1]))\n",
    "    \n",
    "plt.legend(bbox_to_anchor=(1.04,1), borderaxespad=0)\n",
    "\n",
    "plt.xlabel(f'UMAP dimension 1', fontsize=14)\n",
    "plt.ylabel(f'UMAP dimension 2', fontsize=14)\n",
    "plt.show()"
   ]
  },
  {
   "cell_type": "code",
   "execution_count": null,
   "id": "recognized-pregnancy",
   "metadata": {},
   "outputs": [],
   "source": []
  },
  {
   "cell_type": "code",
   "execution_count": 75,
   "id": "aggregate-porcelain",
   "metadata": {},
   "outputs": [],
   "source": [
    "clf = OneClassSVM(gamma='auto').fit(X_train)"
   ]
  },
  {
   "cell_type": "code",
   "execution_count": 76,
   "id": "friendly-communications",
   "metadata": {},
   "outputs": [],
   "source": [
    "Lsf = list(clf.decision_function(X))"
   ]
  },
  {
   "cell_type": "code",
   "execution_count": 77,
   "id": "interesting-rally",
   "metadata": {},
   "outputs": [
    {
     "data": {
      "text/plain": [
       "(array([ 3.,  7.,  8., 18., 39., 41., 40., 24., 15.,  5.]),\n",
       " array([-32.78523272, -26.87175214, -20.95827157, -15.04479099,\n",
       "         -9.13131042,  -3.21782984,   2.69565073,   8.60913131,\n",
       "         14.52261188,  20.43609245,  26.34957303]),\n",
       " <BarContainer object of 10 artists>)"
      ]
     },
     "execution_count": 77,
     "metadata": {},
     "output_type": "execute_result"
    },
    {
     "data": {
      "image/png": "[encoded data removed]",
      "text/plain": [
       "<Figure size 432x288 with 1 Axes>"
      ]
     },
     "metadata": {
      "needs_background": "light"
     },
     "output_type": "display_data"
    }
   ],
   "source": [
    "plt.hist(Lsf[:200])"
   ]
  },
  {
   "cell_type": "code",
   "execution_count": 78,
   "id": "scientific-western",
   "metadata": {},
   "outputs": [
    {
     "data": {
      "text/plain": [
       "(array([1., 0., 0., 1., 1., 0., 1., 2., 0., 1.]),\n",
       " array([-6.26811914, -4.19703474, -2.12595034, -0.05486594,  2.01621846,\n",
       "         4.08730286,  6.15838726,  8.22947166, 10.30055607, 12.37164047,\n",
       "        14.44272487]),\n",
       " <BarContainer object of 10 artists>)"
      ]
     },
     "execution_count": 78,
     "metadata": {},
     "output_type": "execute_result"
    },
    {
     "data": {
      "image/png": "[encoded data removed]",
      "text/plain": [
       "<Figure size 432x288 with 1 Axes>"
      ]
     },
     "metadata": {
      "needs_background": "light"
     },
     "output_type": "display_data"
    }
   ],
   "source": [
    "plt.hist(Lsf[200:])"
   ]
  },
  {
   "cell_type": "markdown",
   "id": "cooperative-ability",
   "metadata": {},
   "source": [
    "#### LOF"
   ]
  },
  {
   "cell_type": "code",
   "execution_count": 79,
   "id": "innovative-franklin",
   "metadata": {},
   "outputs": [],
   "source": [
    "from sklearn.neighbors import LocalOutlierFactor"
   ]
  },
  {
   "cell_type": "code",
   "execution_count": 85,
   "id": "major-simpson",
   "metadata": {},
   "outputs": [],
   "source": [
    "clf = LocalOutlierFactor(n_neighbors=20, novelty=True, contamination=0.1).fit(X_train)"
   ]
  },
  {
   "cell_type": "code",
   "execution_count": 86,
   "id": "wireless-housing",
   "metadata": {},
   "outputs": [],
   "source": [
    "clf_pred = clf.predict(X)"
   ]
  },
  {
   "cell_type": "code",
   "execution_count": 87,
   "id": "exotic-seafood",
   "metadata": {
    "scrolled": true
   },
   "outputs": [],
   "source": [
    "lof_dis = clf.decision_function(X)"
   ]
  },
  {
   "cell_type": "code",
   "execution_count": 88,
   "id": "informational-clinton",
   "metadata": {},
   "outputs": [
    {
     "data": {
      "text/plain": [
       "(array([ 1.,  5.,  3.,  8., 10., 20., 22., 59., 52., 20.]),\n",
       " array([-0.07090616, -0.05125226, -0.03159837, -0.01194447,  0.00770943,\n",
       "         0.02736333,  0.04701723,  0.06667113,  0.08632503,  0.10597892,\n",
       "         0.12563282], dtype=float32),\n",
       " <BarContainer object of 10 artists>)"
      ]
     },
     "execution_count": 88,
     "metadata": {},
     "output_type": "execute_result"
    },
    {
     "data": {
      "image/png": "[encoded data removed]",
      "text/plain": [
       "<Figure size 432x288 with 1 Axes>"
      ]
     },
     "metadata": {
      "needs_background": "light"
     },
     "output_type": "display_data"
    }
   ],
   "source": [
    "plt.hist(lof_dis[:200])"
   ]
  },
  {
   "cell_type": "code",
   "execution_count": 89,
   "id": "dangerous-circulation",
   "metadata": {},
   "outputs": [
    {
     "data": {
      "text/plain": [
       "(array([1., 0., 1., 1., 0., 1., 2., 0., 0., 1.]),\n",
       " array([-0.00633943,  0.005811  ,  0.01796143,  0.03011186,  0.04226229,\n",
       "         0.05441272,  0.06656315,  0.07871358,  0.09086402,  0.10301445,\n",
       "         0.11516488], dtype=float32),\n",
       " <BarContainer object of 10 artists>)"
      ]
     },
     "execution_count": 89,
     "metadata": {},
     "output_type": "execute_result"
    },
    {
     "data": {
      "image/png": "[encoded data removed]",
      "text/plain": [
       "<Figure size 432x288 with 1 Axes>"
      ]
     },
     "metadata": {
      "needs_background": "light"
     },
     "output_type": "display_data"
    }
   ],
   "source": [
    "plt.hist(lof_dis[200:])"
   ]
  },
  {
   "cell_type": "code",
   "execution_count": 107,
   "id": "attached-render",
   "metadata": {
    "scrolled": true
   },
   "outputs": [
    {
     "data": {
      "text/plain": [
       "(array([ 2.,  2.,  2., 11., 13., 17., 38., 56., 52.,  7.]),\n",
       " array([-1.1833239 , -1.1604587 , -1.1375935 , -1.1147283 , -1.0918632 ,\n",
       "        -1.068998  , -1.0461328 , -1.0232676 , -1.0004025 , -0.9775372 ,\n",
       "        -0.95467204], dtype=float32),\n",
       " <BarContainer object of 10 artists>)"
      ]
     },
     "execution_count": 107,
     "metadata": {},
     "output_type": "execute_result"
    },
    {
     "data": {
      "image/png": "[encoded data removed]",
      "text/plain": [
       "<Figure size 432x288 with 1 Axes>"
      ]
     },
     "metadata": {
      "needs_background": "light"
     },
     "output_type": "display_data"
    }
   ],
   "source": [
    "clf = LocalOutlierFactor(n_neighbors=20)\n",
    "clf.fit_predict(X)\n",
    "plt.hist(clf.negative_outlier_factor_[:200])"
   ]
  },
  {
   "cell_type": "code",
   "execution_count": 108,
   "id": "primary-portland",
   "metadata": {},
   "outputs": [
    {
     "data": {
      "text/plain": [
       "(array([1., 1., 1., 0., 1., 0., 1., 0., 0., 2.]),\n",
       " array([-1.0535967 , -1.0463511 , -1.0391053 , -1.0318596 , -1.024614  ,\n",
       "        -1.0173683 , -1.0101225 , -1.0028769 , -0.99563116, -0.9883855 ,\n",
       "        -0.9811398 ], dtype=float32),\n",
       " <BarContainer object of 10 artists>)"
      ]
     },
     "execution_count": 108,
     "metadata": {},
     "output_type": "execute_result"
    },
    {
     "data": {
      "image/png": "[encoded data removed]",
      "text/plain": [
       "<Figure size 432x288 with 1 Axes>"
      ]
     },
     "metadata": {
      "needs_background": "light"
     },
     "output_type": "display_data"
    }
   ],
   "source": [
    "plt.hist(clf.negative_outlier_factor_[200:])"
   ]
  },
  {
   "cell_type": "markdown",
   "id": "beginning-darkness",
   "metadata": {},
   "source": [
    "##### Distance to nn"
   ]
  },
  {
   "cell_type": "code",
   "execution_count": 90,
   "id": "corresponding-bishop",
   "metadata": {},
   "outputs": [],
   "source": [
    "nbrs = NearestNeighbors(n_neighbors=10, algorithm='ball_tree').fit(X)"
   ]
  },
  {
   "cell_type": "code",
   "execution_count": 91,
   "id": "spanish-month",
   "metadata": {},
   "outputs": [],
   "source": [
    "distances, indices = nbrs.kneighbors(X)"
   ]
  },
  {
   "cell_type": "code",
   "execution_count": 92,
   "id": "dramatic-connectivity",
   "metadata": {},
   "outputs": [],
   "source": [
    "Lnn = [np.mean(distances[k][1:]) for k in range(len(Lbvae))] "
   ]
  },
  {
   "cell_type": "code",
   "execution_count": 93,
   "id": "bacterial-dialogue",
   "metadata": {},
   "outputs": [],
   "source": [
    "anomaly_score = pd.DataFrame(list(zip(subjects_name_tot, Lbvae, clf_pred)), columns=['subjects', 'loss', 'lof'])"
   ]
  },
  {
   "cell_type": "code",
   "execution_count": 94,
   "id": "handled-tackle",
   "metadata": {
    "scrolled": true
   },
   "outputs": [
    {
     "data": {
      "text/html": [
       "<div>\n",
       "<style scoped>\n",
       "    .dataframe tbody tr th:only-of-type {\n",
       "        vertical-align: middle;\n",
       "    }\n",
       "\n",
       "    .dataframe tbody tr th {\n",
       "        vertical-align: top;\n",
       "    }\n",
       "\n",
       "    .dataframe thead th {\n",
       "        text-align: right;\n",
       "    }\n",
       "</style>\n",
       "<table border=\"1\" class=\"dataframe\">\n",
       "  <thead>\n",
       "    <tr style=\"text-align: right;\">\n",
       "      <th></th>\n",
       "      <th>subjects</th>\n",
       "      <th>loss</th>\n",
       "      <th>lof</th>\n",
       "    </tr>\n",
       "  </thead>\n",
       "  <tbody>\n",
       "    <tr>\n",
       "      <th>161</th>\n",
       "      <td>130821</td>\n",
       "      <td>4684</td>\n",
       "      <td>1</td>\n",
       "    </tr>\n",
       "    <tr>\n",
       "      <th>113</th>\n",
       "      <td>149539</td>\n",
       "      <td>4627</td>\n",
       "      <td>-1</td>\n",
       "    </tr>\n",
       "    <tr>\n",
       "      <th>77</th>\n",
       "      <td>159239</td>\n",
       "      <td>4625</td>\n",
       "      <td>-1</td>\n",
       "    </tr>\n",
       "    <tr>\n",
       "      <th>203</th>\n",
       "      <td>111009</td>\n",
       "      <td>4599</td>\n",
       "      <td>-1</td>\n",
       "    </tr>\n",
       "    <tr>\n",
       "      <th>20</th>\n",
       "      <td>896879</td>\n",
       "      <td>4453</td>\n",
       "      <td>-1</td>\n",
       "    </tr>\n",
       "    <tr>\n",
       "      <th>28</th>\n",
       "      <td>201818</td>\n",
       "      <td>4434</td>\n",
       "      <td>1</td>\n",
       "    </tr>\n",
       "    <tr>\n",
       "      <th>170</th>\n",
       "      <td>597869</td>\n",
       "      <td>4429</td>\n",
       "      <td>1</td>\n",
       "    </tr>\n",
       "    <tr>\n",
       "      <th>151</th>\n",
       "      <td>677766</td>\n",
       "      <td>4376</td>\n",
       "      <td>1</td>\n",
       "    </tr>\n",
       "    <tr>\n",
       "      <th>132</th>\n",
       "      <td>119833</td>\n",
       "      <td>4348</td>\n",
       "      <td>1</td>\n",
       "    </tr>\n",
       "    <tr>\n",
       "      <th>75</th>\n",
       "      <td>139839</td>\n",
       "      <td>4345</td>\n",
       "      <td>1</td>\n",
       "    </tr>\n",
       "    <tr>\n",
       "      <th>194</th>\n",
       "      <td>171633</td>\n",
       "      <td>4322</td>\n",
       "      <td>1</td>\n",
       "    </tr>\n",
       "    <tr>\n",
       "      <th>189</th>\n",
       "      <td>124422</td>\n",
       "      <td>4309</td>\n",
       "      <td>1</td>\n",
       "    </tr>\n",
       "    <tr>\n",
       "      <th>39</th>\n",
       "      <td>212015</td>\n",
       "      <td>4304</td>\n",
       "      <td>1</td>\n",
       "    </tr>\n",
       "    <tr>\n",
       "      <th>10</th>\n",
       "      <td>558657</td>\n",
       "      <td>4300</td>\n",
       "      <td>1</td>\n",
       "    </tr>\n",
       "    <tr>\n",
       "      <th>140</th>\n",
       "      <td>187850</td>\n",
       "      <td>4274</td>\n",
       "      <td>1</td>\n",
       "    </tr>\n",
       "    <tr>\n",
       "      <th>60</th>\n",
       "      <td>160830</td>\n",
       "      <td>4259</td>\n",
       "      <td>1</td>\n",
       "    </tr>\n",
       "    <tr>\n",
       "      <th>89</th>\n",
       "      <td>599469</td>\n",
       "      <td>4253</td>\n",
       "      <td>-1</td>\n",
       "    </tr>\n",
       "    <tr>\n",
       "      <th>188</th>\n",
       "      <td>310621</td>\n",
       "      <td>4231</td>\n",
       "      <td>1</td>\n",
       "    </tr>\n",
       "    <tr>\n",
       "      <th>168</th>\n",
       "      <td>660951</td>\n",
       "      <td>4230</td>\n",
       "      <td>-1</td>\n",
       "    </tr>\n",
       "    <tr>\n",
       "      <th>145</th>\n",
       "      <td>401422</td>\n",
       "      <td>4226</td>\n",
       "      <td>1</td>\n",
       "    </tr>\n",
       "    <tr>\n",
       "      <th>201</th>\n",
       "      <td>510225</td>\n",
       "      <td>4226</td>\n",
       "      <td>1</td>\n",
       "    </tr>\n",
       "    <tr>\n",
       "      <th>19</th>\n",
       "      <td>589567</td>\n",
       "      <td>4224</td>\n",
       "      <td>1</td>\n",
       "    </tr>\n",
       "    <tr>\n",
       "      <th>0</th>\n",
       "      <td>108020</td>\n",
       "      <td>4221</td>\n",
       "      <td>1</td>\n",
       "    </tr>\n",
       "    <tr>\n",
       "      <th>88</th>\n",
       "      <td>112920</td>\n",
       "      <td>4219</td>\n",
       "      <td>1</td>\n",
       "    </tr>\n",
       "    <tr>\n",
       "      <th>95</th>\n",
       "      <td>112516</td>\n",
       "      <td>4207</td>\n",
       "      <td>1</td>\n",
       "    </tr>\n",
       "    <tr>\n",
       "      <th>27</th>\n",
       "      <td>413934</td>\n",
       "      <td>4207</td>\n",
       "      <td>1</td>\n",
       "    </tr>\n",
       "    <tr>\n",
       "      <th>76</th>\n",
       "      <td>763557</td>\n",
       "      <td>4204</td>\n",
       "      <td>1</td>\n",
       "    </tr>\n",
       "    <tr>\n",
       "      <th>187</th>\n",
       "      <td>204420</td>\n",
       "      <td>4199</td>\n",
       "      <td>1</td>\n",
       "    </tr>\n",
       "    <tr>\n",
       "      <th>154</th>\n",
       "      <td>927359</td>\n",
       "      <td>4196</td>\n",
       "      <td>1</td>\n",
       "    </tr>\n",
       "    <tr>\n",
       "      <th>190</th>\n",
       "      <td>167440</td>\n",
       "      <td>4194</td>\n",
       "      <td>1</td>\n",
       "    </tr>\n",
       "    <tr>\n",
       "      <th>...</th>\n",
       "      <td>...</td>\n",
       "      <td>...</td>\n",
       "      <td>...</td>\n",
       "    </tr>\n",
       "    <tr>\n",
       "      <th>32</th>\n",
       "      <td>590047</td>\n",
       "      <td>3577</td>\n",
       "      <td>1</td>\n",
       "    </tr>\n",
       "    <tr>\n",
       "      <th>150</th>\n",
       "      <td>140117</td>\n",
       "      <td>3565</td>\n",
       "      <td>1</td>\n",
       "    </tr>\n",
       "    <tr>\n",
       "      <th>3</th>\n",
       "      <td>213017</td>\n",
       "      <td>3564</td>\n",
       "      <td>1</td>\n",
       "    </tr>\n",
       "    <tr>\n",
       "      <th>38</th>\n",
       "      <td>698168</td>\n",
       "      <td>3555</td>\n",
       "      <td>1</td>\n",
       "    </tr>\n",
       "    <tr>\n",
       "      <th>157</th>\n",
       "      <td>609143</td>\n",
       "      <td>3547</td>\n",
       "      <td>1</td>\n",
       "    </tr>\n",
       "    <tr>\n",
       "      <th>41</th>\n",
       "      <td>156233</td>\n",
       "      <td>3541</td>\n",
       "      <td>1</td>\n",
       "    </tr>\n",
       "    <tr>\n",
       "      <th>80</th>\n",
       "      <td>205725</td>\n",
       "      <td>3509</td>\n",
       "      <td>-1</td>\n",
       "    </tr>\n",
       "    <tr>\n",
       "      <th>117</th>\n",
       "      <td>654754</td>\n",
       "      <td>3505</td>\n",
       "      <td>1</td>\n",
       "    </tr>\n",
       "    <tr>\n",
       "      <th>1</th>\n",
       "      <td>453542</td>\n",
       "      <td>3501</td>\n",
       "      <td>1</td>\n",
       "    </tr>\n",
       "    <tr>\n",
       "      <th>48</th>\n",
       "      <td>951457</td>\n",
       "      <td>3479</td>\n",
       "      <td>1</td>\n",
       "    </tr>\n",
       "    <tr>\n",
       "      <th>183</th>\n",
       "      <td>172332</td>\n",
       "      <td>3478</td>\n",
       "      <td>1</td>\n",
       "    </tr>\n",
       "    <tr>\n",
       "      <th>134</th>\n",
       "      <td>911849</td>\n",
       "      <td>3478</td>\n",
       "      <td>1</td>\n",
       "    </tr>\n",
       "    <tr>\n",
       "      <th>114</th>\n",
       "      <td>171532</td>\n",
       "      <td>3443</td>\n",
       "      <td>1</td>\n",
       "    </tr>\n",
       "    <tr>\n",
       "      <th>64</th>\n",
       "      <td>171431</td>\n",
       "      <td>3430</td>\n",
       "      <td>1</td>\n",
       "    </tr>\n",
       "    <tr>\n",
       "      <th>44</th>\n",
       "      <td>122418</td>\n",
       "      <td>3430</td>\n",
       "      <td>1</td>\n",
       "    </tr>\n",
       "    <tr>\n",
       "      <th>63</th>\n",
       "      <td>673455</td>\n",
       "      <td>3424</td>\n",
       "      <td>1</td>\n",
       "    </tr>\n",
       "    <tr>\n",
       "      <th>34</th>\n",
       "      <td>133827</td>\n",
       "      <td>3423</td>\n",
       "      <td>1</td>\n",
       "    </tr>\n",
       "    <tr>\n",
       "      <th>65</th>\n",
       "      <td>137431</td>\n",
       "      <td>3415</td>\n",
       "      <td>1</td>\n",
       "    </tr>\n",
       "    <tr>\n",
       "      <th>167</th>\n",
       "      <td>905147</td>\n",
       "      <td>3414</td>\n",
       "      <td>1</td>\n",
       "    </tr>\n",
       "    <tr>\n",
       "      <th>8</th>\n",
       "      <td>933253</td>\n",
       "      <td>3402</td>\n",
       "      <td>1</td>\n",
       "    </tr>\n",
       "    <tr>\n",
       "      <th>45</th>\n",
       "      <td>172635</td>\n",
       "      <td>3395</td>\n",
       "      <td>1</td>\n",
       "    </tr>\n",
       "    <tr>\n",
       "      <th>116</th>\n",
       "      <td>227533</td>\n",
       "      <td>3388</td>\n",
       "      <td>1</td>\n",
       "    </tr>\n",
       "    <tr>\n",
       "      <th>73</th>\n",
       "      <td>300618</td>\n",
       "      <td>3372</td>\n",
       "      <td>1</td>\n",
       "    </tr>\n",
       "    <tr>\n",
       "      <th>5</th>\n",
       "      <td>732243</td>\n",
       "      <td>3368</td>\n",
       "      <td>1</td>\n",
       "    </tr>\n",
       "    <tr>\n",
       "      <th>135</th>\n",
       "      <td>156637</td>\n",
       "      <td>3350</td>\n",
       "      <td>1</td>\n",
       "    </tr>\n",
       "    <tr>\n",
       "      <th>119</th>\n",
       "      <td>705341</td>\n",
       "      <td>3333</td>\n",
       "      <td>1</td>\n",
       "    </tr>\n",
       "    <tr>\n",
       "      <th>53</th>\n",
       "      <td>680957</td>\n",
       "      <td>3314</td>\n",
       "      <td>1</td>\n",
       "    </tr>\n",
       "    <tr>\n",
       "      <th>124</th>\n",
       "      <td>397154</td>\n",
       "      <td>3306</td>\n",
       "      <td>1</td>\n",
       "    </tr>\n",
       "    <tr>\n",
       "      <th>156</th>\n",
       "      <td>293748</td>\n",
       "      <td>3090</td>\n",
       "      <td>1</td>\n",
       "    </tr>\n",
       "    <tr>\n",
       "      <th>2</th>\n",
       "      <td>115320</td>\n",
       "      <td>2993</td>\n",
       "      <td>-1</td>\n",
       "    </tr>\n",
       "  </tbody>\n",
       "</table>\n",
       "<p>207 rows × 3 columns</p>\n",
       "</div>"
      ],
      "text/plain": [
       "    subjects  loss  lof\n",
       "161   130821  4684    1\n",
       "113   149539  4627   -1\n",
       "77    159239  4625   -1\n",
       "203   111009  4599   -1\n",
       "20    896879  4453   -1\n",
       "28    201818  4434    1\n",
       "170   597869  4429    1\n",
       "151   677766  4376    1\n",
       "132   119833  4348    1\n",
       "75    139839  4345    1\n",
       "194   171633  4322    1\n",
       "189   124422  4309    1\n",
       "39    212015  4304    1\n",
       "10    558657  4300    1\n",
       "140   187850  4274    1\n",
       "60    160830  4259    1\n",
       "89    599469  4253   -1\n",
       "188   310621  4231    1\n",
       "168   660951  4230   -1\n",
       "145   401422  4226    1\n",
       "201   510225  4226    1\n",
       "19    589567  4224    1\n",
       "0     108020  4221    1\n",
       "88    112920  4219    1\n",
       "95    112516  4207    1\n",
       "27    413934  4207    1\n",
       "76    763557  4204    1\n",
       "187   204420  4199    1\n",
       "154   927359  4196    1\n",
       "190   167440  4194    1\n",
       "..       ...   ...  ...\n",
       "32    590047  3577    1\n",
       "150   140117  3565    1\n",
       "3     213017  3564    1\n",
       "38    698168  3555    1\n",
       "157   609143  3547    1\n",
       "41    156233  3541    1\n",
       "80    205725  3509   -1\n",
       "117   654754  3505    1\n",
       "1     453542  3501    1\n",
       "48    951457  3479    1\n",
       "183   172332  3478    1\n",
       "134   911849  3478    1\n",
       "114   171532  3443    1\n",
       "64    171431  3430    1\n",
       "44    122418  3430    1\n",
       "63    673455  3424    1\n",
       "34    133827  3423    1\n",
       "65    137431  3415    1\n",
       "167   905147  3414    1\n",
       "8     933253  3402    1\n",
       "45    172635  3395    1\n",
       "116   227533  3388    1\n",
       "73    300618  3372    1\n",
       "5     732243  3368    1\n",
       "135   156637  3350    1\n",
       "119   705341  3333    1\n",
       "53    680957  3314    1\n",
       "124   397154  3306    1\n",
       "156   293748  3090    1\n",
       "2     115320  2993   -1\n",
       "\n",
       "[207 rows x 3 columns]"
      ]
     },
     "execution_count": 94,
     "metadata": {},
     "output_type": "execute_result"
    }
   ],
   "source": [
    "anomaly_score.sort_values(by='loss', ascending=False)"
   ]
  },
  {
   "cell_type": "code",
   "execution_count": 95,
   "id": "outdoor-shade",
   "metadata": {
    "scrolled": true
   },
   "outputs": [],
   "source": [
    "df_encoded['subjects'] = subjects_name_tot"
   ]
  },
  {
   "cell_type": "code",
   "execution_count": 96,
   "id": "accessory-bread",
   "metadata": {},
   "outputs": [],
   "source": [
    "abnormal = pd.merge(df_encoded, anomaly_score[anomaly_score.lof==-1], left_on='subjects', right_on='subjects')"
   ]
  },
  {
   "cell_type": "code",
   "execution_count": 116,
   "id": "nonprofit-worry",
   "metadata": {
    "scrolled": true
   },
   "outputs": [
    {
     "data": {
      "text/html": [
       "<div>\n",
       "<style scoped>\n",
       "    .dataframe tbody tr th:only-of-type {\n",
       "        vertical-align: middle;\n",
       "    }\n",
       "\n",
       "    .dataframe tbody tr th {\n",
       "        vertical-align: top;\n",
       "    }\n",
       "\n",
       "    .dataframe thead th {\n",
       "        text-align: right;\n",
       "    }\n",
       "</style>\n",
       "<table border=\"1\" class=\"dataframe\">\n",
       "  <thead>\n",
       "    <tr style=\"text-align: right;\">\n",
       "      <th></th>\n",
       "      <th>latent</th>\n",
       "      <th>Group</th>\n",
       "      <th>subjects</th>\n",
       "      <th>loss</th>\n",
       "      <th>lof</th>\n",
       "    </tr>\n",
       "  </thead>\n",
       "  <tbody>\n",
       "    <tr>\n",
       "      <th>0</th>\n",
       "      <td>[-0.45995855, -0.7356516, 0.78220993, 0.086529...</td>\n",
       "      <td>hcp</td>\n",
       "      <td>115320</td>\n",
       "      <td>2993</td>\n",
       "      <td>-1</td>\n",
       "    </tr>\n",
       "    <tr>\n",
       "      <th>1</th>\n",
       "      <td>[0.116326444, -0.19516802, 0.8373217, 0.791503...</td>\n",
       "      <td>hcp</td>\n",
       "      <td>100307</td>\n",
       "      <td>3920</td>\n",
       "      <td>-1</td>\n",
       "    </tr>\n",
       "    <tr>\n",
       "      <th>2</th>\n",
       "      <td>[-0.54797864, -0.0008618017, 0.8105111, -0.246...</td>\n",
       "      <td>hcp</td>\n",
       "      <td>896879</td>\n",
       "      <td>4453</td>\n",
       "      <td>-1</td>\n",
       "    </tr>\n",
       "    <tr>\n",
       "      <th>3</th>\n",
       "      <td>[-0.34376913, -0.967747, -0.1834757, 0.7089696...</td>\n",
       "      <td>hcp</td>\n",
       "      <td>586460</td>\n",
       "      <td>3926</td>\n",
       "      <td>-1</td>\n",
       "    </tr>\n",
       "    <tr>\n",
       "      <th>4</th>\n",
       "      <td>[-0.67884856, -0.36677438, 0.05931678, 0.56620...</td>\n",
       "      <td>hcp</td>\n",
       "      <td>105923</td>\n",
       "      <td>4177</td>\n",
       "      <td>-1</td>\n",
       "    </tr>\n",
       "    <tr>\n",
       "      <th>5</th>\n",
       "      <td>[-1.023072, -0.15767668, -0.25852677, -0.06816...</td>\n",
       "      <td>hcp</td>\n",
       "      <td>969476</td>\n",
       "      <td>3749</td>\n",
       "      <td>-1</td>\n",
       "    </tr>\n",
       "    <tr>\n",
       "      <th>6</th>\n",
       "      <td>[-0.2978314, -0.34360775, 0.49846697, -0.22800...</td>\n",
       "      <td>hcp</td>\n",
       "      <td>159239</td>\n",
       "      <td>4625</td>\n",
       "      <td>-1</td>\n",
       "    </tr>\n",
       "    <tr>\n",
       "      <th>7</th>\n",
       "      <td>[-0.4166393, -0.11087932, 0.6791678, -0.180866...</td>\n",
       "      <td>hcp</td>\n",
       "      <td>205725</td>\n",
       "      <td>3509</td>\n",
       "      <td>-1</td>\n",
       "    </tr>\n",
       "    <tr>\n",
       "      <th>8</th>\n",
       "      <td>[-0.5577847, -0.09419356, 0.5008506, -0.385829...</td>\n",
       "      <td>hcp</td>\n",
       "      <td>599469</td>\n",
       "      <td>4253</td>\n",
       "      <td>-1</td>\n",
       "    </tr>\n",
       "    <tr>\n",
       "      <th>9</th>\n",
       "      <td>[-0.67754126, -0.56326175, 0.6045863, -0.43939...</td>\n",
       "      <td>hcp</td>\n",
       "      <td>149539</td>\n",
       "      <td>4627</td>\n",
       "      <td>-1</td>\n",
       "    </tr>\n",
       "    <tr>\n",
       "      <th>10</th>\n",
       "      <td>[-0.4889403, -0.6635586, 0.56838655, -0.364616...</td>\n",
       "      <td>hcp</td>\n",
       "      <td>126426</td>\n",
       "      <td>3819</td>\n",
       "      <td>-1</td>\n",
       "    </tr>\n",
       "    <tr>\n",
       "      <th>11</th>\n",
       "      <td>[-0.0070334766, 0.009194005, 0.10682723, 0.642...</td>\n",
       "      <td>hcp</td>\n",
       "      <td>174841</td>\n",
       "      <td>3899</td>\n",
       "      <td>-1</td>\n",
       "    </tr>\n",
       "    <tr>\n",
       "      <th>12</th>\n",
       "      <td>[-0.28512576, -1.468269, 0.6303446, 0.17189848...</td>\n",
       "      <td>hcp</td>\n",
       "      <td>958976</td>\n",
       "      <td>4072</td>\n",
       "      <td>-1</td>\n",
       "    </tr>\n",
       "    <tr>\n",
       "      <th>13</th>\n",
       "      <td>[-0.04959184, -1.2529302, 0.2711339, 0.5177773...</td>\n",
       "      <td>hcp</td>\n",
       "      <td>660951</td>\n",
       "      <td>4230</td>\n",
       "      <td>-1</td>\n",
       "    </tr>\n",
       "    <tr>\n",
       "      <th>14</th>\n",
       "      <td>[-0.43178248, -0.43841654, 0.13020717, 0.24231...</td>\n",
       "      <td>scint</td>\n",
       "      <td>111009</td>\n",
       "      <td>4599</td>\n",
       "      <td>-1</td>\n",
       "    </tr>\n",
       "  </tbody>\n",
       "</table>\n",
       "</div>"
      ],
      "text/plain": [
       "                                               latent  Group subjects  loss  \\\n",
       "0   [-0.45995855, -0.7356516, 0.78220993, 0.086529...    hcp   115320  2993   \n",
       "1   [0.116326444, -0.19516802, 0.8373217, 0.791503...    hcp   100307  3920   \n",
       "2   [-0.54797864, -0.0008618017, 0.8105111, -0.246...    hcp   896879  4453   \n",
       "3   [-0.34376913, -0.967747, -0.1834757, 0.7089696...    hcp   586460  3926   \n",
       "4   [-0.67884856, -0.36677438, 0.05931678, 0.56620...    hcp   105923  4177   \n",
       "5   [-1.023072, -0.15767668, -0.25852677, -0.06816...    hcp   969476  3749   \n",
       "6   [-0.2978314, -0.34360775, 0.49846697, -0.22800...    hcp   159239  4625   \n",
       "7   [-0.4166393, -0.11087932, 0.6791678, -0.180866...    hcp   205725  3509   \n",
       "8   [-0.5577847, -0.09419356, 0.5008506, -0.385829...    hcp   599469  4253   \n",
       "9   [-0.67754126, -0.56326175, 0.6045863, -0.43939...    hcp   149539  4627   \n",
       "10  [-0.4889403, -0.6635586, 0.56838655, -0.364616...    hcp   126426  3819   \n",
       "11  [-0.0070334766, 0.009194005, 0.10682723, 0.642...    hcp   174841  3899   \n",
       "12  [-0.28512576, -1.468269, 0.6303446, 0.17189848...    hcp   958976  4072   \n",
       "13  [-0.04959184, -1.2529302, 0.2711339, 0.5177773...    hcp   660951  4230   \n",
       "14  [-0.43178248, -0.43841654, 0.13020717, 0.24231...  scint   111009  4599   \n",
       "\n",
       "    lof  \n",
       "0    -1  \n",
       "1    -1  \n",
       "2    -1  \n",
       "3    -1  \n",
       "4    -1  \n",
       "5    -1  \n",
       "6    -1  \n",
       "7    -1  \n",
       "8    -1  \n",
       "9    -1  \n",
       "10   -1  \n",
       "11   -1  \n",
       "12   -1  \n",
       "13   -1  \n",
       "14   -1  "
      ]
     },
     "execution_count": 116,
     "metadata": {},
     "output_type": "execute_result"
    }
   ],
   "source": [
    "abnormal"
   ]
  },
  {
   "cell_type": "code",
   "execution_count": 111,
   "id": "retained-beast",
   "metadata": {
    "scrolled": false
   },
   "outputs": [
    {
     "ename": "AttributeError",
     "evalue": "'DataFrame' object has no attribute 'cluster'",
     "output_type": "error",
     "traceback": [
      "\u001b[0;31m---------------------------------------------------------------------------\u001b[0m",
      "\u001b[0;31mAttributeError\u001b[0m                            Traceback (most recent call last)",
      "\u001b[0;32m<ipython-input-111-b17d45a1dede>\u001b[0m in \u001b[0;36m<module>\u001b[0;34m()\u001b[0m\n\u001b[1;32m      6\u001b[0m color_dict = {0:'mediumseagreen', 1: 'red', 2: 'blue', 3:'magenta', 4: 'navy', 5:'indianred', 6:'forestgreen', \n\u001b[1;32m      7\u001b[0m             7: 'chartreuse', 8:'slategrey', 9:'blueviolet'}\n\u001b[0;32m----> 8\u001b[0;31m \u001b[0mcluster\u001b[0m \u001b[0;34m=\u001b[0m \u001b[0mabnormal\u001b[0m\u001b[0;34m.\u001b[0m\u001b[0mcluster\u001b[0m\u001b[0;34m\u001b[0m\u001b[0;34m\u001b[0m\u001b[0m\n\u001b[0m\u001b[1;32m      9\u001b[0m \u001b[0mmarker_dict\u001b[0m \u001b[0;34m=\u001b[0m \u001b[0;34m{\u001b[0m\u001b[0;34m'hcp'\u001b[0m\u001b[0;34m:\u001b[0m\u001b[0;34m'o'\u001b[0m\u001b[0;34m,\u001b[0m \u001b[0;34m'scint'\u001b[0m\u001b[0;34m:\u001b[0m \u001b[0;34m'x'\u001b[0m\u001b[0;34m,\u001b[0m \u001b[0;34m'ctrl'\u001b[0m\u001b[0;34m:\u001b[0m \u001b[0;34m'+'\u001b[0m\u001b[0;34m,\u001b[0m \u001b[0;34m'congenital'\u001b[0m\u001b[0;34m:\u001b[0m\u001b[0;34m'd'\u001b[0m\u001b[0;34m,\u001b[0m \u001b[0;34m'amputee'\u001b[0m\u001b[0;34m:\u001b[0m \u001b[0;34m'v'\u001b[0m\u001b[0;34m}\u001b[0m\u001b[0;34m\u001b[0m\u001b[0;34m\u001b[0m\u001b[0m\n\u001b[1;32m     10\u001b[0m \u001b[0;34m\u001b[0m\u001b[0m\n",
      "\u001b[0;32m/usr/lib/python3/dist-packages/pandas/core/generic.py\u001b[0m in \u001b[0;36m__getattr__\u001b[0;34m(self, name)\u001b[0m\n\u001b[1;32m   4374\u001b[0m             \u001b[0;32mif\u001b[0m \u001b[0mself\u001b[0m\u001b[0;34m.\u001b[0m\u001b[0m_info_axis\u001b[0m\u001b[0;34m.\u001b[0m\u001b[0m_can_hold_identifiers_and_holds_name\u001b[0m\u001b[0;34m(\u001b[0m\u001b[0mname\u001b[0m\u001b[0;34m)\u001b[0m\u001b[0;34m:\u001b[0m\u001b[0;34m\u001b[0m\u001b[0;34m\u001b[0m\u001b[0m\n\u001b[1;32m   4375\u001b[0m                 \u001b[0;32mreturn\u001b[0m \u001b[0mself\u001b[0m\u001b[0;34m[\u001b[0m\u001b[0mname\u001b[0m\u001b[0;34m]\u001b[0m\u001b[0;34m\u001b[0m\u001b[0;34m\u001b[0m\u001b[0m\n\u001b[0;32m-> 4376\u001b[0;31m             \u001b[0;32mreturn\u001b[0m \u001b[0mobject\u001b[0m\u001b[0;34m.\u001b[0m\u001b[0m__getattribute__\u001b[0m\u001b[0;34m(\u001b[0m\u001b[0mself\u001b[0m\u001b[0;34m,\u001b[0m \u001b[0mname\u001b[0m\u001b[0;34m)\u001b[0m\u001b[0;34m\u001b[0m\u001b[0;34m\u001b[0m\u001b[0m\n\u001b[0m\u001b[1;32m   4377\u001b[0m \u001b[0;34m\u001b[0m\u001b[0m\n\u001b[1;32m   4378\u001b[0m     \u001b[0;32mdef\u001b[0m \u001b[0m__setattr__\u001b[0m\u001b[0;34m(\u001b[0m\u001b[0mself\u001b[0m\u001b[0;34m,\u001b[0m \u001b[0mname\u001b[0m\u001b[0;34m,\u001b[0m \u001b[0mvalue\u001b[0m\u001b[0;34m)\u001b[0m\u001b[0;34m:\u001b[0m\u001b[0;34m\u001b[0m\u001b[0;34m\u001b[0m\u001b[0m\n",
      "\u001b[0;31mAttributeError\u001b[0m: 'DataFrame' object has no attribute 'cluster'"
     ]
    }
   ],
   "source": [
    "X_abnor = np.array(list(abnormal['latent']))\n",
    "embedding = reducer.transform(X_abnor)\n",
    "labels = np.array(list(abnormal.Group))\n",
    "arr = embedding\n",
    "\n",
    "color_dict = {0:'mediumseagreen', 1: 'red', 2: 'blue', 3:'magenta', 4: 'navy', 5:'indianred', 6:'forestgreen', \n",
    "            7: 'chartreuse', 8:'slategrey', 9:'blueviolet'}\n",
    "cluster = abnormal.cluster\n",
    "marker_dict = {'hcp':'o', 'scint': 'x', 'ctrl': '+', 'congenital':'d', 'amputee': 'v'}\n",
    "\n",
    "fig = plt.figure(figsize=(12,12))\n",
    "ax = fig.subplots\n",
    "\n",
    "for g in np.unique(cluster):\n",
    "    ix = np.where(cluster == g)\n",
    "    #print(ix)\n",
    "    #print([labels[ix[0]][k][0] for k in range(len(ix[0]))])\n",
    "    #mark = [labels[ix][k][0] for k in range(len(ix[0]))]\n",
    "    for point in range(len(ix[0])):\n",
    "        #x = [arr[ix][k][0] for k in range(len(ix[0]))]\n",
    "        #y = [arr[ix][k][1] for k in range(len(ix[0]))]\n",
    "        x = arr[ix][point][0]\n",
    "        y = arr[ix][point][1]\n",
    "        mark = labels[ix][point]\n",
    "        #g_lab= f\"{g}\"\n",
    "        ax.scatter(x, y, c = color_dict[g], label = mark, marker=marker_dict[mark], s=60)\n",
    "    \n",
    "for i, txt in enumerate(list(abnormal.subjects)):\n",
    "    ax.annotate(txt, (arr[i][0], arr[i][1]))\n",
    "\n",
    "    \n",
    "plt.legend(bbox_to_anchor=(1.04,1), borderaxespad=0)\n",
    "\n",
    "plt.xlabel(f'UMAP dimension 1', fontsize=14)\n",
    "plt.ylabel(f'UMAP dimension 2', fontsize=14)\n",
    "plt.show()"
   ]
  },
  {
   "cell_type": "code",
   "execution_count": null,
   "id": "unique-address",
   "metadata": {},
   "outputs": [],
   "source": [
    "fig = plt.figure()\n",
    "ax = fig.add_subplot(projection='3d')"
   ]
  },
  {
   "cell_type": "code",
   "execution_count": 200,
   "id": "commercial-wholesale",
   "metadata": {
    "scrolled": false
   },
   "outputs": [
    {
     "data": {
      "image/png": "[encoded data removed]",
      "text/plain": [
       "<Figure size 864x864 with 1 Axes>"
      ]
     },
     "metadata": {
      "needs_background": "light"
     },
     "output_type": "display_data"
    }
   ],
   "source": [
    "embedding = TSNE(n_components=2, random_state=12, perplexity=8).fit_transform(X_abnor)\n",
    "\n",
    "labels = np.array(list(abnormal.Group))\n",
    "arr = embedding\n",
    "\n",
    "color_dict = {0:'mediumseagreen', 1: 'red', 2: 'blue', 3:'magenta', 4: 'navy', 5:'indianred', 6:'forestgreen', \n",
    "            7: 'chartreuse', 8:'slategrey', 9:'blueviolet'}\n",
    "cluster = abnormal.cluster\n",
    "marker_dict = {'hcp':'o', 'scint': 'x', 'ctrl': '+', 'congenital':'d', 'amputee': 'v'}\n",
    "\n",
    "fig = plt.figure(figsize=(12,12))\n",
    "ax = fig.subplots()\n",
    "\n",
    "for g in np.unique(cluster):\n",
    "    ix = np.where(cluster == g)\n",
    "    #print(ix)\n",
    "    #print([labels[ix[0]][k][0] for k in range(len(ix[0]))])\n",
    "    #mark = [labels[ix][k][0] for k in range(len(ix[0]))]\n",
    "    for point in range(len(ix[0])):\n",
    "        #x = [arr[ix][k][0] for k in range(len(ix[0]))]\n",
    "        #y = [arr[ix][k][1] for k in range(len(ix[0]))]\n",
    "        x = arr[ix][point][0]\n",
    "        y = arr[ix][point][1]\n",
    "        mark = labels[ix][point]\n",
    "        #g_lab= f\"{g}\"\n",
    "        ax.scatter(x, y, c = color_dict[g], label = mark, marker=marker_dict[mark], s=60)\n",
    "    \n",
    "for i, txt in enumerate(list(abnormal.subjects)):\n",
    "    ax.annotate(txt, (arr[i][0], arr[i][1]))\n",
    "\n",
    "    \n",
    "plt.legend(bbox_to_anchor=(1.04,1), borderaxespad=0)\n",
    "\n",
    "plt.xlabel(f't-SNE dimension 1', fontsize=14)\n",
    "plt.ylabel(f't-SNE dimension 2', fontsize=14)\n",
    "plt.show()"
   ]
  },
  {
   "cell_type": "code",
   "execution_count": 109,
   "id": "blind-finnish",
   "metadata": {},
   "outputs": [],
   "source": [
    "from sklearn.cluster import KMeans, AffinityPropagation\n",
    "from sklearn.metrics import silhouette_samples, silhouette_score"
   ]
  },
  {
   "cell_type": "code",
   "execution_count": 112,
   "id": "technological-uzbekistan",
   "metadata": {
    "scrolled": true
   },
   "outputs": [
    {
     "name": "stdout",
     "output_type": "stream",
     "text": [
      "For n_clusters = 2 The average silhouette_score with kmeans is : 0.1433552\n",
      "For n_clusters = 3 The average silhouette_score with kmeans is : 0.20754686\n",
      "For n_clusters = 4 The average silhouette_score with kmeans is : 0.25220078\n",
      "For n_clusters = 5 The average silhouette_score with kmeans is : 0.28248852\n",
      "For n_clusters = 6 The average silhouette_score with kmeans is : 0.26977783\n",
      "For n_clusters = 7 The average silhouette_score with kmeans is : 0.23831435\n",
      "For n_clusters = 8 The average silhouette_score with kmeans is : 0.23579456\n",
      "For n_clusters = 9 The average silhouette_score with kmeans is : 0.22452179\n",
      "For n_clusters = 10 The average silhouette_score with kmeans is : 0.1652403\n",
      "For n_clusters = 11 The average silhouette_score with kmeans is : 0.1323251\n",
      "For n_clusters = 12 The average silhouette_score with kmeans is : 0.08076666\n",
      "For n_clusters = 13 The average silhouette_score with kmeans is : 0.034775726\n",
      "For n_clusters = 14 The average silhouette_score with kmeans is : 0.030365169\n"
     ]
    },
    {
     "ename": "ValueError",
     "evalue": "Number of labels is 15. Valid values are 2 to n_samples - 1 (inclusive)",
     "output_type": "error",
     "traceback": [
      "\u001b[0;31m---------------------------------------------------------------------------\u001b[0m",
      "\u001b[0;31mValueError\u001b[0m                                Traceback (most recent call last)",
      "\u001b[0;32m<ipython-input-112-0433d941b506>\u001b[0m in \u001b[0;36m<module>\u001b[0;34m()\u001b[0m\n\u001b[1;32m      5\u001b[0m     \u001b[0mfig\u001b[0m\u001b[0;34m,\u001b[0m \u001b[0max1\u001b[0m \u001b[0;34m=\u001b[0m \u001b[0mplt\u001b[0m\u001b[0;34m.\u001b[0m\u001b[0msubplots\u001b[0m\u001b[0;34m(\u001b[0m\u001b[0;34m)\u001b[0m\u001b[0;34m\u001b[0m\u001b[0;34m\u001b[0m\u001b[0m\n\u001b[1;32m      6\u001b[0m     \u001b[0max1\u001b[0m\u001b[0;34m.\u001b[0m\u001b[0mset_ylim\u001b[0m\u001b[0;34m(\u001b[0m\u001b[0;34m[\u001b[0m\u001b[0;36m0\u001b[0m\u001b[0;34m,\u001b[0m \u001b[0mlen\u001b[0m\u001b[0;34m(\u001b[0m\u001b[0mX\u001b[0m\u001b[0;34m)\u001b[0m \u001b[0;34m+\u001b[0m \u001b[0;34m(\u001b[0m\u001b[0mn\u001b[0m \u001b[0;34m+\u001b[0m \u001b[0;36m1\u001b[0m\u001b[0;34m)\u001b[0m \u001b[0;34m*\u001b[0m \u001b[0;36m10\u001b[0m\u001b[0;34m]\u001b[0m\u001b[0;34m)\u001b[0m\u001b[0;34m\u001b[0m\u001b[0;34m\u001b[0m\u001b[0m\n\u001b[0;32m----> 7\u001b[0;31m     \u001b[0msilhouette_avg\u001b[0m \u001b[0;34m=\u001b[0m \u001b[0msilhouette_score\u001b[0m\u001b[0;34m(\u001b[0m\u001b[0mX_abnor\u001b[0m\u001b[0;34m,\u001b[0m \u001b[0mcluster_labels\u001b[0m\u001b[0;34m)\u001b[0m\u001b[0;34m\u001b[0m\u001b[0;34m\u001b[0m\u001b[0m\n\u001b[0m\u001b[1;32m      8\u001b[0m     \u001b[0mprint\u001b[0m\u001b[0;34m(\u001b[0m\u001b[0;34m\"For n_clusters =\"\u001b[0m\u001b[0;34m,\u001b[0m \u001b[0mn\u001b[0m\u001b[0;34m,\u001b[0m \u001b[0;34m\"The average silhouette_score with kmeans is :\"\u001b[0m\u001b[0;34m,\u001b[0m \u001b[0msilhouette_avg\u001b[0m\u001b[0;34m)\u001b[0m\u001b[0;34m\u001b[0m\u001b[0;34m\u001b[0m\u001b[0m\n\u001b[1;32m      9\u001b[0m \u001b[0;34m\u001b[0m\u001b[0m\n",
      "\u001b[0;32m/casa/home/.local/lib/python3.6/site-packages/sklearn/utils/validation.py\u001b[0m in \u001b[0;36minner_f\u001b[0;34m(*args, **kwargs)\u001b[0m\n\u001b[1;32m     61\u001b[0m             \u001b[0mextra_args\u001b[0m \u001b[0;34m=\u001b[0m \u001b[0mlen\u001b[0m\u001b[0;34m(\u001b[0m\u001b[0margs\u001b[0m\u001b[0;34m)\u001b[0m \u001b[0;34m-\u001b[0m \u001b[0mlen\u001b[0m\u001b[0;34m(\u001b[0m\u001b[0mall_args\u001b[0m\u001b[0;34m)\u001b[0m\u001b[0;34m\u001b[0m\u001b[0;34m\u001b[0m\u001b[0m\n\u001b[1;32m     62\u001b[0m             \u001b[0;32mif\u001b[0m \u001b[0mextra_args\u001b[0m \u001b[0;34m<=\u001b[0m \u001b[0;36m0\u001b[0m\u001b[0;34m:\u001b[0m\u001b[0;34m\u001b[0m\u001b[0;34m\u001b[0m\u001b[0m\n\u001b[0;32m---> 63\u001b[0;31m                 \u001b[0;32mreturn\u001b[0m \u001b[0mf\u001b[0m\u001b[0;34m(\u001b[0m\u001b[0;34m*\u001b[0m\u001b[0margs\u001b[0m\u001b[0;34m,\u001b[0m \u001b[0;34m**\u001b[0m\u001b[0mkwargs\u001b[0m\u001b[0;34m)\u001b[0m\u001b[0;34m\u001b[0m\u001b[0;34m\u001b[0m\u001b[0m\n\u001b[0m\u001b[1;32m     64\u001b[0m \u001b[0;34m\u001b[0m\u001b[0m\n\u001b[1;32m     65\u001b[0m             \u001b[0;31m# extra_args > 0\u001b[0m\u001b[0;34m\u001b[0m\u001b[0;34m\u001b[0m\u001b[0;34m\u001b[0m\u001b[0m\n",
      "\u001b[0;32m/casa/home/.local/lib/python3.6/site-packages/sklearn/metrics/cluster/_unsupervised.py\u001b[0m in \u001b[0;36msilhouette_score\u001b[0;34m(X, labels, metric, sample_size, random_state, **kwds)\u001b[0m\n\u001b[1;32m    115\u001b[0m         \u001b[0;32melse\u001b[0m\u001b[0;34m:\u001b[0m\u001b[0;34m\u001b[0m\u001b[0;34m\u001b[0m\u001b[0m\n\u001b[1;32m    116\u001b[0m             \u001b[0mX\u001b[0m\u001b[0;34m,\u001b[0m \u001b[0mlabels\u001b[0m \u001b[0;34m=\u001b[0m \u001b[0mX\u001b[0m\u001b[0;34m[\u001b[0m\u001b[0mindices\u001b[0m\u001b[0;34m]\u001b[0m\u001b[0;34m,\u001b[0m \u001b[0mlabels\u001b[0m\u001b[0;34m[\u001b[0m\u001b[0mindices\u001b[0m\u001b[0;34m]\u001b[0m\u001b[0;34m\u001b[0m\u001b[0;34m\u001b[0m\u001b[0m\n\u001b[0;32m--> 117\u001b[0;31m     \u001b[0;32mreturn\u001b[0m \u001b[0mnp\u001b[0m\u001b[0;34m.\u001b[0m\u001b[0mmean\u001b[0m\u001b[0;34m(\u001b[0m\u001b[0msilhouette_samples\u001b[0m\u001b[0;34m(\u001b[0m\u001b[0mX\u001b[0m\u001b[0;34m,\u001b[0m \u001b[0mlabels\u001b[0m\u001b[0;34m,\u001b[0m \u001b[0mmetric\u001b[0m\u001b[0;34m=\u001b[0m\u001b[0mmetric\u001b[0m\u001b[0;34m,\u001b[0m \u001b[0;34m**\u001b[0m\u001b[0mkwds\u001b[0m\u001b[0;34m)\u001b[0m\u001b[0;34m)\u001b[0m\u001b[0;34m\u001b[0m\u001b[0;34m\u001b[0m\u001b[0m\n\u001b[0m\u001b[1;32m    118\u001b[0m \u001b[0;34m\u001b[0m\u001b[0m\n\u001b[1;32m    119\u001b[0m \u001b[0;34m\u001b[0m\u001b[0m\n",
      "\u001b[0;32m/casa/home/.local/lib/python3.6/site-packages/sklearn/utils/validation.py\u001b[0m in \u001b[0;36minner_f\u001b[0;34m(*args, **kwargs)\u001b[0m\n\u001b[1;32m     61\u001b[0m             \u001b[0mextra_args\u001b[0m \u001b[0;34m=\u001b[0m \u001b[0mlen\u001b[0m\u001b[0;34m(\u001b[0m\u001b[0margs\u001b[0m\u001b[0;34m)\u001b[0m \u001b[0;34m-\u001b[0m \u001b[0mlen\u001b[0m\u001b[0;34m(\u001b[0m\u001b[0mall_args\u001b[0m\u001b[0;34m)\u001b[0m\u001b[0;34m\u001b[0m\u001b[0;34m\u001b[0m\u001b[0m\n\u001b[1;32m     62\u001b[0m             \u001b[0;32mif\u001b[0m \u001b[0mextra_args\u001b[0m \u001b[0;34m<=\u001b[0m \u001b[0;36m0\u001b[0m\u001b[0;34m:\u001b[0m\u001b[0;34m\u001b[0m\u001b[0;34m\u001b[0m\u001b[0m\n\u001b[0;32m---> 63\u001b[0;31m                 \u001b[0;32mreturn\u001b[0m \u001b[0mf\u001b[0m\u001b[0;34m(\u001b[0m\u001b[0;34m*\u001b[0m\u001b[0margs\u001b[0m\u001b[0;34m,\u001b[0m \u001b[0;34m**\u001b[0m\u001b[0mkwargs\u001b[0m\u001b[0;34m)\u001b[0m\u001b[0;34m\u001b[0m\u001b[0;34m\u001b[0m\u001b[0m\n\u001b[0m\u001b[1;32m     64\u001b[0m \u001b[0;34m\u001b[0m\u001b[0m\n\u001b[1;32m     65\u001b[0m             \u001b[0;31m# extra_args > 0\u001b[0m\u001b[0;34m\u001b[0m\u001b[0;34m\u001b[0m\u001b[0;34m\u001b[0m\u001b[0m\n",
      "\u001b[0;32m/casa/home/.local/lib/python3.6/site-packages/sklearn/metrics/cluster/_unsupervised.py\u001b[0m in \u001b[0;36msilhouette_samples\u001b[0;34m(X, labels, metric, **kwds)\u001b[0m\n\u001b[1;32m    227\u001b[0m     \u001b[0mn_samples\u001b[0m \u001b[0;34m=\u001b[0m \u001b[0mlen\u001b[0m\u001b[0;34m(\u001b[0m\u001b[0mlabels\u001b[0m\u001b[0;34m)\u001b[0m\u001b[0;34m\u001b[0m\u001b[0;34m\u001b[0m\u001b[0m\n\u001b[1;32m    228\u001b[0m     \u001b[0mlabel_freqs\u001b[0m \u001b[0;34m=\u001b[0m \u001b[0mnp\u001b[0m\u001b[0;34m.\u001b[0m\u001b[0mbincount\u001b[0m\u001b[0;34m(\u001b[0m\u001b[0mlabels\u001b[0m\u001b[0;34m)\u001b[0m\u001b[0;34m\u001b[0m\u001b[0;34m\u001b[0m\u001b[0m\n\u001b[0;32m--> 229\u001b[0;31m     \u001b[0mcheck_number_of_labels\u001b[0m\u001b[0;34m(\u001b[0m\u001b[0mlen\u001b[0m\u001b[0;34m(\u001b[0m\u001b[0mle\u001b[0m\u001b[0;34m.\u001b[0m\u001b[0mclasses_\u001b[0m\u001b[0;34m)\u001b[0m\u001b[0;34m,\u001b[0m \u001b[0mn_samples\u001b[0m\u001b[0;34m)\u001b[0m\u001b[0;34m\u001b[0m\u001b[0;34m\u001b[0m\u001b[0m\n\u001b[0m\u001b[1;32m    230\u001b[0m \u001b[0;34m\u001b[0m\u001b[0m\n\u001b[1;32m    231\u001b[0m     \u001b[0mkwds\u001b[0m\u001b[0;34m[\u001b[0m\u001b[0;34m'metric'\u001b[0m\u001b[0;34m]\u001b[0m \u001b[0;34m=\u001b[0m \u001b[0mmetric\u001b[0m\u001b[0;34m\u001b[0m\u001b[0;34m\u001b[0m\u001b[0m\n",
      "\u001b[0;32m/casa/home/.local/lib/python3.6/site-packages/sklearn/metrics/cluster/_unsupervised.py\u001b[0m in \u001b[0;36mcheck_number_of_labels\u001b[0;34m(n_labels, n_samples)\u001b[0m\n\u001b[1;32m     33\u001b[0m     \u001b[0;32mif\u001b[0m \u001b[0;32mnot\u001b[0m \u001b[0;36m1\u001b[0m \u001b[0;34m<\u001b[0m \u001b[0mn_labels\u001b[0m \u001b[0;34m<\u001b[0m \u001b[0mn_samples\u001b[0m\u001b[0;34m:\u001b[0m\u001b[0;34m\u001b[0m\u001b[0;34m\u001b[0m\u001b[0m\n\u001b[1;32m     34\u001b[0m         raise ValueError(\"Number of labels is %d. Valid values are 2 \"\n\u001b[0;32m---> 35\u001b[0;31m                          \"to n_samples - 1 (inclusive)\" % n_labels)\n\u001b[0m\u001b[1;32m     36\u001b[0m \u001b[0;34m\u001b[0m\u001b[0m\n\u001b[1;32m     37\u001b[0m \u001b[0;34m\u001b[0m\u001b[0m\n",
      "\u001b[0;31mValueError\u001b[0m: Number of labels is 15. Valid values are 2 to n_samples - 1 (inclusive)"
     ]
    },
    {
     "data": {
      "image/png": "[encoded data removed]",
      "text/plain": [
       "<Figure size 432x288 with 1 Axes>"
      ]
     },
     "metadata": {
      "needs_background": "light"
     },
     "output_type": "display_data"
    },
    {
     "data": {
      "image/png": "[encoded data removed]",
      "text/plain": [
       "<Figure size 432x288 with 1 Axes>"
      ]
     },
     "metadata": {
      "needs_background": "light"
     },
     "output_type": "display_data"
    },
    {
     "data": {
      "image/png": "[encoded data removed]",
      "text/plain": [
       "<Figure size 432x288 with 1 Axes>"
      ]
     },
     "metadata": {
      "needs_background": "light"
     },
     "output_type": "display_data"
    },
    {
     "data": {
      "image/png": "[encoded data removed]",
      "text/plain": [
       "<Figure size 432x288 with 1 Axes>"
      ]
     },
     "metadata": {
      "needs_background": "light"
     },
     "output_type": "display_data"
    },
    {
     "data": {
      "image/png": "[encoded data removed]",
      "text/plain": [
       "<Figure size 432x288 with 1 Axes>"
      ]
     },
     "metadata": {
      "needs_background": "light"
     },
     "output_type": "display_data"
    },
    {
     "data": {
      "image/png": "[encoded data removed]",
      "text/plain": [
       "<Figure size 432x288 with 1 Axes>"
      ]
     },
     "metadata": {
      "needs_background": "light"
     },
     "output_type": "display_data"
    },
    {
     "data": {
      "image/png": "[encoded data removed]",
      "text/plain": [
       "<Figure size 432x288 with 1 Axes>"
      ]
     },
     "metadata": {
      "needs_background": "light"
     },
     "output_type": "display_data"
    },
    {
     "data": {
      "image/png": "[encoded data removed]",
      "text/plain": [
       "<Figure size 432x288 with 1 Axes>"
      ]
     },
     "metadata": {
      "needs_background": "light"
     },
     "output_type": "display_data"
    },
    {
     "data": {
      "image/png": "[encoded data removed]",
      "text/plain": [
       "<Figure size 432x288 with 1 Axes>"
      ]
     },
     "metadata": {
      "needs_background": "light"
     },
     "output_type": "display_data"
    },
    {
     "data": {
      "image/png": "[encoded data removed]",
      "text/plain": [
       "<Figure size 432x288 with 1 Axes>"
      ]
     },
     "metadata": {
      "needs_background": "light"
     },
     "output_type": "display_data"
    },
    {
     "data": {
      "image/png": "[encoded data removed]",
      "text/plain": [
       "<Figure size 432x288 with 1 Axes>"
      ]
     },
     "metadata": {
      "needs_background": "light"
     },
     "output_type": "display_data"
    },
    {
     "data": {
      "image/png": "[encoded data removed]",
      "text/plain": [
       "<Figure size 432x288 with 1 Axes>"
      ]
     },
     "metadata": {
      "needs_background": "light"
     },
     "output_type": "display_data"
    },
    {
     "data": {
      "image/png": "[encoded data removed]",
      "text/plain": [
       "<Figure size 432x288 with 1 Axes>"
      ]
     },
     "metadata": {
      "needs_background": "light"
     },
     "output_type": "display_data"
    },
    {
     "data": {
      "image/png": "[encoded data removed]",
      "text/plain": [
       "<Figure size 432x288 with 1 Axes>"
      ]
     },
     "metadata": {
      "needs_background": "light"
     },
     "output_type": "display_data"
    }
   ],
   "source": [
    "n_clusters_list = [2, 3, 4, 5, 6, 7, 8, 9, 10, 11, 12, 13, 14, 15]\n",
    "for n in n_clusters_list:\n",
    "    cluster_labels= KMeans(n_clusters=n, random_state=0).fit_predict(X_abnor)\n",
    "\n",
    "    fig, ax1 = plt.subplots()\n",
    "    ax1.set_ylim([0, len(X) + (n + 1) * 10])\n",
    "    silhouette_avg = silhouette_score(X_abnor, cluster_labels)\n",
    "    print(\"For n_clusters =\", n, \"The average silhouette_score with kmeans is :\", silhouette_avg)\n",
    "\n",
    "    # Compute the silhouette scores for each sample\n",
    "    sample_silhouette_values = silhouette_samples(X_abnor, cluster_labels)\n",
    "\n",
    "    y_lower = 10\n",
    "    for i in range(n):\n",
    "        ith_cluster_silhouette_values = sample_silhouette_values[cluster_labels == i]\n",
    "\n",
    "        ith_cluster_silhouette_values.sort()\n",
    "\n",
    "        size_cluster_i = ith_cluster_silhouette_values.shape[0]\n",
    "        y_upper = y_lower + size_cluster_i\n",
    "\n",
    "        color = cm.nipy_spectral(float(i) / n)\n",
    "        ax1.fill_betweenx(\n",
    "            np.arange(y_lower, y_upper),\n",
    "            0,\n",
    "            ith_cluster_silhouette_values,\n",
    "            facecolor=color,\n",
    "            edgecolor=color,\n",
    "            alpha=0.7,\n",
    "        )\n",
    "\n",
    "        ax1.text(-0.05, y_lower + 0.5 * size_cluster_i, str(i))\n",
    "\n",
    "        y_lower = y_upper + 10\n",
    "\n",
    "    ax1.set_title(\"The silhouette plot for the various clusters.\")\n",
    "    ax1.set_xlabel(\"The silhouette coefficient values\")\n",
    "    ax1.set_ylabel(\"Cluster label\")\n",
    "\n",
    "    ax1.axvline(x=silhouette_avg, color=\"red\", linestyle=\"--\")\n",
    "\n",
    "    ax1.set_yticks([])\n",
    "    ax1.set_xticks([-0.1, 0, 0.2, 0.4, 0.6, 0.8, 1])"
   ]
  },
  {
   "cell_type": "code",
   "execution_count": 113,
   "id": "adjustable-abuse",
   "metadata": {},
   "outputs": [],
   "source": [
    "cluster_labels= KMeans(n_clusters=5, random_state=0).fit_predict(X_abnor)"
   ]
  },
  {
   "cell_type": "code",
   "execution_count": 114,
   "id": "fleet-century",
   "metadata": {},
   "outputs": [
    {
     "data": {
      "text/plain": [
       "array([3, 4, 1, 2, 2, 2, 1, 3, 1, 1, 0, 4, 0, 0, 1], dtype=int32)"
      ]
     },
     "execution_count": 114,
     "metadata": {},
     "output_type": "execute_result"
    }
   ],
   "source": [
    "cluster_labels"
   ]
  },
  {
   "cell_type": "code",
   "execution_count": 117,
   "id": "written-wisdom",
   "metadata": {},
   "outputs": [],
   "source": [
    "abnormal['cluster'] = cluster_labels"
   ]
  },
  {
   "cell_type": "code",
   "execution_count": 120,
   "id": "cooked-measurement",
   "metadata": {
    "scrolled": true
   },
   "outputs": [
    {
     "data": {
      "text/html": [
       "<div>\n",
       "<style scoped>\n",
       "    .dataframe tbody tr th:only-of-type {\n",
       "        vertical-align: middle;\n",
       "    }\n",
       "\n",
       "    .dataframe tbody tr th {\n",
       "        vertical-align: top;\n",
       "    }\n",
       "\n",
       "    .dataframe thead th {\n",
       "        text-align: right;\n",
       "    }\n",
       "</style>\n",
       "<table border=\"1\" class=\"dataframe\">\n",
       "  <thead>\n",
       "    <tr style=\"text-align: right;\">\n",
       "      <th></th>\n",
       "      <th>latent</th>\n",
       "      <th>Group</th>\n",
       "      <th>subjects</th>\n",
       "      <th>loss</th>\n",
       "      <th>lof</th>\n",
       "      <th>cluster</th>\n",
       "    </tr>\n",
       "  </thead>\n",
       "  <tbody>\n",
       "    <tr>\n",
       "      <th>3</th>\n",
       "      <td>[-0.34376913, -0.967747, -0.1834757, 0.7089696...</td>\n",
       "      <td>hcp</td>\n",
       "      <td>586460</td>\n",
       "      <td>3926</td>\n",
       "      <td>-1</td>\n",
       "      <td>2</td>\n",
       "    </tr>\n",
       "    <tr>\n",
       "      <th>4</th>\n",
       "      <td>[-0.67884856, -0.36677438, 0.05931678, 0.56620...</td>\n",
       "      <td>hcp</td>\n",
       "      <td>105923</td>\n",
       "      <td>4177</td>\n",
       "      <td>-1</td>\n",
       "      <td>2</td>\n",
       "    </tr>\n",
       "    <tr>\n",
       "      <th>5</th>\n",
       "      <td>[-1.023072, -0.15767668, -0.25852677, -0.06816...</td>\n",
       "      <td>hcp</td>\n",
       "      <td>969476</td>\n",
       "      <td>3749</td>\n",
       "      <td>-1</td>\n",
       "      <td>2</td>\n",
       "    </tr>\n",
       "  </tbody>\n",
       "</table>\n",
       "</div>"
      ],
      "text/plain": [
       "                                              latent Group subjects  loss  \\\n",
       "3  [-0.34376913, -0.967747, -0.1834757, 0.7089696...   hcp   586460  3926   \n",
       "4  [-0.67884856, -0.36677438, 0.05931678, 0.56620...   hcp   105923  4177   \n",
       "5  [-1.023072, -0.15767668, -0.25852677, -0.06816...   hcp   969476  3749   \n",
       "\n",
       "   lof  cluster  \n",
       "3   -1        2  \n",
       "4   -1        2  \n",
       "5   -1        2  "
      ]
     },
     "execution_count": 120,
     "metadata": {},
     "output_type": "execute_result"
    }
   ],
   "source": [
    "abnormal[abnormal.cluster==2]"
   ]
  },
  {
   "cell_type": "code",
   "execution_count": 122,
   "id": "inclusive-chamber",
   "metadata": {},
   "outputs": [],
   "source": [
    "cluster_labels= KMeans(n_clusters=3, random_state=0).fit_predict(X_abnor)\n",
    "abnormal['cluster'] = cluster_labels"
   ]
  },
  {
   "cell_type": "code",
   "execution_count": 356,
   "id": "opposite-commission",
   "metadata": {},
   "outputs": [
    {
     "data": {
      "text/html": [
       "<div>\n",
       "<style scoped>\n",
       "    .dataframe tbody tr th:only-of-type {\n",
       "        vertical-align: middle;\n",
       "    }\n",
       "\n",
       "    .dataframe tbody tr th {\n",
       "        vertical-align: top;\n",
       "    }\n",
       "\n",
       "    .dataframe thead th {\n",
       "        text-align: right;\n",
       "    }\n",
       "</style>\n",
       "<table border=\"1\" class=\"dataframe\">\n",
       "  <thead>\n",
       "    <tr style=\"text-align: right;\">\n",
       "      <th></th>\n",
       "      <th>latent</th>\n",
       "      <th>Group</th>\n",
       "      <th>subjects</th>\n",
       "      <th>loss</th>\n",
       "      <th>nn</th>\n",
       "      <th>sf</th>\n",
       "      <th>lof</th>\n",
       "      <th>a_score</th>\n",
       "      <th>cluster</th>\n",
       "    </tr>\n",
       "  </thead>\n",
       "  <tbody>\n",
       "    <tr>\n",
       "      <th>10</th>\n",
       "      <td>[2.4475284, -3.4358513, 0.9387543, 1.4231597, ...</td>\n",
       "      <td>hcp</td>\n",
       "      <td>810439</td>\n",
       "      <td>3957</td>\n",
       "      <td>2.909074</td>\n",
       "      <td>-89.331883</td>\n",
       "      <td>-1</td>\n",
       "      <td>182.441937</td>\n",
       "      <td>9</td>\n",
       "    </tr>\n",
       "    <tr>\n",
       "      <th>13</th>\n",
       "      <td>[0.04080078, -4.0020103, 0.48344234, 0.1846454...</td>\n",
       "      <td>hcp</td>\n",
       "      <td>609143</td>\n",
       "      <td>3248</td>\n",
       "      <td>3.361013</td>\n",
       "      <td>-346.583756</td>\n",
       "      <td>-1</td>\n",
       "      <td>697.241900</td>\n",
       "      <td>9</td>\n",
       "    </tr>\n",
       "    <tr>\n",
       "      <th>18</th>\n",
       "      <td>[-0.74268883, -3.2556813, -0.22183056, 0.86715...</td>\n",
       "      <td>hcp</td>\n",
       "      <td>163129</td>\n",
       "      <td>3575</td>\n",
       "      <td>3.127581</td>\n",
       "      <td>109.930926</td>\n",
       "      <td>-1</td>\n",
       "      <td>-215.949073</td>\n",
       "      <td>9</td>\n",
       "    </tr>\n",
       "    <tr>\n",
       "      <th>23</th>\n",
       "      <td>[0.5436521, -3.6671193, -0.44985706, 1.0155271...</td>\n",
       "      <td>hcp</td>\n",
       "      <td>105923</td>\n",
       "      <td>3937</td>\n",
       "      <td>2.818244</td>\n",
       "      <td>49.756492</td>\n",
       "      <td>-1</td>\n",
       "      <td>-95.830035</td>\n",
       "      <td>9</td>\n",
       "    </tr>\n",
       "  </tbody>\n",
       "</table>\n",
       "</div>"
      ],
      "text/plain": [
       "                                               latent Group subjects  loss  \\\n",
       "10  [2.4475284, -3.4358513, 0.9387543, 1.4231597, ...   hcp   810439  3957   \n",
       "13  [0.04080078, -4.0020103, 0.48344234, 0.1846454...   hcp   609143  3248   \n",
       "18  [-0.74268883, -3.2556813, -0.22183056, 0.86715...   hcp   163129  3575   \n",
       "23  [0.5436521, -3.6671193, -0.44985706, 1.0155271...   hcp   105923  3937   \n",
       "\n",
       "          nn          sf  lof     a_score  cluster  \n",
       "10  2.909074  -89.331883   -1  182.441937        9  \n",
       "13  3.361013 -346.583756   -1  697.241900        9  \n",
       "18  3.127581  109.930926   -1 -215.949073        9  \n",
       "23  2.818244   49.756492   -1  -95.830035        9  "
      ]
     },
     "execution_count": 356,
     "metadata": {},
     "output_type": "execute_result"
    }
   ],
   "source": [
    "abnormal[abnormal.cluster==9]"
   ]
  },
  {
   "cell_type": "markdown",
   "id": "occupational-arrest",
   "metadata": {},
   "source": [
    "### Reconstructions"
   ]
  },
  {
   "cell_type": "code",
   "execution_count": 134,
   "id": "maritime-scenario",
   "metadata": {},
   "outputs": [
    {
     "name": "stdout",
     "output_type": "stream",
     "text": [
      "[-0.057729226, 0.019369831, 0.41063666, 3.1779537, 1.1180569, -2.1365812, 2.0469081, 1.6159005, 0.15550554, 0.65777165]\n",
      "[1.5605457, -3.0517354, -2.1927452, 2.5223696, 1.034786, 0.8640467, 0.31865478, 0.88094807, -1.3999795, 1.2780876]\n"
     ]
    }
   ],
   "source": [
    "z0 = [np.mean([abnormal.latent[k][i] for k in range(len(abnormal)) if list(abnormal.cluster)[k]==0]) for i in range(10)]\n",
    "print(z0)\n",
    "\n",
    "z4 = [np.mean([abnormal.latent[k][i] for k in range(len(abnormal)) if list(abnormal.cluster)[k]==4]) for i in range(10)]\n",
    "print(z4)"
   ]
  },
  {
   "cell_type": "code",
   "execution_count": 138,
   "id": "configured-hypothetical",
   "metadata": {},
   "outputs": [
    {
     "name": "stdout",
     "output_type": "stream",
     "text": [
      "[-0.057729226, 0.019369831, 0.41063666, 3.1779537, 1.1180569, -2.1365812, 2.0469081, 1.6159005, 0.15550554, 0.65777165]\n",
      "[1.5605457, -3.0517354, -2.1927452, 2.5223696, 1.034786, 0.8640467, 0.31865478, 0.88094807, -1.3999795, 1.2780876]\n",
      "[-0.057729226, 0.019369831, 0.41063666, 3.1779537, 1.1180569, -2.1365812, 2.0469081, 1.6159005, 0.15550554, 0.65777165]\n",
      "[1.5605457, -3.0517354, -2.1927452, 2.5223696, 1.034786, 0.8640467, 0.31865478, 0.88094807, -1.3999795, 1.2780876]\n",
      "[-0.057729226, 0.019369831, 0.41063666, 3.1779537, 1.1180569, -2.1365812, 2.0469081, 1.6159005, 0.15550554, 0.65777165]\n",
      "[1.5605457, -3.0517354, -2.1927452, 2.5223696, 1.034786, 0.8640467, 0.31865478, 0.88094807, -1.3999795, 1.2780876]\n"
     ]
    }
   ],
   "source": [
    "z1 = [np.mean([abnormal.latent[k][i] for k in range(len(abnormal)) if list(abnormal.cluster)[k]==1]) for i in range(10)]\n",
    "print(z0)\n",
    "\n",
    "z2 = [np.mean([abnormal.latent[k][i] for k in range(len(abnormal)) if list(abnormal.cluster)[k]==2]) for i in range(10)]\n",
    "print(z4)\n",
    "\n",
    "z3 = [np.mean([abnormal.latent[k][i] for k in range(len(abnormal)) if list(abnormal.cluster)[k]==3]) for i in range(10)]\n",
    "print(z0)\n",
    "\n",
    "z6 = [np.mean([abnormal.latent[k][i] for k in range(len(abnormal)) if list(abnormal.cluster)[k]==6]) for i in range(10)]\n",
    "print(z4)\n",
    "\n",
    "z7 = [np.mean([abnormal.latent[k][i] for k in range(len(abnormal)) if list(abnormal.cluster)[k]==7]) for i in range(10)]\n",
    "print(z0)\n",
    "\n",
    "z8 = [np.mean([abnormal.latent[k][i] for k in range(len(abnormal)) if list(abnormal.cluster)[k]==9]) for i in range(10)]\n",
    "print(z4)"
   ]
  },
  {
   "cell_type": "code",
   "execution_count": 135,
   "id": "julian-alberta",
   "metadata": {},
   "outputs": [
    {
     "name": "stdout",
     "output_type": "stream",
     "text": [
      "[1.4576374, -0.86520636, -0.6617214, -0.32259452, 1.9742482, -1.2503551, 3.5093257, 1.1488994, -0.61514515, 1.6285467]\n",
      "[1.308041, -0.08524938, -1.6842239, 0.88843125, 2.5763, -0.22308488, 1.956274, 0.7264746, -2.3611698, -0.48263615]\n"
     ]
    }
   ],
   "source": [
    "z5 = [np.mean([abnormal.latent[k][i] for k in range(len(abnormal)) if list(abnormal.cluster)[k]==5]) for i in range(10)]\n",
    "print(z5)\n",
    "\n",
    "z8 = [np.mean([abnormal.latent[k][i] for k in range(len(abnormal)) if list(abnormal.cluster)[k]==8]) for i in range(10)]\n",
    "print(z8)"
   ]
  },
  {
   "cell_type": "code",
   "execution_count": 136,
   "id": "designing-coast",
   "metadata": {},
   "outputs": [],
   "source": [
    "arr_out = []\n",
    "values = []\n",
    "for enc, lab in zip([z0, z4, z5, z8], ['c0', 'c4', 'c5', 'c8']):\n",
    "    z = torch.from_numpy(np.array(enc)).to(device, dtype=torch.float32)\n",
    "    z = torch.unsqueeze(z, dim=0)\n",
    "    out = model.decode(z)\n",
    "    output = torch.argmax(out, dim=1)\n",
    "    out = np.array(np.squeeze(output).cpu().detach().numpy())\n",
    "    arr_out.append(out)\n",
    "    values.append(lab)\n",
    "\n",
    "arr_out = np.array(arr_out)\n",
    "np.save(f\"/volatile/arr_out.npy\", arr_out)\n",
    "np.save('/volatile/arr_label.npy', np.array(values))"
   ]
  },
  {
   "cell_type": "code",
   "execution_count": 137,
   "id": "close-guidance",
   "metadata": {},
   "outputs": [],
   "source": [
    "for k in range(4):\n",
    "    aims.write(dtx.convert.bucket_numpy_to_bucketMap_aims(dtx.convert.volume_to_bucket_numpy(arr_out[k]), voxel_size=(2,2,2)), f\"/volatile/bucket_cluster{k}.bck\")"
   ]
  },
  {
   "cell_type": "code",
   "execution_count": 141,
   "id": "annual-terry",
   "metadata": {},
   "outputs": [],
   "source": [
    "arr_out = []\n",
    "values = []\n",
    "for enc, lab in zip([z1, z2, z3, z6, z7, z8], ['c1', 'c2', 'c3', 'c6', 'c7', 'c9']):\n",
    "    z = torch.from_numpy(np.array(enc)).to(device, dtype=torch.float32)\n",
    "    z = torch.unsqueeze(z, dim=0)\n",
    "    out = model.decode(z)\n",
    "    output = torch.argmax(out, dim=1)\n",
    "    out = np.array(np.squeeze(output).cpu().detach().numpy())\n",
    "    arr_out.append(out)\n",
    "    values.append(lab)\n",
    "\n",
    "arr_out = np.array(arr_out)\n",
    "np.save(f\"/volatile/arr_out.npy\", arr_out)\n",
    "np.save('/volatile/arr_label.npy', np.array(values))"
   ]
  },
  {
   "cell_type": "code",
   "execution_count": 142,
   "id": "completed-current",
   "metadata": {},
   "outputs": [],
   "source": [
    "for k, i in enumerate([1, 2,3,6,7,9]):\n",
    "    aims.write(dtx.convert.bucket_numpy_to_bucketMap_aims(dtx.convert.volume_to_bucket_numpy(arr_out[k]), voxel_size=(2,2,2)), f\"/volatile/bucket_cluster{i}.bck\")"
   ]
  },
  {
   "cell_type": "markdown",
   "id": "regular-maker",
   "metadata": {},
   "source": [
    "### Going from control centroid to one abnormal cluster"
   ]
  },
  {
   "cell_type": "code",
   "execution_count": 208,
   "id": "finnish-syndicate",
   "metadata": {},
   "outputs": [
    {
     "data": {
      "text/plain": [
       "[-0.93279177,\n",
       " -0.40741763,\n",
       " -2.168207,\n",
       " 2.3000393,\n",
       " 2.89409,\n",
       " -1.1772474,\n",
       " 0.4227159,\n",
       " -0.32224128,\n",
       " -1.9756174,\n",
       " 0.43747678]"
      ]
     },
     "execution_count": 208,
     "metadata": {},
     "output_type": "execute_result"
    }
   ],
   "source": [
    "z2"
   ]
  },
  {
   "cell_type": "code",
   "execution_count": 205,
   "id": "asian-implement",
   "metadata": {
    "scrolled": true
   },
   "outputs": [
    {
     "name": "stdout",
     "output_type": "stream",
     "text": [
      "[1.159973, -0.9406189, -1.4649181, 1.4306669, 1.4758445, -1.1576344, 1.1078352, 1.0203571, -1.3120298, 1.2407905]\n"
     ]
    }
   ],
   "source": [
    "z_train = [np.mean([X_train[k][i] for k in range(len(X_train))]) for i in range(10)]\n",
    "print(z_train)"
   ]
  },
  {
   "cell_type": "code",
   "execution_count": 221,
   "id": "alpine-bidding",
   "metadata": {},
   "outputs": [],
   "source": [
    "dim0 = [z2[0]] + [z2[0] + ((z_train[0]-z2[0])/5)*k for k in [1,2,3,4]] + [z_train[0]]\n",
    "dim1 = [z2[1]] + [z2[1] + ((z_train[1]-z2[1])/5)*k for k in [1,2,3,4]] + [z_train[1]]\n",
    "dim2 = [z2[2]] + [z2[2] + ((z_train[2]-z2[2])/5)*k for k in [1,2,3,4]] + [z_train[2]]\n",
    "dim3 = [z2[3]] + [z2[3] + ((z_train[3]-z2[3])/5)*k for k in [1,2,3,4]] + [z_train[3]]\n",
    "dim4 = [z2[4]] + [z2[4] + ((z_train[4]-z2[4])/5)*k for k in [1,2,3,4]] + [z_train[4]]\n",
    "dim5 = [z2[5]] + [z2[5] + ((z_train[5]-z2[5])/5)*k for k in [1,2,3,4]] + [z_train[5]]\n",
    "dim6 = [z2[6]] + [z2[6] + ((z_train[6]-z2[6])/5)*k for k in [1,2,3,4]] + [z_train[6]]\n",
    "dim7 = [z2[7]] + [z2[7] + ((z_train[7]-z2[7])/5)*k for k in [1,2,3,4]] + [z_train[7]]\n",
    "dim8 = [z2[8]] + [z2[8] + ((z_train[8]-z2[8])/5)*k for k in [1,2,3,4]] + [z_train[8]]\n",
    "dim9 = [z2[9]] + [z2[9] + ((z_train[9]-z2[9])/5)*k for k in [1,2,3,4]] + [z_train[9]]"
   ]
  },
  {
   "cell_type": "code",
   "execution_count": 226,
   "id": "artistic-bulgarian",
   "metadata": {},
   "outputs": [],
   "source": [
    "src_dir ='/neurospin/dico/lguillon/miccai_22/analyses_gridsearch/'\n",
    "arr_out = []\n",
    "values = []\n",
    "\n",
    "for k in range(6):\n",
    "    enc = [dim0[k], dim1[k], dim2[k], dim3[k], dim4[k], dim5[k], dim6[k], dim7[k], dim8[k], dim9[k]]\n",
    "    z = torch.from_numpy(np.array(enc)).to(device, dtype=torch.float32)\n",
    "    z = torch.unsqueeze(z, dim=0)\n",
    "    out = model.decode(z)\n",
    "    output = torch.argmax(out, dim=1)\n",
    "    out = np.array(np.squeeze(output).cpu().detach().numpy())\n",
    "    arr_out.append(out)\n",
    "    values.append(f\"step_{k}\")\n",
    "\n",
    "arr_out = np.array(arr_out)\n",
    "#np.save(f\"/neurospin/dico/lguillon/midl_22/visu_cluster_gen/interpolation_0_1.npy\", arr_out)\n",
    "#np.save('/neurospin/dico/lguillon/midl_22/visu_cluster_gen/label_interpolation_0_1.npy', np.array(values))\n",
    "for k in range(6):\n",
    "    aims.write(dtx.convert.bucket_numpy_to_bucketMap_aims(dtx.convert.volume_to_bucket_numpy(arr_out[k]), voxel_size=(2,2,2)), f\"{src_dir}cluster_train_2/interpolation_bucket_step_{k}.bck\")"
   ]
  },
  {
   "cell_type": "markdown",
   "id": "resident-activation",
   "metadata": {},
   "source": [
    "#### From train to 9"
   ]
  },
  {
   "cell_type": "code",
   "execution_count": 353,
   "id": "satellite-happening",
   "metadata": {},
   "outputs": [],
   "source": [
    "dim0 = [z9[0]] + [z9[0] + ((z_train[0]-z9[0])/5)*k for k in [1,2,3,4]] + [z_train[0]]\n",
    "dim1 = [z9[1]] + [z9[1] + ((z_train[1]-z9[1])/5)*k for k in [1,2,3,4]] + [z_train[1]]\n",
    "dim2 = [z9[2]] + [z9[2] + ((z_train[2]-z9[2])/5)*k for k in [1,2,3,4]] + [z_train[2]]\n",
    "dim3 = [z9[3]] + [z9[3] + ((z_train[3]-z9[3])/5)*k for k in [1,2,3,4]] + [z_train[3]]\n",
    "dim4 = [z9[4]] + [z9[4] + ((z_train[4]-z9[4])/5)*k for k in [1,2,3,4]] + [z_train[4]]\n",
    "dim5 = [z9[5]] + [z9[5] + ((z_train[5]-z9[5])/5)*k for k in [1,2,3,4]] + [z_train[5]]\n",
    "dim6 = [z9[6]] + [z9[6] + ((z_train[6]-z9[6])/5)*k for k in [1,2,3,4]] + [z_train[6]]\n",
    "dim7 = [z9[7]] + [z9[7] + ((z_train[7]-z9[7])/5)*k for k in [1,2,3,4]] + [z_train[7]]\n",
    "dim8 = [z9[8]] + [z9[8] + ((z_train[8]-z9[8])/5)*k for k in [1,2,3,4]] + [z_train[8]]\n",
    "dim9 = [z9[9]] + [z9[9] + ((z_train[9]-z9[9])/5)*k for k in [1,2,3,4]] + [z_train[9]]"
   ]
  },
  {
   "cell_type": "code",
   "execution_count": 355,
   "id": "tested-nicholas",
   "metadata": {},
   "outputs": [],
   "source": [
    "src_dir ='/neurospin/dico/lguillon/miccai_22/analyses_gridsearch/'\n",
    "arr_out = []\n",
    "values = []\n",
    "\n",
    "for k in range(6):\n",
    "    enc = [dim0[k], dim1[k], dim2[k], dim3[k], dim4[k], dim5[k], dim6[k], dim7[k], dim8[k], dim9[k]]\n",
    "    z = torch.from_numpy(np.array(enc)).to(device, dtype=torch.float32)\n",
    "    z = torch.unsqueeze(z, dim=0)\n",
    "    out = model.decode(z)\n",
    "    output = torch.argmax(out, dim=1)\n",
    "    out = np.array(np.squeeze(output).cpu().detach().numpy())\n",
    "    arr_out.append(out)\n",
    "    values.append(f\"step_{k}\")\n",
    "\n",
    "arr_out = np.array(arr_out)\n",
    "#np.save(f\"/neurospin/dico/lguillon/midl_22/visu_cluster_gen/interpolation_0_1.npy\", arr_out)\n",
    "#np.save('/neurospin/dico/lguillon/midl_22/visu_cluster_gen/label_interpolation_0_1.npy', np.array(values))\n",
    "for k in range(6):\n",
    "    aims.write(dtx.convert.bucket_numpy_to_bucketMap_aims(dtx.convert.volume_to_bucket_numpy(arr_out[k]), voxel_size=(2,2,2)), f\"{src_dir}cluster_train_9/interpolation_bucket_step_{k}.bck\")"
   ]
  },
  {
   "cell_type": "markdown",
   "id": "stable-participation",
   "metadata": {},
   "source": [
    "#### From train to 8"
   ]
  },
  {
   "cell_type": "code",
   "execution_count": 358,
   "id": "manufactured-moment",
   "metadata": {},
   "outputs": [],
   "source": [
    "dim0 = [z8[0]] + [z8[0] + ((z_train[0]-z8[0])/5)*k for k in [1,2,3,4]] + [z_train[0]]\n",
    "dim1 = [z8[1]] + [z8[1] + ((z_train[1]-z8[1])/5)*k for k in [1,2,3,4]] + [z_train[1]]\n",
    "dim2 = [z8[2]] + [z8[2] + ((z_train[2]-z8[2])/5)*k for k in [1,2,3,4]] + [z_train[2]]\n",
    "dim3 = [z8[3]] + [z8[3] + ((z_train[3]-z8[3])/5)*k for k in [1,2,3,4]] + [z_train[3]]\n",
    "dim4 = [z8[4]] + [z8[4] + ((z_train[4]-z8[4])/5)*k for k in [1,2,3,4]] + [z_train[4]]\n",
    "dim5 = [z8[5]] + [z8[5] + ((z_train[5]-z8[5])/5)*k for k in [1,2,3,4]] + [z_train[5]]\n",
    "dim6 = [z8[6]] + [z8[6] + ((z_train[6]-z8[6])/5)*k for k in [1,2,3,4]] + [z_train[6]]\n",
    "dim7 = [z8[7]] + [z8[7] + ((z_train[7]-z8[7])/5)*k for k in [1,2,3,4]] + [z_train[7]]\n",
    "dim8 = [z8[8]] + [z8[8] + ((z_train[8]-z8[8])/5)*k for k in [1,2,3,4]] + [z_train[8]]\n",
    "dim9 = [z8[9]] + [z8[9] + ((z_train[9]-z8[9])/5)*k for k in [1,2,3,4]] + [z_train[9]]"
   ]
  },
  {
   "cell_type": "code",
   "execution_count": 359,
   "id": "active-framework",
   "metadata": {},
   "outputs": [],
   "source": [
    "src_dir ='/neurospin/dico/lguillon/miccai_22/analyses_gridsearch/'\n",
    "arr_out = []\n",
    "values = []\n",
    "\n",
    "for k in range(6):\n",
    "    enc = [dim0[k], dim1[k], dim2[k], dim3[k], dim4[k], dim5[k], dim6[k], dim7[k], dim8[k], dim9[k]]\n",
    "    z = torch.from_numpy(np.array(enc)).to(device, dtype=torch.float32)\n",
    "    z = torch.unsqueeze(z, dim=0)\n",
    "    out = model.decode(z)\n",
    "    output = torch.argmax(out, dim=1)\n",
    "    out = np.array(np.squeeze(output).cpu().detach().numpy())\n",
    "    arr_out.append(out)\n",
    "    values.append(f\"step_{k}\")\n",
    "\n",
    "arr_out = np.array(arr_out)\n",
    "#np.save(f\"/neurospin/dico/lguillon/midl_22/visu_cluster_gen/interpolation_0_1.npy\", arr_out)\n",
    "#np.save('/neurospin/dico/lguillon/midl_22/visu_cluster_gen/label_interpolation_0_1.npy', np.array(values))\n",
    "for k in range(6):\n",
    "    aims.write(dtx.convert.bucket_numpy_to_bucketMap_aims(dtx.convert.volume_to_bucket_numpy(arr_out[k]), voxel_size=(2,2,2)), f\"{src_dir}cluster_train_8/interpolation_bucket_step_{k}.bck\")"
   ]
  },
  {
   "cell_type": "markdown",
   "id": "powered-portland",
   "metadata": {},
   "source": [
    "### Classification"
   ]
  },
  {
   "cell_type": "code",
   "execution_count": 114,
   "id": "laughing-demand",
   "metadata": {},
   "outputs": [],
   "source": [
    "from sklearn.model_selection import train_test_split\n",
    "from sklearn.ensemble import GradientBoostingClassifier\n",
    "from sklearn.linear_model import LogisticRegression\n",
    "from sklearn.ensemble import RandomForestClassifier"
   ]
  },
  {
   "cell_type": "code",
   "execution_count": 201,
   "id": "interesting-tunnel",
   "metadata": {},
   "outputs": [],
   "source": [
    "X_hand = np.concatenate((encoded['congenital'], encoded['ctrl'], encoded['amputee']))\n",
    "label_hand = np.array(['cong' for k in range(len(encoded['congenital']))]+['ctrl' for k in range(len(encoded['ctrl']))]+ ['ctrl' for k in range(len(encoded['amputee']))])\n",
    "\n",
    "X_train, X_test, y_train, y_test = train_test_split(X_hand, label_hand, test_size=0.4, stratify=label_hand, random_state=42)"
   ]
  },
  {
   "cell_type": "code",
   "execution_count": 202,
   "id": "bulgarian-animal",
   "metadata": {
    "scrolled": true
   },
   "outputs": [
    {
     "name": "stdout",
     "output_type": "stream",
     "text": [
      "              precision    recall  f1-score   support\n",
      "\n",
      "        cong       0.33      0.50      0.40         2\n",
      "        ctrl       0.80      0.67      0.73         6\n",
      "\n",
      "    accuracy                           0.62         8\n",
      "   macro avg       0.57      0.58      0.56         8\n",
      "weighted avg       0.68      0.62      0.65         8\n",
      "\n",
      "0.625\n",
      "              precision    recall  f1-score   support\n",
      "\n",
      "        cong       0.33      0.50      0.40         2\n",
      "        ctrl       0.80      0.67      0.73         6\n",
      "\n",
      "    accuracy                           0.62         8\n",
      "   macro avg       0.57      0.58      0.56         8\n",
      "weighted avg       0.68      0.62      0.65         8\n",
      "\n",
      "0.625\n",
      "              precision    recall  f1-score   support\n",
      "\n",
      "        cong       0.00      0.00      0.00         2\n",
      "        ctrl       0.67      0.67      0.67         6\n",
      "\n",
      "    accuracy                           0.50         8\n",
      "   macro avg       0.33      0.33      0.33         8\n",
      "weighted avg       0.50      0.50      0.50         8\n",
      "\n",
      "0.5\n",
      "              precision    recall  f1-score   support\n",
      "\n",
      "        cong       0.00      0.00      0.00         2\n",
      "        ctrl       0.67      0.67      0.67         6\n",
      "\n",
      "    accuracy                           0.50         8\n",
      "   macro avg       0.33      0.33      0.33         8\n",
      "weighted avg       0.50      0.50      0.50         8\n",
      "\n",
      "0.5\n",
      "              precision    recall  f1-score   support\n",
      "\n",
      "        cong       0.50      0.33      0.40         3\n",
      "        ctrl       0.67      0.80      0.73         5\n",
      "\n",
      "    accuracy                           0.62         8\n",
      "   macro avg       0.58      0.57      0.56         8\n",
      "weighted avg       0.60      0.62      0.60         8\n",
      "\n",
      "0.625\n"
     ]
    },
    {
     "data": {
      "image/png": "[encoded data removed]",
      "text/plain": [
       "<Figure size 432x288 with 1 Axes>"
      ]
     },
     "metadata": {
      "needs_background": "light"
     },
     "output_type": "display_data"
    }
   ],
   "source": [
    "from sklearn.model_selection import StratifiedKFold\n",
    "cv = StratifiedKFold(n_splits=5)\n",
    "#gb = GradientBoostingClassifier(random_state=0, loss='deviance', n_estimators=200, max_depth=10)\n",
    "gb = LogisticRegression(random_state=0, max_iter=1000)\n",
    "\n",
    "tprs = []\n",
    "aucs = []\n",
    "mean_fpr = np.linspace(0, 1, 100)\n",
    "\n",
    "fig, ax = plt.subplots()\n",
    "for i, (train, test) in enumerate(cv.split(X_hand, label_hand)):\n",
    "    gb.fit(X_hand[train], label_hand[train])\n",
    "    print(metrics.classification_report(gb.predict(X_hand[test]), label_hand[test]))\n",
    "    print(gb.score(X_hand[test], label_hand[test]))\n",
    "    viz = metrics.plot_roc_curve(gb, X_hand[test], label_hand[test],\n",
    "                         name='ROC fold {}'.format(i),\n",
    "                         alpha=0.3, lw=1, ax=ax)\n",
    "    interp_tpr = np.interp(mean_fpr, viz.fpr, viz.tpr)\n",
    "    interp_tpr[0] = 0.0\n",
    "    tprs.append(interp_tpr)\n",
    "    aucs.append(viz.roc_auc)\n",
    "\n",
    "ax.plot([0, 1], [0, 1], linestyle='--', lw=2, color='r',\n",
    "        label='Chance', alpha=.8)\n",
    "\n",
    "mean_tpr = np.mean(tprs, axis=0)\n",
    "mean_tpr[-1] = 1.0\n",
    "mean_auc = metrics.auc(mean_fpr, mean_tpr)\n",
    "std_auc = np.std(aucs)\n",
    "ax.plot(mean_fpr, mean_tpr, color='b',\n",
    "        label=r'Mean ROC (AUC = %0.2f $\\pm$ %0.2f)' % (mean_auc, std_auc),\n",
    "        lw=2, alpha=.8)\n",
    "\n",
    "std_tpr = np.std(tprs, axis=0)\n",
    "tprs_upper = np.minimum(mean_tpr + std_tpr, 1)\n",
    "tprs_lower = np.maximum(mean_tpr - std_tpr, 0)\n",
    "ax.fill_between(mean_fpr, tprs_lower, tprs_upper, color='grey', alpha=.2,\n",
    "                label=r'$\\pm$ 1 std. dev.')\n",
    "\n",
    "ax.set(xlim=[-0.05, 1.05], ylim=[-0.05, 1.05],\n",
    "       title=\"ROC curve on one-handed subjects\")\n",
    "ax.legend(loc=\"lower right\")\n",
    "plt.show()"
   ]
  },
  {
   "cell_type": "code",
   "execution_count": 255,
   "id": "aquatic-vaccine",
   "metadata": {
    "scrolled": true
   },
   "outputs": [
    {
     "data": {
      "text/plain": [
       "40"
      ]
     },
     "execution_count": 255,
     "metadata": {},
     "output_type": "execute_result"
    }
   ],
   "source": [
    "len(encoded['ctrl'])+len(encoded['amputee'])+len(encoded['congenital'])"
   ]
  },
  {
   "cell_type": "code",
   "execution_count": 413,
   "id": "elegant-birthday",
   "metadata": {},
   "outputs": [],
   "source": [
    "def draw_random_roc(y_true, num_classif=1000):\n",
    "    \"\"\"\n",
    "    Draws the ROC curve and 95% confidence interval (2*std dev) for\n",
    "    num_classif (default 1000) random classifiers\n",
    "    \"\"\"\n",
    "    chance_tprs = []\n",
    "    chance_aucs = []\n",
    "    base_fpr = np.linspace(0, 1, 100)\n",
    "    for i in range(1000):\n",
    "        random.seed(i)\n",
    "        y_pred = coin_toss(len(y_true))\n",
    "        fpr, tpr, _ = metrics.roc_curve(y_true, y_pred)\n",
    "        chance_tprs.append(np.interp(base_fpr, fpr, tpr))\n",
    "        chance_tprs[-1][0] = 0.0\n",
    "        roc_auc = metrics.auc(fpr, tpr)\n",
    "        chance_aucs.append(roc_auc)\n",
    "        # plt.plot(fpr, tpr, lw=1, alpha=0.3,\n",
    "        #           label='ROC fold %d (AUC = %0.2f)' % (i, roc_auc))\n",
    "    # plt.show()\n",
    "\n",
    "    mean_tpr = np.mean(tprs, axis=0)\n",
    "    mean_tpr[-1] = 1.0\n",
    "    mean_auc = metrics.auc(base_fpr, mean_tpr)\n",
    "    std_auc = np.std(aucs)\n",
    "    ax = plt.subplot()\n",
    "    for i, (train, test) in enumerate(cv.split(X_hand, label_hand)):\n",
    "        gb.fit(X_hand[train], label_hand[train])\n",
    "        print(metrics.classification_report(gb.predict(X_hand[test]), label_hand[test]))\n",
    "        print(gb.score(X_hand[test], label_hand[test]))\n",
    "        viz = metrics.plot_roc_curve(gb, X_hand[test], label_hand[test],\n",
    "                         name='ROC fold {}'.format(i),\n",
    "                         alpha=0.3, lw=1, ax=ax)\n",
    "        interp_tpr = np.interp(mean_fpr, viz.fpr, viz.tpr)\n",
    "        interp_tpr[0] = 0.0\n",
    "        tprs.append(interp_tpr)\n",
    "        aucs.append(viz.roc_auc)\n",
    "        \n",
    "    ax.plot(base_fpr, mean_tpr, color='r',\n",
    "             label=r'chance (AUC = %0.2f $\\pm$ %0.2f)' % (mean_auc, std_auc),\n",
    "             lw=2, linestyle='dashed')\n",
    "    \n",
    "    mean_tpr = np.mean(tprs, axis=0)\n",
    "    mean_tpr[-1] = 1.0\n",
    "    mean_auc = metrics.auc(mean_fpr, mean_tpr)\n",
    "    std_auc = np.std(aucs)\n",
    "    ax.plot(mean_fpr, mean_tpr, color='b',\n",
    "        label=r'Mean ROC (AUC = %0.2f $\\pm$ %0.2f)' % (mean_auc, std_auc),\n",
    "        lw=2, alpha=.8)\n",
    "    std_tpr = np.std(tprs, axis=0)\n",
    "    tprs_upper = np.minimum(mean_tpr + std_tpr, 1)\n",
    "    tprs_lower = np.maximum(mean_tpr - std_tpr, 0)\n",
    "    ax.fill_between(mean_fpr, tprs_lower, tprs_upper, color='grey', alpha=.2,\n",
    "                label=r'$\\pm$ 1 std. dev.')\n",
    "    # plot confidence interval 95%\n",
    "    low_auc = np.sort(chance_aucs)[50]\n",
    "    high_auc = np.sort(chance_aucs)[950]\n",
    "    tprs_lower = chance_tprs[chance_aucs.index(low_auc)]\n",
    "    tprs_upper = chance_tprs[chance_aucs.index(high_auc)]\n",
    "    ax.plot(base_fpr, tprs_lower, color='grey', linestyle='dashed', label='95% confidence interval')\n",
    "    ax.plot(base_fpr, tprs_upper, color='grey', linestyle='dashed')\n",
    "    # std_tpr = np.std(tprs, axis=0)\n",
    "    # tprs_upper = np.minimum(mean_tpr + 2*std_tpr, 1)\n",
    "    # tprs_lower = np.maximum(mean_tpr - 2*std_tpr, 0)\n",
    "    # ax.plot(base_fpr, tprs_lower, color='grey', linestyle='dashed',\n",
    "    #                  label=r'luck $\\pm$ 2 std. dev.')\n",
    "    # ax.plot(base_fpr, tprs_upper, color='grey', linestyle='dashed')\n",
    "    ax.set_xlim([-0.05, 1.05])\n",
    "    ax.set_ylim([-0.05, 1.05])\n",
    "    ax.set_xlabel('False Positive Rate')\n",
    "    ax.set_ylabel('True Positive Rate')\n",
    "    # ax.title('ROC Curve for 1000 random classifiers')\n",
    "    # ax.legend(loc=\"lower right\")\n",
    "    return ax\n",
    "\n",
    "def coin_toss(number):\n",
    "    results = []\n",
    "    for i in range(number):\n",
    "        res = random.randint(0,1)\n",
    "        results.append(res)\n",
    "    return results"
   ]
  },
  {
   "cell_type": "code",
   "execution_count": 398,
   "id": "catholic-occupation",
   "metadata": {},
   "outputs": [],
   "source": [
    "label_hand_num = [0 if label_hand[k]=='ctrl' else 1 for k in range(len(label_hand))]"
   ]
  },
  {
   "cell_type": "code",
   "execution_count": 414,
   "id": "soviet-feedback",
   "metadata": {
    "scrolled": false
   },
   "outputs": [
    {
     "name": "stdout",
     "output_type": "stream",
     "text": [
      "              precision    recall  f1-score   support\n",
      "\n",
      "        cong       0.67      1.00      0.80         2\n",
      "        ctrl       1.00      0.83      0.91         6\n",
      "\n",
      "    accuracy                           0.88         8\n",
      "   macro avg       0.83      0.92      0.85         8\n",
      "weighted avg       0.92      0.88      0.88         8\n",
      "\n",
      "0.875\n",
      "              precision    recall  f1-score   support\n",
      "\n",
      "        cong       0.67      0.67      0.67         3\n",
      "        ctrl       0.80      0.80      0.80         5\n",
      "\n",
      "    accuracy                           0.75         8\n",
      "   macro avg       0.73      0.73      0.73         8\n",
      "weighted avg       0.75      0.75      0.75         8\n",
      "\n",
      "0.75\n",
      "              precision    recall  f1-score   support\n",
      "\n",
      "        cong       0.50      0.33      0.40         3\n",
      "        ctrl       0.67      0.80      0.73         5\n",
      "\n",
      "    accuracy                           0.62         8\n",
      "   macro avg       0.58      0.57      0.56         8\n",
      "weighted avg       0.60      0.62      0.60         8\n",
      "\n",
      "0.625\n",
      "              precision    recall  f1-score   support\n",
      "\n",
      "        cong       0.50      1.00      0.67         1\n",
      "        ctrl       1.00      0.86      0.92         7\n",
      "\n",
      "    accuracy                           0.88         8\n",
      "   macro avg       0.75      0.93      0.79         8\n",
      "weighted avg       0.94      0.88      0.89         8\n",
      "\n",
      "0.875\n",
      "              precision    recall  f1-score   support\n",
      "\n",
      "        cong       1.00      0.67      0.80         3\n",
      "        ctrl       0.83      1.00      0.91         5\n",
      "\n",
      "    accuracy                           0.88         8\n",
      "   macro avg       0.92      0.83      0.85         8\n",
      "weighted avg       0.90      0.88      0.87         8\n",
      "\n",
      "0.875\n"
     ]
    },
    {
     "data": {
      "text/plain": [
       "<AxesSubplot:xlabel='False Positive Rate', ylabel='True Positive Rate'>"
      ]
     },
     "execution_count": 414,
     "metadata": {},
     "output_type": "execute_result"
    },
    {
     "data": {
      "image/png": "[encoded data removed]",
      "text/plain": [
       "<Figure size 432x288 with 1 Axes>"
      ]
     },
     "metadata": {
      "needs_background": "light"
     },
     "output_type": "display_data"
    }
   ],
   "source": [
    "import random\n",
    "label_random\n",
    "draw_random_roc(label_hand_num)"
   ]
  },
  {
   "cell_type": "code",
   "execution_count": 256,
   "id": "spiritual-pharmacology",
   "metadata": {},
   "outputs": [
    {
     "data": {
      "text/plain": [
       "12"
      ]
     },
     "execution_count": 256,
     "metadata": {},
     "output_type": "execute_result"
    }
   ],
   "source": [
    "len(encoded['congenital'])"
   ]
  },
  {
   "cell_type": "code",
   "execution_count": 257,
   "id": "growing-landing",
   "metadata": {},
   "outputs": [
    {
     "data": {
      "text/plain": [
       "0.7"
      ]
     },
     "execution_count": 257,
     "metadata": {},
     "output_type": "execute_result"
    }
   ],
   "source": [
    "28/40"
   ]
  },
  {
   "cell_type": "code",
   "execution_count": 380,
   "id": "subjective-blame",
   "metadata": {},
   "outputs": [
    {
     "name": "stderr",
     "output_type": "stream",
     "text": [
      "100%|██████████| 1000/1000 [01:20<00:00, 12.43it/s]"
     ]
    },
    {
     "name": "stdout",
     "output_type": "stream",
     "text": [
      "0.5766875\n",
      "0.12066662170521723\n"
     ]
    },
    {
     "name": "stderr",
     "output_type": "stream",
     "text": [
      "\n"
     ]
    }
   ],
   "source": [
    "from tqdm import tqdm\n",
    "random_score = []\n",
    "for k in tqdm(range(1000)):\n",
    "    label_random = np.random.permutation(label_hand)\n",
    "    cv = StratifiedKFold(n_splits=5)\n",
    "    gb = GradientBoostingClassifier(random_state=0, loss='deviance', n_estimators=200, max_depth=5)\n",
    "    x_train, x_test, y_train, y_test = train_test_split(X_hand, label_random, test_size=0.4, stratify=label_random)\n",
    "    #for i, (train, test) in enumerate(cv.split(X_hand, label_random)):\n",
    "    #    gb.fit(X_hand[train], label_random[train])\n",
    "    #    random_score.append(gb.score(X_hand[test], label_random[test]))\n",
    "    gb.fit(x_train, y_train)\n",
    "    random_score.append(gb.score(x_test, y_test))\n",
    "print(np.mean(random_score))\n",
    "print(np.std(random_score))"
   ]
  },
  {
   "cell_type": "code",
   "execution_count": 378,
   "id": "adjusted-handbook",
   "metadata": {},
   "outputs": [
    {
     "name": "stdout",
     "output_type": "stream",
     "text": [
      "95.0 confidence interval 37.5% and 87.5%\n"
     ]
    }
   ],
   "source": [
    "alpha = 0.95\n",
    "p = ((1.0-alpha)/2.0) * 100\n",
    "lower = max(0.0, np.percentile(random_score, p))\n",
    "p = (alpha+((1.0-alpha)/2.0)) * 100\n",
    "upper = min(1.0, np.percentile(random_score, p))\n",
    "print('%.1f confidence interval %.1f%% and %.1f%%' % (alpha*100, lower*100, upper*100))"
   ]
  },
  {
   "cell_type": "code",
   "execution_count": 341,
   "id": "sudden-thompson",
   "metadata": {},
   "outputs": [
    {
     "data": {
      "text/plain": [
       "1000"
      ]
     },
     "execution_count": 341,
     "metadata": {},
     "output_type": "execute_result"
    }
   ],
   "source": [
    "len(random_score)"
   ]
  },
  {
   "cell_type": "code",
   "execution_count": 352,
   "id": "liquid-norman",
   "metadata": {},
   "outputs": [
    {
     "data": {
      "text/plain": [
       "(array([  1.,  13.,   0.,  39.,  86., 166., 246., 271., 176.,   2.]),\n",
       " array([0.16666667, 0.25      , 0.33333333, 0.41666667, 0.5       ,\n",
       "        0.58333333, 0.66666667, 0.75      , 0.83333333, 0.91666667,\n",
       "        1.        ]),\n",
       " <BarContainer object of 10 artists>)"
      ]
     },
     "execution_count": 352,
     "metadata": {},
     "output_type": "execute_result"
    },
    {
     "data": {
      "image/png": "[encoded data removed]",
      "text/plain": [
       "<Figure size 432x288 with 1 Axes>"
      ]
     },
     "metadata": {
      "needs_background": "light"
     },
     "output_type": "display_data"
    }
   ],
   "source": [
    "plt.hist(random_score)"
   ]
  },
  {
   "cell_type": "code",
   "execution_count": 344,
   "id": "crude-dollar",
   "metadata": {},
   "outputs": [],
   "source": [
    "random_score_sort = random_score.sort()"
   ]
  },
  {
   "cell_type": "code",
   "execution_count": 345,
   "id": "macro-orbit",
   "metadata": {},
   "outputs": [
    {
     "name": "stdout",
     "output_type": "stream",
     "text": [
      "0.375 1.0\n"
     ]
    }
   ],
   "source": [
    "print(random_score[25], random_score[975])"
   ]
  },
  {
   "cell_type": "code",
   "execution_count": 308,
   "id": "billion-soldier",
   "metadata": {},
   "outputs": [
    {
     "data": {
      "text/plain": [
       "0.5741"
      ]
     },
     "execution_count": 308,
     "metadata": {},
     "output_type": "execute_result"
    }
   ],
   "source": [
    "np.mean(random_score)"
   ]
  },
  {
   "cell_type": "code",
   "execution_count": 379,
   "id": "fifth-communication",
   "metadata": {},
   "outputs": [
    {
     "name": "stderr",
     "output_type": "stream",
     "text": [
      "100%|██████████| 1000/1000 [01:17<00:00, 12.94it/s]"
     ]
    },
    {
     "name": "stdout",
     "output_type": "stream",
     "text": [
      "0.666125\n",
      "0.12213971252217683\n"
     ]
    },
    {
     "name": "stderr",
     "output_type": "stream",
     "text": [
      "\n"
     ]
    }
   ],
   "source": [
    "from tqdm import tqdm\n",
    "inter_score = []\n",
    "for k in tqdm(range(1000)):\n",
    "    cv = StratifiedKFold(n_splits=5)\n",
    "    gb = GradientBoostingClassifier(random_state=0, loss='deviance', n_estimators=200, max_depth=5)\n",
    "    x_train, x_test, y_train, y_test = train_test_split(X_hand, label_hand, test_size=0.4, stratify=label_hand)\n",
    "    #for i, (train, test) in enumerate(cv.split(X_hand, label_hand)):\n",
    "    #   gb.fit(X_hand[train], label_hand[train])\n",
    "    #    #print(gb.score(X_hand[test], label_hand[test]))\n",
    "    #    inter_score.append(gb.score(X_hand[test], label_hand[test]))\n",
    "    gb.fit(x_train, y_train)\n",
    "    inter_score.append(gb.score(x_test, y_test))\n",
    "print(np.mean(inter_score))\n",
    "print(np.std(inter_score))"
   ]
  },
  {
   "cell_type": "code",
   "execution_count": 351,
   "id": "abroad-indonesia",
   "metadata": {},
   "outputs": [
    {
     "data": {
      "text/plain": [
       "(array([  1.,   9.,   0.,  36.,  80., 178., 218., 285., 192.,   1.]),\n",
       " array([0.16666667, 0.25      , 0.33333333, 0.41666667, 0.5       ,\n",
       "        0.58333333, 0.66666667, 0.75      , 0.83333333, 0.91666667,\n",
       "        1.        ]),\n",
       " <BarContainer object of 10 artists>)"
      ]
     },
     "execution_count": 351,
     "metadata": {},
     "output_type": "execute_result"
    },
    {
     "data": {
      "image/png": "[encoded data removed]",
      "text/plain": [
       "<Figure size 432x288 with 1 Axes>"
      ]
     },
     "metadata": {
      "needs_background": "light"
     },
     "output_type": "display_data"
    }
   ],
   "source": [
    "plt.hist(inter_score)"
   ]
  },
  {
   "cell_type": "code",
   "execution_count": 381,
   "id": "finite-agreement",
   "metadata": {},
   "outputs": [
    {
     "name": "stdout",
     "output_type": "stream",
     "text": [
      "95.0 confidence interval 37.5% and 87.5%\n"
     ]
    }
   ],
   "source": [
    "alpha = 0.95\n",
    "p = ((1.0-alpha)/2.0) * 100\n",
    "lower = max(0.0, np.percentile(inter_score, p))\n",
    "p = (alpha+((1.0-alpha)/2.0)) * 100\n",
    "upper = min(1.0, np.percentile(inter_score, p))\n",
    "print('%.1f confidence interval %.1f%% and %.1f%%' % (alpha*100, lower*100, upper*100))"
   ]
  },
  {
   "cell_type": "markdown",
   "id": "loaded-probe",
   "metadata": {},
   "source": [
    "### Indicators correlation"
   ]
  },
  {
   "cell_type": "code",
   "execution_count": 383,
   "id": "spread-forward",
   "metadata": {
    "scrolled": true
   },
   "outputs": [
    {
     "data": {
      "text/html": [
       "<div>\n",
       "<style scoped>\n",
       "    .dataframe tbody tr th:only-of-type {\n",
       "        vertical-align: middle;\n",
       "    }\n",
       "\n",
       "    .dataframe tbody tr th {\n",
       "        vertical-align: top;\n",
       "    }\n",
       "\n",
       "    .dataframe thead th {\n",
       "        text-align: right;\n",
       "    }\n",
       "</style>\n",
       "<table border=\"1\" class=\"dataframe\">\n",
       "  <thead>\n",
       "    <tr style=\"text-align: right;\">\n",
       "      <th></th>\n",
       "      <th>latent</th>\n",
       "      <th>Group</th>\n",
       "      <th>subjects</th>\n",
       "      <th>loss</th>\n",
       "      <th>nn</th>\n",
       "      <th>sf</th>\n",
       "      <th>lof</th>\n",
       "      <th>a_score</th>\n",
       "      <th>cluster</th>\n",
       "    </tr>\n",
       "  </thead>\n",
       "  <tbody>\n",
       "    <tr>\n",
       "      <th>0</th>\n",
       "      <td>[1.3628325, -1.4742346, -2.2796068, 0.99431926...</td>\n",
       "      <td>hcp</td>\n",
       "      <td>108020</td>\n",
       "      <td>4147</td>\n",
       "      <td>2.774021</td>\n",
       "      <td>73.982398</td>\n",
       "      <td>-1</td>\n",
       "      <td>-144.279947</td>\n",
       "      <td>8</td>\n",
       "    </tr>\n",
       "    <tr>\n",
       "      <th>1</th>\n",
       "      <td>[1.0810305, -0.57689613, -2.219369, 0.5845616,...</td>\n",
       "      <td>hcp</td>\n",
       "      <td>201414</td>\n",
       "      <td>3906</td>\n",
       "      <td>3.063100</td>\n",
       "      <td>182.582539</td>\n",
       "      <td>-1</td>\n",
       "      <td>-361.244082</td>\n",
       "      <td>8</td>\n",
       "    </tr>\n",
       "    <tr>\n",
       "      <th>2</th>\n",
       "      <td>[0.72362673, -2.1792939, -2.3081293, 3.8330557...</td>\n",
       "      <td>hcp</td>\n",
       "      <td>112516</td>\n",
       "      <td>4103</td>\n",
       "      <td>2.890668</td>\n",
       "      <td>478.260917</td>\n",
       "      <td>-1</td>\n",
       "      <td>-952.730001</td>\n",
       "      <td>4</td>\n",
       "    </tr>\n",
       "    <tr>\n",
       "      <th>3</th>\n",
       "      <td>[-0.27710456, -0.767203, 0.9066349, 1.9264593,...</td>\n",
       "      <td>hcp</td>\n",
       "      <td>586460</td>\n",
       "      <td>4001</td>\n",
       "      <td>2.890378</td>\n",
       "      <td>-233.608077</td>\n",
       "      <td>-1</td>\n",
       "      <td>470.985292</td>\n",
       "      <td>0</td>\n",
       "    </tr>\n",
       "    <tr>\n",
       "      <th>4</th>\n",
       "      <td>[2.2472699, 0.30434123, -1.8338748, 3.9089785,...</td>\n",
       "      <td>hcp</td>\n",
       "      <td>130821</td>\n",
       "      <td>4373</td>\n",
       "      <td>3.780491</td>\n",
       "      <td>-64.977450</td>\n",
       "      <td>-1</td>\n",
       "      <td>134.695857</td>\n",
       "      <td>3</td>\n",
       "    </tr>\n",
       "    <tr>\n",
       "      <th>5</th>\n",
       "      <td>[-0.5731338, 0.7889283, -3.395938, 2.7438216, ...</td>\n",
       "      <td>hcp</td>\n",
       "      <td>599469</td>\n",
       "      <td>3968</td>\n",
       "      <td>3.484857</td>\n",
       "      <td>-60.822139</td>\n",
       "      <td>-1</td>\n",
       "      <td>126.000649</td>\n",
       "      <td>3</td>\n",
       "    </tr>\n",
       "    <tr>\n",
       "      <th>6</th>\n",
       "      <td>[-1.0190464, 0.6831233, -2.0079532, -0.2097208...</td>\n",
       "      <td>hcp</td>\n",
       "      <td>654754</td>\n",
       "      <td>3336</td>\n",
       "      <td>3.056104</td>\n",
       "      <td>258.093625</td>\n",
       "      <td>-1</td>\n",
       "      <td>-512.398442</td>\n",
       "      <td>7</td>\n",
       "    </tr>\n",
       "    <tr>\n",
       "      <th>7</th>\n",
       "      <td>[3.7260022, -0.83962566, -2.6405907, 0.2219044...</td>\n",
       "      <td>hcp</td>\n",
       "      <td>837560</td>\n",
       "      <td>3732</td>\n",
       "      <td>2.501834</td>\n",
       "      <td>334.725737</td>\n",
       "      <td>-1</td>\n",
       "      <td>-666.129961</td>\n",
       "      <td>1</td>\n",
       "    </tr>\n",
       "    <tr>\n",
       "      <th>8</th>\n",
       "      <td>[1.307236, -0.01614024, -1.1279445, 0.53016156...</td>\n",
       "      <td>hcp</td>\n",
       "      <td>140117</td>\n",
       "      <td>3543</td>\n",
       "      <td>2.941968</td>\n",
       "      <td>-93.794183</td>\n",
       "      <td>-1</td>\n",
       "      <td>191.308502</td>\n",
       "      <td>8</td>\n",
       "    </tr>\n",
       "    <tr>\n",
       "      <th>9</th>\n",
       "      <td>[0.97864217, -3.9293244, -1.7890984, 1.9125583...</td>\n",
       "      <td>hcp</td>\n",
       "      <td>203721</td>\n",
       "      <td>3439</td>\n",
       "      <td>3.104936</td>\n",
       "      <td>-0.000332</td>\n",
       "      <td>-1</td>\n",
       "      <td>3.860927</td>\n",
       "      <td>4</td>\n",
       "    </tr>\n",
       "    <tr>\n",
       "      <th>10</th>\n",
       "      <td>[2.4475284, -3.4358513, 0.9387543, 1.4231597, ...</td>\n",
       "      <td>hcp</td>\n",
       "      <td>810439</td>\n",
       "      <td>3957</td>\n",
       "      <td>2.909074</td>\n",
       "      <td>-89.331883</td>\n",
       "      <td>-1</td>\n",
       "      <td>182.441937</td>\n",
       "      <td>9</td>\n",
       "    </tr>\n",
       "    <tr>\n",
       "      <th>11</th>\n",
       "      <td>[0.3979748, 1.1098062, -2.6127539, 1.6350166, ...</td>\n",
       "      <td>hcp</td>\n",
       "      <td>115320</td>\n",
       "      <td>2985</td>\n",
       "      <td>3.469645</td>\n",
       "      <td>-47.637392</td>\n",
       "      <td>-1</td>\n",
       "      <td>99.400041</td>\n",
       "      <td>6</td>\n",
       "    </tr>\n",
       "    <tr>\n",
       "      <th>12</th>\n",
       "      <td>[2.964918, -3.4113498, -2.2726564, -0.47424534...</td>\n",
       "      <td>hcp</td>\n",
       "      <td>227533</td>\n",
       "      <td>3280</td>\n",
       "      <td>2.813845</td>\n",
       "      <td>435.322196</td>\n",
       "      <td>-1</td>\n",
       "      <td>-867.110142</td>\n",
       "      <td>1</td>\n",
       "    </tr>\n",
       "    <tr>\n",
       "      <th>13</th>\n",
       "      <td>[0.04080078, -4.0020103, 0.48344234, 0.1846454...</td>\n",
       "      <td>hcp</td>\n",
       "      <td>609143</td>\n",
       "      <td>3248</td>\n",
       "      <td>3.361013</td>\n",
       "      <td>-346.583756</td>\n",
       "      <td>-1</td>\n",
       "      <td>697.241900</td>\n",
       "      <td>9</td>\n",
       "    </tr>\n",
       "    <tr>\n",
       "      <th>14</th>\n",
       "      <td>[-0.5651863, -0.603767, -1.5635964, 2.9443994,...</td>\n",
       "      <td>hcp</td>\n",
       "      <td>205725</td>\n",
       "      <td>3464</td>\n",
       "      <td>2.807980</td>\n",
       "      <td>269.954839</td>\n",
       "      <td>-1</td>\n",
       "      <td>-536.340881</td>\n",
       "      <td>2</td>\n",
       "    </tr>\n",
       "    <tr>\n",
       "      <th>15</th>\n",
       "      <td>[0.3452434, -0.50591177, -2.1043222, 0.3097982...</td>\n",
       "      <td>hcp</td>\n",
       "      <td>695768</td>\n",
       "      <td>3398</td>\n",
       "      <td>3.172718</td>\n",
       "      <td>123.701101</td>\n",
       "      <td>-1</td>\n",
       "      <td>-243.483162</td>\n",
       "      <td>8</td>\n",
       "    </tr>\n",
       "    <tr>\n",
       "      <th>16</th>\n",
       "      <td>[0.70559937, 1.4728817, -3.4144888, 2.624808, ...</td>\n",
       "      <td>hcp</td>\n",
       "      <td>159239</td>\n",
       "      <td>4419</td>\n",
       "      <td>3.293029</td>\n",
       "      <td>-141.041806</td>\n",
       "      <td>-1</td>\n",
       "      <td>286.347209</td>\n",
       "      <td>3</td>\n",
       "    </tr>\n",
       "    <tr>\n",
       "      <th>17</th>\n",
       "      <td>[3.4386673, -0.46568105, -1.8029393, 1.5913703...</td>\n",
       "      <td>hcp</td>\n",
       "      <td>541640</td>\n",
       "      <td>3517</td>\n",
       "      <td>2.921551</td>\n",
       "      <td>-34.805931</td>\n",
       "      <td>-1</td>\n",
       "      <td>73.305870</td>\n",
       "      <td>1</td>\n",
       "    </tr>\n",
       "    <tr>\n",
       "      <th>18</th>\n",
       "      <td>[-0.74268883, -3.2556813, -0.22183056, 0.86715...</td>\n",
       "      <td>hcp</td>\n",
       "      <td>163129</td>\n",
       "      <td>3575</td>\n",
       "      <td>3.127581</td>\n",
       "      <td>109.930926</td>\n",
       "      <td>-1</td>\n",
       "      <td>-215.949073</td>\n",
       "      <td>9</td>\n",
       "    </tr>\n",
       "    <tr>\n",
       "      <th>19</th>\n",
       "      <td>[1.6303753, -1.3792037, 0.02391817, -0.3785596...</td>\n",
       "      <td>hcp</td>\n",
       "      <td>201717</td>\n",
       "      <td>4023</td>\n",
       "      <td>3.185648</td>\n",
       "      <td>121.325987</td>\n",
       "      <td>-1</td>\n",
       "      <td>-238.582734</td>\n",
       "      <td>5</td>\n",
       "    </tr>\n",
       "    <tr>\n",
       "      <th>20</th>\n",
       "      <td>[0.6250809, 0.5665996, -3.5851722, 1.3240803, ...</td>\n",
       "      <td>hcp</td>\n",
       "      <td>500222</td>\n",
       "      <td>3690</td>\n",
       "      <td>3.335899</td>\n",
       "      <td>245.675372</td>\n",
       "      <td>-1</td>\n",
       "      <td>-487.204389</td>\n",
       "      <td>6</td>\n",
       "    </tr>\n",
       "    <tr>\n",
       "      <th>21</th>\n",
       "      <td>[1.9396776, -1.0398906, 0.8414509, 1.2081089, ...</td>\n",
       "      <td>hcp</td>\n",
       "      <td>206929</td>\n",
       "      <td>3942</td>\n",
       "      <td>3.160625</td>\n",
       "      <td>-86.515731</td>\n",
       "      <td>-1</td>\n",
       "      <td>177.057889</td>\n",
       "      <td>5</td>\n",
       "    </tr>\n",
       "    <tr>\n",
       "      <th>22</th>\n",
       "      <td>[-0.33970398, -0.97103834, -2.604962, -2.03886...</td>\n",
       "      <td>hcp</td>\n",
       "      <td>759869</td>\n",
       "      <td>3526</td>\n",
       "      <td>3.567024</td>\n",
       "      <td>8.619908</td>\n",
       "      <td>-1</td>\n",
       "      <td>-12.898358</td>\n",
       "      <td>5</td>\n",
       "    </tr>\n",
       "    <tr>\n",
       "      <th>23</th>\n",
       "      <td>[0.5436521, -3.6671193, -0.44985706, 1.0155271...</td>\n",
       "      <td>hcp</td>\n",
       "      <td>105923</td>\n",
       "      <td>3937</td>\n",
       "      <td>2.818244</td>\n",
       "      <td>49.756492</td>\n",
       "      <td>-1</td>\n",
       "      <td>-95.830035</td>\n",
       "      <td>9</td>\n",
       "    </tr>\n",
       "    <tr>\n",
       "      <th>24</th>\n",
       "      <td>[3.0282435, -0.9303859, -0.42300248, -0.081562...</td>\n",
       "      <td>scint</td>\n",
       "      <td>199251</td>\n",
       "      <td>4017</td>\n",
       "      <td>2.827207</td>\n",
       "      <td>226.477432</td>\n",
       "      <td>-1</td>\n",
       "      <td>-449.245381</td>\n",
       "      <td>5</td>\n",
       "    </tr>\n",
       "    <tr>\n",
       "      <th>25</th>\n",
       "      <td>[1.0295947, -0.0055130664, -1.1460115, -0.3220...</td>\n",
       "      <td>scint</td>\n",
       "      <td>510225</td>\n",
       "      <td>4087</td>\n",
       "      <td>3.280009</td>\n",
       "      <td>317.239145</td>\n",
       "      <td>-1</td>\n",
       "      <td>-630.300632</td>\n",
       "      <td>5</td>\n",
       "    </tr>\n",
       "    <tr>\n",
       "      <th>26</th>\n",
       "      <td>[1.1525759, 0.6357797, -1.7769752, 2.047963, 0...</td>\n",
       "      <td>scint</td>\n",
       "      <td>111009</td>\n",
       "      <td>4553</td>\n",
       "      <td>3.106856</td>\n",
       "      <td>-115.659865</td>\n",
       "      <td>-1</td>\n",
       "      <td>235.426585</td>\n",
       "      <td>3</td>\n",
       "    </tr>\n",
       "    <tr>\n",
       "      <th>27</th>\n",
       "      <td>[1.1334723, 0.34287652, 0.534071, 3.3315363, 1...</td>\n",
       "      <td>ctrl</td>\n",
       "      <td>PC08</td>\n",
       "      <td>3699</td>\n",
       "      <td>3.152669</td>\n",
       "      <td>90.440765</td>\n",
       "      <td>-1</td>\n",
       "      <td>-176.916430</td>\n",
       "      <td>0</td>\n",
       "    </tr>\n",
       "    <tr>\n",
       "      <th>28</th>\n",
       "      <td>[2.443863, 2.146936, -0.68987715, 2.0233157, 2...</td>\n",
       "      <td>ctrl</td>\n",
       "      <td>PC20</td>\n",
       "      <td>3652</td>\n",
       "      <td>3.426019</td>\n",
       "      <td>-45.092603</td>\n",
       "      <td>-1</td>\n",
       "      <td>94.413332</td>\n",
       "      <td>8</td>\n",
       "    </tr>\n",
       "    <tr>\n",
       "      <th>29</th>\n",
       "      <td>[0.8112417, 0.12177553, 0.93546134, 0.84022087...</td>\n",
       "      <td>amputee</td>\n",
       "      <td>PA29</td>\n",
       "      <td>3689</td>\n",
       "      <td>3.100807</td>\n",
       "      <td>-182.813376</td>\n",
       "      <td>-1</td>\n",
       "      <td>369.537794</td>\n",
       "      <td>7</td>\n",
       "    </tr>\n",
       "    <tr>\n",
       "      <th>30</th>\n",
       "      <td>[-1.6343806, -0.69291776, -2.1528935, 2.188928...</td>\n",
       "      <td>amputee</td>\n",
       "      <td>PA06</td>\n",
       "      <td>3329</td>\n",
       "      <td>3.122553</td>\n",
       "      <td>-13.869421</td>\n",
       "      <td>-1</td>\n",
       "      <td>31.592562</td>\n",
       "      <td>2</td>\n",
       "    </tr>\n",
       "    <tr>\n",
       "      <th>31</th>\n",
       "      <td>[-1.0295554, 0.48243594, -0.20879605, 4.275865...</td>\n",
       "      <td>amputee</td>\n",
       "      <td>PA12</td>\n",
       "      <td>3357</td>\n",
       "      <td>3.214393</td>\n",
       "      <td>70.676354</td>\n",
       "      <td>-1</td>\n",
       "      <td>-137.400999</td>\n",
       "      <td>0</td>\n",
       "    </tr>\n",
       "    <tr>\n",
       "      <th>32</th>\n",
       "      <td>[3.1829343, -3.4291975, -2.449523, 2.0776188, ...</td>\n",
       "      <td>amputee</td>\n",
       "      <td>PA05</td>\n",
       "      <td>3661</td>\n",
       "      <td>2.851268</td>\n",
       "      <td>260.733136</td>\n",
       "      <td>-1</td>\n",
       "      <td>-517.810918</td>\n",
       "      <td>4</td>\n",
       "    </tr>\n",
       "    <tr>\n",
       "      <th>33</th>\n",
       "      <td>[2.1305737, -3.2102115, -2.9343047, 2.395627, ...</td>\n",
       "      <td>congenital</td>\n",
       "      <td>PA28</td>\n",
       "      <td>3738</td>\n",
       "      <td>2.441816</td>\n",
       "      <td>200.165463</td>\n",
       "      <td>-1</td>\n",
       "      <td>-397.068113</td>\n",
       "      <td>4</td>\n",
       "    </tr>\n",
       "    <tr>\n",
       "      <th>34</th>\n",
       "      <td>[-0.5988086, 0.07443195, -2.7881308, 1.7667897...</td>\n",
       "      <td>congenital</td>\n",
       "      <td>PA24</td>\n",
       "      <td>3206</td>\n",
       "      <td>3.259778</td>\n",
       "      <td>45.395787</td>\n",
       "      <td>-1</td>\n",
       "      <td>-86.827645</td>\n",
       "      <td>2</td>\n",
       "    </tr>\n",
       "    <tr>\n",
       "      <th>35</th>\n",
       "      <td>[0.7869515, -2.5106497, -1.4826704, 2.3929884,...</td>\n",
       "      <td>congenital</td>\n",
       "      <td>PA31</td>\n",
       "      <td>3424</td>\n",
       "      <td>2.836037</td>\n",
       "      <td>125.465694</td>\n",
       "      <td>-1</td>\n",
       "      <td>-247.343320</td>\n",
       "      <td>4</td>\n",
       "    </tr>\n",
       "    <tr>\n",
       "      <th>36</th>\n",
       "      <td>[0.4249677, -0.1529699, -0.6580154, 1.0080179,...</td>\n",
       "      <td>congenital</td>\n",
       "      <td>PA27</td>\n",
       "      <td>3665</td>\n",
       "      <td>3.162992</td>\n",
       "      <td>-64.927214</td>\n",
       "      <td>-1</td>\n",
       "      <td>133.822385</td>\n",
       "      <td>7</td>\n",
       "    </tr>\n",
       "  </tbody>\n",
       "</table>\n",
       "</div>"
      ],
      "text/plain": [
       "                                               latent       Group subjects  \\\n",
       "0   [1.3628325, -1.4742346, -2.2796068, 0.99431926...         hcp   108020   \n",
       "1   [1.0810305, -0.57689613, -2.219369, 0.5845616,...         hcp   201414   \n",
       "2   [0.72362673, -2.1792939, -2.3081293, 3.8330557...         hcp   112516   \n",
       "3   [-0.27710456, -0.767203, 0.9066349, 1.9264593,...         hcp   586460   \n",
       "4   [2.2472699, 0.30434123, -1.8338748, 3.9089785,...         hcp   130821   \n",
       "5   [-0.5731338, 0.7889283, -3.395938, 2.7438216, ...         hcp   599469   \n",
       "6   [-1.0190464, 0.6831233, -2.0079532, -0.2097208...         hcp   654754   \n",
       "7   [3.7260022, -0.83962566, -2.6405907, 0.2219044...         hcp   837560   \n",
       "8   [1.307236, -0.01614024, -1.1279445, 0.53016156...         hcp   140117   \n",
       "9   [0.97864217, -3.9293244, -1.7890984, 1.9125583...         hcp   203721   \n",
       "10  [2.4475284, -3.4358513, 0.9387543, 1.4231597, ...         hcp   810439   \n",
       "11  [0.3979748, 1.1098062, -2.6127539, 1.6350166, ...         hcp   115320   \n",
       "12  [2.964918, -3.4113498, -2.2726564, -0.47424534...         hcp   227533   \n",
       "13  [0.04080078, -4.0020103, 0.48344234, 0.1846454...         hcp   609143   \n",
       "14  [-0.5651863, -0.603767, -1.5635964, 2.9443994,...         hcp   205725   \n",
       "15  [0.3452434, -0.50591177, -2.1043222, 0.3097982...         hcp   695768   \n",
       "16  [0.70559937, 1.4728817, -3.4144888, 2.624808, ...         hcp   159239   \n",
       "17  [3.4386673, -0.46568105, -1.8029393, 1.5913703...         hcp   541640   \n",
       "18  [-0.74268883, -3.2556813, -0.22183056, 0.86715...         hcp   163129   \n",
       "19  [1.6303753, -1.3792037, 0.02391817, -0.3785596...         hcp   201717   \n",
       "20  [0.6250809, 0.5665996, -3.5851722, 1.3240803, ...         hcp   500222   \n",
       "21  [1.9396776, -1.0398906, 0.8414509, 1.2081089, ...         hcp   206929   \n",
       "22  [-0.33970398, -0.97103834, -2.604962, -2.03886...         hcp   759869   \n",
       "23  [0.5436521, -3.6671193, -0.44985706, 1.0155271...         hcp   105923   \n",
       "24  [3.0282435, -0.9303859, -0.42300248, -0.081562...       scint   199251   \n",
       "25  [1.0295947, -0.0055130664, -1.1460115, -0.3220...       scint   510225   \n",
       "26  [1.1525759, 0.6357797, -1.7769752, 2.047963, 0...       scint   111009   \n",
       "27  [1.1334723, 0.34287652, 0.534071, 3.3315363, 1...        ctrl     PC08   \n",
       "28  [2.443863, 2.146936, -0.68987715, 2.0233157, 2...        ctrl     PC20   \n",
       "29  [0.8112417, 0.12177553, 0.93546134, 0.84022087...     amputee     PA29   \n",
       "30  [-1.6343806, -0.69291776, -2.1528935, 2.188928...     amputee     PA06   \n",
       "31  [-1.0295554, 0.48243594, -0.20879605, 4.275865...     amputee     PA12   \n",
       "32  [3.1829343, -3.4291975, -2.449523, 2.0776188, ...     amputee     PA05   \n",
       "33  [2.1305737, -3.2102115, -2.9343047, 2.395627, ...  congenital     PA28   \n",
       "34  [-0.5988086, 0.07443195, -2.7881308, 1.7667897...  congenital     PA24   \n",
       "35  [0.7869515, -2.5106497, -1.4826704, 2.3929884,...  congenital     PA31   \n",
       "36  [0.4249677, -0.1529699, -0.6580154, 1.0080179,...  congenital     PA27   \n",
       "\n",
       "    loss        nn          sf  lof     a_score  cluster  \n",
       "0   4147  2.774021   73.982398   -1 -144.279947        8  \n",
       "1   3906  3.063100  182.582539   -1 -361.244082        8  \n",
       "2   4103  2.890668  478.260917   -1 -952.730001        4  \n",
       "3   4001  2.890378 -233.608077   -1  470.985292        0  \n",
       "4   4373  3.780491  -64.977450   -1  134.695857        3  \n",
       "5   3968  3.484857  -60.822139   -1  126.000649        3  \n",
       "6   3336  3.056104  258.093625   -1 -512.398442        7  \n",
       "7   3732  2.501834  334.725737   -1 -666.129961        1  \n",
       "8   3543  2.941968  -93.794183   -1  191.308502        8  \n",
       "9   3439  3.104936   -0.000332   -1    3.860927        4  \n",
       "10  3957  2.909074  -89.331883   -1  182.441937        9  \n",
       "11  2985  3.469645  -47.637392   -1   99.400041        6  \n",
       "12  3280  2.813845  435.322196   -1 -867.110142        1  \n",
       "13  3248  3.361013 -346.583756   -1  697.241900        9  \n",
       "14  3464  2.807980  269.954839   -1 -536.340881        2  \n",
       "15  3398  3.172718  123.701101   -1 -243.483162        8  \n",
       "16  4419  3.293029 -141.041806   -1  286.347209        3  \n",
       "17  3517  2.921551  -34.805931   -1   73.305870        1  \n",
       "18  3575  3.127581  109.930926   -1 -215.949073        9  \n",
       "19  4023  3.185648  121.325987   -1 -238.582734        5  \n",
       "20  3690  3.335899  245.675372   -1 -487.204389        6  \n",
       "21  3942  3.160625  -86.515731   -1  177.057889        5  \n",
       "22  3526  3.567024    8.619908   -1  -12.898358        5  \n",
       "23  3937  2.818244   49.756492   -1  -95.830035        9  \n",
       "24  4017  2.827207  226.477432   -1 -449.245381        5  \n",
       "25  4087  3.280009  317.239145   -1 -630.300632        5  \n",
       "26  4553  3.106856 -115.659865   -1  235.426585        3  \n",
       "27  3699  3.152669   90.440765   -1 -176.916430        0  \n",
       "28  3652  3.426019  -45.092603   -1   94.413332        8  \n",
       "29  3689  3.100807 -182.813376   -1  369.537794        7  \n",
       "30  3329  3.122553  -13.869421   -1   31.592562        2  \n",
       "31  3357  3.214393   70.676354   -1 -137.400999        0  \n",
       "32  3661  2.851268  260.733136   -1 -517.810918        4  \n",
       "33  3738  2.441816  200.165463   -1 -397.068113        4  \n",
       "34  3206  3.259778   45.395787   -1  -86.827645        2  \n",
       "35  3424  2.836037  125.465694   -1 -247.343320        4  \n",
       "36  3665  3.162992  -64.927214   -1  133.822385        7  "
      ]
     },
     "execution_count": 383,
     "metadata": {},
     "output_type": "execute_result"
    }
   ],
   "source": [
    "abnormal"
   ]
  },
  {
   "cell_type": "code",
   "execution_count": 382,
   "id": "expanded-relief",
   "metadata": {
    "scrolled": true
   },
   "outputs": [],
   "source": [
    "import seaborn as sns"
   ]
  },
  {
   "cell_type": "code",
   "execution_count": 385,
   "id": "improving-diameter",
   "metadata": {},
   "outputs": [
    {
     "data": {
      "text/plain": [
       "<AxesSubplot:>"
      ]
     },
     "execution_count": 385,
     "metadata": {},
     "output_type": "execute_result"
    },
    {
     "data": {
      "image/png": "[encoded data removed]",
      "text/plain": [
       "<Figure size 720x576 with 2 Axes>"
      ]
     },
     "metadata": {
      "needs_background": "light"
     },
     "output_type": "display_data"
    }
   ],
   "source": [
    "f, ax = plt.subplots(figsize=(10, 8))\n",
    "corr = abnormal[['loss', 'nn', 'sf', 'lof']].corr()\n",
    "sns.heatmap(corr, mask=np.zeros_like(corr, dtype=np.bool), cmap=sns.diverging_palette(220, 10, as_cmap=True),\n",
    "            square=True, ax=ax)"
   ]
  },
  {
   "cell_type": "code",
   "execution_count": null,
   "id": "vulnerable-weight",
   "metadata": {},
   "outputs": [],
   "source": []
  },
  {
   "cell_type": "code",
   "execution_count": null,
   "id": "aware-diamond",
   "metadata": {},
   "outputs": [],
   "source": []
  },
  {
   "cell_type": "code",
   "execution_count": 225,
   "id": "surgical-instrumentation",
   "metadata": {},
   "outputs": [
    {
     "data": {
      "image/png": "[encoded data removed]",
      "text/plain": [
       "<Figure size 432x288 with 1 Axes>"
      ]
     },
     "metadata": {
      "needs_background": "light"
     },
     "output_type": "display_data"
    }
   ],
   "source": [
    "range_values_dim_1 = [k[0] for k in X] \n",
    "range_values_dim_2 = [k[1] for k in X] \n",
    "fig = plt.figure()\n",
    "#plt.hist(range_values_dim_1, bins=20)\n",
    "plt.hist(range_values_dim_2, bins=20)\n",
    "plt.gca().set(title='Frequency Histogram', ylabel='Frequency');"
   ]
  },
  {
   "cell_type": "code",
   "execution_count": 220,
   "id": "diagnostic-devon",
   "metadata": {},
   "outputs": [],
   "source": [
    "z1 = np.arange(2, 3, 0.15)\n",
    "z2 = np.arange(-5, 2, 1)"
   ]
  },
  {
   "cell_type": "code",
   "execution_count": 203,
   "id": "forward-gnome",
   "metadata": {},
   "outputs": [
    {
     "data": {
      "text/plain": [
       "array([-5, -4, -3, -2, -1,  0,  1])"
      ]
     },
     "execution_count": 203,
     "metadata": {},
     "output_type": "execute_result"
    }
   ],
   "source": [
    "z1"
   ]
  },
  {
   "cell_type": "code",
   "execution_count": 210,
   "id": "beautiful-burton",
   "metadata": {},
   "outputs": [
    {
     "data": {
      "text/plain": [
       "array([2.  , 2.15, 2.3 , 2.45, 2.6 , 2.75, 2.9 ])"
      ]
     },
     "execution_count": 210,
     "metadata": {},
     "output_type": "execute_result"
    }
   ],
   "source": [
    "z2"
   ]
  },
  {
   "cell_type": "code",
   "execution_count": 226,
   "id": "resistant-scholar",
   "metadata": {},
   "outputs": [],
   "source": [
    "arr_out2 = []\n",
    "values2= []\n",
    "mean = torch.randn((1,4), device=device)\n",
    "logvar = torch.randn((1,4), device=device)\n",
    "z = VAE.sample_z(model, mean, logvar)\n",
    "    \n",
    "for dim_1 in z1:\n",
    "    for dim_10 in z2:\n",
    "        z[0][0] = dim_1\n",
    "        z[0][1] = dim_10\n",
    "        out = model.decode(z)\n",
    "        output = torch.argmax(out, dim=1)\n",
    "        out = np.array(np.squeeze(output).cpu().detach().numpy())\n",
    "        arr_out2.append(out)\n",
    "        values2.append((dim_1, dim_10))\n",
    "    \n",
    "arr_out2 = np.array(arr_out2)\n",
    "\n",
    "np.save(f\"/volatile/arr_out.npy\", arr_out2)\n",
    "np.save('/volatile/arr_label.npy', np.array(values2))"
   ]
  },
  {
   "cell_type": "code",
   "execution_count": 223,
   "id": "loaded-agenda",
   "metadata": {},
   "outputs": [
    {
     "data": {
      "text/plain": [
       "torch.Size([1, 4])"
      ]
     },
     "execution_count": 223,
     "metadata": {},
     "output_type": "execute_result"
    }
   ],
   "source": [
    "z.shape"
   ]
  },
  {
   "cell_type": "code",
   "execution_count": 211,
   "id": "based-psychiatry",
   "metadata": {},
   "outputs": [
    {
     "ename": "RuntimeError",
     "evalue": "mat1 and mat2 shapes cannot be multiplied (1x7 and 4x11200)",
     "output_type": "error",
     "traceback": [
      "\u001b[0;31m---------------------------------------------------------------------------\u001b[0m",
      "\u001b[0;31mRuntimeError\u001b[0m                              Traceback (most recent call last)",
      "\u001b[0;32m<ipython-input-211-694de9170d5f>\u001b[0m in \u001b[0;36m<module>\u001b[0;34m()\u001b[0m\n\u001b[1;32m      4\u001b[0m     \u001b[0mz\u001b[0m \u001b[0;34m=\u001b[0m \u001b[0mtorch\u001b[0m\u001b[0;34m.\u001b[0m\u001b[0mfrom_numpy\u001b[0m\u001b[0;34m(\u001b[0m\u001b[0mnp\u001b[0m\u001b[0;34m.\u001b[0m\u001b[0marray\u001b[0m\u001b[0;34m(\u001b[0m\u001b[0menc\u001b[0m\u001b[0;34m)\u001b[0m\u001b[0;34m)\u001b[0m\u001b[0;34m.\u001b[0m\u001b[0mto\u001b[0m\u001b[0;34m(\u001b[0m\u001b[0mdevice\u001b[0m\u001b[0;34m,\u001b[0m \u001b[0mdtype\u001b[0m\u001b[0;34m=\u001b[0m\u001b[0mtorch\u001b[0m\u001b[0;34m.\u001b[0m\u001b[0mfloat32\u001b[0m\u001b[0;34m)\u001b[0m\u001b[0;34m\u001b[0m\u001b[0;34m\u001b[0m\u001b[0m\n\u001b[1;32m      5\u001b[0m     \u001b[0mz\u001b[0m \u001b[0;34m=\u001b[0m \u001b[0mtorch\u001b[0m\u001b[0;34m.\u001b[0m\u001b[0munsqueeze\u001b[0m\u001b[0;34m(\u001b[0m\u001b[0mz\u001b[0m\u001b[0;34m,\u001b[0m \u001b[0mdim\u001b[0m\u001b[0;34m=\u001b[0m\u001b[0;36m0\u001b[0m\u001b[0;34m)\u001b[0m\u001b[0;34m\u001b[0m\u001b[0;34m\u001b[0m\u001b[0m\n\u001b[0;32m----> 6\u001b[0;31m     \u001b[0mout\u001b[0m \u001b[0;34m=\u001b[0m \u001b[0mmodel\u001b[0m\u001b[0;34m.\u001b[0m\u001b[0mdecode\u001b[0m\u001b[0;34m(\u001b[0m\u001b[0mz\u001b[0m\u001b[0;34m)\u001b[0m\u001b[0;34m\u001b[0m\u001b[0;34m\u001b[0m\u001b[0m\n\u001b[0m\u001b[1;32m      7\u001b[0m     \u001b[0moutput\u001b[0m \u001b[0;34m=\u001b[0m \u001b[0mtorch\u001b[0m\u001b[0;34m.\u001b[0m\u001b[0margmax\u001b[0m\u001b[0;34m(\u001b[0m\u001b[0mout\u001b[0m\u001b[0;34m,\u001b[0m \u001b[0mdim\u001b[0m\u001b[0;34m=\u001b[0m\u001b[0;36m1\u001b[0m\u001b[0;34m)\u001b[0m\u001b[0;34m\u001b[0m\u001b[0;34m\u001b[0m\u001b[0m\n\u001b[1;32m      8\u001b[0m     \u001b[0mout\u001b[0m \u001b[0;34m=\u001b[0m \u001b[0mnp\u001b[0m\u001b[0;34m.\u001b[0m\u001b[0marray\u001b[0m\u001b[0;34m(\u001b[0m\u001b[0mnp\u001b[0m\u001b[0;34m.\u001b[0m\u001b[0msqueeze\u001b[0m\u001b[0;34m(\u001b[0m\u001b[0moutput\u001b[0m\u001b[0;34m)\u001b[0m\u001b[0;34m.\u001b[0m\u001b[0mcpu\u001b[0m\u001b[0;34m(\u001b[0m\u001b[0;34m)\u001b[0m\u001b[0;34m.\u001b[0m\u001b[0mdetach\u001b[0m\u001b[0;34m(\u001b[0m\u001b[0;34m)\u001b[0m\u001b[0;34m.\u001b[0m\u001b[0mnumpy\u001b[0m\u001b[0;34m(\u001b[0m\u001b[0;34m)\u001b[0m\u001b[0;34m)\u001b[0m\u001b[0;34m\u001b[0m\u001b[0;34m\u001b[0m\u001b[0m\n",
      "\u001b[0;32m/neurospin/dico/lguillon/2022_lguillon_foldInpainting/vae.py\u001b[0m in \u001b[0;36mdecode\u001b[0;34m(self, z)\u001b[0m\n\u001b[1;32m    132\u001b[0m \u001b[0;34m\u001b[0m\u001b[0m\n\u001b[1;32m    133\u001b[0m     \u001b[0;32mdef\u001b[0m \u001b[0mdecode\u001b[0m\u001b[0;34m(\u001b[0m\u001b[0mself\u001b[0m\u001b[0;34m,\u001b[0m \u001b[0mz\u001b[0m\u001b[0;34m)\u001b[0m\u001b[0;34m:\u001b[0m\u001b[0;34m\u001b[0m\u001b[0;34m\u001b[0m\u001b[0m\n\u001b[0;32m--> 134\u001b[0;31m         \u001b[0mout\u001b[0m \u001b[0;34m=\u001b[0m \u001b[0mself\u001b[0m\u001b[0;34m.\u001b[0m\u001b[0mz_develop\u001b[0m\u001b[0;34m(\u001b[0m\u001b[0mz\u001b[0m\u001b[0;34m)\u001b[0m\u001b[0;34m\u001b[0m\u001b[0;34m\u001b[0m\u001b[0m\n\u001b[0m\u001b[1;32m    135\u001b[0m         \u001b[0mout\u001b[0m \u001b[0;34m=\u001b[0m \u001b[0mout\u001b[0m\u001b[0;34m.\u001b[0m\u001b[0mview\u001b[0m\u001b[0;34m(\u001b[0m\u001b[0mz\u001b[0m\u001b[0;34m.\u001b[0m\u001b[0msize\u001b[0m\u001b[0;34m(\u001b[0m\u001b[0;36m0\u001b[0m\u001b[0;34m)\u001b[0m\u001b[0;34m,\u001b[0m \u001b[0;36m16\u001b[0m \u001b[0;34m*\u001b[0m \u001b[0;36m2\u001b[0m\u001b[0;34m**\u001b[0m\u001b[0;34m(\u001b[0m\u001b[0mself\u001b[0m\u001b[0;34m.\u001b[0m\u001b[0mdepth\u001b[0m\u001b[0;34m-\u001b[0m\u001b[0;36m1\u001b[0m\u001b[0;34m)\u001b[0m\u001b[0;34m,\u001b[0m \u001b[0mself\u001b[0m\u001b[0;34m.\u001b[0m\u001b[0mz_dim_h\u001b[0m\u001b[0;34m,\u001b[0m \u001b[0mself\u001b[0m\u001b[0;34m.\u001b[0m\u001b[0mz_dim_w\u001b[0m\u001b[0;34m,\u001b[0m \u001b[0mself\u001b[0m\u001b[0;34m.\u001b[0m\u001b[0mz_dim_d\u001b[0m\u001b[0;34m)\u001b[0m\u001b[0;34m\u001b[0m\u001b[0;34m\u001b[0m\u001b[0m\n\u001b[1;32m    136\u001b[0m         \u001b[0mout\u001b[0m \u001b[0;34m=\u001b[0m \u001b[0mself\u001b[0m\u001b[0;34m.\u001b[0m\u001b[0mdecoder\u001b[0m\u001b[0;34m(\u001b[0m\u001b[0mout\u001b[0m\u001b[0;34m)\u001b[0m\u001b[0;34m\u001b[0m\u001b[0;34m\u001b[0m\u001b[0m\n",
      "\u001b[0;32m/casa/home/.local/lib/python3.6/site-packages/torch/nn/modules/module.py\u001b[0m in \u001b[0;36m_call_impl\u001b[0;34m(self, *input, **kwargs)\u001b[0m\n\u001b[1;32m   1100\u001b[0m         if not (self._backward_hooks or self._forward_hooks or self._forward_pre_hooks or _global_backward_hooks\n\u001b[1;32m   1101\u001b[0m                 or _global_forward_hooks or _global_forward_pre_hooks):\n\u001b[0;32m-> 1102\u001b[0;31m             \u001b[0;32mreturn\u001b[0m \u001b[0mforward_call\u001b[0m\u001b[0;34m(\u001b[0m\u001b[0;34m*\u001b[0m\u001b[0minput\u001b[0m\u001b[0;34m,\u001b[0m \u001b[0;34m**\u001b[0m\u001b[0mkwargs\u001b[0m\u001b[0;34m)\u001b[0m\u001b[0;34m\u001b[0m\u001b[0;34m\u001b[0m\u001b[0m\n\u001b[0m\u001b[1;32m   1103\u001b[0m         \u001b[0;31m# Do not call functions when jit is used\u001b[0m\u001b[0;34m\u001b[0m\u001b[0;34m\u001b[0m\u001b[0;34m\u001b[0m\u001b[0m\n\u001b[1;32m   1104\u001b[0m         \u001b[0mfull_backward_hooks\u001b[0m\u001b[0;34m,\u001b[0m \u001b[0mnon_full_backward_hooks\u001b[0m \u001b[0;34m=\u001b[0m \u001b[0;34m[\u001b[0m\u001b[0;34m]\u001b[0m\u001b[0;34m,\u001b[0m \u001b[0;34m[\u001b[0m\u001b[0;34m]\u001b[0m\u001b[0;34m\u001b[0m\u001b[0;34m\u001b[0m\u001b[0m\n",
      "\u001b[0;32m/casa/home/.local/lib/python3.6/site-packages/torch/nn/modules/linear.py\u001b[0m in \u001b[0;36mforward\u001b[0;34m(self, input)\u001b[0m\n\u001b[1;32m    101\u001b[0m \u001b[0;34m\u001b[0m\u001b[0m\n\u001b[1;32m    102\u001b[0m     \u001b[0;32mdef\u001b[0m \u001b[0mforward\u001b[0m\u001b[0;34m(\u001b[0m\u001b[0mself\u001b[0m\u001b[0;34m,\u001b[0m \u001b[0minput\u001b[0m\u001b[0;34m:\u001b[0m \u001b[0mTensor\u001b[0m\u001b[0;34m)\u001b[0m \u001b[0;34m->\u001b[0m \u001b[0mTensor\u001b[0m\u001b[0;34m:\u001b[0m\u001b[0;34m\u001b[0m\u001b[0;34m\u001b[0m\u001b[0m\n\u001b[0;32m--> 103\u001b[0;31m         \u001b[0;32mreturn\u001b[0m \u001b[0mF\u001b[0m\u001b[0;34m.\u001b[0m\u001b[0mlinear\u001b[0m\u001b[0;34m(\u001b[0m\u001b[0minput\u001b[0m\u001b[0;34m,\u001b[0m \u001b[0mself\u001b[0m\u001b[0;34m.\u001b[0m\u001b[0mweight\u001b[0m\u001b[0;34m,\u001b[0m \u001b[0mself\u001b[0m\u001b[0;34m.\u001b[0m\u001b[0mbias\u001b[0m\u001b[0;34m)\u001b[0m\u001b[0;34m\u001b[0m\u001b[0;34m\u001b[0m\u001b[0m\n\u001b[0m\u001b[1;32m    104\u001b[0m \u001b[0;34m\u001b[0m\u001b[0m\n\u001b[1;32m    105\u001b[0m     \u001b[0;32mdef\u001b[0m \u001b[0mextra_repr\u001b[0m\u001b[0;34m(\u001b[0m\u001b[0mself\u001b[0m\u001b[0;34m)\u001b[0m \u001b[0;34m->\u001b[0m \u001b[0mstr\u001b[0m\u001b[0;34m:\u001b[0m\u001b[0;34m\u001b[0m\u001b[0;34m\u001b[0m\u001b[0m\n",
      "\u001b[0;32m/casa/home/.local/lib/python3.6/site-packages/torch/nn/functional.py\u001b[0m in \u001b[0;36mlinear\u001b[0;34m(input, weight, bias)\u001b[0m\n\u001b[1;32m   1846\u001b[0m     \u001b[0;32mif\u001b[0m \u001b[0mhas_torch_function_variadic\u001b[0m\u001b[0;34m(\u001b[0m\u001b[0minput\u001b[0m\u001b[0;34m,\u001b[0m \u001b[0mweight\u001b[0m\u001b[0;34m,\u001b[0m \u001b[0mbias\u001b[0m\u001b[0;34m)\u001b[0m\u001b[0;34m:\u001b[0m\u001b[0;34m\u001b[0m\u001b[0;34m\u001b[0m\u001b[0m\n\u001b[1;32m   1847\u001b[0m         \u001b[0;32mreturn\u001b[0m \u001b[0mhandle_torch_function\u001b[0m\u001b[0;34m(\u001b[0m\u001b[0mlinear\u001b[0m\u001b[0;34m,\u001b[0m \u001b[0;34m(\u001b[0m\u001b[0minput\u001b[0m\u001b[0;34m,\u001b[0m \u001b[0mweight\u001b[0m\u001b[0;34m,\u001b[0m \u001b[0mbias\u001b[0m\u001b[0;34m)\u001b[0m\u001b[0;34m,\u001b[0m \u001b[0minput\u001b[0m\u001b[0;34m,\u001b[0m \u001b[0mweight\u001b[0m\u001b[0;34m,\u001b[0m \u001b[0mbias\u001b[0m\u001b[0;34m=\u001b[0m\u001b[0mbias\u001b[0m\u001b[0;34m)\u001b[0m\u001b[0;34m\u001b[0m\u001b[0;34m\u001b[0m\u001b[0m\n\u001b[0;32m-> 1848\u001b[0;31m     \u001b[0;32mreturn\u001b[0m \u001b[0mtorch\u001b[0m\u001b[0;34m.\u001b[0m\u001b[0m_C\u001b[0m\u001b[0;34m.\u001b[0m\u001b[0m_nn\u001b[0m\u001b[0;34m.\u001b[0m\u001b[0mlinear\u001b[0m\u001b[0;34m(\u001b[0m\u001b[0minput\u001b[0m\u001b[0;34m,\u001b[0m \u001b[0mweight\u001b[0m\u001b[0;34m,\u001b[0m \u001b[0mbias\u001b[0m\u001b[0;34m)\u001b[0m\u001b[0;34m\u001b[0m\u001b[0;34m\u001b[0m\u001b[0m\n\u001b[0m\u001b[1;32m   1849\u001b[0m \u001b[0;34m\u001b[0m\u001b[0m\n\u001b[1;32m   1850\u001b[0m \u001b[0;34m\u001b[0m\u001b[0m\n",
      "\u001b[0;31mRuntimeError\u001b[0m: mat1 and mat2 shapes cannot be multiplied (1x7 and 4x11200)"
     ]
    }
   ],
   "source": [
    "arr_out = []\n",
    "values = []\n",
    "for enc, lab in zip([z1, z2], ['c0', 'c1']):\n",
    "    z = torch.from_numpy(np.array(enc)).to(device, dtype=torch.float32)\n",
    "    z = torch.unsqueeze(z, dim=0)\n",
    "    out = model.decode(z)\n",
    "    output = torch.argmax(out, dim=1)\n",
    "    out = np.array(np.squeeze(output).cpu().detach().numpy())\n",
    "    arr_out.append(out)\n",
    "    values.append(lab)\n",
    "\n",
    "arr_out = np.array(arr_out)\n",
    "np.save(f\"/volatile/arr_out.npy\", arr_out)\n",
    "np.save('/volatile/arr_label.npy', np.array(values))"
   ]
  },
  {
   "cell_type": "code",
   "execution_count": null,
   "id": "gentle-phoenix",
   "metadata": {},
   "outputs": [],
   "source": [
    "        z = torch.from_numpy(np.array(enc)).to(device, dtype=torch.float32)\n",
    "        z = torch.unsqueeze(z, dim=0)\n",
    "        out = model.decode(z)\n",
    "        output = torch.argmax(out, dim=1)\n",
    "        out = np.array(np.squeeze(output).cpu().detach().numpy())\n",
    "        arr_out.append(out)\n",
    "        values.append(lab)"
   ]
  },
  {
   "cell_type": "code",
   "execution_count": 75,
   "id": "suspected-digest",
   "metadata": {},
   "outputs": [],
   "source": [
    "#values_22 = np.arange(-1.5, 2, 0.5)\n",
    "#values_88 = np.arange(-1.5, 2, 0.5)\n",
    "arr_out2 = []\n",
    "values= []\n",
    "mean = torch.randn((1,2), device=device)\n",
    "logvar = torch.randn((1,2), device=device)\n",
    "z = model.sample_z(mean, logvar)\n",
    "    \n",
    "for dim_1 in z1:\n",
    "    for dim_2 in z2:\n",
    "        z[0][0] = dim_1\n",
    "        z[0][1] = dim_2\n",
    "        out = model.decode(z)\n",
    "        output = torch.argmax(out, dim=1)\n",
    "        out = np.array(np.squeeze(output).cpu().detach().numpy())\n",
    "        arr_out2.append(out)\n",
    "        values.append((dim_1, dim_2))\n",
    "        \n",
    "arr_out = np.array(arr_out2)\n",
    "np.save(f\"/volatile/arr_out_mic.npy\", arr_out)\n",
    "np.save('/volatile/arr_label_mic.npy', np.array(values))"
   ]
  },
  {
   "cell_type": "code",
   "execution_count": 76,
   "id": "rotary-upper",
   "metadata": {},
   "outputs": [
    {
     "data": {
      "text/plain": [
       "(36, 40, 40, 56)"
      ]
     },
     "execution_count": 76,
     "metadata": {},
     "output_type": "execute_result"
    }
   ],
   "source": [
    "arr_out.shape"
   ]
  }
 ],
 "metadata": {
  "kernelspec": {
   "display_name": "Python 3",
   "language": "python",
   "name": "python3"
  },
  "language_info": {
   "codemirror_mode": {
    "name": "ipython",
    "version": 3
   },
   "file_extension": ".py",
   "mimetype": "text/x-python",
   "name": "python",
   "nbconvert_exporter": "python",
   "pygments_lexer": "ipython3",
   "version": "3.6.9"
  }
 },
 "nbformat": 4,
 "nbformat_minor": 5
}
