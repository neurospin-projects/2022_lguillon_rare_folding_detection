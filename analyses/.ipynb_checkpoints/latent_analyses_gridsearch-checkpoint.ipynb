{
 "cells": [
  {
   "cell_type": "markdown",
   "id": "romance-classification",
   "metadata": {},
   "source": [
    "# Latent space analyses dummy beta-VAE"
   ]
  },
  {
   "cell_type": "code",
   "execution_count": 1,
   "id": "administrative-trout",
   "metadata": {},
   "outputs": [],
   "source": [
    "import os\n",
    "import glob\n",
    "import sys\n",
    "\n",
    "p = os.path.abspath('../')\n",
    "if p not in sys.path:\n",
    "    sys.path.append(p)\n",
    "    \n",
    "q = os.path.abspath('../../')\n",
    "if q not in sys.path:\n",
    "    sys.path.append(q)\n",
    "\n",
    "import moving_averages as ma\n",
    "import colorado as cld\n",
    "import dico_toolbox as dtx\n",
    "from tqdm import tqdm\n",
    "import re\n",
    "import umap\n",
    "\n",
    "import pandas as pd\n",
    "import numpy as np\n",
    "from scipy.spatial import distance\n",
    "\n",
    "import plotly.graph_objects as go\n",
    "import pickle\n",
    "import matplotlib.pyplot as plt\n",
    "import json\n",
    "\n",
    "from soma import aims\n",
    "\n",
    "from preprocess import SkeletonDataset\n",
    "from load_data import create_subset\n",
    "import torch\n",
    "from vae import *\n",
    "\n",
    "from sklearn.cluster import KMeans, SpectralClustering, AffinityPropagation\n",
    "from sklearn import metrics\n",
    "from sklearn.neighbors import NearestNeighbors\n",
    "from sklearn.svm import OneClassSVM\n",
    "\n",
    "import matplotlib.cm as cm\n",
    "\n",
    "from config import Config"
   ]
  },
  {
   "cell_type": "code",
   "execution_count": 2,
   "id": "everyday-davis",
   "metadata": {},
   "outputs": [],
   "source": [
    "path = '/neurospin/dico/data/deep_folding/current/crops/SC/mask/sulcus_based/2mm/Rcrops/'"
   ]
  },
  {
   "cell_type": "code",
   "execution_count": 3,
   "id": "dying-ferry",
   "metadata": {},
   "outputs": [],
   "source": [
    "if torch.cuda.is_available():\n",
    "    device = \"cuda:0\""
   ]
  },
  {
   "cell_type": "markdown",
   "id": "sonic-haven",
   "metadata": {},
   "source": [
    "#### Gridsearch analysis"
   ]
  },
  {
   "cell_type": "code",
   "execution_count": 4,
   "id": "primary-experiment",
   "metadata": {
    "scrolled": true
   },
   "outputs": [],
   "source": [
    "grid_dict = {}\n",
    "grid_dir = '/neurospin/dico/lguillon/miccai_22/gridsearch/'\n",
    "for folder in os.listdir(grid_dir):\n",
    "    if 'n_' in folder:\n",
    "        if os.path.isfile(os.path.join(grid_dir, folder, 'results_test.json')):\n",
    "            n = re.search('n_([\\d]{1,3})', folder).group(1)\n",
    "            kl = re.search('kl_([\\d]{1,2})', folder).group(1)\n",
    "            with open(os.path.join(grid_dir, folder, 'results_test.json'), 'r') as f:\n",
    "                grid_dict[(int(n), int(kl))] = json.load(f)"
   ]
  },
  {
   "cell_type": "code",
   "execution_count": 5,
   "id": "front-joint",
   "metadata": {},
   "outputs": [],
   "source": [
    "n_list = [list(grid_dict.keys())[k][0] for k in range(len(grid_dict))]\n",
    "kl_list = [list(grid_dict.keys())[k][1] for k in range(len(grid_dict))]\n",
    "Lbvae_mean_list = [[grid_dict[(n_list[k], kl_list[k])] for k in range(len(n_list))][i]['Lbvae'][0] for i in range(len(grid_dict))]\n",
    "Lbvae_std_list = [[grid_dict[(n_list[k], kl_list[k])] for k in range(len(n_list))][i]['Lbvae'][1] for i in range(len(grid_dict))]\n",
    "Lnn_mean_list = [[grid_dict[(n_list[k], kl_list[k])] for k in range(len(n_list))][i]['Lnn'][0] for i in range(len(grid_dict))]\n",
    "Lnn_std_list = [[grid_dict[(n_list[k], kl_list[k])] for k in range(len(n_list))][i]['Lnn'][1] for i in range(len(grid_dict))]\n",
    "Lsf_mean_list = [[grid_dict[(n_list[k], kl_list[k])] for k in range(len(n_list))][i]['Lsf'][0] for i in range(len(grid_dict))]\n",
    "Lsf_std_list = [[grid_dict[(n_list[k], kl_list[k])] for k in range(len(n_list))][i]['Lsf'][1] for i in range(len(grid_dict))]"
   ]
  },
  {
   "cell_type": "code",
   "execution_count": 6,
   "id": "necessary-devil",
   "metadata": {},
   "outputs": [],
   "source": [
    "grid_df = pd.DataFrame(list(zip(n_list, kl_list, Lbvae_mean_list, Lnn_mean_list, Lsf_mean_list)), columns=['n', 'kl', 'Lbvae_mean', 'Lnn_mean','Lsf_mean'])"
   ]
  },
  {
   "cell_type": "code",
   "execution_count": 7,
   "id": "radical-fence",
   "metadata": {},
   "outputs": [
    {
     "data": {
      "text/html": [
       "<div>\n",
       "<style scoped>\n",
       "    .dataframe tbody tr th:only-of-type {\n",
       "        vertical-align: middle;\n",
       "    }\n",
       "\n",
       "    .dataframe tbody tr th {\n",
       "        vertical-align: top;\n",
       "    }\n",
       "\n",
       "    .dataframe thead th {\n",
       "        text-align: right;\n",
       "    }\n",
       "</style>\n",
       "<table border=\"1\" class=\"dataframe\">\n",
       "  <thead>\n",
       "    <tr style=\"text-align: right;\">\n",
       "      <th></th>\n",
       "      <th>n</th>\n",
       "      <th>kl</th>\n",
       "      <th>Lbvae_mean</th>\n",
       "      <th>Lnn_mean</th>\n",
       "      <th>Lsf_mean</th>\n",
       "    </tr>\n",
       "  </thead>\n",
       "  <tbody>\n",
       "    <tr>\n",
       "      <th>19</th>\n",
       "      <td>2</td>\n",
       "      <td>2</td>\n",
       "      <td>571588.88</td>\n",
       "      <td>0.149016</td>\n",
       "      <td>-0.283734</td>\n",
       "    </tr>\n",
       "    <tr>\n",
       "      <th>16</th>\n",
       "      <td>4</td>\n",
       "      <td>2</td>\n",
       "      <td>504895.12</td>\n",
       "      <td>0.357645</td>\n",
       "      <td>-0.451322</td>\n",
       "    </tr>\n",
       "    <tr>\n",
       "      <th>3</th>\n",
       "      <td>10</td>\n",
       "      <td>2</td>\n",
       "      <td>498372.32</td>\n",
       "      <td>0.584041</td>\n",
       "      <td>-0.237798</td>\n",
       "    </tr>\n",
       "    <tr>\n",
       "      <th>1</th>\n",
       "      <td>20</td>\n",
       "      <td>2</td>\n",
       "      <td>630468.96</td>\n",
       "      <td>1.231928</td>\n",
       "      <td>0.239768</td>\n",
       "    </tr>\n",
       "    <tr>\n",
       "      <th>2</th>\n",
       "      <td>40</td>\n",
       "      <td>2</td>\n",
       "      <td>565696.60</td>\n",
       "      <td>1.625079</td>\n",
       "      <td>0.083376</td>\n",
       "    </tr>\n",
       "    <tr>\n",
       "      <th>9</th>\n",
       "      <td>75</td>\n",
       "      <td>2</td>\n",
       "      <td>675983.36</td>\n",
       "      <td>2.151032</td>\n",
       "      <td>0.494839</td>\n",
       "    </tr>\n",
       "    <tr>\n",
       "      <th>15</th>\n",
       "      <td>100</td>\n",
       "      <td>2</td>\n",
       "      <td>689910.36</td>\n",
       "      <td>2.269691</td>\n",
       "      <td>0.471321</td>\n",
       "    </tr>\n",
       "    <tr>\n",
       "      <th>12</th>\n",
       "      <td>2</td>\n",
       "      <td>5</td>\n",
       "      <td>541142.72</td>\n",
       "      <td>0.122622</td>\n",
       "      <td>-0.562822</td>\n",
       "    </tr>\n",
       "    <tr>\n",
       "      <th>17</th>\n",
       "      <td>4</td>\n",
       "      <td>5</td>\n",
       "      <td>531274.52</td>\n",
       "      <td>0.152923</td>\n",
       "      <td>-0.319085</td>\n",
       "    </tr>\n",
       "    <tr>\n",
       "      <th>8</th>\n",
       "      <td>10</td>\n",
       "      <td>5</td>\n",
       "      <td>543483.24</td>\n",
       "      <td>0.491785</td>\n",
       "      <td>-0.086150</td>\n",
       "    </tr>\n",
       "    <tr>\n",
       "      <th>20</th>\n",
       "      <td>20</td>\n",
       "      <td>5</td>\n",
       "      <td>643400.44</td>\n",
       "      <td>1.206762</td>\n",
       "      <td>0.323368</td>\n",
       "    </tr>\n",
       "    <tr>\n",
       "      <th>6</th>\n",
       "      <td>40</td>\n",
       "      <td>5</td>\n",
       "      <td>584871.28</td>\n",
       "      <td>0.805086</td>\n",
       "      <td>0.196380</td>\n",
       "    </tr>\n",
       "    <tr>\n",
       "      <th>11</th>\n",
       "      <td>75</td>\n",
       "      <td>5</td>\n",
       "      <td>663515.88</td>\n",
       "      <td>1.314666</td>\n",
       "      <td>0.407746</td>\n",
       "    </tr>\n",
       "    <tr>\n",
       "      <th>4</th>\n",
       "      <td>100</td>\n",
       "      <td>5</td>\n",
       "      <td>671926.20</td>\n",
       "      <td>1.741256</td>\n",
       "      <td>0.289817</td>\n",
       "    </tr>\n",
       "    <tr>\n",
       "      <th>0</th>\n",
       "      <td>2</td>\n",
       "      <td>8</td>\n",
       "      <td>564772.56</td>\n",
       "      <td>0.126246</td>\n",
       "      <td>-0.389105</td>\n",
       "    </tr>\n",
       "    <tr>\n",
       "      <th>13</th>\n",
       "      <td>4</td>\n",
       "      <td>8</td>\n",
       "      <td>544018.12</td>\n",
       "      <td>0.107883</td>\n",
       "      <td>-0.340815</td>\n",
       "    </tr>\n",
       "    <tr>\n",
       "      <th>10</th>\n",
       "      <td>10</td>\n",
       "      <td>8</td>\n",
       "      <td>580253.52</td>\n",
       "      <td>0.303631</td>\n",
       "      <td>-0.061488</td>\n",
       "    </tr>\n",
       "    <tr>\n",
       "      <th>14</th>\n",
       "      <td>20</td>\n",
       "      <td>8</td>\n",
       "      <td>598184.40</td>\n",
       "      <td>0.311601</td>\n",
       "      <td>-0.096221</td>\n",
       "    </tr>\n",
       "    <tr>\n",
       "      <th>18</th>\n",
       "      <td>40</td>\n",
       "      <td>8</td>\n",
       "      <td>699804.68</td>\n",
       "      <td>0.282110</td>\n",
       "      <td>0.367482</td>\n",
       "    </tr>\n",
       "    <tr>\n",
       "      <th>7</th>\n",
       "      <td>75</td>\n",
       "      <td>8</td>\n",
       "      <td>763141.08</td>\n",
       "      <td>0.402672</td>\n",
       "      <td>0.269689</td>\n",
       "    </tr>\n",
       "    <tr>\n",
       "      <th>5</th>\n",
       "      <td>100</td>\n",
       "      <td>8</td>\n",
       "      <td>744670.96</td>\n",
       "      <td>0.517160</td>\n",
       "      <td>0.335423</td>\n",
       "    </tr>\n",
       "  </tbody>\n",
       "</table>\n",
       "</div>"
      ],
      "text/plain": [
       "      n  kl  Lbvae_mean  Lnn_mean  Lsf_mean\n",
       "19    2   2   571588.88  0.149016 -0.283734\n",
       "16    4   2   504895.12  0.357645 -0.451322\n",
       "3    10   2   498372.32  0.584041 -0.237798\n",
       "1    20   2   630468.96  1.231928  0.239768\n",
       "2    40   2   565696.60  1.625079  0.083376\n",
       "9    75   2   675983.36  2.151032  0.494839\n",
       "15  100   2   689910.36  2.269691  0.471321\n",
       "12    2   5   541142.72  0.122622 -0.562822\n",
       "17    4   5   531274.52  0.152923 -0.319085\n",
       "8    10   5   543483.24  0.491785 -0.086150\n",
       "20   20   5   643400.44  1.206762  0.323368\n",
       "6    40   5   584871.28  0.805086  0.196380\n",
       "11   75   5   663515.88  1.314666  0.407746\n",
       "4   100   5   671926.20  1.741256  0.289817\n",
       "0     2   8   564772.56  0.126246 -0.389105\n",
       "13    4   8   544018.12  0.107883 -0.340815\n",
       "10   10   8   580253.52  0.303631 -0.061488\n",
       "14   20   8   598184.40  0.311601 -0.096221\n",
       "18   40   8   699804.68  0.282110  0.367482\n",
       "7    75   8   763141.08  0.402672  0.269689\n",
       "5   100   8   744670.96  0.517160  0.335423"
      ]
     },
     "execution_count": 7,
     "metadata": {},
     "output_type": "execute_result"
    }
   ],
   "source": [
    "grid_df.sort_values(by=['kl', 'n'], ascending=True)"
   ]
  },
  {
   "cell_type": "markdown",
   "id": "appreciated-drama",
   "metadata": {},
   "source": [
    "##### Model"
   ]
  },
  {
   "cell_type": "code",
   "execution_count": 8,
   "id": "endangered-bicycle",
   "metadata": {},
   "outputs": [],
   "source": [
    "#model_dir = '/neurospin/dico/lguillon/miccai_22/gridsearch/n_2_kl_5/checkpoint.pt'\n",
    "model_dir = '/neurospin/dico/lguillon/miccai_22/analyses_gridsearch/n_10_kl_2/checkpoint.pt'\n",
    "model = VAE((1, 40, 40, 56), 10, depth=3)\n",
    "model.load_state_dict(torch.load(model_dir))\n",
    "model = model.to(device)"
   ]
  },
  {
   "cell_type": "markdown",
   "id": "fundamental-render",
   "metadata": {},
   "source": [
    "### Loading of subjects' distribution in the latent space"
   ]
  },
  {
   "cell_type": "markdown",
   "id": "conservative-century",
   "metadata": {},
   "source": [
    "##### HCP test set"
   ]
  },
  {
   "cell_type": "code",
   "execution_count": 9,
   "id": "olympic-momentum",
   "metadata": {},
   "outputs": [],
   "source": [
    "subject_dir = \"/neurospin/dico/lguillon/miccai_22/data/\"\n",
    "data_dir = \"/neurospin/dico/data/deep_folding/current/crops/SC/mask/sulcus_based/2mm/\"\n",
    "\n",
    "test_list = pd.read_csv(os.path.join(subject_dir, \"test_list.csv\"))\n",
    "\n",
    "test_list['subjects'] = test_list['subjects'].astype('str')\n",
    "\n",
    "tmp = pd.read_pickle(os.path.join(data_dir, \"Rskeleton.pkl\")).T\n",
    "#tmp = tmp.rename(columns={0:'subjects'})\n",
    "tmp.index.astype('str')\n",
    "tmp = tmp.rename(columns={0: \"skeleton\"})\n",
    "\n",
    "tmp = tmp.merge(test_list, left_on = tmp.index, right_on='subjects', how='right')\n",
    "\n",
    "filenames_hcp = list(test_list['subjects'])\n",
    "\n",
    "subset = SkeletonDataset(dataframe=tmp, filenames=filenames_hcp,\n",
    "                        visu_check=False)\n",
    "\n",
    "dataloader = torch.utils.data.DataLoader(\n",
    "              subset,\n",
    "              batch_size=1,\n",
    "              num_workers=8,\n",
    "              shuffle=True) "
   ]
  },
  {
   "cell_type": "markdown",
   "id": "recent-endorsement",
   "metadata": {},
   "source": [
    "##### SC int\n",
    "[111009, 138231, 510225, 199251, 159946, 140319, 212419] "
   ]
  },
  {
   "cell_type": "code",
   "execution_count": 10,
   "id": "promotional-vacuum",
   "metadata": {
    "scrolled": true
   },
   "outputs": [],
   "source": [
    "subject_dir = \"/neurospin/dico/lguillon/miccai_22/data/\"\n",
    "data_dir = \"/neurospin/dico/data/deep_folding/current/crops/SC/mask/sulcus_based/2mm/\"\n",
    "\n",
    "scint_list = ['111009', '138231', '510225', '199251', '159946', '140319', '212419']\n",
    "scint_df = pd.DataFrame(scint_list, columns=['subjects'])\n",
    "\n",
    "tmp_int = pd.read_pickle(os.path.join(data_dir, \"Rskeleton.pkl\")).T\n",
    "tmp_int = tmp_int.rename(columns={0:'skeleton'})\n",
    "tmp_int.index.astype('str')\n",
    "\n",
    "tmp_int = tmp_int.merge(scint_df, left_on = tmp_int.index, right_on='subjects', how='right')\n",
    "\n",
    "filenames = scint_list\n",
    "\n",
    "subset = SkeletonDataset(dataframe=tmp_int, filenames=filenames, visu_check=False)\n",
    "\n",
    "dataloader_int = torch.utils.data.DataLoader(\n",
    "              subset,\n",
    "              batch_size=1,\n",
    "              num_workers=8,\n",
    "              shuffle=True) "
   ]
  },
  {
   "cell_type": "markdown",
   "id": "developed-fiber",
   "metadata": {},
   "source": [
    "##### OH"
   ]
  },
  {
   "cell_type": "code",
   "execution_count": 11,
   "id": "simple-diameter",
   "metadata": {
    "scrolled": true
   },
   "outputs": [
    {
     "data": {
      "text/html": [
       "<div>\n",
       "<style scoped>\n",
       "    .dataframe tbody tr th:only-of-type {\n",
       "        vertical-align: middle;\n",
       "    }\n",
       "\n",
       "    .dataframe tbody tr th {\n",
       "        vertical-align: top;\n",
       "    }\n",
       "\n",
       "    .dataframe thead th {\n",
       "        text-align: right;\n",
       "    }\n",
       "</style>\n",
       "<table border=\"1\" class=\"dataframe\">\n",
       "  <thead>\n",
       "    <tr style=\"text-align: right;\">\n",
       "      <th></th>\n",
       "      <th>SubjID</th>\n",
       "      <th>Gender</th>\n",
       "      <th>Age at time of scan</th>\n",
       "      <th>Age at limb loss</th>\n",
       "      <th>Group</th>\n",
       "      <th>Amp. Side</th>\n",
       "      <th>Dominant hand</th>\n",
       "    </tr>\n",
       "  </thead>\n",
       "  <tbody>\n",
       "    <tr>\n",
       "      <th>0</th>\n",
       "      <td>PA01</td>\n",
       "      <td>M</td>\n",
       "      <td>57</td>\n",
       "      <td>20.0</td>\n",
       "      <td>AMP</td>\n",
       "      <td>L</td>\n",
       "      <td>NaN</td>\n",
       "    </tr>\n",
       "    <tr>\n",
       "      <th>1</th>\n",
       "      <td>PA02</td>\n",
       "      <td>F</td>\n",
       "      <td>49</td>\n",
       "      <td>0.0</td>\n",
       "      <td>CONG</td>\n",
       "      <td>L</td>\n",
       "      <td>NaN</td>\n",
       "    </tr>\n",
       "    <tr>\n",
       "      <th>2</th>\n",
       "      <td>PA03</td>\n",
       "      <td>M</td>\n",
       "      <td>59</td>\n",
       "      <td>40.0</td>\n",
       "      <td>AMP</td>\n",
       "      <td>L</td>\n",
       "      <td>NaN</td>\n",
       "    </tr>\n",
       "    <tr>\n",
       "      <th>3</th>\n",
       "      <td>PA04</td>\n",
       "      <td>F</td>\n",
       "      <td>52</td>\n",
       "      <td>0.0</td>\n",
       "      <td>CONG</td>\n",
       "      <td>R</td>\n",
       "      <td>NaN</td>\n",
       "    </tr>\n",
       "    <tr>\n",
       "      <th>4</th>\n",
       "      <td>PA05</td>\n",
       "      <td>M</td>\n",
       "      <td>58</td>\n",
       "      <td>27.0</td>\n",
       "      <td>AMP</td>\n",
       "      <td>L</td>\n",
       "      <td>NaN</td>\n",
       "    </tr>\n",
       "    <tr>\n",
       "      <th>5</th>\n",
       "      <td>PA06</td>\n",
       "      <td>M</td>\n",
       "      <td>53</td>\n",
       "      <td>28.0</td>\n",
       "      <td>AMP</td>\n",
       "      <td>L</td>\n",
       "      <td>NaN</td>\n",
       "    </tr>\n",
       "    <tr>\n",
       "      <th>6</th>\n",
       "      <td>PA07</td>\n",
       "      <td>M</td>\n",
       "      <td>52</td>\n",
       "      <td>0.0</td>\n",
       "      <td>CONG</td>\n",
       "      <td>L</td>\n",
       "      <td>NaN</td>\n",
       "    </tr>\n",
       "    <tr>\n",
       "      <th>7</th>\n",
       "      <td>PA08</td>\n",
       "      <td>M</td>\n",
       "      <td>41</td>\n",
       "      <td>27.0</td>\n",
       "      <td>AMP</td>\n",
       "      <td>R</td>\n",
       "      <td>NaN</td>\n",
       "    </tr>\n",
       "    <tr>\n",
       "      <th>8</th>\n",
       "      <td>PA09</td>\n",
       "      <td>M</td>\n",
       "      <td>48</td>\n",
       "      <td>17.0</td>\n",
       "      <td>AMP</td>\n",
       "      <td>L</td>\n",
       "      <td>NaN</td>\n",
       "    </tr>\n",
       "    <tr>\n",
       "      <th>9</th>\n",
       "      <td>PA10</td>\n",
       "      <td>F</td>\n",
       "      <td>25</td>\n",
       "      <td>0.0</td>\n",
       "      <td>CONG</td>\n",
       "      <td>R</td>\n",
       "      <td>NaN</td>\n",
       "    </tr>\n",
       "    <tr>\n",
       "      <th>10</th>\n",
       "      <td>PA11</td>\n",
       "      <td>M</td>\n",
       "      <td>49</td>\n",
       "      <td>0.0</td>\n",
       "      <td>CONG</td>\n",
       "      <td>L</td>\n",
       "      <td>NaN</td>\n",
       "    </tr>\n",
       "    <tr>\n",
       "      <th>11</th>\n",
       "      <td>PA12</td>\n",
       "      <td>M</td>\n",
       "      <td>37</td>\n",
       "      <td>27.0</td>\n",
       "      <td>AMP</td>\n",
       "      <td>L</td>\n",
       "      <td>NaN</td>\n",
       "    </tr>\n",
       "    <tr>\n",
       "      <th>12</th>\n",
       "      <td>PA13</td>\n",
       "      <td>F</td>\n",
       "      <td>46</td>\n",
       "      <td>38.0</td>\n",
       "      <td>AMP</td>\n",
       "      <td>L</td>\n",
       "      <td>NaN</td>\n",
       "    </tr>\n",
       "    <tr>\n",
       "      <th>13</th>\n",
       "      <td>PA14</td>\n",
       "      <td>F</td>\n",
       "      <td>28</td>\n",
       "      <td>0.0</td>\n",
       "      <td>CONG</td>\n",
       "      <td>L</td>\n",
       "      <td>NaN</td>\n",
       "    </tr>\n",
       "    <tr>\n",
       "      <th>14</th>\n",
       "      <td>PA15</td>\n",
       "      <td>M</td>\n",
       "      <td>64</td>\n",
       "      <td>33.0</td>\n",
       "      <td>AMP</td>\n",
       "      <td>R</td>\n",
       "      <td>NaN</td>\n",
       "    </tr>\n",
       "    <tr>\n",
       "      <th>15</th>\n",
       "      <td>PA16</td>\n",
       "      <td>M</td>\n",
       "      <td>38</td>\n",
       "      <td>0.0</td>\n",
       "      <td>CONG</td>\n",
       "      <td>L</td>\n",
       "      <td>NaN</td>\n",
       "    </tr>\n",
       "    <tr>\n",
       "      <th>16</th>\n",
       "      <td>PA17</td>\n",
       "      <td>F</td>\n",
       "      <td>24</td>\n",
       "      <td>18.0</td>\n",
       "      <td>AMP</td>\n",
       "      <td>R</td>\n",
       "      <td>NaN</td>\n",
       "    </tr>\n",
       "    <tr>\n",
       "      <th>17</th>\n",
       "      <td>PA18</td>\n",
       "      <td>F</td>\n",
       "      <td>27</td>\n",
       "      <td>0.0</td>\n",
       "      <td>CONG</td>\n",
       "      <td>L</td>\n",
       "      <td>NaN</td>\n",
       "    </tr>\n",
       "    <tr>\n",
       "      <th>18</th>\n",
       "      <td>PA19</td>\n",
       "      <td>M</td>\n",
       "      <td>49</td>\n",
       "      <td>37.0</td>\n",
       "      <td>AMP</td>\n",
       "      <td>L</td>\n",
       "      <td>NaN</td>\n",
       "    </tr>\n",
       "    <tr>\n",
       "      <th>19</th>\n",
       "      <td>PA20</td>\n",
       "      <td>M</td>\n",
       "      <td>60</td>\n",
       "      <td>0.0</td>\n",
       "      <td>CONG</td>\n",
       "      <td>L</td>\n",
       "      <td>NaN</td>\n",
       "    </tr>\n",
       "    <tr>\n",
       "      <th>20</th>\n",
       "      <td>PA21</td>\n",
       "      <td>F</td>\n",
       "      <td>34</td>\n",
       "      <td>0.0</td>\n",
       "      <td>CONG</td>\n",
       "      <td>R</td>\n",
       "      <td>NaN</td>\n",
       "    </tr>\n",
       "    <tr>\n",
       "      <th>21</th>\n",
       "      <td>PA22</td>\n",
       "      <td>F</td>\n",
       "      <td>36</td>\n",
       "      <td>0.0</td>\n",
       "      <td>CONG</td>\n",
       "      <td>R</td>\n",
       "      <td>NaN</td>\n",
       "    </tr>\n",
       "    <tr>\n",
       "      <th>22</th>\n",
       "      <td>PA23</td>\n",
       "      <td>F</td>\n",
       "      <td>50</td>\n",
       "      <td>45.0</td>\n",
       "      <td>AMP</td>\n",
       "      <td>L</td>\n",
       "      <td>NaN</td>\n",
       "    </tr>\n",
       "    <tr>\n",
       "      <th>23</th>\n",
       "      <td>PA24</td>\n",
       "      <td>F</td>\n",
       "      <td>41</td>\n",
       "      <td>0.0</td>\n",
       "      <td>CONG</td>\n",
       "      <td>L</td>\n",
       "      <td>NaN</td>\n",
       "    </tr>\n",
       "    <tr>\n",
       "      <th>24</th>\n",
       "      <td>PA25</td>\n",
       "      <td>M</td>\n",
       "      <td>29</td>\n",
       "      <td>24.0</td>\n",
       "      <td>AMP</td>\n",
       "      <td>L</td>\n",
       "      <td>NaN</td>\n",
       "    </tr>\n",
       "    <tr>\n",
       "      <th>25</th>\n",
       "      <td>PA27</td>\n",
       "      <td>M</td>\n",
       "      <td>25</td>\n",
       "      <td>0.0</td>\n",
       "      <td>CONG</td>\n",
       "      <td>L</td>\n",
       "      <td>NaN</td>\n",
       "    </tr>\n",
       "    <tr>\n",
       "      <th>26</th>\n",
       "      <td>PA28</td>\n",
       "      <td>M</td>\n",
       "      <td>34</td>\n",
       "      <td>0.0</td>\n",
       "      <td>CONG</td>\n",
       "      <td>L</td>\n",
       "      <td>NaN</td>\n",
       "    </tr>\n",
       "    <tr>\n",
       "      <th>27</th>\n",
       "      <td>PA29</td>\n",
       "      <td>M</td>\n",
       "      <td>25</td>\n",
       "      <td>18.0</td>\n",
       "      <td>AMP</td>\n",
       "      <td>L</td>\n",
       "      <td>NaN</td>\n",
       "    </tr>\n",
       "    <tr>\n",
       "      <th>28</th>\n",
       "      <td>PA30</td>\n",
       "      <td>M</td>\n",
       "      <td>38</td>\n",
       "      <td>0.0</td>\n",
       "      <td>CONG</td>\n",
       "      <td>L</td>\n",
       "      <td>NaN</td>\n",
       "    </tr>\n",
       "    <tr>\n",
       "      <th>29</th>\n",
       "      <td>PA31</td>\n",
       "      <td>F</td>\n",
       "      <td>49</td>\n",
       "      <td>0.0</td>\n",
       "      <td>CONG</td>\n",
       "      <td>L</td>\n",
       "      <td>NaN</td>\n",
       "    </tr>\n",
       "    <tr>\n",
       "      <th>30</th>\n",
       "      <td>PA32</td>\n",
       "      <td>M</td>\n",
       "      <td>45</td>\n",
       "      <td>20.0</td>\n",
       "      <td>AMP</td>\n",
       "      <td>R</td>\n",
       "      <td>NaN</td>\n",
       "    </tr>\n",
       "    <tr>\n",
       "      <th>31</th>\n",
       "      <td>PA33</td>\n",
       "      <td>M</td>\n",
       "      <td>32</td>\n",
       "      <td>31.0</td>\n",
       "      <td>AMP</td>\n",
       "      <td>L</td>\n",
       "      <td>NaN</td>\n",
       "    </tr>\n",
       "    <tr>\n",
       "      <th>32</th>\n",
       "      <td>PC01</td>\n",
       "      <td>F</td>\n",
       "      <td>70</td>\n",
       "      <td>NaN</td>\n",
       "      <td>CTR</td>\n",
       "      <td>NaN</td>\n",
       "      <td>R</td>\n",
       "    </tr>\n",
       "    <tr>\n",
       "      <th>33</th>\n",
       "      <td>PC02</td>\n",
       "      <td>F</td>\n",
       "      <td>49</td>\n",
       "      <td>NaN</td>\n",
       "      <td>CTR</td>\n",
       "      <td>NaN</td>\n",
       "      <td>R</td>\n",
       "    </tr>\n",
       "    <tr>\n",
       "      <th>34</th>\n",
       "      <td>PC03</td>\n",
       "      <td>M</td>\n",
       "      <td>27</td>\n",
       "      <td>NaN</td>\n",
       "      <td>CTR</td>\n",
       "      <td>NaN</td>\n",
       "      <td>R</td>\n",
       "    </tr>\n",
       "    <tr>\n",
       "      <th>35</th>\n",
       "      <td>PC04</td>\n",
       "      <td>F</td>\n",
       "      <td>36</td>\n",
       "      <td>NaN</td>\n",
       "      <td>CTR</td>\n",
       "      <td>NaN</td>\n",
       "      <td>R</td>\n",
       "    </tr>\n",
       "    <tr>\n",
       "      <th>36</th>\n",
       "      <td>PC05</td>\n",
       "      <td>F</td>\n",
       "      <td>24</td>\n",
       "      <td>NaN</td>\n",
       "      <td>CTR</td>\n",
       "      <td>NaN</td>\n",
       "      <td>R</td>\n",
       "    </tr>\n",
       "    <tr>\n",
       "      <th>37</th>\n",
       "      <td>PC06</td>\n",
       "      <td>M</td>\n",
       "      <td>25</td>\n",
       "      <td>NaN</td>\n",
       "      <td>CTR</td>\n",
       "      <td>NaN</td>\n",
       "      <td>L</td>\n",
       "    </tr>\n",
       "    <tr>\n",
       "      <th>38</th>\n",
       "      <td>PC07</td>\n",
       "      <td>F</td>\n",
       "      <td>52</td>\n",
       "      <td>NaN</td>\n",
       "      <td>CTR</td>\n",
       "      <td>NaN</td>\n",
       "      <td>R</td>\n",
       "    </tr>\n",
       "    <tr>\n",
       "      <th>39</th>\n",
       "      <td>PC08</td>\n",
       "      <td>F</td>\n",
       "      <td>43</td>\n",
       "      <td>NaN</td>\n",
       "      <td>CTR</td>\n",
       "      <td>NaN</td>\n",
       "      <td>R</td>\n",
       "    </tr>\n",
       "    <tr>\n",
       "      <th>40</th>\n",
       "      <td>PC09</td>\n",
       "      <td>M</td>\n",
       "      <td>27</td>\n",
       "      <td>NaN</td>\n",
       "      <td>CTR</td>\n",
       "      <td>NaN</td>\n",
       "      <td>R</td>\n",
       "    </tr>\n",
       "    <tr>\n",
       "      <th>41</th>\n",
       "      <td>PC10</td>\n",
       "      <td>F</td>\n",
       "      <td>38</td>\n",
       "      <td>NaN</td>\n",
       "      <td>CTR</td>\n",
       "      <td>NaN</td>\n",
       "      <td>R</td>\n",
       "    </tr>\n",
       "    <tr>\n",
       "      <th>42</th>\n",
       "      <td>PC11</td>\n",
       "      <td>M</td>\n",
       "      <td>52</td>\n",
       "      <td>NaN</td>\n",
       "      <td>CTR</td>\n",
       "      <td>NaN</td>\n",
       "      <td>L</td>\n",
       "    </tr>\n",
       "    <tr>\n",
       "      <th>43</th>\n",
       "      <td>PC12</td>\n",
       "      <td>M</td>\n",
       "      <td>47</td>\n",
       "      <td>NaN</td>\n",
       "      <td>CTR</td>\n",
       "      <td>NaN</td>\n",
       "      <td>R</td>\n",
       "    </tr>\n",
       "    <tr>\n",
       "      <th>44</th>\n",
       "      <td>PC13</td>\n",
       "      <td>M</td>\n",
       "      <td>41</td>\n",
       "      <td>NaN</td>\n",
       "      <td>CTR</td>\n",
       "      <td>NaN</td>\n",
       "      <td>L</td>\n",
       "    </tr>\n",
       "    <tr>\n",
       "      <th>45</th>\n",
       "      <td>PC14</td>\n",
       "      <td>M</td>\n",
       "      <td>49</td>\n",
       "      <td>NaN</td>\n",
       "      <td>CTR</td>\n",
       "      <td>NaN</td>\n",
       "      <td>R</td>\n",
       "    </tr>\n",
       "    <tr>\n",
       "      <th>46</th>\n",
       "      <td>PC15</td>\n",
       "      <td>M</td>\n",
       "      <td>28</td>\n",
       "      <td>NaN</td>\n",
       "      <td>CTR</td>\n",
       "      <td>NaN</td>\n",
       "      <td>L</td>\n",
       "    </tr>\n",
       "    <tr>\n",
       "      <th>47</th>\n",
       "      <td>PC16</td>\n",
       "      <td>F</td>\n",
       "      <td>32</td>\n",
       "      <td>NaN</td>\n",
       "      <td>CTR</td>\n",
       "      <td>NaN</td>\n",
       "      <td>R</td>\n",
       "    </tr>\n",
       "    <tr>\n",
       "      <th>48</th>\n",
       "      <td>PC17</td>\n",
       "      <td>F</td>\n",
       "      <td>42</td>\n",
       "      <td>NaN</td>\n",
       "      <td>CTR</td>\n",
       "      <td>NaN</td>\n",
       "      <td>L</td>\n",
       "    </tr>\n",
       "    <tr>\n",
       "      <th>49</th>\n",
       "      <td>PC18</td>\n",
       "      <td>M</td>\n",
       "      <td>31</td>\n",
       "      <td>NaN</td>\n",
       "      <td>CTR</td>\n",
       "      <td>NaN</td>\n",
       "      <td>R</td>\n",
       "    </tr>\n",
       "    <tr>\n",
       "      <th>50</th>\n",
       "      <td>PC19</td>\n",
       "      <td>M</td>\n",
       "      <td>44</td>\n",
       "      <td>NaN</td>\n",
       "      <td>CTR</td>\n",
       "      <td>NaN</td>\n",
       "      <td>L</td>\n",
       "    </tr>\n",
       "    <tr>\n",
       "      <th>51</th>\n",
       "      <td>PC20</td>\n",
       "      <td>F</td>\n",
       "      <td>40</td>\n",
       "      <td>NaN</td>\n",
       "      <td>CTR</td>\n",
       "      <td>NaN</td>\n",
       "      <td>R</td>\n",
       "    </tr>\n",
       "    <tr>\n",
       "      <th>52</th>\n",
       "      <td>PC21</td>\n",
       "      <td>M</td>\n",
       "      <td>52</td>\n",
       "      <td>NaN</td>\n",
       "      <td>CTR</td>\n",
       "      <td>NaN</td>\n",
       "      <td>L</td>\n",
       "    </tr>\n",
       "    <tr>\n",
       "      <th>53</th>\n",
       "      <td>PC22</td>\n",
       "      <td>F</td>\n",
       "      <td>62</td>\n",
       "      <td>NaN</td>\n",
       "      <td>CTR</td>\n",
       "      <td>NaN</td>\n",
       "      <td>R</td>\n",
       "    </tr>\n",
       "    <tr>\n",
       "      <th>54</th>\n",
       "      <td>PC23</td>\n",
       "      <td>F</td>\n",
       "      <td>25</td>\n",
       "      <td>NaN</td>\n",
       "      <td>CTR</td>\n",
       "      <td>NaN</td>\n",
       "      <td>R</td>\n",
       "    </tr>\n",
       "    <tr>\n",
       "      <th>55</th>\n",
       "      <td>PC24</td>\n",
       "      <td>M</td>\n",
       "      <td>64</td>\n",
       "      <td>NaN</td>\n",
       "      <td>CTR</td>\n",
       "      <td>NaN</td>\n",
       "      <td>L</td>\n",
       "    </tr>\n",
       "  </tbody>\n",
       "</table>\n",
       "</div>"
      ],
      "text/plain": [
       "   SubjID Gender  Age at time of scan  Age at limb loss Group Amp. Side  \\\n",
       "0    PA01      M                   57              20.0   AMP         L   \n",
       "1    PA02      F                   49               0.0  CONG         L   \n",
       "2    PA03      M                   59              40.0   AMP         L   \n",
       "3    PA04      F                   52               0.0  CONG         R   \n",
       "4    PA05      M                   58              27.0   AMP         L   \n",
       "5    PA06      M                   53              28.0   AMP         L   \n",
       "6    PA07      M                   52               0.0  CONG         L   \n",
       "7    PA08      M                   41              27.0   AMP         R   \n",
       "8    PA09      M                   48              17.0   AMP         L   \n",
       "9    PA10      F                   25               0.0  CONG         R   \n",
       "10   PA11      M                   49               0.0  CONG         L   \n",
       "11   PA12      M                   37              27.0   AMP         L   \n",
       "12   PA13      F                   46              38.0   AMP         L   \n",
       "13   PA14      F                   28               0.0  CONG         L   \n",
       "14   PA15      M                   64              33.0   AMP         R   \n",
       "15   PA16      M                   38               0.0  CONG         L   \n",
       "16   PA17      F                   24              18.0   AMP         R   \n",
       "17   PA18      F                   27               0.0  CONG         L   \n",
       "18   PA19      M                   49              37.0   AMP         L   \n",
       "19   PA20      M                   60               0.0  CONG         L   \n",
       "20   PA21      F                   34               0.0  CONG         R   \n",
       "21   PA22      F                   36               0.0  CONG         R   \n",
       "22   PA23      F                   50              45.0   AMP         L   \n",
       "23   PA24      F                   41               0.0  CONG         L   \n",
       "24   PA25      M                   29              24.0   AMP         L   \n",
       "25   PA27      M                   25               0.0  CONG         L   \n",
       "26   PA28      M                   34               0.0  CONG         L   \n",
       "27   PA29      M                   25              18.0   AMP         L   \n",
       "28   PA30      M                   38               0.0  CONG         L   \n",
       "29   PA31      F                   49               0.0  CONG         L   \n",
       "30   PA32      M                   45              20.0   AMP         R   \n",
       "31   PA33      M                   32              31.0   AMP         L   \n",
       "32   PC01      F                   70               NaN   CTR       NaN   \n",
       "33   PC02      F                   49               NaN   CTR       NaN   \n",
       "34   PC03      M                   27               NaN   CTR       NaN   \n",
       "35   PC04      F                   36               NaN   CTR       NaN   \n",
       "36   PC05      F                   24               NaN   CTR       NaN   \n",
       "37   PC06      M                   25               NaN   CTR       NaN   \n",
       "38   PC07      F                   52               NaN   CTR       NaN   \n",
       "39   PC08      F                   43               NaN   CTR       NaN   \n",
       "40   PC09      M                   27               NaN   CTR       NaN   \n",
       "41   PC10      F                   38               NaN   CTR       NaN   \n",
       "42   PC11      M                   52               NaN   CTR       NaN   \n",
       "43   PC12      M                   47               NaN   CTR       NaN   \n",
       "44   PC13      M                   41               NaN   CTR       NaN   \n",
       "45   PC14      M                   49               NaN   CTR       NaN   \n",
       "46   PC15      M                   28               NaN   CTR       NaN   \n",
       "47   PC16      F                   32               NaN   CTR       NaN   \n",
       "48   PC17      F                   42               NaN   CTR       NaN   \n",
       "49   PC18      M                   31               NaN   CTR       NaN   \n",
       "50   PC19      M                   44               NaN   CTR       NaN   \n",
       "51   PC20      F                   40               NaN   CTR       NaN   \n",
       "52   PC21      M                   52               NaN   CTR       NaN   \n",
       "53   PC22      F                   62               NaN   CTR       NaN   \n",
       "54   PC23      F                   25               NaN   CTR       NaN   \n",
       "55   PC24      M                   64               NaN   CTR       NaN   \n",
       "\n",
       "   Dominant hand  \n",
       "0            NaN  \n",
       "1            NaN  \n",
       "2            NaN  \n",
       "3            NaN  \n",
       "4            NaN  \n",
       "5            NaN  \n",
       "6            NaN  \n",
       "7            NaN  \n",
       "8            NaN  \n",
       "9            NaN  \n",
       "10           NaN  \n",
       "11           NaN  \n",
       "12           NaN  \n",
       "13           NaN  \n",
       "14           NaN  \n",
       "15           NaN  \n",
       "16           NaN  \n",
       "17           NaN  \n",
       "18           NaN  \n",
       "19           NaN  \n",
       "20           NaN  \n",
       "21           NaN  \n",
       "22           NaN  \n",
       "23           NaN  \n",
       "24           NaN  \n",
       "25           NaN  \n",
       "26           NaN  \n",
       "27           NaN  \n",
       "28           NaN  \n",
       "29           NaN  \n",
       "30           NaN  \n",
       "31           NaN  \n",
       "32             R  \n",
       "33             R  \n",
       "34             R  \n",
       "35             R  \n",
       "36             R  \n",
       "37             L  \n",
       "38             R  \n",
       "39             R  \n",
       "40             R  \n",
       "41             R  \n",
       "42             L  \n",
       "43             R  \n",
       "44             L  \n",
       "45             R  \n",
       "46             L  \n",
       "47             R  \n",
       "48             L  \n",
       "49             R  \n",
       "50             L  \n",
       "51             R  \n",
       "52             L  \n",
       "53             R  \n",
       "54             R  \n",
       "55             L  "
      ]
     },
     "execution_count": 11,
     "metadata": {},
     "output_type": "execute_result"
    }
   ],
   "source": [
    "labels = pd.read_csv('/neurospin/dico/lguillon/ohbm_22/one_handed_labels.csv')\n",
    "labels"
   ]
  },
  {
   "cell_type": "code",
   "execution_count": 12,
   "id": "nervous-parallel",
   "metadata": {},
   "outputs": [],
   "source": [
    "ctrl = labels[labels['Dominant hand']=='R']\n",
    "one_handed = labels[labels['Group']!='CTR']\n",
    "one_handed = labels[labels['Amp. Side']=='L']\n",
    "\n",
    "amputee = one_handed[one_handed['Group']=='AMP']\n",
    "cong = one_handed[one_handed['Group']=='CONG']"
   ]
  },
  {
   "cell_type": "code",
   "execution_count": 13,
   "id": "entire-newton",
   "metadata": {},
   "outputs": [
    {
     "data": {
      "text/plain": [
       "12"
      ]
     },
     "execution_count": 13,
     "metadata": {},
     "output_type": "execute_result"
    }
   ],
   "source": [
    "len(cong)"
   ]
  },
  {
   "cell_type": "code",
   "execution_count": 14,
   "id": "portuguese-farmer",
   "metadata": {},
   "outputs": [],
   "source": [
    "# One-handed dataset\n",
    "\n",
    "data_dir = \"/neurospin/dico/data/deep_folding/current/crops/SC/mask/sulcus_based/2mm/one_handed_dataset/\"\n",
    "\n",
    "tmp3 = pd.read_pickle(data_dir+'R_one_handed_skeleton.pkl')\n",
    "tmp3 = tmp3.T\n",
    "tmp3 = tmp3.rename(columns={0:'skeleton'})\n",
    "tmp3['subjects'] = [list(tmp3.index)[k][0:4] for k in range(len(tmp3))]\n",
    "\n",
    "controls = tmp3.merge(ctrl, left_on=tmp3.subjects, right_on='SubjID', how='inner')\n",
    "filenames = list(controls.SubjID)\n",
    "control_dataset = SkeletonDataset(dataframe=controls, filenames=filenames, visu_check=False)\n",
    "control_loader = torch.utils.data.DataLoader(control_dataset, batch_size=1,\n",
    "                                                    shuffle=True, num_workers=8)\n",
    "\n",
    "amputee = tmp3.merge(amputee, left_on=tmp3.subjects, right_on='SubjID', how='inner')\n",
    "filenames_amp = list(amputee.SubjID)\n",
    "amputee_dataset = SkeletonDataset(dataframe=amputee, filenames=filenames_amp,visu_check=False)\n",
    "amputee_loader = torch.utils.data.DataLoader(amputee_dataset, batch_size=1,\n",
    "                                                    shuffle=True, num_workers=8)\n",
    "\n",
    "congenital = tmp3.merge(cong, left_on=tmp3.subjects, right_on='SubjID', how='inner')\n",
    "filenames_cong = list(cong.SubjID)\n",
    "congenital_dataset = SkeletonDataset(dataframe=congenital, filenames=filenames_cong, visu_check=False)\n",
    "congenital_loader = torch.utils.data.DataLoader(congenital_dataset, batch_size=1,\n",
    "                                                    shuffle=True, num_workers=8)\n",
    "\n",
    "dico_set_loaders = {'ctrl': control_loader, 'amputee': amputee_loader, 'congenital': congenital_loader}"
   ]
  },
  {
   "cell_type": "code",
   "execution_count": 11,
   "id": "higher-organizer",
   "metadata": {},
   "outputs": [
    {
     "name": "stdout",
     "output_type": "stream",
     "text": [
      "16 12 12\n"
     ]
    }
   ],
   "source": [
    "print(len(controls), len(amputee), len(congenital))"
   ]
  },
  {
   "cell_type": "code",
   "execution_count": 23,
   "id": "answering-delaware",
   "metadata": {},
   "outputs": [],
   "source": [
    "dico_set_loaders = {'hcp': dataloader, 'scint': dataloader_int, 'ctrl': control_loader, 'amputee': amputee_loader, 'congenital': congenital_loader}\n",
    "\n",
    "root_dir = '/neurospin/dico/lguillon/miccai_22/analyses_gridsearch/'\n",
    "\n",
    "weights = [1, 2]\n",
    "class_weights = torch.FloatTensor(weights).to(device)\n",
    "criterion = nn.CrossEntropyLoss(weight=class_weights, reduction='sum')\n",
    "tester = ModelTester(model=model, dico_set_loaders=dico_set_loaders,\n",
    "                     loss_func=criterion, kl_weight=2,\n",
    "                     n_latent=10, depth=3)"
   ]
  },
  {
   "cell_type": "code",
   "execution_count": 28,
   "id": "superb-preliminary",
   "metadata": {
    "scrolled": true
   },
   "outputs": [],
   "source": [
    "results = tester.test()\n",
    "encoded = {loader_name:[results[loader_name][k][1] for k in results[loader_name].keys()] for loader_name in dico_set_loaders.keys()}\n",
    "losses = {loader_name:[int(results[loader_name][k][0].cpu().detach().numpy()) for k in results[loader_name].keys()] for loader_name in dico_set_loaders.keys()}\n",
    "\n",
    "df_encoded = pd.DataFrame()\n",
    "df_encoded['latent'] = encoded['hcp'] + encoded['scint'] + encoded['ctrl'] + encoded['amputee'] + encoded['congenital']\n",
    "df_encoded['Group'] = ['hcp' for k in range(len(tmp))] + ['scint' for k in range(len(tmp_int))]+ ['ctrl' for k in range(len(controls))] + ['amputee' for k in range(len(amputee))] +['congenital'for k in range(len(congenital))]\n",
    "\n"
   ]
  },
  {
   "cell_type": "code",
   "execution_count": 193,
   "id": "expressed-verse",
   "metadata": {},
   "outputs": [],
   "source": [
    "X = np.array(list(df_encoded['latent']))\n",
    "labels = np.array(df_encoded['Group'])"
   ]
  },
  {
   "cell_type": "code",
   "execution_count": 197,
   "id": "center-letters",
   "metadata": {},
   "outputs": [
    {
     "data": {
      "text/plain": [
       "<matplotlib.collections.PathCollection at 0x7f02884a7240>"
      ]
     },
     "execution_count": 197,
     "metadata": {},
     "output_type": "execute_result"
    },
    {
     "data": {
      "image/png": "[encoded data removed]",
      "text/plain": [
       "<Figure size 432x288 with 1 Axes>"
      ]
     },
     "metadata": {
      "needs_background": "light"
     },
     "output_type": "display_data"
    }
   ],
   "source": [
    "from sklearn.manifold import TSNE\n",
    "X_embedded = TSNE(n_components=2, random_state=12, perplexity=8).fit_transform(X)\n",
    "#X_embedded = X\n",
    "\n",
    "x = [X_embedded[k][0] for k in range(len(X_embedded))]\n",
    "y = [X_embedded[k][1] for k in range(len(X_embedded))]\n",
    "\n",
    "fig = plt.figure()\n",
    "ax = fig.add_subplot(111)\n",
    "ax.scatter(x, y)"
   ]
  },
  {
   "cell_type": "code",
   "execution_count": 190,
   "id": "polish-invite",
   "metadata": {},
   "outputs": [],
   "source": [
    "reducer = umap.UMAP()\n",
    "embedding = reducer.fit_transform(X)"
   ]
  },
  {
   "cell_type": "code",
   "execution_count": 191,
   "id": "respected-surprise",
   "metadata": {},
   "outputs": [
    {
     "data": {
      "text/plain": [
       "<matplotlib.collections.PathCollection at 0x7f007232c3c8>"
      ]
     },
     "execution_count": 191,
     "metadata": {},
     "output_type": "execute_result"
    },
    {
     "data": {
      "image/png": "[encoded data removed]",
      "text/plain": [
       "<Figure size 432x288 with 1 Axes>"
      ]
     },
     "metadata": {
      "needs_background": "light"
     },
     "output_type": "display_data"
    }
   ],
   "source": [
    "x = [embedding[k][0] for k in range(len(embedding))]\n",
    "y = [embedding[k][1] for k in range(len(embedding))]\n",
    "\n",
    "fig = plt.figure()\n",
    "ax = fig.add_subplot(111)\n",
    "ax.scatter(x, y)"
   ]
  },
  {
   "cell_type": "code",
   "execution_count": 3,
   "id": "constant-keeping",
   "metadata": {},
   "outputs": [],
   "source": []
  },
  {
   "cell_type": "code",
   "execution_count": 187,
   "id": "instructional-republican",
   "metadata": {},
   "outputs": [],
   "source": [
    "subjects_name = ['' for k in range(200)] + scint_list + ['' for k in range(len(controls))] + filenames_amp + filenames_cong"
   ]
  },
  {
   "cell_type": "code",
   "execution_count": 199,
   "id": "ethical-humanity",
   "metadata": {},
   "outputs": [
    {
     "data": {
      "image/png": "[encoded data removed]",
      "text/plain": [
       "<Figure size 864x864 with 1 Axes>"
      ]
     },
     "metadata": {
      "needs_background": "light"
     },
     "output_type": "display_data"
    }
   ],
   "source": [
    "arr = X_embedded\n",
    "color_dict = {'hcp':'mediumseagreen', 'scint': 'red', 'ctrl': 'blue', 'congenital':'magenta', 'amputee': 'navy'}\n",
    "\n",
    "fig = plt.figure(figsize=(12,12))\n",
    "ax = fig.subplots()\n",
    "\n",
    "for g in np.unique(labels):\n",
    "    ix = np.where(labels == g)\n",
    "    x = [arr[ix][k][0] for k in range(len(ix[0]))]\n",
    "    y = [arr[ix][k][1] for k in range(len(ix[0]))]\n",
    "    g_lab= f\"{g}\"\n",
    "    ax.scatter(x, y, c = color_dict[g], label = g_lab)\n",
    "    \n",
    "for i, txt in enumerate(subjects_name):\n",
    "    ax.annotate(txt, (arr[i][0], arr[i][1]))\n",
    "    \n",
    "plt.legend(bbox_to_anchor=(1.04,1), borderaxespad=0)\n",
    "\n",
    "plt.xlabel(f'tSNE dimension 1', fontsize=14)\n",
    "plt.ylabel(f'tSNE dimension 2', fontsize=14)\n",
    "plt.show()"
   ]
  },
  {
   "cell_type": "code",
   "execution_count": 196,
   "id": "removed-hunger",
   "metadata": {},
   "outputs": [
    {
     "data": {
      "image/png": "[encoded data removed]",
      "text/plain": [
       "<Figure size 864x864 with 1 Axes>"
      ]
     },
     "metadata": {
      "needs_background": "light"
     },
     "output_type": "display_data"
    }
   ],
   "source": [
    "arr = embedding\n",
    "color_dict = {'hcp':'mediumseagreen', 'scint': 'red', 'ctrl': 'blue', 'congenital':'magenta', 'amputee': 'navy'}\n",
    "\n",
    "fig = plt.figure(figsize=(12,12))\n",
    "ax = fig.subplots()\n",
    "\n",
    "for g in np.unique(labels):\n",
    "    ix = np.where(labels == g)\n",
    "    x = [arr[ix][k][0] for k in range(len(ix[0]))]\n",
    "    y = [arr[ix][k][1] for k in range(len(ix[0]))]\n",
    "    g_lab= f\"{g}\"\n",
    "    ax.scatter(x, y, c = color_dict[g], label = g_lab)\n",
    "    \n",
    "for i, txt in enumerate(subjects_name):\n",
    "    ax.annotate(txt, (arr[i][0], arr[i][1]))\n",
    "    \n",
    "plt.legend(bbox_to_anchor=(1.04,1), borderaxespad=0)\n",
    "\n",
    "plt.xlabel(f'UMAP dimension 1', fontsize=14)\n",
    "plt.ylabel(f'UMAP dimension 2', fontsize=14)\n",
    "plt.show()"
   ]
  },
  {
   "cell_type": "code",
   "execution_count": 36,
   "id": "hispanic-coordination",
   "metadata": {},
   "outputs": [],
   "source": [
    "subjects_name_tot = list(results['hcp'].keys()) + list(results['scint'].keys()) + list(results['ctrl'].keys()) + list(results['amputee'].keys()) + list(results['congenital'].keys())"
   ]
  },
  {
   "cell_type": "markdown",
   "id": "forward-plant",
   "metadata": {},
   "source": [
    "#### Anomaly score"
   ]
  },
  {
   "cell_type": "markdown",
   "id": "aboriginal-management",
   "metadata": {},
   "source": [
    "##### Loss"
   ]
  },
  {
   "cell_type": "code",
   "execution_count": 37,
   "id": "brown-jerusalem",
   "metadata": {},
   "outputs": [],
   "source": [
    "Lbvae = losses['hcp'] + losses['scint'] + losses['ctrl'] + losses['amputee'] + losses['congenital']"
   ]
  },
  {
   "cell_type": "markdown",
   "id": "sharp-myanmar",
   "metadata": {},
   "source": [
    "##### OC-SVm"
   ]
  },
  {
   "cell_type": "code",
   "execution_count": 38,
   "id": "saved-blake",
   "metadata": {},
   "outputs": [],
   "source": [
    "subject_dir = \"/neurospin/dico/lguillon/miccai_22/data/\"\n",
    "data_dir = \"/neurospin/dico/data/deep_folding/current/crops/SC/mask/sulcus_based/2mm/\"\n",
    "\n",
    "test_list = pd.read_csv(os.path.join(subject_dir, \"train_list.csv\"))\n",
    "\n",
    "test_list['subjects'] = test_list['subjects'].astype('str')\n",
    "\n",
    "tmp = pd.read_pickle(os.path.join(data_dir, \"Rskeleton.pkl\")).T\n",
    "#tmp = tmp.rename(columns={0:'subjects'})\n",
    "tmp.index.astype('str')\n",
    "tmp = tmp.rename(columns={0: \"skeleton\"})\n",
    "\n",
    "tmp = tmp.merge(test_list, left_on = tmp.index, right_on='subjects', how='right')\n",
    "\n",
    "filenames_train = list(test_list['subjects'])\n",
    "\n",
    "subset_train = SkeletonDataset(dataframe=tmp, filenames=filenames_train,\n",
    "                        visu_check=False)\n",
    "\n",
    "dataloader_train = torch.utils.data.DataLoader(\n",
    "              subset_train,\n",
    "              batch_size=1,\n",
    "              num_workers=8,\n",
    "              shuffle=True) "
   ]
  },
  {
   "cell_type": "code",
   "execution_count": 40,
   "id": "pleasant-spoke",
   "metadata": {
    "scrolled": true
   },
   "outputs": [],
   "source": [
    "dico_set_loaders = {'train': dataloader_train}\n",
    "\n",
    "root_dir = '/neurospin/dico/lguillon/miccai_22/analyses_gridsearch/n_10_kl_2/'\n",
    "\n",
    "weights = [1, 2]\n",
    "class_weights = torch.FloatTensor(weights).to(device)\n",
    "criterion = nn.CrossEntropyLoss(weight=class_weights, reduction='sum')\n",
    "tester = ModelTester(model=model, dico_set_loaders=dico_set_loaders,\n",
    "                     loss_func=criterion, kl_weight=2,\n",
    "                     n_latent=10, depth=3)\n",
    "\n",
    "results = tester.test()\n",
    "encoded_train = {'train':[results['train'][k][1] for k in results['train'].keys()]}\n",
    "losses_train = {'train':[int(results['train'][k][0].cpu().detach().numpy()) for k in results['train'].keys()]}\n",
    "\n",
    "df_encoded_train = pd.DataFrame()\n",
    "df_encoded_train['latent'] = encoded_train['train']\n",
    "df_encoded_train['Group'] = ['train' for k in range(len(filenames_train))]\n",
    "\n",
    "X_train = np.array(list(df_encoded_train['latent']))\n",
    "labels_train = np.array(df_encoded_train['Group'])"
   ]
  },
  {
   "cell_type": "markdown",
   "id": "divine-blood",
   "metadata": {},
   "source": [
    "## Visualization train + test"
   ]
  },
  {
   "cell_type": "code",
   "execution_count": 227,
   "id": "humanitarian-million",
   "metadata": {},
   "outputs": [],
   "source": [
    "embedding_train = reducer.transform(X_train)"
   ]
  },
  {
   "cell_type": "code",
   "execution_count": 236,
   "id": "moral-polymer",
   "metadata": {},
   "outputs": [
    {
     "data": {
      "text/plain": [
       "array([[ 7.995765 , 10.730687 ],\n",
       "       [ 7.3048587, 11.2644825],\n",
       "       [ 7.113392 , 11.636193 ],\n",
       "       ...,\n",
       "       [ 7.7401886,  6.800886 ],\n",
       "       [ 8.02699  , 11.89905  ],\n",
       "       [ 8.1901   , 11.918645 ]], dtype=float32)"
      ]
     },
     "execution_count": 236,
     "metadata": {},
     "output_type": "execute_result"
    }
   ],
   "source": [
    "embedding_train"
   ]
  },
  {
   "cell_type": "code",
   "execution_count": 239,
   "id": "included-street",
   "metadata": {},
   "outputs": [
    {
     "data": {
      "image/png": "[encoded data removed]",
      "text/plain": [
       "<Figure size 864x864 with 1 Axes>"
      ]
     },
     "metadata": {
      "needs_background": "light"
     },
     "output_type": "display_data"
    }
   ],
   "source": [
    "labels = np.array(['train' for k in range(len(embedding_train))])\n",
    "arr = embedding_train\n",
    "\n",
    "color_dict = {'0':'mediumseagreen', '1': 'red', '2': 'blue', '3':'magenta', '4': 'navy', '5':'indianred', '6':'forestgreen', \n",
    "            '7': 'chartreuse', '8':'slategrey', '9':'blueviolet', 'train':'darkorange'}\n",
    "\n",
    "cluster = np.array(['train' for k in range(len(X_train))])\n",
    "marker_dict = {'hcp':'o', 'scint': 'x', 'ctrl': '+', 'congenital':'d', 'amputee': 'v', 'train': 's'}\n",
    "\n",
    "fig = plt.figure(figsize=(12,12))\n",
    "ax = fig.subplots()\n",
    "\n",
    "for g in np.unique(cluster):\n",
    "    ix = np.where(cluster == g)\n",
    "    #print(ix)\n",
    "    #print([labels[ix[0]][k][0] for k in range(len(ix[0]))])\n",
    "    #mark = [labels[ix][k][0] for k in range(len(ix[0]))]\n",
    "    for point in range(len(ix[0])):\n",
    "        #x = [arr[ix][k][0] for k in range(len(ix[0]))]\n",
    "        #y = [arr[ix][k][1] for k in range(len(ix[0]))]\n",
    "        x = arr[ix][point][0]\n",
    "        y = arr[ix][point][1]\n",
    "        mark = labels[ix][point]\n",
    "        #g_lab= f\"{g}\"\n",
    "        ax.scatter(x, y, c = color_dict[g], label = mark, marker=marker_dict[mark], s=60)\n",
    "\n",
    "plt.xlabel(f'UMAP dimension 1', fontsize=14)\n",
    "plt.ylabel(f'UMAP dimension 2', fontsize=14)\n",
    "plt.show()"
   ]
  },
  {
   "cell_type": "code",
   "execution_count": 240,
   "id": "subjective-greenhouse",
   "metadata": {
    "scrolled": false
   },
   "outputs": [
    {
     "data": {
      "image/png": "[encoded data removed]",
      "text/plain": [
       "<Figure size 864x864 with 1 Axes>"
      ]
     },
     "metadata": {
      "needs_background": "light"
     },
     "output_type": "display_data"
    }
   ],
   "source": [
    "labels = np.array(['train' for k in range(len(embedding_train))] + list(abnormal.Group))\n",
    "arr = np.concatenate((embedding_train, reducer.transform(X_abnor)))\n",
    "\n",
    "color_dict = {'0':'mediumseagreen', '1': 'red', '2': 'blue', '3':'magenta', '4': 'navy', '5':'indianred', '6':'forestgreen', \n",
    "            '7': 'chartreuse', '8':'slategrey', '9':'blueviolet', 'train':'darkorange'}\n",
    "\n",
    "cluster = np.array(['train' for k in range(len(X_train))] + list(abnormal.cluster))\n",
    "marker_dict = {'hcp':'o', 'scint': 'x', 'ctrl': '+', 'congenital':'d', 'amputee': 'v', 'train': 's'}\n",
    "\n",
    "fig = plt.figure(figsize=(12,12))\n",
    "ax = fig.subplots()\n",
    "\n",
    "for g in np.unique(cluster):\n",
    "    ix = np.where(cluster == g)\n",
    "    #print(ix)\n",
    "    #print([labels[ix[0]][k][0] for k in range(len(ix[0]))])\n",
    "    #mark = [labels[ix][k][0] for k in range(len(ix[0]))]\n",
    "    for point in range(len(ix[0])):\n",
    "        #x = [arr[ix][k][0] for k in range(len(ix[0]))]\n",
    "        #y = [arr[ix][k][1] for k in range(len(ix[0]))]\n",
    "        x = arr[ix][point][0]\n",
    "        y = arr[ix][point][1]\n",
    "        mark = labels[ix][point]\n",
    "        #g_lab= f\"{g}\"\n",
    "        ax.scatter(x, y, c = color_dict[g], label = mark, marker=marker_dict[mark], s=60)\n",
    "\n",
    "plt.xlabel(f'UMAP dimension 1', fontsize=14)\n",
    "plt.ylabel(f'UMAP dimension 2', fontsize=14)\n",
    "plt.show()"
   ]
  },
  {
   "cell_type": "code",
   "execution_count": null,
   "id": "neutral-canberra",
   "metadata": {},
   "outputs": [],
   "source": []
  },
  {
   "cell_type": "code",
   "execution_count": null,
   "id": "french-brain",
   "metadata": {},
   "outputs": [],
   "source": []
  },
  {
   "cell_type": "code",
   "execution_count": 41,
   "id": "statistical-corporation",
   "metadata": {},
   "outputs": [],
   "source": [
    "clf = OneClassSVM(kernel='linear',gamma='auto', nu=0.2).fit(X_train)"
   ]
  },
  {
   "cell_type": "code",
   "execution_count": 42,
   "id": "medical-compilation",
   "metadata": {},
   "outputs": [],
   "source": [
    "Lsf = list(clf.decision_function(X))"
   ]
  },
  {
   "cell_type": "markdown",
   "id": "industrial-inventory",
   "metadata": {},
   "source": [
    "#### LOF"
   ]
  },
  {
   "cell_type": "code",
   "execution_count": 43,
   "id": "overall-split",
   "metadata": {},
   "outputs": [],
   "source": [
    "from sklearn.neighbors import LocalOutlierFactor"
   ]
  },
  {
   "cell_type": "code",
   "execution_count": 87,
   "id": "leading-tiffany",
   "metadata": {},
   "outputs": [],
   "source": [
    "clf = LocalOutlierFactor(n_neighbors=10, novelty=True, contamination=0.15).fit(X_train)"
   ]
  },
  {
   "cell_type": "code",
   "execution_count": 88,
   "id": "sound-force",
   "metadata": {},
   "outputs": [],
   "source": [
    "clf = clf.predict(X)"
   ]
  },
  {
   "cell_type": "code",
   "execution_count": 89,
   "id": "northern-greek",
   "metadata": {
    "scrolled": true
   },
   "outputs": [
    {
     "data": {
      "text/plain": [
       "['108020',\n",
       " '201414',\n",
       " '112516',\n",
       " '586460',\n",
       " '130821',\n",
       " '599469',\n",
       " '654754',\n",
       " '837560',\n",
       " '140117',\n",
       " '203721',\n",
       " '810439',\n",
       " '115320',\n",
       " '227533',\n",
       " '609143',\n",
       " '205725',\n",
       " '695768',\n",
       " '159239',\n",
       " '541640',\n",
       " '163129',\n",
       " '201717',\n",
       " '500222',\n",
       " '206929',\n",
       " '759869',\n",
       " '105923',\n",
       " '199251',\n",
       " '510225',\n",
       " '111009',\n",
       " 'PC08',\n",
       " 'PC20',\n",
       " 'PA29',\n",
       " 'PA06',\n",
       " 'PA12',\n",
       " 'PA05',\n",
       " 'PA28',\n",
       " 'PA24',\n",
       " 'PA31',\n",
       " 'PA27']"
      ]
     },
     "execution_count": 89,
     "metadata": {},
     "output_type": "execute_result"
    }
   ],
   "source": [
    "ix = np.where(clf == -1)\n",
    "[subjects_name_tot[i] for i in ix[0]]"
   ]
  },
  {
   "cell_type": "markdown",
   "id": "understanding-feeling",
   "metadata": {},
   "source": [
    "##### Distance to nn"
   ]
  },
  {
   "cell_type": "code",
   "execution_count": 72,
   "id": "portable-spokesman",
   "metadata": {},
   "outputs": [],
   "source": [
    "nbrs = NearestNeighbors(n_neighbors=10, algorithm='ball_tree').fit(X)"
   ]
  },
  {
   "cell_type": "code",
   "execution_count": 73,
   "id": "fundamental-indicator",
   "metadata": {},
   "outputs": [],
   "source": [
    "distances, indices = nbrs.kneighbors(X)"
   ]
  },
  {
   "cell_type": "code",
   "execution_count": 74,
   "id": "official-boards",
   "metadata": {},
   "outputs": [],
   "source": [
    "Lnn = [np.mean(distances[k][1:]) for k in range(len(Lbvae))] "
   ]
  },
  {
   "cell_type": "code",
   "execution_count": 75,
   "id": "higher-wealth",
   "metadata": {},
   "outputs": [],
   "source": [
    "Ltot = [Lbvae[i]/max(Lbvae) + Lnn[i] - 2*Lsf[i] for i in range(len(Lbvae))]"
   ]
  },
  {
   "cell_type": "code",
   "execution_count": 90,
   "id": "mysterious-fellow",
   "metadata": {},
   "outputs": [],
   "source": [
    "anomaly_score = pd.DataFrame(list(zip(subjects_name_tot, Lbvae, Lnn, Lsf, clf, Ltot)), columns=['subjects', 'loss', 'nn', 'sf', 'lof','a_score'])"
   ]
  },
  {
   "cell_type": "code",
   "execution_count": 91,
   "id": "resident-guitar",
   "metadata": {
    "scrolled": true
   },
   "outputs": [],
   "source": [
    "df_encoded['subjects'] = subjects_name_tot"
   ]
  },
  {
   "cell_type": "code",
   "execution_count": 92,
   "id": "lightweight-religion",
   "metadata": {},
   "outputs": [],
   "source": [
    "abnormal = pd.merge(df_encoded, anomaly_score[anomaly_score.lof==-1], left_on='subjects', right_on='subjects')"
   ]
  },
  {
   "cell_type": "code",
   "execution_count": 93,
   "id": "armed-rendering",
   "metadata": {
    "scrolled": true
   },
   "outputs": [
    {
     "data": {
      "text/html": [
       "<div>\n",
       "<style scoped>\n",
       "    .dataframe tbody tr th:only-of-type {\n",
       "        vertical-align: middle;\n",
       "    }\n",
       "\n",
       "    .dataframe tbody tr th {\n",
       "        vertical-align: top;\n",
       "    }\n",
       "\n",
       "    .dataframe thead th {\n",
       "        text-align: right;\n",
       "    }\n",
       "</style>\n",
       "<table border=\"1\" class=\"dataframe\">\n",
       "  <thead>\n",
       "    <tr style=\"text-align: right;\">\n",
       "      <th></th>\n",
       "      <th>latent</th>\n",
       "      <th>Group</th>\n",
       "      <th>subjects</th>\n",
       "      <th>loss</th>\n",
       "      <th>nn</th>\n",
       "      <th>sf</th>\n",
       "      <th>lof</th>\n",
       "      <th>a_score</th>\n",
       "    </tr>\n",
       "  </thead>\n",
       "  <tbody>\n",
       "    <tr>\n",
       "      <th>0</th>\n",
       "      <td>[1.3628325, -1.4742346, -2.2796068, 0.99431926...</td>\n",
       "      <td>hcp</td>\n",
       "      <td>108020</td>\n",
       "      <td>4147</td>\n",
       "      <td>2.774021</td>\n",
       "      <td>73.982398</td>\n",
       "      <td>-1</td>\n",
       "      <td>-144.279947</td>\n",
       "    </tr>\n",
       "    <tr>\n",
       "      <th>1</th>\n",
       "      <td>[1.0810305, -0.57689613, -2.219369, 0.5845616,...</td>\n",
       "      <td>hcp</td>\n",
       "      <td>201414</td>\n",
       "      <td>3906</td>\n",
       "      <td>3.063100</td>\n",
       "      <td>182.582539</td>\n",
       "      <td>-1</td>\n",
       "      <td>-361.244082</td>\n",
       "    </tr>\n",
       "    <tr>\n",
       "      <th>2</th>\n",
       "      <td>[0.72362673, -2.1792939, -2.3081293, 3.8330557...</td>\n",
       "      <td>hcp</td>\n",
       "      <td>112516</td>\n",
       "      <td>4103</td>\n",
       "      <td>2.890668</td>\n",
       "      <td>478.260917</td>\n",
       "      <td>-1</td>\n",
       "      <td>-952.730001</td>\n",
       "    </tr>\n",
       "    <tr>\n",
       "      <th>3</th>\n",
       "      <td>[-0.27710456, -0.767203, 0.9066349, 1.9264593,...</td>\n",
       "      <td>hcp</td>\n",
       "      <td>586460</td>\n",
       "      <td>4001</td>\n",
       "      <td>2.890378</td>\n",
       "      <td>-233.608077</td>\n",
       "      <td>-1</td>\n",
       "      <td>470.985292</td>\n",
       "    </tr>\n",
       "    <tr>\n",
       "      <th>4</th>\n",
       "      <td>[2.2472699, 0.30434123, -1.8338748, 3.9089785,...</td>\n",
       "      <td>hcp</td>\n",
       "      <td>130821</td>\n",
       "      <td>4373</td>\n",
       "      <td>3.780491</td>\n",
       "      <td>-64.977450</td>\n",
       "      <td>-1</td>\n",
       "      <td>134.695857</td>\n",
       "    </tr>\n",
       "    <tr>\n",
       "      <th>5</th>\n",
       "      <td>[-0.5731338, 0.7889283, -3.395938, 2.7438216, ...</td>\n",
       "      <td>hcp</td>\n",
       "      <td>599469</td>\n",
       "      <td>3968</td>\n",
       "      <td>3.484857</td>\n",
       "      <td>-60.822139</td>\n",
       "      <td>-1</td>\n",
       "      <td>126.000649</td>\n",
       "    </tr>\n",
       "    <tr>\n",
       "      <th>6</th>\n",
       "      <td>[-1.0190464, 0.6831233, -2.0079532, -0.2097208...</td>\n",
       "      <td>hcp</td>\n",
       "      <td>654754</td>\n",
       "      <td>3336</td>\n",
       "      <td>3.056104</td>\n",
       "      <td>258.093625</td>\n",
       "      <td>-1</td>\n",
       "      <td>-512.398442</td>\n",
       "    </tr>\n",
       "    <tr>\n",
       "      <th>7</th>\n",
       "      <td>[3.7260022, -0.83962566, -2.6405907, 0.2219044...</td>\n",
       "      <td>hcp</td>\n",
       "      <td>837560</td>\n",
       "      <td>3732</td>\n",
       "      <td>2.501834</td>\n",
       "      <td>334.725737</td>\n",
       "      <td>-1</td>\n",
       "      <td>-666.129961</td>\n",
       "    </tr>\n",
       "    <tr>\n",
       "      <th>8</th>\n",
       "      <td>[1.307236, -0.01614024, -1.1279445, 0.53016156...</td>\n",
       "      <td>hcp</td>\n",
       "      <td>140117</td>\n",
       "      <td>3543</td>\n",
       "      <td>2.941968</td>\n",
       "      <td>-93.794183</td>\n",
       "      <td>-1</td>\n",
       "      <td>191.308502</td>\n",
       "    </tr>\n",
       "    <tr>\n",
       "      <th>9</th>\n",
       "      <td>[0.97864217, -3.9293244, -1.7890984, 1.9125583...</td>\n",
       "      <td>hcp</td>\n",
       "      <td>203721</td>\n",
       "      <td>3439</td>\n",
       "      <td>3.104936</td>\n",
       "      <td>-0.000332</td>\n",
       "      <td>-1</td>\n",
       "      <td>3.860927</td>\n",
       "    </tr>\n",
       "    <tr>\n",
       "      <th>10</th>\n",
       "      <td>[2.4475284, -3.4358513, 0.9387543, 1.4231597, ...</td>\n",
       "      <td>hcp</td>\n",
       "      <td>810439</td>\n",
       "      <td>3957</td>\n",
       "      <td>2.909074</td>\n",
       "      <td>-89.331883</td>\n",
       "      <td>-1</td>\n",
       "      <td>182.441937</td>\n",
       "    </tr>\n",
       "    <tr>\n",
       "      <th>11</th>\n",
       "      <td>[0.3979748, 1.1098062, -2.6127539, 1.6350166, ...</td>\n",
       "      <td>hcp</td>\n",
       "      <td>115320</td>\n",
       "      <td>2985</td>\n",
       "      <td>3.469645</td>\n",
       "      <td>-47.637392</td>\n",
       "      <td>-1</td>\n",
       "      <td>99.400041</td>\n",
       "    </tr>\n",
       "    <tr>\n",
       "      <th>12</th>\n",
       "      <td>[2.964918, -3.4113498, -2.2726564, -0.47424534...</td>\n",
       "      <td>hcp</td>\n",
       "      <td>227533</td>\n",
       "      <td>3280</td>\n",
       "      <td>2.813845</td>\n",
       "      <td>435.322196</td>\n",
       "      <td>-1</td>\n",
       "      <td>-867.110142</td>\n",
       "    </tr>\n",
       "    <tr>\n",
       "      <th>13</th>\n",
       "      <td>[0.04080078, -4.0020103, 0.48344234, 0.1846454...</td>\n",
       "      <td>hcp</td>\n",
       "      <td>609143</td>\n",
       "      <td>3248</td>\n",
       "      <td>3.361013</td>\n",
       "      <td>-346.583756</td>\n",
       "      <td>-1</td>\n",
       "      <td>697.241900</td>\n",
       "    </tr>\n",
       "    <tr>\n",
       "      <th>14</th>\n",
       "      <td>[-0.5651863, -0.603767, -1.5635964, 2.9443994,...</td>\n",
       "      <td>hcp</td>\n",
       "      <td>205725</td>\n",
       "      <td>3464</td>\n",
       "      <td>2.807980</td>\n",
       "      <td>269.954839</td>\n",
       "      <td>-1</td>\n",
       "      <td>-536.340881</td>\n",
       "    </tr>\n",
       "    <tr>\n",
       "      <th>15</th>\n",
       "      <td>[0.3452434, -0.50591177, -2.1043222, 0.3097982...</td>\n",
       "      <td>hcp</td>\n",
       "      <td>695768</td>\n",
       "      <td>3398</td>\n",
       "      <td>3.172718</td>\n",
       "      <td>123.701101</td>\n",
       "      <td>-1</td>\n",
       "      <td>-243.483162</td>\n",
       "    </tr>\n",
       "    <tr>\n",
       "      <th>16</th>\n",
       "      <td>[0.70559937, 1.4728817, -3.4144888, 2.624808, ...</td>\n",
       "      <td>hcp</td>\n",
       "      <td>159239</td>\n",
       "      <td>4419</td>\n",
       "      <td>3.293029</td>\n",
       "      <td>-141.041806</td>\n",
       "      <td>-1</td>\n",
       "      <td>286.347209</td>\n",
       "    </tr>\n",
       "    <tr>\n",
       "      <th>17</th>\n",
       "      <td>[3.4386673, -0.46568105, -1.8029393, 1.5913703...</td>\n",
       "      <td>hcp</td>\n",
       "      <td>541640</td>\n",
       "      <td>3517</td>\n",
       "      <td>2.921551</td>\n",
       "      <td>-34.805931</td>\n",
       "      <td>-1</td>\n",
       "      <td>73.305870</td>\n",
       "    </tr>\n",
       "    <tr>\n",
       "      <th>18</th>\n",
       "      <td>[-0.74268883, -3.2556813, -0.22183056, 0.86715...</td>\n",
       "      <td>hcp</td>\n",
       "      <td>163129</td>\n",
       "      <td>3575</td>\n",
       "      <td>3.127581</td>\n",
       "      <td>109.930926</td>\n",
       "      <td>-1</td>\n",
       "      <td>-215.949073</td>\n",
       "    </tr>\n",
       "    <tr>\n",
       "      <th>19</th>\n",
       "      <td>[1.6303753, -1.3792037, 0.02391817, -0.3785596...</td>\n",
       "      <td>hcp</td>\n",
       "      <td>201717</td>\n",
       "      <td>4023</td>\n",
       "      <td>3.185648</td>\n",
       "      <td>121.325987</td>\n",
       "      <td>-1</td>\n",
       "      <td>-238.582734</td>\n",
       "    </tr>\n",
       "    <tr>\n",
       "      <th>20</th>\n",
       "      <td>[0.6250809, 0.5665996, -3.5851722, 1.3240803, ...</td>\n",
       "      <td>hcp</td>\n",
       "      <td>500222</td>\n",
       "      <td>3690</td>\n",
       "      <td>3.335899</td>\n",
       "      <td>245.675372</td>\n",
       "      <td>-1</td>\n",
       "      <td>-487.204389</td>\n",
       "    </tr>\n",
       "    <tr>\n",
       "      <th>21</th>\n",
       "      <td>[1.9396776, -1.0398906, 0.8414509, 1.2081089, ...</td>\n",
       "      <td>hcp</td>\n",
       "      <td>206929</td>\n",
       "      <td>3942</td>\n",
       "      <td>3.160625</td>\n",
       "      <td>-86.515731</td>\n",
       "      <td>-1</td>\n",
       "      <td>177.057889</td>\n",
       "    </tr>\n",
       "    <tr>\n",
       "      <th>22</th>\n",
       "      <td>[-0.33970398, -0.97103834, -2.604962, -2.03886...</td>\n",
       "      <td>hcp</td>\n",
       "      <td>759869</td>\n",
       "      <td>3526</td>\n",
       "      <td>3.567024</td>\n",
       "      <td>8.619908</td>\n",
       "      <td>-1</td>\n",
       "      <td>-12.898358</td>\n",
       "    </tr>\n",
       "    <tr>\n",
       "      <th>23</th>\n",
       "      <td>[0.5436521, -3.6671193, -0.44985706, 1.0155271...</td>\n",
       "      <td>hcp</td>\n",
       "      <td>105923</td>\n",
       "      <td>3937</td>\n",
       "      <td>2.818244</td>\n",
       "      <td>49.756492</td>\n",
       "      <td>-1</td>\n",
       "      <td>-95.830035</td>\n",
       "    </tr>\n",
       "    <tr>\n",
       "      <th>24</th>\n",
       "      <td>[3.0282435, -0.9303859, -0.42300248, -0.081562...</td>\n",
       "      <td>scint</td>\n",
       "      <td>199251</td>\n",
       "      <td>4017</td>\n",
       "      <td>2.827207</td>\n",
       "      <td>226.477432</td>\n",
       "      <td>-1</td>\n",
       "      <td>-449.245381</td>\n",
       "    </tr>\n",
       "    <tr>\n",
       "      <th>25</th>\n",
       "      <td>[1.0295947, -0.0055130664, -1.1460115, -0.3220...</td>\n",
       "      <td>scint</td>\n",
       "      <td>510225</td>\n",
       "      <td>4087</td>\n",
       "      <td>3.280009</td>\n",
       "      <td>317.239145</td>\n",
       "      <td>-1</td>\n",
       "      <td>-630.300632</td>\n",
       "    </tr>\n",
       "    <tr>\n",
       "      <th>26</th>\n",
       "      <td>[1.1525759, 0.6357797, -1.7769752, 2.047963, 0...</td>\n",
       "      <td>scint</td>\n",
       "      <td>111009</td>\n",
       "      <td>4553</td>\n",
       "      <td>3.106856</td>\n",
       "      <td>-115.659865</td>\n",
       "      <td>-1</td>\n",
       "      <td>235.426585</td>\n",
       "    </tr>\n",
       "    <tr>\n",
       "      <th>27</th>\n",
       "      <td>[1.1334723, 0.34287652, 0.534071, 3.3315363, 1...</td>\n",
       "      <td>ctrl</td>\n",
       "      <td>PC08</td>\n",
       "      <td>3699</td>\n",
       "      <td>3.152669</td>\n",
       "      <td>90.440765</td>\n",
       "      <td>-1</td>\n",
       "      <td>-176.916430</td>\n",
       "    </tr>\n",
       "    <tr>\n",
       "      <th>28</th>\n",
       "      <td>[2.443863, 2.146936, -0.68987715, 2.0233157, 2...</td>\n",
       "      <td>ctrl</td>\n",
       "      <td>PC20</td>\n",
       "      <td>3652</td>\n",
       "      <td>3.426019</td>\n",
       "      <td>-45.092603</td>\n",
       "      <td>-1</td>\n",
       "      <td>94.413332</td>\n",
       "    </tr>\n",
       "    <tr>\n",
       "      <th>29</th>\n",
       "      <td>[0.8112417, 0.12177553, 0.93546134, 0.84022087...</td>\n",
       "      <td>amputee</td>\n",
       "      <td>PA29</td>\n",
       "      <td>3689</td>\n",
       "      <td>3.100807</td>\n",
       "      <td>-182.813376</td>\n",
       "      <td>-1</td>\n",
       "      <td>369.537794</td>\n",
       "    </tr>\n",
       "    <tr>\n",
       "      <th>30</th>\n",
       "      <td>[-1.6343806, -0.69291776, -2.1528935, 2.188928...</td>\n",
       "      <td>amputee</td>\n",
       "      <td>PA06</td>\n",
       "      <td>3329</td>\n",
       "      <td>3.122553</td>\n",
       "      <td>-13.869421</td>\n",
       "      <td>-1</td>\n",
       "      <td>31.592562</td>\n",
       "    </tr>\n",
       "    <tr>\n",
       "      <th>31</th>\n",
       "      <td>[-1.0295554, 0.48243594, -0.20879605, 4.275865...</td>\n",
       "      <td>amputee</td>\n",
       "      <td>PA12</td>\n",
       "      <td>3357</td>\n",
       "      <td>3.214393</td>\n",
       "      <td>70.676354</td>\n",
       "      <td>-1</td>\n",
       "      <td>-137.400999</td>\n",
       "    </tr>\n",
       "    <tr>\n",
       "      <th>32</th>\n",
       "      <td>[3.1829343, -3.4291975, -2.449523, 2.0776188, ...</td>\n",
       "      <td>amputee</td>\n",
       "      <td>PA05</td>\n",
       "      <td>3661</td>\n",
       "      <td>2.851268</td>\n",
       "      <td>260.733136</td>\n",
       "      <td>-1</td>\n",
       "      <td>-517.810918</td>\n",
       "    </tr>\n",
       "    <tr>\n",
       "      <th>33</th>\n",
       "      <td>[2.1305737, -3.2102115, -2.9343047, 2.395627, ...</td>\n",
       "      <td>congenital</td>\n",
       "      <td>PA28</td>\n",
       "      <td>3738</td>\n",
       "      <td>2.441816</td>\n",
       "      <td>200.165463</td>\n",
       "      <td>-1</td>\n",
       "      <td>-397.068113</td>\n",
       "    </tr>\n",
       "    <tr>\n",
       "      <th>34</th>\n",
       "      <td>[-0.5988086, 0.07443195, -2.7881308, 1.7667897...</td>\n",
       "      <td>congenital</td>\n",
       "      <td>PA24</td>\n",
       "      <td>3206</td>\n",
       "      <td>3.259778</td>\n",
       "      <td>45.395787</td>\n",
       "      <td>-1</td>\n",
       "      <td>-86.827645</td>\n",
       "    </tr>\n",
       "    <tr>\n",
       "      <th>35</th>\n",
       "      <td>[0.7869515, -2.5106497, -1.4826704, 2.3929884,...</td>\n",
       "      <td>congenital</td>\n",
       "      <td>PA31</td>\n",
       "      <td>3424</td>\n",
       "      <td>2.836037</td>\n",
       "      <td>125.465694</td>\n",
       "      <td>-1</td>\n",
       "      <td>-247.343320</td>\n",
       "    </tr>\n",
       "    <tr>\n",
       "      <th>36</th>\n",
       "      <td>[0.4249677, -0.1529699, -0.6580154, 1.0080179,...</td>\n",
       "      <td>congenital</td>\n",
       "      <td>PA27</td>\n",
       "      <td>3665</td>\n",
       "      <td>3.162992</td>\n",
       "      <td>-64.927214</td>\n",
       "      <td>-1</td>\n",
       "      <td>133.822385</td>\n",
       "    </tr>\n",
       "  </tbody>\n",
       "</table>\n",
       "</div>"
      ],
      "text/plain": [
       "                                               latent       Group subjects  \\\n",
       "0   [1.3628325, -1.4742346, -2.2796068, 0.99431926...         hcp   108020   \n",
       "1   [1.0810305, -0.57689613, -2.219369, 0.5845616,...         hcp   201414   \n",
       "2   [0.72362673, -2.1792939, -2.3081293, 3.8330557...         hcp   112516   \n",
       "3   [-0.27710456, -0.767203, 0.9066349, 1.9264593,...         hcp   586460   \n",
       "4   [2.2472699, 0.30434123, -1.8338748, 3.9089785,...         hcp   130821   \n",
       "5   [-0.5731338, 0.7889283, -3.395938, 2.7438216, ...         hcp   599469   \n",
       "6   [-1.0190464, 0.6831233, -2.0079532, -0.2097208...         hcp   654754   \n",
       "7   [3.7260022, -0.83962566, -2.6405907, 0.2219044...         hcp   837560   \n",
       "8   [1.307236, -0.01614024, -1.1279445, 0.53016156...         hcp   140117   \n",
       "9   [0.97864217, -3.9293244, -1.7890984, 1.9125583...         hcp   203721   \n",
       "10  [2.4475284, -3.4358513, 0.9387543, 1.4231597, ...         hcp   810439   \n",
       "11  [0.3979748, 1.1098062, -2.6127539, 1.6350166, ...         hcp   115320   \n",
       "12  [2.964918, -3.4113498, -2.2726564, -0.47424534...         hcp   227533   \n",
       "13  [0.04080078, -4.0020103, 0.48344234, 0.1846454...         hcp   609143   \n",
       "14  [-0.5651863, -0.603767, -1.5635964, 2.9443994,...         hcp   205725   \n",
       "15  [0.3452434, -0.50591177, -2.1043222, 0.3097982...         hcp   695768   \n",
       "16  [0.70559937, 1.4728817, -3.4144888, 2.624808, ...         hcp   159239   \n",
       "17  [3.4386673, -0.46568105, -1.8029393, 1.5913703...         hcp   541640   \n",
       "18  [-0.74268883, -3.2556813, -0.22183056, 0.86715...         hcp   163129   \n",
       "19  [1.6303753, -1.3792037, 0.02391817, -0.3785596...         hcp   201717   \n",
       "20  [0.6250809, 0.5665996, -3.5851722, 1.3240803, ...         hcp   500222   \n",
       "21  [1.9396776, -1.0398906, 0.8414509, 1.2081089, ...         hcp   206929   \n",
       "22  [-0.33970398, -0.97103834, -2.604962, -2.03886...         hcp   759869   \n",
       "23  [0.5436521, -3.6671193, -0.44985706, 1.0155271...         hcp   105923   \n",
       "24  [3.0282435, -0.9303859, -0.42300248, -0.081562...       scint   199251   \n",
       "25  [1.0295947, -0.0055130664, -1.1460115, -0.3220...       scint   510225   \n",
       "26  [1.1525759, 0.6357797, -1.7769752, 2.047963, 0...       scint   111009   \n",
       "27  [1.1334723, 0.34287652, 0.534071, 3.3315363, 1...        ctrl     PC08   \n",
       "28  [2.443863, 2.146936, -0.68987715, 2.0233157, 2...        ctrl     PC20   \n",
       "29  [0.8112417, 0.12177553, 0.93546134, 0.84022087...     amputee     PA29   \n",
       "30  [-1.6343806, -0.69291776, -2.1528935, 2.188928...     amputee     PA06   \n",
       "31  [-1.0295554, 0.48243594, -0.20879605, 4.275865...     amputee     PA12   \n",
       "32  [3.1829343, -3.4291975, -2.449523, 2.0776188, ...     amputee     PA05   \n",
       "33  [2.1305737, -3.2102115, -2.9343047, 2.395627, ...  congenital     PA28   \n",
       "34  [-0.5988086, 0.07443195, -2.7881308, 1.7667897...  congenital     PA24   \n",
       "35  [0.7869515, -2.5106497, -1.4826704, 2.3929884,...  congenital     PA31   \n",
       "36  [0.4249677, -0.1529699, -0.6580154, 1.0080179,...  congenital     PA27   \n",
       "\n",
       "    loss        nn          sf  lof     a_score  \n",
       "0   4147  2.774021   73.982398   -1 -144.279947  \n",
       "1   3906  3.063100  182.582539   -1 -361.244082  \n",
       "2   4103  2.890668  478.260917   -1 -952.730001  \n",
       "3   4001  2.890378 -233.608077   -1  470.985292  \n",
       "4   4373  3.780491  -64.977450   -1  134.695857  \n",
       "5   3968  3.484857  -60.822139   -1  126.000649  \n",
       "6   3336  3.056104  258.093625   -1 -512.398442  \n",
       "7   3732  2.501834  334.725737   -1 -666.129961  \n",
       "8   3543  2.941968  -93.794183   -1  191.308502  \n",
       "9   3439  3.104936   -0.000332   -1    3.860927  \n",
       "10  3957  2.909074  -89.331883   -1  182.441937  \n",
       "11  2985  3.469645  -47.637392   -1   99.400041  \n",
       "12  3280  2.813845  435.322196   -1 -867.110142  \n",
       "13  3248  3.361013 -346.583756   -1  697.241900  \n",
       "14  3464  2.807980  269.954839   -1 -536.340881  \n",
       "15  3398  3.172718  123.701101   -1 -243.483162  \n",
       "16  4419  3.293029 -141.041806   -1  286.347209  \n",
       "17  3517  2.921551  -34.805931   -1   73.305870  \n",
       "18  3575  3.127581  109.930926   -1 -215.949073  \n",
       "19  4023  3.185648  121.325987   -1 -238.582734  \n",
       "20  3690  3.335899  245.675372   -1 -487.204389  \n",
       "21  3942  3.160625  -86.515731   -1  177.057889  \n",
       "22  3526  3.567024    8.619908   -1  -12.898358  \n",
       "23  3937  2.818244   49.756492   -1  -95.830035  \n",
       "24  4017  2.827207  226.477432   -1 -449.245381  \n",
       "25  4087  3.280009  317.239145   -1 -630.300632  \n",
       "26  4553  3.106856 -115.659865   -1  235.426585  \n",
       "27  3699  3.152669   90.440765   -1 -176.916430  \n",
       "28  3652  3.426019  -45.092603   -1   94.413332  \n",
       "29  3689  3.100807 -182.813376   -1  369.537794  \n",
       "30  3329  3.122553  -13.869421   -1   31.592562  \n",
       "31  3357  3.214393   70.676354   -1 -137.400999  \n",
       "32  3661  2.851268  260.733136   -1 -517.810918  \n",
       "33  3738  2.441816  200.165463   -1 -397.068113  \n",
       "34  3206  3.259778   45.395787   -1  -86.827645  \n",
       "35  3424  2.836037  125.465694   -1 -247.343320  \n",
       "36  3665  3.162992  -64.927214   -1  133.822385  "
      ]
     },
     "execution_count": 93,
     "metadata": {},
     "output_type": "execute_result"
    }
   ],
   "source": [
    "abnormal"
   ]
  },
  {
   "cell_type": "code",
   "execution_count": 94,
   "id": "brilliant-biodiversity",
   "metadata": {},
   "outputs": [
    {
     "data": {
      "text/plain": [
       "0.145748987854251"
      ]
     },
     "execution_count": 94,
     "metadata": {},
     "output_type": "execute_result"
    }
   ],
   "source": [
    "36/247"
   ]
  },
  {
   "cell_type": "code",
   "execution_count": 174,
   "id": "positive-short",
   "metadata": {
    "scrolled": false
   },
   "outputs": [
    {
     "data": {
      "image/png": "[encoded data removed]",
      "text/plain": [
       "<Figure size 864x864 with 1 Axes>"
      ]
     },
     "metadata": {
      "needs_background": "light"
     },
     "output_type": "display_data"
    }
   ],
   "source": [
    "X_abnor = np.array(list(abnormal['latent']))\n",
    "embedding = reducer.transform(X_abnor)\n",
    "labels = np.array(list(abnormal.Group))\n",
    "arr = embedding\n",
    "\n",
    "color_dict = {0:'mediumseagreen', 1: 'red', 2: 'blue', 3:'magenta', 4: 'navy', 5:'indianred', 6:'forestgreen', \n",
    "            7: 'chartreuse', 8:'slategrey', 9:'blueviolet'}\n",
    "cluster = abnormal.cluster\n",
    "marker_dict = {'hcp':'o', 'scint': 'x', 'ctrl': '+', 'congenital':'d', 'amputee': 'v'}\n",
    "\n",
    "fig = plt.figure(figsize=(12,12))\n",
    "ax = fig.subplots()\n",
    "\n",
    "for g in np.unique(cluster):\n",
    "    ix = np.where(cluster == g)\n",
    "    #print(ix)\n",
    "    #print([labels[ix[0]][k][0] for k in range(len(ix[0]))])\n",
    "    #mark = [labels[ix][k][0] for k in range(len(ix[0]))]\n",
    "    for point in range(len(ix[0])):\n",
    "        #x = [arr[ix][k][0] for k in range(len(ix[0]))]\n",
    "        #y = [arr[ix][k][1] for k in range(len(ix[0]))]\n",
    "        x = arr[ix][point][0]\n",
    "        y = arr[ix][point][1]\n",
    "        mark = labels[ix][point]\n",
    "        #g_lab= f\"{g}\"\n",
    "        ax.scatter(x, y, c = color_dict[g], label = mark, marker=marker_dict[mark], s=60)\n",
    "    \n",
    "for i, txt in enumerate(list(abnormal.subjects)):\n",
    "    ax.annotate(txt, (arr[i][0], arr[i][1]))\n",
    "\n",
    "    \n",
    "plt.legend(bbox_to_anchor=(1.04,1), borderaxespad=0)\n",
    "\n",
    "plt.xlabel(f'UMAP dimension 1', fontsize=14)\n",
    "plt.ylabel(f'UMAP dimension 2', fontsize=14)\n",
    "plt.show()"
   ]
  },
  {
   "cell_type": "code",
   "execution_count": null,
   "id": "broken-spring",
   "metadata": {},
   "outputs": [],
   "source": [
    "fig = plt.figure()\n",
    "ax = fig.add_subplot(projection='3d')"
   ]
  },
  {
   "cell_type": "code",
   "execution_count": 201,
   "id": "dated-skiing",
   "metadata": {
    "scrolled": false
   },
   "outputs": [
    {
     "data": {
      "image/png": "[encoded data removed]",
      "text/plain": [
       "<Figure size 864x864 with 1 Axes>"
      ]
     },
     "metadata": {
      "needs_background": "light"
     },
     "output_type": "display_data"
    }
   ],
   "source": [
    "embedding = TSNE(n_components=2, random_state=12, perplexity=8).fit_transform(X_abnor)\n",
    "\n",
    "labels = np.array(list(abnormal.Group))\n",
    "arr = embedding\n",
    "\n",
    "color_dict = {0:'mediumseagreen', 1: 'red', 2: 'blue', 3:'magenta', 4: 'navy', 5:'indianred', 6:'forestgreen', \n",
    "            7: 'chartreuse', 8:'slategrey', 9:'blueviolet'}\n",
    "cluster = abnormal.cluster\n",
    "marker_dict = {'hcp':'o', 'scint': 'x', 'ctrl': '+', 'congenital':'d', 'amputee': 'v'}\n",
    "\n",
    "fig = plt.figure(figsize=(12,12))\n",
    "ax = fig.subplots()\n",
    "\n",
    "for g in np.unique(cluster):\n",
    "    ix = np.where(cluster == g)\n",
    "    #print(ix)\n",
    "    #print([labels[ix[0]][k][0] for k in range(len(ix[0]))])\n",
    "    #mark = [labels[ix][k][0] for k in range(len(ix[0]))]\n",
    "    for point in range(len(ix[0])):\n",
    "        #x = [arr[ix][k][0] for k in range(len(ix[0]))]\n",
    "        #y = [arr[ix][k][1] for k in range(len(ix[0]))]\n",
    "        x = arr[ix][point][0]\n",
    "        y = arr[ix][point][1]\n",
    "        mark = labels[ix][point]\n",
    "        #g_lab= f\"{g}\"\n",
    "        ax.scatter(x, y, c = color_dict[g], label = mark, marker=marker_dict[mark], s=60)\n",
    "    \n",
    "for i, txt in enumerate(list(abnormal.subjects)):\n",
    "    ax.annotate(txt, (arr[i][0], arr[i][1]))\n",
    "\n",
    "    \n",
    "plt.legend(bbox_to_anchor=(1.04,1), borderaxespad=0)\n",
    "\n",
    "plt.xlabel(f't-SNE dimension 1', fontsize=14)\n",
    "plt.ylabel(f't-SNE dimension 2', fontsize=14)\n",
    "plt.show()"
   ]
  },
  {
   "cell_type": "code",
   "execution_count": 97,
   "id": "separate-calculator",
   "metadata": {},
   "outputs": [],
   "source": [
    "from sklearn.cluster import KMeans, AffinityPropagation\n",
    "from sklearn.metrics import silhouette_samples, silhouette_score"
   ]
  },
  {
   "cell_type": "code",
   "execution_count": 98,
   "id": "settled-warner",
   "metadata": {
    "scrolled": true
   },
   "outputs": [
    {
     "name": "stdout",
     "output_type": "stream",
     "text": [
      "For n_clusters = 2 The average silhouette_score with kmeans is : 0.1582107\n",
      "For n_clusters = 3 The average silhouette_score with kmeans is : 0.16454124\n",
      "For n_clusters = 4 The average silhouette_score with kmeans is : 0.1639975\n",
      "For n_clusters = 5 The average silhouette_score with kmeans is : 0.15873252\n",
      "For n_clusters = 6 The average silhouette_score with kmeans is : 0.15563035\n",
      "For n_clusters = 7 The average silhouette_score with kmeans is : 0.15912585\n",
      "For n_clusters = 8 The average silhouette_score with kmeans is : 0.14688312\n",
      "For n_clusters = 9 The average silhouette_score with kmeans is : 0.17210114\n",
      "For n_clusters = 10 The average silhouette_score with kmeans is : 0.18671347\n"
     ]
    },
    {
     "data": {
      "image/png": "[encoded data removed]",
      "text/plain": [
       "<Figure size 432x288 with 1 Axes>"
      ]
     },
     "metadata": {
      "needs_background": "light"
     },
     "output_type": "display_data"
    },
    {
     "data": {
      "image/png": "[encoded data removed]",
      "text/plain": [
       "<Figure size 432x288 with 1 Axes>"
      ]
     },
     "metadata": {
      "needs_background": "light"
     },
     "output_type": "display_data"
    },
    {
     "data": {
      "image/png": "[encoded data removed]",
      "text/plain": [
       "<Figure size 432x288 with 1 Axes>"
      ]
     },
     "metadata": {
      "needs_background": "light"
     },
     "output_type": "display_data"
    },
    {
     "data": {
      "image/png": "[encoded data removed]",
      "text/plain": [
       "<Figure size 432x288 with 1 Axes>"
      ]
     },
     "metadata": {
      "needs_background": "light"
     },
     "output_type": "display_data"
    },
    {
     "data": {
      "image/png": "[encoded data removed]",
      "text/plain": [
       "<Figure size 432x288 with 1 Axes>"
      ]
     },
     "metadata": {
      "needs_background": "light"
     },
     "output_type": "display_data"
    },
    {
     "data": {
      "image/png": "[encoded data removed]",
      "text/plain": [
       "<Figure size 432x288 with 1 Axes>"
      ]
     },
     "metadata": {
      "needs_background": "light"
     },
     "output_type": "display_data"
    },
    {
     "data": {
      "image/png": "[encoded data removed]",
      "text/plain": [
       "<Figure size 432x288 with 1 Axes>"
      ]
     },
     "metadata": {
      "needs_background": "light"
     },
     "output_type": "display_data"
    },
    {
     "data": {
      "image/png": "[encoded data removed]",
      "text/plain": [
       "<Figure size 432x288 with 1 Axes>"
      ]
     },
     "metadata": {
      "needs_background": "light"
     },
     "output_type": "display_data"
    },
    {
     "data": {
      "image/png": "[encoded data removed]",
      "text/plain": [
       "<Figure size 432x288 with 1 Axes>"
      ]
     },
     "metadata": {
      "needs_background": "light"
     },
     "output_type": "display_data"
    }
   ],
   "source": [
    "n_clusters_list = [2, 3, 4, 5, 6, 7, 8, 9, 10]\n",
    "for n in n_clusters_list:\n",
    "    cluster_labels= KMeans(n_clusters=n, random_state=0).fit_predict(X_abnor)\n",
    "\n",
    "    fig, ax1 = plt.subplots()\n",
    "    ax1.set_ylim([0, len(X) + (n + 1) * 10])\n",
    "    silhouette_avg = silhouette_score(X_abnor, cluster_labels)\n",
    "    print(\"For n_clusters =\", n, \"The average silhouette_score with kmeans is :\", silhouette_avg)\n",
    "\n",
    "    # Compute the silhouette scores for each sample\n",
    "    sample_silhouette_values = silhouette_samples(X_abnor, cluster_labels)\n",
    "\n",
    "    y_lower = 10\n",
    "    for i in range(n):\n",
    "        ith_cluster_silhouette_values = sample_silhouette_values[cluster_labels == i]\n",
    "\n",
    "        ith_cluster_silhouette_values.sort()\n",
    "\n",
    "        size_cluster_i = ith_cluster_silhouette_values.shape[0]\n",
    "        y_upper = y_lower + size_cluster_i\n",
    "\n",
    "        color = cm.nipy_spectral(float(i) / n)\n",
    "        ax1.fill_betweenx(\n",
    "            np.arange(y_lower, y_upper),\n",
    "            0,\n",
    "            ith_cluster_silhouette_values,\n",
    "            facecolor=color,\n",
    "            edgecolor=color,\n",
    "            alpha=0.7,\n",
    "        )\n",
    "\n",
    "        ax1.text(-0.05, y_lower + 0.5 * size_cluster_i, str(i))\n",
    "\n",
    "        y_lower = y_upper + 10\n",
    "\n",
    "    ax1.set_title(\"The silhouette plot for the various clusters.\")\n",
    "    ax1.set_xlabel(\"The silhouette coefficient values\")\n",
    "    ax1.set_ylabel(\"Cluster label\")\n",
    "\n",
    "    ax1.axvline(x=silhouette_avg, color=\"red\", linestyle=\"--\")\n",
    "\n",
    "    ax1.set_yticks([])\n",
    "    ax1.set_xticks([-0.1, 0, 0.2, 0.4, 0.6, 0.8, 1])"
   ]
  },
  {
   "cell_type": "code",
   "execution_count": 128,
   "id": "subsequent-bernard",
   "metadata": {},
   "outputs": [],
   "source": [
    "cluster_labels= KMeans(n_clusters=10, random_state=0).fit_predict(X_abnor)"
   ]
  },
  {
   "cell_type": "code",
   "execution_count": 129,
   "id": "sexual-republic",
   "metadata": {},
   "outputs": [
    {
     "data": {
      "text/plain": [
       "array([8, 8, 4, 0, 3, 3, 7, 1, 8, 4, 9, 6, 1, 9, 2, 8, 3, 1, 9, 5, 6, 5,\n",
       "       5, 9, 5, 5, 3, 0, 8, 7, 2, 0, 4, 4, 2, 4, 7], dtype=int32)"
      ]
     },
     "execution_count": 129,
     "metadata": {},
     "output_type": "execute_result"
    }
   ],
   "source": [
    "cluster_labels"
   ]
  },
  {
   "cell_type": "code",
   "execution_count": 130,
   "id": "greatest-diabetes",
   "metadata": {},
   "outputs": [],
   "source": [
    "abnormal['cluster'] = cluster_labels"
   ]
  },
  {
   "cell_type": "code",
   "execution_count": 131,
   "id": "valued-width",
   "metadata": {
    "scrolled": true
   },
   "outputs": [
    {
     "data": {
      "text/html": [
       "<div>\n",
       "<style scoped>\n",
       "    .dataframe tbody tr th:only-of-type {\n",
       "        vertical-align: middle;\n",
       "    }\n",
       "\n",
       "    .dataframe tbody tr th {\n",
       "        vertical-align: top;\n",
       "    }\n",
       "\n",
       "    .dataframe thead th {\n",
       "        text-align: right;\n",
       "    }\n",
       "</style>\n",
       "<table border=\"1\" class=\"dataframe\">\n",
       "  <thead>\n",
       "    <tr style=\"text-align: right;\">\n",
       "      <th></th>\n",
       "      <th>latent</th>\n",
       "      <th>Group</th>\n",
       "      <th>subjects</th>\n",
       "      <th>loss</th>\n",
       "      <th>nn</th>\n",
       "      <th>sf</th>\n",
       "      <th>lof</th>\n",
       "      <th>a_score</th>\n",
       "      <th>cluster</th>\n",
       "    </tr>\n",
       "  </thead>\n",
       "  <tbody>\n",
       "    <tr>\n",
       "      <th>4</th>\n",
       "      <td>[2.2472699, 0.30434123, -1.8338748, 3.9089785,...</td>\n",
       "      <td>hcp</td>\n",
       "      <td>130821</td>\n",
       "      <td>4373</td>\n",
       "      <td>3.780491</td>\n",
       "      <td>-64.977450</td>\n",
       "      <td>-1</td>\n",
       "      <td>134.695857</td>\n",
       "      <td>3</td>\n",
       "    </tr>\n",
       "    <tr>\n",
       "      <th>5</th>\n",
       "      <td>[-0.5731338, 0.7889283, -3.395938, 2.7438216, ...</td>\n",
       "      <td>hcp</td>\n",
       "      <td>599469</td>\n",
       "      <td>3968</td>\n",
       "      <td>3.484857</td>\n",
       "      <td>-60.822139</td>\n",
       "      <td>-1</td>\n",
       "      <td>126.000649</td>\n",
       "      <td>3</td>\n",
       "    </tr>\n",
       "    <tr>\n",
       "      <th>16</th>\n",
       "      <td>[0.70559937, 1.4728817, -3.4144888, 2.624808, ...</td>\n",
       "      <td>hcp</td>\n",
       "      <td>159239</td>\n",
       "      <td>4419</td>\n",
       "      <td>3.293029</td>\n",
       "      <td>-141.041806</td>\n",
       "      <td>-1</td>\n",
       "      <td>286.347209</td>\n",
       "      <td>3</td>\n",
       "    </tr>\n",
       "    <tr>\n",
       "      <th>26</th>\n",
       "      <td>[1.1525759, 0.6357797, -1.7769752, 2.047963, 0...</td>\n",
       "      <td>scint</td>\n",
       "      <td>111009</td>\n",
       "      <td>4553</td>\n",
       "      <td>3.106856</td>\n",
       "      <td>-115.659865</td>\n",
       "      <td>-1</td>\n",
       "      <td>235.426585</td>\n",
       "      <td>3</td>\n",
       "    </tr>\n",
       "  </tbody>\n",
       "</table>\n",
       "</div>"
      ],
      "text/plain": [
       "                                               latent  Group subjects  loss  \\\n",
       "4   [2.2472699, 0.30434123, -1.8338748, 3.9089785,...    hcp   130821  4373   \n",
       "5   [-0.5731338, 0.7889283, -3.395938, 2.7438216, ...    hcp   599469  3968   \n",
       "16  [0.70559937, 1.4728817, -3.4144888, 2.624808, ...    hcp   159239  4419   \n",
       "26  [1.1525759, 0.6357797, -1.7769752, 2.047963, 0...  scint   111009  4553   \n",
       "\n",
       "          nn          sf  lof     a_score  cluster  \n",
       "4   3.780491  -64.977450   -1  134.695857        3  \n",
       "5   3.484857  -60.822139   -1  126.000649        3  \n",
       "16  3.293029 -141.041806   -1  286.347209        3  \n",
       "26  3.106856 -115.659865   -1  235.426585        3  "
      ]
     },
     "execution_count": 131,
     "metadata": {},
     "output_type": "execute_result"
    }
   ],
   "source": [
    "abnormal[abnormal.cluster==3]"
   ]
  },
  {
   "cell_type": "code",
   "execution_count": 122,
   "id": "centered-survivor",
   "metadata": {},
   "outputs": [],
   "source": [
    "cluster_labels= KMeans(n_clusters=3, random_state=0).fit_predict(X_abnor)\n",
    "abnormal['cluster'] = cluster_labels"
   ]
  },
  {
   "cell_type": "code",
   "execution_count": 126,
   "id": "extensive-machine",
   "metadata": {},
   "outputs": [
    {
     "data": {
      "text/html": [
       "<div>\n",
       "<style scoped>\n",
       "    .dataframe tbody tr th:only-of-type {\n",
       "        vertical-align: middle;\n",
       "    }\n",
       "\n",
       "    .dataframe tbody tr th {\n",
       "        vertical-align: top;\n",
       "    }\n",
       "\n",
       "    .dataframe thead th {\n",
       "        text-align: right;\n",
       "    }\n",
       "</style>\n",
       "<table border=\"1\" class=\"dataframe\">\n",
       "  <thead>\n",
       "    <tr style=\"text-align: right;\">\n",
       "      <th></th>\n",
       "      <th>latent</th>\n",
       "      <th>Group</th>\n",
       "      <th>subjects</th>\n",
       "      <th>loss</th>\n",
       "      <th>nn</th>\n",
       "      <th>sf</th>\n",
       "      <th>lof</th>\n",
       "      <th>a_score</th>\n",
       "      <th>cluster</th>\n",
       "    </tr>\n",
       "  </thead>\n",
       "  <tbody>\n",
       "    <tr>\n",
       "      <th>1</th>\n",
       "      <td>[1.0810305, -0.57689613, -2.219369, 0.5845616,...</td>\n",
       "      <td>hcp</td>\n",
       "      <td>201414</td>\n",
       "      <td>3906</td>\n",
       "      <td>3.063100</td>\n",
       "      <td>182.582539</td>\n",
       "      <td>-1</td>\n",
       "      <td>-361.244082</td>\n",
       "      <td>2</td>\n",
       "    </tr>\n",
       "    <tr>\n",
       "      <th>3</th>\n",
       "      <td>[-0.27710456, -0.767203, 0.9066349, 1.9264593,...</td>\n",
       "      <td>hcp</td>\n",
       "      <td>586460</td>\n",
       "      <td>4001</td>\n",
       "      <td>2.890378</td>\n",
       "      <td>-233.608077</td>\n",
       "      <td>-1</td>\n",
       "      <td>470.985292</td>\n",
       "      <td>2</td>\n",
       "    </tr>\n",
       "    <tr>\n",
       "      <th>6</th>\n",
       "      <td>[-1.0190464, 0.6831233, -2.0079532, -0.2097208...</td>\n",
       "      <td>hcp</td>\n",
       "      <td>654754</td>\n",
       "      <td>3336</td>\n",
       "      <td>3.056104</td>\n",
       "      <td>258.093625</td>\n",
       "      <td>-1</td>\n",
       "      <td>-512.398442</td>\n",
       "      <td>2</td>\n",
       "    </tr>\n",
       "    <tr>\n",
       "      <th>10</th>\n",
       "      <td>[2.4475284, -3.4358513, 0.9387543, 1.4231597, ...</td>\n",
       "      <td>hcp</td>\n",
       "      <td>810439</td>\n",
       "      <td>3957</td>\n",
       "      <td>2.909074</td>\n",
       "      <td>-89.331883</td>\n",
       "      <td>-1</td>\n",
       "      <td>182.441937</td>\n",
       "      <td>2</td>\n",
       "    </tr>\n",
       "    <tr>\n",
       "      <th>13</th>\n",
       "      <td>[0.04080078, -4.0020103, 0.48344234, 0.1846454...</td>\n",
       "      <td>hcp</td>\n",
       "      <td>609143</td>\n",
       "      <td>3248</td>\n",
       "      <td>3.361013</td>\n",
       "      <td>-346.583756</td>\n",
       "      <td>-1</td>\n",
       "      <td>697.241900</td>\n",
       "      <td>2</td>\n",
       "    </tr>\n",
       "    <tr>\n",
       "      <th>18</th>\n",
       "      <td>[-0.74268883, -3.2556813, -0.22183056, 0.86715...</td>\n",
       "      <td>hcp</td>\n",
       "      <td>163129</td>\n",
       "      <td>3575</td>\n",
       "      <td>3.127581</td>\n",
       "      <td>109.930926</td>\n",
       "      <td>-1</td>\n",
       "      <td>-215.949073</td>\n",
       "      <td>2</td>\n",
       "    </tr>\n",
       "    <tr>\n",
       "      <th>19</th>\n",
       "      <td>[1.6303753, -1.3792037, 0.02391817, -0.3785596...</td>\n",
       "      <td>hcp</td>\n",
       "      <td>201717</td>\n",
       "      <td>4023</td>\n",
       "      <td>3.185648</td>\n",
       "      <td>121.325987</td>\n",
       "      <td>-1</td>\n",
       "      <td>-238.582734</td>\n",
       "      <td>2</td>\n",
       "    </tr>\n",
       "    <tr>\n",
       "      <th>21</th>\n",
       "      <td>[1.9396776, -1.0398906, 0.8414509, 1.2081089, ...</td>\n",
       "      <td>hcp</td>\n",
       "      <td>206929</td>\n",
       "      <td>3942</td>\n",
       "      <td>3.160625</td>\n",
       "      <td>-86.515731</td>\n",
       "      <td>-1</td>\n",
       "      <td>177.057889</td>\n",
       "      <td>2</td>\n",
       "    </tr>\n",
       "    <tr>\n",
       "      <th>22</th>\n",
       "      <td>[-0.33970398, -0.97103834, -2.604962, -2.03886...</td>\n",
       "      <td>hcp</td>\n",
       "      <td>759869</td>\n",
       "      <td>3526</td>\n",
       "      <td>3.567024</td>\n",
       "      <td>8.619908</td>\n",
       "      <td>-1</td>\n",
       "      <td>-12.898358</td>\n",
       "      <td>2</td>\n",
       "    </tr>\n",
       "    <tr>\n",
       "      <th>23</th>\n",
       "      <td>[0.5436521, -3.6671193, -0.44985706, 1.0155271...</td>\n",
       "      <td>hcp</td>\n",
       "      <td>105923</td>\n",
       "      <td>3937</td>\n",
       "      <td>2.818244</td>\n",
       "      <td>49.756492</td>\n",
       "      <td>-1</td>\n",
       "      <td>-95.830035</td>\n",
       "      <td>2</td>\n",
       "    </tr>\n",
       "    <tr>\n",
       "      <th>24</th>\n",
       "      <td>[3.0282435, -0.9303859, -0.42300248, -0.081562...</td>\n",
       "      <td>scint</td>\n",
       "      <td>199251</td>\n",
       "      <td>4017</td>\n",
       "      <td>2.827207</td>\n",
       "      <td>226.477432</td>\n",
       "      <td>-1</td>\n",
       "      <td>-449.245381</td>\n",
       "      <td>2</td>\n",
       "    </tr>\n",
       "    <tr>\n",
       "      <th>25</th>\n",
       "      <td>[1.0295947, -0.0055130664, -1.1460115, -0.3220...</td>\n",
       "      <td>scint</td>\n",
       "      <td>510225</td>\n",
       "      <td>4087</td>\n",
       "      <td>3.280009</td>\n",
       "      <td>317.239145</td>\n",
       "      <td>-1</td>\n",
       "      <td>-630.300632</td>\n",
       "      <td>2</td>\n",
       "    </tr>\n",
       "    <tr>\n",
       "      <th>29</th>\n",
       "      <td>[0.8112417, 0.12177553, 0.93546134, 0.84022087...</td>\n",
       "      <td>amputee</td>\n",
       "      <td>PA29</td>\n",
       "      <td>3689</td>\n",
       "      <td>3.100807</td>\n",
       "      <td>-182.813376</td>\n",
       "      <td>-1</td>\n",
       "      <td>369.537794</td>\n",
       "      <td>2</td>\n",
       "    </tr>\n",
       "    <tr>\n",
       "      <th>30</th>\n",
       "      <td>[-1.6343806, -0.69291776, -2.1528935, 2.188928...</td>\n",
       "      <td>amputee</td>\n",
       "      <td>PA06</td>\n",
       "      <td>3329</td>\n",
       "      <td>3.122553</td>\n",
       "      <td>-13.869421</td>\n",
       "      <td>-1</td>\n",
       "      <td>31.592562</td>\n",
       "      <td>2</td>\n",
       "    </tr>\n",
       "    <tr>\n",
       "      <th>36</th>\n",
       "      <td>[0.4249677, -0.1529699, -0.6580154, 1.0080179,...</td>\n",
       "      <td>congenital</td>\n",
       "      <td>PA27</td>\n",
       "      <td>3665</td>\n",
       "      <td>3.162992</td>\n",
       "      <td>-64.927214</td>\n",
       "      <td>-1</td>\n",
       "      <td>133.822385</td>\n",
       "      <td>2</td>\n",
       "    </tr>\n",
       "  </tbody>\n",
       "</table>\n",
       "</div>"
      ],
      "text/plain": [
       "                                               latent       Group subjects  \\\n",
       "1   [1.0810305, -0.57689613, -2.219369, 0.5845616,...         hcp   201414   \n",
       "3   [-0.27710456, -0.767203, 0.9066349, 1.9264593,...         hcp   586460   \n",
       "6   [-1.0190464, 0.6831233, -2.0079532, -0.2097208...         hcp   654754   \n",
       "10  [2.4475284, -3.4358513, 0.9387543, 1.4231597, ...         hcp   810439   \n",
       "13  [0.04080078, -4.0020103, 0.48344234, 0.1846454...         hcp   609143   \n",
       "18  [-0.74268883, -3.2556813, -0.22183056, 0.86715...         hcp   163129   \n",
       "19  [1.6303753, -1.3792037, 0.02391817, -0.3785596...         hcp   201717   \n",
       "21  [1.9396776, -1.0398906, 0.8414509, 1.2081089, ...         hcp   206929   \n",
       "22  [-0.33970398, -0.97103834, -2.604962, -2.03886...         hcp   759869   \n",
       "23  [0.5436521, -3.6671193, -0.44985706, 1.0155271...         hcp   105923   \n",
       "24  [3.0282435, -0.9303859, -0.42300248, -0.081562...       scint   199251   \n",
       "25  [1.0295947, -0.0055130664, -1.1460115, -0.3220...       scint   510225   \n",
       "29  [0.8112417, 0.12177553, 0.93546134, 0.84022087...     amputee     PA29   \n",
       "30  [-1.6343806, -0.69291776, -2.1528935, 2.188928...     amputee     PA06   \n",
       "36  [0.4249677, -0.1529699, -0.6580154, 1.0080179,...  congenital     PA27   \n",
       "\n",
       "    loss        nn          sf  lof     a_score  cluster  \n",
       "1   3906  3.063100  182.582539   -1 -361.244082        2  \n",
       "3   4001  2.890378 -233.608077   -1  470.985292        2  \n",
       "6   3336  3.056104  258.093625   -1 -512.398442        2  \n",
       "10  3957  2.909074  -89.331883   -1  182.441937        2  \n",
       "13  3248  3.361013 -346.583756   -1  697.241900        2  \n",
       "18  3575  3.127581  109.930926   -1 -215.949073        2  \n",
       "19  4023  3.185648  121.325987   -1 -238.582734        2  \n",
       "21  3942  3.160625  -86.515731   -1  177.057889        2  \n",
       "22  3526  3.567024    8.619908   -1  -12.898358        2  \n",
       "23  3937  2.818244   49.756492   -1  -95.830035        2  \n",
       "24  4017  2.827207  226.477432   -1 -449.245381        2  \n",
       "25  4087  3.280009  317.239145   -1 -630.300632        2  \n",
       "29  3689  3.100807 -182.813376   -1  369.537794        2  \n",
       "30  3329  3.122553  -13.869421   -1   31.592562        2  \n",
       "36  3665  3.162992  -64.927214   -1  133.822385        2  "
      ]
     },
     "execution_count": 126,
     "metadata": {},
     "output_type": "execute_result"
    }
   ],
   "source": [
    "abnormal[abnormal.cluster==2]"
   ]
  },
  {
   "cell_type": "markdown",
   "id": "finite-channel",
   "metadata": {},
   "source": [
    "### Reconstructions"
   ]
  },
  {
   "cell_type": "code",
   "execution_count": 134,
   "id": "remarkable-colorado",
   "metadata": {},
   "outputs": [
    {
     "name": "stdout",
     "output_type": "stream",
     "text": [
      "[-0.057729226, 0.019369831, 0.41063666, 3.1779537, 1.1180569, -2.1365812, 2.0469081, 1.6159005, 0.15550554, 0.65777165]\n",
      "[1.5605457, -3.0517354, -2.1927452, 2.5223696, 1.034786, 0.8640467, 0.31865478, 0.88094807, -1.3999795, 1.2780876]\n"
     ]
    }
   ],
   "source": [
    "z0 = [np.mean([abnormal.latent[k][i] for k in range(len(abnormal)) if list(abnormal.cluster)[k]==0]) for i in range(10)]\n",
    "print(z0)\n",
    "\n",
    "z4 = [np.mean([abnormal.latent[k][i] for k in range(len(abnormal)) if list(abnormal.cluster)[k]==4]) for i in range(10)]\n",
    "print(z4)"
   ]
  },
  {
   "cell_type": "code",
   "execution_count": 138,
   "id": "conditional-executive",
   "metadata": {},
   "outputs": [
    {
     "name": "stdout",
     "output_type": "stream",
     "text": [
      "[-0.057729226, 0.019369831, 0.41063666, 3.1779537, 1.1180569, -2.1365812, 2.0469081, 1.6159005, 0.15550554, 0.65777165]\n",
      "[1.5605457, -3.0517354, -2.1927452, 2.5223696, 1.034786, 0.8640467, 0.31865478, 0.88094807, -1.3999795, 1.2780876]\n",
      "[-0.057729226, 0.019369831, 0.41063666, 3.1779537, 1.1180569, -2.1365812, 2.0469081, 1.6159005, 0.15550554, 0.65777165]\n",
      "[1.5605457, -3.0517354, -2.1927452, 2.5223696, 1.034786, 0.8640467, 0.31865478, 0.88094807, -1.3999795, 1.2780876]\n",
      "[-0.057729226, 0.019369831, 0.41063666, 3.1779537, 1.1180569, -2.1365812, 2.0469081, 1.6159005, 0.15550554, 0.65777165]\n",
      "[1.5605457, -3.0517354, -2.1927452, 2.5223696, 1.034786, 0.8640467, 0.31865478, 0.88094807, -1.3999795, 1.2780876]\n"
     ]
    }
   ],
   "source": [
    "z1 = [np.mean([abnormal.latent[k][i] for k in range(len(abnormal)) if list(abnormal.cluster)[k]==1]) for i in range(10)]\n",
    "print(z0)\n",
    "\n",
    "z2 = [np.mean([abnormal.latent[k][i] for k in range(len(abnormal)) if list(abnormal.cluster)[k]==2]) for i in range(10)]\n",
    "print(z4)\n",
    "\n",
    "z3 = [np.mean([abnormal.latent[k][i] for k in range(len(abnormal)) if list(abnormal.cluster)[k]==3]) for i in range(10)]\n",
    "print(z0)\n",
    "\n",
    "z6 = [np.mean([abnormal.latent[k][i] for k in range(len(abnormal)) if list(abnormal.cluster)[k]==6]) for i in range(10)]\n",
    "print(z4)\n",
    "\n",
    "z7 = [np.mean([abnormal.latent[k][i] for k in range(len(abnormal)) if list(abnormal.cluster)[k]==7]) for i in range(10)]\n",
    "print(z0)\n",
    "\n",
    "z9 = [np.mean([abnormal.latent[k][i] for k in range(len(abnormal)) if list(abnormal.cluster)[k]==9]) for i in range(10)]\n",
    "print(z4)"
   ]
  },
  {
   "cell_type": "code",
   "execution_count": 135,
   "id": "fundamental-detection",
   "metadata": {},
   "outputs": [
    {
     "name": "stdout",
     "output_type": "stream",
     "text": [
      "[1.4576374, -0.86520636, -0.6617214, -0.32259452, 1.9742482, -1.2503551, 3.5093257, 1.1488994, -0.61514515, 1.6285467]\n",
      "[1.308041, -0.08524938, -1.6842239, 0.88843125, 2.5763, -0.22308488, 1.956274, 0.7264746, -2.3611698, -0.48263615]\n"
     ]
    }
   ],
   "source": [
    "z5 = [np.mean([abnormal.latent[k][i] for k in range(len(abnormal)) if list(abnormal.cluster)[k]==5]) for i in range(10)]\n",
    "print(z5)\n",
    "\n",
    "z8 = [np.mean([abnormal.latent[k][i] for k in range(len(abnormal)) if list(abnormal.cluster)[k]==8]) for i in range(10)]\n",
    "print(z8)"
   ]
  },
  {
   "cell_type": "code",
   "execution_count": 136,
   "id": "environmental-operator",
   "metadata": {},
   "outputs": [],
   "source": [
    "arr_out = []\n",
    "values = []\n",
    "for enc, lab in zip([z0, z4, z5, z8], ['c0', 'c4', 'c5', 'c8']):\n",
    "    z = torch.from_numpy(np.array(enc)).to(device, dtype=torch.float32)\n",
    "    z = torch.unsqueeze(z, dim=0)\n",
    "    out = model.decode(z)\n",
    "    output = torch.argmax(out, dim=1)\n",
    "    out = np.array(np.squeeze(output).cpu().detach().numpy())\n",
    "    arr_out.append(out)\n",
    "    values.append(lab)\n",
    "\n",
    "arr_out = np.array(arr_out)\n",
    "np.save(f\"/volatile/arr_out.npy\", arr_out)\n",
    "np.save('/volatile/arr_label.npy', np.array(values))"
   ]
  },
  {
   "cell_type": "code",
   "execution_count": 137,
   "id": "terminal-kingdom",
   "metadata": {},
   "outputs": [],
   "source": [
    "for k in range(4):\n",
    "    aims.write(dtx.convert.bucket_numpy_to_bucketMap_aims(dtx.convert.volume_to_bucket_numpy(arr_out[k]), voxel_size=(2,2,2)), f\"/volatile/bucket_cluster{k}.bck\")"
   ]
  },
  {
   "cell_type": "code",
   "execution_count": 141,
   "id": "passing-cleveland",
   "metadata": {},
   "outputs": [],
   "source": [
    "arr_out = []\n",
    "values = []\n",
    "for enc, lab in zip([z1, z2, z3, z6, z7, z9], ['c1', 'c2', 'c3', 'c6', 'c7', 'c9']):\n",
    "    z = torch.from_numpy(np.array(enc)).to(device, dtype=torch.float32)\n",
    "    z = torch.unsqueeze(z, dim=0)\n",
    "    out = model.decode(z)\n",
    "    output = torch.argmax(out, dim=1)\n",
    "    out = np.array(np.squeeze(output).cpu().detach().numpy())\n",
    "    arr_out.append(out)\n",
    "    values.append(lab)\n",
    "\n",
    "arr_out = np.array(arr_out)\n",
    "np.save(f\"/volatile/arr_out.npy\", arr_out)\n",
    "np.save('/volatile/arr_label.npy', np.array(values))"
   ]
  },
  {
   "cell_type": "code",
   "execution_count": 142,
   "id": "prime-progressive",
   "metadata": {},
   "outputs": [],
   "source": [
    "for k, i in enumerate([1, 2,3,6,7,9]):\n",
    "    aims.write(dtx.convert.bucket_numpy_to_bucketMap_aims(dtx.convert.volume_to_bucket_numpy(arr_out[k]), voxel_size=(2,2,2)), f\"/volatile/bucket_cluster{i}.bck\")"
   ]
  },
  {
   "cell_type": "markdown",
   "id": "cross-wright",
   "metadata": {},
   "source": [
    "### Going from control centroid to one abnormal cluster"
   ]
  },
  {
   "cell_type": "code",
   "execution_count": 208,
   "id": "physical-cartridge",
   "metadata": {},
   "outputs": [
    {
     "data": {
      "text/plain": [
       "[-0.93279177,\n",
       " -0.40741763,\n",
       " -2.168207,\n",
       " 2.3000393,\n",
       " 2.89409,\n",
       " -1.1772474,\n",
       " 0.4227159,\n",
       " -0.32224128,\n",
       " -1.9756174,\n",
       " 0.43747678]"
      ]
     },
     "execution_count": 208,
     "metadata": {},
     "output_type": "execute_result"
    }
   ],
   "source": [
    "z2"
   ]
  },
  {
   "cell_type": "code",
   "execution_count": 205,
   "id": "celtic-virginia",
   "metadata": {},
   "outputs": [
    {
     "name": "stdout",
     "output_type": "stream",
     "text": [
      "[1.159973, -0.9406189, -1.4649181, 1.4306669, 1.4758445, -1.1576344, 1.1078352, 1.0203571, -1.3120298, 1.2407905]\n"
     ]
    }
   ],
   "source": [
    "z_train = [np.mean([X_train[k][i] for k in range(len(X_train))]) for i in range(10)]\n",
    "print(z_train)"
   ]
  },
  {
   "cell_type": "code",
   "execution_count": 221,
   "id": "artistic-fancy",
   "metadata": {},
   "outputs": [],
   "source": [
    "dim0 = [z2[0]] + [z2[0] + ((z_train[0]-z2[0])/5)*k for k in [1,2,3,4]] + [z_train[0]]\n",
    "dim1 = [z2[1]] + [z2[1] + ((z_train[1]-z2[1])/5)*k for k in [1,2,3,4]] + [z_train[1]]\n",
    "dim2 = [z2[2]] + [z2[2] + ((z_train[2]-z2[2])/5)*k for k in [1,2,3,4]] + [z_train[2]]\n",
    "dim3 = [z2[3]] + [z2[3] + ((z_train[3]-z2[3])/5)*k for k in [1,2,3,4]] + [z_train[3]]\n",
    "dim4 = [z2[4]] + [z2[4] + ((z_train[4]-z2[4])/5)*k for k in [1,2,3,4]] + [z_train[4]]\n",
    "dim5 = [z2[5]] + [z2[5] + ((z_train[5]-z2[5])/5)*k for k in [1,2,3,4]] + [z_train[5]]\n",
    "dim6 = [z2[6]] + [z2[6] + ((z_train[6]-z2[6])/5)*k for k in [1,2,3,4]] + [z_train[6]]\n",
    "dim7 = [z2[7]] + [z2[7] + ((z_train[7]-z2[7])/5)*k for k in [1,2,3,4]] + [z_train[7]]\n",
    "dim8 = [z2[8]] + [z2[8] + ((z_train[8]-z2[8])/5)*k for k in [1,2,3,4]] + [z_train[8]]\n",
    "dim9 = [z2[9]] + [z2[9] + ((z_train[9]-z2[9])/5)*k for k in [1,2,3,4]] + [z_train[9]]"
   ]
  },
  {
   "cell_type": "code",
   "execution_count": 226,
   "id": "smart-unknown",
   "metadata": {},
   "outputs": [],
   "source": [
    "src_dir ='/neurospin/dico/lguillon/miccai_22/analyses_gridsearch/'\n",
    "arr_out = []\n",
    "values = []\n",
    "\n",
    "for k in range(6):\n",
    "    enc = [dim0[k], dim1[k], dim2[k], dim3[k], dim4[k], dim5[k], dim6[k], dim7[k], dim8[k], dim9[k]]\n",
    "    z = torch.from_numpy(np.array(enc)).to(device, dtype=torch.float32)\n",
    "    z = torch.unsqueeze(z, dim=0)\n",
    "    out = model.decode(z)\n",
    "    output = torch.argmax(out, dim=1)\n",
    "    out = np.array(np.squeeze(output).cpu().detach().numpy())\n",
    "    arr_out.append(out)\n",
    "    values.append(f\"step_{k}\")\n",
    "\n",
    "arr_out = np.array(arr_out)\n",
    "#np.save(f\"/neurospin/dico/lguillon/midl_22/visu_cluster_gen/interpolation_0_1.npy\", arr_out)\n",
    "#np.save('/neurospin/dico/lguillon/midl_22/visu_cluster_gen/label_interpolation_0_1.npy', np.array(values))\n",
    "for k in range(6):\n",
    "    aims.write(dtx.convert.bucket_numpy_to_bucketMap_aims(dtx.convert.volume_to_bucket_numpy(arr_out[k]), voxel_size=(2,2,2)), f\"{src_dir}cluster_train_2/interpolation_bucket_step_{k}.bck\")"
   ]
  },
  {
   "cell_type": "markdown",
   "id": "sufficient-sheriff",
   "metadata": {},
   "source": [
    "### Clustering"
   ]
  },
  {
   "cell_type": "code",
   "execution_count": 243,
   "id": "remarkable-demand",
   "metadata": {},
   "outputs": [],
   "source": [
    "from sklearn.model_selection import train_test_split\n",
    "from sklearn.ensemble import GradientBoostingClassifier\n",
    "from sklearn.linear_model import LogisticRegression\n",
    "from sklearn.ensemble import RandomForestClassifier"
   ]
  },
  {
   "cell_type": "code",
   "execution_count": 244,
   "id": "ready-valve",
   "metadata": {},
   "outputs": [],
   "source": [
    "X_hand = np.concatenate((encoded['congenital'], encoded['ctrl'], encoded['amputee']))\n",
    "label_hand = np.array(['cong' for k in range(len(encoded['congenital']))]+['ctrl' for k in range(len(encoded['ctrl']))]+ ['amputee' for k in range(len(encoded['amputee']))])\n",
    "\n",
    "X_train, X_test, y_train, y_test = train_test_split(X_hand, label_hand, test_size=0.4, stratify=label_hand, random_state=42)"
   ]
  },
  {
   "cell_type": "code",
   "execution_count": 247,
   "id": "large-vatican",
   "metadata": {},
   "outputs": [
    {
     "name": "stdout",
     "output_type": "stream",
     "text": [
      "0.8\n"
     ]
    },
    {
     "ename": "ValueError",
     "evalue": "GradientBoostingClassifier should be a binary classifier",
     "output_type": "error",
     "traceback": [
      "\u001b[0;31m---------------------------------------------------------------------------\u001b[0m",
      "\u001b[0;31mValueError\u001b[0m                                Traceback (most recent call last)",
      "\u001b[0;32m<ipython-input-247-b071d281850b>\u001b[0m in \u001b[0;36m<module>\u001b[0;34m()\u001b[0m\n\u001b[1;32m     14\u001b[0m     viz = metrics.plot_roc_curve(gb, X_train[test], y_train[test],\n\u001b[1;32m     15\u001b[0m                          \u001b[0mname\u001b[0m\u001b[0;34m=\u001b[0m\u001b[0;34m'ROC fold {}'\u001b[0m\u001b[0;34m.\u001b[0m\u001b[0mformat\u001b[0m\u001b[0;34m(\u001b[0m\u001b[0mi\u001b[0m\u001b[0;34m)\u001b[0m\u001b[0;34m,\u001b[0m\u001b[0;34m\u001b[0m\u001b[0;34m\u001b[0m\u001b[0m\n\u001b[0;32m---> 16\u001b[0;31m                          alpha=0.3, lw=1, ax=ax)\n\u001b[0m\u001b[1;32m     17\u001b[0m     \u001b[0minterp_tpr\u001b[0m \u001b[0;34m=\u001b[0m \u001b[0mnp\u001b[0m\u001b[0;34m.\u001b[0m\u001b[0minterp\u001b[0m\u001b[0;34m(\u001b[0m\u001b[0mmean_fpr\u001b[0m\u001b[0;34m,\u001b[0m \u001b[0mviz\u001b[0m\u001b[0;34m.\u001b[0m\u001b[0mfpr\u001b[0m\u001b[0;34m,\u001b[0m \u001b[0mviz\u001b[0m\u001b[0;34m.\u001b[0m\u001b[0mtpr\u001b[0m\u001b[0;34m)\u001b[0m\u001b[0;34m\u001b[0m\u001b[0;34m\u001b[0m\u001b[0m\n\u001b[1;32m     18\u001b[0m     \u001b[0minterp_tpr\u001b[0m\u001b[0;34m[\u001b[0m\u001b[0;36m0\u001b[0m\u001b[0;34m]\u001b[0m \u001b[0;34m=\u001b[0m \u001b[0;36m0.0\u001b[0m\u001b[0;34m\u001b[0m\u001b[0;34m\u001b[0m\u001b[0m\n",
      "\u001b[0;32m/casa/home/.local/lib/python3.6/site-packages/sklearn/utils/validation.py\u001b[0m in \u001b[0;36minner_f\u001b[0;34m(*args, **kwargs)\u001b[0m\n\u001b[1;32m     61\u001b[0m             \u001b[0mextra_args\u001b[0m \u001b[0;34m=\u001b[0m \u001b[0mlen\u001b[0m\u001b[0;34m(\u001b[0m\u001b[0margs\u001b[0m\u001b[0;34m)\u001b[0m \u001b[0;34m-\u001b[0m \u001b[0mlen\u001b[0m\u001b[0;34m(\u001b[0m\u001b[0mall_args\u001b[0m\u001b[0;34m)\u001b[0m\u001b[0;34m\u001b[0m\u001b[0;34m\u001b[0m\u001b[0m\n\u001b[1;32m     62\u001b[0m             \u001b[0;32mif\u001b[0m \u001b[0mextra_args\u001b[0m \u001b[0;34m<=\u001b[0m \u001b[0;36m0\u001b[0m\u001b[0;34m:\u001b[0m\u001b[0;34m\u001b[0m\u001b[0;34m\u001b[0m\u001b[0m\n\u001b[0;32m---> 63\u001b[0;31m                 \u001b[0;32mreturn\u001b[0m \u001b[0mf\u001b[0m\u001b[0;34m(\u001b[0m\u001b[0;34m*\u001b[0m\u001b[0margs\u001b[0m\u001b[0;34m,\u001b[0m \u001b[0;34m**\u001b[0m\u001b[0mkwargs\u001b[0m\u001b[0;34m)\u001b[0m\u001b[0;34m\u001b[0m\u001b[0;34m\u001b[0m\u001b[0m\n\u001b[0m\u001b[1;32m     64\u001b[0m \u001b[0;34m\u001b[0m\u001b[0m\n\u001b[1;32m     65\u001b[0m             \u001b[0;31m# extra_args > 0\u001b[0m\u001b[0;34m\u001b[0m\u001b[0;34m\u001b[0m\u001b[0;34m\u001b[0m\u001b[0m\n",
      "\u001b[0;32m/casa/home/.local/lib/python3.6/site-packages/sklearn/metrics/_plot/roc_curve.py\u001b[0m in \u001b[0;36mplot_roc_curve\u001b[0;34m(estimator, X, y, sample_weight, drop_intermediate, response_method, name, ax, pos_label, **kwargs)\u001b[0m\n\u001b[1;32m    211\u001b[0m \u001b[0;34m\u001b[0m\u001b[0m\n\u001b[1;32m    212\u001b[0m     y_pred, pos_label = _get_response(\n\u001b[0;32m--> 213\u001b[0;31m         X, estimator, response_method, pos_label=pos_label)\n\u001b[0m\u001b[1;32m    214\u001b[0m \u001b[0;34m\u001b[0m\u001b[0m\n\u001b[1;32m    215\u001b[0m     fpr, tpr, _ = roc_curve(y, y_pred, pos_label=pos_label,\n",
      "\u001b[0;32m/casa/home/.local/lib/python3.6/site-packages/sklearn/metrics/_plot/base.py\u001b[0m in \u001b[0;36m_get_response\u001b[0;34m(X, estimator, response_method, pos_label)\u001b[0m\n\u001b[1;32m     99\u001b[0m     \u001b[0;32mif\u001b[0m \u001b[0my_pred\u001b[0m\u001b[0;34m.\u001b[0m\u001b[0mndim\u001b[0m \u001b[0;34m!=\u001b[0m \u001b[0;36m1\u001b[0m\u001b[0;34m:\u001b[0m  \u001b[0;31m# `predict_proba`\u001b[0m\u001b[0;34m\u001b[0m\u001b[0;34m\u001b[0m\u001b[0m\n\u001b[1;32m    100\u001b[0m         \u001b[0;32mif\u001b[0m \u001b[0my_pred\u001b[0m\u001b[0;34m.\u001b[0m\u001b[0mshape\u001b[0m\u001b[0;34m[\u001b[0m\u001b[0;36m1\u001b[0m\u001b[0;34m]\u001b[0m \u001b[0;34m!=\u001b[0m \u001b[0;36m2\u001b[0m\u001b[0;34m:\u001b[0m\u001b[0;34m\u001b[0m\u001b[0;34m\u001b[0m\u001b[0m\n\u001b[0;32m--> 101\u001b[0;31m             \u001b[0;32mraise\u001b[0m \u001b[0mValueError\u001b[0m\u001b[0;34m(\u001b[0m\u001b[0mclassification_error\u001b[0m\u001b[0;34m)\u001b[0m\u001b[0;34m\u001b[0m\u001b[0;34m\u001b[0m\u001b[0m\n\u001b[0m\u001b[1;32m    102\u001b[0m         \u001b[0;32mif\u001b[0m \u001b[0mpos_label\u001b[0m \u001b[0;32mis\u001b[0m \u001b[0;32mNone\u001b[0m\u001b[0;34m:\u001b[0m\u001b[0;34m\u001b[0m\u001b[0;34m\u001b[0m\u001b[0m\n\u001b[1;32m    103\u001b[0m             \u001b[0mpos_label\u001b[0m \u001b[0;34m=\u001b[0m \u001b[0mestimator\u001b[0m\u001b[0;34m.\u001b[0m\u001b[0mclasses_\u001b[0m\u001b[0;34m[\u001b[0m\u001b[0;36m1\u001b[0m\u001b[0;34m]\u001b[0m\u001b[0;34m\u001b[0m\u001b[0;34m\u001b[0m\u001b[0m\n",
      "\u001b[0;31mValueError\u001b[0m: GradientBoostingClassifier should be a binary classifier"
     ]
    },
    {
     "data": {
      "image/png": "[encoded data removed]",
      "text/plain": [
       "<Figure size 432x288 with 1 Axes>"
      ]
     },
     "metadata": {
      "needs_background": "light"
     },
     "output_type": "display_data"
    }
   ],
   "source": [
    "from sklearn.model_selection import StratifiedKFold\n",
    "cv = StratifiedKFold(n_splits=5)\n",
    "gb = GradientBoostingClassifier(random_state=0, loss='deviance', n_estimators=200, max_depth=3)\n",
    "#gb = LogisticRegression(random_state=0, max_iter=1000)\n",
    "\n",
    "tprs = []\n",
    "aucs = []\n",
    "mean_fpr = np.linspace(0, 1, 100)\n",
    "\n",
    "fig, ax = plt.subplots()\n",
    "for i, (train, test) in enumerate(cv.split(X_train, y_train)):\n",
    "    gb.fit(X_train[train], y_train[train])\n",
    "    print(gb.score(X_train[test], y_train[test]))\n",
    "    viz = metrics.plot_roc_curve(gb, X_train[test], y_train[test],\n",
    "                         name='ROC fold {}'.format(i),\n",
    "                         alpha=0.3, lw=1, ax=ax)\n",
    "    interp_tpr = np.interp(mean_fpr, viz.fpr, viz.tpr)\n",
    "    interp_tpr[0] = 0.0\n",
    "    tprs.append(interp_tpr)\n",
    "    aucs.append(viz.roc_auc)\n",
    "\n",
    "ax.plot([0, 1], [0, 1], linestyle='--', lw=2, color='r',\n",
    "        label='Chance', alpha=.8)\n",
    "\n",
    "mean_tpr = np.mean(tprs, axis=0)\n",
    "mean_tpr[-1] = 1.0\n",
    "mean_auc = metrics.auc(mean_fpr, mean_tpr)\n",
    "std_auc = np.std(aucs)\n",
    "ax.plot(mean_fpr, mean_tpr, color='b',\n",
    "        label=r'Mean ROC (AUC = %0.2f $\\pm$ %0.2f)' % (mean_auc, std_auc),\n",
    "        lw=2, alpha=.8)\n",
    "\n",
    "std_tpr = np.std(tprs, axis=0)\n",
    "tprs_upper = np.minimum(mean_tpr + std_tpr, 1)\n",
    "tprs_lower = np.maximum(mean_tpr - std_tpr, 0)\n",
    "ax.fill_between(mean_fpr, tprs_lower, tprs_upper, color='grey', alpha=.2,\n",
    "                label=r'$\\pm$ 1 std. dev.')\n",
    "\n",
    "ax.set(xlim=[-0.05, 1.05], ylim=[-0.05, 1.05],\n",
    "       title=\"ROC curve on one-handed subjects\")\n",
    "ax.legend(loc=\"lower right\")\n",
    "plt.show()"
   ]
  },
  {
   "cell_type": "code",
   "execution_count": null,
   "id": "dimensional-publisher",
   "metadata": {},
   "outputs": [],
   "source": []
  },
  {
   "cell_type": "code",
   "execution_count": null,
   "id": "geographic-rates",
   "metadata": {},
   "outputs": [],
   "source": []
  },
  {
   "cell_type": "code",
   "execution_count": 225,
   "id": "serious-backup",
   "metadata": {},
   "outputs": [
    {
     "data": {
      "image/png": "[encoded data removed]",
      "text/plain": [
       "<Figure size 432x288 with 1 Axes>"
      ]
     },
     "metadata": {
      "needs_background": "light"
     },
     "output_type": "display_data"
    }
   ],
   "source": [
    "range_values_dim_1 = [k[0] for k in X] \n",
    "range_values_dim_2 = [k[1] for k in X] \n",
    "fig = plt.figure()\n",
    "#plt.hist(range_values_dim_1, bins=20)\n",
    "plt.hist(range_values_dim_2, bins=20)\n",
    "plt.gca().set(title='Frequency Histogram', ylabel='Frequency');"
   ]
  },
  {
   "cell_type": "code",
   "execution_count": 220,
   "id": "sexual-thunder",
   "metadata": {},
   "outputs": [],
   "source": [
    "z1 = np.arange(2, 3, 0.15)\n",
    "z2 = np.arange(-5, 2, 1)"
   ]
  },
  {
   "cell_type": "code",
   "execution_count": 203,
   "id": "guilty-sphere",
   "metadata": {},
   "outputs": [
    {
     "data": {
      "text/plain": [
       "array([-5, -4, -3, -2, -1,  0,  1])"
      ]
     },
     "execution_count": 203,
     "metadata": {},
     "output_type": "execute_result"
    }
   ],
   "source": [
    "z1"
   ]
  },
  {
   "cell_type": "code",
   "execution_count": 210,
   "id": "saving-vector",
   "metadata": {},
   "outputs": [
    {
     "data": {
      "text/plain": [
       "array([2.  , 2.15, 2.3 , 2.45, 2.6 , 2.75, 2.9 ])"
      ]
     },
     "execution_count": 210,
     "metadata": {},
     "output_type": "execute_result"
    }
   ],
   "source": [
    "z2"
   ]
  },
  {
   "cell_type": "code",
   "execution_count": 226,
   "id": "nominated-velvet",
   "metadata": {},
   "outputs": [],
   "source": [
    "arr_out2 = []\n",
    "values2= []\n",
    "mean = torch.randn((1,4), device=device)\n",
    "logvar = torch.randn((1,4), device=device)\n",
    "z = VAE.sample_z(model, mean, logvar)\n",
    "    \n",
    "for dim_1 in z1:\n",
    "    for dim_10 in z2:\n",
    "        z[0][0] = dim_1\n",
    "        z[0][1] = dim_10\n",
    "        out = model.decode(z)\n",
    "        output = torch.argmax(out, dim=1)\n",
    "        out = np.array(np.squeeze(output).cpu().detach().numpy())\n",
    "        arr_out2.append(out)\n",
    "        values2.append((dim_1, dim_10))\n",
    "    \n",
    "arr_out2 = np.array(arr_out2)\n",
    "\n",
    "np.save(f\"/volatile/arr_out.npy\", arr_out2)\n",
    "np.save('/volatile/arr_label.npy', np.array(values2))"
   ]
  },
  {
   "cell_type": "code",
   "execution_count": 223,
   "id": "fluid-lodge",
   "metadata": {},
   "outputs": [
    {
     "data": {
      "text/plain": [
       "torch.Size([1, 4])"
      ]
     },
     "execution_count": 223,
     "metadata": {},
     "output_type": "execute_result"
    }
   ],
   "source": [
    "z.shape"
   ]
  },
  {
   "cell_type": "code",
   "execution_count": 211,
   "id": "pressed-killer",
   "metadata": {},
   "outputs": [
    {
     "ename": "RuntimeError",
     "evalue": "mat1 and mat2 shapes cannot be multiplied (1x7 and 4x11200)",
     "output_type": "error",
     "traceback": [
      "\u001b[0;31m---------------------------------------------------------------------------\u001b[0m",
      "\u001b[0;31mRuntimeError\u001b[0m                              Traceback (most recent call last)",
      "\u001b[0;32m<ipython-input-211-694de9170d5f>\u001b[0m in \u001b[0;36m<module>\u001b[0;34m()\u001b[0m\n\u001b[1;32m      4\u001b[0m     \u001b[0mz\u001b[0m \u001b[0;34m=\u001b[0m \u001b[0mtorch\u001b[0m\u001b[0;34m.\u001b[0m\u001b[0mfrom_numpy\u001b[0m\u001b[0;34m(\u001b[0m\u001b[0mnp\u001b[0m\u001b[0;34m.\u001b[0m\u001b[0marray\u001b[0m\u001b[0;34m(\u001b[0m\u001b[0menc\u001b[0m\u001b[0;34m)\u001b[0m\u001b[0;34m)\u001b[0m\u001b[0;34m.\u001b[0m\u001b[0mto\u001b[0m\u001b[0;34m(\u001b[0m\u001b[0mdevice\u001b[0m\u001b[0;34m,\u001b[0m \u001b[0mdtype\u001b[0m\u001b[0;34m=\u001b[0m\u001b[0mtorch\u001b[0m\u001b[0;34m.\u001b[0m\u001b[0mfloat32\u001b[0m\u001b[0;34m)\u001b[0m\u001b[0;34m\u001b[0m\u001b[0;34m\u001b[0m\u001b[0m\n\u001b[1;32m      5\u001b[0m     \u001b[0mz\u001b[0m \u001b[0;34m=\u001b[0m \u001b[0mtorch\u001b[0m\u001b[0;34m.\u001b[0m\u001b[0munsqueeze\u001b[0m\u001b[0;34m(\u001b[0m\u001b[0mz\u001b[0m\u001b[0;34m,\u001b[0m \u001b[0mdim\u001b[0m\u001b[0;34m=\u001b[0m\u001b[0;36m0\u001b[0m\u001b[0;34m)\u001b[0m\u001b[0;34m\u001b[0m\u001b[0;34m\u001b[0m\u001b[0m\n\u001b[0;32m----> 6\u001b[0;31m     \u001b[0mout\u001b[0m \u001b[0;34m=\u001b[0m \u001b[0mmodel\u001b[0m\u001b[0;34m.\u001b[0m\u001b[0mdecode\u001b[0m\u001b[0;34m(\u001b[0m\u001b[0mz\u001b[0m\u001b[0;34m)\u001b[0m\u001b[0;34m\u001b[0m\u001b[0;34m\u001b[0m\u001b[0m\n\u001b[0m\u001b[1;32m      7\u001b[0m     \u001b[0moutput\u001b[0m \u001b[0;34m=\u001b[0m \u001b[0mtorch\u001b[0m\u001b[0;34m.\u001b[0m\u001b[0margmax\u001b[0m\u001b[0;34m(\u001b[0m\u001b[0mout\u001b[0m\u001b[0;34m,\u001b[0m \u001b[0mdim\u001b[0m\u001b[0;34m=\u001b[0m\u001b[0;36m1\u001b[0m\u001b[0;34m)\u001b[0m\u001b[0;34m\u001b[0m\u001b[0;34m\u001b[0m\u001b[0m\n\u001b[1;32m      8\u001b[0m     \u001b[0mout\u001b[0m \u001b[0;34m=\u001b[0m \u001b[0mnp\u001b[0m\u001b[0;34m.\u001b[0m\u001b[0marray\u001b[0m\u001b[0;34m(\u001b[0m\u001b[0mnp\u001b[0m\u001b[0;34m.\u001b[0m\u001b[0msqueeze\u001b[0m\u001b[0;34m(\u001b[0m\u001b[0moutput\u001b[0m\u001b[0;34m)\u001b[0m\u001b[0;34m.\u001b[0m\u001b[0mcpu\u001b[0m\u001b[0;34m(\u001b[0m\u001b[0;34m)\u001b[0m\u001b[0;34m.\u001b[0m\u001b[0mdetach\u001b[0m\u001b[0;34m(\u001b[0m\u001b[0;34m)\u001b[0m\u001b[0;34m.\u001b[0m\u001b[0mnumpy\u001b[0m\u001b[0;34m(\u001b[0m\u001b[0;34m)\u001b[0m\u001b[0;34m)\u001b[0m\u001b[0;34m\u001b[0m\u001b[0;34m\u001b[0m\u001b[0m\n",
      "\u001b[0;32m/neurospin/dico/lguillon/2022_lguillon_foldInpainting/vae.py\u001b[0m in \u001b[0;36mdecode\u001b[0;34m(self, z)\u001b[0m\n\u001b[1;32m    132\u001b[0m \u001b[0;34m\u001b[0m\u001b[0m\n\u001b[1;32m    133\u001b[0m     \u001b[0;32mdef\u001b[0m \u001b[0mdecode\u001b[0m\u001b[0;34m(\u001b[0m\u001b[0mself\u001b[0m\u001b[0;34m,\u001b[0m \u001b[0mz\u001b[0m\u001b[0;34m)\u001b[0m\u001b[0;34m:\u001b[0m\u001b[0;34m\u001b[0m\u001b[0;34m\u001b[0m\u001b[0m\n\u001b[0;32m--> 134\u001b[0;31m         \u001b[0mout\u001b[0m \u001b[0;34m=\u001b[0m \u001b[0mself\u001b[0m\u001b[0;34m.\u001b[0m\u001b[0mz_develop\u001b[0m\u001b[0;34m(\u001b[0m\u001b[0mz\u001b[0m\u001b[0;34m)\u001b[0m\u001b[0;34m\u001b[0m\u001b[0;34m\u001b[0m\u001b[0m\n\u001b[0m\u001b[1;32m    135\u001b[0m         \u001b[0mout\u001b[0m \u001b[0;34m=\u001b[0m \u001b[0mout\u001b[0m\u001b[0;34m.\u001b[0m\u001b[0mview\u001b[0m\u001b[0;34m(\u001b[0m\u001b[0mz\u001b[0m\u001b[0;34m.\u001b[0m\u001b[0msize\u001b[0m\u001b[0;34m(\u001b[0m\u001b[0;36m0\u001b[0m\u001b[0;34m)\u001b[0m\u001b[0;34m,\u001b[0m \u001b[0;36m16\u001b[0m \u001b[0;34m*\u001b[0m \u001b[0;36m2\u001b[0m\u001b[0;34m**\u001b[0m\u001b[0;34m(\u001b[0m\u001b[0mself\u001b[0m\u001b[0;34m.\u001b[0m\u001b[0mdepth\u001b[0m\u001b[0;34m-\u001b[0m\u001b[0;36m1\u001b[0m\u001b[0;34m)\u001b[0m\u001b[0;34m,\u001b[0m \u001b[0mself\u001b[0m\u001b[0;34m.\u001b[0m\u001b[0mz_dim_h\u001b[0m\u001b[0;34m,\u001b[0m \u001b[0mself\u001b[0m\u001b[0;34m.\u001b[0m\u001b[0mz_dim_w\u001b[0m\u001b[0;34m,\u001b[0m \u001b[0mself\u001b[0m\u001b[0;34m.\u001b[0m\u001b[0mz_dim_d\u001b[0m\u001b[0;34m)\u001b[0m\u001b[0;34m\u001b[0m\u001b[0;34m\u001b[0m\u001b[0m\n\u001b[1;32m    136\u001b[0m         \u001b[0mout\u001b[0m \u001b[0;34m=\u001b[0m \u001b[0mself\u001b[0m\u001b[0;34m.\u001b[0m\u001b[0mdecoder\u001b[0m\u001b[0;34m(\u001b[0m\u001b[0mout\u001b[0m\u001b[0;34m)\u001b[0m\u001b[0;34m\u001b[0m\u001b[0;34m\u001b[0m\u001b[0m\n",
      "\u001b[0;32m/casa/home/.local/lib/python3.6/site-packages/torch/nn/modules/module.py\u001b[0m in \u001b[0;36m_call_impl\u001b[0;34m(self, *input, **kwargs)\u001b[0m\n\u001b[1;32m   1100\u001b[0m         if not (self._backward_hooks or self._forward_hooks or self._forward_pre_hooks or _global_backward_hooks\n\u001b[1;32m   1101\u001b[0m                 or _global_forward_hooks or _global_forward_pre_hooks):\n\u001b[0;32m-> 1102\u001b[0;31m             \u001b[0;32mreturn\u001b[0m \u001b[0mforward_call\u001b[0m\u001b[0;34m(\u001b[0m\u001b[0;34m*\u001b[0m\u001b[0minput\u001b[0m\u001b[0;34m,\u001b[0m \u001b[0;34m**\u001b[0m\u001b[0mkwargs\u001b[0m\u001b[0;34m)\u001b[0m\u001b[0;34m\u001b[0m\u001b[0;34m\u001b[0m\u001b[0m\n\u001b[0m\u001b[1;32m   1103\u001b[0m         \u001b[0;31m# Do not call functions when jit is used\u001b[0m\u001b[0;34m\u001b[0m\u001b[0;34m\u001b[0m\u001b[0;34m\u001b[0m\u001b[0m\n\u001b[1;32m   1104\u001b[0m         \u001b[0mfull_backward_hooks\u001b[0m\u001b[0;34m,\u001b[0m \u001b[0mnon_full_backward_hooks\u001b[0m \u001b[0;34m=\u001b[0m \u001b[0;34m[\u001b[0m\u001b[0;34m]\u001b[0m\u001b[0;34m,\u001b[0m \u001b[0;34m[\u001b[0m\u001b[0;34m]\u001b[0m\u001b[0;34m\u001b[0m\u001b[0;34m\u001b[0m\u001b[0m\n",
      "\u001b[0;32m/casa/home/.local/lib/python3.6/site-packages/torch/nn/modules/linear.py\u001b[0m in \u001b[0;36mforward\u001b[0;34m(self, input)\u001b[0m\n\u001b[1;32m    101\u001b[0m \u001b[0;34m\u001b[0m\u001b[0m\n\u001b[1;32m    102\u001b[0m     \u001b[0;32mdef\u001b[0m \u001b[0mforward\u001b[0m\u001b[0;34m(\u001b[0m\u001b[0mself\u001b[0m\u001b[0;34m,\u001b[0m \u001b[0minput\u001b[0m\u001b[0;34m:\u001b[0m \u001b[0mTensor\u001b[0m\u001b[0;34m)\u001b[0m \u001b[0;34m->\u001b[0m \u001b[0mTensor\u001b[0m\u001b[0;34m:\u001b[0m\u001b[0;34m\u001b[0m\u001b[0;34m\u001b[0m\u001b[0m\n\u001b[0;32m--> 103\u001b[0;31m         \u001b[0;32mreturn\u001b[0m \u001b[0mF\u001b[0m\u001b[0;34m.\u001b[0m\u001b[0mlinear\u001b[0m\u001b[0;34m(\u001b[0m\u001b[0minput\u001b[0m\u001b[0;34m,\u001b[0m \u001b[0mself\u001b[0m\u001b[0;34m.\u001b[0m\u001b[0mweight\u001b[0m\u001b[0;34m,\u001b[0m \u001b[0mself\u001b[0m\u001b[0;34m.\u001b[0m\u001b[0mbias\u001b[0m\u001b[0;34m)\u001b[0m\u001b[0;34m\u001b[0m\u001b[0;34m\u001b[0m\u001b[0m\n\u001b[0m\u001b[1;32m    104\u001b[0m \u001b[0;34m\u001b[0m\u001b[0m\n\u001b[1;32m    105\u001b[0m     \u001b[0;32mdef\u001b[0m \u001b[0mextra_repr\u001b[0m\u001b[0;34m(\u001b[0m\u001b[0mself\u001b[0m\u001b[0;34m)\u001b[0m \u001b[0;34m->\u001b[0m \u001b[0mstr\u001b[0m\u001b[0;34m:\u001b[0m\u001b[0;34m\u001b[0m\u001b[0;34m\u001b[0m\u001b[0m\n",
      "\u001b[0;32m/casa/home/.local/lib/python3.6/site-packages/torch/nn/functional.py\u001b[0m in \u001b[0;36mlinear\u001b[0;34m(input, weight, bias)\u001b[0m\n\u001b[1;32m   1846\u001b[0m     \u001b[0;32mif\u001b[0m \u001b[0mhas_torch_function_variadic\u001b[0m\u001b[0;34m(\u001b[0m\u001b[0minput\u001b[0m\u001b[0;34m,\u001b[0m \u001b[0mweight\u001b[0m\u001b[0;34m,\u001b[0m \u001b[0mbias\u001b[0m\u001b[0;34m)\u001b[0m\u001b[0;34m:\u001b[0m\u001b[0;34m\u001b[0m\u001b[0;34m\u001b[0m\u001b[0m\n\u001b[1;32m   1847\u001b[0m         \u001b[0;32mreturn\u001b[0m \u001b[0mhandle_torch_function\u001b[0m\u001b[0;34m(\u001b[0m\u001b[0mlinear\u001b[0m\u001b[0;34m,\u001b[0m \u001b[0;34m(\u001b[0m\u001b[0minput\u001b[0m\u001b[0;34m,\u001b[0m \u001b[0mweight\u001b[0m\u001b[0;34m,\u001b[0m \u001b[0mbias\u001b[0m\u001b[0;34m)\u001b[0m\u001b[0;34m,\u001b[0m \u001b[0minput\u001b[0m\u001b[0;34m,\u001b[0m \u001b[0mweight\u001b[0m\u001b[0;34m,\u001b[0m \u001b[0mbias\u001b[0m\u001b[0;34m=\u001b[0m\u001b[0mbias\u001b[0m\u001b[0;34m)\u001b[0m\u001b[0;34m\u001b[0m\u001b[0;34m\u001b[0m\u001b[0m\n\u001b[0;32m-> 1848\u001b[0;31m     \u001b[0;32mreturn\u001b[0m \u001b[0mtorch\u001b[0m\u001b[0;34m.\u001b[0m\u001b[0m_C\u001b[0m\u001b[0;34m.\u001b[0m\u001b[0m_nn\u001b[0m\u001b[0;34m.\u001b[0m\u001b[0mlinear\u001b[0m\u001b[0;34m(\u001b[0m\u001b[0minput\u001b[0m\u001b[0;34m,\u001b[0m \u001b[0mweight\u001b[0m\u001b[0;34m,\u001b[0m \u001b[0mbias\u001b[0m\u001b[0;34m)\u001b[0m\u001b[0;34m\u001b[0m\u001b[0;34m\u001b[0m\u001b[0m\n\u001b[0m\u001b[1;32m   1849\u001b[0m \u001b[0;34m\u001b[0m\u001b[0m\n\u001b[1;32m   1850\u001b[0m \u001b[0;34m\u001b[0m\u001b[0m\n",
      "\u001b[0;31mRuntimeError\u001b[0m: mat1 and mat2 shapes cannot be multiplied (1x7 and 4x11200)"
     ]
    }
   ],
   "source": [
    "arr_out = []\n",
    "values = []\n",
    "for enc, lab in zip([z1, z2], ['c0', 'c1']):\n",
    "    z = torch.from_numpy(np.array(enc)).to(device, dtype=torch.float32)\n",
    "    z = torch.unsqueeze(z, dim=0)\n",
    "    out = model.decode(z)\n",
    "    output = torch.argmax(out, dim=1)\n",
    "    out = np.array(np.squeeze(output).cpu().detach().numpy())\n",
    "    arr_out.append(out)\n",
    "    values.append(lab)\n",
    "\n",
    "arr_out = np.array(arr_out)\n",
    "np.save(f\"/volatile/arr_out.npy\", arr_out)\n",
    "np.save('/volatile/arr_label.npy', np.array(values))"
   ]
  },
  {
   "cell_type": "code",
   "execution_count": null,
   "id": "placed-baker",
   "metadata": {},
   "outputs": [],
   "source": [
    "        z = torch.from_numpy(np.array(enc)).to(device, dtype=torch.float32)\n",
    "        z = torch.unsqueeze(z, dim=0)\n",
    "        out = model.decode(z)\n",
    "        output = torch.argmax(out, dim=1)\n",
    "        out = np.array(np.squeeze(output).cpu().detach().numpy())\n",
    "        arr_out.append(out)\n",
    "        values.append(lab)"
   ]
  },
  {
   "cell_type": "code",
   "execution_count": 75,
   "id": "pleased-extraction",
   "metadata": {},
   "outputs": [],
   "source": [
    "#values_22 = np.arange(-1.5, 2, 0.5)\n",
    "#values_88 = np.arange(-1.5, 2, 0.5)\n",
    "arr_out2 = []\n",
    "values= []\n",
    "mean = torch.randn((1,2), device=device)\n",
    "logvar = torch.randn((1,2), device=device)\n",
    "z = model.sample_z(mean, logvar)\n",
    "    \n",
    "for dim_1 in z1:\n",
    "    for dim_2 in z2:\n",
    "        z[0][0] = dim_1\n",
    "        z[0][1] = dim_2\n",
    "        out = model.decode(z)\n",
    "        output = torch.argmax(out, dim=1)\n",
    "        out = np.array(np.squeeze(output).cpu().detach().numpy())\n",
    "        arr_out2.append(out)\n",
    "        values.append((dim_1, dim_2))\n",
    "        \n",
    "arr_out = np.array(arr_out2)\n",
    "np.save(f\"/volatile/arr_out_mic.npy\", arr_out)\n",
    "np.save('/volatile/arr_label_mic.npy', np.array(values))"
   ]
  },
  {
   "cell_type": "code",
   "execution_count": 76,
   "id": "little-simpson",
   "metadata": {},
   "outputs": [
    {
     "data": {
      "text/plain": [
       "(36, 40, 40, 56)"
      ]
     },
     "execution_count": 76,
     "metadata": {},
     "output_type": "execute_result"
    }
   ],
   "source": [
    "arr_out.shape"
   ]
  }
 ],
 "metadata": {
  "kernelspec": {
   "display_name": "Python 3",
   "language": "python",
   "name": "python3"
  },
  "language_info": {
   "codemirror_mode": {
    "name": "ipython",
    "version": 3
   },
   "file_extension": ".py",
   "mimetype": "text/x-python",
   "name": "python",
   "nbconvert_exporter": "python",
   "pygments_lexer": "ipython3",
   "version": "3.6.9"
  }
 },
 "nbformat": 4,
 "nbformat_minor": 5
}
