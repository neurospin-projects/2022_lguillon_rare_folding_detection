{
 "cells": [
  {
   "cell_type": "markdown",
   "id": "worldwide-andrews",
   "metadata": {},
   "source": [
    "# Benchmarks analysis"
   ]
  },
  {
   "cell_type": "markdown",
   "id": "peripheral-eclipse",
   "metadata": {},
   "source": [
    "This notebook aims to assess our model's performances on two synthetic benchkmarks of abnormalities:\n",
    "- deletion benchmark: simple surfaces of various sizes have been randomly deleted\n",
    "- asymmetry benchmark: equivalent crop but on left hemisphere and then flipped"
   ]
  },
  {
   "cell_type": "code",
   "execution_count": 5,
   "id": "weird-correspondence",
   "metadata": {},
   "outputs": [],
   "source": [
    "import os\n",
    "import sys\n",
    "import json\n",
    "import re\n",
    "import pandas as pd\n",
    "from tqdm import tqdm\n",
    "from soma import aims\n",
    "import random\n",
    "\n",
    "p = os.path.abspath('../')\n",
    "if p not in sys.path:\n",
    "    sys.path.append(p)\n",
    "    \n",
    "q = os.path.abspath('../../')\n",
    "if q not in sys.path:\n",
    "    sys.path.append(q)\n",
    "    \n",
    "from vae import *\n",
    "from preprocess import SkeletonDataset\n",
    "import matplotlib.pyplot as plt\n",
    "import matplotlib.cm as cm\n",
    "import dico_toolbox as dtx\n",
    "import umap\n",
    "from scipy.spatial import distance\n",
    "from scipy.interpolate import interp1d\n",
    "from scipy.stats import mannwhitneyu, ttest_ind\n",
    "\n",
    "from sklearn.svm import OneClassSVM\n",
    "from sklearn.neighbors import LocalOutlierFactor\n",
    "from sklearn.ensemble import IsolationForest\n",
    "from sklearn.cluster import KMeans, AffinityPropagation\n",
    "from sklearn.metrics import silhouette_samples, silhouette_score\n",
    "from sklearn.model_selection import StratifiedKFold\n",
    "from sklearn.linear_model import LogisticRegression\n",
    "from sklearn.metrics import f1_score"
   ]
  },
  {
   "cell_type": "code",
   "execution_count": 6,
   "id": "residential-familiar",
   "metadata": {},
   "outputs": [],
   "source": [
    "if torch.cuda.is_available():\n",
    "    device = \"cuda:0\""
   ]
  },
  {
   "cell_type": "code",
   "execution_count": 10,
   "id": "discrete-digit",
   "metadata": {},
   "outputs": [],
   "source": [
    "model_dir = '/neurospin/dico/lguillon/distmap/gridsearch_lr5e-4/n_75_kl_2/checkpoint.pt'\n",
    "model = VAE((1, 80, 80, 96), 75, depth=3)\n",
    "model.load_state_dict(torch.load(model_dir))\n",
    "model = model.to(device)"
   ]
  },
  {
   "cell_type": "code",
   "execution_count": 7,
   "id": "relevant-cooperative",
   "metadata": {},
   "outputs": [],
   "source": [
    "data_dir = \"/neurospin/dico/lguillon/distmap/analyses_gridsearch/75_2/\"\n",
    "df_encoded_hcp = pd.read_pickle(os.path.join(data_dir, \"encoded_hcp.pkl\"))"
   ]
  },
  {
   "cell_type": "markdown",
   "id": "statistical-nicaragua",
   "metadata": {},
   "source": [
    "### Loading of deletion benchmark"
   ]
  },
  {
   "cell_type": "code",
   "execution_count": 8,
   "id": "handy-active",
   "metadata": {},
   "outputs": [],
   "source": [
    "data_dir = \"/neurospin/dico/lguillon/distmap/benchmark/deletion\"\n",
    "data_path = \"crops/1mm/SC\""
   ]
  },
  {
   "cell_type": "code",
   "execution_count": 9,
   "id": "golden-employee",
   "metadata": {},
   "outputs": [],
   "source": [
    "distmaps_200 = np.load(os.path.join(data_dir, \"200\", data_path, \"200_benchmark_1mm.npy\"),\n",
    "                   mmap_mode='r')\n",
    "filenames_200 = np.load(os.path.join(data_dir, \"200\", data_path, \"sub_id.npy\"))\n",
    "\n",
    "subset_200 = SkeletonDataset(dataframe=distmaps_200,\n",
    "                         filenames=filenames_200,\n",
    "                         data_transforms=False)\n",
    "loader_200 = torch.utils.data.DataLoader(\n",
    "               subset_200,\n",
    "               batch_size=1,\n",
    "               num_workers=1,\n",
    "               shuffle=False)\n",
    "\n",
    "distmaps_500 = np.load(os.path.join(data_dir, \"500\", data_path, \"500_benchmark_1mm.npy\"),\n",
    "                   mmap_mode='r')\n",
    "filenames_500 = np.load(os.path.join(data_dir, \"500\", data_path, \"sub_id.npy\"))\n",
    "\n",
    "subset_500 = SkeletonDataset(dataframe=distmaps_500,\n",
    "                         filenames=filenames_500,\n",
    "                         data_transforms=False)\n",
    "loader_500 = torch.utils.data.DataLoader(\n",
    "               subset_500,\n",
    "               batch_size=1,\n",
    "               num_workers=1,\n",
    "               shuffle=False)\n",
    "\n",
    "distmaps_700 = np.load(os.path.join(data_dir, \"700\", data_path, \"700_benchmark_1mm.npy\"),\n",
    "                   mmap_mode='r')\n",
    "filenames_700 = np.load(os.path.join(data_dir, \"700\", data_path, \"sub_id.npy\"))\n",
    "\n",
    "subset_700 = SkeletonDataset(dataframe=distmaps_700,\n",
    "                         filenames=filenames_700,\n",
    "                         data_transforms=False)\n",
    "loader_700 = torch.utils.data.DataLoader(\n",
    "               subset_700,\n",
    "               batch_size=1,\n",
    "               num_workers=1,\n",
    "               shuffle=False)\n",
    "\n",
    "distmaps_1000 = np.load(os.path.join(data_dir, \"1000\", data_path, \"1000_benchmark_1mm.npy\"),\n",
    "                   mmap_mode='r')\n",
    "filenames_1000 = np.load(os.path.join(data_dir, \"1000\", data_path, \"sub_id.npy\"))\n",
    "\n",
    "subset_1000 = SkeletonDataset(dataframe=distmaps_1000,\n",
    "                         filenames=filenames_1000,\n",
    "                         data_transforms=False)\n",
    "loader_1000 = torch.utils.data.DataLoader(\n",
    "               subset_1000,\n",
    "               batch_size=1,\n",
    "               num_workers=1,\n",
    "               shuffle=False)"
   ]
  },
  {
   "cell_type": "code",
   "execution_count": 11,
   "id": "judicial-anderson",
   "metadata": {},
   "outputs": [
    {
     "name": "stdout",
     "output_type": "stream",
     "text": [
      "200\n"
     ]
    },
    {
     "ename": "KeyboardInterrupt",
     "evalue": "",
     "output_type": "error",
     "traceback": [
      "\u001b[0;31m---------------------------------------------------------------------------\u001b[0m",
      "\u001b[0;31mKeyboardInterrupt\u001b[0m                         Traceback (most recent call last)",
      "\u001b[0;32m<ipython-input-11-3701d9785d12>\u001b[0m in \u001b[0;36m<module>\u001b[0;34m()\u001b[0m\n\u001b[1;32m      8\u001b[0m                      n_latent=75, depth=3)\n\u001b[1;32m      9\u001b[0m \u001b[0;34m\u001b[0m\u001b[0m\n\u001b[0;32m---> 10\u001b[0;31m \u001b[0mresults_deletion\u001b[0m \u001b[0;34m=\u001b[0m \u001b[0mtester_deletion\u001b[0m\u001b[0;34m.\u001b[0m\u001b[0mtest\u001b[0m\u001b[0;34m(\u001b[0m\u001b[0;34m)\u001b[0m\u001b[0;34m\u001b[0m\u001b[0;34m\u001b[0m\u001b[0m\n\u001b[0m\u001b[1;32m     11\u001b[0m \u001b[0mencoded_deletion\u001b[0m \u001b[0;34m=\u001b[0m \u001b[0;34m{\u001b[0m\u001b[0mloader_name\u001b[0m\u001b[0;34m:\u001b[0m\u001b[0;34m[\u001b[0m\u001b[0mresults_deletion\u001b[0m\u001b[0;34m[\u001b[0m\u001b[0mloader_name\u001b[0m\u001b[0;34m]\u001b[0m\u001b[0;34m[\u001b[0m\u001b[0mk\u001b[0m\u001b[0;34m]\u001b[0m\u001b[0;34m[\u001b[0m\u001b[0;36m1\u001b[0m\u001b[0;34m]\u001b[0m \u001b[0;32mfor\u001b[0m \u001b[0mk\u001b[0m \u001b[0;32min\u001b[0m \u001b[0mresults_deletion\u001b[0m\u001b[0;34m[\u001b[0m\u001b[0mloader_name\u001b[0m\u001b[0;34m]\u001b[0m\u001b[0;34m.\u001b[0m\u001b[0mkeys\u001b[0m\u001b[0;34m(\u001b[0m\u001b[0;34m)\u001b[0m\u001b[0;34m]\u001b[0m \u001b[0;32mfor\u001b[0m \u001b[0mloader_name\u001b[0m \u001b[0;32min\u001b[0m \u001b[0mdico_set_loaders\u001b[0m\u001b[0;34m.\u001b[0m\u001b[0mkeys\u001b[0m\u001b[0;34m(\u001b[0m\u001b[0;34m)\u001b[0m\u001b[0;34m}\u001b[0m\u001b[0;34m\u001b[0m\u001b[0;34m\u001b[0m\u001b[0m\n\u001b[1;32m     12\u001b[0m \u001b[0mlosses_deletion\u001b[0m \u001b[0;34m=\u001b[0m \u001b[0;34m{\u001b[0m\u001b[0mloader_name\u001b[0m\u001b[0;34m:\u001b[0m\u001b[0;34m[\u001b[0m\u001b[0mint\u001b[0m\u001b[0;34m(\u001b[0m\u001b[0mresults_deletion\u001b[0m\u001b[0;34m[\u001b[0m\u001b[0mloader_name\u001b[0m\u001b[0;34m]\u001b[0m\u001b[0;34m[\u001b[0m\u001b[0mk\u001b[0m\u001b[0;34m]\u001b[0m\u001b[0;34m[\u001b[0m\u001b[0;36m0\u001b[0m\u001b[0;34m]\u001b[0m\u001b[0;34m.\u001b[0m\u001b[0mcpu\u001b[0m\u001b[0;34m(\u001b[0m\u001b[0;34m)\u001b[0m\u001b[0;34m.\u001b[0m\u001b[0mdetach\u001b[0m\u001b[0;34m(\u001b[0m\u001b[0;34m)\u001b[0m\u001b[0;34m.\u001b[0m\u001b[0mnumpy\u001b[0m\u001b[0;34m(\u001b[0m\u001b[0;34m)\u001b[0m\u001b[0;34m)\u001b[0m \u001b[0;32mfor\u001b[0m \u001b[0mk\u001b[0m \u001b[0;32min\u001b[0m \u001b[0mresults_deletion\u001b[0m\u001b[0;34m[\u001b[0m\u001b[0mloader_name\u001b[0m\u001b[0;34m]\u001b[0m\u001b[0;34m.\u001b[0m\u001b[0mkeys\u001b[0m\u001b[0;34m(\u001b[0m\u001b[0;34m)\u001b[0m\u001b[0;34m]\u001b[0m \u001b[0;32mfor\u001b[0m \u001b[0mloader_name\u001b[0m \u001b[0;32min\u001b[0m \u001b[0mdico_set_loaders\u001b[0m\u001b[0;34m.\u001b[0m\u001b[0mkeys\u001b[0m\u001b[0;34m(\u001b[0m\u001b[0;34m)\u001b[0m\u001b[0;34m}\u001b[0m\u001b[0;34m\u001b[0m\u001b[0;34m\u001b[0m\u001b[0m\n",
      "\u001b[0;32m/neurospin/dico/lguillon/2022_lguillon_foldInpainting/vae.py\u001b[0m in \u001b[0;36mtest\u001b[0;34m(self)\u001b[0m\n\u001b[1;32m    194\u001b[0m             \u001b[0mself\u001b[0m\u001b[0;34m.\u001b[0m\u001b[0mmodel\u001b[0m\u001b[0;34m.\u001b[0m\u001b[0meval\u001b[0m\u001b[0;34m(\u001b[0m\u001b[0;34m)\u001b[0m\u001b[0;34m\u001b[0m\u001b[0;34m\u001b[0m\u001b[0m\n\u001b[1;32m    195\u001b[0m             \u001b[0;32mwith\u001b[0m \u001b[0mtorch\u001b[0m\u001b[0;34m.\u001b[0m\u001b[0mno_grad\u001b[0m\u001b[0;34m(\u001b[0m\u001b[0;34m)\u001b[0m\u001b[0;34m:\u001b[0m\u001b[0;34m\u001b[0m\u001b[0;34m\u001b[0m\u001b[0m\n\u001b[0;32m--> 196\u001b[0;31m                 \u001b[0;32mfor\u001b[0m \u001b[0mdistmap_masked\u001b[0m\u001b[0;34m,\u001b[0m \u001b[0mdistmap\u001b[0m\u001b[0;34m,\u001b[0m \u001b[0mpath\u001b[0m \u001b[0;32min\u001b[0m \u001b[0mloader\u001b[0m\u001b[0;34m:\u001b[0m\u001b[0;34m\u001b[0m\u001b[0;34m\u001b[0m\u001b[0m\n\u001b[0m\u001b[1;32m    197\u001b[0m                     \u001b[0minputs\u001b[0m \u001b[0;34m=\u001b[0m \u001b[0mVariable\u001b[0m\u001b[0;34m(\u001b[0m\u001b[0mdistmap_masked\u001b[0m\u001b[0;34m)\u001b[0m\u001b[0;34m.\u001b[0m\u001b[0mto\u001b[0m\u001b[0;34m(\u001b[0m\u001b[0mdevice\u001b[0m\u001b[0;34m,\u001b[0m \u001b[0mdtype\u001b[0m\u001b[0;34m=\u001b[0m\u001b[0mtorch\u001b[0m\u001b[0;34m.\u001b[0m\u001b[0mfloat32\u001b[0m\u001b[0;34m)\u001b[0m\u001b[0;34m\u001b[0m\u001b[0;34m\u001b[0m\u001b[0m\n\u001b[1;32m    198\u001b[0m                     \u001b[0mdistmap\u001b[0m \u001b[0;34m=\u001b[0m \u001b[0mVariable\u001b[0m\u001b[0;34m(\u001b[0m\u001b[0mdistmap\u001b[0m\u001b[0;34m)\u001b[0m\u001b[0;34m.\u001b[0m\u001b[0mto\u001b[0m\u001b[0;34m(\u001b[0m\u001b[0mdevice\u001b[0m\u001b[0;34m,\u001b[0m \u001b[0mdtype\u001b[0m\u001b[0;34m=\u001b[0m\u001b[0mtorch\u001b[0m\u001b[0;34m.\u001b[0m\u001b[0mfloat32\u001b[0m\u001b[0;34m)\u001b[0m\u001b[0;34m\u001b[0m\u001b[0;34m\u001b[0m\u001b[0m\n",
      "\u001b[0;32m/casa/home/.local/lib/python3.6/site-packages/torch/utils/data/dataloader.py\u001b[0m in \u001b[0;36m__next__\u001b[0;34m(self)\u001b[0m\n\u001b[1;32m    519\u001b[0m             \u001b[0;32mif\u001b[0m \u001b[0mself\u001b[0m\u001b[0;34m.\u001b[0m\u001b[0m_sampler_iter\u001b[0m \u001b[0;32mis\u001b[0m \u001b[0;32mNone\u001b[0m\u001b[0;34m:\u001b[0m\u001b[0;34m\u001b[0m\u001b[0;34m\u001b[0m\u001b[0m\n\u001b[1;32m    520\u001b[0m                 \u001b[0mself\u001b[0m\u001b[0;34m.\u001b[0m\u001b[0m_reset\u001b[0m\u001b[0;34m(\u001b[0m\u001b[0;34m)\u001b[0m\u001b[0;34m\u001b[0m\u001b[0;34m\u001b[0m\u001b[0m\n\u001b[0;32m--> 521\u001b[0;31m             \u001b[0mdata\u001b[0m \u001b[0;34m=\u001b[0m \u001b[0mself\u001b[0m\u001b[0;34m.\u001b[0m\u001b[0m_next_data\u001b[0m\u001b[0;34m(\u001b[0m\u001b[0;34m)\u001b[0m\u001b[0;34m\u001b[0m\u001b[0;34m\u001b[0m\u001b[0m\n\u001b[0m\u001b[1;32m    522\u001b[0m             \u001b[0mself\u001b[0m\u001b[0;34m.\u001b[0m\u001b[0m_num_yielded\u001b[0m \u001b[0;34m+=\u001b[0m \u001b[0;36m1\u001b[0m\u001b[0;34m\u001b[0m\u001b[0;34m\u001b[0m\u001b[0m\n\u001b[1;32m    523\u001b[0m             \u001b[0;32mif\u001b[0m \u001b[0mself\u001b[0m\u001b[0;34m.\u001b[0m\u001b[0m_dataset_kind\u001b[0m \u001b[0;34m==\u001b[0m \u001b[0m_DatasetKind\u001b[0m\u001b[0;34m.\u001b[0m\u001b[0mIterable\u001b[0m \u001b[0;32mand\u001b[0m\u001b[0;31m \u001b[0m\u001b[0;31m\\\u001b[0m\u001b[0;34m\u001b[0m\u001b[0;34m\u001b[0m\u001b[0m\n",
      "\u001b[0;32m/casa/home/.local/lib/python3.6/site-packages/torch/utils/data/dataloader.py\u001b[0m in \u001b[0;36m_next_data\u001b[0;34m(self)\u001b[0m\n\u001b[1;32m   1184\u001b[0m \u001b[0;34m\u001b[0m\u001b[0m\n\u001b[1;32m   1185\u001b[0m             \u001b[0;32massert\u001b[0m \u001b[0;32mnot\u001b[0m \u001b[0mself\u001b[0m\u001b[0;34m.\u001b[0m\u001b[0m_shutdown\u001b[0m \u001b[0;32mand\u001b[0m \u001b[0mself\u001b[0m\u001b[0;34m.\u001b[0m\u001b[0m_tasks_outstanding\u001b[0m \u001b[0;34m>\u001b[0m \u001b[0;36m0\u001b[0m\u001b[0;34m\u001b[0m\u001b[0;34m\u001b[0m\u001b[0m\n\u001b[0;32m-> 1186\u001b[0;31m             \u001b[0midx\u001b[0m\u001b[0;34m,\u001b[0m \u001b[0mdata\u001b[0m \u001b[0;34m=\u001b[0m \u001b[0mself\u001b[0m\u001b[0;34m.\u001b[0m\u001b[0m_get_data\u001b[0m\u001b[0;34m(\u001b[0m\u001b[0;34m)\u001b[0m\u001b[0;34m\u001b[0m\u001b[0;34m\u001b[0m\u001b[0m\n\u001b[0m\u001b[1;32m   1187\u001b[0m             \u001b[0mself\u001b[0m\u001b[0;34m.\u001b[0m\u001b[0m_tasks_outstanding\u001b[0m \u001b[0;34m-=\u001b[0m \u001b[0;36m1\u001b[0m\u001b[0;34m\u001b[0m\u001b[0;34m\u001b[0m\u001b[0m\n\u001b[1;32m   1188\u001b[0m             \u001b[0;32mif\u001b[0m \u001b[0mself\u001b[0m\u001b[0;34m.\u001b[0m\u001b[0m_dataset_kind\u001b[0m \u001b[0;34m==\u001b[0m \u001b[0m_DatasetKind\u001b[0m\u001b[0;34m.\u001b[0m\u001b[0mIterable\u001b[0m\u001b[0;34m:\u001b[0m\u001b[0;34m\u001b[0m\u001b[0;34m\u001b[0m\u001b[0m\n",
      "\u001b[0;32m/casa/home/.local/lib/python3.6/site-packages/torch/utils/data/dataloader.py\u001b[0m in \u001b[0;36m_get_data\u001b[0;34m(self)\u001b[0m\n\u001b[1;32m   1150\u001b[0m         \u001b[0;32melse\u001b[0m\u001b[0;34m:\u001b[0m\u001b[0;34m\u001b[0m\u001b[0;34m\u001b[0m\u001b[0m\n\u001b[1;32m   1151\u001b[0m             \u001b[0;32mwhile\u001b[0m \u001b[0;32mTrue\u001b[0m\u001b[0;34m:\u001b[0m\u001b[0;34m\u001b[0m\u001b[0;34m\u001b[0m\u001b[0m\n\u001b[0;32m-> 1152\u001b[0;31m                 \u001b[0msuccess\u001b[0m\u001b[0;34m,\u001b[0m \u001b[0mdata\u001b[0m \u001b[0;34m=\u001b[0m \u001b[0mself\u001b[0m\u001b[0;34m.\u001b[0m\u001b[0m_try_get_data\u001b[0m\u001b[0;34m(\u001b[0m\u001b[0;34m)\u001b[0m\u001b[0;34m\u001b[0m\u001b[0;34m\u001b[0m\u001b[0m\n\u001b[0m\u001b[1;32m   1153\u001b[0m                 \u001b[0;32mif\u001b[0m \u001b[0msuccess\u001b[0m\u001b[0;34m:\u001b[0m\u001b[0;34m\u001b[0m\u001b[0;34m\u001b[0m\u001b[0m\n\u001b[1;32m   1154\u001b[0m                     \u001b[0;32mreturn\u001b[0m \u001b[0mdata\u001b[0m\u001b[0;34m\u001b[0m\u001b[0;34m\u001b[0m\u001b[0m\n",
      "\u001b[0;32m/casa/home/.local/lib/python3.6/site-packages/torch/utils/data/dataloader.py\u001b[0m in \u001b[0;36m_try_get_data\u001b[0;34m(self, timeout)\u001b[0m\n\u001b[1;32m    988\u001b[0m         \u001b[0;31m#   (bool: whether successfully get data, any: data if successful else None)\u001b[0m\u001b[0;34m\u001b[0m\u001b[0;34m\u001b[0m\u001b[0;34m\u001b[0m\u001b[0m\n\u001b[1;32m    989\u001b[0m         \u001b[0;32mtry\u001b[0m\u001b[0;34m:\u001b[0m\u001b[0;34m\u001b[0m\u001b[0;34m\u001b[0m\u001b[0m\n\u001b[0;32m--> 990\u001b[0;31m             \u001b[0mdata\u001b[0m \u001b[0;34m=\u001b[0m \u001b[0mself\u001b[0m\u001b[0;34m.\u001b[0m\u001b[0m_data_queue\u001b[0m\u001b[0;34m.\u001b[0m\u001b[0mget\u001b[0m\u001b[0;34m(\u001b[0m\u001b[0mtimeout\u001b[0m\u001b[0;34m=\u001b[0m\u001b[0mtimeout\u001b[0m\u001b[0;34m)\u001b[0m\u001b[0;34m\u001b[0m\u001b[0;34m\u001b[0m\u001b[0m\n\u001b[0m\u001b[1;32m    991\u001b[0m             \u001b[0;32mreturn\u001b[0m \u001b[0;34m(\u001b[0m\u001b[0;32mTrue\u001b[0m\u001b[0;34m,\u001b[0m \u001b[0mdata\u001b[0m\u001b[0;34m)\u001b[0m\u001b[0;34m\u001b[0m\u001b[0;34m\u001b[0m\u001b[0m\n\u001b[1;32m    992\u001b[0m         \u001b[0;32mexcept\u001b[0m \u001b[0mException\u001b[0m \u001b[0;32mas\u001b[0m \u001b[0me\u001b[0m\u001b[0;34m:\u001b[0m\u001b[0;34m\u001b[0m\u001b[0;34m\u001b[0m\u001b[0m\n",
      "\u001b[0;32m/usr/lib/python3.6/multiprocessing/queues.py\u001b[0m in \u001b[0;36mget\u001b[0;34m(self, block, timeout)\u001b[0m\n\u001b[1;32m    102\u001b[0m                 \u001b[0;32mif\u001b[0m \u001b[0mblock\u001b[0m\u001b[0;34m:\u001b[0m\u001b[0;34m\u001b[0m\u001b[0;34m\u001b[0m\u001b[0m\n\u001b[1;32m    103\u001b[0m                     \u001b[0mtimeout\u001b[0m \u001b[0;34m=\u001b[0m \u001b[0mdeadline\u001b[0m \u001b[0;34m-\u001b[0m \u001b[0mtime\u001b[0m\u001b[0;34m.\u001b[0m\u001b[0mmonotonic\u001b[0m\u001b[0;34m(\u001b[0m\u001b[0;34m)\u001b[0m\u001b[0;34m\u001b[0m\u001b[0;34m\u001b[0m\u001b[0m\n\u001b[0;32m--> 104\u001b[0;31m                     \u001b[0;32mif\u001b[0m \u001b[0;32mnot\u001b[0m \u001b[0mself\u001b[0m\u001b[0;34m.\u001b[0m\u001b[0m_poll\u001b[0m\u001b[0;34m(\u001b[0m\u001b[0mtimeout\u001b[0m\u001b[0;34m)\u001b[0m\u001b[0;34m:\u001b[0m\u001b[0;34m\u001b[0m\u001b[0;34m\u001b[0m\u001b[0m\n\u001b[0m\u001b[1;32m    105\u001b[0m                         \u001b[0;32mraise\u001b[0m \u001b[0mEmpty\u001b[0m\u001b[0;34m\u001b[0m\u001b[0;34m\u001b[0m\u001b[0m\n\u001b[1;32m    106\u001b[0m                 \u001b[0;32melif\u001b[0m \u001b[0;32mnot\u001b[0m \u001b[0mself\u001b[0m\u001b[0;34m.\u001b[0m\u001b[0m_poll\u001b[0m\u001b[0;34m(\u001b[0m\u001b[0;34m)\u001b[0m\u001b[0;34m:\u001b[0m\u001b[0;34m\u001b[0m\u001b[0;34m\u001b[0m\u001b[0m\n",
      "\u001b[0;32m/usr/lib/python3.6/multiprocessing/connection.py\u001b[0m in \u001b[0;36mpoll\u001b[0;34m(self, timeout)\u001b[0m\n\u001b[1;32m    255\u001b[0m         \u001b[0mself\u001b[0m\u001b[0;34m.\u001b[0m\u001b[0m_check_closed\u001b[0m\u001b[0;34m(\u001b[0m\u001b[0;34m)\u001b[0m\u001b[0;34m\u001b[0m\u001b[0;34m\u001b[0m\u001b[0m\n\u001b[1;32m    256\u001b[0m         \u001b[0mself\u001b[0m\u001b[0;34m.\u001b[0m\u001b[0m_check_readable\u001b[0m\u001b[0;34m(\u001b[0m\u001b[0;34m)\u001b[0m\u001b[0;34m\u001b[0m\u001b[0;34m\u001b[0m\u001b[0m\n\u001b[0;32m--> 257\u001b[0;31m         \u001b[0;32mreturn\u001b[0m \u001b[0mself\u001b[0m\u001b[0;34m.\u001b[0m\u001b[0m_poll\u001b[0m\u001b[0;34m(\u001b[0m\u001b[0mtimeout\u001b[0m\u001b[0;34m)\u001b[0m\u001b[0;34m\u001b[0m\u001b[0;34m\u001b[0m\u001b[0m\n\u001b[0m\u001b[1;32m    258\u001b[0m \u001b[0;34m\u001b[0m\u001b[0m\n\u001b[1;32m    259\u001b[0m     \u001b[0;32mdef\u001b[0m \u001b[0m__enter__\u001b[0m\u001b[0;34m(\u001b[0m\u001b[0mself\u001b[0m\u001b[0;34m)\u001b[0m\u001b[0;34m:\u001b[0m\u001b[0;34m\u001b[0m\u001b[0;34m\u001b[0m\u001b[0m\n",
      "\u001b[0;32m/usr/lib/python3.6/multiprocessing/connection.py\u001b[0m in \u001b[0;36m_poll\u001b[0;34m(self, timeout)\u001b[0m\n\u001b[1;32m    412\u001b[0m \u001b[0;34m\u001b[0m\u001b[0m\n\u001b[1;32m    413\u001b[0m     \u001b[0;32mdef\u001b[0m \u001b[0m_poll\u001b[0m\u001b[0;34m(\u001b[0m\u001b[0mself\u001b[0m\u001b[0;34m,\u001b[0m \u001b[0mtimeout\u001b[0m\u001b[0;34m)\u001b[0m\u001b[0;34m:\u001b[0m\u001b[0;34m\u001b[0m\u001b[0;34m\u001b[0m\u001b[0m\n\u001b[0;32m--> 414\u001b[0;31m         \u001b[0mr\u001b[0m \u001b[0;34m=\u001b[0m \u001b[0mwait\u001b[0m\u001b[0;34m(\u001b[0m\u001b[0;34m[\u001b[0m\u001b[0mself\u001b[0m\u001b[0;34m]\u001b[0m\u001b[0;34m,\u001b[0m \u001b[0mtimeout\u001b[0m\u001b[0;34m)\u001b[0m\u001b[0;34m\u001b[0m\u001b[0;34m\u001b[0m\u001b[0m\n\u001b[0m\u001b[1;32m    415\u001b[0m         \u001b[0;32mreturn\u001b[0m \u001b[0mbool\u001b[0m\u001b[0;34m(\u001b[0m\u001b[0mr\u001b[0m\u001b[0;34m)\u001b[0m\u001b[0;34m\u001b[0m\u001b[0;34m\u001b[0m\u001b[0m\n\u001b[1;32m    416\u001b[0m \u001b[0;34m\u001b[0m\u001b[0m\n",
      "\u001b[0;32m/usr/lib/python3.6/multiprocessing/connection.py\u001b[0m in \u001b[0;36mwait\u001b[0;34m(object_list, timeout)\u001b[0m\n\u001b[1;32m    909\u001b[0m \u001b[0;34m\u001b[0m\u001b[0m\n\u001b[1;32m    910\u001b[0m             \u001b[0;32mwhile\u001b[0m \u001b[0;32mTrue\u001b[0m\u001b[0;34m:\u001b[0m\u001b[0;34m\u001b[0m\u001b[0;34m\u001b[0m\u001b[0m\n\u001b[0;32m--> 911\u001b[0;31m                 \u001b[0mready\u001b[0m \u001b[0;34m=\u001b[0m \u001b[0mselector\u001b[0m\u001b[0;34m.\u001b[0m\u001b[0mselect\u001b[0m\u001b[0;34m(\u001b[0m\u001b[0mtimeout\u001b[0m\u001b[0;34m)\u001b[0m\u001b[0;34m\u001b[0m\u001b[0;34m\u001b[0m\u001b[0m\n\u001b[0m\u001b[1;32m    912\u001b[0m                 \u001b[0;32mif\u001b[0m \u001b[0mready\u001b[0m\u001b[0;34m:\u001b[0m\u001b[0;34m\u001b[0m\u001b[0;34m\u001b[0m\u001b[0m\n\u001b[1;32m    913\u001b[0m                     \u001b[0;32mreturn\u001b[0m \u001b[0;34m[\u001b[0m\u001b[0mkey\u001b[0m\u001b[0;34m.\u001b[0m\u001b[0mfileobj\u001b[0m \u001b[0;32mfor\u001b[0m \u001b[0;34m(\u001b[0m\u001b[0mkey\u001b[0m\u001b[0;34m,\u001b[0m \u001b[0mevents\u001b[0m\u001b[0;34m)\u001b[0m \u001b[0;32min\u001b[0m \u001b[0mready\u001b[0m\u001b[0;34m]\u001b[0m\u001b[0;34m\u001b[0m\u001b[0;34m\u001b[0m\u001b[0m\n",
      "\u001b[0;32m/usr/lib/python3.6/selectors.py\u001b[0m in \u001b[0;36mselect\u001b[0;34m(self, timeout)\u001b[0m\n\u001b[1;32m    374\u001b[0m             \u001b[0mready\u001b[0m \u001b[0;34m=\u001b[0m \u001b[0;34m[\u001b[0m\u001b[0;34m]\u001b[0m\u001b[0;34m\u001b[0m\u001b[0;34m\u001b[0m\u001b[0m\n\u001b[1;32m    375\u001b[0m             \u001b[0;32mtry\u001b[0m\u001b[0;34m:\u001b[0m\u001b[0;34m\u001b[0m\u001b[0;34m\u001b[0m\u001b[0m\n\u001b[0;32m--> 376\u001b[0;31m                 \u001b[0mfd_event_list\u001b[0m \u001b[0;34m=\u001b[0m \u001b[0mself\u001b[0m\u001b[0;34m.\u001b[0m\u001b[0m_poll\u001b[0m\u001b[0;34m.\u001b[0m\u001b[0mpoll\u001b[0m\u001b[0;34m(\u001b[0m\u001b[0mtimeout\u001b[0m\u001b[0;34m)\u001b[0m\u001b[0;34m\u001b[0m\u001b[0;34m\u001b[0m\u001b[0m\n\u001b[0m\u001b[1;32m    377\u001b[0m             \u001b[0;32mexcept\u001b[0m \u001b[0mInterruptedError\u001b[0m\u001b[0;34m:\u001b[0m\u001b[0;34m\u001b[0m\u001b[0;34m\u001b[0m\u001b[0m\n\u001b[1;32m    378\u001b[0m                 \u001b[0;32mreturn\u001b[0m \u001b[0mready\u001b[0m\u001b[0;34m\u001b[0m\u001b[0;34m\u001b[0m\u001b[0m\n",
      "\u001b[0;31mKeyboardInterrupt\u001b[0m: "
     ]
    }
   ],
   "source": [
    "dico_set_loaders = {'200': loader_200, '500': loader_500, '700': loader_700, '1000': loader_1000}\n",
    "\n",
    "root_dir = '/neurospin/dico/lguillon/distmap/benchmark/results/'\n",
    "\n",
    "criterion = nn.MSELoss(reduction='sum')\n",
    "tester_deletion = ModelTester(model=model, dico_set_loaders=dico_set_loaders,\n",
    "                     loss_func=criterion, kl_weight=2,\n",
    "                     n_latent=75, depth=3)\n",
    "\n",
    "results_deletion = tester_deletion.test()\n",
    "encoded_deletion = {loader_name:[results_deletion[loader_name][k][1] for k in results_deletion[loader_name].keys()] for loader_name in dico_set_loaders.keys()}\n",
    "losses_deletion = {loader_name:[int(results_deletion[loader_name][k][0].cpu().detach().numpy()) for k in results_deletion[loader_name].keys()] for loader_name in dico_set_loaders.keys()}\n",
    "recon_deletion = {loader_name:[int(results_deletion[loader_name][k][2].cpu().detach().numpy()) for k in results_deletion[loader_name].keys()] for loader_name in dico_set_loaders.keys()}\n",
    "input_deletion = {loader_name:[results_deletion[loader_name][k][3].cpu().detach().numpy() for k in results_deletion[loader_name].keys()] for loader_name in dico_set_loaders.keys()}"
   ]
  },
  {
   "cell_type": "code",
   "execution_count": null,
   "id": "blank-marsh",
   "metadata": {},
   "outputs": [],
   "source": [
    "df_encoded_deletion = pd.DataFrame()\n",
    "df_encoded_deletion['latent'] = encoded_deletion['200'] +encoded_deletion['500']+ encoded_deletion['700'] +encoded_deletion['1000']  \n",
    "df_encoded_deletion['loss'] = losses_deletion['200'] + losses_deletion['500'] + losses_deletion['700'] + losses_deletion['1000'] \n",
    "df_encoded_deletion['recon'] = recon_deletion['200'] + recon_deletion['500'] +recon_deletion['700'] + recon_deletion['1000']  \n",
    "df_encoded_deletion['input'] = input_deletion['200'] + input_deletion['500'] + input_deletion['700'] + input_deletion['1000']\n",
    "df_encoded_deletion['sub'] = list(filenames_200) + list(filenames_500) + list(filenames_700) + list(filenames_1000)"
   ]
  },
  {
   "cell_type": "code",
   "execution_count": null,
   "id": "municipal-albert",
   "metadata": {
    "scrolled": true
   },
   "outputs": [],
   "source": [
    "deletion_200 = pd.DataFrame()\n",
    "deletion_200['latent'] = encoded_deletion['200']\n",
    "deletion_200['loss'] = losses_deletion['200']  \n",
    "deletion_200['recon'] = recon_deletion['200']   \n",
    "deletion_200['input'] = input_deletion['200'] \n",
    "deletion_200['sub'] = list(filenames_200) "
   ]
  },
  {
   "cell_type": "code",
   "execution_count": null,
   "id": "fifth-canvas",
   "metadata": {},
   "outputs": [],
   "source": [
    "deletion_500 = pd.DataFrame()\n",
    "deletion_500['latent'] = encoded_deletion['500']  \n",
    "deletion_500['loss'] = losses_deletion['500'] \n",
    "deletion_500['recon'] = recon_deletion['500']  \n",
    "deletion_500['input'] = input_deletion['500']\n",
    "deletion_500['sub'] = list(filenames_500)\n",
    "\n",
    "deletion_700 = pd.DataFrame()\n",
    "deletion_700['latent'] = encoded_deletion['700']  \n",
    "deletion_700['loss'] = losses_deletion['700'] \n",
    "deletion_700['recon'] = recon_deletion['700']  \n",
    "deletion_700['input'] = input_deletion['700']\n",
    "deletion_700['sub'] = list(filenames_700)\n",
    "\n",
    "deletion_1000 = pd.DataFrame()\n",
    "deletion_1000['latent'] = encoded_deletion['1000']  \n",
    "deletion_1000['loss'] = losses_deletion['1000'] \n",
    "deletion_1000['recon'] = recon_deletion['1000']  \n",
    "deletion_1000['input'] = input_deletion['1000']\n",
    "deletion_1000['sub'] = list(filenames_1000)"
   ]
  },
  {
   "cell_type": "code",
   "execution_count": null,
   "id": "remarkable-lender",
   "metadata": {},
   "outputs": [],
   "source": [
    "df_200_500 = pd.merge(deletion_200, deletion_500, how='inner', on='sub')\n",
    "df_700_1000 = pd.merge(deletion_700, deletion_1000, how='inner', on='sub')\n",
    "deletion_all = pd.merge(df_200_500, df_700_1000, how='inner', on='sub')"
   ]
  },
  {
   "cell_type": "code",
   "execution_count": null,
   "id": "agricultural-logistics",
   "metadata": {
    "scrolled": true
   },
   "outputs": [],
   "source": [
    "len(deletion_all)"
   ]
  },
  {
   "cell_type": "code",
   "execution_count": null,
   "id": "continued-april",
   "metadata": {},
   "outputs": [],
   "source": [
    "deletion_all['sub']"
   ]
  },
  {
   "cell_type": "markdown",
   "id": "optional-chrome",
   "metadata": {},
   "source": [
    "### Benchmark 200"
   ]
  },
  {
   "cell_type": "code",
   "execution_count": 181,
   "id": "medium-punishment",
   "metadata": {},
   "outputs": [],
   "source": [
    "random_ctrl = random.sample(list(df_encoded_hcp['sub'][:200]), 100)"
   ]
  },
  {
   "cell_type": "code",
   "execution_count": 182,
   "id": "hidden-alabama",
   "metadata": {
    "scrolled": true
   },
   "outputs": [],
   "source": [
    "random_deletion = list(set(list(deletion_200['sub'].astype(int))) - set(random_ctrl))"
   ]
  },
  {
   "cell_type": "code",
   "execution_count": 183,
   "id": "controversial-anger",
   "metadata": {
    "scrolled": true
   },
   "outputs": [],
   "source": [
    "df_encoded_200_X = deletion_200[deletion_200['sub'].astype(int).isin(random_deletion)]\n",
    "df_encoded_hcp_X = df_encoded_hcp[df_encoded_hcp['sub'].isin(random_ctrl)]"
   ]
  },
  {
   "cell_type": "code",
   "execution_count": 186,
   "id": "decent-tuning",
   "metadata": {},
   "outputs": [],
   "source": [
    "X_200 = np.array(list(df_encoded_200_X['latent']))\n",
    "X_hcp = np.array(list(df_encoded_hcp_X['latent']))\n",
    "X_all = np.array(list(df_encoded_hcp_X['latent']) + list(df_encoded_200_X['latent']))\n",
    "\n",
    "from sklearn.manifold import TSNE\n",
    "X_embedded_200 = TSNE(n_components=2).fit_transform(X_all)\n",
    "labels_200 = np.array(list(df_encoded_hcp_X['Group']) + ['200' for k in range(len(df_encoded_200_X))])"
   ]
  },
  {
   "cell_type": "code",
   "execution_count": 187,
   "id": "utility-gregory",
   "metadata": {},
   "outputs": [
    {
     "data": {
      "image/png": "[encoded data removed]",
      "text/plain": [
       "<Figure size 432x288 with 1 Axes>"
      ]
     },
     "metadata": {
      "needs_background": "light"
     },
     "output_type": "display_data"
    }
   ],
   "source": [
    "arr = X_embedded_200\n",
    "color_dict = {'hcp':'mediumseagreen', '200': 'red'}\n",
    "\n",
    "fig = plt.figure()\n",
    "ax = fig.subplots()\n",
    "\n",
    "for g in np.unique(labels_200):\n",
    "    ix = np.where(labels_200 == g)\n",
    "    x = [arr[ix][k][0] for k in range(len(ix[0]))]\n",
    "    y = [arr[ix][k][1] for k in range(len(ix[0]))]\n",
    "    g_lab= f\"{g}\"\n",
    "    ax.scatter(x, y, c = color_dict[g], label = g_lab)\n",
    "    \n",
    "plt.legend(bbox_to_anchor=(1.04,1), borderaxespad=0)\n",
    "\n",
    "plt.xlabel(f'tSNE dimension 1', fontsize=14)\n",
    "plt.ylabel(f'tSNE dimension 2', fontsize=14)\n",
    "plt.show()"
   ]
  },
  {
   "cell_type": "markdown",
   "id": "civic-warner",
   "metadata": {},
   "source": [
    "### Benchmark 500"
   ]
  },
  {
   "cell_type": "code",
   "execution_count": 178,
   "id": "progressive-berlin",
   "metadata": {},
   "outputs": [],
   "source": [
    "df_encoded_500_X = deletion_500\n",
    "\n",
    "list_ctrl = list(set(list(df_encoded_hcp['sub'])) - set(list(deletion_500['sub'].astype(int))))\n",
    "df_encoded_hcp_X = df_encoded_hcp[df_encoded_hcp['sub'].isin(random_ctrl)]"
   ]
  },
  {
   "cell_type": "code",
   "execution_count": 179,
   "id": "banner-western",
   "metadata": {},
   "outputs": [],
   "source": [
    "X_500 = np.array(list(df_encoded_500_X['latent']))\n",
    "X_hcp = np.array(list(df_encoded_hcp_X['latent']))\n",
    "X_all = np.array(list(df_encoded_hcp_X['latent']) + list(df_encoded_500_X['latent']))\n",
    "\n",
    "X_embedded_500 = TSNE(n_components=2).fit_transform(X_all)\n",
    "labels_500 = np.array(list(df_encoded_hcp_X['Group']) + ['500' for k in range(len(df_encoded_500_X))])"
   ]
  },
  {
   "cell_type": "code",
   "execution_count": 180,
   "id": "satisfied-volleyball",
   "metadata": {},
   "outputs": [
    {
     "data": {
      "image/png": "[encoded data removed]",
      "text/plain": [
       "<Figure size 432x288 with 1 Axes>"
      ]
     },
     "metadata": {
      "needs_background": "light"
     },
     "output_type": "display_data"
    }
   ],
   "source": [
    "arr = X_embedded_500\n",
    "color_dict = {'hcp':'mediumseagreen', '500': 'red'}\n",
    "\n",
    "fig = plt.figure()\n",
    "ax = fig.subplots()\n",
    "\n",
    "for g in np.unique(labels_500):\n",
    "    ix = np.where(labels_500 == g)\n",
    "    x = [arr[ix][k][0] for k in range(len(ix[0]))]\n",
    "    y = [arr[ix][k][1] for k in range(len(ix[0]))]\n",
    "    g_lab= f\"{g}\"\n",
    "    ax.scatter(x, y, c = color_dict[g], label = g_lab)\n",
    "    \n",
    "plt.legend(bbox_to_anchor=(1.04,1), borderaxespad=0)\n",
    "\n",
    "plt.xlabel(f'tSNE dimension 1', fontsize=14)\n",
    "plt.ylabel(f'tSNE dimension 2', fontsize=14)\n",
    "plt.show()"
   ]
  },
  {
   "cell_type": "markdown",
   "id": "attached-simulation",
   "metadata": {},
   "source": [
    "### Benchmark 700"
   ]
  },
  {
   "cell_type": "code",
   "execution_count": 167,
   "id": "ordered-chocolate",
   "metadata": {},
   "outputs": [],
   "source": [
    "list_encoded_700 = random.sample(list(deletion_700['sub']), 100)\n",
    "df_encoded_700_X = deletion_700[deletion_700['sub'].astype(int).isin(list_encoded_700)]\n",
    "\n",
    "list_ctrl = list(set(list(df_encoded_hcp['sub'][:200])) - set(list(df_encoded_700_X['sub'].astype(int))))\n",
    "df_encoded_hcp_X = df_encoded_hcp[df_encoded_hcp['sub'].isin(list_ctrl)]"
   ]
  },
  {
   "cell_type": "code",
   "execution_count": 174,
   "id": "silent-fiber",
   "metadata": {},
   "outputs": [],
   "source": [
    "X_700 = np.array(list(df_encoded_700_X['latent']))\n",
    "X_hcp = np.array(list(df_encoded_hcp_X['latent']))\n",
    "X_all = np.array(list(df_encoded_hcp_X['latent']) + list(df_encoded_700_X['latent']))\n",
    "\n",
    "X_embedded_700 = TSNE(n_components=2).fit_transform(X_all)\n",
    "labels_700 = np.array(list(df_encoded_hcp_X['Group']) + ['700' for k in range(len(df_encoded_700_X))])"
   ]
  },
  {
   "cell_type": "code",
   "execution_count": 175,
   "id": "seven-rabbit",
   "metadata": {},
   "outputs": [
    {
     "data": {
      "image/png": "[encoded data removed]",
      "text/plain": [
       "<Figure size 432x288 with 1 Axes>"
      ]
     },
     "metadata": {
      "needs_background": "light"
     },
     "output_type": "display_data"
    }
   ],
   "source": [
    "arr = X_embedded_700\n",
    "color_dict = {'hcp':'mediumseagreen', '700': 'red'}\n",
    "\n",
    "fig = plt.figure()\n",
    "ax = fig.subplots()\n",
    "\n",
    "for g in np.unique(labels_700):\n",
    "    ix = np.where(labels_700 == g)\n",
    "    x = [arr[ix][k][0] for k in range(len(ix[0]))]\n",
    "    y = [arr[ix][k][1] for k in range(len(ix[0]))]\n",
    "    g_lab= f\"{g}\"\n",
    "    ax.scatter(x, y, c = color_dict[g], label = g_lab)\n",
    "    \n",
    "plt.legend(bbox_to_anchor=(1.04,1), borderaxespad=0)\n",
    "\n",
    "plt.xlabel(f'tSNE dimension 1', fontsize=14)\n",
    "plt.ylabel(f'tSNE dimension 2', fontsize=14)\n",
    "plt.show()"
   ]
  },
  {
   "cell_type": "markdown",
   "id": "minimal-compilation",
   "metadata": {},
   "source": [
    "### Benchmark 1000"
   ]
  },
  {
   "cell_type": "code",
   "execution_count": 158,
   "id": "brazilian-crawford",
   "metadata": {},
   "outputs": [],
   "source": [
    "list_encoded_1000 = random.sample(list(deletion_1000['sub']), 100)\n",
    "df_encoded_1000_X = deletion_1000[deletion_1000['sub'].astype(int).isin(list_encoded_1000)]\n",
    "\n",
    "list_ctrl = list(set(list(df_encoded_hcp['sub'][:200])) - set(list(df_encoded_1000_X['sub'].astype(int))))\n",
    "df_encoded_hcp_X = df_encoded_hcp[df_encoded_hcp['sub'].isin(list_ctrl)]"
   ]
  },
  {
   "cell_type": "code",
   "execution_count": 165,
   "id": "beginning-resident",
   "metadata": {},
   "outputs": [],
   "source": [
    "X_1000 = np.array(list(df_encoded_1000_X['latent']))\n",
    "X_hcp = np.array(list(df_encoded_hcp_X['latent']))\n",
    "X_all = np.array(list(df_encoded_hcp_X['latent']) + list(df_encoded_1000_X['latent']))\n",
    "\n",
    "X_embedded_1000 = TSNE(n_components=2, perplexity=15).fit_transform(X_all)\n",
    "labels_1000 = np.array(list(df_encoded_hcp_X['Group']) + ['1000' for k in range(len(df_encoded_1000_X))])"
   ]
  },
  {
   "cell_type": "code",
   "execution_count": 166,
   "id": "innocent-essence",
   "metadata": {},
   "outputs": [
    {
     "data": {
      "image/png": "[encoded data removed]",
      "text/plain": [
       "<Figure size 432x288 with 1 Axes>"
      ]
     },
     "metadata": {
      "needs_background": "light"
     },
     "output_type": "display_data"
    }
   ],
   "source": [
    "arr = X_embedded_1000\n",
    "color_dict = {'hcp':'mediumseagreen', '1000': 'red'}\n",
    "\n",
    "fig = plt.figure()\n",
    "ax = fig.subplots()\n",
    "\n",
    "for g in np.unique(labels_1000):\n",
    "    ix = np.where(labels_1000 == g)\n",
    "    x = [arr[ix][k][0] for k in range(len(ix[0]))]\n",
    "    y = [arr[ix][k][1] for k in range(len(ix[0]))]\n",
    "    g_lab= f\"{g}\"\n",
    "    ax.scatter(x, y, c = color_dict[g], label = g_lab)\n",
    "    \n",
    "plt.legend(bbox_to_anchor=(1.04,1), borderaxespad=0)\n",
    "\n",
    "plt.xlabel(f'tSNE dimension 1', fontsize=14)\n",
    "plt.ylabel(f'tSNE dimension 2', fontsize=14)\n",
    "plt.show()"
   ]
  },
  {
   "cell_type": "code",
   "execution_count": null,
   "id": "respected-month",
   "metadata": {},
   "outputs": [],
   "source": []
  },
  {
   "cell_type": "code",
   "execution_count": 157,
   "id": "convertible-freight",
   "metadata": {
    "scrolled": true
   },
   "outputs": [
    {
     "data": {
      "text/plain": [
       "100"
      ]
     },
     "execution_count": 157,
     "metadata": {},
     "output_type": "execute_result"
    }
   ],
   "source": [
    "len(df_encoded_hcp_X['sub'])"
   ]
  },
  {
   "cell_type": "code",
   "execution_count": 56,
   "id": "smoking-wesley",
   "metadata": {},
   "outputs": [
    {
     "data": {
      "text/plain": [
       "714"
      ]
     },
     "execution_count": 56,
     "metadata": {},
     "output_type": "execute_result"
    }
   ],
   "source": [
    "len(list(df_encoded_hcp['sub'].astype(str)) + list(filenames_200) + list(filenames_500) + list(filenames_700) + list(filenames_1000))"
   ]
  },
  {
   "cell_type": "code",
   "execution_count": 20,
   "id": "japanese-cookbook",
   "metadata": {},
   "outputs": [],
   "source": [
    "X_200 = np.array(list(df_encoded_200['latent']))\n",
    "X_hcp = np.array(list(df_encoded_hcp['latent']))\n",
    "X_all = np.array(list(df_encoded_200['latent']) + list(df_encoded_hcp['latent']))\n",
    "\n",
    "from sklearn.manifold import TSNE\n",
    "X_embedded_200 = TSNE(n_components=2, random_state=12, perplexity=40).fit_transform(X_all)"
   ]
  },
  {
   "cell_type": "code",
   "execution_count": 24,
   "id": "continued-individual",
   "metadata": {
    "scrolled": true
   },
   "outputs": [],
   "source": [
    "labels_200 = np.array(list(df_encoded_hcp['Group']) + ['200' for k in range(len(filenames_200))])"
   ]
  },
  {
   "cell_type": "code",
   "execution_count": 27,
   "id": "crude-sending",
   "metadata": {},
   "outputs": [
    {
     "ename": "KeyError",
     "evalue": "'scint'",
     "output_type": "error",
     "traceback": [
      "\u001b[0;31m---------------------------------------------------------------------------\u001b[0m",
      "\u001b[0;31mKeyError\u001b[0m                                  Traceback (most recent call last)",
      "\u001b[0;32m<ipython-input-27-05af62af3a43>\u001b[0m in \u001b[0;36m<module>\u001b[0;34m()\u001b[0m\n\u001b[1;32m     10\u001b[0m     \u001b[0my\u001b[0m \u001b[0;34m=\u001b[0m \u001b[0;34m[\u001b[0m\u001b[0marr\u001b[0m\u001b[0;34m[\u001b[0m\u001b[0mix\u001b[0m\u001b[0;34m]\u001b[0m\u001b[0;34m[\u001b[0m\u001b[0mk\u001b[0m\u001b[0;34m]\u001b[0m\u001b[0;34m[\u001b[0m\u001b[0;36m1\u001b[0m\u001b[0;34m]\u001b[0m \u001b[0;32mfor\u001b[0m \u001b[0mk\u001b[0m \u001b[0;32min\u001b[0m \u001b[0mrange\u001b[0m\u001b[0;34m(\u001b[0m\u001b[0mlen\u001b[0m\u001b[0;34m(\u001b[0m\u001b[0mix\u001b[0m\u001b[0;34m[\u001b[0m\u001b[0;36m0\u001b[0m\u001b[0;34m]\u001b[0m\u001b[0;34m)\u001b[0m\u001b[0;34m)\u001b[0m\u001b[0;34m]\u001b[0m\u001b[0;34m\u001b[0m\u001b[0;34m\u001b[0m\u001b[0m\n\u001b[1;32m     11\u001b[0m     \u001b[0mg_lab\u001b[0m\u001b[0;34m=\u001b[0m \u001b[0;34mf\"{g}\"\u001b[0m\u001b[0;34m\u001b[0m\u001b[0;34m\u001b[0m\u001b[0m\n\u001b[0;32m---> 12\u001b[0;31m     \u001b[0max\u001b[0m\u001b[0;34m.\u001b[0m\u001b[0mscatter\u001b[0m\u001b[0;34m(\u001b[0m\u001b[0mx\u001b[0m\u001b[0;34m,\u001b[0m \u001b[0my\u001b[0m\u001b[0;34m,\u001b[0m \u001b[0mc\u001b[0m \u001b[0;34m=\u001b[0m \u001b[0mcolor_dict\u001b[0m\u001b[0;34m[\u001b[0m\u001b[0mg\u001b[0m\u001b[0;34m]\u001b[0m\u001b[0;34m,\u001b[0m \u001b[0mlabel\u001b[0m \u001b[0;34m=\u001b[0m \u001b[0mg_lab\u001b[0m\u001b[0;34m)\u001b[0m\u001b[0;34m\u001b[0m\u001b[0;34m\u001b[0m\u001b[0m\n\u001b[0m\u001b[1;32m     13\u001b[0m \u001b[0;34m\u001b[0m\u001b[0m\n\u001b[1;32m     14\u001b[0m \u001b[0;32mfor\u001b[0m \u001b[0mi\u001b[0m\u001b[0;34m,\u001b[0m \u001b[0mtxt\u001b[0m \u001b[0;32min\u001b[0m \u001b[0menumerate\u001b[0m\u001b[0;34m(\u001b[0m\u001b[0msubjects_name_hcp\u001b[0m\u001b[0;34m)\u001b[0m\u001b[0;34m:\u001b[0m\u001b[0;34m\u001b[0m\u001b[0;34m\u001b[0m\u001b[0m\n",
      "\u001b[0;31mKeyError\u001b[0m: 'scint'"
     ]
    },
    {
     "data": {
      "image/png": "[encoded data removed]",
      "text/plain": [
       "<Figure size 432x288 with 1 Axes>"
      ]
     },
     "metadata": {
      "needs_background": "light"
     },
     "output_type": "display_data"
    }
   ],
   "source": [
    "arr = X_embedded_200\n",
    "color_dict = {'hcp':'mediumseagreen', '200': 'red'}\n",
    "\n",
    "fig = plt.figure()\n",
    "ax = fig.subplots()\n",
    "\n",
    "for g in np.unique(labels_200):\n",
    "    ix = np.where(labels_200 == g)\n",
    "    x = [arr[ix][k][0] for k in range(len(ix[0]))]\n",
    "    y = [arr[ix][k][1] for k in range(len(ix[0]))]\n",
    "    g_lab= f\"{g}\"\n",
    "    ax.scatter(x, y, c = color_dict[g], label = g_lab)\n",
    "    \n",
    "for i, txt in enumerate(subjects_name_hcp):\n",
    "    ax.annotate(txt, (arr[i][0], arr[i][1]))\n",
    "    \n",
    "plt.legend(bbox_to_anchor=(1.04,1), borderaxespad=0)\n",
    "\n",
    "plt.xlabel(f'tSNE dimension 1', fontsize=14)\n",
    "plt.ylabel(f'tSNE dimension 2', fontsize=14)\n",
    "plt.show()"
   ]
  },
  {
   "cell_type": "code",
   "execution_count": 28,
   "id": "champion-balance",
   "metadata": {},
   "outputs": [
    {
     "data": {
      "text/plain": [
       "207"
      ]
     },
     "execution_count": 28,
     "metadata": {},
     "output_type": "execute_result"
    }
   ],
   "source": [
    "len(X_hcp)"
   ]
  },
  {
   "cell_type": "code",
   "execution_count": 36,
   "id": "sound-pension",
   "metadata": {
    "scrolled": true
   },
   "outputs": [
    {
     "data": {
      "text/plain": [
       "180"
      ]
     },
     "execution_count": 36,
     "metadata": {},
     "output_type": "execute_result"
    }
   ],
   "source": [
    "len(filenames_200)"
   ]
  },
  {
   "cell_type": "code",
   "execution_count": 35,
   "id": "offshore-agenda",
   "metadata": {},
   "outputs": [
    {
     "data": {
      "text/plain": [
       "27"
      ]
     },
     "execution_count": 35,
     "metadata": {},
     "output_type": "execute_result"
    }
   ],
   "source": [
    "len(set(list(df_encoded_hcp['sub'].astype(str))) -set(filenames_200))"
   ]
  }
 ],
 "metadata": {
  "kernelspec": {
   "display_name": "Python 3",
   "language": "python",
   "name": "python3"
  },
  "language_info": {
   "codemirror_mode": {
    "name": "ipython",
    "version": 3
   },
   "file_extension": ".py",
   "mimetype": "text/x-python",
   "name": "python",
   "nbconvert_exporter": "python",
   "pygments_lexer": "ipython3",
   "version": "3.6.9"
  }
 },
 "nbformat": 4,
 "nbformat_minor": 5
}
