{
 "cells": [
  {
   "cell_type": "markdown",
   "id": "specific-impact",
   "metadata": {},
   "source": [
    "# Description of SS - benchmarks deletion"
   ]
  },
  {
   "cell_type": "code",
   "execution_count": 1,
   "id": "superb-taste",
   "metadata": {},
   "outputs": [],
   "source": [
    "import os\n",
    "import sys\n",
    "import json\n",
    "import re\n",
    "import pandas as pd\n",
    "from tqdm import tqdm\n",
    "from soma import aims\n",
    "import numpy as np\n",
    "import random\n",
    "\n",
    "# p = os.path.abspath('../')\n",
    "# if p not in sys.path:\n",
    "#     sys.path.append(p)\n",
    "    \n",
    "# q = os.path.abspath('../../')\n",
    "# if q not in sys.path:\n",
    "#     sys.path.append(q)\n",
    "    \n",
    "# from vae import *\n",
    "# from preprocess import SkeletonDataset\n",
    "import matplotlib.pyplot as plt\n",
    "\n",
    "\n",
    "import deep_folding as df\n",
    "from deep_folding.brainvisa.utils.bbox import compute_max_box\n",
    "from deep_folding.brainvisa.utils.sulcus import complete_sulci_name\n",
    "from deep_folding.brainvisa.utils.mask import compute_simple_mask\n",
    "# import matplotlib.cm as cm\n",
    "# import dico_toolbox as dtx\n",
    "# import umap\n",
    "# from scipy.spatial import distance\n",
    "# from scipy.interpolate import interp1d\n",
    "# from scipy.stats import mannwhitneyu, ttest_ind, ks_2samp\n",
    "\n",
    "# from sklearn.svm import OneClassSVM\n",
    "# from sklearn.neighbors import LocalOutlierFactor\n",
    "# from sklearn.ensemble import IsolationForest\n",
    "# from sklearn.cluster import KMeans, AffinityPropagation\n",
    "# from sklearn.metrics import silhouette_samples, silhouette_score\n",
    "# from sklearn.model_selection import StratifiedKFold\n",
    "# from sklearn.linear_model import LogisticRegression\n",
    "# from sklearn.ensemble import GradientBoostingClassifier\n",
    "# from sklearn.metrics import f1_score\n",
    "# from sklearn.model_selection import train_test_split\n",
    "# from sklearn import metrics\n",
    "# from sklearn.svm import SVC\n",
    "# from sklearn.model_selection import GridSearchCV, cross_val_score, KFold\n",
    "# from sklearn.svm import LinearSVC"
   ]
  },
  {
   "cell_type": "code",
   "execution_count": 3,
   "id": "defined-absorption",
   "metadata": {},
   "outputs": [],
   "source": []
  },
  {
   "cell_type": "markdown",
   "id": "hungarian-content",
   "metadata": {},
   "source": [
    "### Simple Surface Size Distribution"
   ]
  },
  {
   "cell_type": "code",
   "execution_count": 2,
   "id": "covered-timing",
   "metadata": {},
   "outputs": [],
   "source": [
    "data_dir = '/neurospin/dico/data/bv_databases/human/hcp/hcp'\n",
    "mask_dir = '/neurospin/dico/data/deep_folding/current/mask/1mm/'\n",
    "_DEFAULT_BBOX_DIR = '/neurospin/dico/data/deep_folding/current/bbox/'"
   ]
  },
  {
   "cell_type": "code",
   "execution_count": 3,
   "id": "portuguese-peter",
   "metadata": {},
   "outputs": [],
   "source": [
    "subjects_list = '/neurospin/dico/lguillon/distmap/data/test_list.csv'\n",
    "subjects_list = pd.read_csv(subjects_list)\n",
    "subjects_list = list(subjects_list['subjects'])"
   ]
  },
  {
   "cell_type": "code",
   "execution_count": 4,
   "id": "further-packet",
   "metadata": {},
   "outputs": [
    {
     "name": "stdout",
     "output_type": "stream",
     "text": [
      "only one sulcus: S.C._right\n"
     ]
    }
   ],
   "source": [
    "side = 'R'\n",
    "sub = '100206'\n",
    "sulci_list = complete_sulci_name(['S.C.'], side)\n",
    "mask, bbmin, bbmax = compute_simple_mask(sulci_list, side, mask_dir)"
   ]
  },
  {
   "cell_type": "code",
   "execution_count": 5,
   "id": "known-straight",
   "metadata": {},
   "outputs": [],
   "source": [
    "path_to_graph = \"t1mri/BL/default_analysis/folds/3.1/deepcnn_auto\"\n",
    "cpt_arg_1 = 't1mri/default_acquisition/default_analysis/folds/3.1/default_session_auto'\n",
    "cpt_arg_2 = '_default_session_auto.arg'\n",
    "voxel_size_out = (1, 1, 1, 1)\n",
    "ss_size = 200"
   ]
  },
  {
   "cell_type": "code",
   "execution_count": 38,
   "id": "furnished-terrain",
   "metadata": {
    "scrolled": true
   },
   "outputs": [
    {
     "name": "stdout",
     "output_type": "stream",
     "text": [
      "F.C.L.p._right 1092\n",
      "201\n",
      "201\n",
      "F.C.L.r.retroC.tr._right 472\n",
      "219\n",
      "219\n",
      "{201: 1, 219: 1}\n",
      "F.I.P.Po.C.inf._right 966\n",
      "477\n",
      "477\n",
      "{201: 1, 219: 1, 477: 1}\n",
      "S.Po.C.sup._right 444\n",
      "326\n",
      "326\n",
      "F.I.P.Po.C.inf._right 556\n",
      "424\n",
      "424\n",
      "F.I.P.Po.C.inf._right 328\n",
      "256\n",
      "256\n",
      "F.I.P.Po.C.inf._right 436\n",
      "322\n",
      "322\n",
      "{201: 1, 219: 1, 477: 1, 326: 1, 424: 1, 256: 1, 322: 1}\n",
      "S.C.sylvian._right 303\n",
      "214\n",
      "214\n"
     ]
    },
    {
     "ename": "KeyboardInterrupt",
     "evalue": "",
     "output_type": "error",
     "traceback": [
      "\u001b[0;31m---------------------------------------------------------------------------\u001b[0m",
      "\u001b[0;31mKeyboardInterrupt\u001b[0m                         Traceback (most recent call last)",
      "\u001b[0;32m<ipython-input-38-f3eb364cef7a>\u001b[0m in \u001b[0;36m<module>\u001b[0;34m()\u001b[0m\n\u001b[1;32m     36\u001b[0m                     \u001b[0marr\u001b[0m\u001b[0;34m[\u001b[0m\u001b[0mi\u001b[0m\u001b[0;34m,\u001b[0m\u001b[0mj\u001b[0m\u001b[0;34m,\u001b[0m\u001b[0mk\u001b[0m\u001b[0;34m,\u001b[0m\u001b[0;36m0\u001b[0m\u001b[0;34m]\u001b[0m \u001b[0;34m=\u001b[0m \u001b[0;36m1\u001b[0m\u001b[0;34m\u001b[0m\u001b[0;34m\u001b[0m\u001b[0m\n\u001b[1;32m     37\u001b[0m                 \u001b[0;31m# Suppression of all voxels out of the mask\u001b[0m\u001b[0;34m\u001b[0m\u001b[0;34m\u001b[0m\u001b[0;34m\u001b[0m\u001b[0m\n\u001b[0;32m---> 38\u001b[0;31m                 \u001b[0marr\u001b[0m\u001b[0;34m[\u001b[0m\u001b[0mnp\u001b[0m\u001b[0;34m.\u001b[0m\u001b[0marray\u001b[0m\u001b[0;34m(\u001b[0m\u001b[0mmask\u001b[0m\u001b[0;34m)\u001b[0m\u001b[0;34m<\u001b[0m\u001b[0;36m1\u001b[0m\u001b[0;34m]\u001b[0m\u001b[0;34m=\u001b[0m\u001b[0;36m0\u001b[0m\u001b[0;34m\u001b[0m\u001b[0;34m\u001b[0m\u001b[0m\n\u001b[0m\u001b[1;32m     39\u001b[0m                 \u001b[0;31m# Selection of the ss if a mininum of voxels remains\u001b[0m\u001b[0;34m\u001b[0m\u001b[0;34m\u001b[0m\u001b[0;34m\u001b[0m\u001b[0m\n\u001b[1;32m     40\u001b[0m                 \u001b[0msize\u001b[0m \u001b[0;34m=\u001b[0m \u001b[0mnp\u001b[0m\u001b[0;34m.\u001b[0m\u001b[0mcount_nonzero\u001b[0m\u001b[0;34m(\u001b[0m\u001b[0marr\u001b[0m\u001b[0;34m>\u001b[0m\u001b[0;36m0\u001b[0m\u001b[0;34m)\u001b[0m\u001b[0;34m\u001b[0m\u001b[0;34m\u001b[0m\u001b[0m\n",
      "\u001b[0;31mKeyboardInterrupt\u001b[0m: "
     ]
    }
   ],
   "source": [
    "histo_size = {}\n",
    "\n",
    "for sub in subjects_list:\n",
    "    graph_file = f\"{data_dir}/{sub}/{path_to_graph}/{side}{sub}_deepcnn_auto.arg\"\n",
    "\n",
    "    if os.path.isdir(os.path.join(data_dir, str(sub) + '/')) and os.path.isfile(graph_file):\n",
    "        # surfaces = dict()\n",
    "\n",
    "        graph = aims.read(graph_file)\n",
    "\n",
    "        g_to_icbm_template = aims.GraphManip.getICBM2009cTemplateTransform(graph)\n",
    "        voxel_size_in = graph['voxel_size'][:3]\n",
    "\n",
    "        for v in graph.vertices():\n",
    "            if 'label' in v:\n",
    "                bck_map = v['aims_ss']\n",
    "\n",
    "                # Creation of a volume in ICBM space where to write voxels\n",
    "                # of the simple surface\n",
    "                hdr = aims.StandardReferentials.icbm2009cTemplateHeader()\n",
    "                resampling_ratio = np.array(hdr['voxel_size']) / voxel_size_out\n",
    "                orig_dim = hdr['volume_dimension']\n",
    "                new_dim = list((resampling_ratio * orig_dim).astype(int))\n",
    "\n",
    "                vol = aims.Volume(new_dim, dtype='S16')\n",
    "                vol.copyHeaderFrom(hdr)\n",
    "                vol.header()['voxel_size'] = voxel_size_out\n",
    "                arr = np.asarray(vol)\n",
    "                # Transformation of SS voxels to ICBM space with voxel_size_out\n",
    "                voxels_icbm = np.asarray(\n",
    "                    [g_to_icbm_template.transform(np.array(voxel) * voxel_size_in)\n",
    "                     for voxel in bck_map[0].keys()])\n",
    "                voxels = np.round(np.array(voxels_icbm) / voxel_size_out[:3]).astype(int)\n",
    "                # Writing of the voxels in the created volume\n",
    "                for i,j,k in voxels:\n",
    "                    arr[i,j,k,0] = 1\n",
    "                # Suppression of all voxels out of the mask\n",
    "                arr[np.array(mask)<1]=0\n",
    "                # Selection of the ss if a mininum of voxels remains\n",
    "                size = np.count_nonzero(arr>0)\n",
    "                if np.count_nonzero(arr>0)>ss_size and np.count_nonzero(arr>0)<500:\n",
    "                    print(v['label'], bck_map[0].size())\n",
    "                    print(np.count_nonzero(arr == 1))\n",
    "                    print(np.count_nonzero(arr>0))\n",
    "                    # surfaces[len(surfaces)] = v\n",
    "                    if size in histo_size.keys():\n",
    "                        histo_size[size] += 1\n",
    "                    else: \n",
    "                         histo_size[size] = 1\n",
    "    print(histo_size)"
   ]
  },
  {
   "cell_type": "code",
   "execution_count": 40,
   "id": "compliant-heaven",
   "metadata": {},
   "outputs": [
    {
     "name": "stderr",
     "output_type": "stream",
     "text": [
      "100%|██████████| 200/200 [1:50:51<00:00, 33.26s/it]\n"
     ]
    }
   ],
   "source": [
    "histo_size = {}\n",
    "\n",
    "for sub in tqdm(subjects_list):\n",
    "    graph_file = f\"{data_dir}/{sub}/{path_to_graph}/{side}{sub}_deepcnn_auto.arg\"\n",
    "\n",
    "    if os.path.isdir(os.path.join(data_dir, str(sub) + '/')) and os.path.isfile(graph_file):\n",
    "        # surfaces = dict()\n",
    "\n",
    "        graph = aims.read(graph_file)\n",
    "\n",
    "        g_to_icbm_template = aims.GraphManip.getICBM2009cTemplateTransform(graph)\n",
    "        voxel_size_in = graph['voxel_size'][:3]\n",
    "\n",
    "        for v in graph.vertices():\n",
    "            if 'label' in v:\n",
    "                bck_map = v['aims_ss']\n",
    "\n",
    "                # Creation of a volume in ICBM space where to write voxels\n",
    "                # of the simple surface\n",
    "                hdr = aims.StandardReferentials.icbm2009cTemplateHeader()\n",
    "                resampling_ratio = np.array(hdr['voxel_size']) / voxel_size_out\n",
    "                orig_dim = hdr['volume_dimension']\n",
    "                new_dim = list((resampling_ratio * orig_dim).astype(int))\n",
    "\n",
    "                vol = aims.Volume(new_dim, dtype='S16')\n",
    "                vol.copyHeaderFrom(hdr)\n",
    "                vol.header()['voxel_size'] = voxel_size_out\n",
    "                arr = np.asarray(vol)\n",
    "                # Transformation of SS voxels to ICBM space with voxel_size_out\n",
    "                voxels_icbm = np.asarray(\n",
    "                    [g_to_icbm_template.transform(np.array(voxel) * voxel_size_in)\n",
    "                     for voxel in bck_map[0].keys()])\n",
    "                voxels = np.round(np.array(voxels_icbm) / voxel_size_out[:3]).astype(int)\n",
    "                # Writing of the voxels in the created volume\n",
    "                for i,j,k in voxels:\n",
    "                    arr[i,j,k,0] = 1\n",
    "                # Suppression of all voxels out of the mask\n",
    "                arr[np.array(mask)<1]=0\n",
    "                # Selection of the ss if a mininum of voxels remains\n",
    "                size = np.count_nonzero(arr>0)\n",
    "#                 if np.count_nonzero(arr>0)>ss_size and np.count_nonzero(arr>0)<500:\n",
    "#                     print(v['label'], bck_map[0].size())\n",
    "#                     print(np.count_nonzero(arr == 1))\n",
    "#                     print(np.count_nonzero(arr>0))\n",
    "#                     # surfaces[len(surfaces)] = v\n",
    "                if size in histo_size.keys():\n",
    "                    histo_size[size] += 1\n",
    "                else: \n",
    "                     histo_size[size] = 1"
   ]
  },
  {
   "cell_type": "code",
   "execution_count": 6,
   "id": "respected-twins",
   "metadata": {},
   "outputs": [
    {
     "name": "stderr",
     "output_type": "stream",
     "text": [
      "100%|██████████| 200/200 [1:48:18<00:00, 32.49s/it]\n"
     ]
    }
   ],
   "source": [
    "skel_size = {}\n",
    "\n",
    "for sub in tqdm(subjects_list):\n",
    "    total_vox_sub = 0\n",
    "    \n",
    "    graph_file = f\"{data_dir}/{sub}/{path_to_graph}/{side}{sub}_deepcnn_auto.arg\"\n",
    "\n",
    "    if os.path.isdir(os.path.join(data_dir, str(sub) + '/')) and os.path.isfile(graph_file):\n",
    "        # surfaces = dict()\n",
    "\n",
    "        graph = aims.read(graph_file)\n",
    "\n",
    "        g_to_icbm_template = aims.GraphManip.getICBM2009cTemplateTransform(graph)\n",
    "        voxel_size_in = graph['voxel_size'][:3]\n",
    "\n",
    "        for v in graph.vertices():\n",
    "            if 'label' in v:\n",
    "                bck_map = v['aims_ss']\n",
    "\n",
    "                # Creation of a volume in ICBM space where to write voxels\n",
    "                # of the simple surface\n",
    "                hdr = aims.StandardReferentials.icbm2009cTemplateHeader()\n",
    "                resampling_ratio = np.array(hdr['voxel_size']) / voxel_size_out\n",
    "                orig_dim = hdr['volume_dimension']\n",
    "                new_dim = list((resampling_ratio * orig_dim).astype(int))\n",
    "\n",
    "                vol = aims.Volume(new_dim, dtype='S16')\n",
    "                vol.copyHeaderFrom(hdr)\n",
    "                vol.header()['voxel_size'] = voxel_size_out\n",
    "                arr = np.asarray(vol)\n",
    "                # Transformation of SS voxels to ICBM space with voxel_size_out\n",
    "                voxels_icbm = np.asarray(\n",
    "                    [g_to_icbm_template.transform(np.array(voxel) * voxel_size_in)\n",
    "                     for voxel in bck_map[0].keys()])\n",
    "                voxels = np.round(np.array(voxels_icbm) / voxel_size_out[:3]).astype(int)\n",
    "                # Writing of the voxels in the created volume\n",
    "                for i,j,k in voxels:\n",
    "                    arr[i,j,k,0] = 1\n",
    "                # Suppression of all voxels out of the mask\n",
    "                arr[np.array(mask)<1]=0\n",
    "\n",
    "                size = np.count_nonzero(arr>0)\n",
    "                total_vox_sub += size\n",
    "                \n",
    "        if total_vox_sub in skel_size.keys():\n",
    "            skel_size[total_vox_sub] += 1\n",
    "        else: \n",
    "             skel_size[total_vox_sub] = 1"
   ]
  },
  {
   "cell_type": "code",
   "execution_count": 2,
   "id": "middle-irrigation",
   "metadata": {},
   "outputs": [
    {
     "ename": "NameError",
     "evalue": "name 'skel_size' is not defined",
     "output_type": "error",
     "traceback": [
      "\u001b[0;31m---------------------------------------------------------------------------\u001b[0m",
      "\u001b[0;31mNameError\u001b[0m                                 Traceback (most recent call last)",
      "\u001b[0;32m<ipython-input-2-f38b01ce7d17>\u001b[0m in \u001b[0;36m<module>\u001b[0;34m()\u001b[0m\n\u001b[1;32m      2\u001b[0m \u001b[0;32mwith\u001b[0m \u001b[0mopen\u001b[0m\u001b[0;34m(\u001b[0m\u001b[0;34m'dict_skel_size_dstrb.csv'\u001b[0m\u001b[0;34m,\u001b[0m \u001b[0;34m'w'\u001b[0m\u001b[0;34m)\u001b[0m \u001b[0;32mas\u001b[0m \u001b[0mcsv_file\u001b[0m\u001b[0;34m:\u001b[0m\u001b[0;34m\u001b[0m\u001b[0;34m\u001b[0m\u001b[0m\n\u001b[1;32m      3\u001b[0m     \u001b[0mwriter\u001b[0m \u001b[0;34m=\u001b[0m \u001b[0mcsv\u001b[0m\u001b[0;34m.\u001b[0m\u001b[0mwriter\u001b[0m\u001b[0;34m(\u001b[0m\u001b[0mcsv_file\u001b[0m\u001b[0;34m)\u001b[0m\u001b[0;34m\u001b[0m\u001b[0;34m\u001b[0m\u001b[0m\n\u001b[0;32m----> 4\u001b[0;31m     \u001b[0;32mfor\u001b[0m \u001b[0mkey\u001b[0m\u001b[0;34m,\u001b[0m \u001b[0mvalue\u001b[0m \u001b[0;32min\u001b[0m \u001b[0mskel_size\u001b[0m\u001b[0;34m.\u001b[0m\u001b[0mitems\u001b[0m\u001b[0;34m(\u001b[0m\u001b[0;34m)\u001b[0m\u001b[0;34m:\u001b[0m\u001b[0;34m\u001b[0m\u001b[0;34m\u001b[0m\u001b[0m\n\u001b[0m\u001b[1;32m      5\u001b[0m         \u001b[0mwriter\u001b[0m\u001b[0;34m.\u001b[0m\u001b[0mwriterow\u001b[0m\u001b[0;34m(\u001b[0m\u001b[0;34m[\u001b[0m\u001b[0mkey\u001b[0m\u001b[0;34m,\u001b[0m \u001b[0mvalue\u001b[0m\u001b[0;34m]\u001b[0m\u001b[0;34m)\u001b[0m\u001b[0;34m\u001b[0m\u001b[0;34m\u001b[0m\u001b[0m\n",
      "\u001b[0;31mNameError\u001b[0m: name 'skel_size' is not defined"
     ]
    }
   ],
   "source": [
    "import csv\n",
    "with open('dict_skel_size_dstrb.csv', 'w') as csv_file:  \n",
    "    writer = csv.writer(csv_file)\n",
    "    for key, value in skel_size.items():\n",
    "        writer.writerow([key, value])"
   ]
  },
  {
   "cell_type": "code",
   "execution_count": 33,
   "id": "enormous-destination",
   "metadata": {},
   "outputs": [],
   "source": [
    "skel_size_reader = pd.read_csv('/neurospin/dico/lguillon/distmap/article/material_figures/dict_skel_size_dstrb.csv',\n",
    "                              header=None, names=['size_ss', 'n'])"
   ]
  },
  {
   "cell_type": "code",
   "execution_count": 61,
   "id": "republican-filename",
   "metadata": {},
   "outputs": [],
   "source": [
    "skel_size_list = []\n",
    "for k in range(len(skel_size_reader)):\n",
    "    row = skel_size_reader.loc[k]\n",
    "    skel_size_list += row.n*[row.size_ss]"
   ]
  },
  {
   "cell_type": "code",
   "execution_count": 62,
   "id": "rotary-devon",
   "metadata": {
    "scrolled": true
   },
   "outputs": [
    {
     "data": {
      "image/png": "[encoded data removed]",
      "text/plain": [
       "<Figure size 432x288 with 1 Axes>"
      ]
     },
     "metadata": {
      "needs_background": "light"
     },
     "output_type": "display_data"
    }
   ],
   "source": [
    "plt.hist(skel_size_list, color='salmon')\n",
    "plt.xlabel('Number of skeleton voxels')\n",
    "plt.ylabel('N')\n",
    "plt.show()"
   ]
  },
  {
   "cell_type": "code",
   "execution_count": 12,
   "id": "sound-nevada",
   "metadata": {},
   "outputs": [
    {
     "data": {
      "image/png": "[encoded data removed]",
      "text/plain": [
       "<Figure size 432x288 with 1 Axes>"
      ]
     },
     "metadata": {
      "needs_background": "light"
     },
     "output_type": "display_data"
    }
   ],
   "source": [
    "import copy\n",
    "skel_size_xo_0 = copy.deepcopy(skel_size)\n",
    "\n",
    "#del skel_size_xo_0[0]\n",
    "plt.hist(skel_size_xo_0, color='salmon')\n",
    "# plt.xticks([0, 200, 500, 700, 1000, 1500, 2000, 2500])\n",
    "plt.xlabel('Number of skeleton voxels')\n",
    "plt.ylabel('N')\n",
    "plt.show()"
   ]
  }
 ],
 "metadata": {
  "kernelspec": {
   "display_name": "Python 3",
   "language": "python",
   "name": "python3"
  },
  "language_info": {
   "codemirror_mode": {
    "name": "ipython",
    "version": 3
   },
   "file_extension": ".py",
   "mimetype": "text/x-python",
   "name": "python",
   "nbconvert_exporter": "python",
   "pygments_lexer": "ipython3",
   "version": "3.6.9"
  }
 },
 "nbformat": 4,
 "nbformat_minor": 5
}
