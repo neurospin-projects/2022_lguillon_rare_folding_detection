{
 "cells": [
  {
   "cell_type": "code",
   "execution_count": 1,
   "id": "normal-experience",
   "metadata": {},
   "outputs": [],
   "source": [
    "import os\n",
    "import sys\n",
    "import json\n",
    "import re\n",
    "import pandas as pd\n",
    "from tqdm import tqdm\n",
    "from soma import aims\n",
    "import random\n",
    "\n",
    "p = os.path.abspath('../')\n",
    "if p not in sys.path:\n",
    "    sys.path.append(p)\n",
    "    \n",
    "    \n",
    "q = os.path.abspath('../../')\n",
    "if q not in sys.path:\n",
    "    sys.path.append(q)\n",
    "    \n",
    "q = os.path.abspath('../../../')\n",
    "if q not in sys.path:\n",
    "    sys.path.append(q)\n",
    "    \n",
    "from vae import *\n",
    "from preprocess import InpaintDataset\n",
    "import matplotlib.pyplot as plt\n",
    "import matplotlib.cm as cm\n",
    "import dico_toolbox as dtx\n",
    "import umap\n",
    "from scipy.spatial import distance\n",
    "from scipy.interpolate import interp1d\n",
    "from scipy.stats import mannwhitneyu, ttest_ind\n",
    "\n",
    "from sklearn.svm import OneClassSVM\n",
    "from sklearn.neighbors import LocalOutlierFactor\n",
    "from sklearn.ensemble import IsolationForest\n",
    "from sklearn.cluster import KMeans, AffinityPropagation\n",
    "from sklearn.metrics import silhouette_samples, silhouette_score\n",
    "from sklearn.model_selection import StratifiedKFold\n",
    "from sklearn.linear_model import LogisticRegression\n",
    "from sklearn.metrics import f1_score\n",
    "from sklearn.discriminant_analysis import LinearDiscriminantAnalysis"
   ]
  },
  {
   "cell_type": "code",
   "execution_count": 2,
   "id": "adjustable-flood",
   "metadata": {},
   "outputs": [],
   "source": [
    "if torch.cuda.is_available():\n",
    "    device = \"cuda:0\""
   ]
  },
  {
   "cell_type": "code",
   "execution_count": 3,
   "id": "fourth-feelings",
   "metadata": {},
   "outputs": [],
   "source": [
    "model_dir = '/neurospin/dico/lguillon/inpainting/v2/baseline/checkpoint.pt'\n",
    "model = VAE((1, 80, 80, 96), 100, depth=3)\n",
    "model.load_state_dict(torch.load(model_dir))\n",
    "model = model.to(device)"
   ]
  },
  {
   "cell_type": "code",
   "execution_count": 4,
   "id": "latin-paragraph",
   "metadata": {},
   "outputs": [
    {
     "name": "stdout",
     "output_type": "stream",
     "text": [
      "(1114, 78, 63, 88, 1) (1114,)\n",
      "(200, 78, 63, 88, 1)\n"
     ]
    }
   ],
   "source": [
    "subject_dir = \"/neurospin/dico/lguillon/distmap/data/\"\n",
    "data_dir = '/neurospin/dico/data/deep_folding/current/datasets/' \\\n",
    "                        'hcp/crops/1mm/SC/no_mask/'\n",
    "\n",
    "test_list = pd.read_csv(os.path.join(subject_dir, \"test_list.csv\"))\n",
    "\n",
    "filenames = np.load(os.path.join(data_dir,\"Rfoldlabels\", \"sub_id.npy\"))\n",
    "distmaps = np.load(os.path.join(data_dir, 'Rskel_distmaps_junction', \"Rskel_distmaps.npy\"),\n",
    "                   mmap_mode='r')\n",
    "\n",
    "skeletons = np.load(os.path.join(data_dir, \"Rskeletons_junction\",\n",
    "                                \"Rskeleton.npy\"),\n",
    "                   mmap_mode='r')\n",
    "\n",
    "foldlabels = np.load(os.path.join('/neurospin/dico/data/deep_folding/current/datasets/hcp/foldlabels/raw/junction/crops/',\n",
    "                                    \"Rlabels.npy\"),\n",
    "                   mmap_mode='r')\n",
    "    \n",
    "print(distmaps.shape, filenames.shape)\n",
    "\n",
    "# Selection of test set only\n",
    "sorter = np.argsort(filenames)\n",
    "filenames_idx = sorter[np.searchsorted(filenames, np.array(test_list['subjects']), sorter=sorter)]\n",
    "filenames = filenames[filenames_idx]\n",
    "distmaps = distmaps[filenames_idx]\n",
    "skeletons = skeletons[filenames_idx]\n",
    "foldlabels = foldlabels[filenames_idx]\n",
    "\n",
    "print(distmaps.shape)"
   ]
  },
  {
   "cell_type": "code",
   "execution_count": 5,
   "id": "greek-dryer",
   "metadata": {},
   "outputs": [],
   "source": [
    "subset = InpaintDataset(foldlabels=foldlabels,\n",
    "                        skeletons=skeletons,\n",
    "                        distmaps=distmaps,\n",
    "                        filenames=filenames,\n",
    "                        data_transforms=False)\n",
    "testloader = torch.utils.data.DataLoader(\n",
    "               subset,\n",
    "               batch_size=1,\n",
    "               num_workers=1,\n",
    "               shuffle=False)"
   ]
  },
  {
   "cell_type": "code",
   "execution_count": 6,
   "id": "changed-bhutan",
   "metadata": {},
   "outputs": [
    {
     "name": "stdout",
     "output_type": "stream",
     "text": [
      "(7, 78, 63, 88, 1) (7,)\n"
     ]
    }
   ],
   "source": [
    "\"\"\" SC INT \"\"\"\n",
    "scint_list = ['111009', '138231', '510225', '199251', '159946', '140319', '212419']\n",
    "scint_arr = np.array(['111009', '138231', '510225', '199251', '159946', '140319', '212419'])\n",
    "\n",
    "filenames_scint = np.load(os.path.join(data_dir, \"Rfoldlabels\", \"sub_id.npy\"))\n",
    "distmaps_scint = np.load(os.path.join(data_dir, 'Rskel_distmaps_junction', \"Rskel_distmaps.npy\"),\n",
    "                   mmap_mode='r')\n",
    "\n",
    "skeletons_scint = np.load(os.path.join(data_dir, \"Rskeletons_junction\",\n",
    "                                \"Rskeleton.npy\"),\n",
    "                   mmap_mode='r')\n",
    "\n",
    "foldlabels_scint = np.load(os.path.join('/neurospin/dico/data/deep_folding/current/datasets/hcp/foldlabels/raw/junction/crops/',\n",
    "                                    \"Rlabels.npy\"),\n",
    "                   mmap_mode='r')\n",
    "\n",
    "ids = np.frompyfunc(lambda x: np.isin(x, scint_arr), 1, 1)(filenames_scint)\n",
    "idxs = [i for i, curr in enumerate(ids) if curr.any()]\n",
    "\n",
    "filenames_scint = filenames_scint[idxs]\n",
    "distmaps_scint = distmaps_scint[idxs]\n",
    "skeletons_scint = skeletons_scint[idxs]\n",
    "foldlabels_scint = foldlabels_scint[idxs]\n",
    "\n",
    "print(distmaps_scint.shape, filenames_scint.shape)\n",
    "\n",
    "subset_scint = InpaintDataset(foldlabels=foldlabels_scint,\n",
    "                               skeletons=skeletons_scint,\n",
    "                               distmaps=distmaps_scint,\n",
    "                               filenames=filenames_scint,\n",
    "                               data_transforms=False)\n",
    "scint_loader = torch.utils.data.DataLoader(\n",
    "               subset_scint,\n",
    "               batch_size=1,\n",
    "               num_workers=1,\n",
    "               shuffle=False)"
   ]
  },
  {
   "cell_type": "code",
   "execution_count": 7,
   "id": "complicated-lodging",
   "metadata": {},
   "outputs": [
    {
     "name": "stdout",
     "output_type": "stream",
     "text": [
      "hcp\n",
      "scint\n"
     ]
    }
   ],
   "source": [
    "dico_set_loaders_hcp = {'hcp': testloader, 'scint': scint_loader}\n",
    "\n",
    "root_dir = '/neurospin/dico/lguillon/inpainting/analyses_gridsearch/'\n",
    "\n",
    "criterion = nn.MSELoss(reduction='sum')\n",
    "tester_hcp = ModelTester(model=model, dico_set_loaders=dico_set_loaders_hcp,\n",
    "                     loss_func=criterion, kl_weight=2,\n",
    "                     n_latent=100, depth=3)\n",
    "\n",
    "results_hcp = tester_hcp.test()\n",
    "encoded_hcp = {loader_name:[results_hcp[loader_name][k][1] for k in results_hcp[loader_name].keys()] for loader_name in dico_set_loaders_hcp.keys()}\n",
    "losses_hcp = {loader_name:[int(results_hcp[loader_name][k][0].cpu().detach().numpy()) for k in results_hcp[loader_name].keys()] for loader_name in dico_set_loaders_hcp.keys()}\n",
    "recon_hcp = {loader_name:[int(results_hcp[loader_name][k][2].cpu().detach().numpy()) for k in results_hcp[loader_name].keys()] for loader_name in dico_set_loaders_hcp.keys()}\n",
    "input_hcp = {loader_name:[results_hcp[loader_name][k][3].cpu().detach().numpy() for k in results_hcp[loader_name].keys()] for loader_name in dico_set_loaders_hcp.keys()}\n",
    "output_hcp = {loader_name:[results_hcp[loader_name][k][4].cpu().detach().numpy() for k in results_hcp[loader_name].keys()] for loader_name in dico_set_loaders_hcp.keys()}\n",
    "\n",
    "df_encoded_hcp = pd.DataFrame()\n",
    "df_encoded_hcp['latent'] = encoded_hcp['hcp'] + encoded_hcp['scint']\n",
    "df_encoded_hcp['loss'] = losses_hcp['hcp'] + losses_hcp['scint']\n",
    "df_encoded_hcp['recon'] = recon_hcp['hcp'] + recon_hcp['scint']\n",
    "df_encoded_hcp['input'] = input_hcp['hcp'] + input_hcp['scint']\n",
    "df_encoded_hcp['output'] = output_hcp['hcp'] + output_hcp['scint']\n",
    "df_encoded_hcp['Group'] = ['hcp' for k in range(len(filenames))] + ['scint' for k in range(len(filenames_scint))]\n",
    "df_encoded_hcp['sub'] = list(filenames) + list(filenames_scint)\n"
   ]
  },
  {
   "cell_type": "code",
   "execution_count": 8,
   "id": "extensive-package",
   "metadata": {},
   "outputs": [],
   "source": [
    "inp = np.squeeze(df_encoded_hcp['output'][150])\n",
    "inp[inp>0.4] = 1\n",
    "inp[inp<=0.4] = 0\n",
    "aims.write(dtx.convert.volume_to_mesh(inp), '/tmp/ctrl_recon.bck')"
   ]
  },
  {
   "cell_type": "code",
   "execution_count": 9,
   "id": "worse-release",
   "metadata": {},
   "outputs": [],
   "source": [
    "obj = np.squeeze(df_encoded_hcp['input'][150])\n",
    "obj[obj>0.4] = 1\n",
    "obj[obj<=0.4] = 0\n",
    "aims.write(dtx.convert.volume_to_bucketMap_aims(obj), '/tmp/ctrl_in.bck')"
   ]
  },
  {
   "cell_type": "code",
   "execution_count": null,
   "id": "adopted-reviewer",
   "metadata": {},
   "outputs": [],
   "source": []
  },
  {
   "cell_type": "code",
   "execution_count": 26,
   "id": "treated-library",
   "metadata": {},
   "outputs": [],
   "source": [
    "X_hcp = np.array(list(df_encoded_hcp['latent']))\n",
    "labels_hcp = np.array(df_encoded_hcp['Group'])\n",
    "\n",
    "from sklearn.manifold import TSNE\n",
    "X_embedded_hcp = TSNE(n_components=2, random_state=12, perplexity=40).fit_transform(X_hcp)"
   ]
  },
  {
   "cell_type": "code",
   "execution_count": 27,
   "id": "moral-engine",
   "metadata": {},
   "outputs": [],
   "source": [
    "scint_list = ['111009', '138231', '510225', '199251', '159946', '140319', '212419']\n",
    "subjects_name_hcp = ['' for k in range(200)] + list(df_encoded_hcp[-7:]['sub'])"
   ]
  },
  {
   "cell_type": "code",
   "execution_count": 28,
   "id": "clear-replica",
   "metadata": {},
   "outputs": [
    {
     "data": {
      "image/png": "[encoded data removed]",
      "text/plain": [
       "<Figure size 432x288 with 1 Axes>"
      ]
     },
     "metadata": {
      "needs_background": "light"
     },
     "output_type": "display_data"
    }
   ],
   "source": [
    "arr = X_embedded_hcp\n",
    "color_dict = {'hcp':'mediumseagreen', 'scint': 'red'}\n",
    "\n",
    "fig = plt.figure()\n",
    "ax = fig.subplots()\n",
    "\n",
    "for g in np.unique(labels_hcp):\n",
    "    ix = np.where(labels_hcp == g)\n",
    "    x = [arr[ix][k][0] for k in range(len(ix[0]))]\n",
    "    y = [arr[ix][k][1] for k in range(len(ix[0]))]\n",
    "    g_lab= f\"{g}\"\n",
    "    ax.scatter(x, y, c = color_dict[g], label = g_lab)\n",
    "    \n",
    "for i, txt in enumerate(subjects_name_hcp):\n",
    "    ax.annotate(txt, (arr[i][0], arr[i][1]))\n",
    "    \n",
    "plt.legend(bbox_to_anchor=(1.04,1), borderaxespad=0)\n",
    "\n",
    "plt.xlabel(f'tSNE dimension 1', fontsize=14)\n",
    "plt.ylabel(f'tSNE dimension 2', fontsize=14)\n",
    "plt.show()"
   ]
  },
  {
   "cell_type": "code",
   "execution_count": 29,
   "id": "ordered-motorcycle",
   "metadata": {},
   "outputs": [
    {
     "data": {
      "image/png": "[encoded data removed]",
      "text/plain": [
       "<Figure size 432x288 with 1 Axes>"
      ]
     },
     "metadata": {
      "needs_background": "light"
     },
     "output_type": "display_data"
    }
   ],
   "source": [
    "reducer = umap.UMAP()\n",
    "embedding = reducer.fit_transform(X_hcp)\n",
    "\n",
    "fig = plt.figure()\n",
    "ax = fig.subplots()\n",
    "\n",
    "for g in np.unique(labels_hcp):\n",
    "    ix = np.where(labels_hcp == g)\n",
    "    x = [embedding[ix][k][0] for k in range(len(ix[0]))]\n",
    "    y = [embedding[ix][k][1] for k in range(len(ix[0]))]\n",
    "    g_lab= f\"{g}\"\n",
    "    ax.scatter(x, y, c = color_dict[g], label = g_lab)\n",
    "    \n",
    "for i, txt in enumerate(subjects_name_hcp):\n",
    "    ax.annotate(txt, (embedding[i][0], embedding[i][1]))\n",
    "    \n",
    "plt.legend(bbox_to_anchor=(1.2,1), borderaxespad=0)\n",
    "\n",
    "plt.xlabel(f'UMAP dimension 1', fontsize=14)\n",
    "plt.ylabel(f'UMAP dimension 2', fontsize=14)\n",
    "plt.show()"
   ]
  },
  {
   "cell_type": "markdown",
   "id": "solved-newton",
   "metadata": {},
   "source": [
    "### Outlier detection ML algorithm"
   ]
  },
  {
   "cell_type": "code",
   "execution_count": 14,
   "id": "related-notification",
   "metadata": {},
   "outputs": [],
   "source": [
    "average_fp_list = {'oc': {k: [] for k in np.arange(0.05, 1, 0.1)}, 'if': {k: [] for k in np.arange(0.05, 1, 0.1)}}\n",
    "average_tp_list = {'oc': {k: [] for k in np.arange(0.05, 1, 0.1)}, 'if': {k: [] for k in np.arange(0.05, 1, 0.1)}}\n",
    "\n",
    "for k in range(10):\n",
    "    reducer = umap.UMAP()\n",
    "    embedding = reducer.fit_transform(X_hcp)\n",
    "    fp_list = {'oc':[], 'lof':[], 'if':[]}\n",
    "    tp_list = {'oc':[], 'lof':[], 'if':[]}\n",
    "    undetected_sub_oc = []\n",
    "    undetected_sub_if = []\n",
    "    fp_random = {}\n",
    "    tp_random = {}\n",
    "\n",
    "    for k in np.arange(0.05, 1, 0.1):\n",
    "        tp_random[k] = []\n",
    "        fp_random[k] = []\n",
    "        clf = OneClassSVM(nu=k).fit(embedding)\n",
    "        pred_ctrl = clf.predict(embedding)[:200]\n",
    "        pred_scint = clf.predict(embedding)[200:]\n",
    "        #fp_list['oc'].append(len(pred_ctrl[pred_ctrl==-1])/200)\n",
    "        #tp_list['oc'].append(len(pred_scint[pred_scint==-1])/7)\n",
    "        \n",
    "        average_fp_list['oc'][k].append(len(pred_ctrl[pred_ctrl==-1])/200)\n",
    "        average_tp_list['oc'][k].append(len(pred_scint[pred_scint==-1])/7)\n",
    "        \n",
    "        undetected_sub_oc.append(np.where(pred_scint==1))\n",
    "        nb_outliers = len(clf.predict(embedding)[clf.predict(embedding)==-1])\n",
    "\n",
    "        clf = IsolationForest(random_state=10, contamination=k).fit(embedding)\n",
    "        pred_ctrl = clf.predict(embedding)[:200]\n",
    "        pred_scint = clf.predict(embedding)[200:]\n",
    "        \n",
    "        average_fp_list['if'][k].append(len(pred_ctrl[pred_ctrl==-1])/200)\n",
    "        average_tp_list['if'][k].append(len(pred_scint[pred_scint==-1])/7)\n",
    "        \n",
    "        undetected_sub_if.append(np.where(pred_scint==1))\n",
    "        \n",
    "        for i in range(1000):\n",
    "            rand_outliers = np.array(random.sample(range(207), nb_outliers))\n",
    "            tp_random[k].append(len(rand_outliers[rand_outliers>=200])/7)\n",
    "            fp_random[k].append(len(rand_outliers[rand_outliers<200])/200)\n",
    "        \n",
    "        \n",
    "mean_random_fp = [np.mean(fp_random[k]) for k in fp_random.keys()]\n",
    "mean_random_tp = [np.mean(tp_random[k]) for k in tp_random.keys()]\n",
    "\n",
    "quantile_5_random_fp = [np.quantile(fp_random[k], 0.05) for k in fp_random.keys()]\n",
    "quantile_5_random_tp = [np.quantile(tp_random[k], 0.05) for k in tp_random.keys()]\n",
    "\n",
    "quantile_95_random_fp = [np.quantile(fp_random[k], 0.95) for k in fp_random.keys()]\n",
    "quantile_95_random_tp = [np.quantile(tp_random[k], 0.95) for k in tp_random.keys()]"
   ]
  },
  {
   "cell_type": "code",
   "execution_count": 15,
   "id": "considerable-leisure",
   "metadata": {},
   "outputs": [
    {
     "data": {
      "image/png": "[encoded data removed]",
      "text/plain": [
       "<Figure size 432x288 with 1 Axes>"
      ]
     },
     "metadata": {
      "needs_background": "light"
     },
     "output_type": "display_data"
    }
   ],
   "source": [
    "fp_oc = [np.mean(average_fp_list['oc'][k]) for k in average_fp_list['oc'].keys()]\n",
    "tp_oc = [np.mean(average_tp_list['oc'][k]) for k in average_tp_list['oc'].keys()]\n",
    "error_oc = [np.std(average_tp_list['oc'][k]) for k in average_tp_list['oc'].keys()]\n",
    "fp_if = [np.mean(average_fp_list['if'][k]) for k in average_fp_list['if'].keys()]\n",
    "tp_if = [np.mean(average_tp_list['if'][k]) for k in average_tp_list['if'].keys()]\n",
    "error_if = [np.std(average_tp_list['if'][k]) for k in average_tp_list['if'].keys()]\n",
    "\n",
    "plt.subplot()\n",
    "plt.errorbar(fp_oc, tp_oc, yerr=error_oc,label='OCSVM')\n",
    "plt.errorbar(fp_if, tp_if, yerr=error_if, label='Isolation Forest')\n",
    "\n",
    "plt.plot(mean_random_fp, mean_random_tp, linestyle='--', label='chance', c='r')\n",
    "plt.fill_between(mean_random_fp, quantile_5_random_tp, quantile_95_random_tp, color='grey', alpha=.2,\n",
    "            label=f\"95% confidence interval\")\n",
    "\n",
    "plt.xlabel('False positive rate')\n",
    "plt.ylabel('True positive rate')\n",
    "plt.legend(bbox_to_anchor=(1.1,1), borderaxespad=0)\n",
    "#plt.legend()\n",
    "plt.show()"
   ]
  },
  {
   "cell_type": "code",
   "execution_count": null,
   "id": "quality-findings",
   "metadata": {},
   "outputs": [],
   "source": []
  },
  {
   "cell_type": "code",
   "execution_count": null,
   "id": "earlier-portal",
   "metadata": {},
   "outputs": [],
   "source": []
  },
  {
   "cell_type": "code",
   "execution_count": 30,
   "id": "dedicated-tulsa",
   "metadata": {},
   "outputs": [
    {
     "data": {
      "text/plain": [
       "(array([1., 0., 1., 0., 1., 1., 1., 0., 1., 1.]),\n",
       " array([34685. , 35177.9, 35670.8, 36163.7, 36656.6, 37149.5, 37642.4,\n",
       "        38135.3, 38628.2, 39121.1, 39614. ]),\n",
       " <BarContainer object of 10 artists>)"
      ]
     },
     "execution_count": 30,
     "metadata": {},
     "output_type": "execute_result"
    },
    {
     "data": {
      "image/png": "[encoded data removed]",
      "text/plain": [
       "<Figure size 432x288 with 1 Axes>"
      ]
     },
     "metadata": {
      "needs_background": "light"
     },
     "output_type": "display_data"
    }
   ],
   "source": [
    "plt.subplot()\n",
    "plt.hist(df_encoded_hcp[df_encoded_hcp.Group=='hcp'].loss)\n",
    "plt.hist(df_encoded_hcp[df_encoded_hcp.Group=='scint'].loss)"
   ]
  },
  {
   "cell_type": "code",
   "execution_count": 17,
   "id": "identical-disposal",
   "metadata": {},
   "outputs": [
    {
     "name": "stdout",
     "output_type": "stream",
     "text": [
      "0.032012441294931804\n"
     ]
    }
   ],
   "source": [
    "F,p = mannwhitneyu(df_encoded_hcp[df_encoded_hcp.Group=='hcp'].loss, df_encoded_hcp[df_encoded_hcp.Group=='scint'].loss)\n",
    "print(p)"
   ]
  },
  {
   "cell_type": "code",
   "execution_count": 18,
   "id": "electric-smoke",
   "metadata": {},
   "outputs": [
    {
     "data": {
      "text/plain": [
       "(array([2., 0., 0., 1., 0., 0., 1., 1., 1., 1.]),\n",
       " array([2485. , 2625.5, 2766. , 2906.5, 3047. , 3187.5, 3328. , 3468.5,\n",
       "        3609. , 3749.5, 3890. ]),\n",
       " <BarContainer object of 10 artists>)"
      ]
     },
     "execution_count": 18,
     "metadata": {},
     "output_type": "execute_result"
    },
    {
     "data": {
      "image/png": "[encoded data removed]",
      "text/plain": [
       "<Figure size 432x288 with 1 Axes>"
      ]
     },
     "metadata": {
      "needs_background": "light"
     },
     "output_type": "display_data"
    }
   ],
   "source": [
    "plt.subplot()\n",
    "plt.hist(df_encoded_hcp[df_encoded_hcp.Group=='hcp'].recon)\n",
    "plt.hist(df_encoded_hcp[df_encoded_hcp.Group=='scint'].recon)"
   ]
  },
  {
   "cell_type": "code",
   "execution_count": 19,
   "id": "specific-increase",
   "metadata": {},
   "outputs": [
    {
     "name": "stdout",
     "output_type": "stream",
     "text": [
      "0.033900373698943435\n"
     ]
    }
   ],
   "source": [
    "F,p = mannwhitneyu(df_encoded_hcp[df_encoded_hcp.Group=='hcp'].recon, df_encoded_hcp[df_encoded_hcp.Group=='scint'].recon)\n",
    "print(p)"
   ]
  },
  {
   "cell_type": "code",
   "execution_count": null,
   "id": "advance-tobago",
   "metadata": {},
   "outputs": [],
   "source": [
    "for sub in scint_list:  \n",
    "    enc = df_encoded_hcp[df_encoded_hcp['sub']==sub].latent.values[0]\n",
    "    z = torch.from_numpy(np.array(enc)).to(device, dtype=torch.float32)\n",
    "    z = torch.unsqueeze(z, dim=0)\n",
    "    out = model.decode(z)\n",
    "    out = np.array(np.squeeze(out).cpu().detach().numpy())\n",
    "    input_sub = np.copy(df_encoded_hcp[df_encoded_hcp['sub']==sub].input.values[0][0][0])\n",
    "    error = input_sub - out\n",
    "    error2 = out - input_sub\n",
    "\n",
    "    out[out>0.7] = 1\n",
    "    out[out<=0.7] = 0\n",
    "    input_sub[input_sub>0.4] = 1\n",
    "    input_sub[input_sub<=0.4] = 0\n",
    "    error[error>0.4] = 1\n",
    "    error[error<=0.4] = 0\n",
    "    error2[error2>0.4] = 1\n",
    "    error2[error2<=0.4] = 0\n",
    "    \n",
    "    aims.write(dtx.convert.bucket_numpy_to_bucketMap_aims(dtx.convert.volume_to_bucket_numpy(out), voxel_size=(1,1,1)), f\"/neurospin/dico/lguillon/inpainting/analyses_gridsearch/scint_reconstructions/{sub}_out.bck\")\n",
    "    aims.write(dtx.convert.bucket_numpy_to_bucketMap_aims(dtx.convert.volume_to_bucket_numpy(input_sub), voxel_size=(1,1,1)), f\"/neurospin/dico/lguillon/inpainting/analyses_gridsearch/scint_reconstructions/{sub}_in.bck\")\n",
    "    aims.write(dtx.convert.bucket_numpy_to_bucketMap_aims(dtx.convert.volume_to_bucket_numpy(error), voxel_size=(1,1,1)), f\"/neurospin/dico/lguillon/inpainting/analyses_gridsearch/scint_reconstructions/{sub}_error.bck\")\n",
    "    aims.write(dtx.convert.bucket_numpy_to_bucketMap_aims(dtx.convert.volume_to_bucket_numpy(error2), voxel_size=(1,1,1)), f\"/neurospin/dico/lguillon/inpainting/analyses_gridsearch/scint_reconstructions/{sub}_error_2.bck\")"
   ]
  },
  {
   "cell_type": "markdown",
   "id": "searching-lodging",
   "metadata": {},
   "source": [
    "### Loss of SC int more variable ?"
   ]
  },
  {
   "cell_type": "code",
   "execution_count": 22,
   "id": "accessory-paint",
   "metadata": {},
   "outputs": [
    {
     "name": "stdout",
     "output_type": "stream",
     "text": [
      "hcp\n",
      "scint\n",
      "[3689, 3669, 3145, 2572, 2757, 3175, 3182]\n",
      "hcp\n",
      "scint\n",
      "[3736, 3690, 3100, 2615, 2974, 3179, 3230]\n",
      "hcp\n",
      "scint\n",
      "[3831, 3704, 3178, 2558, 2789, 3215, 3141]\n",
      "hcp\n",
      "scint\n",
      "[3762, 3696, 3019, 2591, 2895, 3183, 3094]\n",
      "hcp\n",
      "scint\n",
      "[3714, 3746, 2994, 2546, 2893, 3123, 3202]\n"
     ]
    }
   ],
   "source": [
    "loss = []\n",
    "\n",
    "for k in range(5):\n",
    "    tester_hcp = ModelTester(model=model, dico_set_loaders=dico_set_loaders_hcp,\n",
    "                         loss_func=criterion, kl_weight=2,\n",
    "                         n_latent=100, depth=3)\n",
    "\n",
    "    results_hcp = tester_hcp.test()\n",
    "    losses_hcp = {loader_name:[int(results_hcp[loader_name][k][0].cpu().detach().numpy()) for k in results_hcp[loader_name].keys()] for loader_name in dico_set_loaders_hcp.keys()}\n",
    "    loss.append(losses_hcp['hcp'] + losses_hcp['scint'])\n",
    "    print(losses_hcp['scint'])\n",
    "\n"
   ]
  },
  {
   "cell_type": "code",
   "execution_count": 29,
   "id": "oriental-polymer",
   "metadata": {},
   "outputs": [
    {
     "name": "stdout",
     "output_type": "stream",
     "text": [
      "2697.66\n",
      "329.4773958862732\n",
      "scint\n",
      "3169.8571428571427\n",
      "386.80538797083125\n",
      "round 2\n",
      "2694.02\n",
      "329.9101538297965\n",
      "scint\n",
      "3217.714285714286\n",
      "364.46466193023207\n",
      "round 3\n",
      "2689.3\n",
      "340.7140002993713\n",
      "scint\n",
      "3202.285714285714\n",
      "420.4445654935514\n",
      "round 4\n",
      "2688.995\n",
      "330.60623856031515\n",
      "scint\n",
      "3177.1428571428573\n",
      "390.3102899604104\n"
     ]
    }
   ],
   "source": [
    "print(np.mean(loss[0][:200]))\n",
    "print(np.std(loss[0][:200]))\n",
    "print('scint')\n",
    "print(np.mean(loss[0][200:]))\n",
    "print(np.std(loss[0][200:]))\n",
    "print('round 2')\n",
    "print(np.mean(loss[1][:200]))\n",
    "print(np.std(loss[1][:200]))\n",
    "print('scint')\n",
    "print(np.mean(loss[1][200:]))\n",
    "print(np.std(loss[1][200:]))\n",
    "print('round 3')\n",
    "print(np.mean(loss[2][:200]))\n",
    "print(np.std(loss[2][:200]))\n",
    "print('scint')\n",
    "print(np.mean(loss[2][200:]))\n",
    "print(np.std(loss[2][200:]))\n",
    "print('round 4')\n",
    "print(np.mean(loss[3][:200]))\n",
    "print(np.std(loss[3][:200]))\n",
    "print('scint')\n",
    "print(np.mean(loss[3][200:]))\n",
    "print(np.std(loss[3][200:]))"
   ]
  }
 ],
 "metadata": {
  "kernelspec": {
   "display_name": "Python 3",
   "language": "python",
   "name": "python3"
  },
  "language_info": {
   "codemirror_mode": {
    "name": "ipython",
    "version": 3
   },
   "file_extension": ".py",
   "mimetype": "text/x-python",
   "name": "python",
   "nbconvert_exporter": "python",
   "pygments_lexer": "ipython3",
   "version": "3.6.9"
  }
 },
 "nbformat": 4,
 "nbformat_minor": 5
}
