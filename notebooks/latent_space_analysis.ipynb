{
 "cells": [
  {
   "cell_type": "markdown",
   "id": "pending-primary",
   "metadata": {},
   "source": [
    "# Analysis of model performances on pre/post ambiguity gridsearch"
   ]
  },
  {
   "cell_type": "code",
   "execution_count": 1,
   "id": "solid-uncle",
   "metadata": {},
   "outputs": [],
   "source": [
    "import os\n",
    "import sys\n",
    "import json\n",
    "import re\n",
    "import pandas as pd\n",
    "from tqdm import tqdm\n",
    "from soma import aims\n",
    "\n",
    "p = os.path.abspath('../')\n",
    "if p not in sys.path:\n",
    "    sys.path.append(p)\n",
    "    \n",
    "q = os.path.abspath('../../')\n",
    "if q not in sys.path:\n",
    "    sys.path.append(q)\n",
    "    \n",
    "from vae import *\n",
    "from preprocess import SkeletonDataset\n",
    "import matplotlib.pyplot as plt\n",
    "import matplotlib.cm as cm\n",
    "import dico_toolbox as dtx\n",
    "import umap\n",
    "from scipy.spatial import distance\n",
    "from scipy.stats import mannwhitneyu\n",
    "\n",
    "from sklearn.svm import OneClassSVM\n",
    "from sklearn.neighbors import LocalOutlierFactor\n",
    "from sklearn.ensemble import IsolationForest\n",
    "from sklearn.cluster import KMeans, AffinityPropagation\n",
    "from sklearn.metrics import silhouette_samples, silhouette_score\n",
    "from sklearn.model_selection import StratifiedKFold\n",
    "from sklearn.linear_model import LogisticRegression\n",
    "from sklearn.metrics import f1_score"
   ]
  },
  {
   "cell_type": "code",
   "execution_count": 2,
   "id": "pleased-wealth",
   "metadata": {},
   "outputs": [],
   "source": [
    "grid_dict = {}\n",
    "grid_dir = '/neurospin/dico/lguillon/distmap/gridsearch_lr5e-4/'\n",
    "for folder in os.listdir(grid_dir):\n",
    "    if 'n_' in folder:\n",
    "        if os.path.isfile(os.path.join(grid_dir, folder, 'results_test.json')):\n",
    "            n = re.search('n_([\\d]{1,3})', folder).group(1)\n",
    "            kl = re.search('kl_([\\d]{1,2})', folder).group(1)\n",
    "            with open(os.path.join(grid_dir, folder, 'results_test.json'), 'r') as f:\n",
    "                grid_dict[(int(n), int(kl))] = json.load(f)"
   ]
  },
  {
   "cell_type": "code",
   "execution_count": 3,
   "id": "related-watts",
   "metadata": {},
   "outputs": [],
   "source": [
    "n_list = [list(grid_dict.keys())[k][0] for k in range(len(grid_dict))]\n",
    "kl_list = [list(grid_dict.keys())[k][1] for k in range(len(grid_dict))]\n",
    "loss = [[grid_dict[(n_list[k], kl_list[k])] for k in range(len(n_list))][i]['final_loss_val'][0] for i in range(len(grid_dict))]\n",
    "gb = [[grid_dict[(n_list[k], kl_list[k])] for k in range(len(n_list))][i]['gb_pre'] for i in range(len(grid_dict))]\n",
    "logreg = [[grid_dict[(n_list[k], kl_list[k])] for k in range(len(n_list))][i]['logreg_pre'] for i in range(len(grid_dict))]\n",
    "svm = [[grid_dict[(n_list[k], kl_list[k])] for k in range(len(n_list))][i]['svm_pre'] for i in range(len(grid_dict))]"
   ]
  },
  {
   "cell_type": "code",
   "execution_count": 4,
   "id": "welsh-irrigation",
   "metadata": {},
   "outputs": [],
   "source": [
    "grid_df = pd.DataFrame(list(zip(n_list, kl_list, loss, gb, logreg, svm)), columns=['n', 'kl', 'loss', 'gb','logreg', 'svm'])"
   ]
  },
  {
   "cell_type": "code",
   "execution_count": 5,
   "id": "signal-specification",
   "metadata": {},
   "outputs": [],
   "source": [
    "grid_df['mean_classif'] = list((grid_df.gb + grid_df.logreg + grid_df.svm)/3)"
   ]
  },
  {
   "cell_type": "code",
   "execution_count": 6,
   "id": "ethical-instrumentation",
   "metadata": {
    "scrolled": true
   },
   "outputs": [
    {
     "data": {
      "text/html": [
       "<div>\n",
       "<style scoped>\n",
       "    .dataframe tbody tr th:only-of-type {\n",
       "        vertical-align: middle;\n",
       "    }\n",
       "\n",
       "    .dataframe tbody tr th {\n",
       "        vertical-align: top;\n",
       "    }\n",
       "\n",
       "    .dataframe thead th {\n",
       "        text-align: right;\n",
       "    }\n",
       "</style>\n",
       "<table border=\"1\" class=\"dataframe\">\n",
       "  <thead>\n",
       "    <tr style=\"text-align: right;\">\n",
       "      <th></th>\n",
       "      <th>n</th>\n",
       "      <th>kl</th>\n",
       "      <th>loss</th>\n",
       "      <th>gb</th>\n",
       "      <th>logreg</th>\n",
       "      <th>svm</th>\n",
       "      <th>mean_classif</th>\n",
       "    </tr>\n",
       "  </thead>\n",
       "  <tbody>\n",
       "    <tr>\n",
       "      <th>17</th>\n",
       "      <td>100</td>\n",
       "      <td>4</td>\n",
       "      <td>17165.892904</td>\n",
       "      <td>0.948508</td>\n",
       "      <td>1.000000</td>\n",
       "      <td>1.000000</td>\n",
       "      <td>0.982836</td>\n",
       "    </tr>\n",
       "    <tr>\n",
       "      <th>26</th>\n",
       "      <td>50</td>\n",
       "      <td>8</td>\n",
       "      <td>20551.902483</td>\n",
       "      <td>0.948456</td>\n",
       "      <td>0.989553</td>\n",
       "      <td>1.000000</td>\n",
       "      <td>0.979336</td>\n",
       "    </tr>\n",
       "    <tr>\n",
       "      <th>12</th>\n",
       "      <td>150</td>\n",
       "      <td>4</td>\n",
       "      <td>16777.611485</td>\n",
       "      <td>0.937996</td>\n",
       "      <td>1.000000</td>\n",
       "      <td>1.000000</td>\n",
       "      <td>0.979332</td>\n",
       "    </tr>\n",
       "    <tr>\n",
       "      <th>9</th>\n",
       "      <td>150</td>\n",
       "      <td>10</td>\n",
       "      <td>21133.906901</td>\n",
       "      <td>0.929105</td>\n",
       "      <td>0.989861</td>\n",
       "      <td>0.979608</td>\n",
       "      <td>0.966191</td>\n",
       "    </tr>\n",
       "    <tr>\n",
       "      <th>13</th>\n",
       "      <td>50</td>\n",
       "      <td>2</td>\n",
       "      <td>16829.031331</td>\n",
       "      <td>0.898495</td>\n",
       "      <td>1.000000</td>\n",
       "      <td>1.000000</td>\n",
       "      <td>0.966165</td>\n",
       "    </tr>\n",
       "    <tr>\n",
       "      <th>22</th>\n",
       "      <td>100</td>\n",
       "      <td>2</td>\n",
       "      <td>14761.479713</td>\n",
       "      <td>0.928027</td>\n",
       "      <td>0.979452</td>\n",
       "      <td>0.979452</td>\n",
       "      <td>0.962310</td>\n",
       "    </tr>\n",
       "    <tr>\n",
       "      <th>8</th>\n",
       "      <td>100</td>\n",
       "      <td>8</td>\n",
       "      <td>20207.614037</td>\n",
       "      <td>0.896863</td>\n",
       "      <td>0.989899</td>\n",
       "      <td>1.000000</td>\n",
       "      <td>0.962254</td>\n",
       "    </tr>\n",
       "    <tr>\n",
       "      <th>21</th>\n",
       "      <td>20</td>\n",
       "      <td>8</td>\n",
       "      <td>21073.405285</td>\n",
       "      <td>0.918561</td>\n",
       "      <td>0.969603</td>\n",
       "      <td>0.969603</td>\n",
       "      <td>0.952589</td>\n",
       "    </tr>\n",
       "    <tr>\n",
       "      <th>24</th>\n",
       "      <td>20</td>\n",
       "      <td>4</td>\n",
       "      <td>20148.578590</td>\n",
       "      <td>0.949476</td>\n",
       "      <td>0.968882</td>\n",
       "      <td>0.938317</td>\n",
       "      <td>0.952225</td>\n",
       "    </tr>\n",
       "    <tr>\n",
       "      <th>27</th>\n",
       "      <td>100</td>\n",
       "      <td>10</td>\n",
       "      <td>21529.536063</td>\n",
       "      <td>0.876713</td>\n",
       "      <td>1.000000</td>\n",
       "      <td>0.969313</td>\n",
       "      <td>0.948675</td>\n",
       "    </tr>\n",
       "    <tr>\n",
       "      <th>19</th>\n",
       "      <td>75</td>\n",
       "      <td>2</td>\n",
       "      <td>15431.062837</td>\n",
       "      <td>0.836902</td>\n",
       "      <td>1.000000</td>\n",
       "      <td>1.000000</td>\n",
       "      <td>0.945634</td>\n",
       "    </tr>\n",
       "    <tr>\n",
       "      <th>4</th>\n",
       "      <td>75</td>\n",
       "      <td>4</td>\n",
       "      <td>17180.886312</td>\n",
       "      <td>0.888037</td>\n",
       "      <td>0.968900</td>\n",
       "      <td>0.979001</td>\n",
       "      <td>0.945313</td>\n",
       "    </tr>\n",
       "    <tr>\n",
       "      <th>11</th>\n",
       "      <td>50</td>\n",
       "      <td>4</td>\n",
       "      <td>18202.162365</td>\n",
       "      <td>0.844922</td>\n",
       "      <td>0.979414</td>\n",
       "      <td>0.979414</td>\n",
       "      <td>0.934583</td>\n",
       "    </tr>\n",
       "    <tr>\n",
       "      <th>16</th>\n",
       "      <td>150</td>\n",
       "      <td>8</td>\n",
       "      <td>20450.873047</td>\n",
       "      <td>0.834652</td>\n",
       "      <td>0.989899</td>\n",
       "      <td>0.969161</td>\n",
       "      <td>0.931237</td>\n",
       "    </tr>\n",
       "    <tr>\n",
       "      <th>6</th>\n",
       "      <td>40</td>\n",
       "      <td>2</td>\n",
       "      <td>17456.866269</td>\n",
       "      <td>0.823677</td>\n",
       "      <td>0.989880</td>\n",
       "      <td>0.979742</td>\n",
       "      <td>0.931100</td>\n",
       "    </tr>\n",
       "    <tr>\n",
       "      <th>5</th>\n",
       "      <td>40</td>\n",
       "      <td>10</td>\n",
       "      <td>21194.275705</td>\n",
       "      <td>0.825899</td>\n",
       "      <td>0.979001</td>\n",
       "      <td>0.968863</td>\n",
       "      <td>0.924588</td>\n",
       "    </tr>\n",
       "    <tr>\n",
       "      <th>3</th>\n",
       "      <td>20</td>\n",
       "      <td>2</td>\n",
       "      <td>19712.531750</td>\n",
       "      <td>0.854423</td>\n",
       "      <td>0.949055</td>\n",
       "      <td>0.959502</td>\n",
       "      <td>0.920993</td>\n",
       "    </tr>\n",
       "    <tr>\n",
       "      <th>7</th>\n",
       "      <td>150</td>\n",
       "      <td>2</td>\n",
       "      <td>13796.480475</td>\n",
       "      <td>0.782940</td>\n",
       "      <td>0.989553</td>\n",
       "      <td>0.989553</td>\n",
       "      <td>0.920682</td>\n",
       "    </tr>\n",
       "    <tr>\n",
       "      <th>15</th>\n",
       "      <td>75</td>\n",
       "      <td>8</td>\n",
       "      <td>20451.000419</td>\n",
       "      <td>0.766235</td>\n",
       "      <td>0.979686</td>\n",
       "      <td>0.979686</td>\n",
       "      <td>0.908535</td>\n",
       "    </tr>\n",
       "    <tr>\n",
       "      <th>14</th>\n",
       "      <td>75</td>\n",
       "      <td>10</td>\n",
       "      <td>21088.715030</td>\n",
       "      <td>0.723401</td>\n",
       "      <td>0.989861</td>\n",
       "      <td>0.979760</td>\n",
       "      <td>0.897674</td>\n",
       "    </tr>\n",
       "    <tr>\n",
       "      <th>25</th>\n",
       "      <td>40</td>\n",
       "      <td>8</td>\n",
       "      <td>20816.982306</td>\n",
       "      <td>0.741275</td>\n",
       "      <td>0.989861</td>\n",
       "      <td>0.958799</td>\n",
       "      <td>0.896645</td>\n",
       "    </tr>\n",
       "    <tr>\n",
       "      <th>0</th>\n",
       "      <td>50</td>\n",
       "      <td>10</td>\n",
       "      <td>20960.849388</td>\n",
       "      <td>0.744626</td>\n",
       "      <td>0.979414</td>\n",
       "      <td>0.949149</td>\n",
       "      <td>0.891063</td>\n",
       "    </tr>\n",
       "    <tr>\n",
       "      <th>1</th>\n",
       "      <td>40</td>\n",
       "      <td>4</td>\n",
       "      <td>19146.954613</td>\n",
       "      <td>0.785252</td>\n",
       "      <td>0.947967</td>\n",
       "      <td>0.937884</td>\n",
       "      <td>0.890368</td>\n",
       "    </tr>\n",
       "    <tr>\n",
       "      <th>2</th>\n",
       "      <td>4</td>\n",
       "      <td>10</td>\n",
       "      <td>24719.680234</td>\n",
       "      <td>0.802904</td>\n",
       "      <td>0.844463</td>\n",
       "      <td>0.822180</td>\n",
       "      <td>0.823182</td>\n",
       "    </tr>\n",
       "    <tr>\n",
       "      <th>20</th>\n",
       "      <td>4</td>\n",
       "      <td>8</td>\n",
       "      <td>24776.058280</td>\n",
       "      <td>0.791178</td>\n",
       "      <td>0.845237</td>\n",
       "      <td>0.821084</td>\n",
       "      <td>0.819166</td>\n",
       "    </tr>\n",
       "    <tr>\n",
       "      <th>10</th>\n",
       "      <td>20</td>\n",
       "      <td>10</td>\n",
       "      <td>22759.083822</td>\n",
       "      <td>0.801452</td>\n",
       "      <td>0.825932</td>\n",
       "      <td>0.746054</td>\n",
       "      <td>0.791146</td>\n",
       "    </tr>\n",
       "    <tr>\n",
       "      <th>23</th>\n",
       "      <td>4</td>\n",
       "      <td>2</td>\n",
       "      <td>24328.658982</td>\n",
       "      <td>0.761350</td>\n",
       "      <td>0.744526</td>\n",
       "      <td>0.725965</td>\n",
       "      <td>0.743947</td>\n",
       "    </tr>\n",
       "    <tr>\n",
       "      <th>18</th>\n",
       "      <td>4</td>\n",
       "      <td>4</td>\n",
       "      <td>24662.937756</td>\n",
       "      <td>0.721755</td>\n",
       "      <td>0.673552</td>\n",
       "      <td>0.664599</td>\n",
       "      <td>0.686636</td>\n",
       "    </tr>\n",
       "  </tbody>\n",
       "</table>\n",
       "</div>"
      ],
      "text/plain": [
       "      n  kl          loss        gb    logreg       svm  mean_classif\n",
       "17  100   4  17165.892904  0.948508  1.000000  1.000000      0.982836\n",
       "26   50   8  20551.902483  0.948456  0.989553  1.000000      0.979336\n",
       "12  150   4  16777.611485  0.937996  1.000000  1.000000      0.979332\n",
       "9   150  10  21133.906901  0.929105  0.989861  0.979608      0.966191\n",
       "13   50   2  16829.031331  0.898495  1.000000  1.000000      0.966165\n",
       "22  100   2  14761.479713  0.928027  0.979452  0.979452      0.962310\n",
       "8   100   8  20207.614037  0.896863  0.989899  1.000000      0.962254\n",
       "21   20   8  21073.405285  0.918561  0.969603  0.969603      0.952589\n",
       "24   20   4  20148.578590  0.949476  0.968882  0.938317      0.952225\n",
       "27  100  10  21529.536063  0.876713  1.000000  0.969313      0.948675\n",
       "19   75   2  15431.062837  0.836902  1.000000  1.000000      0.945634\n",
       "4    75   4  17180.886312  0.888037  0.968900  0.979001      0.945313\n",
       "11   50   4  18202.162365  0.844922  0.979414  0.979414      0.934583\n",
       "16  150   8  20450.873047  0.834652  0.989899  0.969161      0.931237\n",
       "6    40   2  17456.866269  0.823677  0.989880  0.979742      0.931100\n",
       "5    40  10  21194.275705  0.825899  0.979001  0.968863      0.924588\n",
       "3    20   2  19712.531750  0.854423  0.949055  0.959502      0.920993\n",
       "7   150   2  13796.480475  0.782940  0.989553  0.989553      0.920682\n",
       "15   75   8  20451.000419  0.766235  0.979686  0.979686      0.908535\n",
       "14   75  10  21088.715030  0.723401  0.989861  0.979760      0.897674\n",
       "25   40   8  20816.982306  0.741275  0.989861  0.958799      0.896645\n",
       "0    50  10  20960.849388  0.744626  0.979414  0.949149      0.891063\n",
       "1    40   4  19146.954613  0.785252  0.947967  0.937884      0.890368\n",
       "2     4  10  24719.680234  0.802904  0.844463  0.822180      0.823182\n",
       "20    4   8  24776.058280  0.791178  0.845237  0.821084      0.819166\n",
       "10   20  10  22759.083822  0.801452  0.825932  0.746054      0.791146\n",
       "23    4   2  24328.658982  0.761350  0.744526  0.725965      0.743947\n",
       "18    4   4  24662.937756  0.721755  0.673552  0.664599      0.686636"
      ]
     },
     "execution_count": 6,
     "metadata": {},
     "output_type": "execute_result"
    }
   ],
   "source": [
    "grid_df.sort_values(by=['mean_classif', 'loss'], ascending=[False, True])"
   ]
  },
  {
   "cell_type": "code",
   "execution_count": 7,
   "id": "anticipated-excitement",
   "metadata": {
    "scrolled": true
   },
   "outputs": [
    {
     "data": {
      "text/html": [
       "<div>\n",
       "<style scoped>\n",
       "    .dataframe tbody tr th:only-of-type {\n",
       "        vertical-align: middle;\n",
       "    }\n",
       "\n",
       "    .dataframe tbody tr th {\n",
       "        vertical-align: top;\n",
       "    }\n",
       "\n",
       "    .dataframe thead th {\n",
       "        text-align: right;\n",
       "    }\n",
       "</style>\n",
       "<table border=\"1\" class=\"dataframe\">\n",
       "  <thead>\n",
       "    <tr style=\"text-align: right;\">\n",
       "      <th></th>\n",
       "      <th>n</th>\n",
       "      <th>kl</th>\n",
       "      <th>loss</th>\n",
       "      <th>logreg</th>\n",
       "    </tr>\n",
       "  </thead>\n",
       "  <tbody>\n",
       "    <tr>\n",
       "      <th>19</th>\n",
       "      <td>75</td>\n",
       "      <td>2</td>\n",
       "      <td>15431.062837</td>\n",
       "      <td>1.000000</td>\n",
       "    </tr>\n",
       "    <tr>\n",
       "      <th>12</th>\n",
       "      <td>150</td>\n",
       "      <td>4</td>\n",
       "      <td>16777.611485</td>\n",
       "      <td>1.000000</td>\n",
       "    </tr>\n",
       "    <tr>\n",
       "      <th>13</th>\n",
       "      <td>50</td>\n",
       "      <td>2</td>\n",
       "      <td>16829.031331</td>\n",
       "      <td>1.000000</td>\n",
       "    </tr>\n",
       "    <tr>\n",
       "      <th>17</th>\n",
       "      <td>100</td>\n",
       "      <td>4</td>\n",
       "      <td>17165.892904</td>\n",
       "      <td>1.000000</td>\n",
       "    </tr>\n",
       "    <tr>\n",
       "      <th>27</th>\n",
       "      <td>100</td>\n",
       "      <td>10</td>\n",
       "      <td>21529.536063</td>\n",
       "      <td>1.000000</td>\n",
       "    </tr>\n",
       "    <tr>\n",
       "      <th>8</th>\n",
       "      <td>100</td>\n",
       "      <td>8</td>\n",
       "      <td>20207.614037</td>\n",
       "      <td>0.989899</td>\n",
       "    </tr>\n",
       "    <tr>\n",
       "      <th>16</th>\n",
       "      <td>150</td>\n",
       "      <td>8</td>\n",
       "      <td>20450.873047</td>\n",
       "      <td>0.989899</td>\n",
       "    </tr>\n",
       "    <tr>\n",
       "      <th>6</th>\n",
       "      <td>40</td>\n",
       "      <td>2</td>\n",
       "      <td>17456.866269</td>\n",
       "      <td>0.989880</td>\n",
       "    </tr>\n",
       "    <tr>\n",
       "      <th>25</th>\n",
       "      <td>40</td>\n",
       "      <td>8</td>\n",
       "      <td>20816.982306</td>\n",
       "      <td>0.989861</td>\n",
       "    </tr>\n",
       "    <tr>\n",
       "      <th>14</th>\n",
       "      <td>75</td>\n",
       "      <td>10</td>\n",
       "      <td>21088.715030</td>\n",
       "      <td>0.989861</td>\n",
       "    </tr>\n",
       "    <tr>\n",
       "      <th>9</th>\n",
       "      <td>150</td>\n",
       "      <td>10</td>\n",
       "      <td>21133.906901</td>\n",
       "      <td>0.989861</td>\n",
       "    </tr>\n",
       "    <tr>\n",
       "      <th>7</th>\n",
       "      <td>150</td>\n",
       "      <td>2</td>\n",
       "      <td>13796.480475</td>\n",
       "      <td>0.989553</td>\n",
       "    </tr>\n",
       "    <tr>\n",
       "      <th>26</th>\n",
       "      <td>50</td>\n",
       "      <td>8</td>\n",
       "      <td>20551.902483</td>\n",
       "      <td>0.989553</td>\n",
       "    </tr>\n",
       "    <tr>\n",
       "      <th>15</th>\n",
       "      <td>75</td>\n",
       "      <td>8</td>\n",
       "      <td>20451.000419</td>\n",
       "      <td>0.979686</td>\n",
       "    </tr>\n",
       "    <tr>\n",
       "      <th>22</th>\n",
       "      <td>100</td>\n",
       "      <td>2</td>\n",
       "      <td>14761.479713</td>\n",
       "      <td>0.979452</td>\n",
       "    </tr>\n",
       "    <tr>\n",
       "      <th>11</th>\n",
       "      <td>50</td>\n",
       "      <td>4</td>\n",
       "      <td>18202.162365</td>\n",
       "      <td>0.979414</td>\n",
       "    </tr>\n",
       "    <tr>\n",
       "      <th>0</th>\n",
       "      <td>50</td>\n",
       "      <td>10</td>\n",
       "      <td>20960.849388</td>\n",
       "      <td>0.979414</td>\n",
       "    </tr>\n",
       "    <tr>\n",
       "      <th>5</th>\n",
       "      <td>40</td>\n",
       "      <td>10</td>\n",
       "      <td>21194.275705</td>\n",
       "      <td>0.979001</td>\n",
       "    </tr>\n",
       "    <tr>\n",
       "      <th>21</th>\n",
       "      <td>20</td>\n",
       "      <td>8</td>\n",
       "      <td>21073.405285</td>\n",
       "      <td>0.969603</td>\n",
       "    </tr>\n",
       "    <tr>\n",
       "      <th>4</th>\n",
       "      <td>75</td>\n",
       "      <td>4</td>\n",
       "      <td>17180.886312</td>\n",
       "      <td>0.968900</td>\n",
       "    </tr>\n",
       "    <tr>\n",
       "      <th>24</th>\n",
       "      <td>20</td>\n",
       "      <td>4</td>\n",
       "      <td>20148.578590</td>\n",
       "      <td>0.968882</td>\n",
       "    </tr>\n",
       "    <tr>\n",
       "      <th>3</th>\n",
       "      <td>20</td>\n",
       "      <td>2</td>\n",
       "      <td>19712.531750</td>\n",
       "      <td>0.949055</td>\n",
       "    </tr>\n",
       "    <tr>\n",
       "      <th>1</th>\n",
       "      <td>40</td>\n",
       "      <td>4</td>\n",
       "      <td>19146.954613</td>\n",
       "      <td>0.947967</td>\n",
       "    </tr>\n",
       "    <tr>\n",
       "      <th>20</th>\n",
       "      <td>4</td>\n",
       "      <td>8</td>\n",
       "      <td>24776.058280</td>\n",
       "      <td>0.845237</td>\n",
       "    </tr>\n",
       "    <tr>\n",
       "      <th>2</th>\n",
       "      <td>4</td>\n",
       "      <td>10</td>\n",
       "      <td>24719.680234</td>\n",
       "      <td>0.844463</td>\n",
       "    </tr>\n",
       "    <tr>\n",
       "      <th>10</th>\n",
       "      <td>20</td>\n",
       "      <td>10</td>\n",
       "      <td>22759.083822</td>\n",
       "      <td>0.825932</td>\n",
       "    </tr>\n",
       "    <tr>\n",
       "      <th>23</th>\n",
       "      <td>4</td>\n",
       "      <td>2</td>\n",
       "      <td>24328.658982</td>\n",
       "      <td>0.744526</td>\n",
       "    </tr>\n",
       "    <tr>\n",
       "      <th>18</th>\n",
       "      <td>4</td>\n",
       "      <td>4</td>\n",
       "      <td>24662.937756</td>\n",
       "      <td>0.673552</td>\n",
       "    </tr>\n",
       "  </tbody>\n",
       "</table>\n",
       "</div>"
      ],
      "text/plain": [
       "      n  kl          loss    logreg\n",
       "19   75   2  15431.062837  1.000000\n",
       "12  150   4  16777.611485  1.000000\n",
       "13   50   2  16829.031331  1.000000\n",
       "17  100   4  17165.892904  1.000000\n",
       "27  100  10  21529.536063  1.000000\n",
       "8   100   8  20207.614037  0.989899\n",
       "16  150   8  20450.873047  0.989899\n",
       "6    40   2  17456.866269  0.989880\n",
       "25   40   8  20816.982306  0.989861\n",
       "14   75  10  21088.715030  0.989861\n",
       "9   150  10  21133.906901  0.989861\n",
       "7   150   2  13796.480475  0.989553\n",
       "26   50   8  20551.902483  0.989553\n",
       "15   75   8  20451.000419  0.979686\n",
       "22  100   2  14761.479713  0.979452\n",
       "11   50   4  18202.162365  0.979414\n",
       "0    50  10  20960.849388  0.979414\n",
       "5    40  10  21194.275705  0.979001\n",
       "21   20   8  21073.405285  0.969603\n",
       "4    75   4  17180.886312  0.968900\n",
       "24   20   4  20148.578590  0.968882\n",
       "3    20   2  19712.531750  0.949055\n",
       "1    40   4  19146.954613  0.947967\n",
       "20    4   8  24776.058280  0.845237\n",
       "2     4  10  24719.680234  0.844463\n",
       "10   20  10  22759.083822  0.825932\n",
       "23    4   2  24328.658982  0.744526\n",
       "18    4   4  24662.937756  0.673552"
      ]
     },
     "execution_count": 7,
     "metadata": {},
     "output_type": "execute_result"
    }
   ],
   "source": [
    "grid_df[['n', 'kl', 'loss', 'logreg']].sort_values(by=['logreg', 'loss'], ascending=[False, True])"
   ]
  },
  {
   "cell_type": "markdown",
   "id": "apart-louisiana",
   "metadata": {},
   "source": [
    "#### Model choice\n",
    "..."
   ]
  },
  {
   "cell_type": "code",
   "execution_count": 2,
   "id": "fitted-purple",
   "metadata": {},
   "outputs": [],
   "source": [
    "if torch.cuda.is_available():\n",
    "    device = \"cuda:0\""
   ]
  },
  {
   "cell_type": "code",
   "execution_count": 3,
   "id": "cloudy-queensland",
   "metadata": {},
   "outputs": [],
   "source": [
    "model_dir = '/neurospin/dico/lguillon/distmap/gridsearch_lr5e-4/n_75_kl_2/checkpoint.pt'\n",
    "#model_dir = '/neurospin/dico/lguillon/distmap/checkpoint.pt'\n",
    "model = VAE((1, 80, 80, 96), 75, depth=3)\n",
    "model.load_state_dict(torch.load(model_dir))\n",
    "model = model.to(device)"
   ]
  },
  {
   "cell_type": "markdown",
   "id": "general-celebrity",
   "metadata": {},
   "source": [
    "### Data"
   ]
  },
  {
   "cell_type": "code",
   "execution_count": 4,
   "id": "theoretical-simon",
   "metadata": {},
   "outputs": [],
   "source": [
    "subject_dir = \"/neurospin/dico/lguillon/distmap/data/\"\n",
    "data_dir = \"/neurospin/dico/lguillon/distmap/data/\"\n",
    "\n",
    "test_list = pd.read_csv(os.path.join(subject_dir, \"test_list.csv\"))"
   ]
  },
  {
   "cell_type": "code",
   "execution_count": 10,
   "id": "received-criticism",
   "metadata": {
    "scrolled": true
   },
   "outputs": [],
   "source": [
    "# data_dir = \"/neurospin/dico/data/deep_folding/current/datasets/hcp/crops/1mm/SC/no_mask/Rdistmaps\"\n",
    "# tgt_dir = '/neurospin/dico/lguillon/distmap/data'\n",
    "\n",
    "# list_sample_id = []\n",
    "# list_sample_file = []\n",
    "\n",
    "# for sub in tqdm(test_list.subjects):\n",
    "#     distmap = os.path.join(data_dir, f\"{sub}_cropped_distmap.nii.gz\")\n",
    "#     vol = aims.read(distmap)\n",
    "#     sample = np.asarray(vol)\n",
    "#     list_sample_id.append(sub)\n",
    "#     list_sample_file.append(sample)\n",
    "\n",
    "# list_sample_id = np.array(list_sample_id)\n",
    "# list_sample_file = np.array(list_sample_file)\n",
    "# np.save(os.path.join(tgt_dir, 'test_sub_id.npy'), list_sample_id)\n",
    "# np.save(os.path.join(tgt_dir, 'test_distmap.npy'), list_sample_file)\n",
    "# print(\"test set saved !\")"
   ]
  },
  {
   "cell_type": "code",
   "execution_count": 5,
   "id": "dental-marsh",
   "metadata": {},
   "outputs": [
    {
     "name": "stdout",
     "output_type": "stream",
     "text": [
      "(200, 78, 63, 88, 1) (200,)\n"
     ]
    }
   ],
   "source": [
    "data_dir = \"/neurospin/dico/lguillon/distmap/data/\"\n",
    "\n",
    "distmaps = np.load(os.path.join(data_dir, \"test_distmap.npy\"),\n",
    "                   mmap_mode='r')\n",
    "filenames = np.load(os.path.join(data_dir, \"test_sub_id.npy\"))\n",
    "\n",
    "print(distmaps.shape, filenames.shape)\n",
    "\n",
    "subset = SkeletonDataset(dataframe=distmaps,\n",
    "                         filenames=filenames,\n",
    "                         data_transforms=False)\n",
    "\n",
    "testloader = torch.utils.data.DataLoader(\n",
    "               subset,\n",
    "               batch_size=8,\n",
    "               num_workers=8,\n",
    "               shuffle=False) "
   ]
  },
  {
   "cell_type": "markdown",
   "id": "functional-beast",
   "metadata": {},
   "source": [
    "##### SC int\n",
    "[111009, 138231, 510225, 199251, 159946, 140319, 212419] "
   ]
  },
  {
   "cell_type": "code",
   "execution_count": 6,
   "id": "technical-childhood",
   "metadata": {},
   "outputs": [
    {
     "name": "stdout",
     "output_type": "stream",
     "text": [
      "(7, 78, 63, 88, 1) (7,)\n"
     ]
    }
   ],
   "source": [
    "scint_list = ['111009', '138231', '510225', '199251', '159946', '140319', '212419']\n",
    "scint_arr = np.array(['111009', '138231', '510225', '199251', '159946', '140319', '212419'])\n",
    "\n",
    "data_dir = \"/neurospin/dico/data/deep_folding/current/datasets/hcp/crops/1mm/SC/no_mask/Rdistmaps\"\n",
    "\n",
    "distmaps_scint = np.load(os.path.join(data_dir, \"distmap_1mm.npy\"), mmap_mode='r')\n",
    "filenames_scint = np.load(os.path.join(data_dir, \"sub_id.npy\"))\n",
    "\n",
    "ids = np.frompyfunc(lambda x: np.isin(x, scint_arr), 1, 1)(filenames_scint)\n",
    "idxs = [i for i, curr in enumerate(ids) if curr.any()]\n",
    "\n",
    "filenames_scint = filenames_scint[idxs]\n",
    "distmaps_scint = distmaps_scint[idxs]\n",
    "\n",
    "print(distmaps_scint.shape, filenames_scint.shape)\n",
    "\n",
    "subset_scint = SkeletonDataset(dataframe=distmaps_scint,\n",
    "                         filenames=filenames_scint,\n",
    "                         data_transforms=False)\n",
    "\n",
    "scint_loader = torch.utils.data.DataLoader(\n",
    "               subset_scint,\n",
    "               batch_size=1,\n",
    "               num_workers=1,\n",
    "               shuffle=False) "
   ]
  },
  {
   "cell_type": "code",
   "execution_count": 7,
   "id": "impressive-chambers",
   "metadata": {},
   "outputs": [],
   "source": [
    "dico_set_loaders_hcp = {'hcp': testloader, 'scint': scint_loader}\n",
    "\n",
    "root_dir = '/neurospin/dico/lguillon/distmap/analyses_gridsearch/'\n",
    "\n",
    "criterion = nn.MSELoss(reduction='sum')\n",
    "tester_hcp = ModelTester(model=model, dico_set_loaders=dico_set_loaders_hcp,\n",
    "                     loss_func=criterion, kl_weight=2,\n",
    "                     n_latent=75, depth=3)"
   ]
  },
  {
   "cell_type": "code",
   "execution_count": 8,
   "id": "based-chinese",
   "metadata": {
    "scrolled": true
   },
   "outputs": [
    {
     "name": "stdout",
     "output_type": "stream",
     "text": [
      "hcp\n"
     ]
    },
    {
     "ename": "KeyboardInterrupt",
     "evalue": "",
     "output_type": "error",
     "traceback": [
      "\u001b[0;31m---------------------------------------------------------------------------\u001b[0m",
      "\u001b[0;31mKeyboardInterrupt\u001b[0m                         Traceback (most recent call last)",
      "\u001b[0;32m<ipython-input-8-a549debe6786>\u001b[0m in \u001b[0;36m<module>\u001b[0;34m()\u001b[0m\n\u001b[0;32m----> 1\u001b[0;31m \u001b[0mresults_hcp\u001b[0m \u001b[0;34m=\u001b[0m \u001b[0mtester_hcp\u001b[0m\u001b[0;34m.\u001b[0m\u001b[0mtest\u001b[0m\u001b[0;34m(\u001b[0m\u001b[0;34m)\u001b[0m\u001b[0;34m\u001b[0m\u001b[0;34m\u001b[0m\u001b[0m\n\u001b[0m\u001b[1;32m      2\u001b[0m \u001b[0mencoded_hcp\u001b[0m \u001b[0;34m=\u001b[0m \u001b[0;34m{\u001b[0m\u001b[0mloader_name\u001b[0m\u001b[0;34m:\u001b[0m\u001b[0;34m[\u001b[0m\u001b[0mresults_hcp\u001b[0m\u001b[0;34m[\u001b[0m\u001b[0mloader_name\u001b[0m\u001b[0;34m]\u001b[0m\u001b[0;34m[\u001b[0m\u001b[0mk\u001b[0m\u001b[0;34m]\u001b[0m\u001b[0;34m[\u001b[0m\u001b[0;36m1\u001b[0m\u001b[0;34m]\u001b[0m \u001b[0;32mfor\u001b[0m \u001b[0mk\u001b[0m \u001b[0;32min\u001b[0m \u001b[0mresults_hcp\u001b[0m\u001b[0;34m[\u001b[0m\u001b[0mloader_name\u001b[0m\u001b[0;34m]\u001b[0m\u001b[0;34m.\u001b[0m\u001b[0mkeys\u001b[0m\u001b[0;34m(\u001b[0m\u001b[0;34m)\u001b[0m\u001b[0;34m]\u001b[0m \u001b[0;32mfor\u001b[0m \u001b[0mloader_name\u001b[0m \u001b[0;32min\u001b[0m \u001b[0mdico_set_loaders_hcp\u001b[0m\u001b[0;34m.\u001b[0m\u001b[0mkeys\u001b[0m\u001b[0;34m(\u001b[0m\u001b[0;34m)\u001b[0m\u001b[0;34m}\u001b[0m\u001b[0;34m\u001b[0m\u001b[0;34m\u001b[0m\u001b[0m\n\u001b[1;32m      3\u001b[0m \u001b[0mlosses_hcp\u001b[0m \u001b[0;34m=\u001b[0m \u001b[0;34m{\u001b[0m\u001b[0mloader_name\u001b[0m\u001b[0;34m:\u001b[0m\u001b[0;34m[\u001b[0m\u001b[0mint\u001b[0m\u001b[0;34m(\u001b[0m\u001b[0mresults_hcp\u001b[0m\u001b[0;34m[\u001b[0m\u001b[0mloader_name\u001b[0m\u001b[0;34m]\u001b[0m\u001b[0;34m[\u001b[0m\u001b[0mk\u001b[0m\u001b[0;34m]\u001b[0m\u001b[0;34m[\u001b[0m\u001b[0;36m0\u001b[0m\u001b[0;34m]\u001b[0m\u001b[0;34m.\u001b[0m\u001b[0mcpu\u001b[0m\u001b[0;34m(\u001b[0m\u001b[0;34m)\u001b[0m\u001b[0;34m.\u001b[0m\u001b[0mdetach\u001b[0m\u001b[0;34m(\u001b[0m\u001b[0;34m)\u001b[0m\u001b[0;34m.\u001b[0m\u001b[0mnumpy\u001b[0m\u001b[0;34m(\u001b[0m\u001b[0;34m)\u001b[0m\u001b[0;34m)\u001b[0m \u001b[0;32mfor\u001b[0m \u001b[0mk\u001b[0m \u001b[0;32min\u001b[0m \u001b[0mresults_hcp\u001b[0m\u001b[0;34m[\u001b[0m\u001b[0mloader_name\u001b[0m\u001b[0;34m]\u001b[0m\u001b[0;34m.\u001b[0m\u001b[0mkeys\u001b[0m\u001b[0;34m(\u001b[0m\u001b[0;34m)\u001b[0m\u001b[0;34m]\u001b[0m \u001b[0;32mfor\u001b[0m \u001b[0mloader_name\u001b[0m \u001b[0;32min\u001b[0m \u001b[0mdico_set_loaders_hcp\u001b[0m\u001b[0;34m.\u001b[0m\u001b[0mkeys\u001b[0m\u001b[0;34m(\u001b[0m\u001b[0;34m)\u001b[0m\u001b[0;34m}\u001b[0m\u001b[0;34m\u001b[0m\u001b[0;34m\u001b[0m\u001b[0m\n\u001b[1;32m      4\u001b[0m \u001b[0;34m\u001b[0m\u001b[0m\n\u001b[1;32m      5\u001b[0m \u001b[0mdf_encoded_hcp\u001b[0m \u001b[0;34m=\u001b[0m \u001b[0mpd\u001b[0m\u001b[0;34m.\u001b[0m\u001b[0mDataFrame\u001b[0m\u001b[0;34m(\u001b[0m\u001b[0;34m)\u001b[0m\u001b[0;34m\u001b[0m\u001b[0;34m\u001b[0m\u001b[0m\n",
      "\u001b[0;32m/neurospin/dico/lguillon/2022_lguillon_foldInpainting/vae.py\u001b[0m in \u001b[0;36mtest\u001b[0;34m(self)\u001b[0m\n\u001b[1;32m    194\u001b[0m             \u001b[0mself\u001b[0m\u001b[0;34m.\u001b[0m\u001b[0mmodel\u001b[0m\u001b[0;34m.\u001b[0m\u001b[0meval\u001b[0m\u001b[0;34m(\u001b[0m\u001b[0;34m)\u001b[0m\u001b[0;34m\u001b[0m\u001b[0;34m\u001b[0m\u001b[0m\n\u001b[1;32m    195\u001b[0m             \u001b[0;32mwith\u001b[0m \u001b[0mtorch\u001b[0m\u001b[0;34m.\u001b[0m\u001b[0mno_grad\u001b[0m\u001b[0;34m(\u001b[0m\u001b[0;34m)\u001b[0m\u001b[0;34m:\u001b[0m\u001b[0;34m\u001b[0m\u001b[0;34m\u001b[0m\u001b[0m\n\u001b[0;32m--> 196\u001b[0;31m                 \u001b[0;32mfor\u001b[0m \u001b[0minputs\u001b[0m\u001b[0;34m,\u001b[0m \u001b[0mpath\u001b[0m \u001b[0;32min\u001b[0m \u001b[0mloader\u001b[0m\u001b[0;34m:\u001b[0m\u001b[0;34m\u001b[0m\u001b[0;34m\u001b[0m\u001b[0m\n\u001b[0m\u001b[1;32m    197\u001b[0m                     \u001b[0minputs\u001b[0m \u001b[0;34m=\u001b[0m \u001b[0mVariable\u001b[0m\u001b[0;34m(\u001b[0m\u001b[0minputs\u001b[0m\u001b[0;34m)\u001b[0m\u001b[0;34m.\u001b[0m\u001b[0mto\u001b[0m\u001b[0;34m(\u001b[0m\u001b[0mdevice\u001b[0m\u001b[0;34m,\u001b[0m \u001b[0mdtype\u001b[0m\u001b[0;34m=\u001b[0m\u001b[0mtorch\u001b[0m\u001b[0;34m.\u001b[0m\u001b[0mfloat32\u001b[0m\u001b[0;34m)\u001b[0m\u001b[0;34m\u001b[0m\u001b[0;34m\u001b[0m\u001b[0m\n\u001b[1;32m    198\u001b[0m                     \u001b[0moutput\u001b[0m\u001b[0;34m,\u001b[0m \u001b[0mz\u001b[0m\u001b[0;34m,\u001b[0m \u001b[0mlogvar\u001b[0m \u001b[0;34m=\u001b[0m \u001b[0mself\u001b[0m\u001b[0;34m.\u001b[0m\u001b[0mmodel\u001b[0m\u001b[0;34m(\u001b[0m\u001b[0minputs\u001b[0m\u001b[0;34m)\u001b[0m\u001b[0;34m\u001b[0m\u001b[0;34m\u001b[0m\u001b[0m\n",
      "\u001b[0;32m/casa/home/.local/lib/python3.6/site-packages/torch/utils/data/dataloader.py\u001b[0m in \u001b[0;36m__next__\u001b[0;34m(self)\u001b[0m\n\u001b[1;32m    519\u001b[0m             \u001b[0;32mif\u001b[0m \u001b[0mself\u001b[0m\u001b[0;34m.\u001b[0m\u001b[0m_sampler_iter\u001b[0m \u001b[0;32mis\u001b[0m \u001b[0;32mNone\u001b[0m\u001b[0;34m:\u001b[0m\u001b[0;34m\u001b[0m\u001b[0;34m\u001b[0m\u001b[0m\n\u001b[1;32m    520\u001b[0m                 \u001b[0mself\u001b[0m\u001b[0;34m.\u001b[0m\u001b[0m_reset\u001b[0m\u001b[0;34m(\u001b[0m\u001b[0;34m)\u001b[0m\u001b[0;34m\u001b[0m\u001b[0;34m\u001b[0m\u001b[0m\n\u001b[0;32m--> 521\u001b[0;31m             \u001b[0mdata\u001b[0m \u001b[0;34m=\u001b[0m \u001b[0mself\u001b[0m\u001b[0;34m.\u001b[0m\u001b[0m_next_data\u001b[0m\u001b[0;34m(\u001b[0m\u001b[0;34m)\u001b[0m\u001b[0;34m\u001b[0m\u001b[0;34m\u001b[0m\u001b[0m\n\u001b[0m\u001b[1;32m    522\u001b[0m             \u001b[0mself\u001b[0m\u001b[0;34m.\u001b[0m\u001b[0m_num_yielded\u001b[0m \u001b[0;34m+=\u001b[0m \u001b[0;36m1\u001b[0m\u001b[0;34m\u001b[0m\u001b[0;34m\u001b[0m\u001b[0m\n\u001b[1;32m    523\u001b[0m             \u001b[0;32mif\u001b[0m \u001b[0mself\u001b[0m\u001b[0;34m.\u001b[0m\u001b[0m_dataset_kind\u001b[0m \u001b[0;34m==\u001b[0m \u001b[0m_DatasetKind\u001b[0m\u001b[0;34m.\u001b[0m\u001b[0mIterable\u001b[0m \u001b[0;32mand\u001b[0m\u001b[0;31m \u001b[0m\u001b[0;31m\\\u001b[0m\u001b[0;34m\u001b[0m\u001b[0;34m\u001b[0m\u001b[0m\n",
      "\u001b[0;32m/casa/home/.local/lib/python3.6/site-packages/torch/utils/data/dataloader.py\u001b[0m in \u001b[0;36m_next_data\u001b[0;34m(self)\u001b[0m\n\u001b[1;32m   1184\u001b[0m \u001b[0;34m\u001b[0m\u001b[0m\n\u001b[1;32m   1185\u001b[0m             \u001b[0;32massert\u001b[0m \u001b[0;32mnot\u001b[0m \u001b[0mself\u001b[0m\u001b[0;34m.\u001b[0m\u001b[0m_shutdown\u001b[0m \u001b[0;32mand\u001b[0m \u001b[0mself\u001b[0m\u001b[0;34m.\u001b[0m\u001b[0m_tasks_outstanding\u001b[0m \u001b[0;34m>\u001b[0m \u001b[0;36m0\u001b[0m\u001b[0;34m\u001b[0m\u001b[0;34m\u001b[0m\u001b[0m\n\u001b[0;32m-> 1186\u001b[0;31m             \u001b[0midx\u001b[0m\u001b[0;34m,\u001b[0m \u001b[0mdata\u001b[0m \u001b[0;34m=\u001b[0m \u001b[0mself\u001b[0m\u001b[0;34m.\u001b[0m\u001b[0m_get_data\u001b[0m\u001b[0;34m(\u001b[0m\u001b[0;34m)\u001b[0m\u001b[0;34m\u001b[0m\u001b[0;34m\u001b[0m\u001b[0m\n\u001b[0m\u001b[1;32m   1187\u001b[0m             \u001b[0mself\u001b[0m\u001b[0;34m.\u001b[0m\u001b[0m_tasks_outstanding\u001b[0m \u001b[0;34m-=\u001b[0m \u001b[0;36m1\u001b[0m\u001b[0;34m\u001b[0m\u001b[0;34m\u001b[0m\u001b[0m\n\u001b[1;32m   1188\u001b[0m             \u001b[0;32mif\u001b[0m \u001b[0mself\u001b[0m\u001b[0;34m.\u001b[0m\u001b[0m_dataset_kind\u001b[0m \u001b[0;34m==\u001b[0m \u001b[0m_DatasetKind\u001b[0m\u001b[0;34m.\u001b[0m\u001b[0mIterable\u001b[0m\u001b[0;34m:\u001b[0m\u001b[0;34m\u001b[0m\u001b[0;34m\u001b[0m\u001b[0m\n",
      "\u001b[0;32m/casa/home/.local/lib/python3.6/site-packages/torch/utils/data/dataloader.py\u001b[0m in \u001b[0;36m_get_data\u001b[0;34m(self)\u001b[0m\n\u001b[1;32m   1150\u001b[0m         \u001b[0;32melse\u001b[0m\u001b[0;34m:\u001b[0m\u001b[0;34m\u001b[0m\u001b[0;34m\u001b[0m\u001b[0m\n\u001b[1;32m   1151\u001b[0m             \u001b[0;32mwhile\u001b[0m \u001b[0;32mTrue\u001b[0m\u001b[0;34m:\u001b[0m\u001b[0;34m\u001b[0m\u001b[0;34m\u001b[0m\u001b[0m\n\u001b[0;32m-> 1152\u001b[0;31m                 \u001b[0msuccess\u001b[0m\u001b[0;34m,\u001b[0m \u001b[0mdata\u001b[0m \u001b[0;34m=\u001b[0m \u001b[0mself\u001b[0m\u001b[0;34m.\u001b[0m\u001b[0m_try_get_data\u001b[0m\u001b[0;34m(\u001b[0m\u001b[0;34m)\u001b[0m\u001b[0;34m\u001b[0m\u001b[0;34m\u001b[0m\u001b[0m\n\u001b[0m\u001b[1;32m   1153\u001b[0m                 \u001b[0;32mif\u001b[0m \u001b[0msuccess\u001b[0m\u001b[0;34m:\u001b[0m\u001b[0;34m\u001b[0m\u001b[0;34m\u001b[0m\u001b[0m\n\u001b[1;32m   1154\u001b[0m                     \u001b[0;32mreturn\u001b[0m \u001b[0mdata\u001b[0m\u001b[0;34m\u001b[0m\u001b[0;34m\u001b[0m\u001b[0m\n",
      "\u001b[0;32m/casa/home/.local/lib/python3.6/site-packages/torch/utils/data/dataloader.py\u001b[0m in \u001b[0;36m_try_get_data\u001b[0;34m(self, timeout)\u001b[0m\n\u001b[1;32m    988\u001b[0m         \u001b[0;31m#   (bool: whether successfully get data, any: data if successful else None)\u001b[0m\u001b[0;34m\u001b[0m\u001b[0;34m\u001b[0m\u001b[0;34m\u001b[0m\u001b[0m\n\u001b[1;32m    989\u001b[0m         \u001b[0;32mtry\u001b[0m\u001b[0;34m:\u001b[0m\u001b[0;34m\u001b[0m\u001b[0;34m\u001b[0m\u001b[0m\n\u001b[0;32m--> 990\u001b[0;31m             \u001b[0mdata\u001b[0m \u001b[0;34m=\u001b[0m \u001b[0mself\u001b[0m\u001b[0;34m.\u001b[0m\u001b[0m_data_queue\u001b[0m\u001b[0;34m.\u001b[0m\u001b[0mget\u001b[0m\u001b[0;34m(\u001b[0m\u001b[0mtimeout\u001b[0m\u001b[0;34m=\u001b[0m\u001b[0mtimeout\u001b[0m\u001b[0;34m)\u001b[0m\u001b[0;34m\u001b[0m\u001b[0;34m\u001b[0m\u001b[0m\n\u001b[0m\u001b[1;32m    991\u001b[0m             \u001b[0;32mreturn\u001b[0m \u001b[0;34m(\u001b[0m\u001b[0;32mTrue\u001b[0m\u001b[0;34m,\u001b[0m \u001b[0mdata\u001b[0m\u001b[0;34m)\u001b[0m\u001b[0;34m\u001b[0m\u001b[0;34m\u001b[0m\u001b[0m\n\u001b[1;32m    992\u001b[0m         \u001b[0;32mexcept\u001b[0m \u001b[0mException\u001b[0m \u001b[0;32mas\u001b[0m \u001b[0me\u001b[0m\u001b[0;34m:\u001b[0m\u001b[0;34m\u001b[0m\u001b[0;34m\u001b[0m\u001b[0m\n",
      "\u001b[0;32m/usr/lib/python3.6/multiprocessing/queues.py\u001b[0m in \u001b[0;36mget\u001b[0;34m(self, block, timeout)\u001b[0m\n\u001b[1;32m    102\u001b[0m                 \u001b[0;32mif\u001b[0m \u001b[0mblock\u001b[0m\u001b[0;34m:\u001b[0m\u001b[0;34m\u001b[0m\u001b[0;34m\u001b[0m\u001b[0m\n\u001b[1;32m    103\u001b[0m                     \u001b[0mtimeout\u001b[0m \u001b[0;34m=\u001b[0m \u001b[0mdeadline\u001b[0m \u001b[0;34m-\u001b[0m \u001b[0mtime\u001b[0m\u001b[0;34m.\u001b[0m\u001b[0mmonotonic\u001b[0m\u001b[0;34m(\u001b[0m\u001b[0;34m)\u001b[0m\u001b[0;34m\u001b[0m\u001b[0;34m\u001b[0m\u001b[0m\n\u001b[0;32m--> 104\u001b[0;31m                     \u001b[0;32mif\u001b[0m \u001b[0;32mnot\u001b[0m \u001b[0mself\u001b[0m\u001b[0;34m.\u001b[0m\u001b[0m_poll\u001b[0m\u001b[0;34m(\u001b[0m\u001b[0mtimeout\u001b[0m\u001b[0;34m)\u001b[0m\u001b[0;34m:\u001b[0m\u001b[0;34m\u001b[0m\u001b[0;34m\u001b[0m\u001b[0m\n\u001b[0m\u001b[1;32m    105\u001b[0m                         \u001b[0;32mraise\u001b[0m \u001b[0mEmpty\u001b[0m\u001b[0;34m\u001b[0m\u001b[0;34m\u001b[0m\u001b[0m\n\u001b[1;32m    106\u001b[0m                 \u001b[0;32melif\u001b[0m \u001b[0;32mnot\u001b[0m \u001b[0mself\u001b[0m\u001b[0;34m.\u001b[0m\u001b[0m_poll\u001b[0m\u001b[0;34m(\u001b[0m\u001b[0;34m)\u001b[0m\u001b[0;34m:\u001b[0m\u001b[0;34m\u001b[0m\u001b[0;34m\u001b[0m\u001b[0m\n",
      "\u001b[0;32m/usr/lib/python3.6/multiprocessing/connection.py\u001b[0m in \u001b[0;36mpoll\u001b[0;34m(self, timeout)\u001b[0m\n\u001b[1;32m    255\u001b[0m         \u001b[0mself\u001b[0m\u001b[0;34m.\u001b[0m\u001b[0m_check_closed\u001b[0m\u001b[0;34m(\u001b[0m\u001b[0;34m)\u001b[0m\u001b[0;34m\u001b[0m\u001b[0;34m\u001b[0m\u001b[0m\n\u001b[1;32m    256\u001b[0m         \u001b[0mself\u001b[0m\u001b[0;34m.\u001b[0m\u001b[0m_check_readable\u001b[0m\u001b[0;34m(\u001b[0m\u001b[0;34m)\u001b[0m\u001b[0;34m\u001b[0m\u001b[0;34m\u001b[0m\u001b[0m\n\u001b[0;32m--> 257\u001b[0;31m         \u001b[0;32mreturn\u001b[0m \u001b[0mself\u001b[0m\u001b[0;34m.\u001b[0m\u001b[0m_poll\u001b[0m\u001b[0;34m(\u001b[0m\u001b[0mtimeout\u001b[0m\u001b[0;34m)\u001b[0m\u001b[0;34m\u001b[0m\u001b[0;34m\u001b[0m\u001b[0m\n\u001b[0m\u001b[1;32m    258\u001b[0m \u001b[0;34m\u001b[0m\u001b[0m\n\u001b[1;32m    259\u001b[0m     \u001b[0;32mdef\u001b[0m \u001b[0m__enter__\u001b[0m\u001b[0;34m(\u001b[0m\u001b[0mself\u001b[0m\u001b[0;34m)\u001b[0m\u001b[0;34m:\u001b[0m\u001b[0;34m\u001b[0m\u001b[0;34m\u001b[0m\u001b[0m\n",
      "\u001b[0;32m/usr/lib/python3.6/multiprocessing/connection.py\u001b[0m in \u001b[0;36m_poll\u001b[0;34m(self, timeout)\u001b[0m\n\u001b[1;32m    412\u001b[0m \u001b[0;34m\u001b[0m\u001b[0m\n\u001b[1;32m    413\u001b[0m     \u001b[0;32mdef\u001b[0m \u001b[0m_poll\u001b[0m\u001b[0;34m(\u001b[0m\u001b[0mself\u001b[0m\u001b[0;34m,\u001b[0m \u001b[0mtimeout\u001b[0m\u001b[0;34m)\u001b[0m\u001b[0;34m:\u001b[0m\u001b[0;34m\u001b[0m\u001b[0;34m\u001b[0m\u001b[0m\n\u001b[0;32m--> 414\u001b[0;31m         \u001b[0mr\u001b[0m \u001b[0;34m=\u001b[0m \u001b[0mwait\u001b[0m\u001b[0;34m(\u001b[0m\u001b[0;34m[\u001b[0m\u001b[0mself\u001b[0m\u001b[0;34m]\u001b[0m\u001b[0;34m,\u001b[0m \u001b[0mtimeout\u001b[0m\u001b[0;34m)\u001b[0m\u001b[0;34m\u001b[0m\u001b[0;34m\u001b[0m\u001b[0m\n\u001b[0m\u001b[1;32m    415\u001b[0m         \u001b[0;32mreturn\u001b[0m \u001b[0mbool\u001b[0m\u001b[0;34m(\u001b[0m\u001b[0mr\u001b[0m\u001b[0;34m)\u001b[0m\u001b[0;34m\u001b[0m\u001b[0;34m\u001b[0m\u001b[0m\n\u001b[1;32m    416\u001b[0m \u001b[0;34m\u001b[0m\u001b[0m\n",
      "\u001b[0;32m/usr/lib/python3.6/multiprocessing/connection.py\u001b[0m in \u001b[0;36mwait\u001b[0;34m(object_list, timeout)\u001b[0m\n\u001b[1;32m    909\u001b[0m \u001b[0;34m\u001b[0m\u001b[0m\n\u001b[1;32m    910\u001b[0m             \u001b[0;32mwhile\u001b[0m \u001b[0;32mTrue\u001b[0m\u001b[0;34m:\u001b[0m\u001b[0;34m\u001b[0m\u001b[0;34m\u001b[0m\u001b[0m\n\u001b[0;32m--> 911\u001b[0;31m                 \u001b[0mready\u001b[0m \u001b[0;34m=\u001b[0m \u001b[0mselector\u001b[0m\u001b[0;34m.\u001b[0m\u001b[0mselect\u001b[0m\u001b[0;34m(\u001b[0m\u001b[0mtimeout\u001b[0m\u001b[0;34m)\u001b[0m\u001b[0;34m\u001b[0m\u001b[0;34m\u001b[0m\u001b[0m\n\u001b[0m\u001b[1;32m    912\u001b[0m                 \u001b[0;32mif\u001b[0m \u001b[0mready\u001b[0m\u001b[0;34m:\u001b[0m\u001b[0;34m\u001b[0m\u001b[0;34m\u001b[0m\u001b[0m\n\u001b[1;32m    913\u001b[0m                     \u001b[0;32mreturn\u001b[0m \u001b[0;34m[\u001b[0m\u001b[0mkey\u001b[0m\u001b[0;34m.\u001b[0m\u001b[0mfileobj\u001b[0m \u001b[0;32mfor\u001b[0m \u001b[0;34m(\u001b[0m\u001b[0mkey\u001b[0m\u001b[0;34m,\u001b[0m \u001b[0mevents\u001b[0m\u001b[0;34m)\u001b[0m \u001b[0;32min\u001b[0m \u001b[0mready\u001b[0m\u001b[0;34m]\u001b[0m\u001b[0;34m\u001b[0m\u001b[0;34m\u001b[0m\u001b[0m\n",
      "\u001b[0;32m/usr/lib/python3.6/selectors.py\u001b[0m in \u001b[0;36mselect\u001b[0;34m(self, timeout)\u001b[0m\n\u001b[1;32m    374\u001b[0m             \u001b[0mready\u001b[0m \u001b[0;34m=\u001b[0m \u001b[0;34m[\u001b[0m\u001b[0;34m]\u001b[0m\u001b[0;34m\u001b[0m\u001b[0;34m\u001b[0m\u001b[0m\n\u001b[1;32m    375\u001b[0m             \u001b[0;32mtry\u001b[0m\u001b[0;34m:\u001b[0m\u001b[0;34m\u001b[0m\u001b[0;34m\u001b[0m\u001b[0m\n\u001b[0;32m--> 376\u001b[0;31m                 \u001b[0mfd_event_list\u001b[0m \u001b[0;34m=\u001b[0m \u001b[0mself\u001b[0m\u001b[0;34m.\u001b[0m\u001b[0m_poll\u001b[0m\u001b[0;34m.\u001b[0m\u001b[0mpoll\u001b[0m\u001b[0;34m(\u001b[0m\u001b[0mtimeout\u001b[0m\u001b[0;34m)\u001b[0m\u001b[0;34m\u001b[0m\u001b[0;34m\u001b[0m\u001b[0m\n\u001b[0m\u001b[1;32m    377\u001b[0m             \u001b[0;32mexcept\u001b[0m \u001b[0mInterruptedError\u001b[0m\u001b[0;34m:\u001b[0m\u001b[0;34m\u001b[0m\u001b[0;34m\u001b[0m\u001b[0m\n\u001b[1;32m    378\u001b[0m                 \u001b[0;32mreturn\u001b[0m \u001b[0mready\u001b[0m\u001b[0;34m\u001b[0m\u001b[0;34m\u001b[0m\u001b[0m\n",
      "\u001b[0;31mKeyboardInterrupt\u001b[0m: "
     ]
    }
   ],
   "source": [
    "results_hcp = tester_hcp.test()\n",
    "encoded_hcp = {loader_name:[results_hcp[loader_name][k][1] for k in results_hcp[loader_name].keys()] for loader_name in dico_set_loaders_hcp.keys()}\n",
    "losses_hcp = {loader_name:[int(results_hcp[loader_name][k][0].cpu().detach().numpy()) for k in results_hcp[loader_name].keys()] for loader_name in dico_set_loaders_hcp.keys()}\n",
    "\n",
    "df_encoded_hcp = pd.DataFrame()\n",
    "df_encoded_hcp['latent'] = encoded_hcp['hcp'] + encoded_hcp['scint'] \n",
    "df_encoded_hcp['Group'] = ['hcp' for k in range(len(filenames))] + ['scint' for k in range(len(filenames_scint))]"
   ]
  },
  {
   "cell_type": "markdown",
   "id": "widespread-cotton",
   "metadata": {},
   "source": [
    "### Analysis of latent space"
   ]
  },
  {
   "cell_type": "markdown",
   "id": "radical-primary",
   "metadata": {},
   "source": [
    "#### Reduced space - TSNE / UMAP"
   ]
  },
  {
   "cell_type": "code",
   "execution_count": 10,
   "id": "marine-silly",
   "metadata": {},
   "outputs": [],
   "source": [
    "X_hcp = np.array(list(df_encoded_hcp['latent']))\n",
    "labels_hcp = np.array(df_encoded_hcp['Group'])\n",
    "\n",
    "from sklearn.manifold import TSNE\n",
    "X_embedded_hcp = TSNE(n_components=2, random_state=12, perplexity=40).fit_transform(X_hcp)"
   ]
  },
  {
   "cell_type": "code",
   "execution_count": 11,
   "id": "alien-choir",
   "metadata": {},
   "outputs": [],
   "source": [
    "subjects_name_hcp = ['' for k in filenames] + scint_list "
   ]
  },
  {
   "cell_type": "code",
   "execution_count": 12,
   "id": "adolescent-settle",
   "metadata": {},
   "outputs": [
    {
     "data": {
      "image/png": "[encoded data removed]",
      "text/plain": [
       "<Figure size 864x864 with 1 Axes>"
      ]
     },
     "metadata": {
      "needs_background": "light"
     },
     "output_type": "display_data"
    }
   ],
   "source": [
    "arr = X_embedded_hcp\n",
    "color_dict = {'hcp':'mediumseagreen', 'scint': 'red'}\n",
    "\n",
    "fig = plt.figure(figsize=(12,12))\n",
    "ax = fig.subplots()\n",
    "\n",
    "for g in np.unique(labels_hcp):\n",
    "    ix = np.where(labels_hcp == g)\n",
    "    x = [arr[ix][k][0] for k in range(len(ix[0]))]\n",
    "    y = [arr[ix][k][1] for k in range(len(ix[0]))]\n",
    "    g_lab= f\"{g}\"\n",
    "    ax.scatter(x, y, c = color_dict[g], label = g_lab)\n",
    "    \n",
    "for i, txt in enumerate(subjects_name_hcp):\n",
    "    ax.annotate(txt, (arr[i][0], arr[i][1]))\n",
    "    \n",
    "plt.legend(bbox_to_anchor=(1.04,1), borderaxespad=0)\n",
    "\n",
    "plt.xlabel(f'tSNE dimension 1', fontsize=14)\n",
    "plt.ylabel(f'tSNE dimension 2', fontsize=14)\n",
    "plt.show()"
   ]
  },
  {
   "cell_type": "code",
   "execution_count": 12,
   "id": "beneficial-nothing",
   "metadata": {
    "scrolled": false
   },
   "outputs": [
    {
     "data": {
      "image/png": "[encoded data removed]",
      "text/plain": [
       "<Figure size 864x864 with 1 Axes>"
      ]
     },
     "metadata": {
      "needs_background": "light"
     },
     "output_type": "display_data"
    }
   ],
   "source": [
    "reducer = umap.UMAP()\n",
    "embedding = reducer.fit_transform(X)\n",
    "\n",
    "fig = plt.figure(figsize=(12,12))\n",
    "ax = fig.subplots()\n",
    "\n",
    "for g in np.unique(labels):\n",
    "    ix = np.where(labels == g)\n",
    "    x = [embedding[ix][k][0] for k in range(len(ix[0]))]\n",
    "    y = [embedding[ix][k][1] for k in range(len(ix[0]))]\n",
    "    g_lab= f\"{g}\"\n",
    "    ax.scatter(x, y, c = color_dict[g], label = g_lab)\n",
    "    \n",
    "for i, txt in enumerate(subjects_name):\n",
    "    ax.annotate(txt, (embedding[i][0], embedding[i][1]))\n",
    "    \n",
    "plt.legend(bbox_to_anchor=(1.04,1), borderaxespad=0)\n",
    "\n",
    "plt.xlabel(f'UMAP dimension 1', fontsize=14)\n",
    "plt.ylabel(f'UMAP dimension 2', fontsize=14)\n",
    "plt.show()"
   ]
  },
  {
   "cell_type": "markdown",
   "id": "sustainable-bristol",
   "metadata": {},
   "source": [
    "### Outlier detection ML algorithm"
   ]
  },
  {
   "cell_type": "code",
   "execution_count": 13,
   "id": "innovative-first",
   "metadata": {},
   "outputs": [
    {
     "data": {
      "text/plain": [
       "array([-1,  1, -1,  1,  1,  1, -1,  1,  1,  1,  1,  1,  1,  1,  1,  1,  1,\n",
       "        1,  1, -1,  1,  1,  1, -1,  1,  1,  1,  1,  1,  1,  1,  1,  1,  1,\n",
       "       -1,  1,  1,  1,  1, -1, -1, -1, -1, -1,  1, -1,  1,  1, -1,  1,  1,\n",
       "       -1,  1,  1,  1,  1,  1,  1,  1,  1,  1,  1,  1,  1,  1,  1,  1, -1,\n",
       "       -1,  1,  1,  1,  1, -1,  1,  1,  1,  1,  1,  1,  1,  1,  1, -1,  1,\n",
       "        1,  1,  1,  1,  1,  1,  1, -1,  1,  1, -1, -1, -1, -1,  1, -1, -1,\n",
       "       -1,  1,  1,  1,  1,  1,  1, -1,  1, -1, -1, -1,  1, -1,  1,  1,  1,\n",
       "       -1, -1,  1,  1,  1, -1, -1, -1,  1, -1,  1, -1,  1,  1,  1,  1,  1,\n",
       "        1,  1,  1, -1,  1,  1,  1,  1,  1,  1,  1, -1,  1,  1,  1,  1,  1,\n",
       "        1,  1,  1,  1, -1,  1,  1,  1,  1, -1, -1,  1,  1,  1,  1,  1, -1,\n",
       "        1,  1,  1, -1,  1, -1,  1,  1,  1,  1,  1,  1,  1,  1,  1,  1,  1,\n",
       "        1, -1,  1,  1,  1,  1,  1, -1,  1,  1,  1,  1, -1, -1,  1,  1,  1,\n",
       "        1, -1, -1])"
      ]
     },
     "execution_count": 13,
     "metadata": {},
     "output_type": "execute_result"
    }
   ],
   "source": [
    "\"\"\" OCSVM \"\"\"\n",
    "clf = OneClassSVM(nu=0.25).fit(X_embedded)\n",
    "clf.predict(X_embedded)"
   ]
  },
  {
   "cell_type": "code",
   "execution_count": 14,
   "id": "formed-appendix",
   "metadata": {},
   "outputs": [
    {
     "data": {
      "text/plain": [
       "array([1, 1, 1, 1, 1, 1, 1, 1, 1, 1, 1, 1, 1, 1, 1, 1, 1, 1, 1, 1, 1, 1,\n",
       "       1, 1, 1, 1, 1, 1, 1, 1, 1, 1, 1, 1, 1, 1, 1, 1, 1, 1, 1, 1, 1, 1,\n",
       "       1, 1, 1, 1, 1, 1, 1, 1, 1, 1, 1, 1, 1, 1, 1, 1, 1, 1, 1, 1, 1, 1,\n",
       "       1, 1, 1, 1, 1, 1, 1, 1, 1, 1, 1, 1, 1, 1, 1, 1, 1, 1, 1, 1, 1, 1,\n",
       "       1, 1, 1, 1, 1, 1, 1, 1, 1, 1, 1, 1, 1, 1, 1, 1, 1, 1, 1, 1, 1, 1,\n",
       "       1, 1, 1, 1, 1, 1, 1, 1, 1, 1, 1, 1, 1, 1, 1, 1, 1, 1, 1, 1, 1, 1,\n",
       "       1, 1, 1, 1, 1, 1, 1, 1, 1, 1, 1, 1, 1, 1, 1, 1, 1, 1, 1, 1, 1, 1,\n",
       "       1, 1, 1, 1, 1, 1, 1, 1, 1, 1, 1, 1, 1, 1, 1, 1, 1, 1, 1, 1, 1, 1,\n",
       "       1, 1, 1, 1, 1, 1, 1, 1, 1, 1, 1, 1, 1, 1, 1, 1, 1, 1, 1, 1, 1, 1,\n",
       "       1, 1, 1, 1, 1, 1, 1, 1, 1])"
      ]
     },
     "execution_count": 14,
     "metadata": {},
     "output_type": "execute_result"
    }
   ],
   "source": [
    "clf = LocalOutlierFactor()\n",
    "clf.fit_predict(X_embedded)"
   ]
  },
  {
   "cell_type": "code",
   "execution_count": 15,
   "id": "floppy-thought",
   "metadata": {},
   "outputs": [
    {
     "data": {
      "text/plain": [
       "array([-1,  1, -1,  1,  1,  1,  1,  1,  1,  1,  1,  1,  1,  1,  1,  1,  1,\n",
       "        1,  1,  1,  1,  1,  1,  1,  1,  1,  1,  1,  1,  1,  1,  1,  1,  1,\n",
       "        1, -1,  1,  1,  1, -1,  1,  1,  1, -1,  1,  1,  1,  1,  1,  1,  1,\n",
       "        1,  1,  1, -1, -1,  1,  1,  1,  1,  1,  1,  1,  1,  1,  1,  1,  1,\n",
       "        1,  1,  1,  1,  1,  1,  1,  1,  1,  1,  1,  1,  1,  1,  1,  1,  1,\n",
       "        1,  1,  1,  1,  1,  1, -1,  1,  1,  1,  1,  1, -1,  1,  1,  1,  1,\n",
       "        1,  1, -1,  1,  1,  1,  1, -1,  1,  1,  1,  1,  1,  1,  1,  1,  1,\n",
       "        1,  1,  1,  1,  1,  1, -1,  1,  1,  1,  1,  1,  1,  1,  1,  1,  1,\n",
       "       -1,  1,  1,  1,  1,  1,  1,  1,  1,  1,  1,  1,  1,  1,  1, -1,  1,\n",
       "        1,  1, -1,  1, -1,  1, -1,  1,  1,  1,  1,  1,  1,  1,  1,  1,  1,\n",
       "        1,  1,  1,  1,  1,  1,  1,  1,  1,  1,  1,  1,  1,  1,  1,  1,  1,\n",
       "        1,  1,  1,  1,  1,  1,  1,  1, -1, -1,  1,  1, -1,  1, -1,  1,  1,\n",
       "        1,  1,  1])"
      ]
     },
     "execution_count": 15,
     "metadata": {},
     "output_type": "execute_result"
    }
   ],
   "source": [
    "clf = IsolationForest(random_state=10, contamination=0.1).fit(embedding)\n",
    "clf.predict(embedding)"
   ]
  },
  {
   "cell_type": "markdown",
   "id": "collaborative-pearl",
   "metadata": {},
   "source": [
    "No outlier is detected, except with OCSVM which seems rather random"
   ]
  },
  {
   "cell_type": "markdown",
   "id": "adapted-angola",
   "metadata": {},
   "source": [
    "### Classifiers"
   ]
  },
  {
   "cell_type": "code",
   "execution_count": 65,
   "id": "physical-mistake",
   "metadata": {
    "scrolled": true
   },
   "outputs": [
    {
     "name": "stdout",
     "output_type": "stream",
     "text": [
      "(29, 78, 63, 88, 1) (29,)\n",
      "(23, 78, 63, 88, 1) (23,)\n"
     ]
    }
   ],
   "source": [
    "\"\"\" Benchmark data \"\"\"\n",
    "filenames = np.load(os.path.join('/neurospin/dico/lguillon/distmap/data', \"train_sub_id.npy\"))\n",
    "\n",
    "# Precentral\n",
    "b_dir_pre = '/neurospin/dico/data/deep_folding/current/' \\\n",
    "                        'datasets/hcp/crops/1mm/precentral/no_mask/benchmark/'\n",
    "\n",
    "df = pd.read_csv(\"/neurospin/dico/lguillon/distmap/\" \\\n",
    "                     \"pre_post_ambiguity_search/subject_pre.csv\")\n",
    "train_list = np.array(list(df.subjects))\n",
    "\n",
    "distmaps = np.load(os.path.join(b_dir_pre, \"distmap_1mm.npy\"),\n",
    "                   mmap_mode='r')\n",
    "\n",
    "sorter = np.argsort(filenames)\n",
    "filenames_idx = sorter[np.searchsorted(filenames, train_list, sorter=sorter)]\n",
    "filenames = filenames[filenames_idx]\n",
    "distmaps = distmaps[filenames_idx]\n",
    "\n",
    "print(distmaps.shape, filenames.shape)\n",
    "\n",
    "benchmark_pre = SkeletonDataset(dataframe=distmaps,\n",
    "                         filenames=filenames,\n",
    "                             data_transforms=False)\n",
    "# Postcentral\n",
    "filenames = np.load(os.path.join('/neurospin/dico/lguillon/distmap/data', \"train_sub_id.npy\"))\n",
    "\n",
    "b_dir_post = '/neurospin/dico/data/deep_folding/current/' \\\n",
    "                        'datasets/hcp/crops/1mm/postcentral/no_mask/benchmark'\n",
    "\n",
    "df = pd.read_csv(\"/neurospin/dico/lguillon/distmap/\" \\\n",
    "                     \"pre_post_ambiguity_search/subject_post.csv\")\n",
    "train_list = np.array(list(df.subjects))\n",
    "\n",
    "distmaps = np.load(os.path.join(b_dir_post, \"distmap_1mm.npy\"),\n",
    "                   mmap_mode='r')\n",
    "\n",
    "sorter = np.argsort(filenames)\n",
    "filenames_idx = sorter[np.searchsorted(filenames, train_list, sorter=sorter)]\n",
    "filenames = filenames[filenames_idx]\n",
    "distmaps = distmaps[filenames_idx]\n",
    "\n",
    "print(distmaps.shape, filenames.shape)\n",
    "\n",
    "benchmark_post = SkeletonDataset(dataframe=distmaps,\n",
    "                                 filenames=filenames,\n",
    "                                 data_transforms=False)\n",
    "\n",
    "benchloader_pre = torch.utils.data.DataLoader(\n",
    "                  benchmark_pre,\n",
    "                  batch_size=1,\n",
    "                  num_workers=8,\n",
    "                  shuffle=False)\n",
    "benchloader_post = torch.utils.data.DataLoader(\n",
    "                   benchmark_post,\n",
    "                   batch_size=1,\n",
    "                   num_workers=8,\n",
    "                   shuffle=False)"
   ]
  },
  {
   "cell_type": "code",
   "execution_count": 67,
   "id": "laden-period",
   "metadata": {},
   "outputs": [
    {
     "name": "stdout",
     "output_type": "stream",
     "text": [
      "hcp\n",
      "scint\n",
      "pre\n",
      "post\n"
     ]
    }
   ],
   "source": [
    "dico_set_loaders = {'hcp': testloader, 'scint': scint_loader, 'pre': benchloader_pre, 'post': benchloader_post}\n",
    "\n",
    "tester = ModelTester(model=model, dico_set_loaders=dico_set_loaders,\n",
    "                     loss_func=criterion, kl_weight=4,\n",
    "                     n_latent=100, depth=3)\n",
    "\n",
    "results_classif = tester.test()\n",
    "encoded_classif = {loader_name:[results_classif[loader_name][k][1] for k in results_classif[loader_name].keys()] for loader_name in dico_set_loaders.keys()}\n",
    "losses_classif = {loader_name:[int(results_classif[loader_name][k][0].cpu().detach().numpy()) for k in results_classif[loader_name].keys()] for loader_name in dico_set_loaders.keys()}\n",
    "\n",
    "df_encoded_classif = pd.DataFrame()\n",
    "df_encoded_classif['latent'] = encoded_classif['hcp'] + encoded_classif['scint'] + encoded_classif['pre'] + encoded_classif['post']\n",
    "df_encoded_classif['Group'] = ['hcp' for k in range(200)] + ['scint' for k in range(len(filenames_scint))] + ['pre' for k in range(len(benchmark_pre))] + ['post' for k in range(len(benchmark_post))]\n"
   ]
  },
  {
   "cell_type": "code",
   "execution_count": 68,
   "id": "initial-tractor",
   "metadata": {},
   "outputs": [],
   "source": [
    "X_classif = np.array(encoded_classif['hcp'] + encoded_classif['pre'] + encoded_classif['post'])\n",
    "label_classif = np.array([0 for k in range(200)] + [1 for k in range(52)])"
   ]
  },
  {
   "cell_type": "code",
   "execution_count": 69,
   "id": "owned-connection",
   "metadata": {},
   "outputs": [
    {
     "name": "stdout",
     "output_type": "stream",
     "text": [
      "0.9879589546256213\n",
      "1.0\n",
      "1.0\n"
     ]
    }
   ],
   "source": [
    "skf = StratifiedKFold(n_splits=3)\n",
    "av_log, av_svm, av_gb = [], [], []\n",
    "for train, test in skf.split(X_classif, label_classif):\n",
    "    clf = LogisticRegression(random_state=0).fit(X_classif[train], label_classif[train])\n",
    "    pred = clf.predict(X_classif[test])\n",
    "    print(f1_score(label_classif[test], pred, average='weighted'))"
   ]
  },
  {
   "cell_type": "code",
   "execution_count": 70,
   "id": "biblical-ending",
   "metadata": {},
   "outputs": [
    {
     "data": {
      "text/plain": [
       "array([0, 0, 0, 0, 0, 0, 0])"
      ]
     },
     "execution_count": 70,
     "metadata": {},
     "output_type": "execute_result"
    }
   ],
   "source": [
    "clf.predict(encoded_classif['scint'])"
   ]
  },
  {
   "cell_type": "markdown",
   "id": "surprised-response",
   "metadata": {},
   "source": [
    "### Clusters ? \n",
    "how is the latent space organized ? "
   ]
  },
  {
   "cell_type": "code",
   "execution_count": 151,
   "id": "rolled-albert",
   "metadata": {
    "scrolled": true
   },
   "outputs": [
    {
     "name": "stdout",
     "output_type": "stream",
     "text": [
      "For n_clusters = 2 The average silhouette_score with kmeans is : 0.35911423\n",
      "For n_clusters = 3 The average silhouette_score with kmeans is : 0.38117805\n",
      "For n_clusters = 4 The average silhouette_score with kmeans is : 0.38439742\n",
      "For n_clusters = 5 The average silhouette_score with kmeans is : 0.3552802\n",
      "For n_clusters = 6 The average silhouette_score with kmeans is : 0.3453667\n",
      "For n_clusters = 7 The average silhouette_score with kmeans is : 0.3507454\n",
      "For n_clusters = 8 The average silhouette_score with kmeans is : 0.34320173\n",
      "For n_clusters = 9 The average silhouette_score with kmeans is : 0.34051073\n",
      "For n_clusters = 10 The average silhouette_score with kmeans is : 0.3538955\n",
      "For n_clusters = 11 The average silhouette_score with kmeans is : 0.33900076\n",
      "For n_clusters = 12 The average silhouette_score with kmeans is : 0.33585566\n",
      "For n_clusters = 13 The average silhouette_score with kmeans is : 0.33586195\n",
      "For n_clusters = 14 The average silhouette_score with kmeans is : 0.32742882\n",
      "For n_clusters = 15 The average silhouette_score with kmeans is : 0.33540547\n"
     ]
    },
    {
     "data": {
      "image/png": "[encoded data removed]",
      "text/plain": [
       "<Figure size 432x288 with 1 Axes>"
      ]
     },
     "metadata": {
      "needs_background": "light"
     },
     "output_type": "display_data"
    },
    {
     "data": {
      "image/png": "[encoded data removed]",
      "text/plain": [
       "<Figure size 432x288 with 1 Axes>"
      ]
     },
     "metadata": {
      "needs_background": "light"
     },
     "output_type": "display_data"
    },
    {
     "data": {
      "image/png": "[encoded data removed]",
      "text/plain": [
       "<Figure size 432x288 with 1 Axes>"
      ]
     },
     "metadata": {
      "needs_background": "light"
     },
     "output_type": "display_data"
    },
    {
     "data": {
      "image/png": "[encoded data removed]",
      "text/plain": [
       "<Figure size 432x288 with 1 Axes>"
      ]
     },
     "metadata": {
      "needs_background": "light"
     },
     "output_type": "display_data"
    },
    {
     "data": {
      "image/png": "[encoded data removed]",
      "text/plain": [
       "<Figure size 432x288 with 1 Axes>"
      ]
     },
     "metadata": {
      "needs_background": "light"
     },
     "output_type": "display_data"
    },
    {
     "data": {
      "image/png": "[encoded data removed]",
      "text/plain": [
       "<Figure size 432x288 with 1 Axes>"
      ]
     },
     "metadata": {
      "needs_background": "light"
     },
     "output_type": "display_data"
    },
    {
     "data": {
      "image/png": "[encoded data removed]",
      "text/plain": [
       "<Figure size 432x288 with 1 Axes>"
      ]
     },
     "metadata": {
      "needs_background": "light"
     },
     "output_type": "display_data"
    },
    {
     "data": {
      "image/png": "[encoded data removed]",
      "text/plain": [
       "<Figure size 432x288 with 1 Axes>"
      ]
     },
     "metadata": {
      "needs_background": "light"
     },
     "output_type": "display_data"
    },
    {
     "data": {
      "image/png": "[encoded data removed]",
      "text/plain": [
       "<Figure size 432x288 with 1 Axes>"
      ]
     },
     "metadata": {
      "needs_background": "light"
     },
     "output_type": "display_data"
    },
    {
     "data": {
      "image/png": "[encoded data removed]",
      "text/plain": [
       "<Figure size 432x288 with 1 Axes>"
      ]
     },
     "metadata": {
      "needs_background": "light"
     },
     "output_type": "display_data"
    },
    {
     "data": {
      "image/png": "[encoded data removed]",
      "text/plain": [
       "<Figure size 432x288 with 1 Axes>"
      ]
     },
     "metadata": {
      "needs_background": "light"
     },
     "output_type": "display_data"
    },
    {
     "data": {
      "image/png": "[encoded data removed]",
      "text/plain": [
       "<Figure size 432x288 with 1 Axes>"
      ]
     },
     "metadata": {
      "needs_background": "light"
     },
     "output_type": "display_data"
    },
    {
     "data": {
      "image/png": "[encoded data removed]",
      "text/plain": [
       "<Figure size 432x288 with 1 Axes>"
      ]
     },
     "metadata": {
      "needs_background": "light"
     },
     "output_type": "display_data"
    },
    {
     "data": {
      "image/png": "[encoded data removed]",
      "text/plain": [
       "<Figure size 432x288 with 1 Axes>"
      ]
     },
     "metadata": {
      "needs_background": "light"
     },
     "output_type": "display_data"
    }
   ],
   "source": [
    "n_clusters_list = [2, 3, 4, 5, 6, 7, 8, 9, 10, 11, 12, 13, 14, 15]\n",
    "for n in n_clusters_list:\n",
    "    cluster_labels= KMeans(n_clusters=n, random_state=0).fit_predict(X_embedded)\n",
    "\n",
    "    fig, ax1 = plt.subplots()\n",
    "    ax1.set_ylim([0, len(X) + (n + 1) * 10])\n",
    "    silhouette_avg = silhouette_score(X_embedded, cluster_labels)\n",
    "    print(\"For n_clusters =\", n, \"The average silhouette_score with kmeans is :\", silhouette_avg)\n",
    "\n",
    "    # Compute the silhouette scores for each sample\n",
    "    sample_silhouette_values = silhouette_samples(X_embedded, cluster_labels)\n",
    "\n",
    "    y_lower = 10\n",
    "    for i in range(n):\n",
    "        ith_cluster_silhouette_values = sample_silhouette_values[cluster_labels == i]\n",
    "\n",
    "        ith_cluster_silhouette_values.sort()\n",
    "\n",
    "        size_cluster_i = ith_cluster_silhouette_values.shape[0]\n",
    "        y_upper = y_lower + size_cluster_i\n",
    "\n",
    "        color = cm.nipy_spectral(float(i) / n)\n",
    "        ax1.fill_betweenx(\n",
    "            np.arange(y_lower, y_upper),\n",
    "            0,\n",
    "            ith_cluster_silhouette_values,\n",
    "            facecolor=color,\n",
    "            edgecolor=color,\n",
    "            alpha=0.7,\n",
    "        )\n",
    "\n",
    "        ax1.text(-0.05, y_lower + 0.5 * size_cluster_i, str(i))\n",
    "\n",
    "        y_lower = y_upper + 10\n",
    "\n",
    "    ax1.set_title(\"The silhouette plot for the various clusters.\")\n",
    "    ax1.set_xlabel(\"The silhouette coefficient values\")\n",
    "    ax1.set_ylabel(\"Cluster label\")\n",
    "\n",
    "    ax1.axvline(x=silhouette_avg, color=\"red\", linestyle=\"--\")\n",
    "\n",
    "    ax1.set_yticks([])\n",
    "    ax1.set_xticks([-0.1, 0, 0.2, 0.4, 0.6, 0.8, 1])"
   ]
  },
  {
   "cell_type": "markdown",
   "id": "covered-toilet",
   "metadata": {},
   "source": [
    "No clusters"
   ]
  },
  {
   "cell_type": "markdown",
   "id": "signed-improvement",
   "metadata": {},
   "source": [
    "### Distances to centroid"
   ]
  },
  {
   "cell_type": "code",
   "execution_count": 152,
   "id": "dominican-water",
   "metadata": {},
   "outputs": [],
   "source": [
    "def centeroidnp(arr):\n",
    "    length, dim = arr.shape\n",
    "    return np.array([np.sum(arr[:, i])/length for i in range(dim)])"
   ]
  },
  {
   "cell_type": "code",
   "execution_count": 153,
   "id": "interested-broadcast",
   "metadata": {},
   "outputs": [],
   "source": [
    "def closest_distance(centroid, df):\n",
    "    \"\"\"Returns closest point to centroid of a given cluster\n",
    "    /!\\ central_point is part of the defined set of points\n",
    "    Args:\n",
    "        IN: centroid: tuple of coordinates of centroid\n",
    "            df: pandas.DataFrame with index corresponding to subjects and as many columns as coordinates\n",
    "        OUT: central_point: subject ID corresponding to closest point to the centroid\n",
    "    \"\"\"\n",
    "    # df must have as many columns as dimensions to consider\n",
    "    distances = {}\n",
    "    # Get distances to centroid for each point\n",
    "    for sub in list(df.index):\n",
    "        pos = [df.loc[sub][k] for k in range(1, len(df.columns)+1)]\n",
    "        distances[sub] = distance.euclidean(pos, centroid)\n",
    "    # Get closest point to centroid\n",
    "    central_point = min(distances, key=distances.get)\n",
    "    return central_point"
   ]
  },
  {
   "cell_type": "code",
   "execution_count": 154,
   "id": "rubber-surrey",
   "metadata": {},
   "outputs": [],
   "source": [
    "sub = {loader_name:np.array([int(k) for k in results[loader_name].keys()]) for loader_name in dico_set_loaders.keys()}\n",
    "sub_id = list(sub['hcp']) + list(sub['scint'])"
   ]
  },
  {
   "cell_type": "code",
   "execution_count": 155,
   "id": "informed-clothing",
   "metadata": {
    "scrolled": true
   },
   "outputs": [],
   "source": [
    "dstrb_sub = pd.DataFrame(X, index=sub_id, columns=[k for k in range(1, len(df_encoded.latent[0])+1)])"
   ]
  },
  {
   "cell_type": "code",
   "execution_count": 156,
   "id": "increasing-kansas",
   "metadata": {
    "scrolled": true
   },
   "outputs": [
    {
     "data": {
      "text/html": [
       "<div>\n",
       "<style scoped>\n",
       "    .dataframe tbody tr th:only-of-type {\n",
       "        vertical-align: middle;\n",
       "    }\n",
       "\n",
       "    .dataframe tbody tr th {\n",
       "        vertical-align: top;\n",
       "    }\n",
       "\n",
       "    .dataframe thead th {\n",
       "        text-align: right;\n",
       "    }\n",
       "</style>\n",
       "<table border=\"1\" class=\"dataframe\">\n",
       "  <thead>\n",
       "    <tr style=\"text-align: right;\">\n",
       "      <th></th>\n",
       "      <th>1</th>\n",
       "      <th>2</th>\n",
       "      <th>3</th>\n",
       "      <th>4</th>\n",
       "      <th>5</th>\n",
       "      <th>6</th>\n",
       "      <th>7</th>\n",
       "      <th>8</th>\n",
       "      <th>9</th>\n",
       "      <th>10</th>\n",
       "      <th>...</th>\n",
       "      <th>41</th>\n",
       "      <th>42</th>\n",
       "      <th>43</th>\n",
       "      <th>44</th>\n",
       "      <th>45</th>\n",
       "      <th>46</th>\n",
       "      <th>47</th>\n",
       "      <th>48</th>\n",
       "      <th>49</th>\n",
       "      <th>50</th>\n",
       "    </tr>\n",
       "  </thead>\n",
       "  <tbody>\n",
       "    <tr>\n",
       "      <th>932554</th>\n",
       "      <td>0.709398</td>\n",
       "      <td>0.695751</td>\n",
       "      <td>1.252142</td>\n",
       "      <td>-0.220239</td>\n",
       "      <td>0.096666</td>\n",
       "      <td>0.134514</td>\n",
       "      <td>-2.199713</td>\n",
       "      <td>-1.095104</td>\n",
       "      <td>0.851359</td>\n",
       "      <td>-2.195184</td>\n",
       "      <td>...</td>\n",
       "      <td>-0.817401</td>\n",
       "      <td>2.001332</td>\n",
       "      <td>-1.301258</td>\n",
       "      <td>0.823624</td>\n",
       "      <td>0.377621</td>\n",
       "      <td>-1.152502</td>\n",
       "      <td>0.239353</td>\n",
       "      <td>2.456108</td>\n",
       "      <td>1.789477</td>\n",
       "      <td>-0.541227</td>\n",
       "    </tr>\n",
       "    <tr>\n",
       "      <th>387959</th>\n",
       "      <td>0.299711</td>\n",
       "      <td>1.071009</td>\n",
       "      <td>-0.080288</td>\n",
       "      <td>0.921001</td>\n",
       "      <td>-0.886673</td>\n",
       "      <td>-0.913734</td>\n",
       "      <td>1.054288</td>\n",
       "      <td>-1.463712</td>\n",
       "      <td>-1.902361</td>\n",
       "      <td>0.818629</td>\n",
       "      <td>...</td>\n",
       "      <td>-0.337084</td>\n",
       "      <td>-0.899465</td>\n",
       "      <td>-0.827361</td>\n",
       "      <td>1.996690</td>\n",
       "      <td>-0.494872</td>\n",
       "      <td>0.358611</td>\n",
       "      <td>2.339357</td>\n",
       "      <td>1.739197</td>\n",
       "      <td>-2.250903</td>\n",
       "      <td>-0.182036</td>\n",
       "    </tr>\n",
       "    <tr>\n",
       "      <th>887373</th>\n",
       "      <td>1.419120</td>\n",
       "      <td>-0.188266</td>\n",
       "      <td>-0.647444</td>\n",
       "      <td>1.476163</td>\n",
       "      <td>-2.336589</td>\n",
       "      <td>0.829363</td>\n",
       "      <td>1.267216</td>\n",
       "      <td>-1.723138</td>\n",
       "      <td>0.438238</td>\n",
       "      <td>0.449499</td>\n",
       "      <td>...</td>\n",
       "      <td>1.951562</td>\n",
       "      <td>1.310674</td>\n",
       "      <td>-1.314285</td>\n",
       "      <td>2.048494</td>\n",
       "      <td>-2.172611</td>\n",
       "      <td>-0.166414</td>\n",
       "      <td>1.138702</td>\n",
       "      <td>2.691492</td>\n",
       "      <td>2.466863</td>\n",
       "      <td>-1.898701</td>\n",
       "    </tr>\n",
       "    <tr>\n",
       "      <th>704238</th>\n",
       "      <td>-0.996836</td>\n",
       "      <td>0.175932</td>\n",
       "      <td>1.185129</td>\n",
       "      <td>-0.098586</td>\n",
       "      <td>-0.273047</td>\n",
       "      <td>1.602606</td>\n",
       "      <td>-0.592880</td>\n",
       "      <td>-0.594025</td>\n",
       "      <td>-0.159533</td>\n",
       "      <td>-0.338760</td>\n",
       "      <td>...</td>\n",
       "      <td>-1.100715</td>\n",
       "      <td>-0.467226</td>\n",
       "      <td>0.066285</td>\n",
       "      <td>0.855985</td>\n",
       "      <td>-1.226239</td>\n",
       "      <td>-0.448801</td>\n",
       "      <td>0.051291</td>\n",
       "      <td>2.400140</td>\n",
       "      <td>-2.435829</td>\n",
       "      <td>-0.423721</td>\n",
       "    </tr>\n",
       "    <tr>\n",
       "      <th>169040</th>\n",
       "      <td>0.434011</td>\n",
       "      <td>-0.226302</td>\n",
       "      <td>0.580177</td>\n",
       "      <td>-1.796409</td>\n",
       "      <td>-1.002934</td>\n",
       "      <td>-0.008331</td>\n",
       "      <td>0.287807</td>\n",
       "      <td>-2.529592</td>\n",
       "      <td>-0.620692</td>\n",
       "      <td>-1.567166</td>\n",
       "      <td>...</td>\n",
       "      <td>0.330114</td>\n",
       "      <td>-1.391813</td>\n",
       "      <td>-3.041251</td>\n",
       "      <td>0.765775</td>\n",
       "      <td>1.138345</td>\n",
       "      <td>-0.645252</td>\n",
       "      <td>0.426980</td>\n",
       "      <td>1.768257</td>\n",
       "      <td>-0.540084</td>\n",
       "      <td>0.119288</td>\n",
       "    </tr>\n",
       "  </tbody>\n",
       "</table>\n",
       "<p>5 rows × 50 columns</p>\n",
       "</div>"
      ],
      "text/plain": [
       "              1         2         3         4         5         6         7   \\\n",
       "932554  0.709398  0.695751  1.252142 -0.220239  0.096666  0.134514 -2.199713   \n",
       "387959  0.299711  1.071009 -0.080288  0.921001 -0.886673 -0.913734  1.054288   \n",
       "887373  1.419120 -0.188266 -0.647444  1.476163 -2.336589  0.829363  1.267216   \n",
       "704238 -0.996836  0.175932  1.185129 -0.098586 -0.273047  1.602606 -0.592880   \n",
       "169040  0.434011 -0.226302  0.580177 -1.796409 -1.002934 -0.008331  0.287807   \n",
       "\n",
       "              8         9         10    ...           41        42        43  \\\n",
       "932554 -1.095104  0.851359 -2.195184    ...    -0.817401  2.001332 -1.301258   \n",
       "387959 -1.463712 -1.902361  0.818629    ...    -0.337084 -0.899465 -0.827361   \n",
       "887373 -1.723138  0.438238  0.449499    ...     1.951562  1.310674 -1.314285   \n",
       "704238 -0.594025 -0.159533 -0.338760    ...    -1.100715 -0.467226  0.066285   \n",
       "169040 -2.529592 -0.620692 -1.567166    ...     0.330114 -1.391813 -3.041251   \n",
       "\n",
       "              44        45        46        47        48        49        50  \n",
       "932554  0.823624  0.377621 -1.152502  0.239353  2.456108  1.789477 -0.541227  \n",
       "387959  1.996690 -0.494872  0.358611  2.339357  1.739197 -2.250903 -0.182036  \n",
       "887373  2.048494 -2.172611 -0.166414  1.138702  2.691492  2.466863 -1.898701  \n",
       "704238  0.855985 -1.226239 -0.448801  0.051291  2.400140 -2.435829 -0.423721  \n",
       "169040  0.765775  1.138345 -0.645252  0.426980  1.768257 -0.540084  0.119288  \n",
       "\n",
       "[5 rows x 50 columns]"
      ]
     },
     "execution_count": 156,
     "metadata": {},
     "output_type": "execute_result"
    }
   ],
   "source": [
    "dstrb_sub.head()"
   ]
  },
  {
   "cell_type": "code",
   "execution_count": 157,
   "id": "ahead-render",
   "metadata": {},
   "outputs": [
    {
     "name": "stdout",
     "output_type": "stream",
     "text": [
      "180937\n"
     ]
    }
   ],
   "source": [
    "centroid = closest_distance(centeroidnp(X), dstrb_sub)\n",
    "print(centroid)"
   ]
  },
  {
   "cell_type": "code",
   "execution_count": 158,
   "id": "complimentary-america",
   "metadata": {
    "scrolled": true
   },
   "outputs": [],
   "source": [
    "dist_centroid_ctrl = [distance.cityblock(encoded['hcp'][k], centroid) for k in range(len(encoded['hcp']))]\n",
    "dist_centroid_scint = [distance.cityblock(encoded['scint'][k], centroid) for k in range(len(encoded['scint']))]"
   ]
  },
  {
   "cell_type": "code",
   "execution_count": 159,
   "id": "adjacent-lodging",
   "metadata": {},
   "outputs": [
    {
     "name": "stdout",
     "output_type": "stream",
     "text": [
      "0.12460227158915005\n"
     ]
    }
   ],
   "source": [
    "F,p = mannwhitneyu(dist_centroid_ctrl, dist_centroid_scint)\n",
    "print(p)"
   ]
  },
  {
   "cell_type": "code",
   "execution_count": 160,
   "id": "formal-modern",
   "metadata": {},
   "outputs": [
    {
     "name": "stdout",
     "output_type": "stream",
     "text": [
      "152831\n",
      "0.3441316692609492\n"
     ]
    }
   ],
   "source": [
    "\"\"\" In reduced space \"\"\"\n",
    "dstrb_sub_red = pd.DataFrame(X_embedded, index=sub_id, columns=[1, 2])\n",
    "centroid_red = closest_distance(centeroidnp(X_embedded), dstrb_sub_red)\n",
    "print(centroid_red)\n",
    "dist_centroid_ctrl_red = [distance.cityblock(X_embedded[k], centroid_red) for k in range(len(encoded['hcp']))]\n",
    "dist_centroid_scint_red = [distance.cityblock(X_embedded[200+k], centroid_red) for k in range(len(encoded['scint']))]\n",
    "F,p = mannwhitneyu(dist_centroid_ctrl_red, dist_centroid_scint_red)\n",
    "print(p)"
   ]
  },
  {
   "cell_type": "code",
   "execution_count": 161,
   "id": "structural-rubber",
   "metadata": {},
   "outputs": [
    {
     "data": {
      "text/plain": [
       "152831"
      ]
     },
     "execution_count": 161,
     "metadata": {},
     "output_type": "execute_result"
    }
   ],
   "source": [
    "centroid_red"
   ]
  },
  {
   "cell_type": "markdown",
   "id": "opened-vessel",
   "metadata": {},
   "source": [
    "### On Reconstructions"
   ]
  },
  {
   "cell_type": "markdown",
   "id": "brazilian-parent",
   "metadata": {},
   "source": [
    "#### Loss distribution"
   ]
  },
  {
   "cell_type": "code",
   "execution_count": 162,
   "id": "logical-conditions",
   "metadata": {},
   "outputs": [
    {
     "data": {
      "text/plain": [
       "(array([2., 0., 1., 1., 0., 1., 0., 0., 0., 2.]),\n",
       " array([2425., 2529., 2633., 2737., 2841., 2945., 3049., 3153., 3257.,\n",
       "        3361., 3465.]),\n",
       " <BarContainer object of 10 artists>)"
      ]
     },
     "execution_count": 162,
     "metadata": {},
     "output_type": "execute_result"
    },
    {
     "data": {
      "image/png": "[encoded data removed]",
      "text/plain": [
       "<Figure size 432x288 with 1 Axes>"
      ]
     },
     "metadata": {
      "needs_background": "light"
     },
     "output_type": "display_data"
    }
   ],
   "source": [
    "plt.subplot()\n",
    "plt.hist(losses['hcp'])\n",
    "plt.hist(losses['scint'], color='r')"
   ]
  },
  {
   "cell_type": "code",
   "execution_count": 163,
   "id": "streaming-medium",
   "metadata": {},
   "outputs": [
    {
     "name": "stdout",
     "output_type": "stream",
     "text": [
      "0.0021843786480640927\n"
     ]
    }
   ],
   "source": [
    "F,p = mannwhitneyu(losses['hcp'], losses['scint'])\n",
    "print(p)"
   ]
  },
  {
   "cell_type": "markdown",
   "id": "encouraging-thickness",
   "metadata": {},
   "source": [
    "#### Reconstruction Error"
   ]
  },
  {
   "cell_type": "code",
   "execution_count": 164,
   "id": "relative-consideration",
   "metadata": {},
   "outputs": [],
   "source": [
    "recon = {loader_name:[int(results[loader_name][k][2].cpu().detach().numpy()) for k in results[loader_name].keys()] for loader_name in dico_set_loaders.keys()}"
   ]
  },
  {
   "cell_type": "code",
   "execution_count": 165,
   "id": "responsible-rebecca",
   "metadata": {},
   "outputs": [
    {
     "data": {
      "text/plain": [
       "(array([2., 0., 1., 1., 0., 1., 0., 0., 0., 2.]),\n",
       " array([1981. , 2086.4, 2191.8, 2297.2, 2402.6, 2508. , 2613.4, 2718.8,\n",
       "        2824.2, 2929.6, 3035. ]),\n",
       " <BarContainer object of 10 artists>)"
      ]
     },
     "execution_count": 165,
     "metadata": {},
     "output_type": "execute_result"
    },
    {
     "data": {
      "image/png": "[encoded data removed]",
      "text/plain": [
       "<Figure size 432x288 with 1 Axes>"
      ]
     },
     "metadata": {
      "needs_background": "light"
     },
     "output_type": "display_data"
    }
   ],
   "source": [
    "plt.subplot()\n",
    "plt.hist(recon['hcp'])\n",
    "plt.hist(recon['scint'], color='r')"
   ]
  },
  {
   "cell_type": "code",
   "execution_count": 166,
   "id": "oriental-formation",
   "metadata": {},
   "outputs": [
    {
     "name": "stdout",
     "output_type": "stream",
     "text": [
      "0.002206484879014046\n"
     ]
    }
   ],
   "source": [
    "F,p = mannwhitneyu(recon['hcp'], recon['scint'])\n",
    "print(p)"
   ]
  },
  {
   "cell_type": "markdown",
   "id": "global-thread",
   "metadata": {},
   "source": [
    "##### Reconstruction of central subject"
   ]
  },
  {
   "cell_type": "code",
   "execution_count": 58,
   "id": "martial-psychiatry",
   "metadata": {},
   "outputs": [],
   "source": [
    "input = {loader_name:[results[loader_name][k][3].cpu().detach().numpy() for k in results[loader_name].keys()] for loader_name in dico_set_loaders.keys()}"
   ]
  },
  {
   "cell_type": "code",
   "execution_count": 69,
   "id": "presidential-values",
   "metadata": {},
   "outputs": [],
   "source": [
    "k_centroid = int(np.where(sub['hcp']==centroid_red)[0])\n",
    "\n",
    "enc = encoded['hcp'][k_centroid]\n",
    "\n",
    "z = torch.from_numpy(np.array(enc)).to(device, dtype=torch.float32)\n",
    "z = torch.unsqueeze(z, dim=0)\n",
    "out = model.decode(z)\n",
    "out = np.array(np.squeeze(out).cpu().detach().numpy())"
   ]
  },
  {
   "cell_type": "code",
   "execution_count": 70,
   "id": "worth-attendance",
   "metadata": {},
   "outputs": [],
   "source": [
    "error_map = input['hcp'][k_centroid] - out"
   ]
  },
  {
   "cell_type": "code",
   "execution_count": 71,
   "id": "tight-riverside",
   "metadata": {
    "scrolled": true
   },
   "outputs": [],
   "source": [
    "np.save(f\"/volatile/out_1.npy\", out)\n",
    "np.save('/volatile/input_1.npy', input['hcp'][k_centroid])\n",
    "np.save('/volatile/error_1.npy', error_map)"
   ]
  },
  {
   "cell_type": "code",
   "execution_count": 40,
   "id": "heated-albert",
   "metadata": {},
   "outputs": [],
   "source": [
    "arr_out = []\n",
    "arr_in = []\n",
    "arr_error = []\n",
    "\n",
    "for k in range(7):\n",
    "    enc = encoded['scint'][k]\n",
    "    z = torch.from_numpy(np.array(enc)).to(device, dtype=torch.float32)\n",
    "    z = torch.unsqueeze(z, dim=0)\n",
    "    out = model.decode(z)\n",
    "    out = np.array(np.squeeze(out).cpu().detach().numpy())\n",
    "    arr_out.append(out)\n",
    "    arr_in.append(input['scint'][k])\n",
    "    arr_error.append(input['scint'][k] - out)"
   ]
  },
  {
   "cell_type": "code",
   "execution_count": 41,
   "id": "engaging-invalid",
   "metadata": {},
   "outputs": [],
   "source": [
    "np.save(f\"/volatile/out_int.npy\", arr_out)\n",
    "np.save('/volatile/input_int.npy', arr_in)\n",
    "np.save('/volatile/error_int.npy', arr_error)"
   ]
  },
  {
   "cell_type": "markdown",
   "id": "original-charity",
   "metadata": {},
   "source": [
    "### Application on on-handed subjects"
   ]
  },
  {
   "cell_type": "code",
   "execution_count": 73,
   "id": "historical-lighter",
   "metadata": {},
   "outputs": [
    {
     "data": {
      "text/html": [
       "<div>\n",
       "<style scoped>\n",
       "    .dataframe tbody tr th:only-of-type {\n",
       "        vertical-align: middle;\n",
       "    }\n",
       "\n",
       "    .dataframe tbody tr th {\n",
       "        vertical-align: top;\n",
       "    }\n",
       "\n",
       "    .dataframe thead th {\n",
       "        text-align: right;\n",
       "    }\n",
       "</style>\n",
       "<table border=\"1\" class=\"dataframe\">\n",
       "  <thead>\n",
       "    <tr style=\"text-align: right;\">\n",
       "      <th></th>\n",
       "      <th>SubjID</th>\n",
       "      <th>Gender</th>\n",
       "      <th>Age at time of scan</th>\n",
       "      <th>Age at limb loss</th>\n",
       "      <th>Group</th>\n",
       "      <th>Amp. Side</th>\n",
       "      <th>Dominant hand</th>\n",
       "    </tr>\n",
       "  </thead>\n",
       "  <tbody>\n",
       "    <tr>\n",
       "      <th>0</th>\n",
       "      <td>PA01</td>\n",
       "      <td>M</td>\n",
       "      <td>57</td>\n",
       "      <td>20.0</td>\n",
       "      <td>AMP</td>\n",
       "      <td>L</td>\n",
       "      <td>NaN</td>\n",
       "    </tr>\n",
       "    <tr>\n",
       "      <th>1</th>\n",
       "      <td>PA02</td>\n",
       "      <td>F</td>\n",
       "      <td>49</td>\n",
       "      <td>0.0</td>\n",
       "      <td>CONG</td>\n",
       "      <td>L</td>\n",
       "      <td>NaN</td>\n",
       "    </tr>\n",
       "    <tr>\n",
       "      <th>2</th>\n",
       "      <td>PA03</td>\n",
       "      <td>M</td>\n",
       "      <td>59</td>\n",
       "      <td>40.0</td>\n",
       "      <td>AMP</td>\n",
       "      <td>L</td>\n",
       "      <td>NaN</td>\n",
       "    </tr>\n",
       "    <tr>\n",
       "      <th>3</th>\n",
       "      <td>PA04</td>\n",
       "      <td>F</td>\n",
       "      <td>52</td>\n",
       "      <td>0.0</td>\n",
       "      <td>CONG</td>\n",
       "      <td>R</td>\n",
       "      <td>NaN</td>\n",
       "    </tr>\n",
       "    <tr>\n",
       "      <th>4</th>\n",
       "      <td>PA05</td>\n",
       "      <td>M</td>\n",
       "      <td>58</td>\n",
       "      <td>27.0</td>\n",
       "      <td>AMP</td>\n",
       "      <td>L</td>\n",
       "      <td>NaN</td>\n",
       "    </tr>\n",
       "  </tbody>\n",
       "</table>\n",
       "</div>"
      ],
      "text/plain": [
       "  SubjID Gender  Age at time of scan  Age at limb loss Group Amp. Side  \\\n",
       "0   PA01      M                   57              20.0   AMP         L   \n",
       "1   PA02      F                   49               0.0  CONG         L   \n",
       "2   PA03      M                   59              40.0   AMP         L   \n",
       "3   PA04      F                   52               0.0  CONG         R   \n",
       "4   PA05      M                   58              27.0   AMP         L   \n",
       "\n",
       "  Dominant hand  \n",
       "0           NaN  \n",
       "1           NaN  \n",
       "2           NaN  \n",
       "3           NaN  \n",
       "4           NaN  "
      ]
     },
     "execution_count": 73,
     "metadata": {},
     "output_type": "execute_result"
    }
   ],
   "source": [
    "labels = pd.read_csv('/neurospin/dico/lguillon/ohbm_22/one_handed_labels.csv')\n",
    "labels.head()"
   ]
  },
  {
   "cell_type": "code",
   "execution_count": 74,
   "id": "oriented-monroe",
   "metadata": {},
   "outputs": [
    {
     "name": "stdout",
     "output_type": "stream",
     "text": [
      "16\n"
     ]
    }
   ],
   "source": [
    "ctrl = labels[labels['Dominant hand']=='R']\n",
    "one_handed = labels[labels['Group']!='CTR']\n",
    "one_handed = labels[labels['Amp. Side']=='L']\n",
    "\n",
    "amputee = one_handed[one_handed['Group']=='AMP']\n",
    "cong = one_handed[one_handed['Group']=='CONG']\n",
    "\n",
    "print(len(ctrl))"
   ]
  },
  {
   "cell_type": "code",
   "execution_count": 77,
   "id": "norwegian-clark",
   "metadata": {},
   "outputs": [],
   "source": [
    "data_dir = \"/neurospin/dico/data/deep_folding/current/datasets/one_handed/crops/SC/no_mask/Rdistmaps/\"\n",
    "\n",
    "distmaps_ctrl = np.load(os.path.join(data_dir, \"distmap_1mm.npy\"), mmap_mode='r')\n",
    "filenames_ctrl = np.load(os.path.join(data_dir, \"sub_id.npy\"))\n",
    "\n",
    "distmaps_amputee = np.load(os.path.join(data_dir, \"distmap_1mm.npy\"), mmap_mode='r')\n",
    "filenames_amputee = np.load(os.path.join(data_dir, \"sub_id.npy\"))\n",
    "\n",
    "distmaps_cong = np.load(os.path.join(data_dir, \"distmap_1mm.npy\"), mmap_mode='r')\n",
    "filenames_cong = np.load(os.path.join(data_dir, \"sub_id.npy\"))"
   ]
  },
  {
   "cell_type": "code",
   "execution_count": 78,
   "id": "french-candy",
   "metadata": {},
   "outputs": [],
   "source": [
    "ctrl_list = np.array(list(ctrl.SubjID))\n",
    "sorter = np.argsort(filenames_ctrl)\n",
    "filenames_idx = sorter[np.searchsorted(filenames_ctrl, ctrl_list, sorter=sorter)]\n",
    "filenames_ctrl = filenames_ctrl[filenames_idx]\n",
    "distmaps_ctrl = distmaps_ctrl[filenames_idx]\n",
    "\n",
    "amputee_list = np.array(list(amputee.SubjID))\n",
    "sorter = np.argsort(filenames_amputee)\n",
    "filenames_idx = sorter[np.searchsorted(filenames_amputee, amputee_list, sorter=sorter)]\n",
    "filenames_amputee = filenames_amputee[filenames_idx]\n",
    "distmaps_amputee = distmaps_amputee[filenames_idx]\n",
    "\n",
    "cong_list = np.array(list(cong.SubjID))\n",
    "sorter = np.argsort(filenames_cong)\n",
    "filenames_idx = sorter[np.searchsorted(filenames_cong, cong_list, sorter=sorter)]\n",
    "filenames_cong = filenames_cong[filenames_idx]\n",
    "distmaps_cong = distmaps_cong[filenames_idx]"
   ]
  },
  {
   "cell_type": "code",
   "execution_count": 224,
   "id": "automatic-german",
   "metadata": {},
   "outputs": [],
   "source": [
    "subset_ctrl = SkeletonDataset(dataframe=distmaps_ctrl,\n",
    "                         filenames=filenames_ctrl,\n",
    "                         data_transforms=False)\n",
    "\n",
    "ctrl_loader = torch.utils.data.DataLoader(\n",
    "               subset_ctrl,\n",
    "               batch_size=1,\n",
    "               num_workers=1,\n",
    "               shuffle=False) \n",
    "\n",
    "subset_amputee = SkeletonDataset(dataframe=distmaps_amputee,\n",
    "                         filenames=filenames_amputee,\n",
    "                         data_transforms=False)\n",
    "\n",
    "amputee_loader = torch.utils.data.DataLoader(\n",
    "               subset_amputee,\n",
    "               batch_size=1,\n",
    "               num_workers=1,\n",
    "               shuffle=False) \n",
    "\n",
    "subset_cong = SkeletonDataset(dataframe=distmaps_cong,\n",
    "                         filenames=filenames_acong,\n",
    "                         data_transforms=False)\n",
    "\n",
    "cong_loader = torch.utils.data.DataLoader(\n",
    "               subset_cong,\n",
    "               batch_size=1,\n",
    "               num_workers=1,\n",
    "               shuffle=False) \n",
    "\n",
    "dico_set_loaders = {'ctrl': ctrl_loader, 'amputee': amputee_loader, 'congenital': cong_loader}"
   ]
  },
  {
   "cell_type": "code",
   "execution_count": 225,
   "id": "precise-douglas",
   "metadata": {},
   "outputs": [
    {
     "name": "stdout",
     "output_type": "stream",
     "text": [
      "ctrl\n"
     ]
    },
    {
     "name": "stderr",
     "output_type": "stream",
     "text": [
      "Exception ignored in: <bound method _MultiProcessingDataLoaderIter.__del__ of <torch.utils.data.dataloader._MultiProcessingDataLoaderIter object at 0x7f54b95e7908>>\n",
      "Traceback (most recent call last):\n",
      "  File \"/casa/home/.local/lib/python3.6/site-packages/torch/utils/data/dataloader.py\", line 1328, in __del__\n",
      "    self._shutdown_workers()\n",
      "  File \"/casa/home/.local/lib/python3.6/site-packages/torch/utils/data/dataloader.py\", line 1320, in _shutdown_workers\n",
      "    if w.is_alive():\n",
      "  File \"/usr/lib/python3.6/multiprocessing/process.py\", line 134, in is_alive\n",
      "    assert self._parent_pid == os.getpid(), 'can only test a child process'\n",
      "AssertionError: can only test a child process\n",
      "Exception ignored in: <bound method _MultiProcessingDataLoaderIter.__del__ of <torch.utils.data.dataloader._MultiProcessingDataLoaderIter object at 0x7f5557d025f8>>\n",
      "Traceback (most recent call last):\n",
      "  File \"/casa/home/.local/lib/python3.6/site-packages/torch/utils/data/dataloader.py\", line 1328, in __del__\n",
      "    self._shutdown_workers()\n",
      "  File \"/casa/home/.local/lib/python3.6/site-packages/torch/utils/data/dataloader.py\", line 1320, in _shutdown_workers\n",
      "    if w.is_alive():\n",
      "  File \"/usr/lib/python3.6/multiprocessing/process.py\", line 134, in is_alive\n",
      "    assert self._parent_pid == os.getpid(), 'can only test a child process'\n",
      "AssertionError: can only test a child process\n"
     ]
    },
    {
     "name": "stdout",
     "output_type": "stream",
     "text": [
      "amputee\n"
     ]
    },
    {
     "name": "stderr",
     "output_type": "stream",
     "text": [
      "Exception ignored in: <bound method _MultiProcessingDataLoaderIter.__del__ of <torch.utils.data.dataloader._MultiProcessingDataLoaderIter object at 0x7f54b95e7908>>\n",
      "Traceback (most recent call last):\n",
      "  File \"/casa/home/.local/lib/python3.6/site-packages/torch/utils/data/dataloader.py\", line 1328, in __del__\n",
      "    self._shutdown_workers()\n",
      "  File \"/casa/home/.local/lib/python3.6/site-packages/torch/utils/data/dataloader.py\", line 1320, in _shutdown_workers\n",
      "    if w.is_alive():\n",
      "  File \"/usr/lib/python3.6/multiprocessing/process.py\", line 134, in is_alive\n",
      "    assert self._parent_pid == os.getpid(), 'can only test a child process'\n",
      "AssertionError: can only test a child process\n",
      "Exception ignored in: <bound method _MultiProcessingDataLoaderIter.__del__ of <torch.utils.data.dataloader._MultiProcessingDataLoaderIter object at 0x7f5557d025f8>>\n",
      "Traceback (most recent call last):\n",
      "  File \"/casa/home/.local/lib/python3.6/site-packages/torch/utils/data/dataloader.py\", line 1328, in __del__\n",
      "    self._shutdown_workers()\n",
      "  File \"/casa/home/.local/lib/python3.6/site-packages/torch/utils/data/dataloader.py\", line 1320, in _shutdown_workers\n",
      "    if w.is_alive():\n",
      "  File \"/usr/lib/python3.6/multiprocessing/process.py\", line 134, in is_alive\n",
      "    assert self._parent_pid == os.getpid(), 'can only test a child process'\n",
      "AssertionError: can only test a child process\n"
     ]
    },
    {
     "name": "stdout",
     "output_type": "stream",
     "text": [
      "congenital\n"
     ]
    }
   ],
   "source": [
    "tester = ModelTester(model=model, dico_set_loaders=dico_set_loaders,\n",
    "                     loss_func=criterion, kl_weight=4,\n",
    "                     n_latent=100, depth=3)\n",
    "\n",
    "results_oh = tester.test()\n",
    "\n",
    "losses_oh = {loader_name:[int(results_oh[loader_name][k][0].cpu().detach().numpy()) for k in results_oh[loader_name].keys()] for loader_name in dico_set_loaders.keys()}\n",
    "encoded_oh = {loader_name:[results_oh[loader_name][k][1] for k in results_oh[loader_name].keys()] for loader_name in dico_set_loaders.keys()}"
   ]
  },
  {
   "cell_type": "code",
   "execution_count": 227,
   "id": "industrial-cherry",
   "metadata": {},
   "outputs": [],
   "source": [
    "df_encoded_oh = pd.DataFrame()\n",
    "\n",
    "df_encoded_oh['latent'] = encoded_oh['ctrl'] + encoded_oh['amputee'] + encoded_oh['congenital']\n",
    "\n",
    "df_encoded_oh['Group'] = ['ctrl' for k in range(len(losses_oh['ctrl']))] + ['amputee' for k in range(len(losses_oh['amputee']))] +['congenital'for k in range(len(losses_oh['congenital']))]\n",
    "\n",
    "X_hand = np.array(list(df_encoded_oh['latent']))\n",
    "label_hand = np.array(df_encoded_oh['Group'])\n",
    "\n",
    "subjects_name = list(filenames_ctrl) + list(filenames_amputee) + list(filenames_cong)"
   ]
  },
  {
   "cell_type": "code",
   "execution_count": 228,
   "id": "superior-married",
   "metadata": {
    "scrolled": true
   },
   "outputs": [],
   "source": [
    "X_oh = np.array(list(df_encoded_oh['latent']))\n",
    "labels_oh = np.array(df_encoded_oh['Group'])\n",
    "\n",
    "X_embedded_oh = TSNE(n_components=2, random_state=12, perplexity=25).fit_transform(X_oh)"
   ]
  },
  {
   "cell_type": "code",
   "execution_count": 229,
   "id": "mediterranean-sensitivity",
   "metadata": {},
   "outputs": [
    {
     "data": {
      "image/png": "[encoded data removed]",
      "text/plain": [
       "<Figure size 864x864 with 1 Axes>"
      ]
     },
     "metadata": {
      "needs_background": "light"
     },
     "output_type": "display_data"
    }
   ],
   "source": [
    "arr = X_embedded_oh\n",
    "color_dict = {'ctrl':'mediumseagreen', 'amputee': 'red', 'congenital':'magenta'}\n",
    "\n",
    "fig = plt.figure(figsize=(12,12))\n",
    "ax = fig.subplots()\n",
    "\n",
    "for g in np.unique(labels_oh):\n",
    "    ix = np.where(labels_oh == g)\n",
    "    x = [arr[ix][k][0] for k in range(len(ix[0]))]\n",
    "    y = [arr[ix][k][1] for k in range(len(ix[0]))]\n",
    "    g_lab= f\"{g}\"\n",
    "    ax.scatter(x, y, c = color_dict[g], label = g_lab)\n",
    "    \n",
    "for i, txt in enumerate(subjects_name):\n",
    "    ax.annotate(txt, (arr[i][0], arr[i][1]))\n",
    "    \n",
    "plt.legend(bbox_to_anchor=(1.04,1), borderaxespad=0)\n",
    "\n",
    "plt.xlabel(f'tSNE dimension 1', fontsize=14)\n",
    "plt.ylabel(f'tSNE dimension 2', fontsize=14)\n",
    "plt.show()"
   ]
  },
  {
   "cell_type": "code",
   "execution_count": 230,
   "id": "underlying-favor",
   "metadata": {},
   "outputs": [
    {
     "data": {
      "image/png": "[encoded data removed]",
      "text/plain": [
       "<Figure size 864x864 with 1 Axes>"
      ]
     },
     "metadata": {
      "needs_background": "light"
     },
     "output_type": "display_data"
    }
   ],
   "source": [
    "reducer = umap.UMAP()\n",
    "embedding = reducer.fit_transform(X_oh)\n",
    "\n",
    "arr = embedding\n",
    "color_dict = {'ctrl':'mediumseagreen', 'amputee': 'red', 'congenital':'magenta'}\n",
    "\n",
    "fig = plt.figure(figsize=(12,12))\n",
    "ax = fig.subplots()\n",
    "\n",
    "for g in np.unique(labels_oh):\n",
    "    ix = np.where(labels_oh == g)\n",
    "    x = [arr[ix][k][0] for k in range(len(ix[0]))]\n",
    "    y = [arr[ix][k][1] for k in range(len(ix[0]))]\n",
    "    g_lab= f\"{g}\"\n",
    "    ax.scatter(x, y, c = color_dict[g], label = g_lab)\n",
    "    \n",
    "for i, txt in enumerate(subjects_name):\n",
    "    ax.annotate(txt, (arr[i][0], arr[i][1]))\n",
    "    \n",
    "plt.legend(bbox_to_anchor=(1.04,1), borderaxespad=0)\n",
    "\n",
    "plt.xlabel(f'tSNE dimension 1', fontsize=14)\n",
    "plt.ylabel(f'tSNE dimension 2', fontsize=14)\n",
    "plt.show()"
   ]
  },
  {
   "cell_type": "code",
   "execution_count": 231,
   "id": "flush-chamber",
   "metadata": {
    "scrolled": true
   },
   "outputs": [
    {
     "data": {
      "text/plain": [
       "(array([2., 1., 2., 2., 0., 0., 2., 1., 0., 2.]),\n",
       " array([1924. , 1983.6, 2043.2, 2102.8, 2162.4, 2222. , 2281.6, 2341.2,\n",
       "        2400.8, 2460.4, 2520. ]),\n",
       " <BarContainer object of 10 artists>)"
      ]
     },
     "execution_count": 231,
     "metadata": {},
     "output_type": "execute_result"
    },
    {
     "data": {
      "image/png": "[encoded data removed]",
      "text/plain": [
       "<Figure size 432x288 with 1 Axes>"
      ]
     },
     "metadata": {
      "needs_background": "light"
     },
     "output_type": "display_data"
    }
   ],
   "source": [
    "plt.subplot()\n",
    "plt.hist(losses_oh['ctrl'])\n",
    "plt.hist(losses_oh['amputee'], color='r')\n",
    "plt.hist(losses_oh['congenital'], color='g')"
   ]
  },
  {
   "cell_type": "code",
   "execution_count": 232,
   "id": "sticky-gregory",
   "metadata": {},
   "outputs": [],
   "source": [
    "recon_oh = {loader_name:[int(results_oh[loader_name][k][2].cpu().detach().numpy()) for k in results_oh[loader_name].keys()] for loader_name in dico_set_loaders.keys()}"
   ]
  },
  {
   "cell_type": "code",
   "execution_count": 233,
   "id": "frank-sunglasses",
   "metadata": {},
   "outputs": [
    {
     "data": {
      "text/plain": [
       "(array([2., 1., 0., 4., 0., 0., 2., 1., 0., 2.]),\n",
       " array([1511. , 1569.3, 1627.6, 1685.9, 1744.2, 1802.5, 1860.8, 1919.1,\n",
       "        1977.4, 2035.7, 2094. ]),\n",
       " <BarContainer object of 10 artists>)"
      ]
     },
     "execution_count": 233,
     "metadata": {},
     "output_type": "execute_result"
    },
    {
     "data": {
      "image/png": "[encoded data removed]",
      "text/plain": [
       "<Figure size 432x288 with 1 Axes>"
      ]
     },
     "metadata": {
      "needs_background": "light"
     },
     "output_type": "display_data"
    }
   ],
   "source": [
    "plt.subplot()\n",
    "plt.hist(recon_oh['ctrl'])\n",
    "plt.hist(recon_oh['amputee'], color='r')\n",
    "plt.hist(recon_oh['congenital'], color='g')"
   ]
  },
  {
   "cell_type": "markdown",
   "id": "directed-tenant",
   "metadata": {},
   "source": [
    "### On EUAIMS"
   ]
  },
  {
   "cell_type": "code",
   "execution_count": 81,
   "id": "black-wonder",
   "metadata": {},
   "outputs": [
    {
     "data": {
      "text/html": [
       "<div>\n",
       "<style scoped>\n",
       "    .dataframe tbody tr th:only-of-type {\n",
       "        vertical-align: middle;\n",
       "    }\n",
       "\n",
       "    .dataframe tbody tr th {\n",
       "        vertical-align: top;\n",
       "    }\n",
       "\n",
       "    .dataframe thead th {\n",
       "        text-align: right;\n",
       "    }\n",
       "</style>\n",
       "<table border=\"1\" class=\"dataframe\">\n",
       "  <thead>\n",
       "    <tr style=\"text-align: right;\">\n",
       "      <th></th>\n",
       "      <th>ID</th>\n",
       "      <th>group</th>\n",
       "    </tr>\n",
       "  </thead>\n",
       "  <tbody>\n",
       "    <tr>\n",
       "      <th>0</th>\n",
       "      <td>100693509718</td>\n",
       "      <td>1</td>\n",
       "    </tr>\n",
       "    <tr>\n",
       "      <th>1</th>\n",
       "      <td>101129844643</td>\n",
       "      <td>1</td>\n",
       "    </tr>\n",
       "    <tr>\n",
       "      <th>2</th>\n",
       "      <td>101414625982</td>\n",
       "      <td>2</td>\n",
       "    </tr>\n",
       "    <tr>\n",
       "      <th>3</th>\n",
       "      <td>101900205031</td>\n",
       "      <td>2</td>\n",
       "    </tr>\n",
       "    <tr>\n",
       "      <th>4</th>\n",
       "      <td>104324981539</td>\n",
       "      <td>2</td>\n",
       "    </tr>\n",
       "  </tbody>\n",
       "</table>\n",
       "</div>"
      ],
      "text/plain": [
       "             ID  group\n",
       "0  100693509718      1\n",
       "1  101129844643      1\n",
       "2  101414625982      2\n",
       "3  101900205031      2\n",
       "4  104324981539      2"
      ]
     },
     "execution_count": 81,
     "metadata": {},
     "output_type": "execute_result"
    }
   ],
   "source": [
    "labels = pd.read_csv('/neurospin/dico/lguillon/aims_detection/list_subjects.csv')\n",
    "labels.head()"
   ]
  },
  {
   "cell_type": "code",
   "execution_count": 117,
   "id": "becoming-separation",
   "metadata": {},
   "outputs": [
    {
     "name": "stdout",
     "output_type": "stream",
     "text": [
      "374\n"
     ]
    }
   ],
   "source": [
    "ctrl = labels[labels['group']==1]\n",
    "asd = labels[labels['group']==2]\n",
    "id_ctrl = labels[labels['group']==3]\n",
    "\n",
    "print(len(asd))"
   ]
  },
  {
   "cell_type": "code",
   "execution_count": 93,
   "id": "aware-aggregate",
   "metadata": {
    "scrolled": true
   },
   "outputs": [
    {
     "data": {
      "text/plain": [
       "array([101414625982, 101900205031, 104324981539, 107356654390,\n",
       "       107501679619, 109057020142, 109182897329, 109314636234,\n",
       "       111297432251, 112152703248, 112250651739, 112353982965,\n",
       "       113902830642, 116829617056, 118194667229, 123942366629,\n",
       "       124737109801, 125610027898, 130442593612, 136287182777,\n",
       "       136536288793, 136851282877, 141031925901, 141793096301,\n",
       "       149668037941, 150761304327, 152479781222, 155192407573,\n",
       "       156266822057, 157057245454, 157130105776, 157923026370,\n",
       "       158414641992, 160054811236, 161926513236, 162000603879,\n",
       "       166001935037, 169634356147, 171442086801, 175721011373,\n",
       "       177800559886, 178105062231, 181254963534, 181963433776,\n",
       "       182470933796, 183456420392, 183962358736, 184577901153,\n",
       "       186734682586, 195056918956, 195924035910, 196526905399,\n",
       "       198955934445, 199958815887, 200472210738, 202887019892,\n",
       "       206523187654, 215510983147, 217861104942, 219811218558,\n",
       "       220947892915, 230491665566, 230568388344, 234602244411,\n",
       "       236256460571, 236929058799, 239191121558, 239352843676,\n",
       "       240882777282, 248676767882, 251317189021, 256029070030,\n",
       "       259866841106, 260851850826, 261140684101, 261249677383,\n",
       "       261561076993, 261811283182, 266986401377, 268166735779,\n",
       "       268576463815, 268808354269, 270482106649, 272840296620,\n",
       "       276613040319, 277866455055, 278212296453, 279317040809,\n",
       "       282653896837, 290770202083, 294263527638, 300806232821,\n",
       "       302019961076, 302455658944, 304418982742, 307365682603,\n",
       "       308985002572, 315910414581, 318221639781, 320580883246,\n",
       "       321466110510, 323195490394, 325027333124, 325322132011,\n",
       "       326008453591, 327288335476, 333206458303, 340836571839,\n",
       "       347433880698, 353148112942, 365711526714, 366217057897,\n",
       "       367469520033, 368009590945, 373305626861, 377573175891,\n",
       "       377617591969, 377961354536, 378195533007, 378543460381,\n",
       "       379518485485, 382296646067, 384432945539, 388343881755,\n",
       "       388422329713, 389202687565, 391549922275, 396868518028,\n",
       "       397669453786, 405399264404, 406025860813, 406361373838,\n",
       "       408451488786, 411132124107, 412921193734, 413056331722,\n",
       "       418598548438, 419673248476, 420380436494, 428229074166,\n",
       "       429779641484, 431356813004, 432268037768, 433036344712,\n",
       "       433919720012, 436491381614, 437304668226, 441035330946,\n",
       "       441124095287, 445106475225, 445512164596, 445780332688,\n",
       "       446221388468, 449830790175, 453555274646, 454273424775,\n",
       "       454592127953, 458470349372, 458858673178, 462839741911,\n",
       "       462911954430, 468030954687, 468580210800, 468615955074,\n",
       "       468991529680, 472708716550, 472796270748, 475093171413,\n",
       "       477688074519, 478958967391, 484678533147, 488892266345,\n",
       "       491908520267, 491998749681, 495779827165, 498184660603,\n",
       "       499308637502, 500489711016, 501458566432, 501626394309,\n",
       "       503004924812, 505336529906, 507005869518, 508346521563,\n",
       "       511140892831, 511141963906, 511270340855, 523946184842,\n",
       "       525150339506, 530426937681, 532177189086, 538954407458,\n",
       "       541548272051, 543584526796, 544359778864, 546960446466,\n",
       "       552396778923, 557458837363, 560385322960, 567135708905,\n",
       "       567841670723, 573074876911, 577694186905, 578561818687,\n",
       "       580428127991, 581934377616, 582048510514, 582348688781,\n",
       "       583339263116, 584224364936, 594128872723, 599197502428,\n",
       "       603979994833, 605316136288, 607485356482, 607680425439,\n",
       "       607877406727, 609966867439, 610073047327, 611237764697,\n",
       "       611482122018, 614505055273, 614910550100, 616502860312,\n",
       "       617711901244, 618085331302, 622837550309, 626243753720,\n",
       "       628118917744, 632587163208, 634792258018, 638302734152,\n",
       "       638494573736, 639747247787, 642984348418, 643156663623,\n",
       "       647052125664, 647902472227, 648242963723, 649197039178,\n",
       "       649700204468, 651491039045, 652403397256, 653262752197,\n",
       "       656616484637, 656813092207, 658407271274, 671747498321,\n",
       "       675064758420, 676853354784, 681998875857, 682151444267,\n",
       "       686832758751, 686924389939, 689261665273, 697229528974,\n",
       "       698589982809, 701626976547, 701950985712, 702382144710,\n",
       "       708119469977, 712984812365, 715170653504, 716041863832,\n",
       "       718283607938, 729400520308, 730708437918, 733724982161,\n",
       "       734264787430, 745295300976, 747053106131, 749456093133,\n",
       "       749925290668, 752965114156, 755212054837, 755866583506,\n",
       "       762689081855, 763795027153, 767491931913, 770782854737,\n",
       "       771068276221, 772929362868, 773995512885, 778284577230,\n",
       "       780626155930, 786319186444, 787450371980, 791166201177,\n",
       "       795681016332, 809014550718, 810072092902, 811366047947,\n",
       "       814229018914, 816806068146, 825394121668, 826631202330,\n",
       "       826746991440, 826817331038, 829426540874, 830041143266,\n",
       "       832569428144, 832808896247, 839932161550, 841333814207,\n",
       "       842711675738, 843192037159, 846396767856, 847130083258,\n",
       "       851468609152, 852305045433, 852911509359, 854378527154,\n",
       "       855494225893, 860914119337, 867116024936, 868831578350,\n",
       "       869163187754, 869535528494, 869635923320, 871716846350,\n",
       "       871752256167, 877595825879, 879699932406, 880387463235,\n",
       "       881324181111, 881402799178, 881645213328, 882596425885,\n",
       "       883394863708, 886847536213, 897504950304, 899315846574,\n",
       "       899801407334, 903795797832, 908674294639, 908722914011,\n",
       "       911363863036, 913416396634, 916074864275, 920590066881,\n",
       "       923908026564, 924898223873, 927090337769, 928192954187,\n",
       "       929367768579, 930108800338, 935036952888, 937503165305,\n",
       "       942412768004, 942911490704, 948879559425, 949903300427,\n",
       "       955634127896, 955691864151, 955846444559, 964420882446,\n",
       "       966444082202, 967054049535, 971064170845, 975493741410,\n",
       "       976537183752, 977462585747, 980380935550, 980717860246,\n",
       "       981843419748, 985195424662, 988758069798, 989524720202,\n",
       "       990040441082, 990822957437, 992647735985, 997038807877,\n",
       "       998970787658, 999883621045])"
      ]
     },
     "execution_count": 93,
     "metadata": {},
     "output_type": "execute_result"
    }
   ],
   "source": [
    "np.array(list(asd.ID))"
   ]
  },
  {
   "cell_type": "code",
   "execution_count": 87,
   "id": "confidential-offset",
   "metadata": {},
   "outputs": [],
   "source": [
    "data_dir = \"/neurospin/dico/data/deep_folding/current/datasets/euaims/crops/SC/no_mask/Rdistmaps/\"\n",
    "\n",
    "distmaps_ctrl = np.load(os.path.join(data_dir, \"distmap_1mm.npy\"), mmap_mode='r')\n",
    "filenames_ctrl = np.load(os.path.join(data_dir, \"sub_id.npy\"))\n",
    "filenames_ctrl = np.array([re.search('\\d{12}', filenames_ctrl[k]).group(0) for k in range(len(filenames_ctrl))])\n",
    "\n",
    "distmaps_asd = np.load(os.path.join(data_dir, \"distmap_1mm.npy\"), mmap_mode='r')\n",
    "filenames_asd = np.load(os.path.join(data_dir, \"sub_id.npy\"))\n",
    "\n",
    "ctrl_list = np.array(list(ctrl.ID))\n",
    "sorter = np.argsort(filenames_ctrl)\n",
    "filenames_idx = sorter[np.searchsorted(filenames_ctrl, ctrl_list, sorter=sorter)]\n",
    "filenames_ctrl = filenames_ctrl[filenames_idx]\n",
    "distmaps_ctrl = distmaps_ctrl[filenames_idx]\n",
    "\n",
    "asd_list = np.array(list(asd.ID))\n",
    "sorter = np.argsort(filenames_asd)\n",
    "filenames_idx = sorter[np.searchsorted(filenames_asd, asd_list, sorter=sorter)]\n",
    "filenames_asd = filenames_asd[filenames_idx]\n",
    "distmaps_asd = distmaps_asd[filenames_idx]"
   ]
  },
  {
   "cell_type": "code",
   "execution_count": 41,
   "id": "finite-surrey",
   "metadata": {},
   "outputs": [],
   "source": [
    "filenames_ctrl = np.load(os.path.join(data_dir, \"sub_id.npy\"))\n",
    "ctrl_list = np.array(list(ctrl.group))\n",
    "sorter = np.argsort(filenames_ctrl)\n",
    "filenames_idx = sorter[np.searchsorted(filenames_ctrl, ctrl_list, sorter=sorter)]"
   ]
  },
  {
   "cell_type": "code",
   "execution_count": 63,
   "id": "alpine-relaxation",
   "metadata": {},
   "outputs": [],
   "source": [
    "filenames_ctrl = np.load(os.path.join(data_dir, \"sub_id.npy\"))"
   ]
  },
  {
   "cell_type": "code",
   "execution_count": 88,
   "id": "executive-ballot",
   "metadata": {
    "scrolled": true
   },
   "outputs": [
    {
     "data": {
      "text/plain": [
       "array(['100693509718', '101129844643', '105629441917', '114414660031',\n",
       "       '115677420583', '118910793563', '118980777980', '123709183152',\n",
       "       '127510187827', '132297073493', '137282891018', '144831247766',\n",
       "       '145098407477', '145899409424', '153562611492', '158575356558',\n",
       "       '159609609900', '160293273948', '166942277585', '169356641606',\n",
       "       '175673514462', '184436430559', '185048685294', '186014141169',\n",
       "       '188048341660', '196084871273', '198048766808', '201781530814',\n",
       "       '204078341146', '209666958265', '220295159492', '224830515714',\n",
       "       '225718634848', '227007190710', '229219433754', '229951973089',\n",
       "       '232366221199', '235350958604', '243617148831', '247624139482',\n",
       "       '250798494359', '254706791256', '257678491670', '265025813179',\n",
       "       '275900515562', '282946437585', '306895678001', '307860293305',\n",
       "       '308337626668', '317404610400', '317719510819', '321466110510',\n",
       "       '322708064836', '327760655614', '328571212222', '331443624857',\n",
       "       '332078642120', '334813354195', '336598049412', '336995982925',\n",
       "       '339304620783', '342222286650', '345267595552', '355258024005',\n",
       "       '358814750714', '359009787195', '375546130381', '379104480549',\n",
       "       '381650671820', '382485990931', '385047510575', '386004477445',\n",
       "       '387103247866', '388735390040', '391792121294', '393231033047',\n",
       "       '395527716461', '396115729600', '405435900354', '411822073393',\n",
       "       '413732647306', '414689264154', '420448554158', '422982644366',\n",
       "       '426078737578', '429337713500', '429385763020', '433167841299',\n",
       "       '434761922410', '435982182950', '444358027398', '446120344225',\n",
       "       '450462317156', '454592127953', '455281732924', '458831062503',\n",
       "       '460374103136', '463616087199', '469607877557', '476936933818',\n",
       "       '477854191987', '483862517771', '490846599536', '494344414167',\n",
       "       '495977626661', '499590008561', '502417524301', '502611823201',\n",
       "       '505116043261', '505506013383', '506005238620', '507616263818',\n",
       "       '509985289516', '510966986457', '511856618487', '513065156097',\n",
       "       '513286772808', '514649804940', '516084790842', '517449688083',\n",
       "       '517449688083', '521341248046', '523002776648', '530329509553',\n",
       "       '530931968480', '531126743336', '538947876752', '539182080335',\n",
       "       '541625141216', '544491007190', '556631722602', '557615482345',\n",
       "       '562732004399', '567578893300', '568975953542', '570954148543',\n",
       "       '580649557859', '581075264123', '582509594026', '590707495613',\n",
       "       '592413773463', '593207255197', '600269564046', '601613922076',\n",
       "       '602177989471', '602495883891', '610444396645', '612663434239',\n",
       "       '613621265343', '620421203248', '623938317452', '623965895133',\n",
       "       '629096132061', '630147348337', '632587163208', '634529090328',\n",
       "       '637425042204', '639069170186', '640149993945', '641775560377',\n",
       "       '643270138807', '644050954441', '645597444396', '646013149986',\n",
       "       '646251362798', '649033908533', '654120587069', '656265432190',\n",
       "       '657896689200', '665620090147', '670787147591', '671678197201',\n",
       "       '672911578565', '673926892942', '678779993249', '684230267993',\n",
       "       '693121373127', '696531007913', '696531007913', '702091185251',\n",
       "       '702352941548', '703211913409', '703255666588', '704298963127',\n",
       "       '704924865398', '704955240966', '705651941071', '707755147111',\n",
       "       '713675032670', '713933341814', '714993068392', '716396020667',\n",
       "       '716588902839', '723172669817', '730275532700', '740825039200',\n",
       "       '745090080912', '745252660422', '745252660422', '748485159342',\n",
       "       '750237143755', '762238547096', '762580096326', '763284160851',\n",
       "       '765108666426', '765375701704', '766752101951', '767704605391',\n",
       "       '781168464860', '781251114802', '782827516534', '783216376588',\n",
       "       '794341742183', '795177685647', '795292602017', '795624960885',\n",
       "       '804084059971', '805911600984', '808844437982', '812807172065',\n",
       "       '815057220914', '821176327260', '822693246646', '823483329496',\n",
       "       '831052109090', '837417191027', '837561254746', '839017892923',\n",
       "       '839824620776', '841820491031', '841958655769', '843304999299',\n",
       "       '851870964066', '853454785382', '854861459174', '862103265427',\n",
       "       '867989723800', '869741967061', '870124836397', '870798458027',\n",
       "       '870857776103', '871560567483', '872210259236', '872865125489',\n",
       "       '877595825879', '881493409213', '884046589633', '887011311901',\n",
       "       '888488339255', '891141962737', '893122266564', '893208421469',\n",
       "       '896169420400', '896963234020', '897248836608', '901406604818',\n",
       "       '904845061828', '935602774297', '943052269428', '943077068306',\n",
       "       '947449494863', '949919986568', '951201842005', '957353099912',\n",
       "       '958654301897', '965298631661', '965502613428', '968176942032',\n",
       "       '975181157252', '975181157252', '978147973273', '981843419748',\n",
       "       '984936877352', '991781762590', '993760603400'], dtype='<U12')"
      ]
     },
     "execution_count": 88,
     "metadata": {},
     "output_type": "execute_result"
    }
   ],
   "source": [
    "filenames_ctrl"
   ]
  },
  {
   "cell_type": "code",
   "execution_count": 67,
   "id": "offshore-weapon",
   "metadata": {},
   "outputs": [],
   "source": [
    "filenames_ctrl = np.array([re.search('\\d{12}', filenames_ctrl[k]).group(0) for k in range(len(filenames_ctrl))])"
   ]
  },
  {
   "cell_type": "code",
   "execution_count": 114,
   "id": "enormous-liberal",
   "metadata": {},
   "outputs": [],
   "source": [
    "data_dir = \"/neurospin/dico/data/deep_folding/current/datasets/euaims/crops/SC/no_mask/Rdistmaps/\"\n",
    "filenames = np.load(os.path.join(data_dir, \"sub_id.npy\"))\n",
    "filenames = np.array([re.search('\\d{12}', filenames[k]).group(0) for k in range(len(filenames))])\n",
    "\n",
    "distmaps_ctrl = np.load(os.path.join(data_dir, \"distmap_1mm.npy\"), mmap_mode='r')\n",
    "distmaps_asd = np.load(os.path.join(data_dir, \"distmap_1mm.npy\"), mmap_mode='r')\n",
    "distmaps_id_ctrl = np.load(os.path.join(data_dir, \"distmap_1mm.npy\"), mmap_mode='r')\n",
    "\n",
    "ctrl_list = np.array(list(ctrl.ID))\n",
    "sorter = np.argsort(filenames)\n",
    "filenames_idx = sorter[np.searchsorted(filenames, ctrl_list, sorter=sorter)]\n",
    "filenames_ctrl = filenames[filenames_idx]\n",
    "distmaps_ctrl = distmaps_ctrl[filenames_idx]\n"
   ]
  },
  {
   "cell_type": "code",
   "execution_count": 118,
   "id": "martial-scratch",
   "metadata": {},
   "outputs": [],
   "source": [
    "filenames = np.load(os.path.join(data_dir, \"sub_id.npy\"))\n",
    "filenames = np.array([re.search('\\d{12}', filenames[k]).group(0) for k in range(len(filenames))])\n",
    "\n",
    "id_ctrl_list = np.array(list(id_ctrl.ID))\n",
    "sorter = np.argsort(filenames)\n",
    "filenames_idx = sorter[np.searchsorted(filenames, id_ctrl_list, sorter=sorter)]\n",
    "filenames_id_ctrl = filenames[filenames_idx]\n",
    "distmaps_id_ctrl = distmaps_id_ctrl[filenames_idx]"
   ]
  },
  {
   "cell_type": "code",
   "execution_count": 149,
   "id": "bored-cookbook",
   "metadata": {},
   "outputs": [],
   "source": [
    "filenames = np.load(os.path.join(data_dir, \"sub_id.npy\"))\n",
    "filenames = np.array([re.search('\\d{12}', filenames[k]).group(0) for k in range(len(filenames))])\n",
    "\n",
    "asd_list = [str(sub) for sub in asd.ID if str(sub) in filenames]\n",
    "asd_list = np.array(asd_list)\n",
    "sorter = np.argsort(filenames)\n",
    "filenames_idx = sorter[np.searchsorted(filenames, asd_list, sorter=sorter)]\n",
    "filenames_asd = filenames[filenames_idx]\n",
    "distmaps_asd = distmaps_asd[filenames_idx]"
   ]
  },
  {
   "cell_type": "code",
   "execution_count": 125,
   "id": "proper-atmosphere",
   "metadata": {
    "scrolled": true
   },
   "outputs": [
    {
     "data": {
      "text/plain": [
       "844"
      ]
     },
     "execution_count": 125,
     "metadata": {},
     "output_type": "execute_result"
    }
   ],
   "source": [
    "len(set(filenames)-set(asd_list))"
   ]
  },
  {
   "cell_type": "code",
   "execution_count": 126,
   "id": "controversial-arrangement",
   "metadata": {},
   "outputs": [
    {
     "data": {
      "text/plain": [
       "array(['881493409213', '902816250422', '846396767856', '570524772487',\n",
       "       '107356654390', '841333814207', '825394121668', '487722864717',\n",
       "       '472209750058', '703515395998', '334813354195', '762580096326',\n",
       "       '810072092902', '851870964066', '595952676915', '156275255538',\n",
       "       '277866455055', '795292602017', '948879559425', '567135708905',\n",
       "       '908722914011', '196526905399', '573074876911', '328571212222',\n",
       "       '295112357534', '557615482345', '642984348418', '306895678001',\n",
       "       '963246327235', '826746991440', '423404597109', '765375701704',\n",
       "       '491998749681', '837417191027', '446120344225', '610444396645',\n",
       "       '903795797832', '105629441917', '984936877352', '375546130381',\n",
       "       '141793096301', '224399754295', '294442129240', '968176942032',\n",
       "       '860225396980', '323195490394', '365711526714', '690625710786',\n",
       "       '116829617056', '850432151391', '327345752987', '804084059971',\n",
       "       '340836571839', '474118955267', '955846444559', '972724240119',\n",
       "       '581934377616', '903699871522', '896169420400', '954803363518',\n",
       "       '786319186444', '910766345418', '761647460630', '534967638658',\n",
       "       '510966986457', '384432945539', '928192954187', '204078341146',\n",
       "       '868831578350', '513286772808', '432268037768', '985195424662',\n",
       "       '211834353100', '136287182777', '596907134393', '686924389939',\n",
       "       '156350783493', '851468609152', '240882777282', '934570028700',\n",
       "       '543584526796', '391613571775', '489846110663', '830041143266',\n",
       "       '603979994833', '942412768004', '904845061828', '935036952888',\n",
       "       '507005869518', '507616263818', '366217057897', '704955240966',\n",
       "       '167021385402', '943451413620', '324384731997', '270482106649',\n",
       "       '899801407334', '523002776648', '145098407477', '710387760671',\n",
       "       '881645213328', '235902720769', '841820491031', '177800559886',\n",
       "       '422982644366', '640149993945', '535674267646', '843304999299',\n",
       "       '251317189021', '765108666426', '175673514462', '336598049412',\n",
       "       '656616484637', '937458592530', '871560567483', '123942366629',\n",
       "       '198955934445', '342222286650', '599197502428', '787450371980',\n",
       "       '461756116874', '924945553360', '884070768165', '130676386679',\n",
       "       '870857776103', '338612745125', '428229074166', '881402799178',\n",
       "       '490846599536', '879046647066', '812807172065', '697229528974',\n",
       "       '196084871273', '745090080912', '809014550718', '544359778864',\n",
       "       '124737109801', '472708716550', '182470933796', '656265432190',\n",
       "       '990040441082', '998970787658', '821176327260', '867989723800',\n",
       "       '498302646495', '871752256167', '808844437982', '315910414581',\n",
       "       '903730653877', '433919720012', '713675032670', '607680425439',\n",
       "       '352112184620', '591612765160', '462911954430', '951869822258',\n",
       "       '773995512885', '444447592541', '531126743336', '499590008561',\n",
       "       '637754268688', '601613922076', '166001935037', '308337626668',\n",
       "       '272879295411', '381108786344', '651491039045', '701626976547',\n",
       "       '201781530814', '406025860813', '649197039178', '638494573736',\n",
       "       '639069170186', '530931968480', '744362456371', '755212054837',\n",
       "       '395527716461', '530426937681', '766752101951', '982466523824',\n",
       "       '200472210738', '929896672696', '396868518028', '989524720202',\n",
       "       '955691864151', '435982182950', '588547704494', '994198377218',\n",
       "       '169926587635', '382296646067', '539182080335', '586524752082',\n",
       "       '976537183752', '357798186504', '302455658944', '581075264123',\n",
       "       '420611607439', '657896689200', '789549550734', '502611823201',\n",
       "       '955634127896', '560987227569', '175721011373', '771068276221',\n",
       "       '302019961076', '872865125489', '468580210800', '468991529680',\n",
       "       '117085104500', '484678533147', '612663434239', '942652907951',\n",
       "       '152479781222', '952847408985', '935602774297', '486937824983',\n",
       "       '437304668226', '287334690970', '967626676557', '453555274646',\n",
       "       '795681016332', '854378527154', '816806068146', '157130105776',\n",
       "       '331443624857', '937503165305', '229219433754', '234478915322',\n",
       "       '529165042070', '675064758420', '593207255197', '541625141216',\n",
       "       '541548272051', '112152703248', '433167841299', '458831062503',\n",
       "       '477688074519', '498184660603', '155192407573', '587657536159',\n",
       "       '605316136288', '458989050406', '631415270075', '831052109090',\n",
       "       '577402110718', '500489711016', '393231033047', '109182897329',\n",
       "       '852305045433', '141031925901', '276613040319', '755866583506',\n",
       "       '855548932908', '584224364936', '649700204468', '495779827165',\n",
       "       '243617148831', '652403397256', '318221639781', '268166735779',\n",
       "       '609966867439', '379518485485', '387103247866', '951567731870',\n",
       "       '834413980214', '965502613428', '462781679527', '582348688781',\n",
       "       '854861459174', '681998875857', '321466110510', '762689081855',\n",
       "       '367469520033', '949903300427', '456984361966', '330103998075',\n",
       "       '651670408869', '229884376245', '162000603879', '450462317156',\n",
       "       '778284577230', '248676767882', '647052125664', '832569428144',\n",
       "       '888488339255', '195924035910', '671747498321', '236929058799',\n",
       "       '544491007190', '794341742183', '570702955030', '853454785382',\n",
       "       '616502860312', '614910550100', '560385322960', '436491381614',\n",
       "       '161926513236', '966444082202', '190718033121', '454592127953',\n",
       "       '836808459341', '702091185251', '121961733710', '749925290668',\n",
       "       '332078642120', '383425423056', '501626394309', '411755789478',\n",
       "       '433036344712', '870124836397', '377573175891', '700148775290',\n",
       "       '476936933818', '378195533007', '592413773463', '488196821484',\n",
       "       '157057245454', '227007190710', '382485990931', '445780332688',\n",
       "       '513065156097', '943077068306', '911363863036', '234602244411',\n",
       "       '734264787430', '446221388468', '413056331722', '104324981539',\n",
       "       '782827516534', '217861104942', '339304620783', '468030954687',\n",
       "       '730708437918', '618085331302', '221176289844', '593445523245',\n",
       "       '639036383215', '547412609514', '298221697542', '717695813411',\n",
       "       '429337713500', '923908026564', '795624960885', '597008293107',\n",
       "       '230491665566', '275900515562', '345267595552', '716396020667',\n",
       "       '327760655614', '388422329713', '290770202083', '619149762609',\n",
       "       '582048510514', '893122266564', '703211913409', '232366221199',\n",
       "       '171442086801', '884046589633', '899315846574', '847130083258',\n",
       "       '841958655769', '975181157252', '750237143755', '184436430559',\n",
       "       '839932161550', '296133158279', '893208421469', '613621265343',\n",
       "       '458858673178', '113902830642', '826817331038', '823483329496',\n",
       "       '562732004399', '487856116386', '220947892915', '259866841106',\n",
       "       '997038807877', '996362578285', '444358027398', '420380436494',\n",
       "       '254706791256', '718181991391', '472796270748', '405399264404',\n",
       "       '909752506880', '523946184842', '108325981105', '499811655740',\n",
       "       '478958967391', '749456093133', '317719510819', '304745651938',\n",
       "       '229951973089', '372312116891', '991781762590', '509985289516',\n",
       "       '136851282877', '654783525379', '882596425885', '511141963906',\n",
       "       '426078737578', '257678491670', '884137882162', '158414641992',\n",
       "       '645597444396', '614898267473', '385047510575', '908674294639',\n",
       "       '199958815887', '781251114802', '445106475225', '347433880698',\n",
       "       '158575356558', '673926892942', '639747247787', '570954148543',\n",
       "       '671130860025', '634529090328', '855494225893', '783518115540',\n",
       "       '839017892923', '320826668581', '388735390040', '643156663623',\n",
       "       '178105062231', '505336529906', '225718634848', '101414625982',\n",
       "       '772929362868', '336122528163', '869163187754', '381650671820',\n",
       "       '477854191987', '389202687565', '842711675738', '362657727180',\n",
       "       '114414660031', '879699932406', '508346521563', '656813092207',\n",
       "       '990822957437', '653262752197', '517449688083', '184577901153',\n",
       "       '462839741911', '426515024860', '693121373127', '434761922410',\n",
       "       '940129554568', '891141962737', '538947876752', '932936590417',\n",
       "       '912918777725', '870798458027', '389123441230', '252924253652',\n",
       "       '358814750714', '412921193734', '445512164596', '916074864275',\n",
       "       '431356813004', '930108800338', '672911578565', '455562279439',\n",
       "       '463616087199', '303761129944', '593435745241', '896963234020',\n",
       "       '224830515714', '386004477445', '949919986568', '681975486857',\n",
       "       '510454102181', '576455591997', '546960446466', '745295300976',\n",
       "       '582509594026', '643270138807', '611482122018', '780626155930',\n",
       "       '676853354784', '980380935550', '839824620776', '854980334349',\n",
       "       '239191121558', '153562611492', '654120587069', '355432335910',\n",
       "       '710441522016', '206523187654', '698589982809', '623965895133',\n",
       "       '795177685647', '495977626661', '230568388344', '159609609900',\n",
       "       '567050483866', '869635923320', '590707495613', '832926430837',\n",
       "       '307365682603', '355258024005', '702352941548', '101129844643',\n",
       "       '261811283182', '714993068392', '100693509718', '897504950304',\n",
       "       '278212296453', '873813800183', '703556592787', '239352843676',\n",
       "       '647902472227', '762238547096', '566085504395', '299316484182',\n",
       "       '886847536213', '860914119337', '887011311901', '247624139482',\n",
       "       '762000124689', '405435900354', '704924865398', '511140892831',\n",
       "       '265025813179', '236166648275', '469607877557', '107501679619',\n",
       "       '118194667229', '169356641606', '628118917744', '112250651739',\n",
       "       '837026754750', '791166201177', '261242874734', '137282891018',\n",
       "       '220295159492', '475093171413', '783216376588', '658407271274',\n",
       "       '671678197201', '716588902839', '377961354536', '767704605391',\n",
       "       '967054049535', '892722174756', '629096132061', '304679649435',\n",
       "       '506005238620', '455281732924', '649033908533', '261140684101',\n",
       "       '607485356482', '881324181111', '132297073493', '443521457109',\n",
       "       '826631202330', '740825039200', '917420689827', '101900205031',\n",
       "       '503004924812', '971064170845', '844092957113', '872210259236',\n",
       "       '867116024936', '429779641484', '656504099252', '414689264154',\n",
       "       '317404610400', '567841670723', '325027333124', '282653896837',\n",
       "       '942911490704', '525564185569', '491908520267', '637425042204',\n",
       "       '929367768579', '781168464860', '118910793563', '951201842005',\n",
       "       '215510983147', '538954407458', '602177989471', '127510187827',\n",
       "       '250798494359', '420448554158', '805911600984', '814229018914',\n",
       "       '282946437585', '920590066881', '229773585253', '185048685294',\n",
       "       '741155580632', '871716846350', '829426540874', '748485159342',\n",
       "       '848102478368', '112353982965', '325561384503', '180500665520',\n",
       "       '763284160851', '157923026370', '409954739971', '682151444267',\n",
       "       '716041863832', '665620090147', '494968791332', '992647735985',\n",
       "       '125610027898', '689261665273', '109314636234', '338992546135',\n",
       "       '468289518507', '704298963127', '610073047327', '611237764697',\n",
       "       '811366047947', '995386881833', '369783797676', '209666958265',\n",
       "       '213143169072', '307860293305', '353148112942', '713933341814',\n",
       "       '160293273948', '377617591969', '441124095287', '630147348337',\n",
       "       '583339263116', '236256460571', '188048341660', '594128872723',\n",
       "       '947449494863', '224060371605', '568975953542', '327288335476',\n",
       "       '333206458303', '432402725756', '376830899810', '979467335866',\n",
       "       '678779993249', '924898223873', '917327275297', '268808354269',\n",
       "       '300806232821', '214212155681', '145899409424', '128349972858',\n",
       "       '632587163208', '494344414167', '697957406726', '252407175249',\n",
       "       '150761304327', '929016983552', '588900329700', '441035330946',\n",
       "       '304418982742', '368009590945', '118980777980', '718283607938',\n",
       "       '869535528494', '160054811236', '634610243309', '505506013383',\n",
       "       '133731063641', '957353099912', '927090337769', '958654301897',\n",
       "       '294263527638', '759588075175', '136536288793', '296508265148',\n",
       "       '339018271409', '256029070030', '241215701017', '707755147111',\n",
       "       '730275532700', '928321564172', '183962358736', '521341248046',\n",
       "       '696700648122', '733724982161', '620421203248', '702382144710',\n",
       "       '195056918956', '449830790175', '641775560377', '325322132011',\n",
       "       '501458566432', '968715846408', '403490108373', '875046461725',\n",
       "       '372295016258', '701950985712', '642257746040', '686832758751',\n",
       "       '648242963723', '752965114156', '649581629445', '164169396560',\n",
       "       '605218516112', '684230267993', '745252660422', '897248836608',\n",
       "       '429385763020', '580428127991', '854062438464', '322708064836',\n",
       "       '977462585747', '670787147591', '705715476674', '893439558685',\n",
       "       '331241106383', '993760603400', '488892266345', '877595825879',\n",
       "       '723172669817', '602495883891', '336995982925', '822693246646',\n",
       "       '622837550309', '556631722602', '862103265427', '268576463815',\n",
       "       '880387463235', '926056905071', '981843419748', '391099160423',\n",
       "       '505116043261', '943052269428', '713526364981', '186734682586',\n",
       "       '852911509359', '975493741410', '156266822057', '272840296620',\n",
       "       '525150339506', '379104480549', '696531007913', '579597543661',\n",
       "       '181963433776', '607877406727', '219811218558', '454273424775',\n",
       "       '697559553067', '115677420583', '552396778923', '709897843581',\n",
       "       '460374103136', '828133697447', '936030415617', '502417524301',\n",
       "       '391549922275', '320580883246', '418598548438', '578561818687',\n",
       "       '411822073393', '366889738280', '600269564046', '767491931913',\n",
       "       '406361373838', '715170653504', '614505055273', '621141266206',\n",
       "       '729400520308', '815057220914', '339104516455', '468615955074',\n",
       "       '394530828078', '128031666740', '511270340855', '532177189086',\n",
       "       '411132124107', '514649804940', '130442593612', '843192037159',\n",
       "       '703255666588', '183456420392', '901406604818', '378543460381',\n",
       "       '408451488786', '143934617779', '917478470556', '458470349372',\n",
       "       '244104527152', '559902456395', '712984812365', '530329509553',\n",
       "       '186014141169', '419673248476', '689519620788', '869741967061',\n",
       "       '988758069798', '412723212573', '570509217229', '181254963534',\n",
       "       '738814836052', '111297432251', '483862517771', '144831247766',\n",
       "       '166942277585', '391792121294', '978147973273', '308985002572',\n",
       "       '580649557859', '634792258018', '754018898636', '540232385128',\n",
       "       '617711901244', '920954658020', '577694186905', '449638801655',\n",
       "       '516084790842', '381628486350', '279317040809', '359009787195',\n",
       "       '373305626861', '567578893300', '396115729600', '235350958604',\n",
       "       '655838488939', '288113522860', '413732647306', '261249677383',\n",
       "       '837561254746', '260851850826', '646013149986', '149668037941',\n",
       "       '123709183152', '783445764616', '179133564500', '705651941071',\n",
       "       '388343881755', '832808896247', '185840260239', '527982085490',\n",
       "       '198048766808', '780577051640', '623938317452', '511856618487',\n",
       "       '646251362798', '529633790775', '965298631661', '644050954441'],\n",
       "      dtype='<U12')"
      ]
     },
     "execution_count": 126,
     "metadata": {},
     "output_type": "execute_result"
    }
   ],
   "source": [
    "filenames"
   ]
  },
  {
   "cell_type": "code",
   "execution_count": 147,
   "id": "sticky-hartford",
   "metadata": {},
   "outputs": [
    {
     "data": {
      "text/plain": [
       "354"
      ]
     },
     "execution_count": 147,
     "metadata": {},
     "output_type": "execute_result"
    }
   ],
   "source": [
    "len([str(sub) for sub in asd.ID if str(sub) in filenames])"
   ]
  },
  {
   "cell_type": "code",
   "execution_count": 144,
   "id": "radio-switzerland",
   "metadata": {
    "scrolled": true
   },
   "outputs": [
    {
     "data": {
      "text/plain": [
       "numpy.str_"
      ]
     },
     "execution_count": 144,
     "metadata": {},
     "output_type": "execute_result"
    }
   ],
   "source": [
    "type(filenames[2])"
   ]
  },
  {
   "cell_type": "code",
   "execution_count": 44,
   "id": "electronic-angola",
   "metadata": {},
   "outputs": [
    {
     "data": {
      "text/plain": [
       "array([506, 506, 506, 506, 506, 506, 506, 506, 506, 506, 506, 506, 506,\n",
       "       506, 506, 506, 506, 506, 506, 506, 506, 506, 506, 506, 506, 506,\n",
       "       506, 506, 506, 506, 506, 506, 506, 506, 506, 506, 506, 506, 506,\n",
       "       506, 506, 506, 506, 506, 506, 506, 506, 506, 506, 506, 506, 506,\n",
       "       506, 506, 506, 506, 506, 506, 506, 506, 506, 506, 506, 506, 506,\n",
       "       506, 506, 506, 506, 506, 506, 506, 506, 506, 506, 506, 506, 506,\n",
       "       506, 506, 506, 506, 506, 506, 506, 506, 506, 506, 506, 506, 506,\n",
       "       506, 506, 506, 506, 506, 506, 506, 506, 506, 506, 506, 506, 506,\n",
       "       506, 506, 506, 506, 506, 506, 506, 506, 506, 506, 506, 506, 506,\n",
       "       506, 506, 506, 506, 506, 506, 506, 506, 506, 506, 506, 506, 506,\n",
       "       506, 506, 506, 506, 506, 506, 506, 506, 506, 506, 506, 506, 506,\n",
       "       506, 506, 506, 506, 506, 506, 506, 506, 506, 506, 506, 506, 506,\n",
       "       506, 506, 506, 506, 506, 506, 506, 506, 506, 506, 506, 506, 506,\n",
       "       506, 506, 506, 506, 506, 506, 506, 506, 506, 506, 506, 506, 506,\n",
       "       506, 506, 506, 506, 506, 506, 506, 506, 506, 506, 506, 506, 506,\n",
       "       506, 506, 506, 506, 506, 506, 506, 506, 506, 506, 506, 506, 506,\n",
       "       506, 506, 506, 506, 506, 506, 506, 506, 506, 506, 506, 506, 506,\n",
       "       506, 506, 506, 506, 506, 506, 506, 506, 506, 506, 506, 506, 506,\n",
       "       506, 506, 506, 506, 506, 506, 506, 506, 506, 506, 506, 506, 506,\n",
       "       506, 506, 506, 506, 506, 506, 506, 506, 506, 506, 506, 506, 506,\n",
       "       506, 506, 506, 506, 506, 506, 506, 506, 506, 506, 506, 506, 506,\n",
       "       506, 506])"
      ]
     },
     "execution_count": 44,
     "metadata": {},
     "output_type": "execute_result"
    }
   ],
   "source": [
    "sorter[np.searchsorted(filenames_ctrl, ctrl_list, sorter=sorter)]"
   ]
  },
  {
   "cell_type": "code",
   "execution_count": 16,
   "id": "atlantic-climate",
   "metadata": {},
   "outputs": [
    {
     "data": {
      "text/plain": [
       "array(['sub-881493409213', 'sub-902816250422', 'sub-846396767856',\n",
       "       'sub-570524772487', 'sub-107356654390', 'sub-841333814207',\n",
       "       'sub-825394121668', 'sub-487722864717', 'sub-472209750058',\n",
       "       'sub-703515395998', 'sub-334813354195', 'sub-762580096326',\n",
       "       'sub-810072092902', 'sub-851870964066', 'sub-595952676915',\n",
       "       'sub-156275255538', 'sub-277866455055', 'sub-795292602017',\n",
       "       'sub-948879559425', 'sub-567135708905', 'sub-908722914011',\n",
       "       'sub-196526905399', 'sub-573074876911', 'sub-328571212222',\n",
       "       'sub-295112357534', 'sub-557615482345', 'sub-642984348418',\n",
       "       'sub-306895678001', 'sub-963246327235', 'sub-826746991440',\n",
       "       'sub-423404597109', 'sub-765375701704', 'sub-491998749681',\n",
       "       'sub-837417191027', 'sub-446120344225', 'sub-610444396645',\n",
       "       'sub-903795797832', 'sub-105629441917', 'sub-984936877352',\n",
       "       'sub-375546130381', 'sub-141793096301', 'sub-224399754295',\n",
       "       'sub-294442129240', 'sub-968176942032', 'sub-860225396980',\n",
       "       'sub-323195490394', 'sub-365711526714', 'sub-690625710786',\n",
       "       'sub-116829617056', 'sub-850432151391', 'sub-327345752987',\n",
       "       'sub-804084059971', 'sub-340836571839', 'sub-474118955267',\n",
       "       'sub-955846444559', 'sub-972724240119', 'sub-581934377616',\n",
       "       'sub-903699871522', 'sub-896169420400', 'sub-954803363518',\n",
       "       'sub-786319186444', 'sub-910766345418', 'sub-761647460630',\n",
       "       'sub-534967638658', 'sub-510966986457', 'sub-384432945539',\n",
       "       'sub-928192954187', 'sub-204078341146', 'sub-868831578350',\n",
       "       'sub-513286772808', 'sub-432268037768', 'sub-985195424662',\n",
       "       'sub-211834353100', 'sub-136287182777', 'sub-596907134393',\n",
       "       'sub-686924389939', 'sub-156350783493', 'sub-851468609152',\n",
       "       'sub-240882777282', 'sub-934570028700', 'sub-543584526796',\n",
       "       'sub-391613571775', 'sub-489846110663', 'sub-830041143266',\n",
       "       'sub-603979994833', 'sub-942412768004', 'sub-904845061828',\n",
       "       'sub-935036952888', 'sub-507005869518', 'sub-507616263818',\n",
       "       'sub-366217057897', 'sub-704955240966', 'sub-167021385402',\n",
       "       'sub-943451413620', 'sub-324384731997', 'sub-270482106649',\n",
       "       'sub-899801407334', 'sub-523002776648', 'sub-145098407477',\n",
       "       'sub-710387760671', 'sub-881645213328', 'sub-235902720769',\n",
       "       'sub-841820491031', 'sub-177800559886', 'sub-422982644366',\n",
       "       'sub-640149993945', 'sub-535674267646', 'sub-843304999299',\n",
       "       'sub-251317189021', 'sub-765108666426', 'sub-175673514462',\n",
       "       'sub-336598049412', 'sub-656616484637', 'sub-937458592530',\n",
       "       'sub-871560567483', 'sub-123942366629', 'sub-198955934445',\n",
       "       'sub-342222286650', 'sub-599197502428', 'sub-787450371980',\n",
       "       'sub-461756116874', 'sub-924945553360', 'sub-884070768165',\n",
       "       'sub-130676386679', 'sub-870857776103', 'sub-338612745125',\n",
       "       'sub-428229074166', 'sub-881402799178', 'sub-490846599536',\n",
       "       'sub-879046647066', 'sub-812807172065', 'sub-697229528974',\n",
       "       'sub-196084871273', 'sub-745090080912', 'sub-809014550718',\n",
       "       'sub-544359778864', 'sub-124737109801', 'sub-472708716550',\n",
       "       'sub-182470933796', 'sub-656265432190', 'sub-990040441082',\n",
       "       'sub-998970787658', 'sub-821176327260', 'sub-867989723800',\n",
       "       'sub-498302646495', 'sub-871752256167', 'sub-808844437982',\n",
       "       'sub-315910414581', 'sub-903730653877', 'sub-433919720012',\n",
       "       'sub-713675032670', 'sub-607680425439', 'sub-352112184620',\n",
       "       'sub-591612765160', 'sub-462911954430', 'sub-951869822258',\n",
       "       'sub-773995512885', 'sub-444447592541', 'sub-531126743336',\n",
       "       'sub-499590008561', 'sub-637754268688', 'sub-601613922076',\n",
       "       'sub-166001935037', 'sub-308337626668', 'sub-272879295411',\n",
       "       'sub-381108786344', 'sub-651491039045', 'sub-701626976547',\n",
       "       'sub-201781530814', 'sub-406025860813', 'sub-649197039178',\n",
       "       'sub-638494573736', 'sub-639069170186', 'sub-530931968480',\n",
       "       'sub-744362456371', 'sub-755212054837', 'sub-395527716461',\n",
       "       'sub-530426937681', 'sub-766752101951', 'sub-982466523824',\n",
       "       'sub-200472210738', 'sub-929896672696', 'sub-396868518028',\n",
       "       'sub-989524720202', 'sub-955691864151', 'sub-435982182950',\n",
       "       'sub-588547704494', 'sub-994198377218', 'sub-169926587635',\n",
       "       'sub-382296646067', 'sub-539182080335', 'sub-586524752082',\n",
       "       'sub-976537183752', 'sub-357798186504', 'sub-302455658944',\n",
       "       'sub-581075264123', 'sub-420611607439', 'sub-657896689200',\n",
       "       'sub-789549550734', 'sub-502611823201', 'sub-955634127896',\n",
       "       'sub-560987227569', 'sub-175721011373', 'sub-771068276221',\n",
       "       'sub-302019961076', 'sub-872865125489', 'sub-468580210800',\n",
       "       'sub-468991529680', 'sub-117085104500', 'sub-484678533147',\n",
       "       'sub-612663434239', 'sub-942652907951', 'sub-152479781222',\n",
       "       'sub-952847408985', 'sub-935602774297', 'sub-486937824983',\n",
       "       'sub-437304668226', 'sub-287334690970', 'sub-967626676557',\n",
       "       'sub-453555274646', 'sub-795681016332', 'sub-854378527154',\n",
       "       'sub-816806068146', 'sub-157130105776', 'sub-331443624857',\n",
       "       'sub-937503165305', 'sub-229219433754', 'sub-234478915322',\n",
       "       'sub-529165042070', 'sub-675064758420', 'sub-593207255197',\n",
       "       'sub-541625141216', 'sub-541548272051', 'sub-112152703248',\n",
       "       'sub-433167841299', 'sub-458831062503', 'sub-477688074519',\n",
       "       'sub-498184660603', 'sub-155192407573', 'sub-587657536159',\n",
       "       'sub-605316136288', 'sub-458989050406', 'sub-631415270075',\n",
       "       'sub-831052109090', 'sub-577402110718', 'sub-500489711016',\n",
       "       'sub-393231033047', 'sub-109182897329', 'sub-852305045433',\n",
       "       'sub-141031925901', 'sub-276613040319', 'sub-755866583506',\n",
       "       'sub-855548932908', 'sub-584224364936', 'sub-649700204468',\n",
       "       'sub-495779827165', 'sub-243617148831', 'sub-652403397256',\n",
       "       'sub-318221639781', 'sub-268166735779', 'sub-609966867439',\n",
       "       'sub-379518485485', 'sub-387103247866', 'sub-951567731870',\n",
       "       'sub-834413980214', 'sub-965502613428', 'sub-462781679527',\n",
       "       'sub-582348688781', 'sub-854861459174', 'sub-681998875857',\n",
       "       'sub-321466110510', 'sub-762689081855', 'sub-367469520033',\n",
       "       'sub-949903300427', 'sub-456984361966', 'sub-330103998075',\n",
       "       'sub-651670408869', 'sub-229884376245', 'sub-162000603879',\n",
       "       'sub-450462317156', 'sub-778284577230', 'sub-248676767882',\n",
       "       'sub-647052125664', 'sub-832569428144', 'sub-888488339255',\n",
       "       'sub-195924035910', 'sub-671747498321', 'sub-236929058799',\n",
       "       'sub-544491007190', 'sub-794341742183', 'sub-570702955030',\n",
       "       'sub-853454785382', 'sub-616502860312', 'sub-614910550100',\n",
       "       'sub-560385322960', 'sub-436491381614', 'sub-161926513236',\n",
       "       'sub-966444082202', 'sub-190718033121', 'sub-454592127953',\n",
       "       'sub-836808459341', 'sub-702091185251', 'sub-121961733710',\n",
       "       'sub-749925290668', 'sub-332078642120', 'sub-383425423056',\n",
       "       'sub-501626394309', 'sub-411755789478', 'sub-433036344712',\n",
       "       'sub-870124836397', 'sub-377573175891', 'sub-700148775290',\n",
       "       'sub-476936933818', 'sub-378195533007', 'sub-592413773463',\n",
       "       'sub-488196821484', 'sub-157057245454', 'sub-227007190710',\n",
       "       'sub-382485990931', 'sub-445780332688', 'sub-513065156097',\n",
       "       'sub-943077068306', 'sub-911363863036', 'sub-234602244411',\n",
       "       'sub-734264787430', 'sub-446221388468', 'sub-413056331722',\n",
       "       'sub-104324981539', 'sub-782827516534', 'sub-217861104942',\n",
       "       'sub-339304620783', 'sub-468030954687', 'sub-730708437918',\n",
       "       'sub-618085331302', 'sub-221176289844', 'sub-593445523245',\n",
       "       'sub-639036383215', 'sub-547412609514', 'sub-298221697542',\n",
       "       'sub-717695813411', 'sub-429337713500', 'sub-923908026564',\n",
       "       'sub-795624960885', 'sub-597008293107', 'sub-230491665566',\n",
       "       'sub-275900515562', 'sub-345267595552', 'sub-716396020667',\n",
       "       'sub-327760655614', 'sub-388422329713', 'sub-290770202083',\n",
       "       'sub-619149762609', 'sub-582048510514', 'sub-893122266564',\n",
       "       'sub-703211913409', 'sub-232366221199', 'sub-171442086801',\n",
       "       'sub-884046589633', 'sub-899315846574', 'sub-847130083258',\n",
       "       'sub-841958655769', 'sub-975181157252', 'sub-750237143755',\n",
       "       'sub-184436430559', 'sub-839932161550', 'sub-296133158279',\n",
       "       'sub-893208421469', 'sub-613621265343', 'sub-458858673178',\n",
       "       'sub-113902830642', 'sub-826817331038', 'sub-823483329496',\n",
       "       'sub-562732004399', 'sub-487856116386', 'sub-220947892915',\n",
       "       'sub-259866841106', 'sub-997038807877', 'sub-996362578285',\n",
       "       'sub-444358027398', 'sub-420380436494', 'sub-254706791256',\n",
       "       'sub-718181991391', 'sub-472796270748', 'sub-405399264404',\n",
       "       'sub-909752506880', 'sub-523946184842', 'sub-108325981105',\n",
       "       'sub-499811655740', 'sub-478958967391', 'sub-749456093133',\n",
       "       'sub-317719510819', 'sub-304745651938', 'sub-229951973089',\n",
       "       'sub-372312116891', 'sub-991781762590', 'sub-509985289516',\n",
       "       'sub-136851282877', 'sub-654783525379', 'sub-882596425885',\n",
       "       'sub-511141963906', 'sub-426078737578', 'sub-257678491670',\n",
       "       'sub-884137882162', 'sub-158414641992', 'sub-645597444396',\n",
       "       'sub-614898267473', 'sub-385047510575', 'sub-908674294639',\n",
       "       'sub-199958815887', 'sub-781251114802', 'sub-445106475225',\n",
       "       'sub-347433880698', 'sub-158575356558', 'sub-673926892942',\n",
       "       'sub-639747247787', 'sub-570954148543', 'sub-671130860025',\n",
       "       'sub-634529090328', 'sub-855494225893', 'sub-783518115540',\n",
       "       'sub-839017892923', 'sub-320826668581', 'sub-388735390040',\n",
       "       'sub-643156663623', 'sub-178105062231', 'sub-505336529906',\n",
       "       'sub-225718634848', 'sub-101414625982', 'sub-772929362868',\n",
       "       'sub-336122528163', 'sub-869163187754', 'sub-381650671820',\n",
       "       'sub-477854191987', 'sub-389202687565', 'sub-842711675738',\n",
       "       'sub-362657727180', 'sub-114414660031', 'sub-879699932406',\n",
       "       'sub-508346521563', 'sub-656813092207', 'sub-990822957437',\n",
       "       'sub-653262752197', 'sub-517449688083', 'sub-184577901153',\n",
       "       'sub-462839741911', 'sub-426515024860', 'sub-693121373127',\n",
       "       'sub-434761922410', 'sub-940129554568', 'sub-891141962737',\n",
       "       'sub-538947876752', 'sub-932936590417', 'sub-912918777725',\n",
       "       'sub-870798458027', 'sub-389123441230', 'sub-252924253652',\n",
       "       'sub-358814750714', 'sub-412921193734', 'sub-445512164596',\n",
       "       'sub-916074864275', 'sub-431356813004', 'sub-930108800338',\n",
       "       'sub-672911578565', 'sub-455562279439', 'sub-463616087199',\n",
       "       'sub-303761129944', 'sub-593435745241', 'sub-896963234020',\n",
       "       'sub-224830515714', 'sub-386004477445', 'sub-949919986568',\n",
       "       'sub-681975486857', 'sub-510454102181', 'sub-576455591997',\n",
       "       'sub-546960446466', 'sub-745295300976', 'sub-582509594026',\n",
       "       'sub-643270138807', 'sub-611482122018', 'sub-780626155930',\n",
       "       'sub-676853354784', 'sub-980380935550', 'sub-839824620776',\n",
       "       'sub-854980334349', 'sub-239191121558', 'sub-153562611492',\n",
       "       'sub-654120587069', 'sub-355432335910', 'sub-710441522016',\n",
       "       'sub-206523187654', 'sub-698589982809', 'sub-623965895133',\n",
       "       'sub-795177685647', 'sub-495977626661', 'sub-230568388344',\n",
       "       'sub-159609609900', 'sub-567050483866', 'sub-869635923320',\n",
       "       'sub-590707495613', 'sub-832926430837', 'sub-307365682603',\n",
       "       'sub-355258024005', 'sub-702352941548', 'sub-101129844643',\n",
       "       'sub-261811283182', 'sub-714993068392', 'sub-100693509718',\n",
       "       'sub-897504950304', 'sub-278212296453', 'sub-873813800183',\n",
       "       'sub-703556592787', 'sub-239352843676', 'sub-647902472227',\n",
       "       'sub-762238547096', 'sub-566085504395', 'sub-299316484182',\n",
       "       'sub-886847536213', 'sub-860914119337', 'sub-887011311901',\n",
       "       'sub-247624139482', 'sub-762000124689', 'sub-405435900354',\n",
       "       'sub-704924865398', 'sub-511140892831', 'sub-265025813179',\n",
       "       'sub-236166648275', 'sub-469607877557', 'sub-107501679619',\n",
       "       'sub-118194667229', 'sub-169356641606', 'sub-628118917744',\n",
       "       'sub-112250651739', 'sub-837026754750', 'sub-791166201177',\n",
       "       'sub-261242874734', 'sub-137282891018', 'sub-220295159492',\n",
       "       'sub-475093171413', 'sub-783216376588', 'sub-658407271274',\n",
       "       'sub-671678197201', 'sub-716588902839', 'sub-377961354536',\n",
       "       'sub-767704605391', 'sub-967054049535', 'sub-892722174756',\n",
       "       'sub-629096132061', 'sub-304679649435', 'sub-506005238620',\n",
       "       'sub-455281732924', 'sub-649033908533', 'sub-261140684101',\n",
       "       'sub-607485356482', 'sub-881324181111', 'sub-132297073493',\n",
       "       'sub-443521457109', 'sub-826631202330', 'sub-740825039200',\n",
       "       'sub-917420689827', 'sub-101900205031', 'sub-503004924812',\n",
       "       'sub-971064170845', 'sub-844092957113', 'sub-872210259236',\n",
       "       'sub-867116024936', 'sub-429779641484', 'sub-656504099252',\n",
       "       'sub-414689264154', 'sub-317404610400', 'sub-567841670723',\n",
       "       'sub-325027333124', 'sub-282653896837', 'sub-942911490704',\n",
       "       'sub-525564185569', 'sub-491908520267', 'sub-637425042204',\n",
       "       'sub-929367768579', 'sub-781168464860', 'sub-118910793563',\n",
       "       'sub-951201842005', 'sub-215510983147', 'sub-538954407458',\n",
       "       'sub-602177989471', 'sub-127510187827', 'sub-250798494359',\n",
       "       'sub-420448554158', 'sub-805911600984', 'sub-814229018914',\n",
       "       'sub-282946437585', 'sub-920590066881', 'sub-229773585253',\n",
       "       'sub-185048685294', 'sub-741155580632', 'sub-871716846350',\n",
       "       'sub-829426540874', 'sub-748485159342', 'sub-848102478368',\n",
       "       'sub-112353982965', 'sub-325561384503', 'sub-180500665520',\n",
       "       'sub-763284160851', 'sub-157923026370', 'sub-409954739971',\n",
       "       'sub-682151444267', 'sub-716041863832', 'sub-665620090147',\n",
       "       'sub-494968791332', 'sub-992647735985', 'sub-125610027898',\n",
       "       'sub-689261665273', 'sub-109314636234', 'sub-338992546135',\n",
       "       'sub-468289518507', 'sub-704298963127', 'sub-610073047327',\n",
       "       'sub-611237764697', 'sub-811366047947', 'sub-995386881833',\n",
       "       'sub-369783797676', 'sub-209666958265', 'sub-213143169072',\n",
       "       'sub-307860293305', 'sub-353148112942', 'sub-713933341814',\n",
       "       'sub-160293273948', 'sub-377617591969', 'sub-441124095287',\n",
       "       'sub-630147348337', 'sub-583339263116', 'sub-236256460571',\n",
       "       'sub-188048341660', 'sub-594128872723', 'sub-947449494863',\n",
       "       'sub-224060371605', 'sub-568975953542', 'sub-327288335476',\n",
       "       'sub-333206458303', 'sub-432402725756', 'sub-376830899810',\n",
       "       'sub-979467335866', 'sub-678779993249', 'sub-924898223873',\n",
       "       'sub-917327275297', 'sub-268808354269', 'sub-300806232821',\n",
       "       'sub-214212155681', 'sub-145899409424', 'sub-128349972858',\n",
       "       'sub-632587163208', 'sub-494344414167', 'sub-697957406726',\n",
       "       'sub-252407175249', 'sub-150761304327', 'sub-929016983552',\n",
       "       'sub-588900329700', 'sub-441035330946', 'sub-304418982742',\n",
       "       'sub-368009590945', 'sub-118980777980', 'sub-718283607938',\n",
       "       'sub-869535528494', 'sub-160054811236', 'sub-634610243309',\n",
       "       'sub-505506013383', 'sub-133731063641', 'sub-957353099912',\n",
       "       'sub-927090337769', 'sub-958654301897', 'sub-294263527638',\n",
       "       'sub-759588075175', 'sub-136536288793', 'sub-296508265148',\n",
       "       'sub-339018271409', 'sub-256029070030', 'sub-241215701017',\n",
       "       'sub-707755147111', 'sub-730275532700', 'sub-928321564172',\n",
       "       'sub-183962358736', 'sub-521341248046', 'sub-696700648122',\n",
       "       'sub-733724982161', 'sub-620421203248', 'sub-702382144710',\n",
       "       'sub-195056918956', 'sub-449830790175', 'sub-641775560377',\n",
       "       'sub-325322132011', 'sub-501458566432', 'sub-968715846408',\n",
       "       'sub-403490108373', 'sub-875046461725', 'sub-372295016258',\n",
       "       'sub-701950985712', 'sub-642257746040', 'sub-686832758751',\n",
       "       'sub-648242963723', 'sub-752965114156', 'sub-649581629445',\n",
       "       'sub-164169396560', 'sub-605218516112', 'sub-684230267993',\n",
       "       'sub-745252660422', 'sub-897248836608', 'sub-429385763020',\n",
       "       'sub-580428127991', 'sub-854062438464', 'sub-322708064836',\n",
       "       'sub-977462585747', 'sub-670787147591', 'sub-705715476674',\n",
       "       'sub-893439558685', 'sub-331241106383', 'sub-993760603400',\n",
       "       'sub-488892266345', 'sub-877595825879', 'sub-723172669817',\n",
       "       'sub-602495883891', 'sub-336995982925', 'sub-822693246646',\n",
       "       'sub-622837550309', 'sub-556631722602', 'sub-862103265427',\n",
       "       'sub-268576463815', 'sub-880387463235', 'sub-926056905071',\n",
       "       'sub-981843419748', 'sub-391099160423', 'sub-505116043261',\n",
       "       'sub-943052269428', 'sub-713526364981', 'sub-186734682586',\n",
       "       'sub-852911509359', 'sub-975493741410', 'sub-156266822057',\n",
       "       'sub-272840296620', 'sub-525150339506', 'sub-379104480549',\n",
       "       'sub-696531007913', 'sub-579597543661', 'sub-181963433776',\n",
       "       'sub-607877406727', 'sub-219811218558', 'sub-454273424775',\n",
       "       'sub-697559553067', 'sub-115677420583', 'sub-552396778923',\n",
       "       'sub-709897843581', 'sub-460374103136', 'sub-828133697447',\n",
       "       'sub-936030415617', 'sub-502417524301', 'sub-391549922275',\n",
       "       'sub-320580883246', 'sub-418598548438', 'sub-578561818687',\n",
       "       'sub-411822073393', 'sub-366889738280', 'sub-600269564046',\n",
       "       'sub-767491931913', 'sub-406361373838', 'sub-715170653504',\n",
       "       'sub-614505055273', 'sub-621141266206', 'sub-729400520308',\n",
       "       'sub-815057220914', 'sub-339104516455', 'sub-468615955074',\n",
       "       'sub-394530828078', 'sub-128031666740', 'sub-511270340855',\n",
       "       'sub-532177189086', 'sub-411132124107', 'sub-514649804940',\n",
       "       'sub-130442593612', 'sub-843192037159', 'sub-703255666588',\n",
       "       'sub-183456420392', 'sub-901406604818', 'sub-378543460381',\n",
       "       'sub-408451488786', 'sub-143934617779', 'sub-917478470556',\n",
       "       'sub-458470349372', 'sub-244104527152', 'sub-559902456395',\n",
       "       'sub-712984812365', 'sub-530329509553', 'sub-186014141169',\n",
       "       'sub-419673248476', 'sub-689519620788', 'sub-869741967061',\n",
       "       'sub-988758069798', 'sub-412723212573', 'sub-570509217229',\n",
       "       'sub-181254963534', 'sub-738814836052', 'sub-111297432251',\n",
       "       'sub-483862517771', 'sub-144831247766', 'sub-166942277585',\n",
       "       'sub-391792121294', 'sub-978147973273', 'sub-308985002572',\n",
       "       'sub-580649557859', 'sub-634792258018', 'sub-754018898636',\n",
       "       'sub-540232385128', 'sub-617711901244', 'sub-920954658020',\n",
       "       'sub-577694186905', 'sub-449638801655', 'sub-516084790842',\n",
       "       'sub-381628486350', 'sub-279317040809', 'sub-359009787195',\n",
       "       'sub-373305626861', 'sub-567578893300', 'sub-396115729600',\n",
       "       'sub-235350958604', 'sub-655838488939', 'sub-288113522860',\n",
       "       'sub-413732647306', 'sub-261249677383', 'sub-837561254746',\n",
       "       'sub-260851850826', 'sub-646013149986', 'sub-149668037941',\n",
       "       'sub-123709183152', 'sub-783445764616', 'sub-179133564500',\n",
       "       'sub-705651941071', 'sub-388343881755', 'sub-832808896247',\n",
       "       'sub-185840260239', 'sub-527982085490', 'sub-198048766808',\n",
       "       'sub-780577051640', 'sub-623938317452', 'sub-511856618487',\n",
       "       'sub-646251362798', 'sub-529633790775', 'sub-965298631661',\n",
       "       'sub-644050954441'], dtype='<U16')"
      ]
     },
     "execution_count": 16,
     "metadata": {},
     "output_type": "execute_result"
    }
   ],
   "source": [
    "filenames_ctrl"
   ]
  },
  {
   "cell_type": "code",
   "execution_count": 30,
   "id": "found-winner",
   "metadata": {},
   "outputs": [],
   "source": [
    "labels_oh = pd.read_csv('/neurospin/dico/lguillon/ohbm_22/one_handed_labels.csv')\n",
    "ctrl = labels_oh[labels_oh['Dominant hand']=='R']\n",
    "one_handed = labels_oh[labels_oh['Group']!='CTR']\n",
    "one_handed = labels_oh[labels_oh['Amp. Side']=='L']\n",
    "\n",
    "amputee = one_handed[one_handed['Group']=='AMP']\n",
    "cong = one_handed[one_handed['Group']=='CONG']\n",
    "data_dir = \"/neurospin/dico/data/deep_folding/current/datasets/one_handed/crops/SC/no_mask/Rdistmaps/\"\n",
    "\n",
    "distmaps_ctrl = np.load(os.path.join(data_dir, \"distmap_1mm.npy\"), mmap_mode='r')\n",
    "filenames_ctrl = np.load(os.path.join(data_dir, \"sub_id.npy\"))\n",
    "\n",
    "distmaps_amputee = np.load(os.path.join(data_dir, \"distmap_1mm.npy\"), mmap_mode='r')\n",
    "filenames_amputee = np.load(os.path.join(data_dir, \"sub_id.npy\"))\n",
    "\n",
    "distmaps_cong = np.load(os.path.join(data_dir, \"distmap_1mm.npy\"), mmap_mode='r')\n",
    "filenames_cong = np.load(os.path.join(data_dir, \"sub_id.npy\"))\n",
    "\n",
    "ctrl_list = np.array(list(ctrl.SubjID))\n",
    "sorter = np.argsort(filenames_ctrl)\n",
    "filenames_idx = sorter[np.searchsorted(filenames_ctrl, ctrl_list, sorter=sorter)]\n",
    "filenames_ctrl = filenames_ctrl[filenames_idx]\n",
    "distmaps_ctrl = distmaps_ctrl[filenames_idx]"
   ]
  },
  {
   "cell_type": "code",
   "execution_count": 34,
   "id": "concerned-aruba",
   "metadata": {},
   "outputs": [
    {
     "data": {
      "text/plain": [
       "array(['PC01', 'PC02', 'PC03', 'PC04', 'PC05', 'PC07', 'PC08', 'PC09',\n",
       "       'PC10', 'PC12', 'PC14', 'PC16', 'PC18', 'PC20', 'PC22', 'PC23'],\n",
       "      dtype='<U4')"
      ]
     },
     "execution_count": 34,
     "metadata": {},
     "output_type": "execute_result"
    }
   ],
   "source": [
    "ctrl_list"
   ]
  },
  {
   "cell_type": "code",
   "execution_count": 249,
   "id": "still-controversy",
   "metadata": {},
   "outputs": [
    {
     "data": {
      "text/plain": [
       "(374, 78, 63, 88, 1)"
      ]
     },
     "execution_count": 249,
     "metadata": {},
     "output_type": "execute_result"
    }
   ],
   "source": [
    "distmaps_asd.shape"
   ]
  },
  {
   "cell_type": "code",
   "execution_count": 239,
   "id": "favorite-purse",
   "metadata": {},
   "outputs": [],
   "source": [
    "subset_ctrl = SkeletonDataset(dataframe=distmaps_ctrl,\n",
    "                         filenames=filenames_ctrl,\n",
    "                         data_transforms=False)\n",
    "\n",
    "ctrl_loader = torch.utils.data.DataLoader(\n",
    "               subset_ctrl,\n",
    "               batch_size=1,\n",
    "               num_workers=1,\n",
    "               shuffle=False) \n",
    "\n",
    "subset_asd = SkeletonDataset(dataframe=distmaps_asd,\n",
    "                         filenames=filenames_asd,\n",
    "                         data_transforms=False)\n",
    "\n",
    "asd_loader = torch.utils.data.DataLoader(\n",
    "               subset_asd,\n",
    "               batch_size=1,\n",
    "               num_workers=1,\n",
    "               shuffle=False) \n",
    "\n",
    "dico_set_loaders = {'ctrl': ctrl_loader, 'asd': asd_loader}\n"
   ]
  },
  {
   "cell_type": "code",
   "execution_count": 253,
   "id": "straight-houston",
   "metadata": {
    "scrolled": true
   },
   "outputs": [],
   "source": [
    "dico_set_loaders = {'ctrl': scint_loader, 'asd': asd_loader}"
   ]
  },
  {
   "cell_type": "code",
   "execution_count": 254,
   "id": "circular-commission",
   "metadata": {
    "scrolled": true
   },
   "outputs": [
    {
     "name": "stdout",
     "output_type": "stream",
     "text": [
      "ctrl\n",
      "asd\n"
     ]
    }
   ],
   "source": [
    "tester = ModelTester(model=model, dico_set_loaders=dico_set_loaders,\n",
    "                     loss_func=criterion, kl_weight=2,\n",
    "                     n_latent=50, depth=3)\n",
    "\n",
    "results_aims = tester.test()\n",
    "\n",
    "losses_aims = {loader_name:[int(results_aims[loader_name][k][0].cpu().detach().numpy()) for k in results_aims[loader_name].keys()] for loader_name in dico_set_loaders.keys()}\n",
    "encoded_aims = {loader_name:[results_aims[loader_name][k][1] for k in results_aims[loader_name].keys()] for loader_name in dico_set_loaders.keys()}"
   ]
  },
  {
   "cell_type": "code",
   "execution_count": 202,
   "id": "scientific-virus",
   "metadata": {},
   "outputs": [
    {
     "ename": "KeyError",
     "evalue": "'asd'",
     "output_type": "error",
     "traceback": [
      "\u001b[0;31m---------------------------------------------------------------------------\u001b[0m",
      "\u001b[0;31mKeyError\u001b[0m                                  Traceback (most recent call last)",
      "\u001b[0;32m<ipython-input-202-6ea3cce7285c>\u001b[0m in \u001b[0;36m<module>\u001b[0;34m()\u001b[0m\n\u001b[1;32m      1\u001b[0m \u001b[0mdf_encoded_aims\u001b[0m \u001b[0;34m=\u001b[0m \u001b[0mpd\u001b[0m\u001b[0;34m.\u001b[0m\u001b[0mDataFrame\u001b[0m\u001b[0;34m(\u001b[0m\u001b[0;34m)\u001b[0m\u001b[0;34m\u001b[0m\u001b[0;34m\u001b[0m\u001b[0m\n\u001b[0;32m----> 2\u001b[0;31m \u001b[0mdf_encoded_aims\u001b[0m\u001b[0;34m[\u001b[0m\u001b[0;34m'latent'\u001b[0m\u001b[0;34m]\u001b[0m \u001b[0;34m=\u001b[0m \u001b[0mencoded_aims\u001b[0m\u001b[0;34m[\u001b[0m\u001b[0;34m'ctrl'\u001b[0m\u001b[0;34m]\u001b[0m \u001b[0;34m+\u001b[0m \u001b[0mencoded_aims\u001b[0m\u001b[0;34m[\u001b[0m\u001b[0;34m'asd'\u001b[0m\u001b[0;34m]\u001b[0m\u001b[0;34m\u001b[0m\u001b[0;34m\u001b[0m\u001b[0m\n\u001b[0m\u001b[1;32m      3\u001b[0m \u001b[0mdf_encoded_aims\u001b[0m\u001b[0;34m[\u001b[0m\u001b[0;34m'Group'\u001b[0m\u001b[0;34m]\u001b[0m \u001b[0;34m=\u001b[0m \u001b[0;34m[\u001b[0m\u001b[0;34m'ctrl'\u001b[0m \u001b[0;32mfor\u001b[0m \u001b[0mk\u001b[0m \u001b[0;32min\u001b[0m \u001b[0mrange\u001b[0m\u001b[0;34m(\u001b[0m\u001b[0mlen\u001b[0m\u001b[0;34m(\u001b[0m\u001b[0mlosses_aims\u001b[0m\u001b[0;34m[\u001b[0m\u001b[0;34m'ctrl'\u001b[0m\u001b[0;34m]\u001b[0m\u001b[0;34m)\u001b[0m\u001b[0;34m)\u001b[0m\u001b[0;34m]\u001b[0m \u001b[0;34m+\u001b[0m \u001b[0;34m[\u001b[0m\u001b[0;34m'asd'\u001b[0m \u001b[0;32mfor\u001b[0m \u001b[0mk\u001b[0m \u001b[0;32min\u001b[0m \u001b[0mrange\u001b[0m\u001b[0;34m(\u001b[0m\u001b[0mlen\u001b[0m\u001b[0;34m(\u001b[0m\u001b[0mlosses_aims\u001b[0m\u001b[0;34m[\u001b[0m\u001b[0;34m'asd'\u001b[0m\u001b[0;34m]\u001b[0m\u001b[0;34m)\u001b[0m\u001b[0;34m)\u001b[0m\u001b[0;34m]\u001b[0m\u001b[0;34m\u001b[0m\u001b[0;34m\u001b[0m\u001b[0m\n\u001b[1;32m      4\u001b[0m \u001b[0;34m\u001b[0m\u001b[0m\n\u001b[1;32m      5\u001b[0m \u001b[0msubjects_name\u001b[0m \u001b[0;34m=\u001b[0m \u001b[0mlist\u001b[0m\u001b[0;34m(\u001b[0m\u001b[0mfilenames_ctrl\u001b[0m\u001b[0;34m)\u001b[0m \u001b[0;34m+\u001b[0m \u001b[0mlist\u001b[0m\u001b[0;34m(\u001b[0m\u001b[0mfilenames_asd\u001b[0m\u001b[0;34m)\u001b[0m\u001b[0;34m\u001b[0m\u001b[0;34m\u001b[0m\u001b[0m\n",
      "\u001b[0;31mKeyError\u001b[0m: 'asd'"
     ]
    }
   ],
   "source": [
    "df_encoded_aims = pd.DataFrame()\n",
    "df_encoded_aims['latent'] = encoded_aims['ctrl'] + encoded_aims['asd']\n",
    "df_encoded_aims['Group'] = ['ctrl' for k in range(len(losses_aims['ctrl']))] + ['asd' for k in range(len(losses_aims['asd']))]\n",
    "\n",
    "subjects_name = list(filenames_ctrl) + list(filenames_asd)"
   ]
  },
  {
   "cell_type": "code",
   "execution_count": null,
   "id": "third-addiction",
   "metadata": {},
   "outputs": [],
   "source": []
  },
  {
   "cell_type": "code",
   "execution_count": null,
   "id": "static-solid",
   "metadata": {},
   "outputs": [],
   "source": []
  },
  {
   "cell_type": "code",
   "execution_count": 259,
   "id": "median-cinema",
   "metadata": {},
   "outputs": [
    {
     "data": {
      "text/plain": [
       "dict_keys(['138231', '510225', '159946', '140319', '212419', '199251', '111009'])"
      ]
     },
     "execution_count": 259,
     "metadata": {},
     "output_type": "execute_result"
    }
   ],
   "source": [
    "results['scint'].keys()"
   ]
  },
  {
   "cell_type": "code",
   "execution_count": 450,
   "id": "resident-feeding",
   "metadata": {},
   "outputs": [
    {
     "data": {
      "text/plain": [
       "[3152, 3376, 3060, 2545, 3610, 3016, 3605]"
      ]
     },
     "execution_count": 450,
     "metadata": {},
     "output_type": "execute_result"
    }
   ],
   "source": [
    "losses['scint']"
   ]
  },
  {
   "cell_type": "code",
   "execution_count": 216,
   "id": "conscious-atlas",
   "metadata": {},
   "outputs": [],
   "source": [
    "from scipy import stats"
   ]
  },
  {
   "cell_type": "code",
   "execution_count": 452,
   "id": "bigger-fairy",
   "metadata": {},
   "outputs": [
    {
     "name": "stdout",
     "output_type": "stream",
     "text": [
      "330.64370914928963\n",
      "347.9944287614093\n"
     ]
    }
   ],
   "source": [
    "print(np.std(losses['hcp']))\n",
    "print(np.std(losses['scint']))"
   ]
  },
  {
   "cell_type": "code",
   "execution_count": null,
   "id": "scenic-constant",
   "metadata": {},
   "outputs": [],
   "source": []
  },
  {
   "cell_type": "code",
   "execution_count": null,
   "id": "educated-meaning",
   "metadata": {},
   "outputs": [],
   "source": []
  },
  {
   "cell_type": "code",
   "execution_count": 187,
   "id": "together-community",
   "metadata": {},
   "outputs": [
    {
     "name": "stdout",
     "output_type": "stream",
     "text": [
      "(array([[ 0.        , 11.69054825, 12.00801633, 13.4761403 ]]), array([[200, 206, 210, 224]]))\n",
      "(array([[ 0.        , 13.45366735, 13.96529384, 14.17247194]]), array([[201, 215, 208, 214]]))\n",
      "(array([[ 0.        , 14.1431712 , 14.67249479, 14.83832237]]), array([[202, 218, 228, 247]]))\n",
      "(array([[ 0.        , 13.09613229, 13.41196201, 13.99237086]]), array([[203, 221, 215, 217]]))\n",
      "(array([[ 0.        , 14.99152268, 15.96027309, 16.04859976]]), array([[204,  28, 127, 215]]))\n",
      "(array([[ 0.        , 13.33081389, 13.67092942, 13.76308412]]), array([[205, 210, 208, 226]]))\n",
      "(array([[ 0.        , 11.69054825, 13.38221995, 13.43525141]]), array([[206, 200, 210, 224]]))\n"
     ]
    }
   ],
   "source": [
    "from sklearn.neighbors import NearestNeighbors\n",
    "neigh = NearestNeighbors(n_neighbors=4, algorithm='ball_tree').fit(X)\n",
    "for k in range(200, 207):\n",
    "    print(neigh.kneighbors(np.expand_dims(X[k], axis=0)))"
   ]
  },
  {
   "cell_type": "code",
   "execution_count": 188,
   "id": "aerial-transparency",
   "metadata": {},
   "outputs": [
    {
     "name": "stdout",
     "output_type": "stream",
     "text": [
      "(array([[ 0.        , 11.69054825, 12.00801633, 13.4761403 ]]), array([[200, 206, 210, 224]]))\n",
      "(array([[ 0.        , 13.45366735, 13.96529384, 14.17247194]]), array([[201, 215, 208, 214]]))\n",
      "(array([[ 0.        , 14.1431712 , 14.67249479, 14.83832237]]), array([[202, 218, 228, 247]]))\n",
      "(array([[ 0.        , 13.09613229, 13.41196201, 13.99237086]]), array([[203, 221, 215, 217]]))\n",
      "(array([[ 0.        , 14.99152268, 15.96027309, 16.04859976]]), array([[204,  28, 127, 215]]))\n",
      "(array([[ 0.        , 13.33081389, 13.67092942, 13.76308412]]), array([[205, 210, 208, 226]]))\n",
      "(array([[ 0.        , 11.69054825, 13.38221995, 13.43525141]]), array([[206, 200, 210, 224]]))\n"
     ]
    }
   ],
   "source": [
    "from sklearn.neighbors import NearestNeighbors\n",
    "neigh = NearestNeighbors(n_neighbors=4, algorithm='ball_tree').fit(X)\n",
    "for k in range(200, 207):\n",
    "    print(neigh.kneighbors(np.expand_dims(X[k], axis=0)))"
   ]
  },
  {
   "cell_type": "code",
   "execution_count": 390,
   "id": "later-certificate",
   "metadata": {},
   "outputs": [
    {
     "data": {
      "text/plain": [
       "168139"
      ]
     },
     "execution_count": 390,
     "metadata": {},
     "output_type": "execute_result"
    }
   ],
   "source": [
    "sub['hcp'][49]"
   ]
  },
  {
   "cell_type": "code",
   "execution_count": 280,
   "id": "moderate-atmosphere",
   "metadata": {},
   "outputs": [
    {
     "data": {
      "text/plain": [
       "array(['138231', '510225', '159946', '140319', '212419', '199251',\n",
       "       '111009'], dtype='<U6')"
      ]
     },
     "execution_count": 280,
     "metadata": {},
     "output_type": "execute_result"
    }
   ],
   "source": [
    "filenames_scint"
   ]
  },
  {
   "cell_type": "markdown",
   "id": "based-possibility",
   "metadata": {},
   "source": [
    "### Study of reconstruction error as anomaly score"
   ]
  },
  {
   "cell_type": "code",
   "execution_count": 394,
   "id": "first-lucas",
   "metadata": {},
   "outputs": [],
   "source": [
    "idx = np.where(np.array(losses['hcp'])>3000)"
   ]
  },
  {
   "cell_type": "code",
   "execution_count": 401,
   "id": "center-teach",
   "metadata": {},
   "outputs": [
    {
     "data": {
      "text/plain": [
       "array([887373, 704238, 679770, 124422, 872158, 942658, 168038, 802844,\n",
       "       116221, 100206, 172534, 329440, 180937, 965367, 351938, 185038,\n",
       "       145632, 199958, 121416, 731140, 135730, 104012, 117122, 176239,\n",
       "       123824, 275645, 189450, 167440, 891667, 139839, 120010, 510326,\n",
       "       456346, 573249, 175035, 211720])"
      ]
     },
     "execution_count": 401,
     "metadata": {},
     "output_type": "execute_result"
    }
   ],
   "source": [
    "sub['hcp'][idx]"
   ]
  },
  {
   "cell_type": "code",
   "execution_count": 464,
   "id": "searching-security",
   "metadata": {},
   "outputs": [],
   "source": [
    "enc = encoded['hcp'][10]"
   ]
  },
  {
   "cell_type": "code",
   "execution_count": 417,
   "id": "polar-hanging",
   "metadata": {},
   "outputs": [
    {
     "data": {
      "text/plain": [
       "(20,)"
      ]
     },
     "execution_count": 417,
     "metadata": {},
     "output_type": "execute_result"
    }
   ],
   "source": [
    "enc.shape"
   ]
  },
  {
   "cell_type": "code",
   "execution_count": 465,
   "id": "worldwide-emphasis",
   "metadata": {
    "scrolled": true
   },
   "outputs": [],
   "source": [
    "arr_out = []\n",
    "values = []\n",
    "\n",
    "z = torch.from_numpy(np.array(enc)).to(device, dtype=torch.float32)\n",
    "z = torch.unsqueeze(z, dim=0)\n",
    "out = model.decode(z)\n",
    "out = np.array(np.squeeze(out).cpu().detach().numpy())\n",
    "\n",
    "# arr_out = np.array(arr_out)\n",
    "# np.save(f\"/volatile/arr_out.npy\", arr_out)\n",
    "# np.save('/volatile/arr_label.npy', np.array(values))"
   ]
  },
  {
   "cell_type": "code",
   "execution_count": 466,
   "id": "returning-proposition",
   "metadata": {},
   "outputs": [],
   "source": [
    "out[out>0.5] = 1\n",
    "out[out<=0.5] = 0"
   ]
  },
  {
   "cell_type": "code",
   "execution_count": 467,
   "id": "alive-crisis",
   "metadata": {},
   "outputs": [],
   "source": [
    "aims.write(dtx.convert.bucket_numpy_to_bucketMap_aims(dtx.convert.volume_to_bucket_numpy(out), voxel_size=(1,1,1)), f\"/volatile/bucket_test.bck\")"
   ]
  }
 ],
 "metadata": {
  "kernelspec": {
   "display_name": "Python 3",
   "language": "python",
   "name": "python3"
  },
  "language_info": {
   "codemirror_mode": {
    "name": "ipython",
    "version": 3
   },
   "file_extension": ".py",
   "mimetype": "text/x-python",
   "name": "python",
   "nbconvert_exporter": "python",
   "pygments_lexer": "ipython3",
   "version": "3.6.9"
  }
 },
 "nbformat": 4,
 "nbformat_minor": 5
}
