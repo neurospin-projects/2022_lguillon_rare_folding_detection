{
 "cells": [
  {
   "cell_type": "markdown",
   "id": "stock-inspiration",
   "metadata": {},
   "source": [
    "# Analysis of model performances on pre/post ambiguity gridsearch"
   ]
  },
  {
   "cell_type": "code",
   "execution_count": 468,
   "id": "metallic-conservative",
   "metadata": {},
   "outputs": [],
   "source": [
    "import os\n",
    "import sys\n",
    "import json\n",
    "import re\n",
    "import pandas as pd\n",
    "from tqdm import tqdm\n",
    "from soma import aims\n",
    "\n",
    "p = os.path.abspath('../')\n",
    "if p not in sys.path:\n",
    "    sys.path.append(p)\n",
    "    \n",
    "q = os.path.abspath('../../')\n",
    "if q not in sys.path:\n",
    "    sys.path.append(q)\n",
    "    \n",
    "from vae import *\n",
    "from preprocess import SkeletonDataset\n",
    "import matplotlib.pyplot as plt\n",
    "import dico_toolbox as dtx\n",
    "import umap"
   ]
  },
  {
   "cell_type": "code",
   "execution_count": 6,
   "id": "infectious-shopping",
   "metadata": {},
   "outputs": [],
   "source": [
    "grid_dict = {}\n",
    "grid_dir = '/neurospin/dico/lguillon/distmap/gridsearch/'\n",
    "for folder in os.listdir(grid_dir):\n",
    "    if 'n_' in folder:\n",
    "        if os.path.isfile(os.path.join(grid_dir, folder, 'results_test.json')):\n",
    "            n = re.search('n_([\\d]{1,3})', folder).group(1)\n",
    "            kl = re.search('kl_([\\d]{1,2})', folder).group(1)\n",
    "            with open(os.path.join(grid_dir, folder, 'results_test.json'), 'r') as f:\n",
    "                grid_dict[(int(n), int(kl))] = json.load(f)"
   ]
  },
  {
   "cell_type": "code",
   "execution_count": 12,
   "id": "certain-navigation",
   "metadata": {},
   "outputs": [],
   "source": [
    "n_list = [list(grid_dict.keys())[k][0] for k in range(len(grid_dict))]\n",
    "kl_list = [list(grid_dict.keys())[k][1] for k in range(len(grid_dict))]\n",
    "loss = [[grid_dict[(n_list[k], kl_list[k])] for k in range(len(n_list))][i]['final_loss_val'][0] for i in range(len(grid_dict))]\n",
    "gb = [[grid_dict[(n_list[k], kl_list[k])] for k in range(len(n_list))][i]['gb_pre'] for i in range(len(grid_dict))]\n",
    "logreg = [[grid_dict[(n_list[k], kl_list[k])] for k in range(len(n_list))][i]['logreg_pre'] for i in range(len(grid_dict))]\n",
    "svm = [[grid_dict[(n_list[k], kl_list[k])] for k in range(len(n_list))][i]['svm_pre'] for i in range(len(grid_dict))]"
   ]
  },
  {
   "cell_type": "code",
   "execution_count": 16,
   "id": "expected-background",
   "metadata": {},
   "outputs": [],
   "source": [
    "grid_df = pd.DataFrame(list(zip(n_list, kl_list, loss, gb, logreg, svm)), columns=['n', 'kl', 'loss', 'gb','logreg', 'svm'])"
   ]
  },
  {
   "cell_type": "code",
   "execution_count": 21,
   "id": "mineral-dodge",
   "metadata": {},
   "outputs": [],
   "source": [
    "grid_df['mean_classif'] = list((grid_df.gb + grid_df.logreg + grid_df.svm)/3)"
   ]
  },
  {
   "cell_type": "code",
   "execution_count": 29,
   "id": "split-crazy",
   "metadata": {
    "scrolled": true
   },
   "outputs": [
    {
     "data": {
      "text/html": [
       "<div>\n",
       "<style scoped>\n",
       "    .dataframe tbody tr th:only-of-type {\n",
       "        vertical-align: middle;\n",
       "    }\n",
       "\n",
       "    .dataframe tbody tr th {\n",
       "        vertical-align: top;\n",
       "    }\n",
       "\n",
       "    .dataframe thead th {\n",
       "        text-align: right;\n",
       "    }\n",
       "</style>\n",
       "<table border=\"1\" class=\"dataframe\">\n",
       "  <thead>\n",
       "    <tr style=\"text-align: right;\">\n",
       "      <th></th>\n",
       "      <th>n</th>\n",
       "      <th>kl</th>\n",
       "      <th>loss</th>\n",
       "      <th>gb</th>\n",
       "      <th>logreg</th>\n",
       "      <th>svm</th>\n",
       "      <th>mean_classif</th>\n",
       "    </tr>\n",
       "  </thead>\n",
       "  <tbody>\n",
       "    <tr>\n",
       "      <th>4</th>\n",
       "      <td>75</td>\n",
       "      <td>4</td>\n",
       "      <td>33194.365420</td>\n",
       "      <td>1.000000</td>\n",
       "      <td>1.000000</td>\n",
       "      <td>1.000000</td>\n",
       "      <td>1.000000</td>\n",
       "    </tr>\n",
       "    <tr>\n",
       "      <th>12</th>\n",
       "      <td>150</td>\n",
       "      <td>4</td>\n",
       "      <td>17768.776786</td>\n",
       "      <td>0.969622</td>\n",
       "      <td>1.000000</td>\n",
       "      <td>0.979433</td>\n",
       "      <td>0.983018</td>\n",
       "    </tr>\n",
       "    <tr>\n",
       "      <th>8</th>\n",
       "      <td>100</td>\n",
       "      <td>8</td>\n",
       "      <td>21273.862805</td>\n",
       "      <td>0.989899</td>\n",
       "      <td>1.000000</td>\n",
       "      <td>0.948548</td>\n",
       "      <td>0.979482</td>\n",
       "    </tr>\n",
       "    <tr>\n",
       "      <th>27</th>\n",
       "      <td>100</td>\n",
       "      <td>10</td>\n",
       "      <td>22304.247617</td>\n",
       "      <td>0.979760</td>\n",
       "      <td>0.979001</td>\n",
       "      <td>0.979001</td>\n",
       "      <td>0.979254</td>\n",
       "    </tr>\n",
       "    <tr>\n",
       "      <th>9</th>\n",
       "      <td>150</td>\n",
       "      <td>10</td>\n",
       "      <td>23698.438500</td>\n",
       "      <td>0.917756</td>\n",
       "      <td>1.000000</td>\n",
       "      <td>1.000000</td>\n",
       "      <td>0.972585</td>\n",
       "    </tr>\n",
       "    <tr>\n",
       "      <th>22</th>\n",
       "      <td>100</td>\n",
       "      <td>2</td>\n",
       "      <td>15588.968610</td>\n",
       "      <td>0.917714</td>\n",
       "      <td>1.000000</td>\n",
       "      <td>1.000000</td>\n",
       "      <td>0.972571</td>\n",
       "    </tr>\n",
       "    <tr>\n",
       "      <th>17</th>\n",
       "      <td>100</td>\n",
       "      <td>4</td>\n",
       "      <td>17481.002720</td>\n",
       "      <td>0.908555</td>\n",
       "      <td>1.000000</td>\n",
       "      <td>0.989553</td>\n",
       "      <td>0.966036</td>\n",
       "    </tr>\n",
       "    <tr>\n",
       "      <th>11</th>\n",
       "      <td>50</td>\n",
       "      <td>4</td>\n",
       "      <td>18869.697707</td>\n",
       "      <td>0.908100</td>\n",
       "      <td>0.989880</td>\n",
       "      <td>0.989880</td>\n",
       "      <td>0.962620</td>\n",
       "    </tr>\n",
       "    <tr>\n",
       "      <th>15</th>\n",
       "      <td>75</td>\n",
       "      <td>8</td>\n",
       "      <td>20855.845610</td>\n",
       "      <td>0.887250</td>\n",
       "      <td>1.000000</td>\n",
       "      <td>1.000000</td>\n",
       "      <td>0.962417</td>\n",
       "    </tr>\n",
       "    <tr>\n",
       "      <th>26</th>\n",
       "      <td>50</td>\n",
       "      <td>8</td>\n",
       "      <td>20850.755557</td>\n",
       "      <td>0.897203</td>\n",
       "      <td>1.000000</td>\n",
       "      <td>0.969313</td>\n",
       "      <td>0.955505</td>\n",
       "    </tr>\n",
       "    <tr>\n",
       "      <th>24</th>\n",
       "      <td>20</td>\n",
       "      <td>4</td>\n",
       "      <td>20517.095726</td>\n",
       "      <td>0.907713</td>\n",
       "      <td>0.979798</td>\n",
       "      <td>0.969358</td>\n",
       "      <td>0.952290</td>\n",
       "    </tr>\n",
       "    <tr>\n",
       "      <th>0</th>\n",
       "      <td>50</td>\n",
       "      <td>10</td>\n",
       "      <td>22592.034005</td>\n",
       "      <td>0.867906</td>\n",
       "      <td>0.989880</td>\n",
       "      <td>0.989880</td>\n",
       "      <td>0.949222</td>\n",
       "    </tr>\n",
       "    <tr>\n",
       "      <th>25</th>\n",
       "      <td>40</td>\n",
       "      <td>8</td>\n",
       "      <td>21277.279797</td>\n",
       "      <td>0.906927</td>\n",
       "      <td>0.979608</td>\n",
       "      <td>0.958609</td>\n",
       "      <td>0.948381</td>\n",
       "    </tr>\n",
       "    <tr>\n",
       "      <th>1</th>\n",
       "      <td>40</td>\n",
       "      <td>4</td>\n",
       "      <td>19490.211891</td>\n",
       "      <td>0.898156</td>\n",
       "      <td>0.969488</td>\n",
       "      <td>0.959294</td>\n",
       "      <td>0.942313</td>\n",
       "    </tr>\n",
       "    <tr>\n",
       "      <th>6</th>\n",
       "      <td>40</td>\n",
       "      <td>2</td>\n",
       "      <td>17849.667562</td>\n",
       "      <td>0.805834</td>\n",
       "      <td>1.000000</td>\n",
       "      <td>0.989553</td>\n",
       "      <td>0.931795</td>\n",
       "    </tr>\n",
       "    <tr>\n",
       "      <th>13</th>\n",
       "      <td>50</td>\n",
       "      <td>2</td>\n",
       "      <td>17515.034656</td>\n",
       "      <td>0.815407</td>\n",
       "      <td>0.979001</td>\n",
       "      <td>0.989553</td>\n",
       "      <td>0.927987</td>\n",
       "    </tr>\n",
       "    <tr>\n",
       "      <th>14</th>\n",
       "      <td>75</td>\n",
       "      <td>10</td>\n",
       "      <td>22258.223935</td>\n",
       "      <td>0.834342</td>\n",
       "      <td>0.979414</td>\n",
       "      <td>0.959406</td>\n",
       "      <td>0.924387</td>\n",
       "    </tr>\n",
       "    <tr>\n",
       "      <th>3</th>\n",
       "      <td>20</td>\n",
       "      <td>2</td>\n",
       "      <td>19873.137649</td>\n",
       "      <td>0.855034</td>\n",
       "      <td>0.969161</td>\n",
       "      <td>0.948266</td>\n",
       "      <td>0.924153</td>\n",
       "    </tr>\n",
       "    <tr>\n",
       "      <th>16</th>\n",
       "      <td>150</td>\n",
       "      <td>8</td>\n",
       "      <td>21382.882429</td>\n",
       "      <td>0.825800</td>\n",
       "      <td>0.968281</td>\n",
       "      <td>0.968281</td>\n",
       "      <td>0.920787</td>\n",
       "    </tr>\n",
       "    <tr>\n",
       "      <th>10</th>\n",
       "      <td>20</td>\n",
       "      <td>10</td>\n",
       "      <td>23493.690220</td>\n",
       "      <td>0.837345</td>\n",
       "      <td>0.949111</td>\n",
       "      <td>0.959268</td>\n",
       "      <td>0.915241</td>\n",
       "    </tr>\n",
       "    <tr>\n",
       "      <th>19</th>\n",
       "      <td>75</td>\n",
       "      <td>2</td>\n",
       "      <td>16249.289969</td>\n",
       "      <td>0.793616</td>\n",
       "      <td>0.968882</td>\n",
       "      <td>0.958799</td>\n",
       "      <td>0.907099</td>\n",
       "    </tr>\n",
       "    <tr>\n",
       "      <th>21</th>\n",
       "      <td>20</td>\n",
       "      <td>8</td>\n",
       "      <td>22344.527251</td>\n",
       "      <td>0.770953</td>\n",
       "      <td>0.947883</td>\n",
       "      <td>0.917467</td>\n",
       "      <td>0.878768</td>\n",
       "    </tr>\n",
       "    <tr>\n",
       "      <th>23</th>\n",
       "      <td>4</td>\n",
       "      <td>2</td>\n",
       "      <td>24265.554978</td>\n",
       "      <td>0.783317</td>\n",
       "      <td>0.834531</td>\n",
       "      <td>0.801896</td>\n",
       "      <td>0.806582</td>\n",
       "    </tr>\n",
       "    <tr>\n",
       "      <th>18</th>\n",
       "      <td>4</td>\n",
       "      <td>4</td>\n",
       "      <td>24672.062849</td>\n",
       "      <td>0.757909</td>\n",
       "      <td>0.773949</td>\n",
       "      <td>0.795212</td>\n",
       "      <td>0.775690</td>\n",
       "    </tr>\n",
       "    <tr>\n",
       "      <th>2</th>\n",
       "      <td>4</td>\n",
       "      <td>10</td>\n",
       "      <td>25386.384777</td>\n",
       "      <td>0.687033</td>\n",
       "      <td>0.813962</td>\n",
       "      <td>0.800348</td>\n",
       "      <td>0.767115</td>\n",
       "    </tr>\n",
       "    <tr>\n",
       "      <th>20</th>\n",
       "      <td>4</td>\n",
       "      <td>8</td>\n",
       "      <td>26012.121094</td>\n",
       "      <td>0.819738</td>\n",
       "      <td>0.751289</td>\n",
       "      <td>0.723624</td>\n",
       "      <td>0.764884</td>\n",
       "    </tr>\n",
       "    <tr>\n",
       "      <th>7</th>\n",
       "      <td>150</td>\n",
       "      <td>2</td>\n",
       "      <td>29369.314895</td>\n",
       "      <td>0.979761</td>\n",
       "      <td>0.367984</td>\n",
       "      <td>0.367984</td>\n",
       "      <td>0.571910</td>\n",
       "    </tr>\n",
       "    <tr>\n",
       "      <th>5</th>\n",
       "      <td>40</td>\n",
       "      <td>10</td>\n",
       "      <td>29521.453346</td>\n",
       "      <td>0.927524</td>\n",
       "      <td>0.367984</td>\n",
       "      <td>0.367984</td>\n",
       "      <td>0.554497</td>\n",
       "    </tr>\n",
       "  </tbody>\n",
       "</table>\n",
       "</div>"
      ],
      "text/plain": [
       "      n  kl          loss        gb    logreg       svm  mean_classif\n",
       "4    75   4  33194.365420  1.000000  1.000000  1.000000      1.000000\n",
       "12  150   4  17768.776786  0.969622  1.000000  0.979433      0.983018\n",
       "8   100   8  21273.862805  0.989899  1.000000  0.948548      0.979482\n",
       "27  100  10  22304.247617  0.979760  0.979001  0.979001      0.979254\n",
       "9   150  10  23698.438500  0.917756  1.000000  1.000000      0.972585\n",
       "22  100   2  15588.968610  0.917714  1.000000  1.000000      0.972571\n",
       "17  100   4  17481.002720  0.908555  1.000000  0.989553      0.966036\n",
       "11   50   4  18869.697707  0.908100  0.989880  0.989880      0.962620\n",
       "15   75   8  20855.845610  0.887250  1.000000  1.000000      0.962417\n",
       "26   50   8  20850.755557  0.897203  1.000000  0.969313      0.955505\n",
       "24   20   4  20517.095726  0.907713  0.979798  0.969358      0.952290\n",
       "0    50  10  22592.034005  0.867906  0.989880  0.989880      0.949222\n",
       "25   40   8  21277.279797  0.906927  0.979608  0.958609      0.948381\n",
       "1    40   4  19490.211891  0.898156  0.969488  0.959294      0.942313\n",
       "6    40   2  17849.667562  0.805834  1.000000  0.989553      0.931795\n",
       "13   50   2  17515.034656  0.815407  0.979001  0.989553      0.927987\n",
       "14   75  10  22258.223935  0.834342  0.979414  0.959406      0.924387\n",
       "3    20   2  19873.137649  0.855034  0.969161  0.948266      0.924153\n",
       "16  150   8  21382.882429  0.825800  0.968281  0.968281      0.920787\n",
       "10   20  10  23493.690220  0.837345  0.949111  0.959268      0.915241\n",
       "19   75   2  16249.289969  0.793616  0.968882  0.958799      0.907099\n",
       "21   20   8  22344.527251  0.770953  0.947883  0.917467      0.878768\n",
       "23    4   2  24265.554978  0.783317  0.834531  0.801896      0.806582\n",
       "18    4   4  24672.062849  0.757909  0.773949  0.795212      0.775690\n",
       "2     4  10  25386.384777  0.687033  0.813962  0.800348      0.767115\n",
       "20    4   8  26012.121094  0.819738  0.751289  0.723624      0.764884\n",
       "7   150   2  29369.314895  0.979761  0.367984  0.367984      0.571910\n",
       "5    40  10  29521.453346  0.927524  0.367984  0.367984      0.554497"
      ]
     },
     "execution_count": 29,
     "metadata": {},
     "output_type": "execute_result"
    }
   ],
   "source": [
    "grid_df.sort_values(by=['mean_classif', 'loss'], ascending=[False, True])"
   ]
  },
  {
   "cell_type": "markdown",
   "id": "challenging-sherman",
   "metadata": {},
   "source": [
    "#### Model choice\n",
    "..."
   ]
  },
  {
   "cell_type": "code",
   "execution_count": 37,
   "id": "bibliographic-amplifier",
   "metadata": {},
   "outputs": [],
   "source": [
    "if torch.cuda.is_available():\n",
    "    device = \"cuda:0\""
   ]
  },
  {
   "cell_type": "code",
   "execution_count": 442,
   "id": "dedicated-berry",
   "metadata": {},
   "outputs": [],
   "source": [
    "model_dir = '/neurospin/dico/lguillon/distmap/gridsearch/n_20_kl_4/checkpoint.pt'\n",
    "model_dir = '/neurospin/dico/lguillon/distmap/checkpoint.pt'\n",
    "model = VAE((1, 80, 80, 96), 20, depth=3)\n",
    "model.load_state_dict(torch.load(model_dir))\n",
    "model = model.to(device)"
   ]
  },
  {
   "cell_type": "markdown",
   "id": "toxic-disability",
   "metadata": {},
   "source": [
    "### Data"
   ]
  },
  {
   "cell_type": "code",
   "execution_count": 39,
   "id": "experimental-cartridge",
   "metadata": {},
   "outputs": [],
   "source": [
    "subject_dir = \"/neurospin/dico/lguillon/distmap/data/\"\n",
    "data_dir = \"/neurospin/dico/lguillon/distmap/data/\"\n",
    "\n",
    "test_list = pd.read_csv(os.path.join(subject_dir, \"test_list.csv\"))"
   ]
  },
  {
   "cell_type": "code",
   "execution_count": 102,
   "id": "effective-customs",
   "metadata": {},
   "outputs": [
    {
     "name": "stderr",
     "output_type": "stream",
     "text": [
      "100%|██████████| 200/200 [00:24<00:00,  8.16it/s]\n"
     ]
    },
    {
     "name": "stdout",
     "output_type": "stream",
     "text": [
      "test set saved !\n"
     ]
    }
   ],
   "source": [
    "data_dir = \"/neurospin/dico/data/deep_folding/current/datasets/hcp/crops/1mm/SC/no_mask/Rdistmaps\"\n",
    "tgt_dir = '/neurospin/dico/lguillon/distmap/data'\n",
    "\n",
    "list_sample_id = []\n",
    "list_sample_file = []\n",
    "\n",
    "for sub in tqdm(test_list.subjects):\n",
    "    distmap = os.path.join(data_dir, f\"{sub}_cropped_distmap.nii.gz\")\n",
    "    vol = aims.read(distmap)\n",
    "    sample = np.asarray(vol)\n",
    "    list_sample_id.append(sub)\n",
    "    list_sample_file.append(sample)\n",
    "\n",
    "list_sample_id = np.array(list_sample_id)\n",
    "list_sample_file = np.array(list_sample_file)\n",
    "np.save(os.path.join(tgt_dir, 'test_sub_id.npy'), list_sample_id)\n",
    "np.save(os.path.join(tgt_dir, 'test_distmap.npy'), list_sample_file)\n",
    "print(\"test set saved !\")"
   ]
  },
  {
   "cell_type": "code",
   "execution_count": 103,
   "id": "powered-occurrence",
   "metadata": {},
   "outputs": [
    {
     "data": {
      "text/plain": [
       "(200, 78, 63, 88, 1)"
      ]
     },
     "execution_count": 103,
     "metadata": {},
     "output_type": "execute_result"
    }
   ],
   "source": [
    "list_sample_file.shape"
   ]
  },
  {
   "cell_type": "code",
   "execution_count": 107,
   "id": "played-kentucky",
   "metadata": {},
   "outputs": [
    {
     "name": "stdout",
     "output_type": "stream",
     "text": [
      "(200, 78, 63, 88, 1) (200,)\n"
     ]
    }
   ],
   "source": [
    "data_dir = \"/neurospin/dico/lguillon/distmap/data/\"\n",
    "\n",
    "distmaps = np.load(os.path.join(data_dir, \"test_distmap.npy\"),\n",
    "                   mmap_mode='r')\n",
    "filenames = np.load(os.path.join(data_dir, \"test_sub_id.npy\"))\n",
    "\n",
    "print(distmaps.shape, filenames.shape)\n",
    "\n",
    "subset = SkeletonDataset(dataframe=distmaps,\n",
    "                         filenames=filenames,\n",
    "                         data_transforms=False)\n",
    "\n",
    "testloader = torch.utils.data.DataLoader(\n",
    "               subset,\n",
    "               batch_size=1,\n",
    "               num_workers=1,\n",
    "               shuffle=False) "
   ]
  },
  {
   "cell_type": "markdown",
   "id": "radio-perspective",
   "metadata": {},
   "source": [
    "##### SC int\n",
    "[111009, 138231, 510225, 199251, 159946, 140319, 212419] "
   ]
  },
  {
   "cell_type": "code",
   "execution_count": 86,
   "id": "raising-ordinance",
   "metadata": {},
   "outputs": [
    {
     "name": "stdout",
     "output_type": "stream",
     "text": [
      "(7, 78, 63, 88, 1) (7,)\n"
     ]
    }
   ],
   "source": [
    "scint_list = ['111009', '138231', '510225', '199251', '159946', '140319', '212419']\n",
    "scint_arr = np.array(['111009', '138231', '510225', '199251', '159946', '140319', '212419'])\n",
    "\n",
    "data_dir = \"/neurospin/dico/data/deep_folding/current/datasets/hcp/crops/1mm/SC/no_mask/Rdistmaps\"\n",
    "\n",
    "distmaps = np.load(os.path.join(data_dir, \"distmap_1mm.npy\"), mmap_mode='r')\n",
    "filenames = np.load(os.path.join(data_dir, \"sub_id.npy\"))\n",
    "\n",
    "ids = np.frompyfunc(lambda x: np.isin(x, scint_arr), 1, 1)(filenames)\n",
    "idxs = [i for i, curr in enumerate(ids) if curr.any()]\n",
    "\n",
    "filenames_scint = filenames[idxs]\n",
    "distmaps_scint = distmaps[idxs]\n",
    "\n",
    "print(distmaps_scint.shape, filenames_scint.shape)\n",
    "\n",
    "subset_scint = SkeletonDataset(dataframe=distmaps_scint,\n",
    "                         filenames=filenames_scint,\n",
    "                         data_transforms=False)\n",
    "\n",
    "scint_loader = torch.utils.data.DataLoader(\n",
    "               subset_scint,\n",
    "               batch_size=1,\n",
    "               num_workers=1,\n",
    "               shuffle=False) "
   ]
  },
  {
   "cell_type": "code",
   "execution_count": 443,
   "id": "facial-catch",
   "metadata": {},
   "outputs": [],
   "source": [
    "dico_set_loaders = {'hcp': testloader, 'scint': scint_loader}\n",
    "\n",
    "root_dir = '/neurospin/dico/lguillon/distmap/analyses_gridsearch/'\n",
    "\n",
    "criterion = nn.MSELoss(reduction='sum')\n",
    "tester = ModelTester(model=model, dico_set_loaders=dico_set_loaders,\n",
    "                     loss_func=criterion, kl_weight=4,\n",
    "                     n_latent=20, depth=3)"
   ]
  },
  {
   "cell_type": "code",
   "execution_count": 444,
   "id": "private-technology",
   "metadata": {
    "scrolled": false
   },
   "outputs": [
    {
     "name": "stdout",
     "output_type": "stream",
     "text": [
      "hcp\n",
      "scint\n"
     ]
    }
   ],
   "source": [
    "results = tester.test()\n",
    "encoded = {loader_name:[results[loader_name][k][1] for k in results[loader_name].keys()] for loader_name in dico_set_loaders.keys()}\n",
    "losses = {loader_name:[int(results[loader_name][k][0].cpu().detach().numpy()) for k in results[loader_name].keys()] for loader_name in dico_set_loaders.keys()}\n",
    "\n",
    "df_encoded = pd.DataFrame()\n",
    "df_encoded['latent'] = encoded['hcp'] + encoded['scint'] \n",
    "df_encoded['Group'] = ['hcp' for k in range(len(filenames))] + ['scint' for k in range(len(filenames_scint))]\n"
   ]
  },
  {
   "cell_type": "code",
   "execution_count": 445,
   "id": "institutional-reader",
   "metadata": {},
   "outputs": [],
   "source": [
    "X = np.array(list(df_encoded['latent']))\n",
    "labels = np.array(df_encoded['Group'])\n",
    "\n",
    "from sklearn.manifold import TSNE\n",
    "X_embedded = TSNE(n_components=2, random_state=12, perplexity=20).fit_transform(X)"
   ]
  },
  {
   "cell_type": "code",
   "execution_count": 252,
   "id": "native-defeat",
   "metadata": {},
   "outputs": [],
   "source": [
    "subjects_name = [str(k) for k in filenames] + scint_list "
   ]
  },
  {
   "cell_type": "code",
   "execution_count": 446,
   "id": "classical-chocolate",
   "metadata": {},
   "outputs": [
    {
     "data": {
      "image/png": "[encoded data removed]",
      "text/plain": [
       "<Figure size 864x864 with 1 Axes>"
      ]
     },
     "metadata": {
      "needs_background": "light"
     },
     "output_type": "display_data"
    }
   ],
   "source": [
    "arr = X_embedded\n",
    "color_dict = {'hcp':'mediumseagreen', 'scint': 'red'}\n",
    "\n",
    "fig = plt.figure(figsize=(12,12))\n",
    "ax = fig.subplots()\n",
    "\n",
    "for g in np.unique(labels):\n",
    "    ix = np.where(labels == g)\n",
    "    x = [arr[ix][k][0] for k in range(len(ix[0]))]\n",
    "    y = [arr[ix][k][1] for k in range(len(ix[0]))]\n",
    "    g_lab= f\"{g}\"\n",
    "    ax.scatter(x, y, c = color_dict[g], label = g_lab)\n",
    "    \n",
    "for i, txt in enumerate(subjects_name):\n",
    "    ax.annotate(txt, (arr[i][0], arr[i][1]))\n",
    "    \n",
    "plt.legend(bbox_to_anchor=(1.04,1), borderaxespad=0)\n",
    "\n",
    "plt.xlabel(f'tSNE dimension 1', fontsize=14)\n",
    "plt.ylabel(f'tSNE dimension 2', fontsize=14)\n",
    "plt.show()"
   ]
  },
  {
   "cell_type": "code",
   "execution_count": 236,
   "id": "automotive-marks",
   "metadata": {},
   "outputs": [],
   "source": [
    "sub = {loader_name:np.array([int(k) for k in results[loader_name].keys()]) for loader_name in dico_set_loaders.keys()}\n"
   ]
  },
  {
   "cell_type": "code",
   "execution_count": 447,
   "id": "patent-experiment",
   "metadata": {},
   "outputs": [
    {
     "data": {
      "text/plain": [
       "(array([21]),)"
      ]
     },
     "execution_count": 447,
     "metadata": {},
     "output_type": "execute_result"
    }
   ],
   "source": [
    "np.where(sub['hcp']==872158)"
   ]
  },
  {
   "cell_type": "code",
   "execution_count": 448,
   "id": "simplified-casting",
   "metadata": {},
   "outputs": [
    {
     "data": {
      "text/plain": [
       "(array([  2,   3,  19,  21,  27,  28,  31,  41,  43,  48,  65,  71,  72,\n",
       "         77,  83,  91,  92,  96,  98, 100, 118, 119, 122, 125, 126, 129,\n",
       "        149, 155, 158, 166, 168, 179, 194, 195, 199]),)"
      ]
     },
     "execution_count": 448,
     "metadata": {},
     "output_type": "execute_result"
    }
   ],
   "source": [
    "np.where(np.array(losses['hcp'])>3000)"
   ]
  },
  {
   "cell_type": "code",
   "execution_count": 449,
   "id": "fitting-doubt",
   "metadata": {},
   "outputs": [
    {
     "data": {
      "text/plain": [
       "329440"
      ]
     },
     "execution_count": 449,
     "metadata": {},
     "output_type": "execute_result"
    }
   ],
   "source": [
    "sub['hcp'][71]"
   ]
  },
  {
   "cell_type": "code",
   "execution_count": 259,
   "id": "outstanding-compression",
   "metadata": {},
   "outputs": [
    {
     "data": {
      "text/plain": [
       "dict_keys(['138231', '510225', '159946', '140319', '212419', '199251', '111009'])"
      ]
     },
     "execution_count": 259,
     "metadata": {},
     "output_type": "execute_result"
    }
   ],
   "source": [
    "results['scint'].keys()"
   ]
  },
  {
   "cell_type": "code",
   "execution_count": 450,
   "id": "extra-dryer",
   "metadata": {},
   "outputs": [
    {
     "data": {
      "text/plain": [
       "[3152, 3376, 3060, 2545, 3610, 3016, 3605]"
      ]
     },
     "execution_count": 450,
     "metadata": {},
     "output_type": "execute_result"
    }
   ],
   "source": [
    "losses['scint']"
   ]
  },
  {
   "cell_type": "code",
   "execution_count": 451,
   "id": "fundamental-safety",
   "metadata": {},
   "outputs": [
    {
     "data": {
      "text/plain": [
       "(array([1., 0., 0., 0., 2., 1., 0., 1., 0., 2.]),\n",
       " array([2545. , 2651.5, 2758. , 2864.5, 2971. , 3077.5, 3184. , 3290.5,\n",
       "        3397. , 3503.5, 3610. ]),\n",
       " <BarContainer object of 10 artists>)"
      ]
     },
     "execution_count": 451,
     "metadata": {},
     "output_type": "execute_result"
    },
    {
     "data": {
      "image/png": "[encoded data removed]",
      "text/plain": [
       "<Figure size 432x288 with 1 Axes>"
      ]
     },
     "metadata": {
      "needs_background": "light"
     },
     "output_type": "display_data"
    }
   ],
   "source": [
    "plt.subplot()\n",
    "plt.hist(losses['hcp'])\n",
    "plt.hist(losses['scint'], color='r')"
   ]
  },
  {
   "cell_type": "code",
   "execution_count": 216,
   "id": "nuclear-manor",
   "metadata": {},
   "outputs": [],
   "source": [
    "from scipy import stats"
   ]
  },
  {
   "cell_type": "code",
   "execution_count": 452,
   "id": "unusual-stroke",
   "metadata": {},
   "outputs": [
    {
     "name": "stdout",
     "output_type": "stream",
     "text": [
      "330.64370914928963\n",
      "347.9944287614093\n"
     ]
    }
   ],
   "source": [
    "print(np.std(losses['hcp']))\n",
    "print(np.std(losses['scint']))"
   ]
  },
  {
   "cell_type": "code",
   "execution_count": 453,
   "id": "infectious-aside",
   "metadata": {},
   "outputs": [],
   "source": [
    "from scipy.stats import mannwhitneyu"
   ]
  },
  {
   "cell_type": "code",
   "execution_count": 454,
   "id": "auburn-airport",
   "metadata": {},
   "outputs": [
    {
     "name": "stdout",
     "output_type": "stream",
     "text": [
      "0.0010872919720368247\n"
     ]
    }
   ],
   "source": [
    "F,p = mannwhitneyu(losses['hcp'], losses['scint'])\n",
    "print(p)"
   ]
  },
  {
   "cell_type": "code",
   "execution_count": 354,
   "id": "blank-kenya",
   "metadata": {},
   "outputs": [
    {
     "name": "stdout",
     "output_type": "stream",
     "text": [
      "(array([[0.        , 8.2017856 , 8.78346588, 8.86557332]]), array([[200,  21, 148, 142]]))\n",
      "(array([[0.        , 7.12290098, 7.48523356, 7.84563524]]), array([[201,  28, 136,  77]]))\n",
      "(array([[0.        , 6.64112742, 7.47256523, 7.69703071]]), array([[202, 146, 118, 106]]))\n",
      "(array([[0.        , 8.12191881, 8.29307813, 8.35286344]]), array([[203, 136, 103,  54]]))\n",
      "(array([[0.        , 8.086333  , 8.2446649 , 8.27056778]]), array([[204, 151, 125, 165]]))\n",
      "(array([[0.        , 8.23194352, 8.35033652, 8.4423202 ]]), array([[205, 130,  34, 188]]))\n",
      "(array([[0.        , 8.19521908, 8.49863777, 8.52180497]]), array([[206,  68,  29, 158]]))\n"
     ]
    }
   ],
   "source": [
    "from sklearn.neighbors import NearestNeighbors\n",
    "neigh = NearestNeighbors(n_neighbors=4, algorithm='ball_tree').fit(X)\n",
    "for k in range(200, 207):\n",
    "    print(neigh.kneighbors(np.expand_dims(X[k], axis=0)))"
   ]
  },
  {
   "cell_type": "code",
   "execution_count": 455,
   "id": "tribal-nebraska",
   "metadata": {},
   "outputs": [
    {
     "name": "stdout",
     "output_type": "stream",
     "text": [
      "(array([[0.        , 4.28042629, 4.5844767 , 4.60999317]]), array([[200,   6,  73,  21]]))\n",
      "(array([[0.        , 4.82277583, 4.91657172, 5.16597147]]), array([[201,  93,   3,  77]]))\n",
      "(array([[0.        , 3.77524826, 4.27959744, 4.37225076]]), array([[202, 146, 193,  16]]))\n",
      "(array([[0.        , 4.65150307, 5.06077542, 5.10671035]]), array([[203, 103, 152, 164]]))\n",
      "(array([[0.        , 4.86590372, 4.96956701, 5.25511175]]), array([[204, 179, 133,  20]]))\n",
      "(array([[0.        , 4.24243194, 4.58893964, 4.83078642]]), array([[205,  73,  54, 182]]))\n",
      "(array([[0.        , 4.81408641, 5.01018873, 5.27683332]]), array([[206, 133, 200,  49]]))\n"
     ]
    }
   ],
   "source": [
    "from sklearn.neighbors import NearestNeighbors\n",
    "neigh = NearestNeighbors(n_neighbors=4, algorithm='ball_tree').fit(X)\n",
    "for k in range(200, 207):\n",
    "    print(neigh.kneighbors(np.expand_dims(X[k], axis=0)))"
   ]
  },
  {
   "cell_type": "code",
   "execution_count": 390,
   "id": "horizontal-primary",
   "metadata": {},
   "outputs": [
    {
     "data": {
      "text/plain": [
       "168139"
      ]
     },
     "execution_count": 390,
     "metadata": {},
     "output_type": "execute_result"
    }
   ],
   "source": [
    "sub['hcp'][49]"
   ]
  },
  {
   "cell_type": "code",
   "execution_count": 280,
   "id": "corporate-chemistry",
   "metadata": {},
   "outputs": [
    {
     "data": {
      "text/plain": [
       "array(['138231', '510225', '159946', '140319', '212419', '199251',\n",
       "       '111009'], dtype='<U6')"
      ]
     },
     "execution_count": 280,
     "metadata": {},
     "output_type": "execute_result"
    }
   ],
   "source": [
    "filenames_scint"
   ]
  },
  {
   "cell_type": "markdown",
   "id": "solved-macintosh",
   "metadata": {},
   "source": [
    "### Study of reconstruction error as anomaly score"
   ]
  },
  {
   "cell_type": "code",
   "execution_count": 394,
   "id": "instant-delight",
   "metadata": {},
   "outputs": [],
   "source": [
    "idx = np.where(np.array(losses['hcp'])>3000)"
   ]
  },
  {
   "cell_type": "code",
   "execution_count": 401,
   "id": "molecular-visiting",
   "metadata": {},
   "outputs": [
    {
     "data": {
      "text/plain": [
       "array([887373, 704238, 679770, 124422, 872158, 942658, 168038, 802844,\n",
       "       116221, 100206, 172534, 329440, 180937, 965367, 351938, 185038,\n",
       "       145632, 199958, 121416, 731140, 135730, 104012, 117122, 176239,\n",
       "       123824, 275645, 189450, 167440, 891667, 139839, 120010, 510326,\n",
       "       456346, 573249, 175035, 211720])"
      ]
     },
     "execution_count": 401,
     "metadata": {},
     "output_type": "execute_result"
    }
   ],
   "source": [
    "sub['hcp'][idx]"
   ]
  },
  {
   "cell_type": "code",
   "execution_count": 464,
   "id": "collectible-meditation",
   "metadata": {},
   "outputs": [],
   "source": [
    "enc = encoded['hcp'][10]"
   ]
  },
  {
   "cell_type": "code",
   "execution_count": 417,
   "id": "agricultural-istanbul",
   "metadata": {},
   "outputs": [
    {
     "data": {
      "text/plain": [
       "(20,)"
      ]
     },
     "execution_count": 417,
     "metadata": {},
     "output_type": "execute_result"
    }
   ],
   "source": [
    "enc.shape"
   ]
  },
  {
   "cell_type": "code",
   "execution_count": 465,
   "id": "legendary-impossible",
   "metadata": {
    "scrolled": true
   },
   "outputs": [],
   "source": [
    "arr_out = []\n",
    "values = []\n",
    "\n",
    "z = torch.from_numpy(np.array(enc)).to(device, dtype=torch.float32)\n",
    "z = torch.unsqueeze(z, dim=0)\n",
    "out = model.decode(z)\n",
    "out = np.array(np.squeeze(out).cpu().detach().numpy())\n",
    "\n",
    "# arr_out = np.array(arr_out)\n",
    "# np.save(f\"/volatile/arr_out.npy\", arr_out)\n",
    "# np.save('/volatile/arr_label.npy', np.array(values))"
   ]
  },
  {
   "cell_type": "code",
   "execution_count": 466,
   "id": "vocational-stanley",
   "metadata": {},
   "outputs": [],
   "source": [
    "out[out>0.5] = 1\n",
    "out[out<=0.5] = 0"
   ]
  },
  {
   "cell_type": "code",
   "execution_count": 467,
   "id": "derived-breast",
   "metadata": {},
   "outputs": [],
   "source": [
    "aims.write(dtx.convert.bucket_numpy_to_bucketMap_aims(dtx.convert.volume_to_bucket_numpy(out), voxel_size=(1,1,1)), f\"/volatile/bucket_test.bck\")"
   ]
  }
 ],
 "metadata": {
  "kernelspec": {
   "display_name": "Python 3",
   "language": "python",
   "name": "python3"
  },
  "language_info": {
   "codemirror_mode": {
    "name": "ipython",
    "version": 3
   },
   "file_extension": ".py",
   "mimetype": "text/x-python",
   "name": "python",
   "nbconvert_exporter": "python",
   "pygments_lexer": "ipython3",
   "version": "3.6.9"
  }
 },
 "nbformat": 4,
 "nbformat_minor": 5
}
