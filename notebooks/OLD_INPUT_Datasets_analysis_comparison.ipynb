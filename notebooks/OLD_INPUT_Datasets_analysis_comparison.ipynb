{
 "cells": [
  {
   "cell_type": "markdown",
   "id": "large-edwards",
   "metadata": {},
   "source": [
    "# Datasets analysis and comparison"
   ]
  },
  {
   "cell_type": "markdown",
   "id": "creative-tribute",
   "metadata": {},
   "source": [
    "The aim of this notebook is to describe the two datasets subjects of our work and to compare them in order to check whether there exists differences between them in the input space."
   ]
  },
  {
   "cell_type": "code",
   "execution_count": 45,
   "id": "coral-terrorism",
   "metadata": {},
   "outputs": [],
   "source": [
    "import pandas as pd\n",
    "import numpy as np\n",
    "\n",
    "from sklearn.manifold import TSNE\n",
    "import matplotlib.pyplot as plt"
   ]
  },
  {
   "cell_type": "code",
   "execution_count": 2,
   "id": "engaging-satin",
   "metadata": {},
   "outputs": [],
   "source": [
    "src_dir = '/neurospin/dico/data/deep_folding/current/crops/SC/mask/sulcus_based/2mm/'"
   ]
  },
  {
   "cell_type": "markdown",
   "id": "imperial-belfast",
   "metadata": {},
   "source": [
    "### Loading of datasets"
   ]
  },
  {
   "cell_type": "markdown",
   "id": "included-token",
   "metadata": {},
   "source": [
    "#### 1) HCP"
   ]
  },
  {
   "cell_type": "code",
   "execution_count": 3,
   "id": "hundred-identifier",
   "metadata": {},
   "outputs": [],
   "source": [
    "hcp = pd.read_pickle(src_dir + 'Rskeleton.pkl')"
   ]
  },
  {
   "cell_type": "code",
   "execution_count": 4,
   "id": "objective-gambling",
   "metadata": {},
   "outputs": [
    {
     "data": {
      "text/html": [
       "<div>\n",
       "<style scoped>\n",
       "    .dataframe tbody tr th:only-of-type {\n",
       "        vertical-align: middle;\n",
       "    }\n",
       "\n",
       "    .dataframe tbody tr th {\n",
       "        vertical-align: top;\n",
       "    }\n",
       "\n",
       "    .dataframe thead th {\n",
       "        text-align: right;\n",
       "    }\n",
       "</style>\n",
       "<table border=\"1\" class=\"dataframe\">\n",
       "  <thead>\n",
       "    <tr style=\"text-align: right;\">\n",
       "      <th></th>\n",
       "      <th>173536</th>\n",
       "      <th>683256</th>\n",
       "      <th>161832</th>\n",
       "      <th>395958</th>\n",
       "      <th>289555</th>\n",
       "      <th>208630</th>\n",
       "      <th>757764</th>\n",
       "      <th>492754</th>\n",
       "      <th>125222</th>\n",
       "      <th>570243</th>\n",
       "      <th>...</th>\n",
       "      <th>179245</th>\n",
       "      <th>158843</th>\n",
       "      <th>194847</th>\n",
       "      <th>150423</th>\n",
       "      <th>885975</th>\n",
       "      <th>700634</th>\n",
       "      <th>213017</th>\n",
       "      <th>138332</th>\n",
       "      <th>146836</th>\n",
       "      <th>123925</th>\n",
       "    </tr>\n",
       "  </thead>\n",
       "  <tbody>\n",
       "    <tr>\n",
       "      <th>0</th>\n",
       "      <td>[[[[0], [0], [0], [0], [0], [0], [0], [0], [0]...</td>\n",
       "      <td>[[[[0], [0], [0], [0], [0], [0], [0], [0], [0]...</td>\n",
       "      <td>[[[[0], [0], [0], [0], [0], [0], [0], [0], [0]...</td>\n",
       "      <td>[[[[0], [0], [0], [0], [0], [0], [0], [0], [0]...</td>\n",
       "      <td>[[[[0], [0], [0], [0], [0], [0], [0], [0], [0]...</td>\n",
       "      <td>[[[[0], [0], [0], [0], [0], [0], [0], [0], [0]...</td>\n",
       "      <td>[[[[0], [0], [0], [0], [0], [0], [0], [0], [0]...</td>\n",
       "      <td>[[[[0], [0], [0], [0], [0], [0], [0], [0], [0]...</td>\n",
       "      <td>[[[[0], [0], [0], [0], [0], [0], [0], [0], [0]...</td>\n",
       "      <td>[[[[0], [0], [0], [0], [0], [0], [0], [0], [0]...</td>\n",
       "      <td>...</td>\n",
       "      <td>[[[[0], [0], [0], [0], [0], [0], [0], [0], [0]...</td>\n",
       "      <td>[[[[0], [0], [0], [0], [0], [0], [0], [0], [0]...</td>\n",
       "      <td>[[[[0], [0], [0], [0], [0], [0], [0], [0], [0]...</td>\n",
       "      <td>[[[[0], [0], [0], [0], [0], [0], [0], [0], [0]...</td>\n",
       "      <td>[[[[0], [0], [0], [0], [0], [0], [0], [0], [0]...</td>\n",
       "      <td>[[[[0], [0], [0], [0], [0], [0], [0], [0], [0]...</td>\n",
       "      <td>[[[[0], [0], [0], [0], [0], [0], [0], [0], [0]...</td>\n",
       "      <td>[[[[0], [0], [0], [0], [0], [0], [0], [0], [0]...</td>\n",
       "      <td>[[[[0], [0], [0], [0], [0], [0], [0], [0], [0]...</td>\n",
       "      <td>[[[[0], [0], [0], [0], [0], [0], [0], [0], [0]...</td>\n",
       "    </tr>\n",
       "  </tbody>\n",
       "</table>\n",
       "<p>1 rows × 1101 columns</p>\n",
       "</div>"
      ],
      "text/plain": [
       "                                              173536  \\\n",
       "0  [[[[0], [0], [0], [0], [0], [0], [0], [0], [0]...   \n",
       "\n",
       "                                              683256  \\\n",
       "0  [[[[0], [0], [0], [0], [0], [0], [0], [0], [0]...   \n",
       "\n",
       "                                              161832  \\\n",
       "0  [[[[0], [0], [0], [0], [0], [0], [0], [0], [0]...   \n",
       "\n",
       "                                              395958  \\\n",
       "0  [[[[0], [0], [0], [0], [0], [0], [0], [0], [0]...   \n",
       "\n",
       "                                              289555  \\\n",
       "0  [[[[0], [0], [0], [0], [0], [0], [0], [0], [0]...   \n",
       "\n",
       "                                              208630  \\\n",
       "0  [[[[0], [0], [0], [0], [0], [0], [0], [0], [0]...   \n",
       "\n",
       "                                              757764  \\\n",
       "0  [[[[0], [0], [0], [0], [0], [0], [0], [0], [0]...   \n",
       "\n",
       "                                              492754  \\\n",
       "0  [[[[0], [0], [0], [0], [0], [0], [0], [0], [0]...   \n",
       "\n",
       "                                              125222  \\\n",
       "0  [[[[0], [0], [0], [0], [0], [0], [0], [0], [0]...   \n",
       "\n",
       "                                              570243  \\\n",
       "0  [[[[0], [0], [0], [0], [0], [0], [0], [0], [0]...   \n",
       "\n",
       "                         ...                          \\\n",
       "0                        ...                           \n",
       "\n",
       "                                              179245  \\\n",
       "0  [[[[0], [0], [0], [0], [0], [0], [0], [0], [0]...   \n",
       "\n",
       "                                              158843  \\\n",
       "0  [[[[0], [0], [0], [0], [0], [0], [0], [0], [0]...   \n",
       "\n",
       "                                              194847  \\\n",
       "0  [[[[0], [0], [0], [0], [0], [0], [0], [0], [0]...   \n",
       "\n",
       "                                              150423  \\\n",
       "0  [[[[0], [0], [0], [0], [0], [0], [0], [0], [0]...   \n",
       "\n",
       "                                              885975  \\\n",
       "0  [[[[0], [0], [0], [0], [0], [0], [0], [0], [0]...   \n",
       "\n",
       "                                              700634  \\\n",
       "0  [[[[0], [0], [0], [0], [0], [0], [0], [0], [0]...   \n",
       "\n",
       "                                              213017  \\\n",
       "0  [[[[0], [0], [0], [0], [0], [0], [0], [0], [0]...   \n",
       "\n",
       "                                              138332  \\\n",
       "0  [[[[0], [0], [0], [0], [0], [0], [0], [0], [0]...   \n",
       "\n",
       "                                              146836  \\\n",
       "0  [[[[0], [0], [0], [0], [0], [0], [0], [0], [0]...   \n",
       "\n",
       "                                              123925  \n",
       "0  [[[[0], [0], [0], [0], [0], [0], [0], [0], [0]...  \n",
       "\n",
       "[1 rows x 1101 columns]"
      ]
     },
     "execution_count": 4,
     "metadata": {},
     "output_type": "execute_result"
    }
   ],
   "source": [
    "hcp.head()"
   ]
  },
  {
   "cell_type": "code",
   "execution_count": 12,
   "id": "separated-steel",
   "metadata": {},
   "outputs": [
    {
     "data": {
      "text/html": [
       "<div>\n",
       "<style scoped>\n",
       "    .dataframe tbody tr th:only-of-type {\n",
       "        vertical-align: middle;\n",
       "    }\n",
       "\n",
       "    .dataframe tbody tr th {\n",
       "        vertical-align: top;\n",
       "    }\n",
       "\n",
       "    .dataframe thead th {\n",
       "        text-align: right;\n",
       "    }\n",
       "</style>\n",
       "<table border=\"1\" class=\"dataframe\">\n",
       "  <thead>\n",
       "    <tr style=\"text-align: right;\">\n",
       "      <th></th>\n",
       "      <th>0</th>\n",
       "    </tr>\n",
       "  </thead>\n",
       "  <tbody>\n",
       "    <tr>\n",
       "      <th>173536</th>\n",
       "      <td>[[[[0], [0], [0], [0], [0], [0], [0], [0], [0]...</td>\n",
       "    </tr>\n",
       "    <tr>\n",
       "      <th>683256</th>\n",
       "      <td>[[[[0], [0], [0], [0], [0], [0], [0], [0], [0]...</td>\n",
       "    </tr>\n",
       "    <tr>\n",
       "      <th>161832</th>\n",
       "      <td>[[[[0], [0], [0], [0], [0], [0], [0], [0], [0]...</td>\n",
       "    </tr>\n",
       "    <tr>\n",
       "      <th>395958</th>\n",
       "      <td>[[[[0], [0], [0], [0], [0], [0], [0], [0], [0]...</td>\n",
       "    </tr>\n",
       "    <tr>\n",
       "      <th>289555</th>\n",
       "      <td>[[[[0], [0], [0], [0], [0], [0], [0], [0], [0]...</td>\n",
       "    </tr>\n",
       "  </tbody>\n",
       "</table>\n",
       "</div>"
      ],
      "text/plain": [
       "                                                        0\n",
       "173536  [[[[0], [0], [0], [0], [0], [0], [0], [0], [0]...\n",
       "683256  [[[[0], [0], [0], [0], [0], [0], [0], [0], [0]...\n",
       "161832  [[[[0], [0], [0], [0], [0], [0], [0], [0], [0]...\n",
       "395958  [[[[0], [0], [0], [0], [0], [0], [0], [0], [0]...\n",
       "289555  [[[[0], [0], [0], [0], [0], [0], [0], [0], [0]..."
      ]
     },
     "execution_count": 12,
     "metadata": {},
     "output_type": "execute_result"
    }
   ],
   "source": [
    "hcp.T.head()"
   ]
  },
  {
   "cell_type": "markdown",
   "id": "latin-protein",
   "metadata": {},
   "source": [
    "#### 2) One-handed"
   ]
  },
  {
   "cell_type": "code",
   "execution_count": 6,
   "id": "civic-eagle",
   "metadata": {},
   "outputs": [],
   "source": [
    "oh = pd.read_pickle(src_dir + 'one_handed_dataset/R_one_handed_skeleton.pkl')"
   ]
  },
  {
   "cell_type": "code",
   "execution_count": 7,
   "id": "missing-tracker",
   "metadata": {},
   "outputs": [
    {
     "data": {
      "text/html": [
       "<div>\n",
       "<style scoped>\n",
       "    .dataframe tbody tr th:only-of-type {\n",
       "        vertical-align: middle;\n",
       "    }\n",
       "\n",
       "    .dataframe tbody tr th {\n",
       "        vertical-align: top;\n",
       "    }\n",
       "\n",
       "    .dataframe thead th {\n",
       "        text-align: right;\n",
       "    }\n",
       "</style>\n",
       "<table border=\"1\" class=\"dataframe\">\n",
       "  <thead>\n",
       "    <tr style=\"text-align: right;\">\n",
       "      <th></th>\n",
       "      <th>MA12_struct_nf_cropped_skeleton.nii.gz</th>\n",
       "      <th>MA08_struct_nf_cropped_skeleton.nii.gz</th>\n",
       "      <th>PC08_struct_cropped_skeleton.nii.gz</th>\n",
       "      <th>PC17_struct_cropped_skeleton.nii.gz</th>\n",
       "      <th>MA34_struct_nf_cropped_skeleton.nii.gz</th>\n",
       "      <th>PA02_struct_cropped_skeleton.nii.gz</th>\n",
       "      <th>PA32_struct_cropped_skeleton.nii.gz</th>\n",
       "      <th>PC06_struct_cropped_skeleton.nii.gz</th>\n",
       "      <th>PA19_struct_cropped_skeleton.nii.gz</th>\n",
       "      <th>PC10_struct_cropped_skeleton.nii.gz</th>\n",
       "      <th>...</th>\n",
       "      <th>PC15_struct_cropped_skeleton.nii.gz</th>\n",
       "      <th>PC16_struct_cropped_skeleton.nii.gz</th>\n",
       "      <th>PC24_struct_cropped_skeleton.nii.gz</th>\n",
       "      <th>PA03_struct_cropped_skeleton.nii.gz</th>\n",
       "      <th>PA22_struct_cropped_skeleton.nii.gz</th>\n",
       "      <th>PC01_struct_cropped_skeleton.nii.gz</th>\n",
       "      <th>PA06_struct_cropped_skeleton.nii.gz</th>\n",
       "      <th>PA31_struct_cropped_skeleton.nii.gz</th>\n",
       "      <th>PA10_struct_cropped_skeleton.nii.gz</th>\n",
       "      <th>MA26_struct_nf_cropped_skeleton.nii.gz</th>\n",
       "    </tr>\n",
       "  </thead>\n",
       "  <tbody>\n",
       "    <tr>\n",
       "      <th>0</th>\n",
       "      <td>[[[[0], [0], [0], [0], [0], [0], [0], [0], [0]...</td>\n",
       "      <td>[[[[0], [0], [0], [0], [0], [0], [0], [0], [0]...</td>\n",
       "      <td>[[[[0], [0], [0], [0], [0], [0], [0], [0], [0]...</td>\n",
       "      <td>[[[[0], [0], [0], [0], [0], [0], [0], [0], [0]...</td>\n",
       "      <td>[[[[0], [0], [0], [0], [0], [0], [0], [0], [0]...</td>\n",
       "      <td>[[[[0], [0], [0], [0], [0], [0], [0], [0], [0]...</td>\n",
       "      <td>[[[[0], [0], [0], [0], [0], [0], [0], [0], [0]...</td>\n",
       "      <td>[[[[0], [0], [0], [0], [0], [0], [0], [0], [0]...</td>\n",
       "      <td>[[[[0], [0], [0], [0], [0], [0], [0], [0], [0]...</td>\n",
       "      <td>[[[[0], [0], [0], [0], [0], [0], [0], [0], [0]...</td>\n",
       "      <td>...</td>\n",
       "      <td>[[[[0], [0], [0], [0], [0], [0], [0], [0], [0]...</td>\n",
       "      <td>[[[[0], [0], [0], [0], [0], [0], [0], [0], [0]...</td>\n",
       "      <td>[[[[0], [0], [0], [0], [0], [0], [0], [0], [0]...</td>\n",
       "      <td>[[[[0], [0], [0], [0], [0], [0], [0], [0], [0]...</td>\n",
       "      <td>[[[[0], [0], [0], [0], [0], [0], [0], [0], [0]...</td>\n",
       "      <td>[[[[0], [0], [0], [0], [0], [0], [0], [0], [0]...</td>\n",
       "      <td>[[[[0], [0], [0], [0], [0], [0], [0], [0], [0]...</td>\n",
       "      <td>[[[[0], [0], [0], [0], [0], [0], [0], [0], [0]...</td>\n",
       "      <td>[[[[0], [0], [0], [0], [0], [0], [0], [0], [0]...</td>\n",
       "      <td>[[[[0], [0], [0], [0], [0], [0], [0], [0], [0]...</td>\n",
       "    </tr>\n",
       "  </tbody>\n",
       "</table>\n",
       "<p>1 rows × 65 columns</p>\n",
       "</div>"
      ],
      "text/plain": [
       "              MA12_struct_nf_cropped_skeleton.nii.gz  \\\n",
       "0  [[[[0], [0], [0], [0], [0], [0], [0], [0], [0]...   \n",
       "\n",
       "              MA08_struct_nf_cropped_skeleton.nii.gz  \\\n",
       "0  [[[[0], [0], [0], [0], [0], [0], [0], [0], [0]...   \n",
       "\n",
       "                 PC08_struct_cropped_skeleton.nii.gz  \\\n",
       "0  [[[[0], [0], [0], [0], [0], [0], [0], [0], [0]...   \n",
       "\n",
       "                 PC17_struct_cropped_skeleton.nii.gz  \\\n",
       "0  [[[[0], [0], [0], [0], [0], [0], [0], [0], [0]...   \n",
       "\n",
       "              MA34_struct_nf_cropped_skeleton.nii.gz  \\\n",
       "0  [[[[0], [0], [0], [0], [0], [0], [0], [0], [0]...   \n",
       "\n",
       "                 PA02_struct_cropped_skeleton.nii.gz  \\\n",
       "0  [[[[0], [0], [0], [0], [0], [0], [0], [0], [0]...   \n",
       "\n",
       "                 PA32_struct_cropped_skeleton.nii.gz  \\\n",
       "0  [[[[0], [0], [0], [0], [0], [0], [0], [0], [0]...   \n",
       "\n",
       "                 PC06_struct_cropped_skeleton.nii.gz  \\\n",
       "0  [[[[0], [0], [0], [0], [0], [0], [0], [0], [0]...   \n",
       "\n",
       "                 PA19_struct_cropped_skeleton.nii.gz  \\\n",
       "0  [[[[0], [0], [0], [0], [0], [0], [0], [0], [0]...   \n",
       "\n",
       "                 PC10_struct_cropped_skeleton.nii.gz  \\\n",
       "0  [[[[0], [0], [0], [0], [0], [0], [0], [0], [0]...   \n",
       "\n",
       "                         ...                          \\\n",
       "0                        ...                           \n",
       "\n",
       "                 PC15_struct_cropped_skeleton.nii.gz  \\\n",
       "0  [[[[0], [0], [0], [0], [0], [0], [0], [0], [0]...   \n",
       "\n",
       "                 PC16_struct_cropped_skeleton.nii.gz  \\\n",
       "0  [[[[0], [0], [0], [0], [0], [0], [0], [0], [0]...   \n",
       "\n",
       "                 PC24_struct_cropped_skeleton.nii.gz  \\\n",
       "0  [[[[0], [0], [0], [0], [0], [0], [0], [0], [0]...   \n",
       "\n",
       "                 PA03_struct_cropped_skeleton.nii.gz  \\\n",
       "0  [[[[0], [0], [0], [0], [0], [0], [0], [0], [0]...   \n",
       "\n",
       "                 PA22_struct_cropped_skeleton.nii.gz  \\\n",
       "0  [[[[0], [0], [0], [0], [0], [0], [0], [0], [0]...   \n",
       "\n",
       "                 PC01_struct_cropped_skeleton.nii.gz  \\\n",
       "0  [[[[0], [0], [0], [0], [0], [0], [0], [0], [0]...   \n",
       "\n",
       "                 PA06_struct_cropped_skeleton.nii.gz  \\\n",
       "0  [[[[0], [0], [0], [0], [0], [0], [0], [0], [0]...   \n",
       "\n",
       "                 PA31_struct_cropped_skeleton.nii.gz  \\\n",
       "0  [[[[0], [0], [0], [0], [0], [0], [0], [0], [0]...   \n",
       "\n",
       "                 PA10_struct_cropped_skeleton.nii.gz  \\\n",
       "0  [[[[0], [0], [0], [0], [0], [0], [0], [0], [0]...   \n",
       "\n",
       "              MA26_struct_nf_cropped_skeleton.nii.gz  \n",
       "0  [[[[0], [0], [0], [0], [0], [0], [0], [0], [0]...  \n",
       "\n",
       "[1 rows x 65 columns]"
      ]
     },
     "execution_count": 7,
     "metadata": {},
     "output_type": "execute_result"
    }
   ],
   "source": [
    "oh.head()"
   ]
  },
  {
   "cell_type": "markdown",
   "id": "alike-creature",
   "metadata": {},
   "source": [
    "## Verifications"
   ]
  },
  {
   "cell_type": "code",
   "execution_count": 11,
   "id": "behind-command",
   "metadata": {},
   "outputs": [],
   "source": [
    "assert(hcp['173536'][0].shape==oh['MA12_struct_nf_cropped_skeleton.nii.gz'][0].shape)"
   ]
  },
  {
   "cell_type": "markdown",
   "id": "tropical-wheel",
   "metadata": {},
   "source": [
    "#### Projections in a t-SNE space for both datasets"
   ]
  },
  {
   "cell_type": "code",
   "execution_count": 41,
   "id": "competent-latin",
   "metadata": {},
   "outputs": [],
   "source": [
    "hcp_array = np.array([hcp.T[0][k].flatten() for k in range(len(hcp.T))])\n",
    "oh_array = np.array([oh.T[0][k].flatten() for k in range(len(oh.T))])\n",
    "data_array = np.concatenate((hcp_array, oh_array), axis=0)"
   ]
  },
  {
   "cell_type": "code",
   "execution_count": 42,
   "id": "blessed-portuguese",
   "metadata": {},
   "outputs": [
    {
     "data": {
      "text/plain": [
       "(1166, 54405)"
      ]
     },
     "execution_count": 42,
     "metadata": {},
     "output_type": "execute_result"
    }
   ],
   "source": [
    "data_array.shape"
   ]
  },
  {
   "cell_type": "code",
   "execution_count": 48,
   "id": "senior-dispute",
   "metadata": {},
   "outputs": [
    {
     "data": {
      "image/png": "[encoded data removed]",
      "text/plain": [
       "<Figure size 432x288 with 1 Axes>"
      ]
     },
     "metadata": {
      "needs_background": "light"
     },
     "output_type": "display_data"
    }
   ],
   "source": [
    "X_embedded = TSNE(n_components=2).fit_transform(data_array)\n",
    "labels = np.array(['hcp' for k in range(len(hcp_array))] + ['oh' for k in range(len(oh_array))])\n",
    "\n",
    "color_dict = {'hcp': 'blue', 'oh': 'magenta'}\n",
    "arr = X_embedded\n",
    "\n",
    "fig = plt.figure()\n",
    "ax = fig.add_subplot(111)\n",
    "\n",
    "for g in np.unique(labels):\n",
    "    ix = np.where(labels == g)\n",
    "    x = [arr[ix][k][0] for k in range(len(ix[0]))]\n",
    "    y = [arr[ix][k][1] for k in range(len(ix[0]))]\n",
    "    g_lab=g\n",
    "    ax.scatter(x, y, c = color_dict[g], label = g_lab)\n",
    "\n",
    "\n",
    "plt.axis('off')    \n",
    "ax.legend(fontsize=12)\n",
    "ax.legend(bbox_to_anchor=(1.05, 1), loc='upper left', fontsize=12)\n",
    "\n",
    "plt.show()"
   ]
  }
 ],
 "metadata": {
  "kernelspec": {
   "display_name": "Python 3",
   "language": "python",
   "name": "python3"
  },
  "language_info": {
   "codemirror_mode": {
    "name": "ipython",
    "version": 3
   },
   "file_extension": ".py",
   "mimetype": "text/x-python",
   "name": "python",
   "nbconvert_exporter": "python",
   "pygments_lexer": "ipython3",
   "version": "3.6.9"
  }
 },
 "nbformat": 4,
 "nbformat_minor": 5
}
