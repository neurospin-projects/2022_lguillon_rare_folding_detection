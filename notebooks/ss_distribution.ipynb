{
 "cells": [
  {
   "cell_type": "markdown",
   "id": "fewer-surgeon",
   "metadata": {},
   "source": [
    "# Description of SS - benchmarks deletion"
   ]
  },
  {
   "cell_type": "code",
   "execution_count": 1,
   "id": "senior-paragraph",
   "metadata": {},
   "outputs": [],
   "source": [
    "import os\n",
    "import sys\n",
    "import csv\n",
    "import pandas as pd\n",
    "from tqdm import tqdm\n",
    "from soma import aims\n",
    "import numpy as np\n",
    "import matplotlib.pyplot as plt\n",
    "\n",
    "import deep_folding as df\n",
    "from deep_folding.brainvisa.utils.bbox import compute_max_box\n",
    "from deep_folding.brainvisa.utils.sulcus import complete_sulci_name\n",
    "from deep_folding.brainvisa.utils.mask import compute_simple_mask"
   ]
  },
  {
   "cell_type": "markdown",
   "id": "opposite-going",
   "metadata": {},
   "source": [
    "### Simple Surface Size Distribution"
   ]
  },
  {
   "cell_type": "code",
   "execution_count": 2,
   "id": "amateur-cooler",
   "metadata": {},
   "outputs": [],
   "source": [
    "data_dir = '/neurospin/dico/data/bv_databases/human/hcp/hcp'\n",
    "mask_dir = '/neurospin/dico/data/deep_folding/current/mask/1mm/'\n",
    "_DEFAULT_BBOX_DIR = '/neurospin/dico/data/deep_folding/current/bbox/'"
   ]
  },
  {
   "cell_type": "code",
   "execution_count": 3,
   "id": "oriental-essence",
   "metadata": {},
   "outputs": [],
   "source": [
    "subjects_list = '/neurospin/dico/lguillon/distmap/data/test_list.csv'\n",
    "subjects_list = pd.read_csv(subjects_list)\n",
    "subjects_list = list(subjects_list['subjects'])"
   ]
  },
  {
   "cell_type": "code",
   "execution_count": 4,
   "id": "hydraulic-upset",
   "metadata": {},
   "outputs": [
    {
     "name": "stdout",
     "output_type": "stream",
     "text": [
      "only one sulcus: S.C._right\n"
     ]
    }
   ],
   "source": [
    "side = 'R'\n",
    "sub = '100206'\n",
    "sulci_list = complete_sulci_name(['S.C.'], side)\n",
    "mask, bbmin, bbmax = compute_simple_mask(sulci_list, side, mask_dir)"
   ]
  },
  {
   "cell_type": "code",
   "execution_count": 5,
   "id": "alleged-savings",
   "metadata": {},
   "outputs": [],
   "source": [
    "path_to_graph = \"t1mri/BL/default_analysis/folds/3.1/deepcnn_auto\"\n",
    "cpt_arg_1 = 't1mri/default_acquisition/default_analysis/folds/3.1/default_session_auto'\n",
    "cpt_arg_2 = '_default_session_auto.arg'\n",
    "voxel_size_out = (1, 1, 1, 1)\n",
    "ss_size = 200"
   ]
  },
  {
   "cell_type": "code",
   "execution_count": 38,
   "id": "neural-teens",
   "metadata": {
    "scrolled": true
   },
   "outputs": [
    {
     "name": "stdout",
     "output_type": "stream",
     "text": [
      "F.C.L.p._right 1092\n",
      "201\n",
      "201\n",
      "F.C.L.r.retroC.tr._right 472\n",
      "219\n",
      "219\n",
      "{201: 1, 219: 1}\n",
      "F.I.P.Po.C.inf._right 966\n",
      "477\n",
      "477\n",
      "{201: 1, 219: 1, 477: 1}\n",
      "S.Po.C.sup._right 444\n",
      "326\n",
      "326\n",
      "F.I.P.Po.C.inf._right 556\n",
      "424\n",
      "424\n",
      "F.I.P.Po.C.inf._right 328\n",
      "256\n",
      "256\n",
      "F.I.P.Po.C.inf._right 436\n",
      "322\n",
      "322\n",
      "{201: 1, 219: 1, 477: 1, 326: 1, 424: 1, 256: 1, 322: 1}\n",
      "S.C.sylvian._right 303\n",
      "214\n",
      "214\n"
     ]
    },
    {
     "ename": "KeyboardInterrupt",
     "evalue": "",
     "output_type": "error",
     "traceback": [
      "\u001b[0;31m---------------------------------------------------------------------------\u001b[0m",
      "\u001b[0;31mKeyboardInterrupt\u001b[0m                         Traceback (most recent call last)",
      "\u001b[0;32m<ipython-input-38-f3eb364cef7a>\u001b[0m in \u001b[0;36m<module>\u001b[0;34m()\u001b[0m\n\u001b[1;32m     36\u001b[0m                     \u001b[0marr\u001b[0m\u001b[0;34m[\u001b[0m\u001b[0mi\u001b[0m\u001b[0;34m,\u001b[0m\u001b[0mj\u001b[0m\u001b[0;34m,\u001b[0m\u001b[0mk\u001b[0m\u001b[0;34m,\u001b[0m\u001b[0;36m0\u001b[0m\u001b[0;34m]\u001b[0m \u001b[0;34m=\u001b[0m \u001b[0;36m1\u001b[0m\u001b[0;34m\u001b[0m\u001b[0;34m\u001b[0m\u001b[0m\n\u001b[1;32m     37\u001b[0m                 \u001b[0;31m# Suppression of all voxels out of the mask\u001b[0m\u001b[0;34m\u001b[0m\u001b[0;34m\u001b[0m\u001b[0;34m\u001b[0m\u001b[0m\n\u001b[0;32m---> 38\u001b[0;31m                 \u001b[0marr\u001b[0m\u001b[0;34m[\u001b[0m\u001b[0mnp\u001b[0m\u001b[0;34m.\u001b[0m\u001b[0marray\u001b[0m\u001b[0;34m(\u001b[0m\u001b[0mmask\u001b[0m\u001b[0;34m)\u001b[0m\u001b[0;34m<\u001b[0m\u001b[0;36m1\u001b[0m\u001b[0;34m]\u001b[0m\u001b[0;34m=\u001b[0m\u001b[0;36m0\u001b[0m\u001b[0;34m\u001b[0m\u001b[0;34m\u001b[0m\u001b[0m\n\u001b[0m\u001b[1;32m     39\u001b[0m                 \u001b[0;31m# Selection of the ss if a mininum of voxels remains\u001b[0m\u001b[0;34m\u001b[0m\u001b[0;34m\u001b[0m\u001b[0;34m\u001b[0m\u001b[0m\n\u001b[1;32m     40\u001b[0m                 \u001b[0msize\u001b[0m \u001b[0;34m=\u001b[0m \u001b[0mnp\u001b[0m\u001b[0;34m.\u001b[0m\u001b[0mcount_nonzero\u001b[0m\u001b[0;34m(\u001b[0m\u001b[0marr\u001b[0m\u001b[0;34m>\u001b[0m\u001b[0;36m0\u001b[0m\u001b[0;34m)\u001b[0m\u001b[0;34m\u001b[0m\u001b[0;34m\u001b[0m\u001b[0m\n",
      "\u001b[0;31mKeyboardInterrupt\u001b[0m: "
     ]
    }
   ],
   "source": [
    "histo_size = {}\n",
    "\n",
    "for sub in subjects_list:\n",
    "    graph_file = f\"{data_dir}/{sub}/{path_to_graph}/{side}{sub}_deepcnn_auto.arg\"\n",
    "\n",
    "    if os.path.isdir(os.path.join(data_dir, str(sub) + '/')) and os.path.isfile(graph_file):\n",
    "        # surfaces = dict()\n",
    "\n",
    "        graph = aims.read(graph_file)\n",
    "\n",
    "        g_to_icbm_template = aims.GraphManip.getICBM2009cTemplateTransform(graph)\n",
    "        voxel_size_in = graph['voxel_size'][:3]\n",
    "\n",
    "        for v in graph.vertices():\n",
    "            if 'label' in v:\n",
    "                bck_map = v['aims_ss']\n",
    "\n",
    "                # Creation of a volume in ICBM space where to write voxels\n",
    "                # of the simple surface\n",
    "                hdr = aims.StandardReferentials.icbm2009cTemplateHeader()\n",
    "                resampling_ratio = np.array(hdr['voxel_size']) / voxel_size_out\n",
    "                orig_dim = hdr['volume_dimension']\n",
    "                new_dim = list((resampling_ratio * orig_dim).astype(int))\n",
    "\n",
    "                vol = aims.Volume(new_dim, dtype='S16')\n",
    "                vol.copyHeaderFrom(hdr)\n",
    "                vol.header()['voxel_size'] = voxel_size_out\n",
    "                arr = np.asarray(vol)\n",
    "                # Transformation of SS voxels to ICBM space with voxel_size_out\n",
    "                voxels_icbm = np.asarray(\n",
    "                    [g_to_icbm_template.transform(np.array(voxel) * voxel_size_in)\n",
    "                     for voxel in bck_map[0].keys()])\n",
    "                voxels = np.round(np.array(voxels_icbm) / voxel_size_out[:3]).astype(int)\n",
    "                # Writing of the voxels in the created volume\n",
    "                for i,j,k in voxels:\n",
    "                    arr[i,j,k,0] = 1\n",
    "                # Suppression of all voxels out of the mask\n",
    "                arr[np.array(mask)<1]=0\n",
    "                # Selection of the ss if a mininum of voxels remains\n",
    "                size = np.count_nonzero(arr>0)\n",
    "                if np.count_nonzero(arr>0)>ss_size and np.count_nonzero(arr>0)<500:\n",
    "                    print(v['label'], bck_map[0].size())\n",
    "                    print(np.count_nonzero(arr == 1))\n",
    "                    print(np.count_nonzero(arr>0))\n",
    "                    # surfaces[len(surfaces)] = v\n",
    "                    if size in histo_size.keys():\n",
    "                        histo_size[size] += 1\n",
    "                    else: \n",
    "                         histo_size[size] = 1\n",
    "    print(histo_size)"
   ]
  },
  {
   "cell_type": "code",
   "execution_count": 71,
   "id": "white-framework",
   "metadata": {
    "scrolled": true
   },
   "outputs": [
    {
     "name": "stderr",
     "output_type": "stream",
     "text": [
      "100%|██████████| 200/200 [1:47:43<00:00, 32.32s/it]\n"
     ]
    }
   ],
   "source": [
    "histo_size = {}\n",
    "sc_size = {}\n",
    "\n",
    "dict_sub_size = {'<200':[], '200_500': [], '500_700': [], '700_1000':[], '1000_1500': [], \n",
    "                 '1500_2000': [], '>2000': []}\n",
    "\n",
    "for sub in tqdm(subjects_list):\n",
    "    sub_size = []\n",
    "    graph_file = f\"{data_dir}/{sub}/{path_to_graph}/{side}{sub}_deepcnn_auto.arg\"\n",
    "\n",
    "    if os.path.isdir(os.path.join(data_dir, str(sub) + '/')) and os.path.isfile(graph_file):\n",
    "        # surfaces = dict()\n",
    "\n",
    "        graph = aims.read(graph_file)\n",
    "\n",
    "        g_to_icbm_template = aims.GraphManip.getICBM2009cTemplateTransform(graph)\n",
    "        voxel_size_in = graph['voxel_size'][:3]\n",
    "\n",
    "        for v in graph.vertices():\n",
    "            if 'label' in v:\n",
    "                bck_map = v['aims_ss']\n",
    "\n",
    "                # Creation of a volume in ICBM space where to write voxels\n",
    "                # of the simple surface\n",
    "                hdr = aims.StandardReferentials.icbm2009cTemplateHeader()\n",
    "                resampling_ratio = np.array(hdr['voxel_size']) / voxel_size_out\n",
    "                orig_dim = hdr['volume_dimension']\n",
    "                new_dim = list((resampling_ratio * orig_dim).astype(int))\n",
    "\n",
    "                vol = aims.Volume(new_dim, dtype='S16')\n",
    "                vol.copyHeaderFrom(hdr)\n",
    "                vol.header()['voxel_size'] = voxel_size_out\n",
    "                arr = np.asarray(vol)\n",
    "                # Transformation of SS voxels to ICBM space with voxel_size_out\n",
    "                voxels_icbm = np.asarray(\n",
    "                    [g_to_icbm_template.transform(np.array(voxel) * voxel_size_in)\n",
    "                     for voxel in bck_map[0].keys()])\n",
    "                voxels = np.round(np.array(voxels_icbm) / voxel_size_out[:3]).astype(int)\n",
    "                # Writing of the voxels in the created volume\n",
    "                for i,j,k in voxels:\n",
    "                    arr[i,j,k,0] = 1\n",
    "                # Suppression of all voxels out of the mask\n",
    "                arr[np.array(mask)<1]=0\n",
    "                # Selection of the ss if a mininum of voxels remains\n",
    "                size = np.count_nonzero(arr>0)\n",
    "                if size>0:\n",
    "                    #print(size)\n",
    "#                 if np.count_nonzero(arr>0)>ss_size and np.count_nonzero(arr>0)<500:\n",
    "#                     print(v['label'], bck_map[0].size())\n",
    "#                     print(np.count_nonzero(arr == 1))\n",
    "#                     print(np.count_nonzero(arr>0))\n",
    "#                     # surfaces[len(surfaces)] = v\n",
    "                    sub_size.append(size)\n",
    "                    #print(sub_size)\n",
    "                    if size in histo_size.keys():\n",
    "                        #histo_size[size] += 1\n",
    "                        histo_size[size].append(v['label'])\n",
    "                    else:\n",
    "                        #histo_size[size] = 1\n",
    "                        histo_size[size] = [v['label']]\n",
    "        sub_size = np.array(sub_size)\n",
    "        dict_sub_size['<200'].append(np.count_nonzero(sub_size<200))\n",
    "        dict_sub_size['200_500'].append(np.count_nonzero(np.logical_and(sub_size>=200, sub_size<500)))\n",
    "        dict_sub_size['500_700'].append(np.count_nonzero(np.logical_and(sub_size>=500, sub_size<700)))\n",
    "        dict_sub_size['700_1000'].append(np.count_nonzero(np.logical_and(sub_size>=700, sub_size<1000)))\n",
    "        dict_sub_size['1000_1500'].append(np.count_nonzero(np.logical_and(sub_size>=1000, sub_size<1500)))\n",
    "        dict_sub_size['1500_2000'].append(np.count_nonzero(np.logical_and(sub_size>=1500, sub_size<2000)))\n",
    "        dict_sub_size['>2000'].append(np.count_nonzero(sub_size>=2000))"
   ]
  },
  {
   "cell_type": "code",
   "execution_count": 72,
   "id": "mediterranean-factor",
   "metadata": {},
   "outputs": [
    {
     "data": {
      "text/plain": [
       "{1226: ['S.C._right'],\n",
       " 1803: ['S.C._right'],\n",
       " 1771: ['S.C._right'],\n",
       " 708: ['S.C._right'],\n",
       " 2086: ['S.C._right'],\n",
       " 910: ['S.C._right', 'S.C._right', 'S.C._right'],\n",
       " 803: ['F.I.P.Po.C.inf._right'],\n",
       " 925: ['S.C._right', 'S.C._right'],\n",
       " 953: ['S.C._right', 'S.C._right', 'S.C._right'],\n",
       " 1724: ['S.C._right'],\n",
       " 874: ['S.C._right', 'S.C._right'],\n",
       " 1025: ['S.C._right'],\n",
       " 958: ['S.C._right'],\n",
       " 1027: ['S.C._right'],\n",
       " 1044: ['S.C._right'],\n",
       " 1117: ['S.C._right'],\n",
       " 861: ['S.C._right'],\n",
       " 1164: ['S.C._right'],\n",
       " 895: ['S.C._right'],\n",
       " 1789: ['S.C._right'],\n",
       " 706: ['F.I.P.Po.C.inf._right', 'S.C._right'],\n",
       " 778: ['F.I.P.Po.C.inf._right'],\n",
       " 1270: ['S.C._right'],\n",
       " 834: ['S.C._right'],\n",
       " 860: ['S.C._right'],\n",
       " 1827: ['S.C._right'],\n",
       " 1137: ['S.C._right', 'S.C._right'],\n",
       " 851: ['S.C._right'],\n",
       " 1947: ['S.C._right'],\n",
       " 1040: ['S.C._right'],\n",
       " 882: ['S.C._right'],\n",
       " 862: ['S.C._right', 'S.C._right'],\n",
       " 1375: ['S.C._right'],\n",
       " 1171: ['S.C._right'],\n",
       " 760: ['S.C._right'],\n",
       " 2065: ['S.C._right'],\n",
       " 1046: ['S.C._right'],\n",
       " 701: ['S.C._right'],\n",
       " 1012: ['S.C._right'],\n",
       " 984: ['S.C._right'],\n",
       " 1017: ['S.C._right', 'S.C._right'],\n",
       " 740: ['S.C._right', 'F.I.P.Po.C.inf._right'],\n",
       " 919: ['S.C._right'],\n",
       " 756: ['S.Po.C.sup._right'],\n",
       " 1743: ['S.C._right'],\n",
       " 746: ['S.C._right'],\n",
       " 1832: ['S.C._right'],\n",
       " 1815: ['S.C._right'],\n",
       " 738: ['S.C._right'],\n",
       " 1594: ['S.C._right'],\n",
       " 1054: ['S.C._right'],\n",
       " 981: ['S.C._right'],\n",
       " 761: ['S.C._right'],\n",
       " 1194: ['S.C._right', 'F.I.P.Po.C.inf._right'],\n",
       " 967: ['S.C._right'],\n",
       " 1016: ['S.C._right', 'S.C._right'],\n",
       " 1136: ['S.C._right', 'S.C._right'],\n",
       " 952: ['S.C._right', 'F.I.P.Po.C.inf._right'],\n",
       " 733: ['F.I.P.Po.C.inf._right', 'F.I.P.Po.C.inf._right', 'S.C._right'],\n",
       " 717: ['S.C._right'],\n",
       " 930: ['S.C._right'],\n",
       " 1116: ['S.C._right', 'S.C._right'],\n",
       " 1730: ['S.C._right'],\n",
       " 775: ['S.Po.C.sup._right'],\n",
       " 1847: ['S.C._right'],\n",
       " 1087: ['S.C._right'],\n",
       " 1852: ['S.C._right'],\n",
       " 1167: ['S.C._right'],\n",
       " 1346: ['S.C._right'],\n",
       " 1973: ['S.C._right'],\n",
       " 748: ['S.C._right', 'S.C._right'],\n",
       " 1099: ['S.C._right'],\n",
       " 2104: ['S.C._right'],\n",
       " 1976: ['S.C._right'],\n",
       " 1199: ['S.C._right'],\n",
       " 716: ['S.C._right'],\n",
       " 1223: ['S.C._right', 'S.C._right'],\n",
       " 784: ['S.C._right'],\n",
       " 1306: ['S.C._right'],\n",
       " 709: ['F.I.P.Po.C.inf._right', 'F.I.P.Po.C.inf._right'],\n",
       " 821: ['S.Po.C.sup._right'],\n",
       " 955: ['S.C._right', 'S.C._right'],\n",
       " 1029: ['S.C._right'],\n",
       " 1896: ['S.C._right'],\n",
       " 1967: ['S.C._right'],\n",
       " 722: ['F.I.P.Po.C.inf._right'],\n",
       " 1579: ['S.C._right'],\n",
       " 1052: ['S.C._right'],\n",
       " 820: ['S.C._right', 'S.C._right'],\n",
       " 816: ['S.C._right'],\n",
       " 819: ['S.C._right'],\n",
       " 916: ['S.C._right'],\n",
       " 1786: ['S.C._right'],\n",
       " 1854: ['S.C._right'],\n",
       " 1033: ['S.C._right'],\n",
       " 920: ['S.C._right'],\n",
       " 1985: ['S.C._right'],\n",
       " 1129: ['S.C._right'],\n",
       " 813: ['S.C._right'],\n",
       " 1327: ['S.C._right'],\n",
       " 1828: ['S.C._right', 'S.C._right'],\n",
       " 1063: ['S.C._right'],\n",
       " 859: ['S.C._right', 'S.C._right'],\n",
       " 2294: ['S.C._right'],\n",
       " 1946: ['S.C._right'],\n",
       " 1978: ['S.C._right'],\n",
       " 744: ['S.C._right', 'S.C._right'],\n",
       " 969: ['S.C._right'],\n",
       " 1821: ['S.C._right'],\n",
       " 1739: ['S.C._right'],\n",
       " 789: ['S.Po.C.sup._right'],\n",
       " 1785: ['S.C._right'],\n",
       " 869: ['S.C._right', 'S.C._right'],\n",
       " 771: ['S.C._right'],\n",
       " 957: ['S.C._right'],\n",
       " 1251: ['S.C._right'],\n",
       " 1437: ['F.I.P.Po.C.inf._right'],\n",
       " 1384: ['S.C._right'],\n",
       " 827: ['S.Po.C.sup._right'],\n",
       " 1968: ['S.C._right'],\n",
       " 1059: ['S.C._right'],\n",
       " 794: ['S.C._right'],\n",
       " 1271: ['S.C._right'],\n",
       " 734: ['S.C._right'],\n",
       " 1097: ['S.C._right'],\n",
       " 1883: ['S.C._right', 'S.C._right'],\n",
       " 1108: ['S.C._right'],\n",
       " 1131: ['S.C._right'],\n",
       " 1430: ['F.I.P.Po.C.inf._right'],\n",
       " 842: ['S.C._right'],\n",
       " 758: ['S.C._right'],\n",
       " 901: ['S.C._right'],\n",
       " 1471: ['S.C._right'],\n",
       " 1700: ['S.C._right'],\n",
       " 731: ['S.C._right'],\n",
       " 1056: ['S.C._right'],\n",
       " 1756: ['S.C._right'],\n",
       " 1229: ['S.C._right'],\n",
       " 965: ['S.C._right'],\n",
       " 940: ['S.C._right', 'S.C._right'],\n",
       " 972: ['F.I.P.Po.C.inf._right'],\n",
       " 1886: ['S.C._right'],\n",
       " 1294: ['S.C._right'],\n",
       " 1924: ['S.C._right'],\n",
       " 1567: ['S.C._right', 'S.C._right'],\n",
       " 1839: ['S.C._right'],\n",
       " 992: ['S.C._right', 'F.I.P.Po.C.inf._right'],\n",
       " 1793: ['S.C._right'],\n",
       " 1704: ['S.C._right', 'S.C._right'],\n",
       " 1661: ['S.C._right'],\n",
       " 1120: ['S.C._right', 'S.C._right'],\n",
       " 961: ['S.C._right', 'F.I.P.Po.C.inf._right'],\n",
       " 990: ['S.C._right'],\n",
       " 790: ['S.C._right'],\n",
       " 750: ['S.C._right'],\n",
       " 1067: ['S.C._right'],\n",
       " 1026: ['S.C._right'],\n",
       " 791: ['S.C._right'],\n",
       " 892: ['S.C._right'],\n",
       " 894: ['S.C._right'],\n",
       " 1237: ['S.C._right'],\n",
       " 808: ['S.C._right'],\n",
       " 1084: ['S.C._right'],\n",
       " 1494: ['S.C._right'],\n",
       " 1351: ['S.C._right'],\n",
       " 933: ['S.C._right', 'S.C._right'],\n",
       " 977: ['S.C._right'],\n",
       " 757: ['S.C._right'],\n",
       " 721: ['S.C._right'],\n",
       " 909: ['S.C._right'],\n",
       " 1411: ['S.C._right'],\n",
       " 807: ['F.I.P.Po.C.inf._right'],\n",
       " 1186: ['S.C._right'],\n",
       " 828: ['S.C._right'],\n",
       " 798: ['S.C._right'],\n",
       " 1006: ['S.C._right'],\n",
       " 1583: ['S.C._right'],\n",
       " 1717: ['S.C._right'],\n",
       " 1866: ['S.C._right'],\n",
       " 1808: ['S.C._right'],\n",
       " 707: ['F.I.P.Po.C.inf._right'],\n",
       " 1213: ['S.C._right'],\n",
       " 911: ['S.C._right', 'S.C._right'],\n",
       " 2057: ['S.C._right'],\n",
       " 1910: ['S.C._right'],\n",
       " 770: ['F.I.P.Po.C.inf._right'],\n",
       " 928: ['S.C._right'],\n",
       " 942: ['S.C._right'],\n",
       " 783: ['S.C._right'],\n",
       " 881: ['F.I.P.Po.C.inf._right'],\n",
       " 812: ['S.C._right'],\n",
       " 873: ['S.C._right'],\n",
       " 839: ['S.C._right', 'S.C._right'],\n",
       " 1268: ['S.C._right'],\n",
       " 1048: ['S.C._right'],\n",
       " 1119: ['F.I.P.Po.C.inf._right'],\n",
       " 1094: ['S.C._right'],\n",
       " 857: ['F.I.P.Po.C.inf._right'],\n",
       " 1018: ['S.C._right'],\n",
       " 1840: ['S.C._right'],\n",
       " 1619: ['S.C._right'],\n",
       " 793: ['S.C._right'],\n",
       " 840: ['S.C._right'],\n",
       " 1811: ['S.C._right'],\n",
       " 777: ['F.I.P.Po.C.inf._right'],\n",
       " 846: ['S.C._right', 'S.C._right'],\n",
       " 1680: ['S.C._right'],\n",
       " 1881: ['S.C._right'],\n",
       " 844: ['S.C._right'],\n",
       " 1100: ['S.C._right'],\n",
       " 978: ['S.C._right'],\n",
       " 929: ['S.C._right'],\n",
       " 1140: ['S.C._right'],\n",
       " 1751: ['S.C._right', 'S.C._right'],\n",
       " 787: ['S.C._right'],\n",
       " 858: ['S.C._right'],\n",
       " 1428: ['S.C._right'],\n",
       " 833: ['S.C._right'],\n",
       " 1102: ['S.C._right'],\n",
       " 1576: ['S.C._right'],\n",
       " 728: ['S.Po.C.sup._right'],\n",
       " 1285: ['S.C._right'],\n",
       " 1694: ['S.C._right'],\n",
       " 1695: ['S.C._right'],\n",
       " 883: ['F.I.P.Po.C.inf._right'],\n",
       " 995: ['S.C._right'],\n",
       " 1143: ['S.C._right'],\n",
       " 848: ['S.C._right'],\n",
       " 1747: ['S.C._right'],\n",
       " 1118: ['S.C._right'],\n",
       " 1072: ['S.C._right'],\n",
       " 1972: ['S.C._right'],\n",
       " 841: ['F.I.P.Po.C.inf._right'],\n",
       " 1863: ['S.C._right'],\n",
       " 880: ['S.C._right'],\n",
       " 1774: ['S.C._right'],\n",
       " 1153: ['S.C._right'],\n",
       " 1514: ['S.C._right'],\n",
       " 1996: ['S.C._right'],\n",
       " 702: ['S.C._right'],\n",
       " 1071: ['S.C._right'],\n",
       " 705: ['S.Po.C.sup._right'],\n",
       " 897: ['S.C._right'],\n",
       " 1070: ['S.C._right'],\n",
       " 896: ['S.C._right'],\n",
       " 2008: ['S.C._right'],\n",
       " 1802: ['S.C._right'],\n",
       " 906: ['F.I.P.Po.C.inf._right'],\n",
       " 1133: ['S.C._right'],\n",
       " 1132: ['S.C._right'],\n",
       " 889: ['S.C._right'],\n",
       " 970: ['S.C._right'],\n",
       " 838: ['S.C._right'],\n",
       " 1173: ['S.C._right'],\n",
       " 979: ['S.C._right'],\n",
       " 800: ['S.C._right'],\n",
       " 1798: ['S.C._right'],\n",
       " 1728: ['S.C._right'],\n",
       " 868: ['S.C._right'],\n",
       " 1942: ['S.C._right'],\n",
       " 948: ['S.C._right']}"
      ]
     },
     "execution_count": 72,
     "metadata": {},
     "output_type": "execute_result"
    }
   ],
   "source": [
    "{key: histo_size[key] for key in list(np.array(list(histo_size.keys()))[np.array(list(histo_size.keys()))>700]) }"
   ]
  },
  {
   "cell_type": "code",
   "execution_count": 216,
   "id": "religious-trustee",
   "metadata": {
    "scrolled": true
   },
   "outputs": [],
   "source": [
    "sulci = np.unique(list(histo_size.values())[0])\n",
    "dico_sulci = {sulcus:[] for sulcus in sulci}\n",
    "for sulcus in sulci:\n",
    "    for key in histo_size.keys():\n",
    "        if key>=200:\n",
    "            if sulcus in histo_size[key]:\n",
    "                dico_sulci[sulcus].append(key)"
   ]
  },
  {
   "cell_type": "code",
   "execution_count": 217,
   "id": "opponent-noise",
   "metadata": {
    "scrolled": true
   },
   "outputs": [
    {
     "name": "stdout",
     "output_type": "stream",
     "text": [
      "F.C.L.p._right 4\n",
      "F.C.L.r.retroC.tr._right 13\n",
      "F.C.M.post._right 19\n",
      "S.Po.C 229\n",
      "F.I.P._right 10\n",
      "S.C._right 305\n",
      "S.F.sup._right 2\n",
      "S.Pa.int._right 0\n",
      "S.Pe.C 72\n"
     ]
    }
   ],
   "source": [
    "main_dico_sulci = {'S.C._right': dico_sulci['S.C._right'],\n",
    "                   'S.Pe.C': dico_sulci['S.Pe.C.inf._right'] + dico_sulci['S.Pe.C.inter._right'] +\n",
    "                             dico_sulci['S.Pe.C.marginal._right'] + dico_sulci['S.Pe.C.median._right']+ dico_sulci['S.Pe.C.sup._right'],\n",
    "                  'S.Po.C': dico_sulci['S.Po.C.sup._right']+ dico_sulci['F.I.P.Po.C.inf._right']}\n",
    "\n",
    "precentral = ['S.Pe.C.inf._right', 'S.Pe.C.inter._right', 'S.Pe.C.marginal._right', 'S.Pe.C.median._right', 'S.Pe.C.sup._right']\n",
    "flag_pre = False\n",
    "postcentral = ['S.Po.C.sup._right', 'F.I.P.Po.C.inf._right']\n",
    "flag_post = False\n",
    "\n",
    "for sulcus in sulci:\n",
    "    if 'S.Pe' in sulcus:\n",
    "        if flag_pre==False:\n",
    "            print('S.Pe.C', sum([len(dico_sulci[pre]) for pre in precentral]))\n",
    "            flag_pre = True\n",
    "    elif 'Po' in sulcus:\n",
    "        if flag_post==False:\n",
    "            print('S.Po.C', sum([len(dico_sulci[post]) for post in postcentral]))\n",
    "            flag_post = True\n",
    "    else:\n",
    "        print(sulcus, len(dico_sulci[sulcus]))"
   ]
  },
  {
   "cell_type": "code",
   "execution_count": 218,
   "id": "alternate-example",
   "metadata": {},
   "outputs": [],
   "source": [
    "main_dico_sulci = {'S.C._right': dico_sulci['S.C._right'],\n",
    "                   'S.Pe.C': dico_sulci['S.Pe.C.inf._right'] + dico_sulci['S.Pe.C.inter._right'] +\n",
    "                             dico_sulci['S.Pe.C.marginal._right'] + dico_sulci['S.Pe.C.median._right']+ dico_sulci['S.Pe.C.sup._right'],\n",
    "                  'S.Po.C': dico_sulci['S.Po.C.sup._right']+ dico_sulci['F.I.P.Po.C.inf._right']}"
   ]
  },
  {
   "cell_type": "code",
   "execution_count": 221,
   "id": "organized-ferry",
   "metadata": {
    "scrolled": true
   },
   "outputs": [
    {
     "data": {
      "image/png": "[encoded data removed]",
      "text/plain": [
       "<Figure size 432x288 with 1 Axes>"
      ]
     },
     "metadata": {
      "needs_background": "light"
     },
     "output_type": "display_data"
    }
   ],
   "source": [
    "plt.hist([main_dico_sulci['S.C._right'], main_dico_sulci['S.Po.C'], main_dico_sulci['S.Pe.C']], \n",
    "         stacked=True,\n",
    "        label=['S.C._right', 'S.Po.C._right', 'S.Pe.C._right'], bins=20)\n",
    "plt.xticks([0, 200, 500, 700, 1000, 1500, 2000, 2500])\n",
    "plt.xlabel('Simple Surface size')\n",
    "plt.ylabel('Total number of simple surfaces')\n",
    "plt.legend()\n",
    "plt.show()"
   ]
  },
  {
   "cell_type": "code",
   "execution_count": 158,
   "id": "absent-orange",
   "metadata": {
    "scrolled": true
   },
   "outputs": [
    {
     "name": "stderr",
     "output_type": "stream",
     "text": [
      "WARNING:matplotlib.legend: No handles with labels found to put in legend.\n"
     ]
    },
    {
     "data": {
      "text/plain": [
       "<matplotlib.legend.Legend at 0x7fc63bf3feb8>"
      ]
     },
     "execution_count": 158,
     "metadata": {},
     "output_type": "execute_result"
    },
    {
     "data": {
      "image/png": "[encoded data removed]",
      "text/plain": [
       "<Figure size 432x288 with 1 Axes>"
      ]
     },
     "metadata": {
      "needs_background": "light"
     },
     "output_type": "display_data"
    }
   ],
   "source": [
    "plt.hist([dico_sulci[sulcus] for sulcus in dico_sulci.keys()])\n",
    "plt.xticks([0, 200, 500, 700, 1000, 1500, 2000, 2500])\n",
    "plt.legend()"
   ]
  },
  {
   "cell_type": "code",
   "execution_count": 72,
   "id": "future-collectible",
   "metadata": {},
   "outputs": [],
   "source": [
    "with open('dict_ss_size_dstrb.csv', 'w') as csv_file:  \n",
    "    writer = csv.writer(csv_file)\n",
    "    for key, value in histo_size.items():\n",
    "        writer.writerow([key, value])"
   ]
  },
  {
   "cell_type": "code",
   "execution_count": 215,
   "id": "fuzzy-childhood",
   "metadata": {
    "scrolled": true
   },
   "outputs": [
    {
     "data": {
      "image/png": "[encoded data removed]",
      "text/plain": [
       "<Figure size 432x288 with 1 Axes>"
      ]
     },
     "metadata": {
      "needs_background": "light"
     },
     "output_type": "display_data"
    }
   ],
   "source": [
    "import copy\n",
    "histo_size_xo_0 = copy.deepcopy(histo_size)\n",
    "ax1 = plt.subplot()\n",
    "#del histo_size_xo_0[0]\n",
    "plt.hist(list_histo, color='salmon', bins=20)\n",
    "plt.xticks([0, 200, 500, 700, 1000, 1500, 2000, 2500])\n",
    "# ax2 = ax1.twinx()\n",
    "\n",
    "# ax2.errorbar([150, 300, 600, 850, 1250, 1775, 2500],\n",
    "#             [np.mean(dict_sub_size[key]) for key in dict_sub_size.keys()],\n",
    "#             yerr=[np.std(dict_sub_size[key]) for key in dict_sub_size.keys()], marker='o')\n",
    "\n",
    "ax1.set_xlabel('Simple Surface size')\n",
    "ax1.set_ylabel('Total number of simple surfaces')\n",
    "ax2.set_ylabel('Average number of simple surfaces')\n",
    "plt.show()"
   ]
  },
  {
   "cell_type": "code",
   "execution_count": 160,
   "id": "boring-worse",
   "metadata": {},
   "outputs": [],
   "source": [
    "histo_size_glob = {key: histo_size[key] for key in histo_size.keys()}"
   ]
  },
  {
   "cell_type": "code",
   "execution_count": 199,
   "id": "passive-fossil",
   "metadata": {},
   "outputs": [],
   "source": [
    "list_histo = [key for k in range(len(histo_size[key])) for key in histo_size.keys()]"
   ]
  },
  {
   "cell_type": "code",
   "execution_count": 208,
   "id": "together-departure",
   "metadata": {},
   "outputs": [],
   "source": [
    "list_histo = []\n",
    "for key in histo_size.keys():\n",
    "    if key>=200:\n",
    "        for k in range(len(histo_size[key])):\n",
    "            list_histo.append(key)"
   ]
  },
  {
   "cell_type": "code",
   "execution_count": 209,
   "id": "frequent-reasoning",
   "metadata": {},
   "outputs": [
    {
     "data": {
      "text/plain": [
       "744"
      ]
     },
     "execution_count": 209,
     "metadata": {},
     "output_type": "execute_result"
    }
   ],
   "source": [
    "len(list_histo)"
   ]
  },
  {
   "cell_type": "code",
   "execution_count": 152,
   "id": "million-seminar",
   "metadata": {
    "scrolled": true
   },
   "outputs": [
    {
     "data": {
      "image/png": "[encoded data removed]",
      "text/plain": [
       "<Figure size 432x288 with 2 Axes>"
      ]
     },
     "metadata": {
      "needs_background": "light"
     },
     "output_type": "display_data"
    }
   ],
   "source": [
    "import copy\n",
    "histo_size_xo_0 = copy.deepcopy(histo_size)\n",
    "ax1 = plt.subplot()\n",
    "#del histo_size_xo_0[0]\n",
    "ax1.hist(histo_size_xo_0, color='salmon')\n",
    "plt.xticks([0, 200, 500, 700, 1000, 1500, 2000, 2500])\n",
    "ax2 = ax1.twinx()\n",
    "\n",
    "ax2.errorbar([150, 300, 600, 850, 1250, 1775, 2500],\n",
    "            [np.mean(dict_sub_size[key]) for key in dict_sub_size.keys()],\n",
    "            yerr=[np.std(dict_sub_size[key]) for key in dict_sub_size.keys()], marker='o')\n",
    "\n",
    "ax1.set_xlabel('Simple Surface size')\n",
    "ax1.set_ylabel('Total number of simple surfaces')\n",
    "ax2.set_ylabel('Average number of simple surfaces')\n",
    "plt.show()"
   ]
  },
  {
   "cell_type": "code",
   "execution_count": 82,
   "id": "knowing-sheriff",
   "metadata": {},
   "outputs": [
    {
     "data": {
      "image/png": "[encoded data removed]",
      "text/plain": [
       "<Figure size 432x288 with 1 Axes>"
      ]
     },
     "metadata": {
      "needs_background": "light"
     },
     "output_type": "display_data"
    }
   ],
   "source": [
    "import copy\n",
    "histo_size_xo_0 = copy.deepcopy(histo_size)\n",
    "\n",
    "#del histo_size_xo_0[0]\n",
    "plt.hist(histo_size_xo_0, color='salmon')\n",
    "plt.xticks([0, 200, 500, 700, 1000, 1500, 2000, 2500])\n",
    "plt.xlabel('Simple Surface size')\n",
    "plt.ylabel('N')\n",
    "plt.show()"
   ]
  },
  {
   "cell_type": "code",
   "execution_count": null,
   "id": "fabulous-resolution",
   "metadata": {},
   "outputs": [],
   "source": [
    "skel_size = {}\n",
    "\n",
    "for sub in tqdm(subjects_list):\n",
    "    total_vox_sub = 0\n",
    "    \n",
    "    graph_file = f\"{data_dir}/{sub}/{path_to_graph}/{side}{sub}_deepcnn_auto.arg\"\n",
    "\n",
    "    if os.path.isdir(os.path.join(data_dir, str(sub) + '/')) and os.path.isfile(graph_file):\n",
    "        # surfaces = dict()\n",
    "\n",
    "        graph = aims.read(graph_file)\n",
    "\n",
    "        g_to_icbm_template = aims.GraphManip.getICBM2009cTemplateTransform(graph)\n",
    "        voxel_size_in = graph['voxel_size'][:3]\n",
    "\n",
    "        for v in graph.vertices():\n",
    "            if 'label' in v:\n",
    "                bck_map = v['aims_ss']\n",
    "\n",
    "                # Creation of a volume in ICBM space where to write voxels\n",
    "                # of the simple surface\n",
    "                hdr = aims.StandardReferentials.icbm2009cTemplateHeader()\n",
    "                resampling_ratio = np.array(hdr['voxel_size']) / voxel_size_out\n",
    "                orig_dim = hdr['volume_dimension']\n",
    "                new_dim = list((resampling_ratio * orig_dim).astype(int))\n",
    "\n",
    "                vol = aims.Volume(new_dim, dtype='S16')\n",
    "                vol.copyHeaderFrom(hdr)\n",
    "                vol.header()['voxel_size'] = voxel_size_out\n",
    "                arr = np.asarray(vol)\n",
    "                # Transformation of SS voxels to ICBM space with voxel_size_out\n",
    "                voxels_icbm = np.asarray(\n",
    "                    [g_to_icbm_template.transform(np.array(voxel) * voxel_size_in)\n",
    "                     for voxel in bck_map[0].keys()])\n",
    "                voxels = np.round(np.array(voxels_icbm) / voxel_size_out[:3]).astype(int)\n",
    "                # Writing of the voxels in the created volume\n",
    "                for i,j,k in voxels:\n",
    "                    arr[i,j,k,0] = 1\n",
    "                # Suppression of all voxels out of the mask\n",
    "                arr[np.array(mask)<1]=0\n",
    "\n",
    "                size = np.count_nonzero(arr>0)\n",
    "                total_vox_sub += size\n",
    "                \n",
    "        if total_vox_sub in skel_size.keys():\n",
    "            skel_size[total_vox_sub] += 1\n",
    "        else: \n",
    "             skel_size[total_vox_sub] = 1"
   ]
  },
  {
   "cell_type": "code",
   "execution_count": null,
   "id": "preliminary-beverage",
   "metadata": {},
   "outputs": [],
   "source": [
    "import csv\n",
    "with open('dict_skel_size_dstrb.csv', 'w') as csv_file:  \n",
    "    writer = csv.writer(csv_file)\n",
    "    for key, value in skel_size.items():\n",
    "        writer.writerow([key, value])"
   ]
  },
  {
   "cell_type": "code",
   "execution_count": null,
   "id": "particular-scoop",
   "metadata": {},
   "outputs": [],
   "source": [
    "import copy\n",
    "skel_size_xo_0 = copy.deepcopy(skel_size)\n",
    "\n",
    "#del skel_size_xo_0[0]\n",
    "plt.hist(skel_size_xo_0, color='salmon')\n",
    "# plt.xticks([0, 200, 500, 700, 1000, 1500, 2000, 2500])\n",
    "plt.xlabel('Number of skeleton voxels')\n",
    "plt.ylabel('N')\n",
    "plt.show()"
   ]
  }
 ],
 "metadata": {
  "kernelspec": {
   "display_name": "Python 3",
   "language": "python",
   "name": "python3"
  },
  "language_info": {
   "codemirror_mode": {
    "name": "ipython",
    "version": 3
   },
   "file_extension": ".py",
   "mimetype": "text/x-python",
   "name": "python",
   "nbconvert_exporter": "python",
   "pygments_lexer": "ipython3",
   "version": "3.6.9"
  }
 },
 "nbformat": 4,
 "nbformat_minor": 5
}
